{
  "cells": [
    {
      "cell_type": "code",
      "metadata": {
        "tags": [],
        "cell_id": "00000-6fe1a0e7-d195-4694-9788-c6aa4c039364",
        "deepnote_to_be_reexecuted": false,
        "source_hash": "a0d0e4f9",
        "execution_millis": 1440,
        "execution_start": 1615321984180,
        "deepnote_cell_type": "code"
      },
      "source": "import pandas as pd\nfrom sklearn.feature_extraction.text import TfidfVectorizer\nfrom sklearn.metrics.pairwise import cosine_similarity\nfrom sklearn.preprocessing import OneHotEncoder\nfrom itertools import combinations\nfrom math import sqrt\nimport numpy as np",
      "execution_count": 1,
      "outputs": []
    },
    {
      "cell_type": "code",
      "metadata": {
        "tags": [],
        "cell_id": "00002-9400c6ae-7bdc-4597-ae42-4f9d79c4f28e",
        "deepnote_to_be_reexecuted": false,
        "source_hash": "c01c115a",
        "execution_millis": 184,
        "execution_start": 1615321985624,
        "deepnote_cell_type": "code"
      },
      "source": "game_data = pd.read_csv('data/game_info.csv', index_col=0)\nuser_data_train = pd.read_csv('data/user_data_train_no_comments.csv', index_col=0)\nuser_data_test = pd.read_csv('data/user_data_test_no_comments.csv', index_col=0)\nuser_data_validation = pd.read_csv('data/user_data_validation_no_comments.csv', index_col=0)\nuser_data_train_mean_userscore = user_data_train['Userscore'].mean()",
      "execution_count": 2,
      "outputs": []
    },
    {
      "cell_type": "code",
      "metadata": {
        "tags": [],
        "cell_id": "00002-3b562679-9328-4557-bf25-c54d2513b421",
        "deepnote_to_be_reexecuted": false,
        "source_hash": "42e4f3dd",
        "execution_millis": 404,
        "execution_start": 1615321985808,
        "deepnote_cell_type": "code"
      },
      "source": "game_data",
      "execution_count": 3,
      "outputs": [
        {
          "output_type": "execute_result",
          "execution_count": 3,
          "data": {
            "application/vnd.deepnote.dataframe.v2+json": {
              "row_count": 5000,
              "column_count": 8,
              "columns": [
                {
                  "name": "Title",
                  "dtype": "object",
                  "stats": {
                    "unique_count": 3438,
                    "nan_count": 0,
                    "categories": [
                      {
                        "name": "Madden NFL 07",
                        "count": 7
                      },
                      {
                        "name": "Tony Hawk's Pro Skater 3",
                        "count": 6
                      },
                      {
                        "name": "3436 others",
                        "count": 4987
                      }
                    ]
                  }
                },
                {
                  "name": "Year",
                  "dtype": "object",
                  "stats": {
                    "unique_count": 25,
                    "nan_count": 0,
                    "categories": [
                      {
                        "name": "2017",
                        "count": 363
                      },
                      {
                        "name": "2016",
                        "count": 322
                      },
                      {
                        "name": "23 others",
                        "count": 4315
                      }
                    ]
                  }
                },
                {
                  "name": "Publisher",
                  "dtype": "object",
                  "stats": {
                    "unique_count": 1238,
                    "nan_count": 0,
                    "categories": [
                      {
                        "name": "Capcom",
                        "count": 131
                      },
                      {
                        "name": "EASports",
                        "count": 130
                      },
                      {
                        "name": "1236 others",
                        "count": 4739
                      }
                    ]
                  }
                },
                {
                  "name": "Genre",
                  "dtype": "object",
                  "stats": {
                    "unique_count": 927,
                    "nan_count": 0,
                    "categories": [
                      {
                        "name": "Action;Platformer;2D",
                        "count": 142
                      },
                      {
                        "name": "Action;Platformer;Platformer;2D;2D",
                        "count": 110
                      },
                      {
                        "name": "925 others",
                        "count": 4748
                      }
                    ]
                  }
                },
                {
                  "name": "Platform",
                  "dtype": "object",
                  "stats": {
                    "unique_count": 20,
                    "nan_count": 0,
                    "categories": [
                      {
                        "name": "PC",
                        "count": 1381
                      },
                      {
                        "name": "Xbox360",
                        "count": 516
                      },
                      {
                        "name": "18 others",
                        "count": 3103
                      }
                    ]
                  }
                },
                {
                  "name": "Metascore",
                  "dtype": "object",
                  "stats": {
                    "unique_count": 24,
                    "nan_count": 0,
                    "categories": [
                      {
                        "name": "80",
                        "count": 530
                      },
                      {
                        "name": "78",
                        "count": 511
                      },
                      {
                        "name": "22 others",
                        "count": 3959
                      }
                    ]
                  }
                },
                {
                  "name": "Avg_Userscore",
                  "dtype": "object",
                  "stats": {
                    "unique_count": 70,
                    "nan_count": 0,
                    "categories": [
                      {
                        "name": "8.2",
                        "count": 286
                      },
                      {
                        "name": "8.3",
                        "count": 279
                      },
                      {
                        "name": "68 others",
                        "count": 4435
                      }
                    ]
                  }
                },
                {
                  "name": "No_Players",
                  "dtype": "object",
                  "stats": {
                    "unique_count": 52,
                    "nan_count": 7,
                    "categories": [
                      {
                        "name": "not specified",
                        "count": 1550
                      },
                      {
                        "name": "51 others",
                        "count": 3443
                      },
                      {
                        "name": "Missing",
                        "count": 7
                      }
                    ]
                  }
                },
                {
                  "name": "_deepnote_index_column",
                  "dtype": "int64"
                }
              ],
              "rows_top": [
                {
                  "Title": "The Legend of Zelda: Ocarina of Time",
                  "Year": "1998",
                  "Publisher": "Nintendo",
                  "Genre": "Action Adventure;Fantasy",
                  "Platform": "Nintendo64",
                  "Metascore": "99",
                  "Avg_Userscore": "9.1",
                  "No_Players": "1 Player",
                  "_deepnote_index_column": 0
                },
                {
                  "Title": "Tony Hawk's Pro Skater 2",
                  "Year": "2000",
                  "Publisher": "NeversoftEntertainment",
                  "Genre": "Sports;Alternative;Skateboarding",
                  "Platform": "PlayStation",
                  "Metascore": "98",
                  "Avg_Userscore": "7.4",
                  "No_Players": "1-2 ",
                  "_deepnote_index_column": 1
                },
                {
                  "Title": "Grand Theft Auto IV",
                  "Year": "2008",
                  "Publisher": "RockstarNorth",
                  "Genre": "Action Adventure;Modern;Modern;Open-World",
                  "Platform": "PlayStation3",
                  "Metascore": "98",
                  "Avg_Userscore": "7.5",
                  "No_Players": "1 Player",
                  "_deepnote_index_column": 2
                },
                {
                  "Title": "SoulCalibur",
                  "Year": "1999",
                  "Publisher": "Namco",
                  "Genre": "Action;Fighting;3D",
                  "Platform": "Dreamcast",
                  "Metascore": "98",
                  "Avg_Userscore": "8.6",
                  "No_Players": "1-2 ",
                  "_deepnote_index_column": 3
                },
                {
                  "Title": "Grand Theft Auto IV",
                  "Year": "2008",
                  "Publisher": "RockstarNorth",
                  "Genre": "Action Adventure;Modern;Modern;Open-World",
                  "Platform": "Xbox360",
                  "Metascore": "98",
                  "Avg_Userscore": "7.9",
                  "No_Players": "1 Player",
                  "_deepnote_index_column": 4
                },
                {
                  "Title": "Super Mario Galaxy",
                  "Year": "2007",
                  "Publisher": "Nintendo",
                  "Genre": "Action;Platformer;Platformer;3D;3D",
                  "Platform": "Wii",
                  "Metascore": "97",
                  "Avg_Userscore": "9.0",
                  "No_Players": "No Online Multiplayer",
                  "_deepnote_index_column": 5
                },
                {
                  "Title": "Super Mario Galaxy 2",
                  "Year": "2010",
                  "Publisher": "NintendoEADTokyo",
                  "Genre": "Action;Platformer;Platformer;3D;3D",
                  "Platform": "Wii",
                  "Metascore": "97",
                  "Avg_Userscore": "9.1",
                  "No_Players": "No Online Multiplayer",
                  "_deepnote_index_column": 6
                },
                {
                  "Title": "Grand Theft Auto V",
                  "Year": "2014",
                  "Publisher": "RockstarNorth",
                  "Genre": "Action Adventure;Modern;Open-World",
                  "Platform": "XboxOne",
                  "Metascore": "97",
                  "Avg_Userscore": "7.8",
                  "No_Players": "Up to 30 ",
                  "_deepnote_index_column": 7
                },
                {
                  "Title": "Grand Theft Auto V",
                  "Year": "2013",
                  "Publisher": "RockstarNorth",
                  "Genre": "Modern;Action Adventure;Modern;Open-World",
                  "Platform": "PlayStation3",
                  "Metascore": "97",
                  "Avg_Userscore": "8.3",
                  "No_Players": "Up to 16 ",
                  "_deepnote_index_column": 8
                },
                {
                  "Title": "Grand Theft Auto V",
                  "Year": "2013",
                  "Publisher": "RockstarNorth",
                  "Genre": "Modern;Action Adventure;Modern;Open-World",
                  "Platform": "Xbox360",
                  "Metascore": "97",
                  "Avg_Userscore": "8.3",
                  "No_Players": "Up to 16 ",
                  "_deepnote_index_column": 9
                },
                {
                  "Title": "Tony Hawk's Pro Skater 2",
                  "Year": "2000",
                  "Publisher": "Treyarch",
                  "Genre": "Sports;Alternative;Skateboarding",
                  "Platform": "Dreamcast",
                  "Metascore": "97",
                  "Avg_Userscore": "6.2",
                  "No_Players": "not specified",
                  "_deepnote_index_column": 10
                },
                {
                  "Title": "The Legend of Zelda: Breath of the Wild",
                  "Year": "2017",
                  "Publisher": "Nintendo",
                  "Genre": "Action Adventure;Open-World",
                  "Platform": "Switch",
                  "Metascore": "97",
                  "Avg_Userscore": "8.5",
                  "No_Players": "No Online Multiplayer",
                  "_deepnote_index_column": 11
                },
                {
                  "Title": "Tony Hawk's Pro Skater 3",
                  "Year": "2001",
                  "Publisher": "NeversoftEntertainment",
                  "Genre": "Sports;Alternative;Skateboarding",
                  "Platform": "PlayStation2",
                  "Metascore": "97",
                  "Avg_Userscore": "7.4",
                  "No_Players": "1-2 ",
                  "_deepnote_index_column": 12
                },
                {
                  "Title": "Perfect Dark",
                  "Year": "2000",
                  "Publisher": "RareLtd.",
                  "Genre": "Action;Shooter;First-Person;Sci-Fi",
                  "Platform": "Nintendo64",
                  "Metascore": "97",
                  "Avg_Userscore": "8.9",
                  "No_Players": "not specified",
                  "_deepnote_index_column": 13
                },
                {
                  "Title": "Grand Theft Auto V",
                  "Year": "2014",
                  "Publisher": "RockstarNorth",
                  "Genre": "Action Adventure;Modern;Open-World",
                  "Platform": "PlayStation4",
                  "Metascore": "97",
                  "Avg_Userscore": "8.3",
                  "No_Players": "Up to 30 ",
                  "_deepnote_index_column": 14
                },
                {
                  "Title": "Metroid Prime",
                  "Year": "2002",
                  "Publisher": "RetroStudios",
                  "Genre": "Action;Shooter;First-Person;Sci-Fi",
                  "Platform": "GameCube",
                  "Metascore": "97",
                  "Avg_Userscore": "9.2",
                  "No_Players": "1 Player",
                  "_deepnote_index_column": 15
                },
                {
                  "Title": "Grand Theft Auto III",
                  "Year": "2001",
                  "Publisher": "DMADesign",
                  "Genre": "Action Adventure;Modern",
                  "Platform": "PlayStation2",
                  "Metascore": "97",
                  "Avg_Userscore": "8.5",
                  "No_Players": "1 Player",
                  "_deepnote_index_column": 16
                },
                {
                  "Title": "Super Mario Odyssey",
                  "Year": "2017",
                  "Publisher": "Nintendo",
                  "Genre": "Action;Platformer;3D",
                  "Platform": "Switch",
                  "Metascore": "97",
                  "Avg_Userscore": "8.9",
                  "No_Players": "No Online Multiplayer",
                  "_deepnote_index_column": 17
                },
                {
                  "Title": "Halo: Combat Evolved",
                  "Year": "2001",
                  "Publisher": "BungieSoftware",
                  "Genre": "Action;Shooter;First-Person;Sci-Fi",
                  "Platform": "Xbox",
                  "Metascore": "97",
                  "Avg_Userscore": "8.6",
                  "No_Players": "1-4 ",
                  "_deepnote_index_column": 18
                },
                {
                  "Title": "NFL 2K1",
                  "Year": "2000",
                  "Publisher": "VisualConcepts",
                  "Genre": "Sports;Traditional;Football;Sim",
                  "Platform": "Dreamcast",
                  "Metascore": "97",
                  "Avg_Userscore": "6.4",
                  "No_Players": "not specified",
                  "_deepnote_index_column": 19
                },
                {
                  "Title": "Half-Life 2",
                  "Year": "2004",
                  "Publisher": "ValveSoftware",
                  "Genre": "Action;Shooter;Shooter;First-Person;Sci-Fi;Sci-Fi;Arcade",
                  "Platform": "PC",
                  "Metascore": "96",
                  "Avg_Userscore": "9.1",
                  "No_Players": "No Online Multiplayer",
                  "_deepnote_index_column": 20
                },
                {
                  "Title": "Grand Theft Auto V",
                  "Year": "2015",
                  "Publisher": "RockstarNorth",
                  "Genre": "Modern;Action Adventure;Open-World",
                  "Platform": "PC",
                  "Metascore": "96",
                  "Avg_Userscore": "7.7",
                  "No_Players": "Up to 32 ",
                  "_deepnote_index_column": 21
                },
                {
                  "Title": "The Legend of Zelda: Breath of the Wild",
                  "Year": "2017",
                  "Publisher": "Nintendo",
                  "Genre": "Fantasy;Fantasy;Action Adventure;Open-World",
                  "Platform": "WiiU",
                  "Metascore": "96",
                  "Avg_Userscore": "8.2",
                  "No_Players": "No Online Multiplayer",
                  "_deepnote_index_column": 22
                },
                {
                  "Title": "BioShock",
                  "Year": "2007",
                  "Publisher": "IrrationalGames,2KMarin",
                  "Genre": "Action;Shooter;Shooter;First-Person;Sci-Fi;Sci-Fi;Arcade",
                  "Platform": "Xbox360",
                  "Metascore": "96",
                  "Avg_Userscore": "8.9",
                  "No_Players": "No Online Multiplayer",
                  "_deepnote_index_column": 23
                },
                {
                  "Title": "GoldenEye 007",
                  "Year": "1997",
                  "Publisher": "RareLtd.",
                  "Genre": "Action;Shooter;First-Person;Modern",
                  "Platform": "Nintendo64",
                  "Metascore": "96",
                  "Avg_Userscore": "9.1",
                  "No_Players": "1-4 ",
                  "_deepnote_index_column": 24
                },
                {
                  "Title": "Uncharted 2: Among Thieves",
                  "Year": "2009",
                  "Publisher": "NaughtyDog",
                  "Genre": "Action Adventure;Modern;Modern;Linear",
                  "Platform": "PlayStation3",
                  "Metascore": "96",
                  "Avg_Userscore": "8.9",
                  "No_Players": "No Online Multiplayer",
                  "_deepnote_index_column": 25
                },
                {
                  "Title": "Resident Evil 4",
                  "Year": "2005",
                  "Publisher": "Capcom",
                  "Genre": "Action Adventure;Horror",
                  "Platform": "GameCube",
                  "Metascore": "96",
                  "Avg_Userscore": "9.3",
                  "No_Players": "1 Player",
                  "_deepnote_index_column": 26
                },
                {
                  "Title": "The Orange Box",
                  "Year": "2007",
                  "Publisher": "ValveSoftware",
                  "Genre": "Action;Miscellaneous;Shooter;Compilation;First-Person;Sci-Fi",
                  "Platform": "Xbox360",
                  "Metascore": "96",
                  "Avg_Userscore": "8.8",
                  "No_Players": "16  Online",
                  "_deepnote_index_column": 27
                },
                {
                  "Title": "The Orange Box",
                  "Year": "2007",
                  "Publisher": "ValveSoftware",
                  "Genre": "Action;Miscellaneous;Shooter;Compilation;First-Person;Sci-Fi",
                  "Platform": "PC",
                  "Metascore": "96",
                  "Avg_Userscore": "9.2",
                  "No_Players": "16  Online",
                  "_deepnote_index_column": 28
                },
                {
                  "Title": "Batman: Arkham City",
                  "Year": "2011",
                  "Publisher": "RocksteadyStudios",
                  "Genre": "Action Adventure;Fantasy;Fantasy;Open-World",
                  "Platform": "PlayStation3",
                  "Metascore": "96",
                  "Avg_Userscore": "8.7",
                  "No_Players": "No Online Multiplayer",
                  "_deepnote_index_column": 29
                },
                {
                  "Title": "Tekken 3",
                  "Year": "1998",
                  "Publisher": "Namco",
                  "Genre": "Action;Fighting;3D",
                  "Platform": "PlayStation",
                  "Metascore": "96",
                  "Avg_Userscore": "9.1",
                  "No_Players": "1-2 ",
                  "_deepnote_index_column": 30
                },
                {
                  "Title": "Mass Effect 2",
                  "Year": "2010",
                  "Publisher": "BioWare",
                  "Genre": "Role-Playing;Action RPG;Action RPG",
                  "Platform": "Xbox360",
                  "Metascore": "96",
                  "Avg_Userscore": "8.9",
                  "No_Players": "No Online Multiplayer",
                  "_deepnote_index_column": 31
                },
                {
                  "Title": "The Legend of Zelda: Twilight Princess",
                  "Year": "2006",
                  "Publisher": "Nintendo",
                  "Genre": "Action Adventure;Fantasy",
                  "Platform": "GameCube",
                  "Metascore": "96",
                  "Avg_Userscore": "8.9",
                  "No_Players": "1 Player",
                  "_deepnote_index_column": 32
                },
                {
                  "Title": "The Elder Scrolls V: Skyrim",
                  "Year": "2011",
                  "Publisher": "BethesdaGameStudios",
                  "Genre": "Role-Playing;First-Person;First-Person;Western-Style",
                  "Platform": "Xbox360",
                  "Metascore": "96",
                  "Avg_Userscore": "8.5",
                  "No_Players": "No Online Multiplayer",
                  "_deepnote_index_column": 33
                },
                {
                  "Title": "Half-Life",
                  "Year": "1998",
                  "Publisher": "ValveSoftware",
                  "Genre": "Action;Shooter;Shooter;First-Person;Sci-Fi;Sci-Fi;Arcade",
                  "Platform": "PC",
                  "Metascore": "96",
                  "Avg_Userscore": "9.1",
                  "No_Players": "1-32 ",
                  "_deepnote_index_column": 34
                },
                {
                  "Title": "Resident Evil 4",
                  "Year": "2005",
                  "Publisher": "Capcom",
                  "Genre": "Action Adventure;Horror",
                  "Platform": "PlayStation2",
                  "Metascore": "96",
                  "Avg_Userscore": "8.9",
                  "No_Players": "1 Player",
                  "_deepnote_index_column": 35
                },
                {
                  "Title": "The Legend of Zelda: The Wind Waker",
                  "Year": "2003",
                  "Publisher": "Nintendo",
                  "Genre": "Action Adventure;Fantasy",
                  "Platform": "GameCube",
                  "Metascore": "96",
                  "Avg_Userscore": "8.9",
                  "No_Players": "1 Player",
                  "_deepnote_index_column": 36
                },
                {
                  "Title": "Gran Turismo",
                  "Year": "1998",
                  "Publisher": "PolyphonyDigital",
                  "Genre": "Driving;Racing;GT / Street",
                  "Platform": "PlayStation",
                  "Metascore": "96",
                  "Avg_Userscore": "8.6",
                  "No_Players": "1-2 ",
                  "_deepnote_index_column": 37
                },
                {
                  "Title": "BioShock",
                  "Year": "2007",
                  "Publisher": "IrrationalGames,2KMarin",
                  "Genre": "Action;Shooter;Shooter;First-Person;Sci-Fi;Sci-Fi;Arcade",
                  "Platform": "PC",
                  "Metascore": "96",
                  "Avg_Userscore": "8.5",
                  "No_Players": "No Online Multiplayer",
                  "_deepnote_index_column": 38
                },
                {
                  "Title": "Metal Gear Solid 2: Sons of Liberty",
                  "Year": "2001",
                  "Publisher": "KCEJ",
                  "Genre": "Action Adventure;Modern",
                  "Platform": "PlayStation2",
                  "Metascore": "96",
                  "Avg_Userscore": "8.8",
                  "No_Players": "1 Player",
                  "_deepnote_index_column": 39
                },
                {
                  "Title": "Grand Theft Auto Double Pack",
                  "Year": "2003",
                  "Publisher": "RockstarNorth",
                  "Genre": "Miscellaneous;Compilation",
                  "Platform": "Xbox",
                  "Metascore": "96",
                  "Avg_Userscore": "7.9",
                  "No_Players": "1 Player",
                  "_deepnote_index_column": 40
                },
                {
                  "Title": "Baldur's Gate II: Shadows of Amn",
                  "Year": "2000",
                  "Publisher": "BioWare",
                  "Genre": "Role-Playing;PC-style RPG;PC-style RPG;Western-Style",
                  "Platform": "PC",
                  "Metascore": "95",
                  "Avg_Userscore": "9.2",
                  "No_Players": "Up to 6 ",
                  "_deepnote_index_column": 41
                },
                {
                  "Title": "Grand Theft Auto: San Andreas",
                  "Year": "2004",
                  "Publisher": "RockstarNorth",
                  "Genre": "Action Adventure;Modern",
                  "Platform": "PlayStation2",
                  "Metascore": "95",
                  "Avg_Userscore": "9.0",
                  "No_Players": "1-2 ",
                  "_deepnote_index_column": 42
                },
                {
                  "Title": "Grand Theft Auto: Vice City",
                  "Year": "2002",
                  "Publisher": "RockstarNorth",
                  "Genre": "Action Adventure;Modern",
                  "Platform": "PlayStation2",
                  "Metascore": "95",
                  "Avg_Userscore": "8.8",
                  "No_Players": "1 Player",
                  "_deepnote_index_column": 43
                },
                {
                  "Title": "LittleBigPlanet",
                  "Year": "2008",
                  "Publisher": "SCE/WWS,MediaMolecule",
                  "Genre": "Action;Platformer;Platformer;3D;2D;3D",
                  "Platform": "PlayStation3",
                  "Metascore": "95",
                  "Avg_Userscore": "6.8",
                  "No_Players": "Up to 4 ",
                  "_deepnote_index_column": 44
                },
                {
                  "Title": "The Legend of Zelda Collector's Edition",
                  "Year": "2003",
                  "Publisher": "Nintendo",
                  "Genre": "Action Adventure;Fantasy",
                  "Platform": "GameCube",
                  "Metascore": "95",
                  "Avg_Userscore": "9.0",
                  "No_Players": "1 Player",
                  "_deepnote_index_column": 45
                },
                {
                  "Title": "Red Dead Redemption",
                  "Year": "2010",
                  "Publisher": "RockstarSanDiego",
                  "Genre": "Action;Shooter;Third-Person;Historic;Action Adventure;Historic;Historic;Open-World",
                  "Platform": "PlayStation3",
                  "Metascore": "95",
                  "Avg_Userscore": "8.9",
                  "No_Players": "Up to 16 ",
                  "_deepnote_index_column": 46
                },
                {
                  "Title": "Gran Turismo 3: A-Spec",
                  "Year": "2001",
                  "Publisher": "PolyphonyDigital",
                  "Genre": "Driving;Racing;GT / Street",
                  "Platform": "PlayStation2",
                  "Metascore": "95",
                  "Avg_Userscore": "8.4",
                  "No_Players": "1-2 ",
                  "_deepnote_index_column": 47
                },
                {
                  "Title": "Halo 2",
                  "Year": "2004",
                  "Publisher": "BungieSoftware",
                  "Genre": "Action;Shooter;First-Person;Sci-Fi",
                  "Platform": "Xbox",
                  "Metascore": "95",
                  "Avg_Userscore": "8.2",
                  "No_Players": "1-16 ",
                  "_deepnote_index_column": 48
                },
                {
                  "Title": "The Legend of Zelda: A Link to the Past",
                  "Year": "2002",
                  "Publisher": "Capcom",
                  "Genre": "Action Adventure;Fantasy",
                  "Platform": "GameBoyAdvance",
                  "Metascore": "95",
                  "Avg_Userscore": "8.9",
                  "No_Players": "not specified",
                  "_deepnote_index_column": 49
                },
                {
                  "Title": "The Legend of Zelda: Majora's Mask",
                  "Year": "2000",
                  "Publisher": "Nintendo",
                  "Genre": "Action Adventure;Fantasy",
                  "Platform": "Nintendo64",
                  "Metascore": "95",
                  "Avg_Userscore": "9.1",
                  "No_Players": "1 Player",
                  "_deepnote_index_column": 50
                },
                {
                  "Title": "The Last of Us",
                  "Year": "2013",
                  "Publisher": "NaughtyDog",
                  "Genre": "Modern;Adventure;General;Action Adventure;General;Modern",
                  "Platform": "PlayStation3",
                  "Metascore": "95",
                  "Avg_Userscore": "9.2",
                  "No_Players": "Up to 8 ",
                  "_deepnote_index_column": 51
                },
                {
                  "Title": "The Legend of Zelda: Twilight Princess",
                  "Year": "2006",
                  "Publisher": "Nintendo",
                  "Genre": "Action Adventure;Fantasy;General;Fantasy;Open-World",
                  "Platform": "Wii",
                  "Metascore": "95",
                  "Avg_Userscore": "9.0",
                  "No_Players": "No Online Multiplayer",
                  "_deepnote_index_column": 52
                },
                {
                  "Title": "Madden NFL 2003",
                  "Year": "2002",
                  "Publisher": "EASports",
                  "Genre": "Sports;Traditional;Football;Sim",
                  "Platform": "PlayStation2",
                  "Metascore": "95",
                  "Avg_Userscore": "7.4",
                  "No_Players": "1-2 ",
                  "_deepnote_index_column": 53
                },
                {
                  "Title": "Tony Hawk's Pro Skater 2",
                  "Year": "2001",
                  "Publisher": "VicariousVisions",
                  "Genre": "Sports;Alternative;Skateboarding",
                  "Platform": "GameBoyAdvance",
                  "Metascore": "95",
                  "Avg_Userscore": "7.0",
                  "No_Players": "not specified",
                  "_deepnote_index_column": 54
                },
                {
                  "Title": "The Last of Us Remastered",
                  "Year": "2014",
                  "Publisher": "NaughtyDog",
                  "Genre": "Action Adventure;General;Modern",
                  "Platform": "PlayStation4",
                  "Metascore": "95",
                  "Avg_Userscore": "9.1",
                  "No_Players": "Up to 8 ",
                  "_deepnote_index_column": 55
                },
                {
                  "Title": "Portal 2",
                  "Year": "2011",
                  "Publisher": "ValveSoftware",
                  "Genre": "Action;Shooter;Shooter;First-Person;Sci-Fi;Sci-Fi;Arcade",
                  "Platform": "PC",
                  "Metascore": "95",
                  "Avg_Userscore": "9.0",
                  "No_Players": "not specified",
                  "_deepnote_index_column": 56
                },
                {
                  "Title": "Red Dead Redemption",
                  "Year": "2010",
                  "Publisher": "RockstarSanDiego",
                  "Genre": "Action;Action Adventure;Shooter;Historic;Historic;Open-World;Third-Person;Historic",
                  "Platform": "Xbox360",
                  "Metascore": "95",
                  "Avg_Userscore": "9.0",
                  "No_Players": "Up to 16 ",
                  "_deepnote_index_column": 57
                },
                {
                  "Title": "Portal 2",
                  "Year": "2011",
                  "Publisher": "ValveSoftware",
                  "Genre": "Action;Shooter;Shooter;First-Person;Sci-Fi;Sci-Fi;Arcade",
                  "Platform": "Xbox360",
                  "Metascore": "95",
                  "Avg_Userscore": "8.7",
                  "No_Players": "not specified",
                  "_deepnote_index_column": 58
                },
                {
                  "Title": "Metal Gear Solid V: The Phantom Pain",
                  "Year": "2015",
                  "Publisher": "KojimaProductions,MobyDickStudio",
                  "Genre": "Modern;Modern;Action Adventure;Open-World",
                  "Platform": "XboxOne",
                  "Metascore": "95",
                  "Avg_Userscore": "7.4",
                  "No_Players": "Up to 16 ",
                  "_deepnote_index_column": 59
                },
                {
                  "Title": "Portal 2",
                  "Year": "2011",
                  "Publisher": "ValveSoftware",
                  "Genre": "Action;Shooter;Shooter;First-Person;Sci-Fi;Sci-Fi;Arcade",
                  "Platform": "PlayStation3",
                  "Metascore": "95",
                  "Avg_Userscore": "8.5",
                  "No_Players": "not specified",
                  "_deepnote_index_column": 60
                },
                {
                  "Title": "World of Goo",
                  "Year": "2008",
                  "Publisher": "2DBoy",
                  "Genre": "Miscellaneous;Puzzle;Action;Puzzle;General;Puzzle;General",
                  "Platform": "Wii",
                  "Metascore": "94",
                  "Avg_Userscore": "8.7",
                  "No_Players": "1-4 ",
                  "_deepnote_index_column": 61
                }
              ],
              "rows_bottom": [
                {
                  "Title": "James Bond 007: NightFire",
                  "Year": "2002",
                  "Publisher": "EurocomEntertainmentSoftware",
                  "Genre": "Action;Shooter;First-Person;Modern",
                  "Platform": "PlayStation2",
                  "Metascore": "77",
                  "Avg_Userscore": "8.5",
                  "No_Players": "1-4 ",
                  "_deepnote_index_column": 4937
                },
                {
                  "Title": "Harry Potter and the Chamber of Secrets",
                  "Year": "2002",
                  "Publisher": "EurocomEntertainmentSoftware",
                  "Genre": "Action Adventure;Fantasy",
                  "Platform": "Xbox",
                  "Metascore": "77",
                  "Avg_Userscore": "7.4",
                  "No_Players": "1 Player",
                  "_deepnote_index_column": 4938
                },
                {
                  "Title": "Operation Flashpoint: Resistance",
                  "Year": "2002",
                  "Publisher": "BohemiaInteractive",
                  "Genre": "Action;Shooter;Shooter;First-Person;Tactical;Modern;Modern",
                  "Platform": "PC",
                  "Metascore": "77",
                  "Avg_Userscore": "8.9",
                  "No_Players": "1-64 ",
                  "_deepnote_index_column": 4939
                },
                {
                  "Title": "World Tour Soccer 2002",
                  "Year": "2002",
                  "Publisher": "SCEELondonStudio",
                  "Genre": "Sports;Traditional;Soccer;Sim",
                  "Platform": "PlayStation2",
                  "Metascore": "77",
                  "Avg_Userscore": "7.5",
                  "No_Players": "not specified",
                  "_deepnote_index_column": 4940
                },
                {
                  "Title": "Etherlords",
                  "Year": "2001",
                  "Publisher": "NivalInteractive",
                  "Genre": "Strategy;Turn-Based;General;General",
                  "Platform": "PC",
                  "Metascore": "77",
                  "Avg_Userscore": "7.6",
                  "No_Players": "1-2 ",
                  "_deepnote_index_column": 4941
                },
                {
                  "Title": "FIFA Soccer 2002",
                  "Year": "2001",
                  "Publisher": "EASports",
                  "Genre": "Sports;Traditional;Team;Soccer;Sim;Sim",
                  "Platform": "PC",
                  "Metascore": "77",
                  "Avg_Userscore": "7.7",
                  "No_Players": "1-8 ",
                  "_deepnote_index_column": 4942
                },
                {
                  "Title": "Alone in the Dark: The New Nightmare",
                  "Year": "2001",
                  "Publisher": "Darkworks",
                  "Genre": "Action Adventure;Horror",
                  "Platform": "PlayStation",
                  "Metascore": "77",
                  "Avg_Userscore": "8.2",
                  "No_Players": "1 Player",
                  "_deepnote_index_column": 4943
                },
                {
                  "Title": "Tenchu 2: Birth of the Stealth Assassins",
                  "Year": "2000",
                  "Publisher": "Acquire",
                  "Genre": "Action Adventure;Fantasy",
                  "Platform": "PlayStation",
                  "Metascore": "77",
                  "Avg_Userscore": "8.7",
                  "No_Players": "1 Player",
                  "_deepnote_index_column": 4944
                },
                {
                  "Title": "Army Men: Air Combat",
                  "Year": "2000",
                  "Publisher": "3DO",
                  "Genre": "Action;General",
                  "Platform": "Nintendo64",
                  "Metascore": "77",
                  "Avg_Userscore": "7.8",
                  "No_Players": "not specified",
                  "_deepnote_index_column": 4945
                },
                {
                  "Title": "Pokemon Snap",
                  "Year": "1999",
                  "Publisher": "Hal",
                  "Genre": "Action;General",
                  "Platform": "Nintendo64",
                  "Metascore": "77",
                  "Avg_Userscore": "7.4",
                  "No_Players": "1 Player",
                  "_deepnote_index_column": 4946
                },
                {
                  "Title": "Banjo-Kazooie",
                  "Year": "2008",
                  "Publisher": "4JStudios",
                  "Genre": "Action;Platformer;Platformer;3D;3D",
                  "Platform": "Xbox360",
                  "Metascore": "77",
                  "Avg_Userscore": "8.2",
                  "No_Players": "not specified",
                  "_deepnote_index_column": 4947
                },
                {
                  "Title": "Virginia",
                  "Year": "2016",
                  "Publisher": "505Games",
                  "Genre": "Adventure;3D;First-Person",
                  "Platform": "PlayStation4",
                  "Metascore": "77",
                  "Avg_Userscore": "5.9",
                  "No_Players": "not specified",
                  "_deepnote_index_column": 4948
                },
                {
                  "Title": "FIFA Soccer 09",
                  "Year": "2008",
                  "Publisher": "EACanada",
                  "Genre": "Sports;Traditional;Team;Soccer;Sim;Sim",
                  "Platform": "PC",
                  "Metascore": "77",
                  "Avg_Userscore": "6.8",
                  "No_Players": "not specified",
                  "_deepnote_index_column": 4949
                },
                {
                  "Title": "FIFA World Cup: Germany 2006",
                  "Year": "2006",
                  "Publisher": "EACanada",
                  "Genre": "Sports;Traditional;Team;Soccer;Sim;Sim",
                  "Platform": "PC",
                  "Metascore": "77",
                  "Avg_Userscore": "7.6",
                  "No_Players": "2  Online",
                  "_deepnote_index_column": 4950
                },
                {
                  "Title": "Giana Sisters: Twisted Dreams",
                  "Year": "2012",
                  "Publisher": "BlackForestGames",
                  "Genre": "Action;Platformer;Platformer;2D;2D",
                  "Platform": "PC",
                  "Metascore": "77",
                  "Avg_Userscore": "7.8",
                  "No_Players": "not specified",
                  "_deepnote_index_column": 4951
                },
                {
                  "Title": "Alien Swarm",
                  "Year": "2010",
                  "Publisher": "ValveSoftware",
                  "Genre": "Action;Shooter;Shooter;Third-Person;Tactical;Modern",
                  "Platform": "PC",
                  "Metascore": "77",
                  "Avg_Userscore": "8.2",
                  "No_Players": "not specified",
                  "_deepnote_index_column": 4952
                },
                {
                  "Title": "Art Style: BASE 10",
                  "Year": "2009",
                  "Publisher": "SkipLtd.",
                  "Genre": "Miscellaneous;Puzzle;Action;Puzzle;Puzzle;Action",
                  "Platform": "DS",
                  "Metascore": "77",
                  "Avg_Userscore": "tbd",
                  "No_Players": "1-2 ",
                  "_deepnote_index_column": 4953
                },
                {
                  "Title": "Rune Factory 2: A Fantasy Harvest Moon",
                  "Year": "2008",
                  "Publisher": "Neverland",
                  "Genre": "Role-Playing;General;General",
                  "Platform": "DS",
                  "Metascore": "77",
                  "Avg_Userscore": "8.0",
                  "No_Players": "4  Online",
                  "_deepnote_index_column": 4954
                },
                {
                  "Title": "FIFA World Cup: Germany 2006",
                  "Year": "2006",
                  "Publisher": "EACanada",
                  "Genre": "Sports;Traditional;Soccer;Sim",
                  "Platform": "PlayStation2",
                  "Metascore": "77",
                  "Avg_Userscore": "8.1",
                  "No_Players": "2  Online",
                  "_deepnote_index_column": 4955
                },
                {
                  "Title": "Soldiers: Heroes of World War II",
                  "Year": "2004",
                  "Publisher": "BestWay",
                  "Genre": "Strategy;Real-Time;Military;General;Military",
                  "Platform": "PC",
                  "Metascore": "77",
                  "Avg_Userscore": "8.6",
                  "No_Players": "1-4 ",
                  "_deepnote_index_column": 4956
                },
                {
                  "Title": "Shadows of the Damned",
                  "Year": "2011",
                  "Publisher": "GrasshopperManufacture",
                  "Genre": "Action Adventure;Horror;Horror;Survival",
                  "Platform": "PlayStation3",
                  "Metascore": "77",
                  "Avg_Userscore": "8.2",
                  "No_Players": "No Online Multiplayer",
                  "_deepnote_index_column": 4957
                },
                {
                  "Title": "The Elder Scrolls Online: Morrowind",
                  "Year": "2017",
                  "Publisher": "ZeniMaxMedia",
                  "Genre": "Role-Playing;Massively Multiplayer",
                  "Platform": "PC",
                  "Metascore": "77",
                  "Avg_Userscore": "6.4",
                  "No_Players": "not specified",
                  "_deepnote_index_column": 4958
                },
                {
                  "Title": "The Godfather",
                  "Year": "2006",
                  "Publisher": "ElectronicArts",
                  "Genre": "Action Adventure;Historic",
                  "Platform": "Xbox",
                  "Metascore": "77",
                  "Avg_Userscore": "8.5",
                  "No_Players": "1 Player",
                  "_deepnote_index_column": 4959
                },
                {
                  "Title": "Bloodstained: Curse of the Moon",
                  "Year": "2018",
                  "Publisher": "IntiCreates",
                  "Genre": "Action Adventure;Open-World",
                  "Platform": "PC",
                  "Metascore": "77",
                  "Avg_Userscore": "7.1",
                  "No_Players": "No Online Multiplayer",
                  "_deepnote_index_column": 4960
                },
                {
                  "Title": "Mega Man Legacy Collection 2",
                  "Year": "2018",
                  "Publisher": "Capcom",
                  "Genre": "Miscellaneous;Compilation",
                  "Platform": "Switch",
                  "Metascore": "77",
                  "Avg_Userscore": "6.3",
                  "No_Players": "No Online Multiplayer",
                  "_deepnote_index_column": 4961
                },
                {
                  "Title": "Figment",
                  "Year": "2017",
                  "Publisher": "BedtimeDigitalGames",
                  "Genre": "Action;General",
                  "Platform": "PC",
                  "Metascore": "77",
                  "Avg_Userscore": "7.2",
                  "No_Players": "No Online Multiplayer",
                  "_deepnote_index_column": 4962
                },
                {
                  "Title": "Project Zero 2: Wii Edition",
                  "Year": "2012",
                  "Publisher": "KoeiTecmoGames",
                  "Genre": "Action Adventure;Horror",
                  "Platform": "Wii",
                  "Metascore": "77",
                  "Avg_Userscore": "8.8",
                  "No_Players": "1 Player",
                  "_deepnote_index_column": 4963
                },
                {
                  "Title": "Dragon Quest Heroes: The World Tree's Woe and the Blight Below",
                  "Year": "2015",
                  "Publisher": "OmegaForce",
                  "Genre": "2D;Action;Beat-'Em-Up;3D",
                  "Platform": "PlayStation4",
                  "Metascore": "77",
                  "Avg_Userscore": "7.6",
                  "No_Players": "not specified",
                  "_deepnote_index_column": 4964
                },
                {
                  "Title": "The Elder Scrolls Online: Tamriel Unlimited",
                  "Year": "2015",
                  "Publisher": "ZeniMaxMedia",
                  "Genre": "First-Person;First-Person;Massively Multiplayer Online;Fantasy;Role-Playing;Massively Multiplayer",
                  "Platform": "XboxOne",
                  "Metascore": "77",
                  "Avg_Userscore": "8.4",
                  "No_Players": "Massively Multiplayer",
                  "_deepnote_index_column": 4965
                },
                {
                  "Title": "Inazuma Eleven Go: Chrono Stones: Thunderflash",
                  "Year": "2015",
                  "Publisher": "Level5",
                  "Genre": "Sports;Soccer;Arcade;Team",
                  "Platform": "3DS",
                  "Metascore": "77",
                  "Avg_Userscore": "7.9",
                  "No_Players": "not specified",
                  "_deepnote_index_column": 4966
                },
                {
                  "Title": "LEGO City Undercover",
                  "Year": "2017",
                  "Publisher": "TTGames",
                  "Genre": "Action Adventure;Open-World",
                  "Platform": "XboxOne",
                  "Metascore": "77",
                  "Avg_Userscore": "7.0",
                  "No_Players": "not specified",
                  "_deepnote_index_column": 4967
                },
                {
                  "Title": "Baldur's Gate: Siege of Dragonspear",
                  "Year": "2016",
                  "Publisher": "OverhaulGames",
                  "Genre": "Role-Playing;Western-Style",
                  "Platform": "PC",
                  "Metascore": "77",
                  "Avg_Userscore": "3.6",
                  "No_Players": "not specified",
                  "_deepnote_index_column": 4968
                },
                {
                  "Title": "EA Sports UFC 3",
                  "Year": "2018",
                  "Publisher": "EASports",
                  "Genre": "Sports;Individual;Combat;Boxing / Martial Arts",
                  "Platform": "XboxOne",
                  "Metascore": "77",
                  "Avg_Userscore": "5.5",
                  "No_Players": "2 ",
                  "_deepnote_index_column": 4969
                },
                {
                  "Title": "Gears of War 3: RAAM's Shadow",
                  "Year": "2011",
                  "Publisher": "EpicGames",
                  "Genre": "Action;Shooter;Shooter;Third-Person;Sci-Fi;Sci-Fi;Arcade",
                  "Platform": "Xbox360",
                  "Metascore": "77",
                  "Avg_Userscore": "7.8",
                  "No_Players": "not specified",
                  "_deepnote_index_column": 4970
                },
                {
                  "Title": "Crysis 3",
                  "Year": "2013",
                  "Publisher": "Crytek",
                  "Genre": "Action;Shooter;Shooter;First-Person;Sci-Fi;Sci-Fi;Arcade",
                  "Platform": "PlayStation3",
                  "Metascore": "77",
                  "Avg_Userscore": "6.4",
                  "No_Players": "not specified",
                  "_deepnote_index_column": 4971
                },
                {
                  "Title": "Mega Man Zero 3",
                  "Year": "2004",
                  "Publisher": "Inti",
                  "Genre": "Action;Platformer;2D",
                  "Platform": "GameBoyAdvance",
                  "Metascore": "77",
                  "Avg_Userscore": "8.2",
                  "No_Players": "1-2 ",
                  "_deepnote_index_column": 4972
                },
                {
                  "Title": "Final Fantasy XV: Royal Edition",
                  "Year": "2018",
                  "Publisher": "SquareEnix",
                  "Genre": "Role-Playing;Action RPG",
                  "Platform": "PlayStation4",
                  "Metascore": "77",
                  "Avg_Userscore": "7.2",
                  "No_Players": "Up to 4 ",
                  "_deepnote_index_column": 4973
                },
                {
                  "Title": "Kerbal Space Program",
                  "Year": "2016",
                  "Publisher": "FlyingTigerDevelopment",
                  "Genre": "Simulation;Space;Combat",
                  "Platform": "PlayStation4",
                  "Metascore": "77",
                  "Avg_Userscore": "6.2",
                  "No_Players": "not specified",
                  "_deepnote_index_column": 4974
                },
                {
                  "Title": "Men of War: Assault Squad",
                  "Year": "2011",
                  "Publisher": "THQ,1C,1CCompany",
                  "Genre": "Strategy;Real-Time;Military;Military;Tactics",
                  "Platform": "PC",
                  "Metascore": "77",
                  "Avg_Userscore": "8.2",
                  "No_Players": "not specified",
                  "_deepnote_index_column": 4975
                },
                {
                  "Title": "Singularity",
                  "Year": "2010",
                  "Publisher": "RavenSoftware",
                  "Genre": "Action;Shooter;Shooter;First-Person;Sci-Fi;Sci-Fi;Arcade",
                  "Platform": "PlayStation3",
                  "Metascore": "77",
                  "Avg_Userscore": "7.7",
                  "No_Players": "1 Player",
                  "_deepnote_index_column": 4976
                },
                {
                  "Title": "Command & Conquer 3: Kane's Wrath",
                  "Year": "2008",
                  "Publisher": "EALA",
                  "Genre": "Strategy;Real-Time;Sci-Fi;Sci-Fi;General",
                  "Platform": "PC",
                  "Metascore": "77",
                  "Avg_Userscore": "8.2",
                  "No_Players": "8  Online",
                  "_deepnote_index_column": 4977
                },
                {
                  "Title": "ATV Offroad Fury 4",
                  "Year": "2006",
                  "Publisher": "ClimaxGroup",
                  "Genre": "Driving;Racing;Rally / Offroad",
                  "Platform": "PlayStation2",
                  "Metascore": "77",
                  "Avg_Userscore": "8.5",
                  "No_Players": "4  Online",
                  "_deepnote_index_column": 4978
                },
                {
                  "Title": "FIFA World Cup: Germany 2006",
                  "Year": "2006",
                  "Publisher": "EACanada",
                  "Genre": "Sports;Traditional;Soccer;Sim",
                  "Platform": "Xbox",
                  "Metascore": "77",
                  "Avg_Userscore": "8.4",
                  "No_Players": "2  Online",
                  "_deepnote_index_column": 4979
                },
                {
                  "Title": "Car Battler Joe",
                  "Year": "2002",
                  "Publisher": "Ancient",
                  "Genre": "Role-Playing;Console-style RPG",
                  "Platform": "GameBoyAdvance",
                  "Metascore": "77",
                  "Avg_Userscore": "tbd",
                  "No_Players": "1-4 ",
                  "_deepnote_index_column": 4980
                },
                {
                  "Title": "Life is Strange: Before the Storm",
                  "Year": "2017",
                  "Publisher": "DeckNineGames",
                  "Genre": "Action Adventure;General",
                  "Platform": "PlayStation4",
                  "Metascore": "77",
                  "Avg_Userscore": "7.9",
                  "No_Players": "No Online Multiplayer",
                  "_deepnote_index_column": 4981
                },
                {
                  "Title": "Tales of Symphonia Chronicles",
                  "Year": "2014",
                  "Publisher": "BandaiNamcoGames",
                  "Genre": "Compilation;Miscellaneous;Compilation",
                  "Platform": "PlayStation3",
                  "Metascore": "77",
                  "Avg_Userscore": "8.4",
                  "No_Players": "No Online Multiplayer",
                  "_deepnote_index_column": 4982
                },
                {
                  "Title": "Killzone: Liberation",
                  "Year": "2006",
                  "Publisher": "Guerrilla",
                  "Genre": "Action;Shooter;Shooter;Third-Person;Sci-Fi;Sci-Fi;Arcade",
                  "Platform": "PSP",
                  "Metascore": "77",
                  "Avg_Userscore": "8.2",
                  "No_Players": "1-6 ",
                  "_deepnote_index_column": 4983
                },
                {
                  "Title": "The Escapists 2",
                  "Year": "2017",
                  "Publisher": "MouldyToofStudios",
                  "Genre": "Action;General",
                  "Platform": "XboxOne",
                  "Metascore": "77",
                  "Avg_Userscore": "5.8",
                  "No_Players": "not specified",
                  "_deepnote_index_column": 4984
                },
                {
                  "Title": "Arena Wars",
                  "Year": "2004",
                  "Publisher": "AscaronEntertainmentGmbH,AscaronEntertainment",
                  "Genre": "Strategy;Real-Time;Modern;General;Modern",
                  "Platform": "PC",
                  "Metascore": "77",
                  "Avg_Userscore": "7.7",
                  "No_Players": "1-8 ",
                  "_deepnote_index_column": 4985
                },
                {
                  "Title": "Little Red Lie",
                  "Year": "2018",
                  "Publisher": "WZOGI",
                  "Genre": "Adventure;General",
                  "Platform": "PlayStation4",
                  "Metascore": "77",
                  "Avg_Userscore": "4.2",
                  "No_Players": "not specified",
                  "_deepnote_index_column": 4986
                },
                {
                  "Title": "Naruto Shippuden: Ultimate Ninja Storm 4 - Road to Boruto Expansion",
                  "Year": "2017",
                  "Publisher": "CyberConnect2",
                  "Genre": "Action;Fighting;3D",
                  "Platform": "XboxOne",
                  "Metascore": "77",
                  "Avg_Userscore": "7.1",
                  "No_Players": "not specified",
                  "_deepnote_index_column": 4987
                },
                {
                  "Title": "Furi",
                  "Year": "2016",
                  "Publisher": "TheGameBakers",
                  "Genre": "Action;Fighting;3D",
                  "Platform": "XboxOne",
                  "Metascore": "77",
                  "Avg_Userscore": "7.6",
                  "No_Players": "not specified",
                  "_deepnote_index_column": 4988
                },
                {
                  "Title": "Corpse Party",
                  "Year": "2016",
                  "Publisher": "5pb",
                  "Genre": "Action Adventure;Survival",
                  "Platform": "3DS",
                  "Metascore": "77",
                  "Avg_Userscore": "7.8",
                  "No_Players": "not specified",
                  "_deepnote_index_column": 4989
                },
                {
                  "Title": "Element4l",
                  "Year": "2013",
                  "Publisher": "i-illusions",
                  "Genre": "Action;Platformer;Platformer;2D;2D",
                  "Platform": "PC",
                  "Metascore": "77",
                  "Avg_Userscore": "7.7",
                  "No_Players": "not specified",
                  "_deepnote_index_column": 4990
                },
                {
                  "Title": "Anomaly 2",
                  "Year": "2013",
                  "Publisher": "11bitstudios",
                  "Genre": "Action;Strategy;General;Real-Time;Sci-Fi;Sci-Fi;General",
                  "Platform": "PC",
                  "Metascore": "77",
                  "Avg_Userscore": "7.9",
                  "No_Players": "not specified",
                  "_deepnote_index_column": 4991
                },
                {
                  "Title": "Final Fight: Double Impact",
                  "Year": "2010",
                  "Publisher": "Capcom",
                  "Genre": "Action;Miscellaneous;Beat-'Em-Up;Compilation",
                  "Platform": "Xbox360",
                  "Metascore": "77",
                  "Avg_Userscore": "7.6",
                  "No_Players": "not specified",
                  "_deepnote_index_column": 4992
                },
                {
                  "Title": "Outlast 2",
                  "Year": "2017",
                  "Publisher": "RedBarrels",
                  "Genre": "Action Adventure;Survival",
                  "Platform": "XboxOne",
                  "Metascore": "77",
                  "Avg_Userscore": "6.5",
                  "No_Players": "not specified",
                  "_deepnote_index_column": 4993
                },
                {
                  "Title": "The Bigs",
                  "Year": "2007",
                  "Publisher": "BlueCastleGames",
                  "Genre": "Sports;Traditional;Team;Baseball;Arcade;Arcade",
                  "Platform": "PlayStation3",
                  "Metascore": "77",
                  "Avg_Userscore": "7.2",
                  "No_Players": "1-4 ",
                  "_deepnote_index_column": 4994
                },
                {
                  "Title": "Donut County",
                  "Year": "2018",
                  "Publisher": "BenEsposito",
                  "Genre": "Action Adventure;General",
                  "Platform": "PC",
                  "Metascore": "77",
                  "Avg_Userscore": "8.1",
                  "No_Players": "No Online Multiplayer",
                  "_deepnote_index_column": 4995
                },
                {
                  "Title": "MotorStorm: Apocalypse",
                  "Year": "2011",
                  "Publisher": "EvolutionStudios",
                  "Genre": "Driving;Racing;Simulation;Rally / Offroad;Rally / Offroad;Automobile",
                  "Platform": "PlayStation3",
                  "Metascore": "77",
                  "Avg_Userscore": "7.7",
                  "No_Players": "4  Online",
                  "_deepnote_index_column": 4996
                },
                {
                  "Title": "The Last Guy",
                  "Year": "2008",
                  "Publisher": "SCEJapanStudio",
                  "Genre": "Action Adventure;Sci-Fi;Sci-Fi;General",
                  "Platform": "PlayStation3",
                  "Metascore": "77",
                  "Avg_Userscore": "6.8",
                  "No_Players": "1 Player",
                  "_deepnote_index_column": 4997
                },
                {
                  "Title": "Valiant Hearts: The Great War",
                  "Year": "2014",
                  "Publisher": "UbisoftMontpellier",
                  "Genre": "Platformer;2D;Action;Platformer;2D",
                  "Platform": "PlayStation4",
                  "Metascore": "77",
                  "Avg_Userscore": "8.4",
                  "No_Players": "not specified",
                  "_deepnote_index_column": 4998
                },
                {
                  "Title": "Mothergunship",
                  "Year": "2018",
                  "Publisher": "GripDigital",
                  "Genre": "Action;General",
                  "Platform": "XboxOne",
                  "Metascore": "77",
                  "Avg_Userscore": "7.2",
                  "No_Players": "Online Multiplayer",
                  "_deepnote_index_column": 4999
                }
              ]
            },
            "text/plain": "                                     Title  Year               Publisher  \\\n0     The Legend of Zelda: Ocarina of Time  1998                Nintendo   \n1                 Tony Hawk's Pro Skater 2  2000  NeversoftEntertainment   \n2                      Grand Theft Auto IV  2008           RockstarNorth   \n3                              SoulCalibur  1999                   Namco   \n4                      Grand Theft Auto IV  2008           RockstarNorth   \n...                                    ...   ...                     ...   \n4995                          Donut County  2018             BenEsposito   \n4996                MotorStorm: Apocalypse  2011        EvolutionStudios   \n4997                          The Last Guy  2008          SCEJapanStudio   \n4998         Valiant Hearts: The Great War  2014      UbisoftMontpellier   \n4999                         Mothergunship  2018             GripDigital   \n\n                                                  Genre      Platform  \\\n0                              Action Adventure;Fantasy    Nintendo64   \n1                      Sports;Alternative;Skateboarding   PlayStation   \n2             Action Adventure;Modern;Modern;Open-World  PlayStation3   \n3                                    Action;Fighting;3D     Dreamcast   \n4             Action Adventure;Modern;Modern;Open-World       Xbox360   \n...                                                 ...           ...   \n4995                           Action Adventure;General            PC   \n4996  Driving;Racing;Simulation;Rally / Offroad;Rall...  PlayStation3   \n4997             Action Adventure;Sci-Fi;Sci-Fi;General  PlayStation3   \n4998                 Platformer;2D;Action;Platformer;2D  PlayStation4   \n4999                                     Action;General       XboxOne   \n\n     Metascore Avg_Userscore             No_Players  \n0           99           9.1               1 Player  \n1           98           7.4                   1-2   \n2           98           7.5               1 Player  \n3           98           8.6                   1-2   \n4           98           7.9               1 Player  \n...        ...           ...                    ...  \n4995        77           8.1  No Online Multiplayer  \n4996        77           7.7              4  Online  \n4997        77           6.8               1 Player  \n4998        77           8.4          not specified  \n4999        77           7.2     Online Multiplayer  \n\n[5000 rows x 8 columns]",
            "text/html": "<div>\n<style scoped>\n    .dataframe tbody tr th:only-of-type {\n        vertical-align: middle;\n    }\n\n    .dataframe tbody tr th {\n        vertical-align: top;\n    }\n\n    .dataframe thead th {\n        text-align: right;\n    }\n</style>\n<table border=\"1\" class=\"dataframe\">\n  <thead>\n    <tr style=\"text-align: right;\">\n      <th></th>\n      <th>Title</th>\n      <th>Year</th>\n      <th>Publisher</th>\n      <th>Genre</th>\n      <th>Platform</th>\n      <th>Metascore</th>\n      <th>Avg_Userscore</th>\n      <th>No_Players</th>\n    </tr>\n  </thead>\n  <tbody>\n    <tr>\n      <th>0</th>\n      <td>The Legend of Zelda: Ocarina of Time</td>\n      <td>1998</td>\n      <td>Nintendo</td>\n      <td>Action Adventure;Fantasy</td>\n      <td>Nintendo64</td>\n      <td>99</td>\n      <td>9.1</td>\n      <td>1 Player</td>\n    </tr>\n    <tr>\n      <th>1</th>\n      <td>Tony Hawk's Pro Skater 2</td>\n      <td>2000</td>\n      <td>NeversoftEntertainment</td>\n      <td>Sports;Alternative;Skateboarding</td>\n      <td>PlayStation</td>\n      <td>98</td>\n      <td>7.4</td>\n      <td>1-2</td>\n    </tr>\n    <tr>\n      <th>2</th>\n      <td>Grand Theft Auto IV</td>\n      <td>2008</td>\n      <td>RockstarNorth</td>\n      <td>Action Adventure;Modern;Modern;Open-World</td>\n      <td>PlayStation3</td>\n      <td>98</td>\n      <td>7.5</td>\n      <td>1 Player</td>\n    </tr>\n    <tr>\n      <th>3</th>\n      <td>SoulCalibur</td>\n      <td>1999</td>\n      <td>Namco</td>\n      <td>Action;Fighting;3D</td>\n      <td>Dreamcast</td>\n      <td>98</td>\n      <td>8.6</td>\n      <td>1-2</td>\n    </tr>\n    <tr>\n      <th>4</th>\n      <td>Grand Theft Auto IV</td>\n      <td>2008</td>\n      <td>RockstarNorth</td>\n      <td>Action Adventure;Modern;Modern;Open-World</td>\n      <td>Xbox360</td>\n      <td>98</td>\n      <td>7.9</td>\n      <td>1 Player</td>\n    </tr>\n    <tr>\n      <th>...</th>\n      <td>...</td>\n      <td>...</td>\n      <td>...</td>\n      <td>...</td>\n      <td>...</td>\n      <td>...</td>\n      <td>...</td>\n      <td>...</td>\n    </tr>\n    <tr>\n      <th>4995</th>\n      <td>Donut County</td>\n      <td>2018</td>\n      <td>BenEsposito</td>\n      <td>Action Adventure;General</td>\n      <td>PC</td>\n      <td>77</td>\n      <td>8.1</td>\n      <td>No Online Multiplayer</td>\n    </tr>\n    <tr>\n      <th>4996</th>\n      <td>MotorStorm: Apocalypse</td>\n      <td>2011</td>\n      <td>EvolutionStudios</td>\n      <td>Driving;Racing;Simulation;Rally / Offroad;Rall...</td>\n      <td>PlayStation3</td>\n      <td>77</td>\n      <td>7.7</td>\n      <td>4  Online</td>\n    </tr>\n    <tr>\n      <th>4997</th>\n      <td>The Last Guy</td>\n      <td>2008</td>\n      <td>SCEJapanStudio</td>\n      <td>Action Adventure;Sci-Fi;Sci-Fi;General</td>\n      <td>PlayStation3</td>\n      <td>77</td>\n      <td>6.8</td>\n      <td>1 Player</td>\n    </tr>\n    <tr>\n      <th>4998</th>\n      <td>Valiant Hearts: The Great War</td>\n      <td>2014</td>\n      <td>UbisoftMontpellier</td>\n      <td>Platformer;2D;Action;Platformer;2D</td>\n      <td>PlayStation4</td>\n      <td>77</td>\n      <td>8.4</td>\n      <td>not specified</td>\n    </tr>\n    <tr>\n      <th>4999</th>\n      <td>Mothergunship</td>\n      <td>2018</td>\n      <td>GripDigital</td>\n      <td>Action;General</td>\n      <td>XboxOne</td>\n      <td>77</td>\n      <td>7.2</td>\n      <td>Online Multiplayer</td>\n    </tr>\n  </tbody>\n</table>\n<p>5000 rows × 8 columns</p>\n</div>"
          },
          "metadata": {}
        }
      ]
    },
    {
      "cell_type": "code",
      "metadata": {
        "tags": [],
        "cell_id": "00002-451ae746-725c-49bb-b0fa-dcd038f984fe",
        "deepnote_to_be_reexecuted": false,
        "source_hash": "79656b48",
        "execution_millis": 299,
        "execution_start": 1615321985970,
        "deepnote_cell_type": "code"
      },
      "source": "user_data_validation",
      "execution_count": 4,
      "outputs": [
        {
          "output_type": "execute_result",
          "execution_count": 4,
          "data": {
            "application/vnd.deepnote.dataframe.v2+json": {
              "row_count": 14918,
              "column_count": 3,
              "columns": [
                {
                  "name": "Userscore",
                  "dtype": "int64",
                  "stats": {
                    "unique_count": 11,
                    "nan_count": 0,
                    "min": 0,
                    "max": 10,
                    "histogram": [
                      {
                        "bin_start": 0,
                        "bin_end": 1,
                        "count": 632
                      },
                      {
                        "bin_start": 1,
                        "bin_end": 2,
                        "count": 256
                      },
                      {
                        "bin_start": 2,
                        "bin_end": 3,
                        "count": 254
                      },
                      {
                        "bin_start": 3,
                        "bin_end": 4,
                        "count": 287
                      },
                      {
                        "bin_start": 4,
                        "bin_end": 5,
                        "count": 391
                      },
                      {
                        "bin_start": 5,
                        "bin_end": 6,
                        "count": 604
                      },
                      {
                        "bin_start": 6,
                        "bin_end": 7,
                        "count": 785
                      },
                      {
                        "bin_start": 7,
                        "bin_end": 8,
                        "count": 1190
                      },
                      {
                        "bin_start": 8,
                        "bin_end": 9,
                        "count": 2135
                      },
                      {
                        "bin_start": 9,
                        "bin_end": 10,
                        "count": 8384
                      }
                    ]
                  }
                },
                {
                  "name": "Username",
                  "dtype": "object",
                  "stats": {
                    "unique_count": 2208,
                    "nan_count": 0,
                    "categories": [
                      {
                        "name": "tsakiym",
                        "count": 168
                      },
                      {
                        "name": "Termin8ter",
                        "count": 159
                      },
                      {
                        "name": "2206 others",
                        "count": 14591
                      }
                    ]
                  }
                },
                {
                  "name": "Game_ID",
                  "dtype": "int64",
                  "stats": {
                    "unique_count": 2235,
                    "nan_count": 0,
                    "min": 0,
                    "max": 3419,
                    "histogram": [
                      {
                        "bin_start": 0,
                        "bin_end": 341.9,
                        "count": 4658
                      },
                      {
                        "bin_start": 341.9,
                        "bin_end": 683.8,
                        "count": 1974
                      },
                      {
                        "bin_start": 683.8,
                        "bin_end": 1025.6999999999998,
                        "count": 1796
                      },
                      {
                        "bin_start": 1025.6999999999998,
                        "bin_end": 1367.6,
                        "count": 1178
                      },
                      {
                        "bin_start": 1367.6,
                        "bin_end": 1709.5,
                        "count": 1269
                      },
                      {
                        "bin_start": 1709.5,
                        "bin_end": 2051.3999999999996,
                        "count": 925
                      },
                      {
                        "bin_start": 2051.3999999999996,
                        "bin_end": 2393.2999999999997,
                        "count": 915
                      },
                      {
                        "bin_start": 2393.2999999999997,
                        "bin_end": 2735.2,
                        "count": 667
                      },
                      {
                        "bin_start": 2735.2,
                        "bin_end": 3077.1,
                        "count": 839
                      },
                      {
                        "bin_start": 3077.1,
                        "bin_end": 3419,
                        "count": 697
                      }
                    ]
                  }
                },
                {
                  "name": "_deepnote_index_column",
                  "dtype": "int64"
                }
              ],
              "rows_top": [
                {
                  "Userscore": 3,
                  "Username": "AlanG.",
                  "Game_ID": 474,
                  "_deepnote_index_column": 100920
                },
                {
                  "Userscore": 10,
                  "Username": "AlanG.",
                  "Game_ID": 532,
                  "_deepnote_index_column": 106599
                },
                {
                  "Userscore": 9,
                  "Username": "AlanG.",
                  "Game_ID": 532,
                  "_deepnote_index_column": 106906
                },
                {
                  "Userscore": 9,
                  "Username": "AlanG.",
                  "Game_ID": 1525,
                  "_deepnote_index_column": 197380
                },
                {
                  "Userscore": 10,
                  "Username": "TonyM.",
                  "Game_ID": 20,
                  "_deepnote_index_column": 10713
                },
                {
                  "Userscore": 9,
                  "Username": "TonyM.",
                  "Game_ID": 98,
                  "_deepnote_index_column": 42289
                },
                {
                  "Userscore": 5,
                  "Username": "TonyM.",
                  "Game_ID": 567,
                  "_deepnote_index_column": 110119
                },
                {
                  "Userscore": 10,
                  "Username": "TonyM.",
                  "Game_ID": 781,
                  "_deepnote_index_column": 135006
                },
                {
                  "Userscore": 10,
                  "Username": "TonyM.",
                  "Game_ID": 796,
                  "_deepnote_index_column": 137102
                },
                {
                  "Userscore": 10,
                  "Username": "TonyM.",
                  "Game_ID": 828,
                  "_deepnote_index_column": 146328
                },
                {
                  "Userscore": 9,
                  "Username": "TonyM.",
                  "Game_ID": 1106,
                  "_deepnote_index_column": 169087
                },
                {
                  "Userscore": 10,
                  "Username": "TonyM.",
                  "Game_ID": 1946,
                  "_deepnote_index_column": 222518
                },
                {
                  "Userscore": 9,
                  "Username": "TonyM.",
                  "Game_ID": 3230,
                  "_deepnote_index_column": 277128
                },
                {
                  "Userscore": 9,
                  "Username": "AnotherGamerFRA",
                  "Game_ID": 9,
                  "_deepnote_index_column": 4888
                },
                {
                  "Userscore": 9,
                  "Username": "AnotherGamerFRA",
                  "Game_ID": 9,
                  "_deepnote_index_column": 5588
                },
                {
                  "Userscore": 7,
                  "Username": "AnotherGamerFRA",
                  "Game_ID": 454,
                  "_deepnote_index_column": 97847
                },
                {
                  "Userscore": 10,
                  "Username": "AnotherGamerFRA",
                  "Game_ID": 792,
                  "_deepnote_index_column": 135840
                },
                {
                  "Userscore": 10,
                  "Username": "AnotherGamerFRA",
                  "Game_ID": 1225,
                  "_deepnote_index_column": 178394
                },
                {
                  "Userscore": 9,
                  "Username": "AnotherGamerFRA",
                  "Game_ID": 1287,
                  "_deepnote_index_column": 182146
                },
                {
                  "Userscore": 9,
                  "Username": "AnotherGamerFRA",
                  "Game_ID": 1640,
                  "_deepnote_index_column": 204349
                },
                {
                  "Userscore": 10,
                  "Username": "AnotherGamerFRA",
                  "Game_ID": 2854,
                  "_deepnote_index_column": 259667
                },
                {
                  "Userscore": 9,
                  "Username": "AnotherGamerFRA",
                  "Game_ID": 3099,
                  "_deepnote_index_column": 271301
                },
                {
                  "Userscore": 9,
                  "Username": "AnotherGamerFRA",
                  "Game_ID": 3108,
                  "_deepnote_index_column": 272123
                },
                {
                  "Userscore": 9,
                  "Username": "DavidN.",
                  "Game_ID": 42,
                  "_deepnote_index_column": 21060
                },
                {
                  "Userscore": 9,
                  "Username": "DavidN.",
                  "Game_ID": 350,
                  "_deepnote_index_column": 86290
                },
                {
                  "Userscore": 10,
                  "Username": "DavidN.",
                  "Game_ID": 518,
                  "_deepnote_index_column": 105595
                },
                {
                  "Userscore": 9,
                  "Username": "kimaasen1984",
                  "Game_ID": 20,
                  "_deepnote_index_column": 12486
                },
                {
                  "Userscore": 10,
                  "Username": "kimaasen1984",
                  "Game_ID": 56,
                  "_deepnote_index_column": 27950
                },
                {
                  "Userscore": 10,
                  "Username": "kimaasen1984",
                  "Game_ID": 71,
                  "_deepnote_index_column": 34911
                },
                {
                  "Userscore": 10,
                  "Username": "kimaasen1984",
                  "Game_ID": 310,
                  "_deepnote_index_column": 79814
                },
                {
                  "Userscore": 8,
                  "Username": "kimaasen1984",
                  "Game_ID": 390,
                  "_deepnote_index_column": 90491
                },
                {
                  "Userscore": 9,
                  "Username": "kimaasen1984",
                  "Game_ID": 474,
                  "_deepnote_index_column": 100999
                },
                {
                  "Userscore": 7,
                  "Username": "kimaasen1984",
                  "Game_ID": 595,
                  "_deepnote_index_column": 113654
                },
                {
                  "Userscore": 7,
                  "Username": "kimaasen1984",
                  "Game_ID": 919,
                  "_deepnote_index_column": 155180
                },
                {
                  "Userscore": 9,
                  "Username": "kimaasen1984",
                  "Game_ID": 1083,
                  "_deepnote_index_column": 167184
                },
                {
                  "Userscore": 7,
                  "Username": "kimaasen1984",
                  "Game_ID": 1671,
                  "_deepnote_index_column": 206608
                },
                {
                  "Userscore": 9,
                  "Username": "kimaasen1984",
                  "Game_ID": 2660,
                  "_deepnote_index_column": 251412
                },
                {
                  "Userscore": 10,
                  "Username": "kimaasen1984",
                  "Game_ID": 2734,
                  "_deepnote_index_column": 254638
                },
                {
                  "Userscore": 10,
                  "Username": "Juiposa",
                  "Game_ID": 38,
                  "_deepnote_index_column": 19409
                },
                {
                  "Userscore": 10,
                  "Username": "Juiposa",
                  "Game_ID": 84,
                  "_deepnote_index_column": 38518
                },
                {
                  "Userscore": 10,
                  "Username": "Juiposa",
                  "Game_ID": 326,
                  "_deepnote_index_column": 82721
                },
                {
                  "Userscore": 10,
                  "Username": "Godlygamer",
                  "Game_ID": 737,
                  "_deepnote_index_column": 131144
                },
                {
                  "Userscore": 10,
                  "Username": "Godlygamer",
                  "Game_ID": 1618,
                  "_deepnote_index_column": 202662
                },
                {
                  "Userscore": 10,
                  "Username": "Godlygamer",
                  "Game_ID": 2265,
                  "_deepnote_index_column": 237884
                },
                {
                  "Userscore": 9,
                  "Username": "Godlygamer",
                  "Game_ID": 2981,
                  "_deepnote_index_column": 264956
                },
                {
                  "Userscore": 6,
                  "Username": "MSGundamWing",
                  "Game_ID": 1160,
                  "_deepnote_index_column": 172203
                },
                {
                  "Userscore": 8,
                  "Username": "MSGundamWing",
                  "Game_ID": 2172,
                  "_deepnote_index_column": 233526
                },
                {
                  "Userscore": 9,
                  "Username": "MSGundamWing",
                  "Game_ID": 3098,
                  "_deepnote_index_column": 270484
                },
                {
                  "Userscore": 5,
                  "Username": "Shomanjo",
                  "Game_ID": 232,
                  "_deepnote_index_column": 71825
                },
                {
                  "Userscore": 4,
                  "Username": "Shomanjo",
                  "Game_ID": 1988,
                  "_deepnote_index_column": 224567
                },
                {
                  "Userscore": 9,
                  "Username": "Shomanjo",
                  "Game_ID": 2668,
                  "_deepnote_index_column": 251779
                },
                {
                  "Userscore": 10,
                  "Username": "SuperHyperST",
                  "Game_ID": 6,
                  "_deepnote_index_column": 3416
                },
                {
                  "Userscore": 9,
                  "Username": "SuperHyperST",
                  "Game_ID": 1329,
                  "_deepnote_index_column": 184939
                },
                {
                  "Userscore": 10,
                  "Username": "SuperHyperST",
                  "Game_ID": 2403,
                  "_deepnote_index_column": 242626
                },
                {
                  "Userscore": 9,
                  "Username": "The_Game_Doctor",
                  "Game_ID": 179,
                  "_deepnote_index_column": 63002
                },
                {
                  "Userscore": 9,
                  "Username": "The_Game_Doctor",
                  "Game_ID": 364,
                  "_deepnote_index_column": 87583
                },
                {
                  "Userscore": 8,
                  "Username": "The_Game_Doctor",
                  "Game_ID": 1574,
                  "_deepnote_index_column": 200850
                },
                {
                  "Userscore": 8,
                  "Username": "The_Game_Doctor",
                  "Game_ID": 1693,
                  "_deepnote_index_column": 208084
                },
                {
                  "Userscore": 8,
                  "Username": "The_Game_Doctor",
                  "Game_ID": 1879,
                  "_deepnote_index_column": 217294
                },
                {
                  "Userscore": 8,
                  "Username": "stefaan",
                  "Game_ID": 110,
                  "_deepnote_index_column": 46527
                },
                {
                  "Userscore": 10,
                  "Username": "stefaan",
                  "Game_ID": 126,
                  "_deepnote_index_column": 49653
                },
                {
                  "Userscore": 9,
                  "Username": "stefaan",
                  "Game_ID": 195,
                  "_deepnote_index_column": 64485
                },
                {
                  "Userscore": 8,
                  "Username": "stefaan",
                  "Game_ID": 323,
                  "_deepnote_index_column": 82045
                },
                {
                  "Userscore": 8,
                  "Username": "stefaan",
                  "Game_ID": 1409,
                  "_deepnote_index_column": 190638
                },
                {
                  "Userscore": 7,
                  "Username": "stefaan",
                  "Game_ID": 2084,
                  "_deepnote_index_column": 228393
                },
                {
                  "Userscore": 7,
                  "Username": "MortenJ.",
                  "Game_ID": 85,
                  "_deepnote_index_column": 40254
                },
                {
                  "Userscore": 10,
                  "Username": "MortenJ.",
                  "Game_ID": 796,
                  "_deepnote_index_column": 136297
                },
                {
                  "Userscore": 7,
                  "Username": "MortenJ.",
                  "Game_ID": 975,
                  "_deepnote_index_column": 160116
                },
                {
                  "Userscore": 10,
                  "Username": "Krankstar2K",
                  "Game_ID": 17,
                  "_deepnote_index_column": 9273
                },
                {
                  "Userscore": 4,
                  "Username": "Krankstar2K",
                  "Game_ID": 672,
                  "_deepnote_index_column": 124970
                },
                {
                  "Userscore": 5,
                  "Username": "Krankstar2K",
                  "Game_ID": 2171,
                  "_deepnote_index_column": 233356
                },
                {
                  "Userscore": 9,
                  "Username": "Krankstar2K",
                  "Game_ID": 2278,
                  "_deepnote_index_column": 238437
                },
                {
                  "Userscore": 7,
                  "Username": "nighter-3d",
                  "Game_ID": 56,
                  "_deepnote_index_column": 27111
                },
                {
                  "Userscore": 6,
                  "Username": "nighter-3d",
                  "Game_ID": 84,
                  "_deepnote_index_column": 38983
                },
                {
                  "Userscore": 9,
                  "Username": "nighter-3d",
                  "Game_ID": 792,
                  "_deepnote_index_column": 135821
                },
                {
                  "Userscore": 7,
                  "Username": "nighter-3d",
                  "Game_ID": 1083,
                  "_deepnote_index_column": 167037
                },
                {
                  "Userscore": 6,
                  "Username": "nighter-3d",
                  "Game_ID": 1488,
                  "_deepnote_index_column": 196151
                },
                {
                  "Userscore": 6,
                  "Username": "nighter-3d",
                  "Game_ID": 1944,
                  "_deepnote_index_column": 222265
                },
                {
                  "Userscore": 9,
                  "Username": "nighter-3d",
                  "Game_ID": 2084,
                  "_deepnote_index_column": 228355
                },
                {
                  "Userscore": 8,
                  "Username": "thedude",
                  "Game_ID": 23,
                  "_deepnote_index_column": 13955
                },
                {
                  "Userscore": 9,
                  "Username": "thedude",
                  "Game_ID": 85,
                  "_deepnote_index_column": 40018
                },
                {
                  "Userscore": 5,
                  "Username": "thedude",
                  "Game_ID": 2078,
                  "_deepnote_index_column": 227974
                },
                {
                  "Userscore": 10,
                  "Username": "SuperFloorMat",
                  "Game_ID": 492,
                  "_deepnote_index_column": 103020
                },
                {
                  "Userscore": 7,
                  "Username": "SuperFloorMat",
                  "Game_ID": 527,
                  "_deepnote_index_column": 106112
                },
                {
                  "Userscore": 10,
                  "Username": "SuperFloorMat",
                  "Game_ID": 549,
                  "_deepnote_index_column": 108984
                },
                {
                  "Userscore": 8,
                  "Username": "SuperFloorMat",
                  "Game_ID": 702,
                  "_deepnote_index_column": 127969
                },
                {
                  "Userscore": 8,
                  "Username": "SuperFloorMat",
                  "Game_ID": 862,
                  "_deepnote_index_column": 151043
                },
                {
                  "Userscore": 9,
                  "Username": "SuperFloorMat",
                  "Game_ID": 1154,
                  "_deepnote_index_column": 171679
                },
                {
                  "Userscore": 9,
                  "Username": "SuperFloorMat",
                  "Game_ID": 1881,
                  "_deepnote_index_column": 217549
                },
                {
                  "Userscore": 9,
                  "Username": "SuperFloorMat",
                  "Game_ID": 2225,
                  "_deepnote_index_column": 235575
                },
                {
                  "Userscore": 10,
                  "Username": "SuperFloorMat",
                  "Game_ID": 3039,
                  "_deepnote_index_column": 267826
                },
                {
                  "Userscore": 10,
                  "Username": "Fullmetal",
                  "Game_ID": 141,
                  "_deepnote_index_column": 53609
                },
                {
                  "Userscore": 10,
                  "Username": "Fullmetal",
                  "Game_ID": 862,
                  "_deepnote_index_column": 150710
                },
                {
                  "Userscore": 9,
                  "Username": "Fullmetal",
                  "Game_ID": 1263,
                  "_deepnote_index_column": 179884
                },
                {
                  "Userscore": 8,
                  "Username": "Briancl25",
                  "Game_ID": 70,
                  "_deepnote_index_column": 32935
                },
                {
                  "Userscore": 8,
                  "Username": "Briancl25",
                  "Game_ID": 782,
                  "_deepnote_index_column": 135173
                },
                {
                  "Userscore": 5,
                  "Username": "Briancl25",
                  "Game_ID": 1747,
                  "_deepnote_index_column": 211248
                },
                {
                  "Userscore": 1,
                  "Username": "Briancl25",
                  "Game_ID": 3263,
                  "_deepnote_index_column": 278371
                },
                {
                  "Userscore": 0,
                  "Username": "ItaJohnson",
                  "Game_ID": 324,
                  "_deepnote_index_column": 82238
                },
                {
                  "Userscore": 0,
                  "Username": "ItaJohnson",
                  "Game_ID": 595,
                  "_deepnote_index_column": 112553
                },
                {
                  "Userscore": 0,
                  "Username": "ItaJohnson",
                  "Game_ID": 731,
                  "_deepnote_index_column": 130703
                },
                {
                  "Userscore": 0,
                  "Username": "ItaJohnson",
                  "Game_ID": 1934,
                  "_deepnote_index_column": 220277
                },
                {
                  "Userscore": 10,
                  "Username": "ItaJohnson",
                  "Game_ID": 3028,
                  "_deepnote_index_column": 267090
                },
                {
                  "Userscore": 0,
                  "Username": "ItaJohnson",
                  "Game_ID": 3264,
                  "_deepnote_index_column": 278393
                },
                {
                  "Userscore": 7,
                  "Username": "Jotto999",
                  "Game_ID": 160,
                  "_deepnote_index_column": 58374
                },
                {
                  "Userscore": 10,
                  "Username": "Jotto999",
                  "Game_ID": 219,
                  "_deepnote_index_column": 70156
                },
                {
                  "Userscore": 10,
                  "Username": "Jotto999",
                  "Game_ID": 390,
                  "_deepnote_index_column": 90465
                },
                {
                  "Userscore": 10,
                  "Username": "Jotto999",
                  "Game_ID": 417,
                  "_deepnote_index_column": 92213
                },
                {
                  "Userscore": 10,
                  "Username": "Jotto999",
                  "Game_ID": 596,
                  "_deepnote_index_column": 114473
                },
                {
                  "Userscore": 7,
                  "Username": "Jotto999",
                  "Game_ID": 678,
                  "_deepnote_index_column": 125971
                },
                {
                  "Userscore": 7,
                  "Username": "Jotto999",
                  "Game_ID": 2910,
                  "_deepnote_index_column": 262068
                },
                {
                  "Userscore": 7,
                  "Username": "Khaliszt",
                  "Game_ID": 9,
                  "_deepnote_index_column": 4853
                },
                {
                  "Userscore": 7,
                  "Username": "Khaliszt",
                  "Game_ID": 9,
                  "_deepnote_index_column": 5553
                },
                {
                  "Userscore": 10,
                  "Username": "Khaliszt",
                  "Game_ID": 225,
                  "_deepnote_index_column": 70672
                },
                {
                  "Userscore": 10,
                  "Username": "Merrill",
                  "Game_ID": 79,
                  "_deepnote_index_column": 36889
                },
                {
                  "Userscore": 10,
                  "Username": "Merrill",
                  "Game_ID": 368,
                  "_deepnote_index_column": 88405
                },
                {
                  "Userscore": 8,
                  "Username": "Merrill",
                  "Game_ID": 3049,
                  "_deepnote_index_column": 268502
                },
                {
                  "Userscore": 9,
                  "Username": "dubloon7",
                  "Game_ID": 179,
                  "_deepnote_index_column": 63360
                },
                {
                  "Userscore": 7,
                  "Username": "dubloon7",
                  "Game_ID": 1034,
                  "_deepnote_index_column": 163325
                },
                {
                  "Userscore": 7,
                  "Username": "dubloon7",
                  "Game_ID": 1403,
                  "_deepnote_index_column": 189603
                },
                {
                  "Userscore": 8,
                  "Username": "dubloon7",
                  "Game_ID": 1438,
                  "_deepnote_index_column": 191961
                },
                {
                  "Userscore": 7,
                  "Username": "dubloon7",
                  "Game_ID": 1732,
                  "_deepnote_index_column": 209867
                },
                {
                  "Userscore": 4,
                  "Username": "dubloon7",
                  "Game_ID": 1939,
                  "_deepnote_index_column": 222087
                },
                {
                  "Userscore": 1,
                  "Username": "dubloon7",
                  "Game_ID": 2157,
                  "_deepnote_index_column": 231995
                },
                {
                  "Userscore": 6,
                  "Username": "dubloon7",
                  "Game_ID": 2304,
                  "_deepnote_index_column": 239302
                },
                {
                  "Userscore": 10,
                  "Username": "MikeyGunz0",
                  "Game_ID": 55,
                  "_deepnote_index_column": 25790
                },
                {
                  "Userscore": 10,
                  "Username": "MikeyGunz0",
                  "Game_ID": 153,
                  "_deepnote_index_column": 55936
                },
                {
                  "Userscore": 10,
                  "Username": "MikeyGunz0",
                  "Game_ID": 179,
                  "_deepnote_index_column": 62678
                },
                {
                  "Userscore": 10,
                  "Username": "MikeyGunz0",
                  "Game_ID": 1537,
                  "_deepnote_index_column": 199019
                },
                {
                  "Userscore": 3,
                  "Username": "Sarseth",
                  "Game_ID": 799,
                  "_deepnote_index_column": 137847
                },
                {
                  "Userscore": 0,
                  "Username": "Sarseth",
                  "Game_ID": 1904,
                  "_deepnote_index_column": 219022
                },
                {
                  "Userscore": 0,
                  "Username": "Sarseth",
                  "Game_ID": 1986,
                  "_deepnote_index_column": 224327
                },
                {
                  "Userscore": 8,
                  "Username": "Carlinhoscwbr3",
                  "Game_ID": 749,
                  "_deepnote_index_column": 132861
                },
                {
                  "Userscore": 9,
                  "Username": "Carlinhoscwbr3",
                  "Game_ID": 750,
                  "_deepnote_index_column": 132905
                },
                {
                  "Userscore": 8,
                  "Username": "Carlinhoscwbr3",
                  "Game_ID": 1160,
                  "_deepnote_index_column": 172755
                },
                {
                  "Userscore": 10,
                  "Username": "Carlinhoscwbr3",
                  "Game_ID": 1276,
                  "_deepnote_index_column": 181748
                },
                {
                  "Userscore": 9,
                  "Username": "Carlinhoscwbr3",
                  "Game_ID": 2106,
                  "_deepnote_index_column": 230133
                },
                {
                  "Userscore": 5,
                  "Username": "Carlinhoscwbr3",
                  "Game_ID": 2759,
                  "_deepnote_index_column": 255136
                },
                {
                  "Userscore": 7,
                  "Username": "Carlinhoscwbr3",
                  "Game_ID": 2941,
                  "_deepnote_index_column": 263531
                },
                {
                  "Userscore": 10,
                  "Username": "JaredS.",
                  "Game_ID": 2,
                  "_deepnote_index_column": 1034
                },
                {
                  "Userscore": 10,
                  "Username": "JaredS.",
                  "Game_ID": 4,
                  "_deepnote_index_column": 2371
                },
                {
                  "Userscore": 10,
                  "Username": "JaredS.",
                  "Game_ID": 195,
                  "_deepnote_index_column": 65423
                },
                {
                  "Userscore": 0,
                  "Username": "bordo",
                  "Game_ID": 1135,
                  "_deepnote_index_column": 170632
                },
                {
                  "Userscore": 0,
                  "Username": "bordo",
                  "Game_ID": 1934,
                  "_deepnote_index_column": 220480
                },
                {
                  "Userscore": 6,
                  "Username": "bordo",
                  "Game_ID": 3147,
                  "_deepnote_index_column": 273823
                },
                {
                  "Userscore": 10,
                  "Username": "ANHell",
                  "Game_ID": 1986,
                  "_deepnote_index_column": 224486
                },
                {
                  "Userscore": 0,
                  "Username": "ANHell",
                  "Game_ID": 2058,
                  "_deepnote_index_column": 227161
                },
                {
                  "Userscore": 10,
                  "Username": "ANHell",
                  "Game_ID": 3122,
                  "_deepnote_index_column": 273029
                },
                {
                  "Userscore": 0,
                  "Username": "Final_spart4n",
                  "Game_ID": 179,
                  "_deepnote_index_column": 63345
                },
                {
                  "Userscore": 10,
                  "Username": "Final_spart4n",
                  "Game_ID": 773,
                  "_deepnote_index_column": 134149
                },
                {
                  "Userscore": 10,
                  "Username": "Final_spart4n",
                  "Game_ID": 1315,
                  "_deepnote_index_column": 184273
                },
                {
                  "Userscore": 0,
                  "Username": "Final_spart4n",
                  "Game_ID": 1835,
                  "_deepnote_index_column": 215866
                },
                {
                  "Userscore": 10,
                  "Username": "Escov",
                  "Game_ID": 33,
                  "_deepnote_index_column": 17747
                },
                {
                  "Userscore": 8,
                  "Username": "Escov",
                  "Game_ID": 672,
                  "_deepnote_index_column": 124034
                },
                {
                  "Userscore": 8,
                  "Username": "Escov",
                  "Game_ID": 1897,
                  "_deepnote_index_column": 218373
                },
                {
                  "Userscore": 10,
                  "Username": "Loganis",
                  "Game_ID": 1515,
                  "_deepnote_index_column": 197004
                },
                {
                  "Userscore": 8,
                  "Username": "Loganis",
                  "Game_ID": 1671,
                  "_deepnote_index_column": 206669
                },
                {
                  "Userscore": 10,
                  "Username": "Loganis",
                  "Game_ID": 1964,
                  "_deepnote_index_column": 223507
                },
                {
                  "Userscore": 10,
                  "Username": "Loganis",
                  "Game_ID": 2624,
                  "_deepnote_index_column": 250511
                },
                {
                  "Userscore": 10,
                  "Username": "Talex",
                  "Game_ID": 1038,
                  "_deepnote_index_column": 163931
                },
                {
                  "Userscore": 9,
                  "Username": "Talex",
                  "Game_ID": 1705,
                  "_deepnote_index_column": 208984
                },
                {
                  "Userscore": 9,
                  "Username": "Talex",
                  "Game_ID": 2679,
                  "_deepnote_index_column": 252251
                },
                {
                  "Userscore": 10,
                  "Username": "Stianenko",
                  "Game_ID": 34,
                  "_deepnote_index_column": 18398
                },
                {
                  "Userscore": 10,
                  "Username": "Stianenko",
                  "Game_ID": 844,
                  "_deepnote_index_column": 147884
                },
                {
                  "Userscore": 9,
                  "Username": "Stianenko",
                  "Game_ID": 916,
                  "_deepnote_index_column": 155036
                },
                {
                  "Userscore": 9,
                  "Username": "Stianenko",
                  "Game_ID": 2185,
                  "_deepnote_index_column": 234199
                }
              ],
              "rows_bottom": [
                {
                  "Userscore": 10,
                  "Username": "LBENAM",
                  "Game_ID": 1835,
                  "_deepnote_index_column": 215840
                },
                {
                  "Userscore": 9,
                  "Username": "LBENAM",
                  "Game_ID": 3172,
                  "_deepnote_index_column": 275312
                },
                {
                  "Userscore": 1,
                  "Username": "belph",
                  "Game_ID": 107,
                  "_deepnote_index_column": 44434
                },
                {
                  "Userscore": 9,
                  "Username": "belph",
                  "Game_ID": 201,
                  "_deepnote_index_column": 66857
                },
                {
                  "Userscore": 10,
                  "Username": "belph",
                  "Game_ID": 515,
                  "_deepnote_index_column": 104876
                },
                {
                  "Userscore": 10,
                  "Username": "rolio",
                  "Game_ID": 55,
                  "_deepnote_index_column": 25628
                },
                {
                  "Userscore": 10,
                  "Username": "rolio",
                  "Game_ID": 85,
                  "_deepnote_index_column": 40780
                },
                {
                  "Userscore": 10,
                  "Username": "rolio",
                  "Game_ID": 122,
                  "_deepnote_index_column": 48095
                },
                {
                  "Userscore": 7,
                  "Username": "rolio",
                  "Game_ID": 153,
                  "_deepnote_index_column": 57196
                },
                {
                  "Userscore": 9,
                  "Username": "rolio",
                  "Game_ID": 225,
                  "_deepnote_index_column": 70811
                },
                {
                  "Userscore": 9,
                  "Username": "rolio",
                  "Game_ID": 459,
                  "_deepnote_index_column": 100356
                },
                {
                  "Userscore": 10,
                  "Username": "rolio",
                  "Game_ID": 690,
                  "_deepnote_index_column": 127047
                },
                {
                  "Userscore": 3,
                  "Username": "rolio",
                  "Game_ID": 979,
                  "_deepnote_index_column": 160284
                },
                {
                  "Userscore": 10,
                  "Username": "rolio",
                  "Game_ID": 1594,
                  "_deepnote_index_column": 201547
                },
                {
                  "Userscore": 10,
                  "Username": "BopCN",
                  "Game_ID": 743,
                  "_deepnote_index_column": 132039
                },
                {
                  "Userscore": 9,
                  "Username": "BopCN",
                  "Game_ID": 1424,
                  "_deepnote_index_column": 191502
                },
                {
                  "Userscore": 3,
                  "Username": "BopCN",
                  "Game_ID": 1528,
                  "_deepnote_index_column": 198095
                },
                {
                  "Userscore": 9,
                  "Username": "BopCN",
                  "Game_ID": 1944,
                  "_deepnote_index_column": 222189
                },
                {
                  "Userscore": 10,
                  "Username": "BopCN",
                  "Game_ID": 2169,
                  "_deepnote_index_column": 232941
                },
                {
                  "Userscore": 10,
                  "Username": "Stormcrow666",
                  "Game_ID": 41,
                  "_deepnote_index_column": 20588
                },
                {
                  "Userscore": 10,
                  "Username": "Stormcrow666",
                  "Game_ID": 56,
                  "_deepnote_index_column": 27232
                },
                {
                  "Userscore": 10,
                  "Username": "Stormcrow666",
                  "Game_ID": 71,
                  "_deepnote_index_column": 34112
                },
                {
                  "Userscore": 10,
                  "Username": "Stormcrow666",
                  "Game_ID": 84,
                  "_deepnote_index_column": 38815
                },
                {
                  "Userscore": 6,
                  "Username": "Stormcrow666",
                  "Game_ID": 607,
                  "_deepnote_index_column": 115734
                },
                {
                  "Userscore": 10,
                  "Username": "Stormcrow666",
                  "Game_ID": 731,
                  "_deepnote_index_column": 130527
                },
                {
                  "Userscore": 10,
                  "Username": "Stormcrow666",
                  "Game_ID": 849,
                  "_deepnote_index_column": 148848
                },
                {
                  "Userscore": 9,
                  "Username": "Stormcrow666",
                  "Game_ID": 938,
                  "_deepnote_index_column": 157520
                },
                {
                  "Userscore": 1,
                  "Username": "Stormcrow666",
                  "Game_ID": 1196,
                  "_deepnote_index_column": 175067
                },
                {
                  "Userscore": 0,
                  "Username": "Stormcrow666",
                  "Game_ID": 1267,
                  "_deepnote_index_column": 180803
                },
                {
                  "Userscore": 4,
                  "Username": "Stormcrow666",
                  "Game_ID": 1474,
                  "_deepnote_index_column": 194645
                },
                {
                  "Userscore": 3,
                  "Username": "Stormcrow666",
                  "Game_ID": 2585,
                  "_deepnote_index_column": 248409
                },
                {
                  "Userscore": 8,
                  "Username": "Stormcrow666",
                  "Game_ID": 2854,
                  "_deepnote_index_column": 259765
                },
                {
                  "Userscore": 10,
                  "Username": "Bertoflyingfox",
                  "Game_ID": 11,
                  "_deepnote_index_column": 6897
                },
                {
                  "Userscore": 9,
                  "Username": "Bertoflyingfox",
                  "Game_ID": 127,
                  "_deepnote_index_column": 50645
                },
                {
                  "Userscore": 7,
                  "Username": "Bertoflyingfox",
                  "Game_ID": 142,
                  "_deepnote_index_column": 54207
                },
                {
                  "Userscore": 9,
                  "Username": "Bertoflyingfox",
                  "Game_ID": 285,
                  "_deepnote_index_column": 77436
                },
                {
                  "Userscore": 8,
                  "Username": "Bertoflyingfox",
                  "Game_ID": 639,
                  "_deepnote_index_column": 119965
                },
                {
                  "Userscore": 8,
                  "Username": "Bertoflyingfox",
                  "Game_ID": 1759,
                  "_deepnote_index_column": 211682
                },
                {
                  "Userscore": 6,
                  "Username": "Bertoflyingfox",
                  "Game_ID": 1761,
                  "_deepnote_index_column": 212020
                },
                {
                  "Userscore": 9,
                  "Username": "Bertoflyingfox",
                  "Game_ID": 2895,
                  "_deepnote_index_column": 261241
                },
                {
                  "Userscore": 5,
                  "Username": "Bertoflyingfox",
                  "Game_ID": 3098,
                  "_deepnote_index_column": 270700
                },
                {
                  "Userscore": 8,
                  "Username": "Bertoflyingfox",
                  "Game_ID": 3261,
                  "_deepnote_index_column": 278193
                },
                {
                  "Userscore": 10,
                  "Username": "RaptorX3",
                  "Game_ID": 230,
                  "_deepnote_index_column": 71503
                },
                {
                  "Userscore": 10,
                  "Username": "RaptorX3",
                  "Game_ID": 287,
                  "_deepnote_index_column": 77860
                },
                {
                  "Userscore": 10,
                  "Username": "RaptorX3",
                  "Game_ID": 2221,
                  "_deepnote_index_column": 235455
                },
                {
                  "Userscore": 5,
                  "Username": "RaptorX3",
                  "Game_ID": 3400,
                  "_deepnote_index_column": 283365
                },
                {
                  "Userscore": 8,
                  "Username": "lamashu",
                  "Game_ID": 14,
                  "_deepnote_index_column": 8562
                },
                {
                  "Userscore": 8,
                  "Username": "lamashu",
                  "Game_ID": 168,
                  "_deepnote_index_column": 60569
                },
                {
                  "Userscore": 9,
                  "Username": "lamashu",
                  "Game_ID": 179,
                  "_deepnote_index_column": 63530
                },
                {
                  "Userscore": 9,
                  "Username": "lamashu",
                  "Game_ID": 317,
                  "_deepnote_index_column": 81369
                },
                {
                  "Userscore": 9,
                  "Username": "lamashu",
                  "Game_ID": 323,
                  "_deepnote_index_column": 81916
                },
                {
                  "Userscore": 10,
                  "Username": "lamashu",
                  "Game_ID": 410,
                  "_deepnote_index_column": 91491
                },
                {
                  "Userscore": 8,
                  "Username": "lamashu",
                  "Game_ID": 1090,
                  "_deepnote_index_column": 168341
                },
                {
                  "Userscore": 6,
                  "Username": "lamashu",
                  "Game_ID": 1605,
                  "_deepnote_index_column": 202264
                },
                {
                  "Userscore": 7,
                  "Username": "lamashu",
                  "Game_ID": 2157,
                  "_deepnote_index_column": 232018
                },
                {
                  "Userscore": 10,
                  "Username": "NickR.",
                  "Game_ID": 20,
                  "_deepnote_index_column": 11826
                },
                {
                  "Userscore": 10,
                  "Username": "NickR.",
                  "Game_ID": 390,
                  "_deepnote_index_column": 90072
                },
                {
                  "Userscore": 10,
                  "Username": "NickR.",
                  "Game_ID": 506,
                  "_deepnote_index_column": 104076
                },
                {
                  "Userscore": 9,
                  "Username": "NickR.",
                  "Game_ID": 647,
                  "_deepnote_index_column": 120962
                },
                {
                  "Userscore": 9,
                  "Username": "NickR.",
                  "Game_ID": 1639,
                  "_deepnote_index_column": 203983
                },
                {
                  "Userscore": 9,
                  "Username": "NickR.",
                  "Game_ID": 2558,
                  "_deepnote_index_column": 246876
                },
                {
                  "Userscore": 6,
                  "Username": "NickR.",
                  "Game_ID": 2764,
                  "_deepnote_index_column": 255282
                },
                {
                  "Userscore": 1,
                  "Username": "NickR.",
                  "Game_ID": 3070,
                  "_deepnote_index_column": 269159
                },
                {
                  "Userscore": 3,
                  "Username": "NickR.",
                  "Game_ID": 3171,
                  "_deepnote_index_column": 275119
                },
                {
                  "Userscore": 6,
                  "Username": "timhunt412",
                  "Game_ID": 276,
                  "_deepnote_index_column": 76416
                },
                {
                  "Userscore": 1,
                  "Username": "timhunt412",
                  "Game_ID": 534,
                  "_deepnote_index_column": 107592
                },
                {
                  "Userscore": 3,
                  "Username": "timhunt412",
                  "Game_ID": 594,
                  "_deepnote_index_column": 112421
                },
                {
                  "Userscore": 10,
                  "Username": "JosefW.",
                  "Game_ID": 45,
                  "_deepnote_index_column": 21838
                },
                {
                  "Userscore": 10,
                  "Username": "JosefW.",
                  "Game_ID": 797,
                  "_deepnote_index_column": 137744
                },
                {
                  "Userscore": 10,
                  "Username": "JosefW.",
                  "Game_ID": 944,
                  "_deepnote_index_column": 157959
                },
                {
                  "Userscore": 8,
                  "Username": "Zarniwooop",
                  "Game_ID": 38,
                  "_deepnote_index_column": 20016
                },
                {
                  "Userscore": 10,
                  "Username": "Zarniwooop",
                  "Game_ID": 41,
                  "_deepnote_index_column": 20457
                },
                {
                  "Userscore": 9,
                  "Username": "Zarniwooop",
                  "Game_ID": 56,
                  "_deepnote_index_column": 27788
                },
                {
                  "Userscore": 10,
                  "Username": "Zarniwooop",
                  "Game_ID": 96,
                  "_deepnote_index_column": 41898
                },
                {
                  "Userscore": 7,
                  "Username": "Zarniwooop",
                  "Game_ID": 151,
                  "_deepnote_index_column": 55792
                },
                {
                  "Userscore": 6,
                  "Username": "Zarniwooop",
                  "Game_ID": 183,
                  "_deepnote_index_column": 63924
                },
                {
                  "Userscore": 10,
                  "Username": "Zarniwooop",
                  "Game_ID": 333,
                  "_deepnote_index_column": 83944
                },
                {
                  "Userscore": 9,
                  "Username": "Zarniwooop",
                  "Game_ID": 447,
                  "_deepnote_index_column": 94896
                },
                {
                  "Userscore": 9,
                  "Username": "Zarniwooop",
                  "Game_ID": 516,
                  "_deepnote_index_column": 105443
                },
                {
                  "Userscore": 6,
                  "Username": "Zarniwooop",
                  "Game_ID": 565,
                  "_deepnote_index_column": 109636
                },
                {
                  "Userscore": 9,
                  "Username": "Zarniwooop",
                  "Game_ID": 696,
                  "_deepnote_index_column": 127682
                },
                {
                  "Userscore": 8,
                  "Username": "Zarniwooop",
                  "Game_ID": 803,
                  "_deepnote_index_column": 143170
                },
                {
                  "Userscore": 8,
                  "Username": "Zarniwooop",
                  "Game_ID": 995,
                  "_deepnote_index_column": 161413
                },
                {
                  "Userscore": 10,
                  "Username": "Zarniwooop",
                  "Game_ID": 1345,
                  "_deepnote_index_column": 185438
                },
                {
                  "Userscore": 10,
                  "Username": "Zarniwooop",
                  "Game_ID": 2169,
                  "_deepnote_index_column": 232597
                },
                {
                  "Userscore": 6,
                  "Username": "Zarniwooop",
                  "Game_ID": 3048,
                  "_deepnote_index_column": 268446
                },
                {
                  "Userscore": 9,
                  "Username": "DarKMaTTeR",
                  "Game_ID": 324,
                  "_deepnote_index_column": 82455
                },
                {
                  "Userscore": 6,
                  "Username": "DarKMaTTeR",
                  "Game_ID": 475,
                  "_deepnote_index_column": 101378
                },
                {
                  "Userscore": 8,
                  "Username": "DarKMaTTeR",
                  "Game_ID": 607,
                  "_deepnote_index_column": 115045
                },
                {
                  "Userscore": 6,
                  "Username": "DarKMaTTeR",
                  "Game_ID": 682,
                  "_deepnote_index_column": 126390
                },
                {
                  "Userscore": 4,
                  "Username": "DarKMaTTeR",
                  "Game_ID": 1563,
                  "_deepnote_index_column": 200402
                },
                {
                  "Userscore": 6,
                  "Username": "DarKMaTTeR",
                  "Game_ID": 1671,
                  "_deepnote_index_column": 206421
                },
                {
                  "Userscore": 9,
                  "Username": "DarKMaTTeR",
                  "Game_ID": 3412,
                  "_deepnote_index_column": 283870
                },
                {
                  "Userscore": 10,
                  "Username": "adam99x",
                  "Game_ID": 1403,
                  "_deepnote_index_column": 189489
                },
                {
                  "Userscore": 3,
                  "Username": "adam99x",
                  "Game_ID": 3026,
                  "_deepnote_index_column": 266863
                },
                {
                  "Userscore": 6,
                  "Username": "adam99x",
                  "Game_ID": 3314,
                  "_deepnote_index_column": 279168
                },
                {
                  "Userscore": 10,
                  "Username": "mullDie",
                  "Game_ID": 20,
                  "_deepnote_index_column": 10775
                },
                {
                  "Userscore": 10,
                  "Username": "mullDie",
                  "Game_ID": 56,
                  "_deepnote_index_column": 27953
                },
                {
                  "Userscore": 10,
                  "Username": "mullDie",
                  "Game_ID": 110,
                  "_deepnote_index_column": 46399
                },
                {
                  "Userscore": 10,
                  "Username": "Deathwurm",
                  "Game_ID": 75,
                  "_deepnote_index_column": 36355
                },
                {
                  "Userscore": 9,
                  "Username": "Deathwurm",
                  "Game_ID": 329,
                  "_deepnote_index_column": 83345
                },
                {
                  "Userscore": 10,
                  "Username": "Deathwurm",
                  "Game_ID": 793,
                  "_deepnote_index_column": 136061
                },
                {
                  "Userscore": 0,
                  "Username": "KcCyGaming",
                  "Game_ID": 607,
                  "_deepnote_index_column": 115515
                },
                {
                  "Userscore": 9,
                  "Username": "KcCyGaming",
                  "Game_ID": 811,
                  "_deepnote_index_column": 144830
                },
                {
                  "Userscore": 10,
                  "Username": "KcCyGaming",
                  "Game_ID": 1409,
                  "_deepnote_index_column": 190635
                },
                {
                  "Userscore": 8,
                  "Username": "GamersInk",
                  "Game_ID": 32,
                  "_deepnote_index_column": 17404
                },
                {
                  "Userscore": 9,
                  "Username": "GamersInk",
                  "Game_ID": 122,
                  "_deepnote_index_column": 48007
                },
                {
                  "Userscore": 9,
                  "Username": "GamersInk",
                  "Game_ID": 144,
                  "_deepnote_index_column": 55337
                },
                {
                  "Userscore": 9,
                  "Username": "GamersInk",
                  "Game_ID": 388,
                  "_deepnote_index_column": 89685
                },
                {
                  "Userscore": 10,
                  "Username": "MCFThousandCuts",
                  "Game_ID": 142,
                  "_deepnote_index_column": 54054
                },
                {
                  "Userscore": 4,
                  "Username": "MCFThousandCuts",
                  "Game_ID": 811,
                  "_deepnote_index_column": 145760
                },
                {
                  "Userscore": 10,
                  "Username": "MCFThousandCuts",
                  "Game_ID": 1487,
                  "_deepnote_index_column": 195855
                },
                {
                  "Userscore": 9,
                  "Username": "MCFThousandCuts",
                  "Game_ID": 2157,
                  "_deepnote_index_column": 232039
                },
                {
                  "Userscore": 1,
                  "Username": "MCFThousandCuts",
                  "Game_ID": 2427,
                  "_deepnote_index_column": 243380
                },
                {
                  "Userscore": 8,
                  "Username": "MCFThousandCuts",
                  "Game_ID": 3393,
                  "_deepnote_index_column": 283208
                },
                {
                  "Userscore": 10,
                  "Username": "fingfrenchy",
                  "Game_ID": 21,
                  "_deepnote_index_column": 12711
                },
                {
                  "Userscore": 10,
                  "Username": "fingfrenchy",
                  "Game_ID": 33,
                  "_deepnote_index_column": 17996
                },
                {
                  "Userscore": 10,
                  "Username": "fingfrenchy",
                  "Game_ID": 458,
                  "_deepnote_index_column": 99910
                },
                {
                  "Userscore": 10,
                  "Username": "fingfrenchy",
                  "Game_ID": 1016,
                  "_deepnote_index_column": 162232
                },
                {
                  "Userscore": 10,
                  "Username": "fingfrenchy",
                  "Game_ID": 1346,
                  "_deepnote_index_column": 185491
                },
                {
                  "Userscore": 9,
                  "Username": "fingfrenchy",
                  "Game_ID": 2262,
                  "_deepnote_index_column": 237526
                },
                {
                  "Userscore": 0,
                  "Username": "Cluefulgamer",
                  "Game_ID": 1055,
                  "_deepnote_index_column": 164773
                },
                {
                  "Userscore": 0,
                  "Username": "Cluefulgamer",
                  "Game_ID": 1166,
                  "_deepnote_index_column": 173600
                },
                {
                  "Userscore": 0,
                  "Username": "Cluefulgamer",
                  "Game_ID": 1934,
                  "_deepnote_index_column": 220395
                },
                {
                  "Userscore": 9,
                  "Username": "Ed1",
                  "Game_ID": 532,
                  "_deepnote_index_column": 106485
                },
                {
                  "Userscore": 9,
                  "Username": "Ed1",
                  "Game_ID": 533,
                  "_deepnote_index_column": 107292
                },
                {
                  "Userscore": 7,
                  "Username": "Ed1",
                  "Game_ID": 3039,
                  "_deepnote_index_column": 267929
                },
                {
                  "Userscore": 2,
                  "Username": "Ed1",
                  "Game_ID": 3154,
                  "_deepnote_index_column": 274492
                },
                {
                  "Userscore": 10,
                  "Username": "leonlp12",
                  "Game_ID": 99,
                  "_deepnote_index_column": 42957
                },
                {
                  "Userscore": 8,
                  "Username": "leonlp12",
                  "Game_ID": 195,
                  "_deepnote_index_column": 65050
                },
                {
                  "Userscore": 10,
                  "Username": "leonlp12",
                  "Game_ID": 437,
                  "_deepnote_index_column": 93321
                },
                {
                  "Userscore": 9,
                  "Username": "leonlp12",
                  "Game_ID": 504,
                  "_deepnote_index_column": 104043
                },
                {
                  "Userscore": 10,
                  "Username": "TheLooseHunter",
                  "Game_ID": 0,
                  "_deepnote_index_column": 160
                },
                {
                  "Userscore": 10,
                  "Username": "TheLooseHunter",
                  "Game_ID": 18,
                  "_deepnote_index_column": 10565
                },
                {
                  "Userscore": 10,
                  "Username": "TheLooseHunter",
                  "Game_ID": 24,
                  "_deepnote_index_column": 14468
                },
                {
                  "Userscore": 10,
                  "Username": "TheLooseHunter",
                  "Game_ID": 94,
                  "_deepnote_index_column": 41811
                },
                {
                  "Userscore": 10,
                  "Username": "TheLooseHunter",
                  "Game_ID": 195,
                  "_deepnote_index_column": 64561
                },
                {
                  "Userscore": 10,
                  "Username": "TheLooseHunter",
                  "Game_ID": 212,
                  "_deepnote_index_column": 69375
                },
                {
                  "Userscore": 10,
                  "Username": "TheLooseHunter",
                  "Game_ID": 851,
                  "_deepnote_index_column": 149429
                },
                {
                  "Userscore": 10,
                  "Username": "TheLooseHunter",
                  "Game_ID": 1224,
                  "_deepnote_index_column": 178323
                },
                {
                  "Userscore": 9,
                  "Username": "TheLooseHunter",
                  "Game_ID": 1540,
                  "_deepnote_index_column": 199668
                },
                {
                  "Userscore": 10,
                  "Username": "TheLooseHunter",
                  "Game_ID": 1789,
                  "_deepnote_index_column": 214063
                },
                {
                  "Userscore": 10,
                  "Username": "TheLooseHunter",
                  "Game_ID": 3034,
                  "_deepnote_index_column": 267348
                },
                {
                  "Userscore": 10,
                  "Username": "Nate",
                  "Game_ID": 99,
                  "_deepnote_index_column": 43027
                },
                {
                  "Userscore": 10,
                  "Username": "Nate",
                  "Game_ID": 237,
                  "_deepnote_index_column": 72325
                },
                {
                  "Userscore": 5,
                  "Username": "Nate",
                  "Game_ID": 2523,
                  "_deepnote_index_column": 246094
                },
                {
                  "Userscore": 10,
                  "Username": "Imperadorzcv",
                  "Game_ID": 69,
                  "_deepnote_index_column": 31576
                },
                {
                  "Userscore": 10,
                  "Username": "Imperadorzcv",
                  "Game_ID": 201,
                  "_deepnote_index_column": 67219
                },
                {
                  "Userscore": 9,
                  "Username": "Imperadorzcv",
                  "Game_ID": 639,
                  "_deepnote_index_column": 119910
                },
                {
                  "Userscore": 0,
                  "Username": "Yddraiggoch",
                  "Game_ID": 594,
                  "_deepnote_index_column": 111957
                },
                {
                  "Userscore": 7,
                  "Username": "Yddraiggoch",
                  "Game_ID": 938,
                  "_deepnote_index_column": 157429
                },
                {
                  "Userscore": 3,
                  "Username": "Yddraiggoch",
                  "Game_ID": 1196,
                  "_deepnote_index_column": 175203
                },
                {
                  "Userscore": 2,
                  "Username": "Yddraiggoch",
                  "Game_ID": 1216,
                  "_deepnote_index_column": 177181
                },
                {
                  "Userscore": 0,
                  "Username": "Yddraiggoch",
                  "Game_ID": 2585,
                  "_deepnote_index_column": 248302
                },
                {
                  "Userscore": 7,
                  "Username": "Yddraiggoch",
                  "Game_ID": 2734,
                  "_deepnote_index_column": 254652
                },
                {
                  "Userscore": 10,
                  "Username": "Yddraiggoch",
                  "Game_ID": 3389,
                  "_deepnote_index_column": 282898
                },
                {
                  "Userscore": 10,
                  "Username": "lionofjudah",
                  "Game_ID": 514,
                  "_deepnote_index_column": 104704
                },
                {
                  "Userscore": 10,
                  "Username": "lionofjudah",
                  "Game_ID": 643,
                  "_deepnote_index_column": 120309
                },
                {
                  "Userscore": 1,
                  "Username": "lionofjudah",
                  "Game_ID": 950,
                  "_deepnote_index_column": 158591
                },
                {
                  "Userscore": 9,
                  "Username": "lionofjudah",
                  "Game_ID": 1630,
                  "_deepnote_index_column": 203343
                },
                {
                  "Userscore": 10,
                  "Username": "lionofjudah",
                  "Game_ID": 1806,
                  "_deepnote_index_column": 214717
                },
                {
                  "Userscore": 10,
                  "Username": "AlexN.",
                  "Game_ID": 1748,
                  "_deepnote_index_column": 211394
                },
                {
                  "Userscore": 10,
                  "Username": "AlexN.",
                  "Game_ID": 2375,
                  "_deepnote_index_column": 242135
                },
                {
                  "Userscore": 9,
                  "Username": "AlexN.",
                  "Game_ID": 2834,
                  "_deepnote_index_column": 258319
                },
                {
                  "Userscore": 9,
                  "Username": "zenmechanic",
                  "Game_ID": 33,
                  "_deepnote_index_column": 17628
                },
                {
                  "Userscore": 8,
                  "Username": "zenmechanic",
                  "Game_ID": 70,
                  "_deepnote_index_column": 32734
                },
                {
                  "Userscore": 5,
                  "Username": "zenmechanic",
                  "Game_ID": 549,
                  "_deepnote_index_column": 108721
                }
              ]
            },
            "text/plain": "            Userscore     Username  Game_ID\nUnnamed: 0                                 \n100920              3       AlanG.      474\n106599             10       AlanG.      532\n106906              9       AlanG.      532\n197380              9       AlanG.     1525\n10713              10       TonyM.       20\n...               ...          ...      ...\n242135             10       AlexN.     2375\n258319              9       AlexN.     2834\n17628               9  zenmechanic       33\n32734               8  zenmechanic       70\n108721              5  zenmechanic      549\n\n[14918 rows x 3 columns]",
            "text/html": "<div>\n<style scoped>\n    .dataframe tbody tr th:only-of-type {\n        vertical-align: middle;\n    }\n\n    .dataframe tbody tr th {\n        vertical-align: top;\n    }\n\n    .dataframe thead th {\n        text-align: right;\n    }\n</style>\n<table border=\"1\" class=\"dataframe\">\n  <thead>\n    <tr style=\"text-align: right;\">\n      <th></th>\n      <th>Userscore</th>\n      <th>Username</th>\n      <th>Game_ID</th>\n    </tr>\n    <tr>\n      <th>Unnamed: 0</th>\n      <th></th>\n      <th></th>\n      <th></th>\n    </tr>\n  </thead>\n  <tbody>\n    <tr>\n      <th>100920</th>\n      <td>3</td>\n      <td>AlanG.</td>\n      <td>474</td>\n    </tr>\n    <tr>\n      <th>106599</th>\n      <td>10</td>\n      <td>AlanG.</td>\n      <td>532</td>\n    </tr>\n    <tr>\n      <th>106906</th>\n      <td>9</td>\n      <td>AlanG.</td>\n      <td>532</td>\n    </tr>\n    <tr>\n      <th>197380</th>\n      <td>9</td>\n      <td>AlanG.</td>\n      <td>1525</td>\n    </tr>\n    <tr>\n      <th>10713</th>\n      <td>10</td>\n      <td>TonyM.</td>\n      <td>20</td>\n    </tr>\n    <tr>\n      <th>...</th>\n      <td>...</td>\n      <td>...</td>\n      <td>...</td>\n    </tr>\n    <tr>\n      <th>242135</th>\n      <td>10</td>\n      <td>AlexN.</td>\n      <td>2375</td>\n    </tr>\n    <tr>\n      <th>258319</th>\n      <td>9</td>\n      <td>AlexN.</td>\n      <td>2834</td>\n    </tr>\n    <tr>\n      <th>17628</th>\n      <td>9</td>\n      <td>zenmechanic</td>\n      <td>33</td>\n    </tr>\n    <tr>\n      <th>32734</th>\n      <td>8</td>\n      <td>zenmechanic</td>\n      <td>70</td>\n    </tr>\n    <tr>\n      <th>108721</th>\n      <td>5</td>\n      <td>zenmechanic</td>\n      <td>549</td>\n    </tr>\n  </tbody>\n</table>\n<p>14918 rows × 3 columns</p>\n</div>"
          },
          "metadata": {}
        }
      ]
    },
    {
      "cell_type": "code",
      "metadata": {
        "tags": [],
        "cell_id": "00004-687f5bd4-aa5a-4fb1-8355-2a0af5391958",
        "deepnote_to_be_reexecuted": false,
        "source_hash": "d2be881f",
        "execution_millis": 405,
        "execution_start": 1615321986088,
        "deepnote_cell_type": "code"
      },
      "source": "# information consists of game title, genres, platform, and number of players (no_players)\n# game_info0 = game_data['Genre'].apply(lambda s: s.split(';'))\n# game_info1 = game_data['Genre'].apply(lambda s: s.split(';')) + game_data['No_Players'].apply(lambda s: [str(s)])\n# game_info2 = game_data['Publisher'].apply(lambda s: [s]) + game_data['Genre'].apply(lambda s: s.split(';'))\n# game_info2 = game_data['Genre'].apply(lambda s: s.split(';')) + game_data['Platform'].apply(lambda s: [s])\n# game_info3 = game_data['Title'].apply(lambda s: s.split()) + game_data['Publisher'].apply(lambda s: [s]) + game_data['Genre'].apply(lambda s: s.split(';'))\n# game_info4 = game_data['Title'].apply(lambda s: s.split()) + game_data['Publisher'].apply(lambda s: [s]) + game_data['Genre'].apply(lambda s: s.split(';')) + game_data['Platform'].apply(lambda s: [s])\n# game_info5 = game_data['Title'].apply(lambda s: s.split()) + game_data['Publisher'].apply(lambda s: [s]) + game_data['Genre'].apply(lambda s: s.split(';')) + game_data['Platform'].apply(lambda s: [s]) + game_data['No_Players'].apply(lambda s: [str(s)])\ngame_info = game_data['Title'].apply(lambda s: s.split()) + game_data['Publisher'].apply(lambda s: [s]) + game_data['Genre'].apply(lambda s: s.split(';')) + game_data['Platform'].apply(lambda s: [s]) + game_data['No_Players'].apply(lambda s: [str(s)])\n# game_info = game_data['Title'].apply(lambda s: s.split()) + game_data['Publisher'].apply(lambda s: [s]) + game_data['Genre'].apply(lambda s: s.split(';')) + game_data['Platform'].apply(lambda s: [s]) + game_data['No_Players'].apply(lambda s: [str(s)])\n\n\n# Analyzer will strip non-alphanumeric characters and ignore case\ntf = TfidfVectorizer(analyzer=lambda i: map(lambda s: ''.join(filter(str.isalnum, s.lower())), i))\ntfidf_matrix = tf.fit_transform(game_info)\n\n# pd.DataFrame(tfidf_matrix.todense(), columns=tf.get_feature_names(), index=game_data['Title'])",
      "execution_count": 5,
      "outputs": []
    },
    {
      "cell_type": "code",
      "metadata": {
        "tags": [],
        "cell_id": "00007-8c0536fc-a3aa-4821-a747-c93d36e2afdc",
        "deepnote_to_be_reexecuted": false,
        "source_hash": "7d21a9d7",
        "execution_millis": 580,
        "execution_start": 1615321986493,
        "deepnote_cell_type": "code"
      },
      "source": "cosine_sim = cosine_similarity(tfidf_matrix)\n# cosine_sim",
      "execution_count": 6,
      "outputs": []
    },
    {
      "cell_type": "code",
      "metadata": {
        "tags": [],
        "cell_id": "00014-c091e3fb-b8cf-45d5-9aa3-fba5b98ac96d",
        "deepnote_to_be_reexecuted": false,
        "source_hash": "fde7ad67",
        "execution_millis": 7,
        "execution_start": 1615321987083,
        "deepnote_cell_type": "code"
      },
      "source": "def predict_rating(rating, dataset):\n\n    # print(\"Queried game\")\n    # print(game_data.iloc[rating.Game_ID])\n\n    # Get all ratings from the user\n    user_ratings = dataset[dataset['Username'] == rating.Username]\n\n    # Make a prediction. Prediction is a weighted average of the user's ratings of other games, weighted by similarity\n    prediction = 0\n    normalization_factor = 0\n    for index, user_rating in user_ratings.iterrows():\n\n        # Ignore the rating we are trying to predict\n        if index == rating.name:\n            continue\n\n        similarity = cosine_sim[user_rating.Game_ID, rating.Game_ID]\n        \n        # print(\"\\nSimilar Game Rated by the Same User\")\n        # print(game_data.iloc[user_rating.Game_ID])\n\n        # print(\"\\nuser's score:\", user_rating.Userscore)\n        # print(\"similarity:\", similarity)\n\n        prediction += user_rating.Userscore * similarity\n        normalization_factor += similarity\n\n    # If the user has not reviewed any similar game, then predict the average userscore of the queried game\n    if not normalization_factor:\n        game_avg_userscore = pd.to_numeric(game_data.loc[rating.Game_ID].Avg_Userscore, errors='coerce')\n        if game_avg_userscore == np.nan:\n            prediction = user_data_train_mean_userscore\n        else:\n            prediction = game_avg_userscore\n    else:\n        # normalize the predicted rating\n        prediction = prediction / normalization_factor\n\n    # Predicted rating after normalization minus actual score\n    # print('\\nResults')\n    # print('prediction:', prediction)\n    # print('actual:', rating.Userscore)\n    return prediction",
      "execution_count": 7,
      "outputs": []
    },
    {
      "cell_type": "code",
      "metadata": {
        "tags": [],
        "cell_id": "00009-ad2a2fee-62f1-41b4-a0d5-a7ab7b7cd934",
        "deepnote_to_be_reexecuted": false,
        "source_hash": "1b7fa106",
        "execution_millis": 270931,
        "output_cleared": false,
        "execution_start": 1615321987096,
        "deepnote_cell_type": "code"
      },
      "source": "dataset = user_data_test\npredictions = dataset.apply(lambda r: predict_rating(r, dataset), axis=1)",
      "execution_count": 8,
      "outputs": []
    },
    {
      "cell_type": "code",
      "metadata": {
        "tags": [],
        "cell_id": "00009-ad005bdb-5220-45c9-8095-bb213f7771a7",
        "deepnote_to_be_reexecuted": false,
        "source_hash": "70d6a60f",
        "execution_millis": 7189,
        "execution_start": 1615322258028,
        "deepnote_cell_type": "code"
      },
      "source": "avg_userscores = dataset.apply(lambda r: game_data.loc[r['Game_ID']]['Avg_Userscore'], axis=1)\navg_userscores = pd.to_numeric(avg_userscores, errors='coerce')\navg_userscores = avg_userscores.replace(np.nan, user_data_train_mean_userscore)",
      "execution_count": 9,
      "outputs": []
    },
    {
      "cell_type": "code",
      "metadata": {
        "tags": [],
        "cell_id": "00010-1acd8c37-0784-4f26-a59a-68bbbfb486d8",
        "deepnote_to_be_reexecuted": false,
        "source_hash": "45a0cc8e",
        "execution_millis": 77,
        "execution_start": 1615322265225,
        "deepnote_cell_type": "code"
      },
      "source": "predictions_rmse = ((predictions - dataset['Userscore'])**2).mean()**0.5\nbaseline_rmse = ((user_data_train_mean_userscore - dataset['Userscore'])**2).mean()**0.5\navg_userscore_rmse = ((avg_userscores - dataset['Userscore'])**2).mean()**0.5\nprint('RMSE of Predictions:', predictions_rmse)\nprint('RMSE of Training Mean:', baseline_rmse)\nprint('RMSE of Game Avg Userscores:', avg_userscore_rmse)",
      "execution_count": 10,
      "outputs": [
        {
          "name": "stdout",
          "text": "RMSE of Predictions: 2.6723915986954228\nRMSE of Training Mean: 2.7464267971419734\nRMSE of Game Avg Userscores: 2.5109615650812427\n",
          "output_type": "stream"
        }
      ]
    },
    {
      "cell_type": "code",
      "metadata": {
        "tags": [],
        "cell_id": "00010-63556f91-48c1-4040-8ebf-c89cc3ce05e3",
        "deepnote_to_be_reexecuted": false,
        "source_hash": "3c2349e0",
        "execution_millis": 17893,
        "output_cleared": false,
        "execution_start": 1615323786706,
        "deepnote_cell_type": "code"
      },
      "source": "user_name_list = dataset['Username'].drop_duplicates().reset_index(drop=True)\n\nthreshold = 5 # threshold userscore for the game to be considered a 'positive' recommendation\npositive_predictions = dataset[predictions > threshold]\npositive_ratings = dataset[dataset['Userscore'] > threshold]\n\nratio = 0\nfor user in user_name_list:\n    # get list of ratings from the user whose score was positive\n    user_positive_ratings = positive_ratings[positive_ratings['Username'] == user]\n\n    # of the user's positive ratings, which of our predictions for the same games were also positive?\n    positive_coverage = positive_predictions.index.intersection(user_positive_ratings.index)\n\n    if len(user_positive_ratings) != 0:\n        ratio += len(positive_coverage) / len(user_positive_ratings)\nratio /= len(user_name_list)\nprint('Average over all users the ratio of games recommended to them among the games the user rated positively versus the number of games the user rated positively:', ratio)\n# This is much higher than that of the results of https://audreygermain.github.io/Game-Recommendation-System/#content-based\n# however this is because we are able to give predictions to users whom we have no data of.",
      "execution_count": 35,
      "outputs": [
        {
          "name": "stdout",
          "text": "Average over all users the ratio of games recommended to them among the games the user rated positively versus the number of games the user rated positively: 0.8405922951940865\n",
          "output_type": "stream"
        }
      ]
    },
    {
      "cell_type": "markdown",
      "source": "Cite our sources: https://towardsdatascience.com/content-based-recommender-systems-28a1dbd858f5\nWrite up results in paper",
      "metadata": {
        "tags": [],
        "cell_id": "00020-87a0fef7-989d-4a27-ab85-75cd44b47b5b",
        "deepnote_cell_type": "markdown"
      }
    },
    {
      "cell_type": "markdown",
      "source": "<a style='text-decoration:none;line-height:16px;display:flex;color:#5B5B62;padding:10px;justify-content:end;' href='https://deepnote.com?utm_source=created-in-deepnote-cell&projectId=eb4e4242-5846-4617-af0a-480720b8ff22' target=\"_blank\">\n<img style='display:inline;max-height:16px;margin:0px;margin-right:7.5px;' src='data:image/svg+xml;base64,PD94bWwgdmVyc2lvbj0iMS4wIiBlbmNvZGluZz0iVVRGLTgiPz4KPHN2ZyB3aWR0aD0iODBweCIgaGVpZ2h0PSI4MHB4IiB2aWV3Qm94PSIwIDAgODAgODAiIHZlcnNpb249IjEuMSIgeG1sbnM9Imh0dHA6Ly93d3cudzMub3JnLzIwMDAvc3ZnIiB4bWxuczp4bGluaz0iaHR0cDovL3d3dy53My5vcmcvMTk5OS94bGluayI+CiAgICA8IS0tIEdlbmVyYXRvcjogU2tldGNoIDU0LjEgKDc2NDkwKSAtIGh0dHBzOi8vc2tldGNoYXBwLmNvbSAtLT4KICAgIDx0aXRsZT5Hcm91cCAzPC90aXRsZT4KICAgIDxkZXNjPkNyZWF0ZWQgd2l0aCBTa2V0Y2guPC9kZXNjPgogICAgPGcgaWQ9IkxhbmRpbmciIHN0cm9rZT0ibm9uZSIgc3Ryb2tlLXdpZHRoPSIxIiBmaWxsPSJub25lIiBmaWxsLXJ1bGU9ImV2ZW5vZGQiPgogICAgICAgIDxnIGlkPSJBcnRib2FyZCIgdHJhbnNmb3JtPSJ0cmFuc2xhdGUoLTEyMzUuMDAwMDAwLCAtNzkuMDAwMDAwKSI+CiAgICAgICAgICAgIDxnIGlkPSJHcm91cC0zIiB0cmFuc2Zvcm09InRyYW5zbGF0ZSgxMjM1LjAwMDAwMCwgNzkuMDAwMDAwKSI+CiAgICAgICAgICAgICAgICA8cG9seWdvbiBpZD0iUGF0aC0yMCIgZmlsbD0iIzAyNjVCNCIgcG9pbnRzPSIyLjM3NjIzNzYyIDgwIDM4LjA0NzY2NjcgODAgNTcuODIxNzgyMiA3My44MDU3NTkyIDU3LjgyMTc4MjIgMzIuNzU5MjczOSAzOS4xNDAyMjc4IDMxLjY4MzE2ODMiPjwvcG9seWdvbj4KICAgICAgICAgICAgICAgIDxwYXRoIGQ9Ik0zNS4wMDc3MTgsODAgQzQyLjkwNjIwMDcsNzYuNDU0OTM1OCA0Ny41NjQ5MTY3LDcxLjU0MjI2NzEgNDguOTgzODY2LDY1LjI2MTk5MzkgQzUxLjExMjI4OTksNTUuODQxNTg0MiA0MS42NzcxNzk1LDQ5LjIxMjIyODQgMjUuNjIzOTg0Niw0OS4yMTIyMjg0IEMyNS40ODQ5Mjg5LDQ5LjEyNjg0NDggMjkuODI2MTI5Niw0My4yODM4MjQ4IDM4LjY0NzU4NjksMzEuNjgzMTY4MyBMNzIuODcxMjg3MSwzMi41NTQ0MjUgTDY1LjI4MDk3Myw2Ny42NzYzNDIxIEw1MS4xMTIyODk5LDc3LjM3NjE0NCBMMzUuMDA3NzE4LDgwIFoiIGlkPSJQYXRoLTIyIiBmaWxsPSIjMDAyODY4Ij48L3BhdGg+CiAgICAgICAgICAgICAgICA8cGF0aCBkPSJNMCwzNy43MzA0NDA1IEwyNy4xMTQ1MzcsMC4yNTcxMTE0MzYgQzYyLjM3MTUxMjMsLTEuOTkwNzE3MDEgODAsMTAuNTAwMzkyNyA4MCwzNy43MzA0NDA1IEM4MCw2NC45NjA0ODgyIDY0Ljc3NjUwMzgsNzkuMDUwMzQxNCAzNC4zMjk1MTEzLDgwIEM0Ny4wNTUzNDg5LDc3LjU2NzA4MDggNTMuNDE4MjY3Nyw3MC4zMTM2MTAzIDUzLjQxODI2NzcsNTguMjM5NTg4NSBDNTMuNDE4MjY3Nyw0MC4xMjg1NTU3IDM2LjMwMzk1NDQsMzcuNzMwNDQwNSAyNS4yMjc0MTcsMzcuNzMwNDQwNSBDMTcuODQzMDU4NiwzNy43MzA0NDA1IDkuNDMzOTE5NjYsMzcuNzMwNDQwNSAwLDM3LjczMDQ0MDUgWiIgaWQ9IlBhdGgtMTkiIGZpbGw9IiMzNzkzRUYiPjwvcGF0aD4KICAgICAgICAgICAgPC9nPgogICAgICAgIDwvZz4KICAgIDwvZz4KPC9zdmc+' > </img>\nCreated in <span style='font-weight:600;margin-left:4px;'>Deepnote</span></a>",
      "metadata": {
        "tags": [],
        "created_in_deepnote_cell": true,
        "deepnote_cell_type": "markdown"
      }
    }
  ],
  "nbformat": 4,
  "nbformat_minor": 2,
  "metadata": {
    "orig_nbformat": 2,
    "deepnote_notebook_id": "67e075c0-3618-47c2-bb7e-4ddb139ef45e",
    "deepnote": {},
    "deepnote_execution_queue": []
  }
}