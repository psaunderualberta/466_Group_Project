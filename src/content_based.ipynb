{
  "cells": [
    {
      "cell_type": "code",
      "metadata": {
        "tags": [],
        "cell_id": "00000-6fe1a0e7-d195-4694-9788-c6aa4c039364",
        "deepnote_to_be_reexecuted": false,
        "source_hash": "a0d0e4f9",
        "execution_millis": 783,
        "execution_start": 1615222757885,
        "deepnote_cell_type": "code"
      },
      "source": "import pandas as pd\nfrom sklearn.feature_extraction.text import TfidfVectorizer\nfrom sklearn.metrics.pairwise import cosine_similarity\nfrom sklearn.preprocessing import OneHotEncoder\nfrom itertools import combinations\nfrom math import sqrt\nimport numpy as np",
      "execution_count": 2,
      "outputs": []
    },
    {
      "cell_type": "code",
      "metadata": {
        "tags": [],
        "cell_id": "00002-9400c6ae-7bdc-4597-ae42-4f9d79c4f28e",
        "deepnote_to_be_reexecuted": false,
        "source_hash": "ddb18b73",
        "execution_millis": 124,
        "execution_start": 1615222759212,
        "deepnote_cell_type": "code"
      },
      "source": "game_data = pd.read_csv('data/game_info.csv', index_col=0)\nuser_data_train = pd.read_csv('data/user_data_train_no_comments.csv', index_col=0)\nuser_data_test = pd.read_csv('data/user_data_test_no_comments.csv', index_col=0)\nuser_data_train_mean_userscore = user_data_train['Userscore'].mean()",
      "execution_count": 3,
      "outputs": []
    },
    {
      "cell_type": "code",
      "metadata": {
        "tags": [],
        "cell_id": "00002-3b562679-9328-4557-bf25-c54d2513b421",
        "deepnote_to_be_reexecuted": false,
        "source_hash": "42e4f3dd",
        "execution_millis": 73,
        "execution_start": 1615222761271,
        "deepnote_cell_type": "code"
      },
      "source": "game_data",
      "execution_count": 4,
      "outputs": [
        {
          "output_type": "execute_result",
          "execution_count": 4,
          "data": {
            "application/vnd.deepnote.dataframe.v2+json": {
              "row_count": 5000,
              "column_count": 8,
              "columns": [
                {
                  "name": "Title",
                  "dtype": "object",
                  "stats": {
                    "unique_count": 3438,
                    "nan_count": 0,
                    "categories": [
                      {
                        "name": "Madden NFL 07",
                        "count": 7
                      },
                      {
                        "name": "Tony Hawk's Pro Skater 3",
                        "count": 6
                      },
                      {
                        "name": "3436 others",
                        "count": 4987
                      }
                    ]
                  }
                },
                {
                  "name": "Year",
                  "dtype": "object",
                  "stats": {
                    "unique_count": 25,
                    "nan_count": 0,
                    "categories": [
                      {
                        "name": "2017",
                        "count": 363
                      },
                      {
                        "name": "2016",
                        "count": 322
                      },
                      {
                        "name": "23 others",
                        "count": 4315
                      }
                    ]
                  }
                },
                {
                  "name": "Publisher",
                  "dtype": "object",
                  "stats": {
                    "unique_count": 1238,
                    "nan_count": 0,
                    "categories": [
                      {
                        "name": "Capcom",
                        "count": 131
                      },
                      {
                        "name": "EASports",
                        "count": 130
                      },
                      {
                        "name": "1236 others",
                        "count": 4739
                      }
                    ]
                  }
                },
                {
                  "name": "Genre",
                  "dtype": "object",
                  "stats": {
                    "unique_count": 927,
                    "nan_count": 0,
                    "categories": [
                      {
                        "name": "Action;Platformer;2D",
                        "count": 142
                      },
                      {
                        "name": "Action;Platformer;Platformer;2D;2D",
                        "count": 110
                      },
                      {
                        "name": "925 others",
                        "count": 4748
                      }
                    ]
                  }
                },
                {
                  "name": "Platform",
                  "dtype": "object",
                  "stats": {
                    "unique_count": 20,
                    "nan_count": 0,
                    "categories": [
                      {
                        "name": "PC",
                        "count": 1381
                      },
                      {
                        "name": "Xbox360",
                        "count": 516
                      },
                      {
                        "name": "18 others",
                        "count": 3103
                      }
                    ]
                  }
                },
                {
                  "name": "Metascore",
                  "dtype": "object",
                  "stats": {
                    "unique_count": 24,
                    "nan_count": 0,
                    "categories": [
                      {
                        "name": "80",
                        "count": 530
                      },
                      {
                        "name": "78",
                        "count": 511
                      },
                      {
                        "name": "22 others",
                        "count": 3959
                      }
                    ]
                  }
                },
                {
                  "name": "Avg_Userscore",
                  "dtype": "object",
                  "stats": {
                    "unique_count": 70,
                    "nan_count": 0,
                    "categories": [
                      {
                        "name": "8.2",
                        "count": 286
                      },
                      {
                        "name": "8.3",
                        "count": 279
                      },
                      {
                        "name": "68 others",
                        "count": 4435
                      }
                    ]
                  }
                },
                {
                  "name": "No_Players",
                  "dtype": "object",
                  "stats": {
                    "unique_count": 52,
                    "nan_count": 7,
                    "categories": [
                      {
                        "name": "not specified",
                        "count": 1550
                      },
                      {
                        "name": "51 others",
                        "count": 3443
                      },
                      {
                        "name": "Missing",
                        "count": 7
                      }
                    ]
                  }
                },
                {
                  "name": "_deepnote_index_column",
                  "dtype": "int64"
                }
              ],
              "rows_top": [
                {
                  "Title": "The Legend of Zelda: Ocarina of Time",
                  "Year": "1998",
                  "Publisher": "Nintendo",
                  "Genre": "Action Adventure;Fantasy",
                  "Platform": "Nintendo64",
                  "Metascore": "99",
                  "Avg_Userscore": "9.1",
                  "No_Players": "1 Player",
                  "_deepnote_index_column": 0
                },
                {
                  "Title": "Tony Hawk's Pro Skater 2",
                  "Year": "2000",
                  "Publisher": "NeversoftEntertainment",
                  "Genre": "Sports;Alternative;Skateboarding",
                  "Platform": "PlayStation",
                  "Metascore": "98",
                  "Avg_Userscore": "7.4",
                  "No_Players": "1-2 ",
                  "_deepnote_index_column": 1
                },
                {
                  "Title": "Grand Theft Auto IV",
                  "Year": "2008",
                  "Publisher": "RockstarNorth",
                  "Genre": "Action Adventure;Modern;Modern;Open-World",
                  "Platform": "PlayStation3",
                  "Metascore": "98",
                  "Avg_Userscore": "7.5",
                  "No_Players": "1 Player",
                  "_deepnote_index_column": 2
                },
                {
                  "Title": "SoulCalibur",
                  "Year": "1999",
                  "Publisher": "Namco",
                  "Genre": "Action;Fighting;3D",
                  "Platform": "Dreamcast",
                  "Metascore": "98",
                  "Avg_Userscore": "8.6",
                  "No_Players": "1-2 ",
                  "_deepnote_index_column": 3
                },
                {
                  "Title": "Grand Theft Auto IV",
                  "Year": "2008",
                  "Publisher": "RockstarNorth",
                  "Genre": "Action Adventure;Modern;Modern;Open-World",
                  "Platform": "Xbox360",
                  "Metascore": "98",
                  "Avg_Userscore": "7.9",
                  "No_Players": "1 Player",
                  "_deepnote_index_column": 4
                },
                {
                  "Title": "Super Mario Galaxy",
                  "Year": "2007",
                  "Publisher": "Nintendo",
                  "Genre": "Action;Platformer;Platformer;3D;3D",
                  "Platform": "Wii",
                  "Metascore": "97",
                  "Avg_Userscore": "9.0",
                  "No_Players": "No Online Multiplayer",
                  "_deepnote_index_column": 5
                },
                {
                  "Title": "Super Mario Galaxy 2",
                  "Year": "2010",
                  "Publisher": "NintendoEADTokyo",
                  "Genre": "Action;Platformer;Platformer;3D;3D",
                  "Platform": "Wii",
                  "Metascore": "97",
                  "Avg_Userscore": "9.1",
                  "No_Players": "No Online Multiplayer",
                  "_deepnote_index_column": 6
                },
                {
                  "Title": "Grand Theft Auto V",
                  "Year": "2014",
                  "Publisher": "RockstarNorth",
                  "Genre": "Action Adventure;Modern;Open-World",
                  "Platform": "XboxOne",
                  "Metascore": "97",
                  "Avg_Userscore": "7.8",
                  "No_Players": "Up to 30 ",
                  "_deepnote_index_column": 7
                },
                {
                  "Title": "Grand Theft Auto V",
                  "Year": "2013",
                  "Publisher": "RockstarNorth",
                  "Genre": "Modern;Action Adventure;Modern;Open-World",
                  "Platform": "PlayStation3",
                  "Metascore": "97",
                  "Avg_Userscore": "8.3",
                  "No_Players": "Up to 16 ",
                  "_deepnote_index_column": 8
                },
                {
                  "Title": "Grand Theft Auto V",
                  "Year": "2013",
                  "Publisher": "RockstarNorth",
                  "Genre": "Modern;Action Adventure;Modern;Open-World",
                  "Platform": "Xbox360",
                  "Metascore": "97",
                  "Avg_Userscore": "8.3",
                  "No_Players": "Up to 16 ",
                  "_deepnote_index_column": 9
                },
                {
                  "Title": "Tony Hawk's Pro Skater 2",
                  "Year": "2000",
                  "Publisher": "Treyarch",
                  "Genre": "Sports;Alternative;Skateboarding",
                  "Platform": "Dreamcast",
                  "Metascore": "97",
                  "Avg_Userscore": "6.2",
                  "No_Players": "not specified",
                  "_deepnote_index_column": 10
                },
                {
                  "Title": "The Legend of Zelda: Breath of the Wild",
                  "Year": "2017",
                  "Publisher": "Nintendo",
                  "Genre": "Action Adventure;Open-World",
                  "Platform": "Switch",
                  "Metascore": "97",
                  "Avg_Userscore": "8.5",
                  "No_Players": "No Online Multiplayer",
                  "_deepnote_index_column": 11
                },
                {
                  "Title": "Tony Hawk's Pro Skater 3",
                  "Year": "2001",
                  "Publisher": "NeversoftEntertainment",
                  "Genre": "Sports;Alternative;Skateboarding",
                  "Platform": "PlayStation2",
                  "Metascore": "97",
                  "Avg_Userscore": "7.4",
                  "No_Players": "1-2 ",
                  "_deepnote_index_column": 12
                },
                {
                  "Title": "Perfect Dark",
                  "Year": "2000",
                  "Publisher": "RareLtd.",
                  "Genre": "Action;Shooter;First-Person;Sci-Fi",
                  "Platform": "Nintendo64",
                  "Metascore": "97",
                  "Avg_Userscore": "8.9",
                  "No_Players": "not specified",
                  "_deepnote_index_column": 13
                },
                {
                  "Title": "Grand Theft Auto V",
                  "Year": "2014",
                  "Publisher": "RockstarNorth",
                  "Genre": "Action Adventure;Modern;Open-World",
                  "Platform": "PlayStation4",
                  "Metascore": "97",
                  "Avg_Userscore": "8.3",
                  "No_Players": "Up to 30 ",
                  "_deepnote_index_column": 14
                },
                {
                  "Title": "Metroid Prime",
                  "Year": "2002",
                  "Publisher": "RetroStudios",
                  "Genre": "Action;Shooter;First-Person;Sci-Fi",
                  "Platform": "GameCube",
                  "Metascore": "97",
                  "Avg_Userscore": "9.2",
                  "No_Players": "1 Player",
                  "_deepnote_index_column": 15
                },
                {
                  "Title": "Grand Theft Auto III",
                  "Year": "2001",
                  "Publisher": "DMADesign",
                  "Genre": "Action Adventure;Modern",
                  "Platform": "PlayStation2",
                  "Metascore": "97",
                  "Avg_Userscore": "8.5",
                  "No_Players": "1 Player",
                  "_deepnote_index_column": 16
                },
                {
                  "Title": "Super Mario Odyssey",
                  "Year": "2017",
                  "Publisher": "Nintendo",
                  "Genre": "Action;Platformer;3D",
                  "Platform": "Switch",
                  "Metascore": "97",
                  "Avg_Userscore": "8.9",
                  "No_Players": "No Online Multiplayer",
                  "_deepnote_index_column": 17
                },
                {
                  "Title": "Halo: Combat Evolved",
                  "Year": "2001",
                  "Publisher": "BungieSoftware",
                  "Genre": "Action;Shooter;First-Person;Sci-Fi",
                  "Platform": "Xbox",
                  "Metascore": "97",
                  "Avg_Userscore": "8.6",
                  "No_Players": "1-4 ",
                  "_deepnote_index_column": 18
                },
                {
                  "Title": "NFL 2K1",
                  "Year": "2000",
                  "Publisher": "VisualConcepts",
                  "Genre": "Sports;Traditional;Football;Sim",
                  "Platform": "Dreamcast",
                  "Metascore": "97",
                  "Avg_Userscore": "6.4",
                  "No_Players": "not specified",
                  "_deepnote_index_column": 19
                },
                {
                  "Title": "Half-Life 2",
                  "Year": "2004",
                  "Publisher": "ValveSoftware",
                  "Genre": "Action;Shooter;Shooter;First-Person;Sci-Fi;Sci-Fi;Arcade",
                  "Platform": "PC",
                  "Metascore": "96",
                  "Avg_Userscore": "9.1",
                  "No_Players": "No Online Multiplayer",
                  "_deepnote_index_column": 20
                },
                {
                  "Title": "Grand Theft Auto V",
                  "Year": "2015",
                  "Publisher": "RockstarNorth",
                  "Genre": "Modern;Action Adventure;Open-World",
                  "Platform": "PC",
                  "Metascore": "96",
                  "Avg_Userscore": "7.7",
                  "No_Players": "Up to 32 ",
                  "_deepnote_index_column": 21
                },
                {
                  "Title": "The Legend of Zelda: Breath of the Wild",
                  "Year": "2017",
                  "Publisher": "Nintendo",
                  "Genre": "Fantasy;Fantasy;Action Adventure;Open-World",
                  "Platform": "WiiU",
                  "Metascore": "96",
                  "Avg_Userscore": "8.2",
                  "No_Players": "No Online Multiplayer",
                  "_deepnote_index_column": 22
                },
                {
                  "Title": "BioShock",
                  "Year": "2007",
                  "Publisher": "IrrationalGames,2KMarin",
                  "Genre": "Action;Shooter;Shooter;First-Person;Sci-Fi;Sci-Fi;Arcade",
                  "Platform": "Xbox360",
                  "Metascore": "96",
                  "Avg_Userscore": "8.9",
                  "No_Players": "No Online Multiplayer",
                  "_deepnote_index_column": 23
                },
                {
                  "Title": "GoldenEye 007",
                  "Year": "1997",
                  "Publisher": "RareLtd.",
                  "Genre": "Action;Shooter;First-Person;Modern",
                  "Platform": "Nintendo64",
                  "Metascore": "96",
                  "Avg_Userscore": "9.1",
                  "No_Players": "1-4 ",
                  "_deepnote_index_column": 24
                },
                {
                  "Title": "Uncharted 2: Among Thieves",
                  "Year": "2009",
                  "Publisher": "NaughtyDog",
                  "Genre": "Action Adventure;Modern;Modern;Linear",
                  "Platform": "PlayStation3",
                  "Metascore": "96",
                  "Avg_Userscore": "8.9",
                  "No_Players": "No Online Multiplayer",
                  "_deepnote_index_column": 25
                },
                {
                  "Title": "Resident Evil 4",
                  "Year": "2005",
                  "Publisher": "Capcom",
                  "Genre": "Action Adventure;Horror",
                  "Platform": "GameCube",
                  "Metascore": "96",
                  "Avg_Userscore": "9.3",
                  "No_Players": "1 Player",
                  "_deepnote_index_column": 26
                },
                {
                  "Title": "The Orange Box",
                  "Year": "2007",
                  "Publisher": "ValveSoftware",
                  "Genre": "Action;Miscellaneous;Shooter;Compilation;First-Person;Sci-Fi",
                  "Platform": "Xbox360",
                  "Metascore": "96",
                  "Avg_Userscore": "8.8",
                  "No_Players": "16  Online",
                  "_deepnote_index_column": 27
                },
                {
                  "Title": "The Orange Box",
                  "Year": "2007",
                  "Publisher": "ValveSoftware",
                  "Genre": "Action;Miscellaneous;Shooter;Compilation;First-Person;Sci-Fi",
                  "Platform": "PC",
                  "Metascore": "96",
                  "Avg_Userscore": "9.2",
                  "No_Players": "16  Online",
                  "_deepnote_index_column": 28
                },
                {
                  "Title": "Batman: Arkham City",
                  "Year": "2011",
                  "Publisher": "RocksteadyStudios",
                  "Genre": "Action Adventure;Fantasy;Fantasy;Open-World",
                  "Platform": "PlayStation3",
                  "Metascore": "96",
                  "Avg_Userscore": "8.7",
                  "No_Players": "No Online Multiplayer",
                  "_deepnote_index_column": 29
                },
                {
                  "Title": "Tekken 3",
                  "Year": "1998",
                  "Publisher": "Namco",
                  "Genre": "Action;Fighting;3D",
                  "Platform": "PlayStation",
                  "Metascore": "96",
                  "Avg_Userscore": "9.1",
                  "No_Players": "1-2 ",
                  "_deepnote_index_column": 30
                },
                {
                  "Title": "Mass Effect 2",
                  "Year": "2010",
                  "Publisher": "BioWare",
                  "Genre": "Role-Playing;Action RPG;Action RPG",
                  "Platform": "Xbox360",
                  "Metascore": "96",
                  "Avg_Userscore": "8.9",
                  "No_Players": "No Online Multiplayer",
                  "_deepnote_index_column": 31
                },
                {
                  "Title": "The Legend of Zelda: Twilight Princess",
                  "Year": "2006",
                  "Publisher": "Nintendo",
                  "Genre": "Action Adventure;Fantasy",
                  "Platform": "GameCube",
                  "Metascore": "96",
                  "Avg_Userscore": "8.9",
                  "No_Players": "1 Player",
                  "_deepnote_index_column": 32
                },
                {
                  "Title": "The Elder Scrolls V: Skyrim",
                  "Year": "2011",
                  "Publisher": "BethesdaGameStudios",
                  "Genre": "Role-Playing;First-Person;First-Person;Western-Style",
                  "Platform": "Xbox360",
                  "Metascore": "96",
                  "Avg_Userscore": "8.5",
                  "No_Players": "No Online Multiplayer",
                  "_deepnote_index_column": 33
                },
                {
                  "Title": "Half-Life",
                  "Year": "1998",
                  "Publisher": "ValveSoftware",
                  "Genre": "Action;Shooter;Shooter;First-Person;Sci-Fi;Sci-Fi;Arcade",
                  "Platform": "PC",
                  "Metascore": "96",
                  "Avg_Userscore": "9.1",
                  "No_Players": "1-32 ",
                  "_deepnote_index_column": 34
                },
                {
                  "Title": "Resident Evil 4",
                  "Year": "2005",
                  "Publisher": "Capcom",
                  "Genre": "Action Adventure;Horror",
                  "Platform": "PlayStation2",
                  "Metascore": "96",
                  "Avg_Userscore": "8.9",
                  "No_Players": "1 Player",
                  "_deepnote_index_column": 35
                },
                {
                  "Title": "The Legend of Zelda: The Wind Waker",
                  "Year": "2003",
                  "Publisher": "Nintendo",
                  "Genre": "Action Adventure;Fantasy",
                  "Platform": "GameCube",
                  "Metascore": "96",
                  "Avg_Userscore": "8.9",
                  "No_Players": "1 Player",
                  "_deepnote_index_column": 36
                },
                {
                  "Title": "Gran Turismo",
                  "Year": "1998",
                  "Publisher": "PolyphonyDigital",
                  "Genre": "Driving;Racing;GT / Street",
                  "Platform": "PlayStation",
                  "Metascore": "96",
                  "Avg_Userscore": "8.6",
                  "No_Players": "1-2 ",
                  "_deepnote_index_column": 37
                },
                {
                  "Title": "BioShock",
                  "Year": "2007",
                  "Publisher": "IrrationalGames,2KMarin",
                  "Genre": "Action;Shooter;Shooter;First-Person;Sci-Fi;Sci-Fi;Arcade",
                  "Platform": "PC",
                  "Metascore": "96",
                  "Avg_Userscore": "8.5",
                  "No_Players": "No Online Multiplayer",
                  "_deepnote_index_column": 38
                },
                {
                  "Title": "Metal Gear Solid 2: Sons of Liberty",
                  "Year": "2001",
                  "Publisher": "KCEJ",
                  "Genre": "Action Adventure;Modern",
                  "Platform": "PlayStation2",
                  "Metascore": "96",
                  "Avg_Userscore": "8.8",
                  "No_Players": "1 Player",
                  "_deepnote_index_column": 39
                },
                {
                  "Title": "Grand Theft Auto Double Pack",
                  "Year": "2003",
                  "Publisher": "RockstarNorth",
                  "Genre": "Miscellaneous;Compilation",
                  "Platform": "Xbox",
                  "Metascore": "96",
                  "Avg_Userscore": "7.9",
                  "No_Players": "1 Player",
                  "_deepnote_index_column": 40
                },
                {
                  "Title": "Baldur's Gate II: Shadows of Amn",
                  "Year": "2000",
                  "Publisher": "BioWare",
                  "Genre": "Role-Playing;PC-style RPG;PC-style RPG;Western-Style",
                  "Platform": "PC",
                  "Metascore": "95",
                  "Avg_Userscore": "9.2",
                  "No_Players": "Up to 6 ",
                  "_deepnote_index_column": 41
                },
                {
                  "Title": "Grand Theft Auto: San Andreas",
                  "Year": "2004",
                  "Publisher": "RockstarNorth",
                  "Genre": "Action Adventure;Modern",
                  "Platform": "PlayStation2",
                  "Metascore": "95",
                  "Avg_Userscore": "9.0",
                  "No_Players": "1-2 ",
                  "_deepnote_index_column": 42
                },
                {
                  "Title": "Grand Theft Auto: Vice City",
                  "Year": "2002",
                  "Publisher": "RockstarNorth",
                  "Genre": "Action Adventure;Modern",
                  "Platform": "PlayStation2",
                  "Metascore": "95",
                  "Avg_Userscore": "8.8",
                  "No_Players": "1 Player",
                  "_deepnote_index_column": 43
                },
                {
                  "Title": "LittleBigPlanet",
                  "Year": "2008",
                  "Publisher": "SCE/WWS,MediaMolecule",
                  "Genre": "Action;Platformer;Platformer;3D;2D;3D",
                  "Platform": "PlayStation3",
                  "Metascore": "95",
                  "Avg_Userscore": "6.8",
                  "No_Players": "Up to 4 ",
                  "_deepnote_index_column": 44
                },
                {
                  "Title": "The Legend of Zelda Collector's Edition",
                  "Year": "2003",
                  "Publisher": "Nintendo",
                  "Genre": "Action Adventure;Fantasy",
                  "Platform": "GameCube",
                  "Metascore": "95",
                  "Avg_Userscore": "9.0",
                  "No_Players": "1 Player",
                  "_deepnote_index_column": 45
                },
                {
                  "Title": "Red Dead Redemption",
                  "Year": "2010",
                  "Publisher": "RockstarSanDiego",
                  "Genre": "Action;Shooter;Third-Person;Historic;Action Adventure;Historic;Historic;Open-World",
                  "Platform": "PlayStation3",
                  "Metascore": "95",
                  "Avg_Userscore": "8.9",
                  "No_Players": "Up to 16 ",
                  "_deepnote_index_column": 46
                },
                {
                  "Title": "Gran Turismo 3: A-Spec",
                  "Year": "2001",
                  "Publisher": "PolyphonyDigital",
                  "Genre": "Driving;Racing;GT / Street",
                  "Platform": "PlayStation2",
                  "Metascore": "95",
                  "Avg_Userscore": "8.4",
                  "No_Players": "1-2 ",
                  "_deepnote_index_column": 47
                },
                {
                  "Title": "Halo 2",
                  "Year": "2004",
                  "Publisher": "BungieSoftware",
                  "Genre": "Action;Shooter;First-Person;Sci-Fi",
                  "Platform": "Xbox",
                  "Metascore": "95",
                  "Avg_Userscore": "8.2",
                  "No_Players": "1-16 ",
                  "_deepnote_index_column": 48
                },
                {
                  "Title": "The Legend of Zelda: A Link to the Past",
                  "Year": "2002",
                  "Publisher": "Capcom",
                  "Genre": "Action Adventure;Fantasy",
                  "Platform": "GameBoyAdvance",
                  "Metascore": "95",
                  "Avg_Userscore": "8.9",
                  "No_Players": "not specified",
                  "_deepnote_index_column": 49
                },
                {
                  "Title": "The Legend of Zelda: Majora's Mask",
                  "Year": "2000",
                  "Publisher": "Nintendo",
                  "Genre": "Action Adventure;Fantasy",
                  "Platform": "Nintendo64",
                  "Metascore": "95",
                  "Avg_Userscore": "9.1",
                  "No_Players": "1 Player",
                  "_deepnote_index_column": 50
                },
                {
                  "Title": "The Last of Us",
                  "Year": "2013",
                  "Publisher": "NaughtyDog",
                  "Genre": "Modern;Adventure;General;Action Adventure;General;Modern",
                  "Platform": "PlayStation3",
                  "Metascore": "95",
                  "Avg_Userscore": "9.2",
                  "No_Players": "Up to 8 ",
                  "_deepnote_index_column": 51
                },
                {
                  "Title": "The Legend of Zelda: Twilight Princess",
                  "Year": "2006",
                  "Publisher": "Nintendo",
                  "Genre": "Action Adventure;Fantasy;General;Fantasy;Open-World",
                  "Platform": "Wii",
                  "Metascore": "95",
                  "Avg_Userscore": "9.0",
                  "No_Players": "No Online Multiplayer",
                  "_deepnote_index_column": 52
                },
                {
                  "Title": "Madden NFL 2003",
                  "Year": "2002",
                  "Publisher": "EASports",
                  "Genre": "Sports;Traditional;Football;Sim",
                  "Platform": "PlayStation2",
                  "Metascore": "95",
                  "Avg_Userscore": "7.4",
                  "No_Players": "1-2 ",
                  "_deepnote_index_column": 53
                },
                {
                  "Title": "Tony Hawk's Pro Skater 2",
                  "Year": "2001",
                  "Publisher": "VicariousVisions",
                  "Genre": "Sports;Alternative;Skateboarding",
                  "Platform": "GameBoyAdvance",
                  "Metascore": "95",
                  "Avg_Userscore": "7.0",
                  "No_Players": "not specified",
                  "_deepnote_index_column": 54
                },
                {
                  "Title": "The Last of Us Remastered",
                  "Year": "2014",
                  "Publisher": "NaughtyDog",
                  "Genre": "Action Adventure;General;Modern",
                  "Platform": "PlayStation4",
                  "Metascore": "95",
                  "Avg_Userscore": "9.1",
                  "No_Players": "Up to 8 ",
                  "_deepnote_index_column": 55
                },
                {
                  "Title": "Portal 2",
                  "Year": "2011",
                  "Publisher": "ValveSoftware",
                  "Genre": "Action;Shooter;Shooter;First-Person;Sci-Fi;Sci-Fi;Arcade",
                  "Platform": "PC",
                  "Metascore": "95",
                  "Avg_Userscore": "9.0",
                  "No_Players": "not specified",
                  "_deepnote_index_column": 56
                },
                {
                  "Title": "Red Dead Redemption",
                  "Year": "2010",
                  "Publisher": "RockstarSanDiego",
                  "Genre": "Action;Action Adventure;Shooter;Historic;Historic;Open-World;Third-Person;Historic",
                  "Platform": "Xbox360",
                  "Metascore": "95",
                  "Avg_Userscore": "9.0",
                  "No_Players": "Up to 16 ",
                  "_deepnote_index_column": 57
                },
                {
                  "Title": "Portal 2",
                  "Year": "2011",
                  "Publisher": "ValveSoftware",
                  "Genre": "Action;Shooter;Shooter;First-Person;Sci-Fi;Sci-Fi;Arcade",
                  "Platform": "Xbox360",
                  "Metascore": "95",
                  "Avg_Userscore": "8.7",
                  "No_Players": "not specified",
                  "_deepnote_index_column": 58
                },
                {
                  "Title": "Metal Gear Solid V: The Phantom Pain",
                  "Year": "2015",
                  "Publisher": "KojimaProductions,MobyDickStudio",
                  "Genre": "Modern;Modern;Action Adventure;Open-World",
                  "Platform": "XboxOne",
                  "Metascore": "95",
                  "Avg_Userscore": "7.4",
                  "No_Players": "Up to 16 ",
                  "_deepnote_index_column": 59
                },
                {
                  "Title": "Portal 2",
                  "Year": "2011",
                  "Publisher": "ValveSoftware",
                  "Genre": "Action;Shooter;Shooter;First-Person;Sci-Fi;Sci-Fi;Arcade",
                  "Platform": "PlayStation3",
                  "Metascore": "95",
                  "Avg_Userscore": "8.5",
                  "No_Players": "not specified",
                  "_deepnote_index_column": 60
                },
                {
                  "Title": "World of Goo",
                  "Year": "2008",
                  "Publisher": "2DBoy",
                  "Genre": "Miscellaneous;Puzzle;Action;Puzzle;General;Puzzle;General",
                  "Platform": "Wii",
                  "Metascore": "94",
                  "Avg_Userscore": "8.7",
                  "No_Players": "1-4 ",
                  "_deepnote_index_column": 61
                }
              ],
              "rows_bottom": [
                {
                  "Title": "James Bond 007: NightFire",
                  "Year": "2002",
                  "Publisher": "EurocomEntertainmentSoftware",
                  "Genre": "Action;Shooter;First-Person;Modern",
                  "Platform": "PlayStation2",
                  "Metascore": "77",
                  "Avg_Userscore": "8.5",
                  "No_Players": "1-4 ",
                  "_deepnote_index_column": 4937
                },
                {
                  "Title": "Harry Potter and the Chamber of Secrets",
                  "Year": "2002",
                  "Publisher": "EurocomEntertainmentSoftware",
                  "Genre": "Action Adventure;Fantasy",
                  "Platform": "Xbox",
                  "Metascore": "77",
                  "Avg_Userscore": "7.4",
                  "No_Players": "1 Player",
                  "_deepnote_index_column": 4938
                },
                {
                  "Title": "Operation Flashpoint: Resistance",
                  "Year": "2002",
                  "Publisher": "BohemiaInteractive",
                  "Genre": "Action;Shooter;Shooter;First-Person;Tactical;Modern;Modern",
                  "Platform": "PC",
                  "Metascore": "77",
                  "Avg_Userscore": "8.9",
                  "No_Players": "1-64 ",
                  "_deepnote_index_column": 4939
                },
                {
                  "Title": "World Tour Soccer 2002",
                  "Year": "2002",
                  "Publisher": "SCEELondonStudio",
                  "Genre": "Sports;Traditional;Soccer;Sim",
                  "Platform": "PlayStation2",
                  "Metascore": "77",
                  "Avg_Userscore": "7.5",
                  "No_Players": "not specified",
                  "_deepnote_index_column": 4940
                },
                {
                  "Title": "Etherlords",
                  "Year": "2001",
                  "Publisher": "NivalInteractive",
                  "Genre": "Strategy;Turn-Based;General;General",
                  "Platform": "PC",
                  "Metascore": "77",
                  "Avg_Userscore": "7.6",
                  "No_Players": "1-2 ",
                  "_deepnote_index_column": 4941
                },
                {
                  "Title": "FIFA Soccer 2002",
                  "Year": "2001",
                  "Publisher": "EASports",
                  "Genre": "Sports;Traditional;Team;Soccer;Sim;Sim",
                  "Platform": "PC",
                  "Metascore": "77",
                  "Avg_Userscore": "7.7",
                  "No_Players": "1-8 ",
                  "_deepnote_index_column": 4942
                },
                {
                  "Title": "Alone in the Dark: The New Nightmare",
                  "Year": "2001",
                  "Publisher": "Darkworks",
                  "Genre": "Action Adventure;Horror",
                  "Platform": "PlayStation",
                  "Metascore": "77",
                  "Avg_Userscore": "8.2",
                  "No_Players": "1 Player",
                  "_deepnote_index_column": 4943
                },
                {
                  "Title": "Tenchu 2: Birth of the Stealth Assassins",
                  "Year": "2000",
                  "Publisher": "Acquire",
                  "Genre": "Action Adventure;Fantasy",
                  "Platform": "PlayStation",
                  "Metascore": "77",
                  "Avg_Userscore": "8.7",
                  "No_Players": "1 Player",
                  "_deepnote_index_column": 4944
                },
                {
                  "Title": "Army Men: Air Combat",
                  "Year": "2000",
                  "Publisher": "3DO",
                  "Genre": "Action;General",
                  "Platform": "Nintendo64",
                  "Metascore": "77",
                  "Avg_Userscore": "7.8",
                  "No_Players": "not specified",
                  "_deepnote_index_column": 4945
                },
                {
                  "Title": "Pokemon Snap",
                  "Year": "1999",
                  "Publisher": "Hal",
                  "Genre": "Action;General",
                  "Platform": "Nintendo64",
                  "Metascore": "77",
                  "Avg_Userscore": "7.4",
                  "No_Players": "1 Player",
                  "_deepnote_index_column": 4946
                },
                {
                  "Title": "Banjo-Kazooie",
                  "Year": "2008",
                  "Publisher": "4JStudios",
                  "Genre": "Action;Platformer;Platformer;3D;3D",
                  "Platform": "Xbox360",
                  "Metascore": "77",
                  "Avg_Userscore": "8.2",
                  "No_Players": "not specified",
                  "_deepnote_index_column": 4947
                },
                {
                  "Title": "Virginia",
                  "Year": "2016",
                  "Publisher": "505Games",
                  "Genre": "Adventure;3D;First-Person",
                  "Platform": "PlayStation4",
                  "Metascore": "77",
                  "Avg_Userscore": "5.9",
                  "No_Players": "not specified",
                  "_deepnote_index_column": 4948
                },
                {
                  "Title": "FIFA Soccer 09",
                  "Year": "2008",
                  "Publisher": "EACanada",
                  "Genre": "Sports;Traditional;Team;Soccer;Sim;Sim",
                  "Platform": "PC",
                  "Metascore": "77",
                  "Avg_Userscore": "6.8",
                  "No_Players": "not specified",
                  "_deepnote_index_column": 4949
                },
                {
                  "Title": "FIFA World Cup: Germany 2006",
                  "Year": "2006",
                  "Publisher": "EACanada",
                  "Genre": "Sports;Traditional;Team;Soccer;Sim;Sim",
                  "Platform": "PC",
                  "Metascore": "77",
                  "Avg_Userscore": "7.6",
                  "No_Players": "2  Online",
                  "_deepnote_index_column": 4950
                },
                {
                  "Title": "Giana Sisters: Twisted Dreams",
                  "Year": "2012",
                  "Publisher": "BlackForestGames",
                  "Genre": "Action;Platformer;Platformer;2D;2D",
                  "Platform": "PC",
                  "Metascore": "77",
                  "Avg_Userscore": "7.8",
                  "No_Players": "not specified",
                  "_deepnote_index_column": 4951
                },
                {
                  "Title": "Alien Swarm",
                  "Year": "2010",
                  "Publisher": "ValveSoftware",
                  "Genre": "Action;Shooter;Shooter;Third-Person;Tactical;Modern",
                  "Platform": "PC",
                  "Metascore": "77",
                  "Avg_Userscore": "8.2",
                  "No_Players": "not specified",
                  "_deepnote_index_column": 4952
                },
                {
                  "Title": "Art Style: BASE 10",
                  "Year": "2009",
                  "Publisher": "SkipLtd.",
                  "Genre": "Miscellaneous;Puzzle;Action;Puzzle;Puzzle;Action",
                  "Platform": "DS",
                  "Metascore": "77",
                  "Avg_Userscore": "tbd",
                  "No_Players": "1-2 ",
                  "_deepnote_index_column": 4953
                },
                {
                  "Title": "Rune Factory 2: A Fantasy Harvest Moon",
                  "Year": "2008",
                  "Publisher": "Neverland",
                  "Genre": "Role-Playing;General;General",
                  "Platform": "DS",
                  "Metascore": "77",
                  "Avg_Userscore": "8.0",
                  "No_Players": "4  Online",
                  "_deepnote_index_column": 4954
                },
                {
                  "Title": "FIFA World Cup: Germany 2006",
                  "Year": "2006",
                  "Publisher": "EACanada",
                  "Genre": "Sports;Traditional;Soccer;Sim",
                  "Platform": "PlayStation2",
                  "Metascore": "77",
                  "Avg_Userscore": "8.1",
                  "No_Players": "2  Online",
                  "_deepnote_index_column": 4955
                },
                {
                  "Title": "Soldiers: Heroes of World War II",
                  "Year": "2004",
                  "Publisher": "BestWay",
                  "Genre": "Strategy;Real-Time;Military;General;Military",
                  "Platform": "PC",
                  "Metascore": "77",
                  "Avg_Userscore": "8.6",
                  "No_Players": "1-4 ",
                  "_deepnote_index_column": 4956
                },
                {
                  "Title": "Shadows of the Damned",
                  "Year": "2011",
                  "Publisher": "GrasshopperManufacture",
                  "Genre": "Action Adventure;Horror;Horror;Survival",
                  "Platform": "PlayStation3",
                  "Metascore": "77",
                  "Avg_Userscore": "8.2",
                  "No_Players": "No Online Multiplayer",
                  "_deepnote_index_column": 4957
                },
                {
                  "Title": "The Elder Scrolls Online: Morrowind",
                  "Year": "2017",
                  "Publisher": "ZeniMaxMedia",
                  "Genre": "Role-Playing;Massively Multiplayer",
                  "Platform": "PC",
                  "Metascore": "77",
                  "Avg_Userscore": "6.4",
                  "No_Players": "not specified",
                  "_deepnote_index_column": 4958
                },
                {
                  "Title": "The Godfather",
                  "Year": "2006",
                  "Publisher": "ElectronicArts",
                  "Genre": "Action Adventure;Historic",
                  "Platform": "Xbox",
                  "Metascore": "77",
                  "Avg_Userscore": "8.5",
                  "No_Players": "1 Player",
                  "_deepnote_index_column": 4959
                },
                {
                  "Title": "Bloodstained: Curse of the Moon",
                  "Year": "2018",
                  "Publisher": "IntiCreates",
                  "Genre": "Action Adventure;Open-World",
                  "Platform": "PC",
                  "Metascore": "77",
                  "Avg_Userscore": "7.1",
                  "No_Players": "No Online Multiplayer",
                  "_deepnote_index_column": 4960
                },
                {
                  "Title": "Mega Man Legacy Collection 2",
                  "Year": "2018",
                  "Publisher": "Capcom",
                  "Genre": "Miscellaneous;Compilation",
                  "Platform": "Switch",
                  "Metascore": "77",
                  "Avg_Userscore": "6.3",
                  "No_Players": "No Online Multiplayer",
                  "_deepnote_index_column": 4961
                },
                {
                  "Title": "Figment",
                  "Year": "2017",
                  "Publisher": "BedtimeDigitalGames",
                  "Genre": "Action;General",
                  "Platform": "PC",
                  "Metascore": "77",
                  "Avg_Userscore": "7.2",
                  "No_Players": "No Online Multiplayer",
                  "_deepnote_index_column": 4962
                },
                {
                  "Title": "Project Zero 2: Wii Edition",
                  "Year": "2012",
                  "Publisher": "KoeiTecmoGames",
                  "Genre": "Action Adventure;Horror",
                  "Platform": "Wii",
                  "Metascore": "77",
                  "Avg_Userscore": "8.8",
                  "No_Players": "1 Player",
                  "_deepnote_index_column": 4963
                },
                {
                  "Title": "Dragon Quest Heroes: The World Tree's Woe and the Blight Below",
                  "Year": "2015",
                  "Publisher": "OmegaForce",
                  "Genre": "2D;Action;Beat-'Em-Up;3D",
                  "Platform": "PlayStation4",
                  "Metascore": "77",
                  "Avg_Userscore": "7.6",
                  "No_Players": "not specified",
                  "_deepnote_index_column": 4964
                },
                {
                  "Title": "The Elder Scrolls Online: Tamriel Unlimited",
                  "Year": "2015",
                  "Publisher": "ZeniMaxMedia",
                  "Genre": "First-Person;First-Person;Massively Multiplayer Online;Fantasy;Role-Playing;Massively Multiplayer",
                  "Platform": "XboxOne",
                  "Metascore": "77",
                  "Avg_Userscore": "8.4",
                  "No_Players": "Massively Multiplayer",
                  "_deepnote_index_column": 4965
                },
                {
                  "Title": "Inazuma Eleven Go: Chrono Stones: Thunderflash",
                  "Year": "2015",
                  "Publisher": "Level5",
                  "Genre": "Sports;Soccer;Arcade;Team",
                  "Platform": "3DS",
                  "Metascore": "77",
                  "Avg_Userscore": "7.9",
                  "No_Players": "not specified",
                  "_deepnote_index_column": 4966
                },
                {
                  "Title": "LEGO City Undercover",
                  "Year": "2017",
                  "Publisher": "TTGames",
                  "Genre": "Action Adventure;Open-World",
                  "Platform": "XboxOne",
                  "Metascore": "77",
                  "Avg_Userscore": "7.0",
                  "No_Players": "not specified",
                  "_deepnote_index_column": 4967
                },
                {
                  "Title": "Baldur's Gate: Siege of Dragonspear",
                  "Year": "2016",
                  "Publisher": "OverhaulGames",
                  "Genre": "Role-Playing;Western-Style",
                  "Platform": "PC",
                  "Metascore": "77",
                  "Avg_Userscore": "3.6",
                  "No_Players": "not specified",
                  "_deepnote_index_column": 4968
                },
                {
                  "Title": "EA Sports UFC 3",
                  "Year": "2018",
                  "Publisher": "EASports",
                  "Genre": "Sports;Individual;Combat;Boxing / Martial Arts",
                  "Platform": "XboxOne",
                  "Metascore": "77",
                  "Avg_Userscore": "5.5",
                  "No_Players": "2 ",
                  "_deepnote_index_column": 4969
                },
                {
                  "Title": "Gears of War 3: RAAM's Shadow",
                  "Year": "2011",
                  "Publisher": "EpicGames",
                  "Genre": "Action;Shooter;Shooter;Third-Person;Sci-Fi;Sci-Fi;Arcade",
                  "Platform": "Xbox360",
                  "Metascore": "77",
                  "Avg_Userscore": "7.8",
                  "No_Players": "not specified",
                  "_deepnote_index_column": 4970
                },
                {
                  "Title": "Crysis 3",
                  "Year": "2013",
                  "Publisher": "Crytek",
                  "Genre": "Action;Shooter;Shooter;First-Person;Sci-Fi;Sci-Fi;Arcade",
                  "Platform": "PlayStation3",
                  "Metascore": "77",
                  "Avg_Userscore": "6.4",
                  "No_Players": "not specified",
                  "_deepnote_index_column": 4971
                },
                {
                  "Title": "Mega Man Zero 3",
                  "Year": "2004",
                  "Publisher": "Inti",
                  "Genre": "Action;Platformer;2D",
                  "Platform": "GameBoyAdvance",
                  "Metascore": "77",
                  "Avg_Userscore": "8.2",
                  "No_Players": "1-2 ",
                  "_deepnote_index_column": 4972
                },
                {
                  "Title": "Final Fantasy XV: Royal Edition",
                  "Year": "2018",
                  "Publisher": "SquareEnix",
                  "Genre": "Role-Playing;Action RPG",
                  "Platform": "PlayStation4",
                  "Metascore": "77",
                  "Avg_Userscore": "7.2",
                  "No_Players": "Up to 4 ",
                  "_deepnote_index_column": 4973
                },
                {
                  "Title": "Kerbal Space Program",
                  "Year": "2016",
                  "Publisher": "FlyingTigerDevelopment",
                  "Genre": "Simulation;Space;Combat",
                  "Platform": "PlayStation4",
                  "Metascore": "77",
                  "Avg_Userscore": "6.2",
                  "No_Players": "not specified",
                  "_deepnote_index_column": 4974
                },
                {
                  "Title": "Men of War: Assault Squad",
                  "Year": "2011",
                  "Publisher": "THQ,1C,1CCompany",
                  "Genre": "Strategy;Real-Time;Military;Military;Tactics",
                  "Platform": "PC",
                  "Metascore": "77",
                  "Avg_Userscore": "8.2",
                  "No_Players": "not specified",
                  "_deepnote_index_column": 4975
                },
                {
                  "Title": "Singularity",
                  "Year": "2010",
                  "Publisher": "RavenSoftware",
                  "Genre": "Action;Shooter;Shooter;First-Person;Sci-Fi;Sci-Fi;Arcade",
                  "Platform": "PlayStation3",
                  "Metascore": "77",
                  "Avg_Userscore": "7.7",
                  "No_Players": "1 Player",
                  "_deepnote_index_column": 4976
                },
                {
                  "Title": "Command & Conquer 3: Kane's Wrath",
                  "Year": "2008",
                  "Publisher": "EALA",
                  "Genre": "Strategy;Real-Time;Sci-Fi;Sci-Fi;General",
                  "Platform": "PC",
                  "Metascore": "77",
                  "Avg_Userscore": "8.2",
                  "No_Players": "8  Online",
                  "_deepnote_index_column": 4977
                },
                {
                  "Title": "ATV Offroad Fury 4",
                  "Year": "2006",
                  "Publisher": "ClimaxGroup",
                  "Genre": "Driving;Racing;Rally / Offroad",
                  "Platform": "PlayStation2",
                  "Metascore": "77",
                  "Avg_Userscore": "8.5",
                  "No_Players": "4  Online",
                  "_deepnote_index_column": 4978
                },
                {
                  "Title": "FIFA World Cup: Germany 2006",
                  "Year": "2006",
                  "Publisher": "EACanada",
                  "Genre": "Sports;Traditional;Soccer;Sim",
                  "Platform": "Xbox",
                  "Metascore": "77",
                  "Avg_Userscore": "8.4",
                  "No_Players": "2  Online",
                  "_deepnote_index_column": 4979
                },
                {
                  "Title": "Car Battler Joe",
                  "Year": "2002",
                  "Publisher": "Ancient",
                  "Genre": "Role-Playing;Console-style RPG",
                  "Platform": "GameBoyAdvance",
                  "Metascore": "77",
                  "Avg_Userscore": "tbd",
                  "No_Players": "1-4 ",
                  "_deepnote_index_column": 4980
                },
                {
                  "Title": "Life is Strange: Before the Storm",
                  "Year": "2017",
                  "Publisher": "DeckNineGames",
                  "Genre": "Action Adventure;General",
                  "Platform": "PlayStation4",
                  "Metascore": "77",
                  "Avg_Userscore": "7.9",
                  "No_Players": "No Online Multiplayer",
                  "_deepnote_index_column": 4981
                },
                {
                  "Title": "Tales of Symphonia Chronicles",
                  "Year": "2014",
                  "Publisher": "BandaiNamcoGames",
                  "Genre": "Compilation;Miscellaneous;Compilation",
                  "Platform": "PlayStation3",
                  "Metascore": "77",
                  "Avg_Userscore": "8.4",
                  "No_Players": "No Online Multiplayer",
                  "_deepnote_index_column": 4982
                },
                {
                  "Title": "Killzone: Liberation",
                  "Year": "2006",
                  "Publisher": "Guerrilla",
                  "Genre": "Action;Shooter;Shooter;Third-Person;Sci-Fi;Sci-Fi;Arcade",
                  "Platform": "PSP",
                  "Metascore": "77",
                  "Avg_Userscore": "8.2",
                  "No_Players": "1-6 ",
                  "_deepnote_index_column": 4983
                },
                {
                  "Title": "The Escapists 2",
                  "Year": "2017",
                  "Publisher": "MouldyToofStudios",
                  "Genre": "Action;General",
                  "Platform": "XboxOne",
                  "Metascore": "77",
                  "Avg_Userscore": "5.8",
                  "No_Players": "not specified",
                  "_deepnote_index_column": 4984
                },
                {
                  "Title": "Arena Wars",
                  "Year": "2004",
                  "Publisher": "AscaronEntertainmentGmbH,AscaronEntertainment",
                  "Genre": "Strategy;Real-Time;Modern;General;Modern",
                  "Platform": "PC",
                  "Metascore": "77",
                  "Avg_Userscore": "7.7",
                  "No_Players": "1-8 ",
                  "_deepnote_index_column": 4985
                },
                {
                  "Title": "Little Red Lie",
                  "Year": "2018",
                  "Publisher": "WZOGI",
                  "Genre": "Adventure;General",
                  "Platform": "PlayStation4",
                  "Metascore": "77",
                  "Avg_Userscore": "4.2",
                  "No_Players": "not specified",
                  "_deepnote_index_column": 4986
                },
                {
                  "Title": "Naruto Shippuden: Ultimate Ninja Storm 4 - Road to Boruto Expansion",
                  "Year": "2017",
                  "Publisher": "CyberConnect2",
                  "Genre": "Action;Fighting;3D",
                  "Platform": "XboxOne",
                  "Metascore": "77",
                  "Avg_Userscore": "7.1",
                  "No_Players": "not specified",
                  "_deepnote_index_column": 4987
                },
                {
                  "Title": "Furi",
                  "Year": "2016",
                  "Publisher": "TheGameBakers",
                  "Genre": "Action;Fighting;3D",
                  "Platform": "XboxOne",
                  "Metascore": "77",
                  "Avg_Userscore": "7.6",
                  "No_Players": "not specified",
                  "_deepnote_index_column": 4988
                },
                {
                  "Title": "Corpse Party",
                  "Year": "2016",
                  "Publisher": "5pb",
                  "Genre": "Action Adventure;Survival",
                  "Platform": "3DS",
                  "Metascore": "77",
                  "Avg_Userscore": "7.8",
                  "No_Players": "not specified",
                  "_deepnote_index_column": 4989
                },
                {
                  "Title": "Element4l",
                  "Year": "2013",
                  "Publisher": "i-illusions",
                  "Genre": "Action;Platformer;Platformer;2D;2D",
                  "Platform": "PC",
                  "Metascore": "77",
                  "Avg_Userscore": "7.7",
                  "No_Players": "not specified",
                  "_deepnote_index_column": 4990
                },
                {
                  "Title": "Anomaly 2",
                  "Year": "2013",
                  "Publisher": "11bitstudios",
                  "Genre": "Action;Strategy;General;Real-Time;Sci-Fi;Sci-Fi;General",
                  "Platform": "PC",
                  "Metascore": "77",
                  "Avg_Userscore": "7.9",
                  "No_Players": "not specified",
                  "_deepnote_index_column": 4991
                },
                {
                  "Title": "Final Fight: Double Impact",
                  "Year": "2010",
                  "Publisher": "Capcom",
                  "Genre": "Action;Miscellaneous;Beat-'Em-Up;Compilation",
                  "Platform": "Xbox360",
                  "Metascore": "77",
                  "Avg_Userscore": "7.6",
                  "No_Players": "not specified",
                  "_deepnote_index_column": 4992
                },
                {
                  "Title": "Outlast 2",
                  "Year": "2017",
                  "Publisher": "RedBarrels",
                  "Genre": "Action Adventure;Survival",
                  "Platform": "XboxOne",
                  "Metascore": "77",
                  "Avg_Userscore": "6.5",
                  "No_Players": "not specified",
                  "_deepnote_index_column": 4993
                },
                {
                  "Title": "The Bigs",
                  "Year": "2007",
                  "Publisher": "BlueCastleGames",
                  "Genre": "Sports;Traditional;Team;Baseball;Arcade;Arcade",
                  "Platform": "PlayStation3",
                  "Metascore": "77",
                  "Avg_Userscore": "7.2",
                  "No_Players": "1-4 ",
                  "_deepnote_index_column": 4994
                },
                {
                  "Title": "Donut County",
                  "Year": "2018",
                  "Publisher": "BenEsposito",
                  "Genre": "Action Adventure;General",
                  "Platform": "PC",
                  "Metascore": "77",
                  "Avg_Userscore": "8.1",
                  "No_Players": "No Online Multiplayer",
                  "_deepnote_index_column": 4995
                },
                {
                  "Title": "MotorStorm: Apocalypse",
                  "Year": "2011",
                  "Publisher": "EvolutionStudios",
                  "Genre": "Driving;Racing;Simulation;Rally / Offroad;Rally / Offroad;Automobile",
                  "Platform": "PlayStation3",
                  "Metascore": "77",
                  "Avg_Userscore": "7.7",
                  "No_Players": "4  Online",
                  "_deepnote_index_column": 4996
                },
                {
                  "Title": "The Last Guy",
                  "Year": "2008",
                  "Publisher": "SCEJapanStudio",
                  "Genre": "Action Adventure;Sci-Fi;Sci-Fi;General",
                  "Platform": "PlayStation3",
                  "Metascore": "77",
                  "Avg_Userscore": "6.8",
                  "No_Players": "1 Player",
                  "_deepnote_index_column": 4997
                },
                {
                  "Title": "Valiant Hearts: The Great War",
                  "Year": "2014",
                  "Publisher": "UbisoftMontpellier",
                  "Genre": "Platformer;2D;Action;Platformer;2D",
                  "Platform": "PlayStation4",
                  "Metascore": "77",
                  "Avg_Userscore": "8.4",
                  "No_Players": "not specified",
                  "_deepnote_index_column": 4998
                },
                {
                  "Title": "Mothergunship",
                  "Year": "2018",
                  "Publisher": "GripDigital",
                  "Genre": "Action;General",
                  "Platform": "XboxOne",
                  "Metascore": "77",
                  "Avg_Userscore": "7.2",
                  "No_Players": "Online Multiplayer",
                  "_deepnote_index_column": 4999
                }
              ]
            },
            "text/plain": "                                     Title  Year               Publisher  \\\n0     The Legend of Zelda: Ocarina of Time  1998                Nintendo   \n1                 Tony Hawk's Pro Skater 2  2000  NeversoftEntertainment   \n2                      Grand Theft Auto IV  2008           RockstarNorth   \n3                              SoulCalibur  1999                   Namco   \n4                      Grand Theft Auto IV  2008           RockstarNorth   \n...                                    ...   ...                     ...   \n4995                          Donut County  2018             BenEsposito   \n4996                MotorStorm: Apocalypse  2011        EvolutionStudios   \n4997                          The Last Guy  2008          SCEJapanStudio   \n4998         Valiant Hearts: The Great War  2014      UbisoftMontpellier   \n4999                         Mothergunship  2018             GripDigital   \n\n                                                  Genre      Platform  \\\n0                              Action Adventure;Fantasy    Nintendo64   \n1                      Sports;Alternative;Skateboarding   PlayStation   \n2             Action Adventure;Modern;Modern;Open-World  PlayStation3   \n3                                    Action;Fighting;3D     Dreamcast   \n4             Action Adventure;Modern;Modern;Open-World       Xbox360   \n...                                                 ...           ...   \n4995                           Action Adventure;General            PC   \n4996  Driving;Racing;Simulation;Rally / Offroad;Rall...  PlayStation3   \n4997             Action Adventure;Sci-Fi;Sci-Fi;General  PlayStation3   \n4998                 Platformer;2D;Action;Platformer;2D  PlayStation4   \n4999                                     Action;General       XboxOne   \n\n     Metascore Avg_Userscore             No_Players  \n0           99           9.1               1 Player  \n1           98           7.4                   1-2   \n2           98           7.5               1 Player  \n3           98           8.6                   1-2   \n4           98           7.9               1 Player  \n...        ...           ...                    ...  \n4995        77           8.1  No Online Multiplayer  \n4996        77           7.7              4  Online  \n4997        77           6.8               1 Player  \n4998        77           8.4          not specified  \n4999        77           7.2     Online Multiplayer  \n\n[5000 rows x 8 columns]",
            "text/html": "<div>\n<style scoped>\n    .dataframe tbody tr th:only-of-type {\n        vertical-align: middle;\n    }\n\n    .dataframe tbody tr th {\n        vertical-align: top;\n    }\n\n    .dataframe thead th {\n        text-align: right;\n    }\n</style>\n<table border=\"1\" class=\"dataframe\">\n  <thead>\n    <tr style=\"text-align: right;\">\n      <th></th>\n      <th>Title</th>\n      <th>Year</th>\n      <th>Publisher</th>\n      <th>Genre</th>\n      <th>Platform</th>\n      <th>Metascore</th>\n      <th>Avg_Userscore</th>\n      <th>No_Players</th>\n    </tr>\n  </thead>\n  <tbody>\n    <tr>\n      <th>0</th>\n      <td>The Legend of Zelda: Ocarina of Time</td>\n      <td>1998</td>\n      <td>Nintendo</td>\n      <td>Action Adventure;Fantasy</td>\n      <td>Nintendo64</td>\n      <td>99</td>\n      <td>9.1</td>\n      <td>1 Player</td>\n    </tr>\n    <tr>\n      <th>1</th>\n      <td>Tony Hawk's Pro Skater 2</td>\n      <td>2000</td>\n      <td>NeversoftEntertainment</td>\n      <td>Sports;Alternative;Skateboarding</td>\n      <td>PlayStation</td>\n      <td>98</td>\n      <td>7.4</td>\n      <td>1-2</td>\n    </tr>\n    <tr>\n      <th>2</th>\n      <td>Grand Theft Auto IV</td>\n      <td>2008</td>\n      <td>RockstarNorth</td>\n      <td>Action Adventure;Modern;Modern;Open-World</td>\n      <td>PlayStation3</td>\n      <td>98</td>\n      <td>7.5</td>\n      <td>1 Player</td>\n    </tr>\n    <tr>\n      <th>3</th>\n      <td>SoulCalibur</td>\n      <td>1999</td>\n      <td>Namco</td>\n      <td>Action;Fighting;3D</td>\n      <td>Dreamcast</td>\n      <td>98</td>\n      <td>8.6</td>\n      <td>1-2</td>\n    </tr>\n    <tr>\n      <th>4</th>\n      <td>Grand Theft Auto IV</td>\n      <td>2008</td>\n      <td>RockstarNorth</td>\n      <td>Action Adventure;Modern;Modern;Open-World</td>\n      <td>Xbox360</td>\n      <td>98</td>\n      <td>7.9</td>\n      <td>1 Player</td>\n    </tr>\n    <tr>\n      <th>...</th>\n      <td>...</td>\n      <td>...</td>\n      <td>...</td>\n      <td>...</td>\n      <td>...</td>\n      <td>...</td>\n      <td>...</td>\n      <td>...</td>\n    </tr>\n    <tr>\n      <th>4995</th>\n      <td>Donut County</td>\n      <td>2018</td>\n      <td>BenEsposito</td>\n      <td>Action Adventure;General</td>\n      <td>PC</td>\n      <td>77</td>\n      <td>8.1</td>\n      <td>No Online Multiplayer</td>\n    </tr>\n    <tr>\n      <th>4996</th>\n      <td>MotorStorm: Apocalypse</td>\n      <td>2011</td>\n      <td>EvolutionStudios</td>\n      <td>Driving;Racing;Simulation;Rally / Offroad;Rall...</td>\n      <td>PlayStation3</td>\n      <td>77</td>\n      <td>7.7</td>\n      <td>4  Online</td>\n    </tr>\n    <tr>\n      <th>4997</th>\n      <td>The Last Guy</td>\n      <td>2008</td>\n      <td>SCEJapanStudio</td>\n      <td>Action Adventure;Sci-Fi;Sci-Fi;General</td>\n      <td>PlayStation3</td>\n      <td>77</td>\n      <td>6.8</td>\n      <td>1 Player</td>\n    </tr>\n    <tr>\n      <th>4998</th>\n      <td>Valiant Hearts: The Great War</td>\n      <td>2014</td>\n      <td>UbisoftMontpellier</td>\n      <td>Platformer;2D;Action;Platformer;2D</td>\n      <td>PlayStation4</td>\n      <td>77</td>\n      <td>8.4</td>\n      <td>not specified</td>\n    </tr>\n    <tr>\n      <th>4999</th>\n      <td>Mothergunship</td>\n      <td>2018</td>\n      <td>GripDigital</td>\n      <td>Action;General</td>\n      <td>XboxOne</td>\n      <td>77</td>\n      <td>7.2</td>\n      <td>Online Multiplayer</td>\n    </tr>\n  </tbody>\n</table>\n<p>5000 rows × 8 columns</p>\n</div>"
          },
          "metadata": {}
        }
      ]
    },
    {
      "cell_type": "code",
      "metadata": {
        "tags": [],
        "cell_id": "00002-451ae746-725c-49bb-b0fa-dcd038f984fe",
        "deepnote_to_be_reexecuted": false,
        "source_hash": "abb860e7",
        "execution_millis": 54,
        "execution_start": 1615222762783,
        "deepnote_cell_type": "code"
      },
      "source": "user_data_test",
      "execution_count": 5,
      "outputs": [
        {
          "output_type": "execute_result",
          "execution_count": 5,
          "data": {
            "application/vnd.deepnote.dataframe.v2+json": {
              "row_count": 38055,
              "column_count": 3,
              "columns": [
                {
                  "name": "Userscore",
                  "dtype": "int64",
                  "stats": {
                    "unique_count": 11,
                    "nan_count": 0,
                    "min": 0,
                    "max": 10,
                    "histogram": [
                      {
                        "bin_start": 0,
                        "bin_end": 1,
                        "count": 1813
                      },
                      {
                        "bin_start": 1,
                        "bin_end": 2,
                        "count": 776
                      },
                      {
                        "bin_start": 2,
                        "bin_end": 3,
                        "count": 635
                      },
                      {
                        "bin_start": 3,
                        "bin_end": 4,
                        "count": 849
                      },
                      {
                        "bin_start": 4,
                        "bin_end": 5,
                        "count": 991
                      },
                      {
                        "bin_start": 5,
                        "bin_end": 6,
                        "count": 1426
                      },
                      {
                        "bin_start": 6,
                        "bin_end": 7,
                        "count": 1870
                      },
                      {
                        "bin_start": 7,
                        "bin_end": 8,
                        "count": 2756
                      },
                      {
                        "bin_start": 8,
                        "bin_end": 9,
                        "count": 4984
                      },
                      {
                        "bin_start": 9,
                        "bin_end": 10,
                        "count": 21955
                      }
                    ]
                  }
                },
                {
                  "name": "Username",
                  "dtype": "object",
                  "stats": {
                    "unique_count": 8193,
                    "nan_count": 0,
                    "categories": [
                      {
                        "name": "SuperkenGaming",
                        "count": 230
                      },
                      {
                        "name": "wesker2012",
                        "count": 203
                      },
                      {
                        "name": "8191 others",
                        "count": 37622
                      }
                    ]
                  }
                },
                {
                  "name": "Game_ID",
                  "dtype": "int64"
                },
                {
                  "name": "_deepnote_index_column",
                  "dtype": "int64"
                }
              ],
              "rows_top": [
                {
                  "Userscore": 0,
                  "Username": "Clyton",
                  "Game_ID": 672,
                  "_deepnote_index_column": 122104
                },
                {
                  "Userscore": 0,
                  "Username": "Clyton",
                  "Game_ID": 3154,
                  "_deepnote_index_column": 274573
                },
                {
                  "Userscore": 9,
                  "Username": "AP",
                  "Game_ID": 476,
                  "_deepnote_index_column": 101981
                },
                {
                  "Userscore": 9,
                  "Username": "AP",
                  "Game_ID": 1122,
                  "_deepnote_index_column": 169777
                },
                {
                  "Userscore": 9,
                  "Username": "AP",
                  "Game_ID": 1914,
                  "_deepnote_index_column": 219369
                },
                {
                  "Userscore": 10,
                  "Username": "HeavyGamer",
                  "Game_ID": 142,
                  "_deepnote_index_column": 54149
                },
                {
                  "Userscore": 9,
                  "Username": "HeavyGamer",
                  "Game_ID": 2870,
                  "_deepnote_index_column": 260573
                },
                {
                  "Userscore": 10,
                  "Username": "JuanG.",
                  "Game_ID": 36,
                  "_deepnote_index_column": 19178
                },
                {
                  "Userscore": 6,
                  "Username": "JuanG.",
                  "Game_ID": 296,
                  "_deepnote_index_column": 78903
                },
                {
                  "Userscore": 10,
                  "Username": "svladimir",
                  "Game_ID": 595,
                  "_deepnote_index_column": 113887
                },
                {
                  "Userscore": 8,
                  "Username": "svladimir",
                  "Game_ID": 803,
                  "_deepnote_index_column": 141980
                },
                {
                  "Userscore": 10,
                  "Username": "EdgarCagao",
                  "Game_ID": 153,
                  "_deepnote_index_column": 56824
                },
                {
                  "Userscore": 1,
                  "Username": "EdgarCagao",
                  "Game_ID": 1953,
                  "_deepnote_index_column": 222947
                },
                {
                  "Userscore": 0,
                  "Username": "EdgarCagao",
                  "Game_ID": 3291,
                  "_deepnote_index_column": 278881
                },
                {
                  "Userscore": 7,
                  "Username": "VidyaBum",
                  "Game_ID": 9,
                  "_deepnote_index_column": 5743
                },
                {
                  "Userscore": 4,
                  "Username": "VidyaBum",
                  "Game_ID": 99,
                  "_deepnote_index_column": 42998
                },
                {
                  "Userscore": 8,
                  "Username": "VidyaBum",
                  "Game_ID": 123,
                  "_deepnote_index_column": 48280
                },
                {
                  "Userscore": 10,
                  "Username": "VidyaBum",
                  "Game_ID": 127,
                  "_deepnote_index_column": 50320
                },
                {
                  "Userscore": 6,
                  "Username": "VidyaBum",
                  "Game_ID": 181,
                  "_deepnote_index_column": 63855
                },
                {
                  "Userscore": 9,
                  "Username": "VidyaBum",
                  "Game_ID": 209,
                  "_deepnote_index_column": 68578
                },
                {
                  "Userscore": 9,
                  "Username": "VidyaBum",
                  "Game_ID": 216,
                  "_deepnote_index_column": 69651
                },
                {
                  "Userscore": 5,
                  "Username": "VidyaBum",
                  "Game_ID": 419,
                  "_deepnote_index_column": 92380
                },
                {
                  "Userscore": 10,
                  "Username": "VidyaBum",
                  "Game_ID": 493,
                  "_deepnote_index_column": 103099
                },
                {
                  "Userscore": 10,
                  "Username": "VidyaBum",
                  "Game_ID": 597,
                  "_deepnote_index_column": 114527
                },
                {
                  "Userscore": 7,
                  "Username": "VidyaBum",
                  "Game_ID": 724,
                  "_deepnote_index_column": 129816
                },
                {
                  "Userscore": 8,
                  "Username": "VidyaBum",
                  "Game_ID": 802,
                  "_deepnote_index_column": 138552
                },
                {
                  "Userscore": 8,
                  "Username": "VidyaBum",
                  "Game_ID": 1095,
                  "_deepnote_index_column": 168673
                },
                {
                  "Userscore": 7,
                  "Username": "VidyaBum",
                  "Game_ID": 1108,
                  "_deepnote_index_column": 169244
                },
                {
                  "Userscore": 6,
                  "Username": "VidyaBum",
                  "Game_ID": 1186,
                  "_deepnote_index_column": 174421
                },
                {
                  "Userscore": 6,
                  "Username": "VidyaBum",
                  "Game_ID": 1241,
                  "_deepnote_index_column": 179095
                },
                {
                  "Userscore": 8,
                  "Username": "VidyaBum",
                  "Game_ID": 1314,
                  "_deepnote_index_column": 184107
                },
                {
                  "Userscore": 10,
                  "Username": "VidyaBum",
                  "Game_ID": 1753,
                  "_deepnote_index_column": 211471
                },
                {
                  "Userscore": 4,
                  "Username": "VidyaBum",
                  "Game_ID": 2086,
                  "_deepnote_index_column": 228457
                },
                {
                  "Userscore": 6,
                  "Username": "VidyaBum",
                  "Game_ID": 2095,
                  "_deepnote_index_column": 229098
                },
                {
                  "Userscore": 6,
                  "Username": "VidyaBum",
                  "Game_ID": 2264,
                  "_deepnote_index_column": 237855
                },
                {
                  "Userscore": 5,
                  "Username": "VidyaBum",
                  "Game_ID": 2331,
                  "_deepnote_index_column": 240409
                },
                {
                  "Userscore": 8,
                  "Username": "VidyaBum",
                  "Game_ID": 2393,
                  "_deepnote_index_column": 242478
                },
                {
                  "Userscore": 5,
                  "Username": "VidyaBum",
                  "Game_ID": 2529,
                  "_deepnote_index_column": 246244
                },
                {
                  "Userscore": 8,
                  "Username": "VidyaBum",
                  "Game_ID": 2707,
                  "_deepnote_index_column": 253259
                },
                {
                  "Userscore": 6,
                  "Username": "VidyaBum",
                  "Game_ID": 2732,
                  "_deepnote_index_column": 254604
                },
                {
                  "Userscore": 8,
                  "Username": "VidyaBum",
                  "Game_ID": 2937,
                  "_deepnote_index_column": 263333
                },
                {
                  "Userscore": 9,
                  "Username": "VidyaBum",
                  "Game_ID": 3001,
                  "_deepnote_index_column": 266218
                },
                {
                  "Userscore": 3,
                  "Username": "VidyaBum",
                  "Game_ID": 3098,
                  "_deepnote_index_column": 270448
                },
                {
                  "Userscore": 8,
                  "Username": "VidyaBum",
                  "Game_ID": 3163,
                  "_deepnote_index_column": 274946
                },
                {
                  "Userscore": 10,
                  "Username": "VidyaBum",
                  "Game_ID": 3240,
                  "_deepnote_index_column": 277267
                },
                {
                  "Userscore": 9,
                  "Username": "DonM",
                  "Game_ID": 633,
                  "_deepnote_index_column": 118685
                },
                {
                  "Userscore": 8,
                  "Username": "DonM",
                  "Game_ID": 983,
                  "_deepnote_index_column": 160417
                },
                {
                  "Userscore": 6,
                  "Username": "DonM",
                  "Game_ID": 1525,
                  "_deepnote_index_column": 197661
                },
                {
                  "Userscore": 2,
                  "Username": "help_ma_boab",
                  "Game_ID": 2137,
                  "_deepnote_index_column": 231300
                },
                {
                  "Userscore": 9,
                  "Username": "help_ma_boab",
                  "Game_ID": 2617,
                  "_deepnote_index_column": 250308
                },
                {
                  "Userscore": 9,
                  "Username": "Anarion13",
                  "Game_ID": 82,
                  "_deepnote_index_column": 37842
                },
                {
                  "Userscore": 9,
                  "Username": "Anarion13",
                  "Game_ID": 489,
                  "_deepnote_index_column": 102785
                },
                {
                  "Userscore": 10,
                  "Username": "Anarion13",
                  "Game_ID": 1345,
                  "_deepnote_index_column": 185444
                },
                {
                  "Userscore": 7,
                  "Username": "Anarion13",
                  "Game_ID": 2770,
                  "_deepnote_index_column": 255639
                },
                {
                  "Userscore": 3,
                  "Username": "Absynce",
                  "Game_ID": 117,
                  "_deepnote_index_column": 46837
                },
                {
                  "Userscore": 7,
                  "Username": "Absynce",
                  "Game_ID": 151,
                  "_deepnote_index_column": 55868
                },
                {
                  "Userscore": 10,
                  "Username": "Absynce",
                  "Game_ID": 257,
                  "_deepnote_index_column": 74152
                },
                {
                  "Userscore": 0,
                  "Username": "Absynce",
                  "Game_ID": 536,
                  "_deepnote_index_column": 107893
                },
                {
                  "Userscore": 10,
                  "Username": "Absynce",
                  "Game_ID": 595,
                  "_deepnote_index_column": 114409
                },
                {
                  "Userscore": 0,
                  "Username": "Absynce",
                  "Game_ID": 1186,
                  "_deepnote_index_column": 174614
                },
                {
                  "Userscore": 9,
                  "Username": "bigbiscits",
                  "Game_ID": 31,
                  "_deepnote_index_column": 16793
                },
                {
                  "Userscore": 8,
                  "Username": "bigbiscits",
                  "Game_ID": 141,
                  "_deepnote_index_column": 53700
                },
                {
                  "Userscore": 10,
                  "Username": "bigbiscits",
                  "Game_ID": 313,
                  "_deepnote_index_column": 80869
                },
                {
                  "Userscore": 10,
                  "Username": "Zillmerian",
                  "Game_ID": 8,
                  "_deepnote_index_column": 4128
                },
                {
                  "Userscore": 10,
                  "Username": "Zillmerian",
                  "Game_ID": 25,
                  "_deepnote_index_column": 15295
                },
                {
                  "Userscore": 10,
                  "Username": "Zillmerian",
                  "Game_ID": 46,
                  "_deepnote_index_column": 22067
                },
                {
                  "Userscore": 9,
                  "Username": "Zillmerian",
                  "Game_ID": 176,
                  "_deepnote_index_column": 61887
                },
                {
                  "Userscore": 9,
                  "Username": "Zillmerian",
                  "Game_ID": 355,
                  "_deepnote_index_column": 86712
                },
                {
                  "Userscore": 10,
                  "Username": "Zillmerian",
                  "Game_ID": 966,
                  "_deepnote_index_column": 159793
                },
                {
                  "Userscore": 9,
                  "Username": "dephil",
                  "Game_ID": 2072,
                  "_deepnote_index_column": 227916
                },
                {
                  "Userscore": 9,
                  "Username": "dephil",
                  "Game_ID": 2072,
                  "_deepnote_index_column": 227920
                },
                {
                  "Userscore": 9,
                  "Username": "dephil",
                  "Game_ID": 2072,
                  "_deepnote_index_column": 227921
                },
                {
                  "Userscore": 10,
                  "Username": "DavidRA",
                  "Game_ID": 11,
                  "_deepnote_index_column": 7440
                },
                {
                  "Userscore": 10,
                  "Username": "DavidRA",
                  "Game_ID": 17,
                  "_deepnote_index_column": 9755
                },
                {
                  "Userscore": 0,
                  "Username": "DavidRA",
                  "Game_ID": 238,
                  "_deepnote_index_column": 72429
                },
                {
                  "Userscore": 8,
                  "Username": "DavidRA",
                  "Game_ID": 823,
                  "_deepnote_index_column": 146212
                },
                {
                  "Userscore": 9,
                  "Username": "DavidRA",
                  "Game_ID": 1648,
                  "_deepnote_index_column": 205159
                },
                {
                  "Userscore": 10,
                  "Username": "LogicalEagle123",
                  "Game_ID": 51,
                  "_deepnote_index_column": 24641
                },
                {
                  "Userscore": 9,
                  "Username": "LogicalEagle123",
                  "Game_ID": 595,
                  "_deepnote_index_column": 113249
                },
                {
                  "Userscore": 3,
                  "Username": "LogicalEagle123",
                  "Game_ID": 803,
                  "_deepnote_index_column": 142064
                },
                {
                  "Userscore": 9,
                  "Username": "LogicalEagle123",
                  "Game_ID": 857,
                  "_deepnote_index_column": 149829
                },
                {
                  "Userscore": 10,
                  "Username": "LogicalEagle123",
                  "Game_ID": 1991,
                  "_deepnote_index_column": 224634
                },
                {
                  "Userscore": 8,
                  "Username": "PCgamr12",
                  "Game_ID": 911,
                  "_deepnote_index_column": 154866
                },
                {
                  "Userscore": 9,
                  "Username": "PCgamr12",
                  "Game_ID": 2617,
                  "_deepnote_index_column": 250325
                },
                {
                  "Userscore": 10,
                  "Username": "RezzaDee",
                  "Game_ID": 25,
                  "_deepnote_index_column": 14519
                },
                {
                  "Userscore": 9,
                  "Username": "RezzaDee",
                  "Game_ID": 33,
                  "_deepnote_index_column": 17855
                },
                {
                  "Userscore": 10,
                  "Username": "RezzaDee",
                  "Game_ID": 51,
                  "_deepnote_index_column": 24270
                },
                {
                  "Userscore": 5,
                  "Username": "RezzaDee",
                  "Game_ID": 70,
                  "_deepnote_index_column": 32761
                },
                {
                  "Userscore": 10,
                  "Username": "RezzaDee",
                  "Game_ID": 73,
                  "_deepnote_index_column": 36010
                },
                {
                  "Userscore": 10,
                  "Username": "RezzaDee",
                  "Game_ID": 176,
                  "_deepnote_index_column": 61237
                },
                {
                  "Userscore": 8,
                  "Username": "RezzaDee",
                  "Game_ID": 228,
                  "_deepnote_index_column": 71248
                },
                {
                  "Userscore": 10,
                  "Username": "RezzaDee",
                  "Game_ID": 258,
                  "_deepnote_index_column": 74182
                },
                {
                  "Userscore": 10,
                  "Username": "RezzaDee",
                  "Game_ID": 328,
                  "_deepnote_index_column": 82868
                },
                {
                  "Userscore": 10,
                  "Username": "RezzaDee",
                  "Game_ID": 485,
                  "_deepnote_index_column": 102517
                },
                {
                  "Userscore": 10,
                  "Username": "RezzaDee",
                  "Game_ID": 526,
                  "_deepnote_index_column": 106005
                },
                {
                  "Userscore": 10,
                  "Username": "RezzaDee",
                  "Game_ID": 546,
                  "_deepnote_index_column": 108230
                },
                {
                  "Userscore": 10,
                  "Username": "RezzaDee",
                  "Game_ID": 606,
                  "_deepnote_index_column": 114735
                },
                {
                  "Userscore": 10,
                  "Username": "RezzaDee",
                  "Game_ID": 612,
                  "_deepnote_index_column": 116522
                },
                {
                  "Userscore": 0,
                  "Username": "RezzaDee",
                  "Game_ID": 672,
                  "_deepnote_index_column": 122833
                },
                {
                  "Userscore": 9,
                  "Username": "RezzaDee",
                  "Game_ID": 720,
                  "_deepnote_index_column": 129715
                },
                {
                  "Userscore": 6,
                  "Username": "RezzaDee",
                  "Game_ID": 729,
                  "_deepnote_index_column": 130215
                },
                {
                  "Userscore": 5,
                  "Username": "RezzaDee",
                  "Game_ID": 961,
                  "_deepnote_index_column": 159269
                },
                {
                  "Userscore": 1,
                  "Username": "RezzaDee",
                  "Game_ID": 1160,
                  "_deepnote_index_column": 172266
                },
                {
                  "Userscore": 8,
                  "Username": "RezzaDee",
                  "Game_ID": 1639,
                  "_deepnote_index_column": 204044
                },
                {
                  "Userscore": 1,
                  "Username": "RezzaDee",
                  "Game_ID": 1729,
                  "_deepnote_index_column": 209658
                },
                {
                  "Userscore": 0,
                  "Username": "RezzaDee",
                  "Game_ID": 1741,
                  "_deepnote_index_column": 210453
                },
                {
                  "Userscore": 6,
                  "Username": "RezzaDee",
                  "Game_ID": 1881,
                  "_deepnote_index_column": 217490
                },
                {
                  "Userscore": 4,
                  "Username": "RezzaDee",
                  "Game_ID": 1897,
                  "_deepnote_index_column": 218427
                },
                {
                  "Userscore": 5,
                  "Username": "RezzaDee",
                  "Game_ID": 1972,
                  "_deepnote_index_column": 223709
                },
                {
                  "Userscore": 10,
                  "Username": "RezzaDee",
                  "Game_ID": 2243,
                  "_deepnote_index_column": 236382
                },
                {
                  "Userscore": 10,
                  "Username": "MW3",
                  "Game_ID": 67,
                  "_deepnote_index_column": 30280
                },
                {
                  "Userscore": 10,
                  "Username": "MW3",
                  "Game_ID": 527,
                  "_deepnote_index_column": 106167
                },
                {
                  "Userscore": 10,
                  "Username": "MW3",
                  "Game_ID": 1914,
                  "_deepnote_index_column": 219490
                },
                {
                  "Userscore": 9,
                  "Username": "RuggedManFan",
                  "Game_ID": 17,
                  "_deepnote_index_column": 9904
                },
                {
                  "Userscore": 0,
                  "Username": "RuggedManFan",
                  "Game_ID": 2941,
                  "_deepnote_index_column": 263680
                },
                {
                  "Userscore": 10,
                  "Username": "Stark007",
                  "Game_ID": 11,
                  "_deepnote_index_column": 7074
                },
                {
                  "Userscore": 6,
                  "Username": "Stark007",
                  "Game_ID": 2701,
                  "_deepnote_index_column": 253148
                },
                {
                  "Userscore": 0,
                  "Username": "TNMK",
                  "Game_ID": 21,
                  "_deepnote_index_column": 12770
                },
                {
                  "Userscore": 0,
                  "Username": "TNMK",
                  "Game_ID": 1376,
                  "_deepnote_index_column": 187367
                },
                {
                  "Userscore": 10,
                  "Username": "TNMK",
                  "Game_ID": 3337,
                  "_deepnote_index_column": 280802
                },
                {
                  "Userscore": 10,
                  "Username": "MarvelFTW",
                  "Game_ID": 25,
                  "_deepnote_index_column": 15422
                },
                {
                  "Userscore": 10,
                  "Username": "MarvelFTW",
                  "Game_ID": 69,
                  "_deepnote_index_column": 32452
                },
                {
                  "Userscore": 10,
                  "Username": "MarvelFTW",
                  "Game_ID": 2182,
                  "_deepnote_index_column": 234190
                },
                {
                  "Userscore": 10,
                  "Username": "MarvelFTW",
                  "Game_ID": 3210,
                  "_deepnote_index_column": 276183
                },
                {
                  "Userscore": 10,
                  "Username": "MarvelFTW",
                  "Game_ID": 3401,
                  "_deepnote_index_column": 283465
                },
                {
                  "Userscore": 10,
                  "Username": "Hambarr",
                  "Game_ID": 107,
                  "_deepnote_index_column": 45230
                },
                {
                  "Userscore": 7,
                  "Username": "Hambarr",
                  "Game_ID": 548,
                  "_deepnote_index_column": 108393
                },
                {
                  "Userscore": 0,
                  "Username": "j0r3l08",
                  "Game_ID": 672,
                  "_deepnote_index_column": 122637
                },
                {
                  "Userscore": 0,
                  "Username": "j0r3l08",
                  "Game_ID": 811,
                  "_deepnote_index_column": 145588
                },
                {
                  "Userscore": 10,
                  "Username": "EoinF.",
                  "Game_ID": 2,
                  "_deepnote_index_column": 1377
                },
                {
                  "Userscore": 10,
                  "Username": "EoinF.",
                  "Game_ID": 911,
                  "_deepnote_index_column": 154629
                },
                {
                  "Userscore": 9,
                  "Username": "Sam-Bartlett",
                  "Game_ID": 258,
                  "_deepnote_index_column": 74230
                },
                {
                  "Userscore": 8,
                  "Username": "Sam-Bartlett",
                  "Game_ID": 432,
                  "_deepnote_index_column": 92819
                },
                {
                  "Userscore": 10,
                  "Username": "kidjoseph1127",
                  "Game_ID": 6,
                  "_deepnote_index_column": 3308
                },
                {
                  "Userscore": 10,
                  "Username": "kidjoseph1127",
                  "Game_ID": 2536,
                  "_deepnote_index_column": 246314
                },
                {
                  "Userscore": 8,
                  "Username": "XxGurkeHDxX",
                  "Game_ID": 11,
                  "_deepnote_index_column": 5987
                },
                {
                  "Userscore": 8,
                  "Username": "XxGurkeHDxX",
                  "Game_ID": 11,
                  "_deepnote_index_column": 6287
                },
                {
                  "Userscore": 0,
                  "Username": "XxGurkeHDxX",
                  "Game_ID": 2550,
                  "_deepnote_index_column": 246571
                },
                {
                  "Userscore": 0,
                  "Username": "XxGurkeHDxX",
                  "Game_ID": 2710,
                  "_deepnote_index_column": 253700
                },
                {
                  "Userscore": 0,
                  "Username": "XxGurkeHDxX",
                  "Game_ID": 2806,
                  "_deepnote_index_column": 257072
                },
                {
                  "Userscore": 10,
                  "Username": "Sojum",
                  "Game_ID": 9,
                  "_deepnote_index_column": 4454
                },
                {
                  "Userscore": 10,
                  "Username": "Sojum",
                  "Game_ID": 9,
                  "_deepnote_index_column": 5154
                },
                {
                  "Userscore": 10,
                  "Username": "Sojum",
                  "Game_ID": 69,
                  "_deepnote_index_column": 32640
                },
                {
                  "Userscore": 10,
                  "Username": "Sojum",
                  "Game_ID": 119,
                  "_deepnote_index_column": 47300
                },
                {
                  "Userscore": 10,
                  "Username": "Sojum",
                  "Game_ID": 153,
                  "_deepnote_index_column": 56759
                },
                {
                  "Userscore": 3,
                  "Username": "Sojum",
                  "Game_ID": 520,
                  "_deepnote_index_column": 105779
                },
                {
                  "Userscore": 7,
                  "Username": "Sojum",
                  "Game_ID": 1266,
                  "_deepnote_index_column": 180656
                },
                {
                  "Userscore": 9,
                  "Username": "Sojum",
                  "Game_ID": 1835,
                  "_deepnote_index_column": 215934
                },
                {
                  "Userscore": 8,
                  "Username": "Sojum",
                  "Game_ID": 2790,
                  "_deepnote_index_column": 256484
                },
                {
                  "Userscore": 4,
                  "Username": "Sojum",
                  "Game_ID": 3261,
                  "_deepnote_index_column": 278036
                },
                {
                  "Userscore": 10,
                  "Username": "Aus_CriticX",
                  "Game_ID": 11,
                  "_deepnote_index_column": 6497
                },
                {
                  "Userscore": 9,
                  "Username": "Aus_CriticX",
                  "Game_ID": 17,
                  "_deepnote_index_column": 9964
                },
                {
                  "Userscore": 10,
                  "Username": "Aus_CriticX",
                  "Game_ID": 73,
                  "_deepnote_index_column": 36253
                },
                {
                  "Userscore": 10,
                  "Username": "Aus_CriticX",
                  "Game_ID": 144,
                  "_deepnote_index_column": 55378
                },
                {
                  "Userscore": 8,
                  "Username": "fox294",
                  "Game_ID": 33,
                  "_deepnote_index_column": 18171
                },
                {
                  "Userscore": 10,
                  "Username": "fox294",
                  "Game_ID": 336,
                  "_deepnote_index_column": 84332
                },
                {
                  "Userscore": 10,
                  "Username": "fox294",
                  "Game_ID": 549,
                  "_deepnote_index_column": 108900
                },
                {
                  "Userscore": 8,
                  "Username": "fox294",
                  "Game_ID": 731,
                  "_deepnote_index_column": 130747
                },
                {
                  "Userscore": 6,
                  "Username": "fox294",
                  "Game_ID": 803,
                  "_deepnote_index_column": 140749
                },
                {
                  "Userscore": 4,
                  "Username": "fox294",
                  "Game_ID": 1186,
                  "_deepnote_index_column": 174538
                },
                {
                  "Userscore": 7,
                  "Username": "fox294",
                  "Game_ID": 1376,
                  "_deepnote_index_column": 187657
                },
                {
                  "Userscore": 2,
                  "Username": "fox294",
                  "Game_ID": 1747,
                  "_deepnote_index_column": 211132
                },
                {
                  "Userscore": 8,
                  "Username": "fox294",
                  "Game_ID": 1837,
                  "_deepnote_index_column": 216079
                },
                {
                  "Userscore": 3,
                  "Username": "fox294",
                  "Game_ID": 2585,
                  "_deepnote_index_column": 248183
                },
                {
                  "Userscore": 10,
                  "Username": "fox294",
                  "Game_ID": 2784,
                  "_deepnote_index_column": 255946
                },
                {
                  "Userscore": 10,
                  "Username": "Satisfaction",
                  "Game_ID": 195,
                  "_deepnote_index_column": 64662
                }
              ],
              "rows_bottom": [
                {
                  "Userscore": 10,
                  "Username": "alexmartin",
                  "Game_ID": 1422,
                  "_deepnote_index_column": 191295
                },
                {
                  "Userscore": 10,
                  "Username": "alexmartin",
                  "Game_ID": 2088,
                  "_deepnote_index_column": 228762
                },
                {
                  "Userscore": 10,
                  "Username": "Unibubble",
                  "Game_ID": 153,
                  "_deepnote_index_column": 57017
                },
                {
                  "Userscore": 10,
                  "Username": "Unibubble",
                  "Game_ID": 629,
                  "_deepnote_index_column": 118371
                },
                {
                  "Userscore": 8,
                  "Username": "Unibubble",
                  "Game_ID": 875,
                  "_deepnote_index_column": 152291
                },
                {
                  "Userscore": 0,
                  "Username": "Unibubble",
                  "Game_ID": 2111,
                  "_deepnote_index_column": 230422
                },
                {
                  "Userscore": 9,
                  "Username": "DimosZargarda",
                  "Game_ID": 84,
                  "_deepnote_index_column": 38947
                },
                {
                  "Userscore": 4,
                  "Username": "DimosZargarda",
                  "Game_ID": 254,
                  "_deepnote_index_column": 74007
                },
                {
                  "Userscore": 8,
                  "Username": "DimosZargarda",
                  "Game_ID": 947,
                  "_deepnote_index_column": 158185
                },
                {
                  "Userscore": 10,
                  "Username": "DimosZargarda",
                  "Game_ID": 986,
                  "_deepnote_index_column": 160569
                },
                {
                  "Userscore": 9,
                  "Username": "DimosZargarda",
                  "Game_ID": 1488,
                  "_deepnote_index_column": 196112
                },
                {
                  "Userscore": 2,
                  "Username": "DimosZargarda",
                  "Game_ID": 2854,
                  "_deepnote_index_column": 259809
                },
                {
                  "Userscore": 10,
                  "Username": "DimosZargarda",
                  "Game_ID": 3412,
                  "_deepnote_index_column": 283838
                },
                {
                  "Userscore": 10,
                  "Username": "LarsH.",
                  "Game_ID": 34,
                  "_deepnote_index_column": 18259
                },
                {
                  "Userscore": 10,
                  "Username": "LarsH.",
                  "Game_ID": 415,
                  "_deepnote_index_column": 91971
                },
                {
                  "Userscore": 1,
                  "Username": "maliw",
                  "Game_ID": 1217,
                  "_deepnote_index_column": 178155
                },
                {
                  "Userscore": 0,
                  "Username": "maliw",
                  "Game_ID": 1630,
                  "_deepnote_index_column": 203260
                },
                {
                  "Userscore": 7,
                  "Username": "hifumitogo",
                  "Game_ID": 17,
                  "_deepnote_index_column": 9875
                },
                {
                  "Userscore": 5,
                  "Username": "hifumitogo",
                  "Game_ID": 201,
                  "_deepnote_index_column": 67217
                },
                {
                  "Userscore": 3,
                  "Username": "hifumitogo",
                  "Game_ID": 639,
                  "_deepnote_index_column": 119920
                },
                {
                  "Userscore": 9,
                  "Username": "hifumitogo",
                  "Game_ID": 2278,
                  "_deepnote_index_column": 238473
                },
                {
                  "Userscore": 9,
                  "Username": "theRooikat",
                  "Game_ID": 499,
                  "_deepnote_index_column": 103461
                },
                {
                  "Userscore": 9,
                  "Username": "theRooikat",
                  "Game_ID": 1594,
                  "_deepnote_index_column": 201466
                },
                {
                  "Userscore": 10,
                  "Username": "Bolkie",
                  "Game_ID": 179,
                  "_deepnote_index_column": 62886
                },
                {
                  "Userscore": 9,
                  "Username": "Bolkie",
                  "Game_ID": 288,
                  "_deepnote_index_column": 78018
                },
                {
                  "Userscore": 10,
                  "Username": "Bolkie",
                  "Game_ID": 1347,
                  "_deepnote_index_column": 185746
                },
                {
                  "Userscore": 10,
                  "Username": "Bolkie",
                  "Game_ID": 1530,
                  "_deepnote_index_column": 198154
                },
                {
                  "Userscore": 8,
                  "Username": "Bolkie",
                  "Game_ID": 2259,
                  "_deepnote_index_column": 237271
                },
                {
                  "Userscore": 10,
                  "Username": "Bolkie",
                  "Game_ID": 2499,
                  "_deepnote_index_column": 245333
                },
                {
                  "Userscore": 10,
                  "Username": "jacobh",
                  "Game_ID": 514,
                  "_deepnote_index_column": 104618
                },
                {
                  "Userscore": 5,
                  "Username": "jacobh",
                  "Game_ID": 1201,
                  "_deepnote_index_column": 176198
                },
                {
                  "Userscore": 9,
                  "Username": "DGDrocks7",
                  "Game_ID": 2,
                  "_deepnote_index_column": 1423
                },
                {
                  "Userscore": 9,
                  "Username": "DGDrocks7",
                  "Game_ID": 39,
                  "_deepnote_index_column": 20222
                },
                {
                  "Userscore": 9,
                  "Username": "DGDrocks7",
                  "Game_ID": 46,
                  "_deepnote_index_column": 22008
                },
                {
                  "Userscore": 10,
                  "Username": "DGDrocks7",
                  "Game_ID": 51,
                  "_deepnote_index_column": 24745
                },
                {
                  "Userscore": 10,
                  "Username": "DGDrocks7",
                  "Game_ID": 56,
                  "_deepnote_index_column": 27739
                },
                {
                  "Userscore": 8,
                  "Username": "DGDrocks7",
                  "Game_ID": 64,
                  "_deepnote_index_column": 30011
                },
                {
                  "Userscore": 9,
                  "Username": "DGDrocks7",
                  "Game_ID": 67,
                  "_deepnote_index_column": 30437
                },
                {
                  "Userscore": 9,
                  "Username": "DGDrocks7",
                  "Game_ID": 76,
                  "_deepnote_index_column": 36511
                },
                {
                  "Userscore": 9,
                  "Username": "DGDrocks7",
                  "Game_ID": 97,
                  "_deepnote_index_column": 42023
                },
                {
                  "Userscore": 10,
                  "Username": "DGDrocks7",
                  "Game_ID": 108,
                  "_deepnote_index_column": 45680
                },
                {
                  "Userscore": 9,
                  "Username": "DGDrocks7",
                  "Game_ID": 142,
                  "_deepnote_index_column": 54499
                },
                {
                  "Userscore": 9,
                  "Username": "DGDrocks7",
                  "Game_ID": 151,
                  "_deepnote_index_column": 55824
                },
                {
                  "Userscore": 9,
                  "Username": "DGDrocks7",
                  "Game_ID": 155,
                  "_deepnote_index_column": 57988
                },
                {
                  "Userscore": 9,
                  "Username": "DGDrocks7",
                  "Game_ID": 176,
                  "_deepnote_index_column": 61657
                },
                {
                  "Userscore": 10,
                  "Username": "DGDrocks7",
                  "Game_ID": 197,
                  "_deepnote_index_column": 65904
                },
                {
                  "Userscore": 8,
                  "Username": "DGDrocks7",
                  "Game_ID": 256,
                  "_deepnote_index_column": 74137
                },
                {
                  "Userscore": 8,
                  "Username": "DGDrocks7",
                  "Game_ID": 292,
                  "_deepnote_index_column": 78306
                },
                {
                  "Userscore": 8,
                  "Username": "DGDrocks7",
                  "Game_ID": 329,
                  "_deepnote_index_column": 83348
                },
                {
                  "Userscore": 9,
                  "Username": "DGDrocks7",
                  "Game_ID": 494,
                  "_deepnote_index_column": 103147
                },
                {
                  "Userscore": 8,
                  "Username": "DGDrocks7",
                  "Game_ID": 546,
                  "_deepnote_index_column": 108242
                },
                {
                  "Userscore": 9,
                  "Username": "DGDrocks7",
                  "Game_ID": 568,
                  "_deepnote_index_column": 110127
                },
                {
                  "Userscore": 10,
                  "Username": "DGDrocks7",
                  "Game_ID": 576,
                  "_deepnote_index_column": 110425
                },
                {
                  "Userscore": 10,
                  "Username": "DGDrocks7",
                  "Game_ID": 594,
                  "_deepnote_index_column": 111970
                },
                {
                  "Userscore": 9,
                  "Username": "DGDrocks7",
                  "Game_ID": 610,
                  "_deepnote_index_column": 116418
                },
                {
                  "Userscore": 9,
                  "Username": "DGDrocks7",
                  "Game_ID": 630,
                  "_deepnote_index_column": 118550
                },
                {
                  "Userscore": 8,
                  "Username": "DGDrocks7",
                  "Game_ID": 686,
                  "_deepnote_index_column": 126567
                },
                {
                  "Userscore": 9,
                  "Username": "DGDrocks7",
                  "Game_ID": 729,
                  "_deepnote_index_column": 130242
                },
                {
                  "Userscore": 8,
                  "Username": "DGDrocks7",
                  "Game_ID": 771,
                  "_deepnote_index_column": 133916
                },
                {
                  "Userscore": 7,
                  "Username": "DGDrocks7",
                  "Game_ID": 811,
                  "_deepnote_index_column": 145748
                },
                {
                  "Userscore": 8,
                  "Username": "DGDrocks7",
                  "Game_ID": 855,
                  "_deepnote_index_column": 149766
                },
                {
                  "Userscore": 8,
                  "Username": "DGDrocks7",
                  "Game_ID": 869,
                  "_deepnote_index_column": 151878
                },
                {
                  "Userscore": 9,
                  "Username": "DGDrocks7",
                  "Game_ID": 969,
                  "_deepnote_index_column": 159944
                },
                {
                  "Userscore": 8,
                  "Username": "DGDrocks7",
                  "Game_ID": 1102,
                  "_deepnote_index_column": 168961
                },
                {
                  "Userscore": 9,
                  "Username": "DGDrocks7",
                  "Game_ID": 1141,
                  "_deepnote_index_column": 171143
                },
                {
                  "Userscore": 8,
                  "Username": "DGDrocks7",
                  "Game_ID": 1286,
                  "_deepnote_index_column": 182111
                },
                {
                  "Userscore": 8,
                  "Username": "DGDrocks7",
                  "Game_ID": 1307,
                  "_deepnote_index_column": 183553
                },
                {
                  "Userscore": 8,
                  "Username": "DGDrocks7",
                  "Game_ID": 1409,
                  "_deepnote_index_column": 190522
                },
                {
                  "Userscore": 9,
                  "Username": "DGDrocks7",
                  "Game_ID": 1412,
                  "_deepnote_index_column": 190837
                },
                {
                  "Userscore": 9,
                  "Username": "DGDrocks7",
                  "Game_ID": 1480,
                  "_deepnote_index_column": 195615
                },
                {
                  "Userscore": 9,
                  "Username": "DGDrocks7",
                  "Game_ID": 1639,
                  "_deepnote_index_column": 204061
                },
                {
                  "Userscore": 8,
                  "Username": "DGDrocks7",
                  "Game_ID": 1661,
                  "_deepnote_index_column": 205543
                },
                {
                  "Userscore": 9,
                  "Username": "DGDrocks7",
                  "Game_ID": 1687,
                  "_deepnote_index_column": 207312
                },
                {
                  "Userscore": 8,
                  "Username": "DGDrocks7",
                  "Game_ID": 1702,
                  "_deepnote_index_column": 208561
                },
                {
                  "Userscore": 7,
                  "Username": "DGDrocks7",
                  "Game_ID": 1728,
                  "_deepnote_index_column": 209631
                },
                {
                  "Userscore": 8,
                  "Username": "DGDrocks7",
                  "Game_ID": 1811,
                  "_deepnote_index_column": 214905
                },
                {
                  "Userscore": 9,
                  "Username": "DGDrocks7",
                  "Game_ID": 1885,
                  "_deepnote_index_column": 217884
                },
                {
                  "Userscore": 7,
                  "Username": "DGDrocks7",
                  "Game_ID": 2011,
                  "_deepnote_index_column": 225159
                },
                {
                  "Userscore": 9,
                  "Username": "DGDrocks7",
                  "Game_ID": 2070,
                  "_deepnote_index_column": 227864
                },
                {
                  "Userscore": 5,
                  "Username": "DGDrocks7",
                  "Game_ID": 2133,
                  "_deepnote_index_column": 230874
                },
                {
                  "Userscore": 9,
                  "Username": "DGDrocks7",
                  "Game_ID": 2179,
                  "_deepnote_index_column": 234133
                },
                {
                  "Userscore": 9,
                  "Username": "DGDrocks7",
                  "Game_ID": 2243,
                  "_deepnote_index_column": 236450
                },
                {
                  "Userscore": 8,
                  "Username": "DGDrocks7",
                  "Game_ID": 2326,
                  "_deepnote_index_column": 240008
                },
                {
                  "Userscore": 8,
                  "Username": "DGDrocks7",
                  "Game_ID": 2558,
                  "_deepnote_index_column": 246900
                },
                {
                  "Userscore": 9,
                  "Username": "DGDrocks7",
                  "Game_ID": 2721,
                  "_deepnote_index_column": 254147
                },
                {
                  "Userscore": 9,
                  "Username": "DGDrocks7",
                  "Game_ID": 2820,
                  "_deepnote_index_column": 257690
                },
                {
                  "Userscore": 8,
                  "Username": "DGDrocks7",
                  "Game_ID": 3041,
                  "_deepnote_index_column": 268048
                },
                {
                  "Userscore": 8,
                  "Username": "DGDrocks7",
                  "Game_ID": 3112,
                  "_deepnote_index_column": 272395
                },
                {
                  "Userscore": 9,
                  "Username": "DGDrocks7",
                  "Game_ID": 3344,
                  "_deepnote_index_column": 280903
                },
                {
                  "Userscore": 8,
                  "Username": "DGDrocks7",
                  "Game_ID": 3384,
                  "_deepnote_index_column": 282595
                },
                {
                  "Userscore": 10,
                  "Username": "dricks",
                  "Game_ID": 515,
                  "_deepnote_index_column": 105001
                },
                {
                  "Userscore": 1,
                  "Username": "dricks",
                  "Game_ID": 2585,
                  "_deepnote_index_column": 247496
                },
                {
                  "Userscore": 10,
                  "Username": "stone_house",
                  "Game_ID": 21,
                  "_deepnote_index_column": 12629
                },
                {
                  "Userscore": 9,
                  "Username": "stone_house",
                  "Game_ID": 1164,
                  "_deepnote_index_column": 173180
                },
                {
                  "Userscore": 10,
                  "Username": "Bags159",
                  "Game_ID": 135,
                  "_deepnote_index_column": 51520
                },
                {
                  "Userscore": 6,
                  "Username": "Bags159",
                  "Game_ID": 546,
                  "_deepnote_index_column": 108255
                },
                {
                  "Userscore": 10,
                  "Username": "Bags159",
                  "Game_ID": 1705,
                  "_deepnote_index_column": 208988
                },
                {
                  "Userscore": 10,
                  "Username": "FatMikeNJ",
                  "Game_ID": 11,
                  "_deepnote_index_column": 7289
                },
                {
                  "Userscore": 10,
                  "Username": "FatMikeNJ",
                  "Game_ID": 70,
                  "_deepnote_index_column": 32819
                },
                {
                  "Userscore": 10,
                  "Username": "c0okieM0N5T3R",
                  "Game_ID": 1304,
                  "_deepnote_index_column": 183327
                },
                {
                  "Userscore": 10,
                  "Username": "c0okieM0N5T3R",
                  "Game_ID": 2252,
                  "_deepnote_index_column": 236843
                },
                {
                  "Userscore": 10,
                  "Username": "TomH.",
                  "Game_ID": 67,
                  "_deepnote_index_column": 30346
                },
                {
                  "Userscore": 10,
                  "Username": "TomH.",
                  "Game_ID": 109,
                  "_deepnote_index_column": 45779
                },
                {
                  "Userscore": 10,
                  "Username": "TomH.",
                  "Game_ID": 187,
                  "_deepnote_index_column": 64130
                },
                {
                  "Userscore": 3,
                  "Username": "TomH.",
                  "Game_ID": 242,
                  "_deepnote_index_column": 72716
                },
                {
                  "Userscore": 10,
                  "Username": "TomH.",
                  "Game_ID": 390,
                  "_deepnote_index_column": 90130
                },
                {
                  "Userscore": 8,
                  "Username": "TomH.",
                  "Game_ID": 415,
                  "_deepnote_index_column": 91858
                },
                {
                  "Userscore": 10,
                  "Username": "TomH.",
                  "Game_ID": 830,
                  "_deepnote_index_column": 146479
                },
                {
                  "Userscore": 10,
                  "Username": "TomH.",
                  "Game_ID": 1076,
                  "_deepnote_index_column": 166764
                },
                {
                  "Userscore": 6,
                  "Username": "TomH.",
                  "Game_ID": 1439,
                  "_deepnote_index_column": 192272
                },
                {
                  "Userscore": 9,
                  "Username": "TomH.",
                  "Game_ID": 1626,
                  "_deepnote_index_column": 202864
                },
                {
                  "Userscore": 10,
                  "Username": "TomH.",
                  "Game_ID": 1654,
                  "_deepnote_index_column": 205453
                },
                {
                  "Userscore": 9,
                  "Username": "TomH.",
                  "Game_ID": 1786,
                  "_deepnote_index_column": 213427
                },
                {
                  "Userscore": 10,
                  "Username": "TomH.",
                  "Game_ID": 2193,
                  "_deepnote_index_column": 234512
                },
                {
                  "Userscore": 4,
                  "Username": "TomH.",
                  "Game_ID": 2254,
                  "_deepnote_index_column": 237106
                },
                {
                  "Userscore": 10,
                  "Username": "TomH.",
                  "Game_ID": 2983,
                  "_deepnote_index_column": 265074
                },
                {
                  "Userscore": 6,
                  "Username": "TomH.",
                  "Game_ID": 3216,
                  "_deepnote_index_column": 276314
                },
                {
                  "Userscore": 0,
                  "Username": "ClarkG.",
                  "Game_ID": 911,
                  "_deepnote_index_column": 154685
                },
                {
                  "Userscore": 9,
                  "Username": "ClarkG.",
                  "Game_ID": 1914,
                  "_deepnote_index_column": 219382
                },
                {
                  "Userscore": 10,
                  "Username": "BrandonW.",
                  "Game_ID": 12,
                  "_deepnote_index_column": 8074
                },
                {
                  "Userscore": 10,
                  "Username": "BrandonW.",
                  "Game_ID": 110,
                  "_deepnote_index_column": 46305
                },
                {
                  "Userscore": 10,
                  "Username": "BrandonW.",
                  "Game_ID": 281,
                  "_deepnote_index_column": 77148
                },
                {
                  "Userscore": 9,
                  "Username": "BrandonW.",
                  "Game_ID": 626,
                  "_deepnote_index_column": 117984
                },
                {
                  "Userscore": 10,
                  "Username": "BrandonW.",
                  "Game_ID": 825,
                  "_deepnote_index_column": 146263
                },
                {
                  "Userscore": 10,
                  "Username": "Indik47",
                  "Game_ID": 344,
                  "_deepnote_index_column": 85565
                },
                {
                  "Userscore": 10,
                  "Username": "Indik47",
                  "Game_ID": 515,
                  "_deepnote_index_column": 104839
                },
                {
                  "Userscore": 10,
                  "Username": "Indik47",
                  "Game_ID": 818,
                  "_deepnote_index_column": 146141
                },
                {
                  "Userscore": 10,
                  "Username": "Indik47",
                  "Game_ID": 1016,
                  "_deepnote_index_column": 162237
                },
                {
                  "Userscore": 10,
                  "Username": "Indik47",
                  "Game_ID": 2203,
                  "_deepnote_index_column": 234934
                },
                {
                  "Userscore": 10,
                  "Username": "spinnes",
                  "Game_ID": 198,
                  "_deepnote_index_column": 66192
                },
                {
                  "Userscore": 10,
                  "Username": "spinnes",
                  "Game_ID": 1487,
                  "_deepnote_index_column": 195871
                },
                {
                  "Userscore": 10,
                  "Username": "spinnes",
                  "Game_ID": 2286,
                  "_deepnote_index_column": 238897
                },
                {
                  "Userscore": 9,
                  "Username": "spinnes",
                  "Game_ID": 2521,
                  "_deepnote_index_column": 245929
                },
                {
                  "Userscore": 8,
                  "Username": "spinnes",
                  "Game_ID": 3268,
                  "_deepnote_index_column": 278414
                },
                {
                  "Userscore": 7,
                  "Username": "Rabidprimate",
                  "Game_ID": 2774,
                  "_deepnote_index_column": 255790
                },
                {
                  "Userscore": 1,
                  "Username": "Rabidprimate",
                  "Game_ID": 3337,
                  "_deepnote_index_column": 280776
                },
                {
                  "Userscore": 10,
                  "Username": "hydo",
                  "Game_ID": 447,
                  "_deepnote_index_column": 94501
                },
                {
                  "Userscore": 9,
                  "Username": "hydo",
                  "Game_ID": 3219,
                  "_deepnote_index_column": 276534
                },
                {
                  "Userscore": 6,
                  "Username": "Melopahn",
                  "Game_ID": 0,
                  "_deepnote_index_column": 351
                },
                {
                  "Userscore": 8,
                  "Username": "Melopahn",
                  "Game_ID": 233,
                  "_deepnote_index_column": 72088
                },
                {
                  "Userscore": 2,
                  "Username": "Melopahn",
                  "Game_ID": 254,
                  "_deepnote_index_column": 73892
                },
                {
                  "Userscore": 10,
                  "Username": "Melopahn",
                  "Game_ID": 438,
                  "_deepnote_index_column": 93360
                },
                {
                  "Userscore": 8,
                  "Username": "Melopahn",
                  "Game_ID": 454,
                  "_deepnote_index_column": 96433
                },
                {
                  "Userscore": 0,
                  "Username": "Melopahn",
                  "Game_ID": 803,
                  "_deepnote_index_column": 140015
                },
                {
                  "Userscore": 10,
                  "Username": "ArielG.",
                  "Game_ID": 497,
                  "_deepnote_index_column": 103303
                },
                {
                  "Userscore": 9,
                  "Username": "ArielG.",
                  "Game_ID": 1510,
                  "_deepnote_index_column": 196930
                },
                {
                  "Userscore": 10,
                  "Username": "huwd6",
                  "Game_ID": 6,
                  "_deepnote_index_column": 3236
                },
                {
                  "Userscore": 6,
                  "Username": "huwd6",
                  "Game_ID": 941,
                  "_deepnote_index_column": 157783
                },
                {
                  "Userscore": 9,
                  "Username": "huwd6",
                  "Game_ID": 2254,
                  "_deepnote_index_column": 237135
                },
                {
                  "Userscore": 10,
                  "Username": "huwd6",
                  "Game_ID": 3084,
                  "_deepnote_index_column": 270007
                },
                {
                  "Userscore": 9,
                  "Username": "OmarI.",
                  "Game_ID": 48,
                  "_deepnote_index_column": 22623
                },
                {
                  "Userscore": 9,
                  "Username": "OmarI.",
                  "Game_ID": 287,
                  "_deepnote_index_column": 77804
                },
                {
                  "Userscore": 10,
                  "Username": "GRIDOM",
                  "Game_ID": 288,
                  "_deepnote_index_column": 78019
                },
                {
                  "Userscore": 10,
                  "Username": "GRIDOM",
                  "Game_ID": 380,
                  "_deepnote_index_column": 89117
                },
                {
                  "Userscore": 10,
                  "Username": "Waxiv",
                  "Game_ID": 144,
                  "_deepnote_index_column": 54819
                },
                {
                  "Userscore": 9,
                  "Username": "Waxiv",
                  "Game_ID": 811,
                  "_deepnote_index_column": 144668
                },
                {
                  "Userscore": 6,
                  "Username": "Waxiv",
                  "Game_ID": 1409,
                  "_deepnote_index_column": 190407
                },
                {
                  "Userscore": 10,
                  "Username": "ailfawka",
                  "Game_ID": 607,
                  "_deepnote_index_column": 115177
                },
                {
                  "Userscore": 2,
                  "Username": "ailfawka",
                  "Game_ID": 672,
                  "_deepnote_index_column": 123690
                },
                {
                  "Userscore": 2,
                  "Username": "ailfawka",
                  "Game_ID": 811,
                  "_deepnote_index_column": 145325
                },
                {
                  "Userscore": 10,
                  "Username": "ailfawka",
                  "Game_ID": 1741,
                  "_deepnote_index_column": 210202
                },
                {
                  "Userscore": 10,
                  "Username": "triggareloaded",
                  "Game_ID": 743,
                  "_deepnote_index_column": 131903
                },
                {
                  "Userscore": 0,
                  "Username": "triggareloaded",
                  "Game_ID": 3260,
                  "_deepnote_index_column": 277709
                },
                {
                  "Userscore": 1,
                  "Username": "Makarash",
                  "Game_ID": 618,
                  "_deepnote_index_column": 117037
                },
                {
                  "Userscore": 1,
                  "Username": "Makarash",
                  "Game_ID": 1376,
                  "_deepnote_index_column": 187399
                },
                {
                  "Userscore": 10,
                  "Username": "quasar44",
                  "Game_ID": 57,
                  "_deepnote_index_column": 28463
                },
                {
                  "Userscore": 9,
                  "Username": "quasar44",
                  "Game_ID": 2106,
                  "_deepnote_index_column": 229662
                }
              ]
            },
            "text/plain": "            Userscore        Username  Game_ID\nUnnamed: 0                                    \n122104              0          Clyton      672\n274573              0          Clyton     3154\n101981              9              AP      476\n169777              9              AP     1122\n219369              9              AP     1914\n...               ...             ...      ...\n277709              0  triggareloaded     3260\n117037              1        Makarash      618\n187399              1        Makarash     1376\n28463              10        quasar44       57\n229662              9        quasar44     2106\n\n[38055 rows x 3 columns]",
            "text/html": "<div>\n<style scoped>\n    .dataframe tbody tr th:only-of-type {\n        vertical-align: middle;\n    }\n\n    .dataframe tbody tr th {\n        vertical-align: top;\n    }\n\n    .dataframe thead th {\n        text-align: right;\n    }\n</style>\n<table border=\"1\" class=\"dataframe\">\n  <thead>\n    <tr style=\"text-align: right;\">\n      <th></th>\n      <th>Userscore</th>\n      <th>Username</th>\n      <th>Game_ID</th>\n    </tr>\n    <tr>\n      <th>Unnamed: 0</th>\n      <th></th>\n      <th></th>\n      <th></th>\n    </tr>\n  </thead>\n  <tbody>\n    <tr>\n      <th>122104</th>\n      <td>0</td>\n      <td>Clyton</td>\n      <td>672</td>\n    </tr>\n    <tr>\n      <th>274573</th>\n      <td>0</td>\n      <td>Clyton</td>\n      <td>3154</td>\n    </tr>\n    <tr>\n      <th>101981</th>\n      <td>9</td>\n      <td>AP</td>\n      <td>476</td>\n    </tr>\n    <tr>\n      <th>169777</th>\n      <td>9</td>\n      <td>AP</td>\n      <td>1122</td>\n    </tr>\n    <tr>\n      <th>219369</th>\n      <td>9</td>\n      <td>AP</td>\n      <td>1914</td>\n    </tr>\n    <tr>\n      <th>...</th>\n      <td>...</td>\n      <td>...</td>\n      <td>...</td>\n    </tr>\n    <tr>\n      <th>277709</th>\n      <td>0</td>\n      <td>triggareloaded</td>\n      <td>3260</td>\n    </tr>\n    <tr>\n      <th>117037</th>\n      <td>1</td>\n      <td>Makarash</td>\n      <td>618</td>\n    </tr>\n    <tr>\n      <th>187399</th>\n      <td>1</td>\n      <td>Makarash</td>\n      <td>1376</td>\n    </tr>\n    <tr>\n      <th>28463</th>\n      <td>10</td>\n      <td>quasar44</td>\n      <td>57</td>\n    </tr>\n    <tr>\n      <th>229662</th>\n      <td>9</td>\n      <td>quasar44</td>\n      <td>2106</td>\n    </tr>\n  </tbody>\n</table>\n<p>38055 rows × 3 columns</p>\n</div>"
          },
          "metadata": {}
        }
      ]
    },
    {
      "cell_type": "code",
      "metadata": {
        "tags": [],
        "cell_id": "00004-687f5bd4-aa5a-4fb1-8355-2a0af5391958",
        "deepnote_to_be_reexecuted": false,
        "source_hash": "f7a522f5",
        "execution_millis": 7,
        "execution_start": 1615222764841,
        "deepnote_cell_type": "code"
      },
      "source": "tf = TfidfVectorizer(analyzer=lambda s: map(lambda c: c.lower(), s.split(';')))\ntfidf_matrix = tf.fit_transform(game_data['Genre'])",
      "execution_count": 6,
      "outputs": []
    },
    {
      "cell_type": "code",
      "metadata": {
        "tags": [],
        "cell_id": "00005-d4484971-29af-4ff1-8f1c-b92dc4e5aba1",
        "deepnote_to_be_reexecuted": false,
        "source_hash": "c9a7b04b",
        "execution_millis": 159,
        "execution_start": 1615222766313,
        "deepnote_cell_type": "code"
      },
      "source": "pd.DataFrame(tfidf_matrix.todense(), columns=tf.get_feature_names(), index=game_data['Title'])",
      "execution_count": 7,
      "outputs": [
        {
          "output_type": "execute_result",
          "execution_count": 7,
          "data": {
            "application/vnd.deepnote.dataframe.v2+json": {
              "row_count": 5000,
              "column_count": 150,
              "columns": [
                {
                  "name": "2d",
                  "dtype": "float64",
                  "stats": {
                    "unique_count": 47,
                    "nan_count": 0,
                    "min": 0,
                    "max": 0.6868663176592932,
                    "histogram": [
                      {
                        "bin_start": 0,
                        "bin_end": 0.06868663176592932,
                        "count": 4558
                      },
                      {
                        "bin_start": 0.06868663176592932,
                        "bin_end": 0.13737326353185864,
                        "count": 0
                      },
                      {
                        "bin_start": 0.13737326353185864,
                        "bin_end": 0.20605989529778795,
                        "count": 0
                      },
                      {
                        "bin_start": 0.20605989529778795,
                        "bin_end": 0.27474652706371727,
                        "count": 2
                      },
                      {
                        "bin_start": 0.27474652706371727,
                        "bin_end": 0.3434331588296466,
                        "count": 33
                      },
                      {
                        "bin_start": 0.3434331588296466,
                        "bin_end": 0.4121197905955759,
                        "count": 5
                      },
                      {
                        "bin_start": 0.4121197905955759,
                        "bin_end": 0.4808064223615052,
                        "count": 9
                      },
                      {
                        "bin_start": 0.4808064223615052,
                        "bin_end": 0.5494930541274345,
                        "count": 21
                      },
                      {
                        "bin_start": 0.5494930541274345,
                        "bin_end": 0.6181796858933639,
                        "count": 92
                      },
                      {
                        "bin_start": 0.6181796858933639,
                        "bin_end": 0.6868663176592932,
                        "count": 280
                      }
                    ]
                  }
                },
                {
                  "name": "3d",
                  "dtype": "float64",
                  "stats": {
                    "unique_count": 66,
                    "nan_count": 0,
                    "min": 0,
                    "max": 0.7259162560839147,
                    "histogram": [
                      {
                        "bin_start": 0,
                        "bin_end": 0.07259162560839147,
                        "count": 4704
                      },
                      {
                        "bin_start": 0.07259162560839147,
                        "bin_end": 0.14518325121678294,
                        "count": 0
                      },
                      {
                        "bin_start": 0.14518325121678294,
                        "bin_end": 0.2177748768251744,
                        "count": 0
                      },
                      {
                        "bin_start": 0.2177748768251744,
                        "bin_end": 0.2903665024335659,
                        "count": 2
                      },
                      {
                        "bin_start": 0.2903665024335659,
                        "bin_end": 0.3629581280419574,
                        "count": 22
                      },
                      {
                        "bin_start": 0.3629581280419574,
                        "bin_end": 0.4355497536503488,
                        "count": 36
                      },
                      {
                        "bin_start": 0.4355497536503488,
                        "bin_end": 0.5081413792587403,
                        "count": 27
                      },
                      {
                        "bin_start": 0.5081413792587403,
                        "bin_end": 0.5807330048671318,
                        "count": 21
                      },
                      {
                        "bin_start": 0.5807330048671318,
                        "bin_end": 0.6533246304755232,
                        "count": 71
                      },
                      {
                        "bin_start": 0.6533246304755232,
                        "bin_end": 0.7259162560839147,
                        "count": 117
                      }
                    ]
                  }
                },
                {
                  "name": "4x",
                  "dtype": "float64",
                  "stats": {
                    "unique_count": 10,
                    "nan_count": 0,
                    "min": 0,
                    "max": 0.7506862813796591,
                    "histogram": [
                      {
                        "bin_start": 0,
                        "bin_end": 0.07506862813796591,
                        "count": 4973
                      },
                      {
                        "bin_start": 0.07506862813796591,
                        "bin_end": 0.15013725627593183,
                        "count": 0
                      },
                      {
                        "bin_start": 0.15013725627593183,
                        "bin_end": 0.22520588441389774,
                        "count": 0
                      },
                      {
                        "bin_start": 0.22520588441389774,
                        "bin_end": 0.30027451255186366,
                        "count": 0
                      },
                      {
                        "bin_start": 0.30027451255186366,
                        "bin_end": 0.37534314068982955,
                        "count": 0
                      },
                      {
                        "bin_start": 0.37534314068982955,
                        "bin_end": 0.4504117688277955,
                        "count": 0
                      },
                      {
                        "bin_start": 0.4504117688277955,
                        "bin_end": 0.5254803969657614,
                        "count": 10
                      },
                      {
                        "bin_start": 0.5254803969657614,
                        "bin_end": 0.6005490251037273,
                        "count": 5
                      },
                      {
                        "bin_start": 0.6005490251037273,
                        "bin_end": 0.6756176532416932,
                        "count": 4
                      },
                      {
                        "bin_start": 0.6756176532416932,
                        "bin_end": 0.7506862813796591,
                        "count": 8
                      }
                    ]
                  }
                },
                {
                  "name": "action",
                  "dtype": "float64",
                  "stats": {
                    "unique_count": 257,
                    "nan_count": 0,
                    "min": 0,
                    "max": 0.6451709891203147,
                    "histogram": [
                      {
                        "bin_start": 0,
                        "bin_end": 0.06451709891203147,
                        "count": 3306
                      },
                      {
                        "bin_start": 0.06451709891203147,
                        "bin_end": 0.12903419782406295,
                        "count": 44
                      },
                      {
                        "bin_start": 0.12903419782406295,
                        "bin_end": 0.19355129673609442,
                        "count": 428
                      },
                      {
                        "bin_start": 0.19355129673609442,
                        "bin_end": 0.2580683956481259,
                        "count": 480
                      },
                      {
                        "bin_start": 0.2580683956481259,
                        "bin_end": 0.3225854945601574,
                        "count": 223
                      },
                      {
                        "bin_start": 0.3225854945601574,
                        "bin_end": 0.38710259347218884,
                        "count": 269
                      },
                      {
                        "bin_start": 0.38710259347218884,
                        "bin_end": 0.4516196923842203,
                        "count": 192
                      },
                      {
                        "bin_start": 0.4516196923842203,
                        "bin_end": 0.5161367912962518,
                        "count": 5
                      },
                      {
                        "bin_start": 0.5161367912962518,
                        "bin_end": 0.5806538902082833,
                        "count": 6
                      },
                      {
                        "bin_start": 0.5806538902082833,
                        "bin_end": 0.6451709891203147,
                        "count": 47
                      }
                    ]
                  }
                },
                {
                  "name": "action adventure",
                  "dtype": "float64",
                  "stats": {
                    "unique_count": 119,
                    "nan_count": 0,
                    "min": 0,
                    "max": 0.7693382046468081,
                    "histogram": [
                      {
                        "bin_start": 0,
                        "bin_end": 0.07693382046468081,
                        "count": 4303
                      },
                      {
                        "bin_start": 0.07693382046468081,
                        "bin_end": 0.15386764092936162,
                        "count": 0
                      },
                      {
                        "bin_start": 0.15386764092936162,
                        "bin_end": 0.23080146139404242,
                        "count": 11
                      },
                      {
                        "bin_start": 0.23080146139404242,
                        "bin_end": 0.30773528185872323,
                        "count": 146
                      },
                      {
                        "bin_start": 0.30773528185872323,
                        "bin_end": 0.384669102323404,
                        "count": 197
                      },
                      {
                        "bin_start": 0.384669102323404,
                        "bin_end": 0.46160292278808485,
                        "count": 46
                      },
                      {
                        "bin_start": 0.46160292278808485,
                        "bin_end": 0.5385367432527657,
                        "count": 63
                      },
                      {
                        "bin_start": 0.5385367432527657,
                        "bin_end": 0.6154705637174465,
                        "count": 51
                      },
                      {
                        "bin_start": 0.6154705637174465,
                        "bin_end": 0.6924043841821272,
                        "count": 110
                      },
                      {
                        "bin_start": 0.6924043841821272,
                        "bin_end": 0.7693382046468081,
                        "count": 73
                      }
                    ]
                  }
                },
                {
                  "name": "action rpg",
                  "dtype": "float64",
                  "stats": {
                    "unique_count": 30,
                    "nan_count": 0,
                    "min": 0,
                    "max": 0.9330401378819341,
                    "histogram": [
                      {
                        "bin_start": 0,
                        "bin_end": 0.0933040137881934,
                        "count": 4754
                      },
                      {
                        "bin_start": 0.0933040137881934,
                        "bin_end": 0.1866080275763868,
                        "count": 0
                      },
                      {
                        "bin_start": 0.1866080275763868,
                        "bin_end": 0.2799120413645802,
                        "count": 1
                      },
                      {
                        "bin_start": 0.2799120413645802,
                        "bin_end": 0.3732160551527736,
                        "count": 10
                      },
                      {
                        "bin_start": 0.3732160551527736,
                        "bin_end": 0.46652006894096704,
                        "count": 8
                      },
                      {
                        "bin_start": 0.46652006894096704,
                        "bin_end": 0.5598240827291604,
                        "count": 16
                      },
                      {
                        "bin_start": 0.5598240827291604,
                        "bin_end": 0.6531280965173538,
                        "count": 4
                      },
                      {
                        "bin_start": 0.6531280965173538,
                        "bin_end": 0.7464321103055472,
                        "count": 4
                      },
                      {
                        "bin_start": 0.7464321103055472,
                        "bin_end": 0.8397361240937407,
                        "count": 111
                      },
                      {
                        "bin_start": 0.8397361240937407,
                        "bin_end": 0.9330401378819341,
                        "count": 92
                      }
                    ]
                  }
                },
                {
                  "name": "adventure",
                  "dtype": "float64",
                  "stats": {
                    "unique_count": 92,
                    "nan_count": 0,
                    "min": 0,
                    "max": 0.8279225787229263,
                    "histogram": [
                      {
                        "bin_start": 0,
                        "bin_end": 0.08279225787229264,
                        "count": 4644
                      },
                      {
                        "bin_start": 0.08279225787229264,
                        "bin_end": 0.16558451574458527,
                        "count": 0
                      },
                      {
                        "bin_start": 0.16558451574458527,
                        "bin_end": 0.2483767736168779,
                        "count": 1
                      },
                      {
                        "bin_start": 0.2483767736168779,
                        "bin_end": 0.33116903148917054,
                        "count": 19
                      },
                      {
                        "bin_start": 0.33116903148917054,
                        "bin_end": 0.41396128936146315,
                        "count": 71
                      },
                      {
                        "bin_start": 0.41396128936146315,
                        "bin_end": 0.4967535472337558,
                        "count": 84
                      },
                      {
                        "bin_start": 0.4967535472337558,
                        "bin_end": 0.5795458051060485,
                        "count": 70
                      },
                      {
                        "bin_start": 0.5795458051060485,
                        "bin_end": 0.6623380629783411,
                        "count": 56
                      },
                      {
                        "bin_start": 0.6623380629783411,
                        "bin_end": 0.7451303208506337,
                        "count": 7
                      },
                      {
                        "bin_start": 0.7451303208506337,
                        "bin_end": 0.8279225787229263,
                        "count": 48
                      }
                    ]
                  }
                },
                {
                  "name": "alternative",
                  "dtype": "float64",
                  "stats": {
                    "unique_count": 12,
                    "nan_count": 0,
                    "min": 0,
                    "max": 0.6236845004348199,
                    "histogram": [
                      {
                        "bin_start": 0,
                        "bin_end": 0.062368450043481995,
                        "count": 4924
                      },
                      {
                        "bin_start": 0.062368450043481995,
                        "bin_end": 0.12473690008696399,
                        "count": 0
                      },
                      {
                        "bin_start": 0.12473690008696399,
                        "bin_end": 0.187105350130446,
                        "count": 0
                      },
                      {
                        "bin_start": 0.187105350130446,
                        "bin_end": 0.24947380017392798,
                        "count": 0
                      },
                      {
                        "bin_start": 0.24947380017392798,
                        "bin_end": 0.31184225021740997,
                        "count": 4
                      },
                      {
                        "bin_start": 0.31184225021740997,
                        "bin_end": 0.374210700260892,
                        "count": 14
                      },
                      {
                        "bin_start": 0.374210700260892,
                        "bin_end": 0.43657915030437394,
                        "count": 1
                      },
                      {
                        "bin_start": 0.43657915030437394,
                        "bin_end": 0.49894760034785596,
                        "count": 4
                      },
                      {
                        "bin_start": 0.49894760034785596,
                        "bin_end": 0.5613160503913379,
                        "count": 14
                      },
                      {
                        "bin_start": 0.5613160503913379,
                        "bin_end": 0.6236845004348199,
                        "count": 39
                      }
                    ]
                  }
                },
                {
                  "name": "application",
                  "dtype": "float64",
                  "stats": {
                    "unique_count": 4,
                    "nan_count": 0,
                    "min": 0,
                    "max": 0.8830462641402733,
                    "histogram": [
                      {
                        "bin_start": 0,
                        "bin_end": 0.08830462641402734,
                        "count": 4995
                      },
                      {
                        "bin_start": 0.08830462641402734,
                        "bin_end": 0.17660925282805467,
                        "count": 0
                      },
                      {
                        "bin_start": 0.17660925282805467,
                        "bin_end": 0.264913879242082,
                        "count": 0
                      },
                      {
                        "bin_start": 0.264913879242082,
                        "bin_end": 0.35321850565610935,
                        "count": 0
                      },
                      {
                        "bin_start": 0.35321850565610935,
                        "bin_end": 0.4415231320701367,
                        "count": 0
                      },
                      {
                        "bin_start": 0.4415231320701367,
                        "bin_end": 0.529827758484164,
                        "count": 3
                      },
                      {
                        "bin_start": 0.529827758484164,
                        "bin_end": 0.6181323848981913,
                        "count": 0
                      },
                      {
                        "bin_start": 0.6181323848981913,
                        "bin_end": 0.7064370113122187,
                        "count": 0
                      },
                      {
                        "bin_start": 0.7064370113122187,
                        "bin_end": 0.7947416377262461,
                        "count": 1
                      },
                      {
                        "bin_start": 0.7947416377262461,
                        "bin_end": 0.8830462641402733,
                        "count": 1
                      }
                    ]
                  }
                },
                {
                  "name": "arcade",
                  "dtype": "float64",
                  "stats": {
                    "unique_count": 94,
                    "nan_count": 0,
                    "min": 0,
                    "max": 0.8396376630960967,
                    "histogram": [
                      {
                        "bin_start": 0,
                        "bin_end": 0.08396376630960967,
                        "count": 4457
                      },
                      {
                        "bin_start": 0.08396376630960967,
                        "bin_end": 0.16792753261921933,
                        "count": 0
                      },
                      {
                        "bin_start": 0.16792753261921933,
                        "bin_end": 0.251891298928829,
                        "count": 35
                      },
                      {
                        "bin_start": 0.251891298928829,
                        "bin_end": 0.33585506523843867,
                        "count": 268
                      },
                      {
                        "bin_start": 0.33585506523843867,
                        "bin_end": 0.41981883154804833,
                        "count": 59
                      },
                      {
                        "bin_start": 0.41981883154804833,
                        "bin_end": 0.503782597857658,
                        "count": 57
                      },
                      {
                        "bin_start": 0.503782597857658,
                        "bin_end": 0.5877463641672677,
                        "count": 69
                      },
                      {
                        "bin_start": 0.5877463641672677,
                        "bin_end": 0.6717101304768773,
                        "count": 19
                      },
                      {
                        "bin_start": 0.6717101304768773,
                        "bin_end": 0.755673896786487,
                        "count": 30
                      },
                      {
                        "bin_start": 0.755673896786487,
                        "bin_end": 0.8396376630960967,
                        "count": 6
                      }
                    ]
                  }
                },
                {
                  "name": "artillery",
                  "dtype": "float64",
                  "stats": {
                    "unique_count": 5,
                    "nan_count": 0,
                    "min": 0,
                    "max": 0.8119434486372306,
                    "histogram": [
                      {
                        "bin_start": 0,
                        "bin_end": 0.08119434486372305,
                        "count": 4994
                      },
                      {
                        "bin_start": 0.08119434486372305,
                        "bin_end": 0.1623886897274461,
                        "count": 0
                      },
                      {
                        "bin_start": 0.1623886897274461,
                        "bin_end": 0.24358303459116915,
                        "count": 0
                      },
                      {
                        "bin_start": 0.24358303459116915,
                        "bin_end": 0.3247773794548922,
                        "count": 0
                      },
                      {
                        "bin_start": 0.3247773794548922,
                        "bin_end": 0.4059717243186153,
                        "count": 0
                      },
                      {
                        "bin_start": 0.4059717243186153,
                        "bin_end": 0.4871660691823383,
                        "count": 0
                      },
                      {
                        "bin_start": 0.4871660691823383,
                        "bin_end": 0.5683604140460614,
                        "count": 1
                      },
                      {
                        "bin_start": 0.5683604140460614,
                        "bin_end": 0.6495547589097844,
                        "count": 3
                      },
                      {
                        "bin_start": 0.6495547589097844,
                        "bin_end": 0.7307491037735074,
                        "count": 0
                      },
                      {
                        "bin_start": 0.7307491037735074,
                        "bin_end": 0.8119434486372306,
                        "count": 2
                      }
                    ]
                  }
                },
                {
                  "name": "automobile",
                  "dtype": "float64",
                  "stats": {
                    "unique_count": 26,
                    "nan_count": 0,
                    "min": 0,
                    "max": 0.6591727127472297,
                    "histogram": [
                      {
                        "bin_start": 0,
                        "bin_end": 0.06591727127472297,
                        "count": 4812
                      },
                      {
                        "bin_start": 0.06591727127472297,
                        "bin_end": 0.13183454254944593,
                        "count": 0
                      },
                      {
                        "bin_start": 0.13183454254944593,
                        "bin_end": 0.1977518138241689,
                        "count": 0
                      },
                      {
                        "bin_start": 0.1977518138241689,
                        "bin_end": 0.26366908509889186,
                        "count": 11
                      },
                      {
                        "bin_start": 0.26366908509889186,
                        "bin_end": 0.32958635637361483,
                        "count": 52
                      },
                      {
                        "bin_start": 0.32958635637361483,
                        "bin_end": 0.3955036276483378,
                        "count": 45
                      },
                      {
                        "bin_start": 0.3955036276483378,
                        "bin_end": 0.46142089892306076,
                        "count": 41
                      },
                      {
                        "bin_start": 0.46142089892306076,
                        "bin_end": 0.5273381701977837,
                        "count": 6
                      },
                      {
                        "bin_start": 0.5273381701977837,
                        "bin_end": 0.5932554414725066,
                        "count": 1
                      },
                      {
                        "bin_start": 0.5932554414725066,
                        "bin_end": 0.6591727127472297,
                        "count": 32
                      }
                    ]
                  }
                },
                {
                  "name": "baseball",
                  "dtype": "float64",
                  "stats": {
                    "unique_count": 14,
                    "nan_count": 0,
                    "min": 0,
                    "max": 0.6918186000883151,
                    "histogram": [
                      {
                        "bin_start": 0,
                        "bin_end": 0.0691818600088315,
                        "count": 4929
                      },
                      {
                        "bin_start": 0.0691818600088315,
                        "bin_end": 0.138363720017663,
                        "count": 0
                      },
                      {
                        "bin_start": 0.138363720017663,
                        "bin_end": 0.2075455800264945,
                        "count": 0
                      },
                      {
                        "bin_start": 0.2075455800264945,
                        "bin_end": 0.276727440035326,
                        "count": 0
                      },
                      {
                        "bin_start": 0.276727440035326,
                        "bin_end": 0.34590930004415754,
                        "count": 0
                      },
                      {
                        "bin_start": 0.34590930004415754,
                        "bin_end": 0.415091160052989,
                        "count": 2
                      },
                      {
                        "bin_start": 0.415091160052989,
                        "bin_end": 0.4842730200618205,
                        "count": 0
                      },
                      {
                        "bin_start": 0.4842730200618205,
                        "bin_end": 0.553454880070652,
                        "count": 24
                      },
                      {
                        "bin_start": 0.553454880070652,
                        "bin_end": 0.6226367400794836,
                        "count": 5
                      },
                      {
                        "bin_start": 0.6226367400794836,
                        "bin_end": 0.6918186000883151,
                        "count": 40
                      }
                    ]
                  }
                },
                {
                  "name": "basketball",
                  "dtype": "float64",
                  "stats": {
                    "unique_count": 9,
                    "nan_count": 0,
                    "min": 0,
                    "max": 0.6689169025009021,
                    "histogram": [
                      {
                        "bin_start": 0,
                        "bin_end": 0.0668916902500902,
                        "count": 4902
                      },
                      {
                        "bin_start": 0.0668916902500902,
                        "bin_end": 0.1337833805001804,
                        "count": 0
                      },
                      {
                        "bin_start": 0.1337833805001804,
                        "bin_end": 0.2006750707502706,
                        "count": 0
                      },
                      {
                        "bin_start": 0.2006750707502706,
                        "bin_end": 0.2675667610003608,
                        "count": 0
                      },
                      {
                        "bin_start": 0.2675667610003608,
                        "bin_end": 0.33445845125045104,
                        "count": 0
                      },
                      {
                        "bin_start": 0.33445845125045104,
                        "bin_end": 0.4013501415005412,
                        "count": 0
                      },
                      {
                        "bin_start": 0.4013501415005412,
                        "bin_end": 0.4682418317506314,
                        "count": 0
                      },
                      {
                        "bin_start": 0.4682418317506314,
                        "bin_end": 0.5351335220007216,
                        "count": 38
                      },
                      {
                        "bin_start": 0.5351335220007216,
                        "bin_end": 0.6020252122508118,
                        "count": 5
                      },
                      {
                        "bin_start": 0.6020252122508118,
                        "bin_end": 0.6689169025009021,
                        "count": 55
                      }
                    ]
                  }
                },
                {
                  "name": "beat-'em-up",
                  "dtype": "float64",
                  "stats": {
                    "unique_count": 17,
                    "nan_count": 0,
                    "min": 0,
                    "max": 0.9397984827042936,
                    "histogram": [
                      {
                        "bin_start": 0,
                        "bin_end": 0.09397984827042935,
                        "count": 4946
                      },
                      {
                        "bin_start": 0.09397984827042935,
                        "bin_end": 0.1879596965408587,
                        "count": 0
                      },
                      {
                        "bin_start": 0.1879596965408587,
                        "bin_end": 0.281939544811288,
                        "count": 0
                      },
                      {
                        "bin_start": 0.281939544811288,
                        "bin_end": 0.3759193930817174,
                        "count": 0
                      },
                      {
                        "bin_start": 0.3759193930817174,
                        "bin_end": 0.4698992413521468,
                        "count": 0
                      },
                      {
                        "bin_start": 0.4698992413521468,
                        "bin_end": 0.563879089622576,
                        "count": 4
                      },
                      {
                        "bin_start": 0.563879089622576,
                        "bin_end": 0.6578589378930054,
                        "count": 1
                      },
                      {
                        "bin_start": 0.6578589378930054,
                        "bin_end": 0.7518387861634348,
                        "count": 4
                      },
                      {
                        "bin_start": 0.7518387861634348,
                        "bin_end": 0.8458186344338642,
                        "count": 9
                      },
                      {
                        "bin_start": 0.8458186344338642,
                        "bin_end": 0.9397984827042936,
                        "count": 36
                      }
                    ]
                  }
                },
                {
                  "name": "biking",
                  "dtype": "float64",
                  "stats": {
                    "unique_count": 2,
                    "nan_count": 0,
                    "min": 0,
                    "max": 0.7797104283952516,
                    "histogram": [
                      {
                        "bin_start": 0,
                        "bin_end": 0.07797104283952516,
                        "count": 4993
                      },
                      {
                        "bin_start": 0.07797104283952516,
                        "bin_end": 0.15594208567905032,
                        "count": 0
                      },
                      {
                        "bin_start": 0.15594208567905032,
                        "bin_end": 0.23391312851857549,
                        "count": 0
                      },
                      {
                        "bin_start": 0.23391312851857549,
                        "bin_end": 0.31188417135810065,
                        "count": 0
                      },
                      {
                        "bin_start": 0.31188417135810065,
                        "bin_end": 0.3898552141976258,
                        "count": 0
                      },
                      {
                        "bin_start": 0.3898552141976258,
                        "bin_end": 0.46782625703715097,
                        "count": 0
                      },
                      {
                        "bin_start": 0.46782625703715097,
                        "bin_end": 0.5457972998766761,
                        "count": 0
                      },
                      {
                        "bin_start": 0.5457972998766761,
                        "bin_end": 0.6237683427162013,
                        "count": 0
                      },
                      {
                        "bin_start": 0.6237683427162013,
                        "bin_end": 0.7017393855557265,
                        "count": 0
                      },
                      {
                        "bin_start": 0.7017393855557265,
                        "bin_end": 0.7797104283952516,
                        "count": 7
                      }
                    ]
                  }
                },
                {
                  "name": "billiards",
                  "dtype": "float64",
                  "stats": {
                    "unique_count": 2,
                    "nan_count": 0,
                    "min": 0,
                    "max": 0.8691002355483151,
                    "histogram": [
                      {
                        "bin_start": 0,
                        "bin_end": 0.0869100235548315,
                        "count": 4996
                      },
                      {
                        "bin_start": 0.0869100235548315,
                        "bin_end": 0.173820047109663,
                        "count": 0
                      },
                      {
                        "bin_start": 0.173820047109663,
                        "bin_end": 0.2607300706644945,
                        "count": 0
                      },
                      {
                        "bin_start": 0.2607300706644945,
                        "bin_end": 0.347640094219326,
                        "count": 0
                      },
                      {
                        "bin_start": 0.347640094219326,
                        "bin_end": 0.43455011777415753,
                        "count": 0
                      },
                      {
                        "bin_start": 0.43455011777415753,
                        "bin_end": 0.521460141328989,
                        "count": 0
                      },
                      {
                        "bin_start": 0.521460141328989,
                        "bin_end": 0.6083701648838206,
                        "count": 0
                      },
                      {
                        "bin_start": 0.6083701648838206,
                        "bin_end": 0.695280188438652,
                        "count": 0
                      },
                      {
                        "bin_start": 0.695280188438652,
                        "bin_end": 0.7821902119934835,
                        "count": 0
                      },
                      {
                        "bin_start": 0.7821902119934835,
                        "bin_end": 0.8691002355483151,
                        "count": 4
                      }
                    ]
                  }
                },
                {
                  "name": "board / card game",
                  "dtype": "float64",
                  "stats": {
                    "unique_count": 7,
                    "nan_count": 0,
                    "min": 0,
                    "max": 0.889238891493682,
                    "histogram": [
                      {
                        "bin_start": 0,
                        "bin_end": 0.08892388914936819,
                        "count": 4978
                      },
                      {
                        "bin_start": 0.08892388914936819,
                        "bin_end": 0.17784777829873638,
                        "count": 0
                      },
                      {
                        "bin_start": 0.17784777829873638,
                        "bin_end": 0.26677166744810454,
                        "count": 0
                      },
                      {
                        "bin_start": 0.26677166744810454,
                        "bin_end": 0.35569555659747276,
                        "count": 0
                      },
                      {
                        "bin_start": 0.35569555659747276,
                        "bin_end": 0.444619445746841,
                        "count": 7
                      },
                      {
                        "bin_start": 0.444619445746841,
                        "bin_end": 0.5335433348962091,
                        "count": 1
                      },
                      {
                        "bin_start": 0.5335433348962091,
                        "bin_end": 0.6224672240455773,
                        "count": 0
                      },
                      {
                        "bin_start": 0.6224672240455773,
                        "bin_end": 0.7113911131949455,
                        "count": 2
                      },
                      {
                        "bin_start": 0.7113911131949455,
                        "bin_end": 0.8003150023443137,
                        "count": 4
                      },
                      {
                        "bin_start": 0.8003150023443137,
                        "bin_end": 0.889238891493682,
                        "count": 8
                      }
                    ]
                  }
                },
                {
                  "name": "board games",
                  "dtype": "float64",
                  "stats": {
                    "unique_count": 5,
                    "nan_count": 0,
                    "min": 0,
                    "max": 0.9721519591307661,
                    "histogram": [
                      {
                        "bin_start": 0,
                        "bin_end": 0.09721519591307662,
                        "count": 4986
                      },
                      {
                        "bin_start": 0.09721519591307662,
                        "bin_end": 0.19443039182615324,
                        "count": 0
                      },
                      {
                        "bin_start": 0.19443039182615324,
                        "bin_end": 0.2916455877392299,
                        "count": 0
                      },
                      {
                        "bin_start": 0.2916455877392299,
                        "bin_end": 0.3888607836523065,
                        "count": 0
                      },
                      {
                        "bin_start": 0.3888607836523065,
                        "bin_end": 0.48607597956538307,
                        "count": 0
                      },
                      {
                        "bin_start": 0.48607597956538307,
                        "bin_end": 0.5832911754784598,
                        "count": 0
                      },
                      {
                        "bin_start": 0.5832911754784598,
                        "bin_end": 0.6805063713915364,
                        "count": 0
                      },
                      {
                        "bin_start": 0.6805063713915364,
                        "bin_end": 0.777721567304613,
                        "count": 2
                      },
                      {
                        "bin_start": 0.777721567304613,
                        "bin_end": 0.8749367632176895,
                        "count": 0
                      },
                      {
                        "bin_start": 0.8749367632176895,
                        "bin_end": 0.9721519591307661,
                        "count": 12
                      }
                    ]
                  }
                },
                {
                  "name": "boxing",
                  "dtype": "float64",
                  "stats": {
                    "unique_count": 3,
                    "nan_count": 0,
                    "min": 0,
                    "max": 0.8276280077972811,
                    "histogram": [
                      {
                        "bin_start": 0,
                        "bin_end": 0.08276280077972811,
                        "count": 4981
                      },
                      {
                        "bin_start": 0.08276280077972811,
                        "bin_end": 0.16552560155945623,
                        "count": 0
                      },
                      {
                        "bin_start": 0.16552560155945623,
                        "bin_end": 0.24828840233918434,
                        "count": 0
                      },
                      {
                        "bin_start": 0.24828840233918434,
                        "bin_end": 0.33105120311891245,
                        "count": 0
                      },
                      {
                        "bin_start": 0.33105120311891245,
                        "bin_end": 0.41381400389864054,
                        "count": 0
                      },
                      {
                        "bin_start": 0.41381400389864054,
                        "bin_end": 0.4965768046783687,
                        "count": 0
                      },
                      {
                        "bin_start": 0.4965768046783687,
                        "bin_end": 0.5793396054580968,
                        "count": 0
                      },
                      {
                        "bin_start": 0.5793396054580968,
                        "bin_end": 0.6621024062378249,
                        "count": 0
                      },
                      {
                        "bin_start": 0.6621024062378249,
                        "bin_end": 0.744865207017553,
                        "count": 0
                      },
                      {
                        "bin_start": 0.744865207017553,
                        "bin_end": 0.8276280077972811,
                        "count": 19
                      }
                    ]
                  }
                },
                {
                  "name": "boxing / martial arts",
                  "dtype": "float64"
                },
                {
                  "name": "breeding/constructing",
                  "dtype": "float64"
                },
                {
                  "name": "business / tycoon",
                  "dtype": "float64"
                },
                {
                  "name": "car combat",
                  "dtype": "float64"
                },
                {
                  "name": "card battle",
                  "dtype": "float64"
                },
                {
                  "name": "career",
                  "dtype": "float64"
                },
                {
                  "name": "city building",
                  "dtype": "float64"
                },
                {
                  "name": "civilian",
                  "dtype": "float64"
                },
                {
                  "name": "civilian plane",
                  "dtype": "float64"
                },
                {
                  "name": "combat",
                  "dtype": "float64"
                },
                {
                  "name": "command",
                  "dtype": "float64"
                },
                {
                  "name": "compilation",
                  "dtype": "float64"
                },
                {
                  "name": "console-style rpg",
                  "dtype": "float64"
                },
                {
                  "name": "dancing",
                  "dtype": "float64"
                },
                {
                  "name": "defense",
                  "dtype": "float64"
                },
                {
                  "name": "demolition derby",
                  "dtype": "float64"
                },
                {
                  "name": "driving",
                  "dtype": "float64"
                },
                {
                  "name": "edutainment",
                  "dtype": "float64"
                },
                {
                  "name": "exercise / fitness",
                  "dtype": "float64"
                },
                {
                  "name": "fantasy",
                  "dtype": "float64"
                },
                {
                  "name": "fighting",
                  "dtype": "float64"
                },
                {
                  "name": "first-person",
                  "dtype": "float64"
                },
                {
                  "name": "fishing",
                  "dtype": "float64"
                },
                {
                  "name": "flight",
                  "dtype": "float64"
                },
                {
                  "name": "football",
                  "dtype": "float64"
                },
                {
                  "name": "formula one",
                  "dtype": "float64"
                },
                {
                  "name": "futuristic",
                  "dtype": "float64"
                },
                {
                  "name": "futuristic jet",
                  "dtype": "float64"
                },
                {
                  "name": "gambling",
                  "dtype": "float64"
                },
                {
                  "name": "general",
                  "dtype": "float64"
                },
                {
                  "name": "golf",
                  "dtype": "float64"
                },
                {
                  "name": "government",
                  "dtype": "float64"
                },
                {
                  "name": "gt / street",
                  "dtype": "float64"
                },
                {
                  "name": "helicopter",
                  "dtype": "float64"
                },
                {
                  "name": "historic",
                  "dtype": "float64"
                },
                {
                  "name": "horizontal",
                  "dtype": "float64"
                },
                {
                  "name": "horror",
                  "dtype": "float64"
                },
                {
                  "name": "ice hockey",
                  "dtype": "float64"
                },
                {
                  "name": "individual",
                  "dtype": "float64"
                },
                {
                  "name": "japanese-style",
                  "dtype": "float64"
                },
                {
                  "name": "kart",
                  "dtype": "float64"
                },
                {
                  "name": "large spaceship",
                  "dtype": "float64"
                },
                {
                  "name": "light gun",
                  "dtype": "float64"
                },
                {
                  "name": "linear",
                  "dtype": "float64"
                },
                {
                  "name": "logic",
                  "dtype": "float64"
                },
                {
                  "name": "management",
                  "dtype": "float64"
                },
                {
                  "name": "marine",
                  "dtype": "float64"
                },
                {
                  "name": "massively multiplayer",
                  "dtype": "float64"
                },
                {
                  "name": "massively multiplayer online",
                  "dtype": "float64"
                },
                {
                  "name": "matching",
                  "dtype": "float64"
                },
                {
                  "name": "mech",
                  "dtype": "float64"
                },
                {
                  "name": "military",
                  "dtype": "float64"
                },
                {
                  "name": "miscellaneous",
                  "dtype": "float64"
                },
                {
                  "name": "mission-based",
                  "dtype": "float64"
                },
                {
                  "name": "moba",
                  "dtype": "float64"
                },
                {
                  "name": "modern",
                  "dtype": "float64"
                },
                {
                  "name": "modern jet",
                  "dtype": "float64"
                },
                {
                  "name": "motocross",
                  "dtype": "float64"
                },
                {
                  "name": "motorcycle",
                  "dtype": "float64"
                },
                {
                  "name": "music",
                  "dtype": "float64"
                },
                {
                  "name": "music maker",
                  "dtype": "float64"
                },
                {
                  "name": "nature",
                  "dtype": "float64"
                },
                {
                  "name": "no genre",
                  "dtype": "float64"
                },
                {
                  "name": "open-world",
                  "dtype": "float64"
                },
                {
                  "name": "other",
                  "dtype": "float64"
                },
                {
                  "name": "parlor",
                  "dtype": "float64"
                },
                {
                  "name": "party",
                  "dtype": "float64"
                },
                {
                  "name": "party / minigame",
                  "dtype": "float64"
                },
                {
                  "name": "pc-style rpg",
                  "dtype": "float64"
                },
                {
                  "name": "pet",
                  "dtype": "float64"
                },
                {
                  "name": "pinball",
                  "dtype": "float64"
                },
                {
                  "name": "platformer",
                  "dtype": "float64"
                },
                {
                  "name": "point-and-click",
                  "dtype": "float64"
                },
                {
                  "name": "puzzle",
                  "dtype": "float64"
                },
                {
                  "name": "racing",
                  "dtype": "float64"
                },
                {
                  "name": "rail",
                  "dtype": "float64"
                },
                {
                  "name": "rally / offroad",
                  "dtype": "float64"
                },
                {
                  "name": "real-time",
                  "dtype": "float64"
                },
                {
                  "name": "rhythm",
                  "dtype": "float64"
                },
                {
                  "name": "roguelike",
                  "dtype": "float64"
                },
                {
                  "name": "role-playing",
                  "dtype": "float64"
                },
                {
                  "name": "sandbox",
                  "dtype": "float64"
                },
                {
                  "name": "sci-fi",
                  "dtype": "float64"
                },
                {
                  "name": "scrolling",
                  "dtype": "float64"
                },
                {
                  "name": "shoot-'em-up",
                  "dtype": "float64"
                },
                {
                  "name": "shooter",
                  "dtype": "float64"
                },
                {
                  "name": "sim",
                  "dtype": "float64"
                },
                {
                  "name": "simulation",
                  "dtype": "float64"
                },
                {
                  "name": "skate / skateboard",
                  "dtype": "float64"
                },
                {
                  "name": "skateboarding",
                  "dtype": "float64"
                },
                {
                  "name": "skating",
                  "dtype": "float64"
                },
                {
                  "name": "ski / snowboard",
                  "dtype": "float64"
                },
                {
                  "name": "small spaceship",
                  "dtype": "float64"
                },
                {
                  "name": "snow / water",
                  "dtype": "float64"
                },
                {
                  "name": "snowboarding",
                  "dtype": "float64"
                },
                {
                  "name": "soccer",
                  "dtype": "float64"
                },
                {
                  "name": "space",
                  "dtype": "float64"
                },
                {
                  "name": "sports",
                  "dtype": "float64"
                },
                {
                  "name": "stacking",
                  "dtype": "float64"
                },
                {
                  "name": "static",
                  "dtype": "float64"
                },
                {
                  "name": "stock car",
                  "dtype": "float64"
                },
                {
                  "name": "strategy",
                  "dtype": "float64"
                },
                {
                  "name": "street",
                  "dtype": "float64"
                },
                {
                  "name": "submarine",
                  "dtype": "float64"
                },
                {
                  "name": "surfing",
                  "dtype": "float64"
                },
                {
                  "name": "survival",
                  "dtype": "float64"
                },
                {
                  "name": "tactical",
                  "dtype": "float64"
                },
                {
                  "name": "tactics",
                  "dtype": "float64"
                },
                {
                  "name": "tank",
                  "dtype": "float64"
                },
                {
                  "name": "team",
                  "dtype": "float64"
                },
                {
                  "name": "tennis",
                  "dtype": "float64"
                },
                {
                  "name": "text",
                  "dtype": "float64"
                },
                {
                  "name": "third-person",
                  "dtype": "float64"
                },
                {
                  "name": "top-down",
                  "dtype": "float64"
                },
                {
                  "name": "traditional",
                  "dtype": "float64"
                },
                {
                  "name": "train",
                  "dtype": "float64"
                },
                {
                  "name": "trainer",
                  "dtype": "float64"
                },
                {
                  "name": "trivia / game show",
                  "dtype": "float64"
                },
                {
                  "name": "turn-based",
                  "dtype": "float64"
                },
                {
                  "name": "tycoon",
                  "dtype": "float64"
                },
                {
                  "name": "vehicle",
                  "dtype": "float64"
                },
                {
                  "name": "vertical",
                  "dtype": "float64"
                },
                {
                  "name": "virtual",
                  "dtype": "float64"
                },
                {
                  "name": "virtual life",
                  "dtype": "float64"
                },
                {
                  "name": "visual novel",
                  "dtype": "float64"
                },
                {
                  "name": "wakeboarding",
                  "dtype": "float64"
                },
                {
                  "name": "wargame",
                  "dtype": "float64"
                },
                {
                  "name": "western-style",
                  "dtype": "float64"
                },
                {
                  "name": "wrestling",
                  "dtype": "float64"
                },
                {
                  "name": "wwii",
                  "dtype": "float64"
                },
                {
                  "name": "_deepnote_index_column",
                  "dtype": "object"
                }
              ],
              "rows_top": [
                {
                  "2d": 0,
                  "3d": 0,
                  "4x": 0,
                  "action": 0,
                  "action adventure": 0.6338653659930622,
                  "action rpg": 0,
                  "adventure": 0,
                  "alternative": 0,
                  "application": 0,
                  "arcade": 0,
                  "artillery": 0,
                  "automobile": 0,
                  "baseball": 0,
                  "basketball": 0,
                  "beat-'em-up": 0,
                  "biking": 0,
                  "billiards": 0,
                  "board / card game": 0,
                  "board games": 0,
                  "boxing": 0,
                  "boxing / martial arts": 0,
                  "breeding/constructing": 0,
                  "business / tycoon": 0,
                  "car combat": 0,
                  "card battle": 0,
                  "career": 0,
                  "city building": 0,
                  "civilian": 0,
                  "civilian plane": 0,
                  "combat": 0,
                  "command": 0,
                  "compilation": 0,
                  "console-style rpg": 0,
                  "dancing": 0,
                  "defense": 0,
                  "demolition derby": 0,
                  "driving": 0,
                  "edutainment": 0,
                  "exercise / fitness": 0,
                  "fantasy": 0.7734434030971377,
                  "fighting": 0,
                  "first-person": 0,
                  "fishing": 0,
                  "flight": 0,
                  "football": 0,
                  "formula one": 0,
                  "futuristic": 0,
                  "futuristic jet": 0,
                  "gambling": 0,
                  "general": 0,
                  "golf": 0,
                  "government": 0,
                  "gt / street": 0,
                  "helicopter": 0,
                  "historic": 0,
                  "horizontal": 0,
                  "horror": 0,
                  "ice hockey": 0,
                  "individual": 0,
                  "japanese-style": 0,
                  "kart": 0,
                  "large spaceship": 0,
                  "light gun": 0,
                  "linear": 0,
                  "logic": 0,
                  "management": 0,
                  "marine": 0,
                  "massively multiplayer": 0,
                  "massively multiplayer online": 0,
                  "matching": 0,
                  "mech": 0,
                  "military": 0,
                  "miscellaneous": 0,
                  "mission-based": 0,
                  "moba": 0,
                  "modern": 0,
                  "modern jet": 0,
                  "motocross": 0,
                  "motorcycle": 0,
                  "music": 0,
                  "music maker": 0,
                  "nature": 0,
                  "no genre": 0,
                  "open-world": 0,
                  "other": 0,
                  "parlor": 0,
                  "party": 0,
                  "party / minigame": 0,
                  "pc-style rpg": 0,
                  "pet": 0,
                  "pinball": 0,
                  "platformer": 0,
                  "point-and-click": 0,
                  "puzzle": 0,
                  "racing": 0,
                  "rail": 0,
                  "rally / offroad": 0,
                  "real-time": 0,
                  "rhythm": 0,
                  "roguelike": 0,
                  "role-playing": 0,
                  "sandbox": 0,
                  "sci-fi": 0,
                  "scrolling": 0,
                  "shoot-'em-up": 0,
                  "shooter": 0,
                  "sim": 0,
                  "simulation": 0,
                  "skate / skateboard": 0,
                  "skateboarding": 0,
                  "skating": 0,
                  "ski / snowboard": 0,
                  "small spaceship": 0,
                  "snow / water": 0,
                  "snowboarding": 0,
                  "soccer": 0,
                  "space": 0,
                  "sports": 0,
                  "stacking": 0,
                  "static": 0,
                  "stock car": 0,
                  "strategy": 0,
                  "street": 0,
                  "submarine": 0,
                  "surfing": 0,
                  "survival": 0,
                  "tactical": 0,
                  "tactics": 0,
                  "tank": 0,
                  "team": 0,
                  "tennis": 0,
                  "text": 0,
                  "third-person": 0,
                  "top-down": 0,
                  "traditional": 0,
                  "train": 0,
                  "trainer": 0,
                  "trivia / game show": 0,
                  "turn-based": 0,
                  "tycoon": 0,
                  "vehicle": 0,
                  "vertical": 0,
                  "virtual": 0,
                  "virtual life": 0,
                  "visual novel": 0,
                  "wakeboarding": 0,
                  "wargame": 0,
                  "western-style": 0,
                  "wrestling": 0,
                  "wwii": 0,
                  "_deepnote_index_column": "The Legend of Zelda: Ocarina of Time"
                },
                {
                  "2d": 0,
                  "3d": 0,
                  "4x": 0,
                  "action": 0,
                  "action adventure": 0,
                  "action rpg": 0,
                  "adventure": 0,
                  "alternative": 0.6236845004348199,
                  "application": 0,
                  "arcade": 0,
                  "artillery": 0,
                  "automobile": 0,
                  "baseball": 0,
                  "basketball": 0,
                  "beat-'em-up": 0,
                  "biking": 0,
                  "billiards": 0,
                  "board / card game": 0,
                  "board games": 0,
                  "boxing": 0,
                  "boxing / martial arts": 0,
                  "breeding/constructing": 0,
                  "business / tycoon": 0,
                  "car combat": 0,
                  "card battle": 0,
                  "career": 0,
                  "city building": 0,
                  "civilian": 0,
                  "civilian plane": 0,
                  "combat": 0,
                  "command": 0,
                  "compilation": 0,
                  "console-style rpg": 0,
                  "dancing": 0,
                  "defense": 0,
                  "demolition derby": 0,
                  "driving": 0,
                  "edutainment": 0,
                  "exercise / fitness": 0,
                  "fantasy": 0,
                  "fighting": 0,
                  "first-person": 0,
                  "fishing": 0,
                  "flight": 0,
                  "football": 0,
                  "formula one": 0,
                  "futuristic": 0,
                  "futuristic jet": 0,
                  "gambling": 0,
                  "general": 0,
                  "golf": 0,
                  "government": 0,
                  "gt / street": 0,
                  "helicopter": 0,
                  "historic": 0,
                  "horizontal": 0,
                  "horror": 0,
                  "ice hockey": 0,
                  "individual": 0,
                  "japanese-style": 0,
                  "kart": 0,
                  "large spaceship": 0,
                  "light gun": 0,
                  "linear": 0,
                  "logic": 0,
                  "management": 0,
                  "marine": 0,
                  "massively multiplayer": 0,
                  "massively multiplayer online": 0,
                  "matching": 0,
                  "mech": 0,
                  "military": 0,
                  "miscellaneous": 0,
                  "mission-based": 0,
                  "moba": 0,
                  "modern": 0,
                  "modern jet": 0,
                  "motocross": 0,
                  "motorcycle": 0,
                  "music": 0,
                  "music maker": 0,
                  "nature": 0,
                  "no genre": 0,
                  "open-world": 0,
                  "other": 0,
                  "parlor": 0,
                  "party": 0,
                  "party / minigame": 0,
                  "pc-style rpg": 0,
                  "pet": 0,
                  "pinball": 0,
                  "platformer": 0,
                  "point-and-click": 0,
                  "puzzle": 0,
                  "racing": 0,
                  "rail": 0,
                  "rally / offroad": 0,
                  "real-time": 0,
                  "rhythm": 0,
                  "roguelike": 0,
                  "role-playing": 0,
                  "sandbox": 0,
                  "sci-fi": 0,
                  "scrolling": 0,
                  "shoot-'em-up": 0,
                  "shooter": 0,
                  "sim": 0,
                  "simulation": 0,
                  "skate / skateboard": 0,
                  "skateboarding": 0.6939185269773651,
                  "skating": 0,
                  "ski / snowboard": 0,
                  "small spaceship": 0,
                  "snow / water": 0,
                  "snowboarding": 0,
                  "soccer": 0,
                  "space": 0,
                  "sports": 0.35985375061951613,
                  "stacking": 0,
                  "static": 0,
                  "stock car": 0,
                  "strategy": 0,
                  "street": 0,
                  "submarine": 0,
                  "surfing": 0,
                  "survival": 0,
                  "tactical": 0,
                  "tactics": 0,
                  "tank": 0,
                  "team": 0,
                  "tennis": 0,
                  "text": 0,
                  "third-person": 0,
                  "top-down": 0,
                  "traditional": 0,
                  "train": 0,
                  "trainer": 0,
                  "trivia / game show": 0,
                  "turn-based": 0,
                  "tycoon": 0,
                  "vehicle": 0,
                  "vertical": 0,
                  "virtual": 0,
                  "virtual life": 0,
                  "visual novel": 0,
                  "wakeboarding": 0,
                  "wargame": 0,
                  "western-style": 0,
                  "wrestling": 0,
                  "wwii": 0,
                  "_deepnote_index_column": "Tony Hawk's Pro Skater 2"
                },
                {
                  "2d": 0,
                  "3d": 0,
                  "4x": 0,
                  "action": 0,
                  "action adventure": 0.32970814642296853,
                  "action rpg": 0,
                  "adventure": 0,
                  "alternative": 0,
                  "application": 0,
                  "arcade": 0,
                  "artillery": 0,
                  "automobile": 0,
                  "baseball": 0,
                  "basketball": 0,
                  "beat-'em-up": 0,
                  "biking": 0,
                  "billiards": 0,
                  "board / card game": 0,
                  "board games": 0,
                  "boxing": 0,
                  "boxing / martial arts": 0,
                  "breeding/constructing": 0,
                  "business / tycoon": 0,
                  "car combat": 0,
                  "card battle": 0,
                  "career": 0,
                  "city building": 0,
                  "civilian": 0,
                  "civilian plane": 0,
                  "combat": 0,
                  "command": 0,
                  "compilation": 0,
                  "console-style rpg": 0,
                  "dancing": 0,
                  "defense": 0,
                  "demolition derby": 0,
                  "driving": 0,
                  "edutainment": 0,
                  "exercise / fitness": 0,
                  "fantasy": 0,
                  "fighting": 0,
                  "first-person": 0,
                  "fishing": 0,
                  "flight": 0,
                  "football": 0,
                  "formula one": 0,
                  "futuristic": 0,
                  "futuristic jet": 0,
                  "gambling": 0,
                  "general": 0,
                  "golf": 0,
                  "government": 0,
                  "gt / street": 0,
                  "helicopter": 0,
                  "historic": 0,
                  "horizontal": 0,
                  "horror": 0,
                  "ice hockey": 0,
                  "individual": 0,
                  "japanese-style": 0,
                  "kart": 0,
                  "large spaceship": 0,
                  "light gun": 0,
                  "linear": 0,
                  "logic": 0,
                  "management": 0,
                  "marine": 0,
                  "massively multiplayer": 0,
                  "massively multiplayer online": 0,
                  "matching": 0,
                  "mech": 0,
                  "military": 0,
                  "miscellaneous": 0,
                  "mission-based": 0,
                  "moba": 0,
                  "modern": 0.8027927891046251,
                  "modern jet": 0,
                  "motocross": 0,
                  "motorcycle": 0,
                  "music": 0,
                  "music maker": 0,
                  "nature": 0,
                  "no genre": 0,
                  "open-world": 0.4968060747856727,
                  "other": 0,
                  "parlor": 0,
                  "party": 0,
                  "party / minigame": 0,
                  "pc-style rpg": 0,
                  "pet": 0,
                  "pinball": 0,
                  "platformer": 0,
                  "point-and-click": 0,
                  "puzzle": 0,
                  "racing": 0,
                  "rail": 0,
                  "rally / offroad": 0,
                  "real-time": 0,
                  "rhythm": 0,
                  "roguelike": 0,
                  "role-playing": 0,
                  "sandbox": 0,
                  "sci-fi": 0,
                  "scrolling": 0,
                  "shoot-'em-up": 0,
                  "shooter": 0,
                  "sim": 0,
                  "simulation": 0,
                  "skate / skateboard": 0,
                  "skateboarding": 0,
                  "skating": 0,
                  "ski / snowboard": 0,
                  "small spaceship": 0,
                  "snow / water": 0,
                  "snowboarding": 0,
                  "soccer": 0,
                  "space": 0,
                  "sports": 0,
                  "stacking": 0,
                  "static": 0,
                  "stock car": 0,
                  "strategy": 0,
                  "street": 0,
                  "submarine": 0,
                  "surfing": 0,
                  "survival": 0,
                  "tactical": 0,
                  "tactics": 0,
                  "tank": 0,
                  "team": 0,
                  "tennis": 0,
                  "text": 0,
                  "third-person": 0,
                  "top-down": 0,
                  "traditional": 0,
                  "train": 0,
                  "trainer": 0,
                  "trivia / game show": 0,
                  "turn-based": 0,
                  "tycoon": 0,
                  "vehicle": 0,
                  "vertical": 0,
                  "virtual": 0,
                  "virtual life": 0,
                  "visual novel": 0,
                  "wakeboarding": 0,
                  "wargame": 0,
                  "western-style": 0,
                  "wrestling": 0,
                  "wwii": 0,
                  "_deepnote_index_column": "Grand Theft Auto IV"
                }
              ],
              "rows_bottom": [
                {
                  "2d": 0,
                  "3d": 0,
                  "4x": 0,
                  "action": 0,
                  "action adventure": 0.36670474459284286,
                  "action rpg": 0,
                  "adventure": 0,
                  "alternative": 0,
                  "application": 0,
                  "arcade": 0,
                  "artillery": 0,
                  "automobile": 0,
                  "baseball": 0,
                  "basketball": 0,
                  "beat-'em-up": 0,
                  "biking": 0,
                  "billiards": 0,
                  "board / card game": 0,
                  "board games": 0,
                  "boxing": 0,
                  "boxing / martial arts": 0,
                  "breeding/constructing": 0,
                  "business / tycoon": 0,
                  "car combat": 0,
                  "card battle": 0,
                  "career": 0,
                  "city building": 0,
                  "civilian": 0,
                  "civilian plane": 0,
                  "combat": 0,
                  "command": 0,
                  "compilation": 0,
                  "console-style rpg": 0,
                  "dancing": 0,
                  "defense": 0,
                  "demolition derby": 0,
                  "driving": 0,
                  "edutainment": 0,
                  "exercise / fitness": 0,
                  "fantasy": 0,
                  "fighting": 0,
                  "first-person": 0,
                  "fishing": 0,
                  "flight": 0,
                  "football": 0,
                  "formula one": 0,
                  "futuristic": 0,
                  "futuristic jet": 0,
                  "gambling": 0,
                  "general": 0.30450364178287576,
                  "golf": 0,
                  "government": 0,
                  "gt / street": 0,
                  "helicopter": 0,
                  "historic": 0,
                  "horizontal": 0,
                  "horror": 0,
                  "ice hockey": 0,
                  "individual": 0,
                  "japanese-style": 0,
                  "kart": 0,
                  "large spaceship": 0,
                  "light gun": 0,
                  "linear": 0,
                  "logic": 0,
                  "management": 0,
                  "marine": 0,
                  "massively multiplayer": 0,
                  "massively multiplayer online": 0,
                  "matching": 0,
                  "mech": 0,
                  "military": 0,
                  "miscellaneous": 0,
                  "mission-based": 0,
                  "moba": 0,
                  "modern": 0,
                  "modern jet": 0,
                  "motocross": 0,
                  "motorcycle": 0,
                  "music": 0,
                  "music maker": 0,
                  "nature": 0,
                  "no genre": 0,
                  "open-world": 0,
                  "other": 0,
                  "parlor": 0,
                  "party": 0,
                  "party / minigame": 0,
                  "pc-style rpg": 0,
                  "pet": 0,
                  "pinball": 0,
                  "platformer": 0,
                  "point-and-click": 0,
                  "puzzle": 0,
                  "racing": 0,
                  "rail": 0,
                  "rally / offroad": 0,
                  "real-time": 0,
                  "rhythm": 0,
                  "roguelike": 0,
                  "role-playing": 0,
                  "sandbox": 0,
                  "sci-fi": 0.8790933752645758,
                  "scrolling": 0,
                  "shoot-'em-up": 0,
                  "shooter": 0,
                  "sim": 0,
                  "simulation": 0,
                  "skate / skateboard": 0,
                  "skateboarding": 0,
                  "skating": 0,
                  "ski / snowboard": 0,
                  "small spaceship": 0,
                  "snow / water": 0,
                  "snowboarding": 0,
                  "soccer": 0,
                  "space": 0,
                  "sports": 0,
                  "stacking": 0,
                  "static": 0,
                  "stock car": 0,
                  "strategy": 0,
                  "street": 0,
                  "submarine": 0,
                  "surfing": 0,
                  "survival": 0,
                  "tactical": 0,
                  "tactics": 0,
                  "tank": 0,
                  "team": 0,
                  "tennis": 0,
                  "text": 0,
                  "third-person": 0,
                  "top-down": 0,
                  "traditional": 0,
                  "train": 0,
                  "trainer": 0,
                  "trivia / game show": 0,
                  "turn-based": 0,
                  "tycoon": 0,
                  "vehicle": 0,
                  "vertical": 0,
                  "virtual": 0,
                  "virtual life": 0,
                  "visual novel": 0,
                  "wakeboarding": 0,
                  "wargame": 0,
                  "western-style": 0,
                  "wrestling": 0,
                  "wwii": 0,
                  "_deepnote_index_column": "The Last Guy"
                },
                {
                  "2d": 0.6868663176592932,
                  "3d": 0,
                  "4x": 0,
                  "action": 0.20883449595275516,
                  "action adventure": 0,
                  "action rpg": 0,
                  "adventure": 0,
                  "alternative": 0,
                  "application": 0,
                  "arcade": 0,
                  "artillery": 0,
                  "automobile": 0,
                  "baseball": 0,
                  "basketball": 0,
                  "beat-'em-up": 0,
                  "biking": 0,
                  "billiards": 0,
                  "board / card game": 0,
                  "board games": 0,
                  "boxing": 0,
                  "boxing / martial arts": 0,
                  "breeding/constructing": 0,
                  "business / tycoon": 0,
                  "car combat": 0,
                  "card battle": 0,
                  "career": 0,
                  "city building": 0,
                  "civilian": 0,
                  "civilian plane": 0,
                  "combat": 0,
                  "command": 0,
                  "compilation": 0,
                  "console-style rpg": 0,
                  "dancing": 0,
                  "defense": 0,
                  "demolition derby": 0,
                  "driving": 0,
                  "edutainment": 0,
                  "exercise / fitness": 0,
                  "fantasy": 0,
                  "fighting": 0,
                  "first-person": 0,
                  "fishing": 0,
                  "flight": 0,
                  "football": 0,
                  "formula one": 0,
                  "futuristic": 0,
                  "futuristic jet": 0,
                  "gambling": 0,
                  "general": 0,
                  "golf": 0,
                  "government": 0,
                  "gt / street": 0,
                  "helicopter": 0,
                  "historic": 0,
                  "horizontal": 0,
                  "horror": 0,
                  "ice hockey": 0,
                  "individual": 0,
                  "japanese-style": 0,
                  "kart": 0,
                  "large spaceship": 0,
                  "light gun": 0,
                  "linear": 0,
                  "logic": 0,
                  "management": 0,
                  "marine": 0,
                  "massively multiplayer": 0,
                  "massively multiplayer online": 0,
                  "matching": 0,
                  "mech": 0,
                  "military": 0,
                  "miscellaneous": 0,
                  "mission-based": 0,
                  "moba": 0,
                  "modern": 0,
                  "modern jet": 0,
                  "motocross": 0,
                  "motorcycle": 0,
                  "music": 0,
                  "music maker": 0,
                  "nature": 0,
                  "no genre": 0,
                  "open-world": 0,
                  "other": 0,
                  "parlor": 0,
                  "party": 0,
                  "party / minigame": 0,
                  "pc-style rpg": 0,
                  "pet": 0,
                  "pinball": 0,
                  "platformer": 0.6961341932165965,
                  "point-and-click": 0,
                  "puzzle": 0,
                  "racing": 0,
                  "rail": 0,
                  "rally / offroad": 0,
                  "real-time": 0,
                  "rhythm": 0,
                  "roguelike": 0,
                  "role-playing": 0,
                  "sandbox": 0,
                  "sci-fi": 0,
                  "scrolling": 0,
                  "shoot-'em-up": 0,
                  "shooter": 0,
                  "sim": 0,
                  "simulation": 0,
                  "skate / skateboard": 0,
                  "skateboarding": 0,
                  "skating": 0,
                  "ski / snowboard": 0,
                  "small spaceship": 0,
                  "snow / water": 0,
                  "snowboarding": 0,
                  "soccer": 0,
                  "space": 0,
                  "sports": 0,
                  "stacking": 0,
                  "static": 0,
                  "stock car": 0,
                  "strategy": 0,
                  "street": 0,
                  "submarine": 0,
                  "surfing": 0,
                  "survival": 0,
                  "tactical": 0,
                  "tactics": 0,
                  "tank": 0,
                  "team": 0,
                  "tennis": 0,
                  "text": 0,
                  "third-person": 0,
                  "top-down": 0,
                  "traditional": 0,
                  "train": 0,
                  "trainer": 0,
                  "trivia / game show": 0,
                  "turn-based": 0,
                  "tycoon": 0,
                  "vehicle": 0,
                  "vertical": 0,
                  "virtual": 0,
                  "virtual life": 0,
                  "visual novel": 0,
                  "wakeboarding": 0,
                  "wargame": 0,
                  "western-style": 0,
                  "wrestling": 0,
                  "wwii": 0,
                  "_deepnote_index_column": "Valiant Hearts: The Great War"
                },
                {
                  "2d": 0,
                  "3d": 0,
                  "4x": 0,
                  "action": 0.6451709891203147,
                  "action adventure": 0,
                  "action rpg": 0,
                  "adventure": 0,
                  "alternative": 0,
                  "application": 0,
                  "arcade": 0,
                  "artillery": 0,
                  "automobile": 0,
                  "baseball": 0,
                  "basketball": 0,
                  "beat-'em-up": 0,
                  "biking": 0,
                  "billiards": 0,
                  "board / card game": 0,
                  "board games": 0,
                  "boxing": 0,
                  "boxing / martial arts": 0,
                  "breeding/constructing": 0,
                  "business / tycoon": 0,
                  "car combat": 0,
                  "card battle": 0,
                  "career": 0,
                  "city building": 0,
                  "civilian": 0,
                  "civilian plane": 0,
                  "combat": 0,
                  "command": 0,
                  "compilation": 0,
                  "console-style rpg": 0,
                  "dancing": 0,
                  "defense": 0,
                  "demolition derby": 0,
                  "driving": 0,
                  "edutainment": 0,
                  "exercise / fitness": 0,
                  "fantasy": 0,
                  "fighting": 0,
                  "first-person": 0,
                  "fishing": 0,
                  "flight": 0,
                  "football": 0,
                  "formula one": 0,
                  "futuristic": 0,
                  "futuristic jet": 0,
                  "gambling": 0,
                  "general": 0.7640382155347434,
                  "golf": 0,
                  "government": 0,
                  "gt / street": 0,
                  "helicopter": 0,
                  "historic": 0,
                  "horizontal": 0,
                  "horror": 0,
                  "ice hockey": 0,
                  "individual": 0,
                  "japanese-style": 0,
                  "kart": 0,
                  "large spaceship": 0,
                  "light gun": 0,
                  "linear": 0,
                  "logic": 0,
                  "management": 0,
                  "marine": 0,
                  "massively multiplayer": 0,
                  "massively multiplayer online": 0,
                  "matching": 0,
                  "mech": 0,
                  "military": 0,
                  "miscellaneous": 0,
                  "mission-based": 0,
                  "moba": 0,
                  "modern": 0,
                  "modern jet": 0,
                  "motocross": 0,
                  "motorcycle": 0,
                  "music": 0,
                  "music maker": 0,
                  "nature": 0,
                  "no genre": 0,
                  "open-world": 0,
                  "other": 0,
                  "parlor": 0,
                  "party": 0,
                  "party / minigame": 0,
                  "pc-style rpg": 0,
                  "pet": 0,
                  "pinball": 0,
                  "platformer": 0,
                  "point-and-click": 0,
                  "puzzle": 0,
                  "racing": 0,
                  "rail": 0,
                  "rally / offroad": 0,
                  "real-time": 0,
                  "rhythm": 0,
                  "roguelike": 0,
                  "role-playing": 0,
                  "sandbox": 0,
                  "sci-fi": 0,
                  "scrolling": 0,
                  "shoot-'em-up": 0,
                  "shooter": 0,
                  "sim": 0,
                  "simulation": 0,
                  "skate / skateboard": 0,
                  "skateboarding": 0,
                  "skating": 0,
                  "ski / snowboard": 0,
                  "small spaceship": 0,
                  "snow / water": 0,
                  "snowboarding": 0,
                  "soccer": 0,
                  "space": 0,
                  "sports": 0,
                  "stacking": 0,
                  "static": 0,
                  "stock car": 0,
                  "strategy": 0,
                  "street": 0,
                  "submarine": 0,
                  "surfing": 0,
                  "survival": 0,
                  "tactical": 0,
                  "tactics": 0,
                  "tank": 0,
                  "team": 0,
                  "tennis": 0,
                  "text": 0,
                  "third-person": 0,
                  "top-down": 0,
                  "traditional": 0,
                  "train": 0,
                  "trainer": 0,
                  "trivia / game show": 0,
                  "turn-based": 0,
                  "tycoon": 0,
                  "vehicle": 0,
                  "vertical": 0,
                  "virtual": 0,
                  "virtual life": 0,
                  "visual novel": 0,
                  "wakeboarding": 0,
                  "wargame": 0,
                  "western-style": 0,
                  "wrestling": 0,
                  "wwii": 0,
                  "_deepnote_index_column": "Mothergunship"
                }
              ]
            },
            "text/plain": "                                            2d        3d   4x    action  \\\nTitle                                                                     \nThe Legend of Zelda: Ocarina of Time  0.000000  0.000000  0.0  0.000000   \nTony Hawk's Pro Skater 2              0.000000  0.000000  0.0  0.000000   \nGrand Theft Auto IV                   0.000000  0.000000  0.0  0.000000   \nSoulCalibur                           0.000000  0.629232  0.0  0.342612   \nGrand Theft Auto IV                   0.000000  0.000000  0.0  0.000000   \n...                                        ...       ...  ...       ...   \nDonut County                          0.000000  0.000000  0.0  0.000000   \nMotorStorm: Apocalypse                0.000000  0.000000  0.0  0.000000   \nThe Last Guy                          0.000000  0.000000  0.0  0.000000   \nValiant Hearts: The Great War         0.686866  0.000000  0.0  0.208834   \nMothergunship                         0.000000  0.000000  0.0  0.645171   \n\n                                      action adventure  action rpg  adventure  \\\nTitle                                                                           \nThe Legend of Zelda: Ocarina of Time          0.633865         0.0        0.0   \nTony Hawk's Pro Skater 2                      0.000000         0.0        0.0   \nGrand Theft Auto IV                           0.329708         0.0        0.0   \nSoulCalibur                                   0.000000         0.0        0.0   \nGrand Theft Auto IV                           0.329708         0.0        0.0   \n...                                                ...         ...        ...   \nDonut County                                  0.769338         0.0        0.0   \nMotorStorm: Apocalypse                        0.000000         0.0        0.0   \nThe Last Guy                                  0.366705         0.0        0.0   \nValiant Hearts: The Great War                 0.000000         0.0        0.0   \nMothergunship                                 0.000000         0.0        0.0   \n\n                                      alternative  application  arcade  ...  \\\nTitle                                                                   ...   \nThe Legend of Zelda: Ocarina of Time     0.000000          0.0     0.0  ...   \nTony Hawk's Pro Skater 2                 0.623685          0.0     0.0  ...   \nGrand Theft Auto IV                      0.000000          0.0     0.0  ...   \nSoulCalibur                              0.000000          0.0     0.0  ...   \nGrand Theft Auto IV                      0.000000          0.0     0.0  ...   \n...                                           ...          ...     ...  ...   \nDonut County                             0.000000          0.0     0.0  ...   \nMotorStorm: Apocalypse                   0.000000          0.0     0.0  ...   \nThe Last Guy                             0.000000          0.0     0.0  ...   \nValiant Hearts: The Great War            0.000000          0.0     0.0  ...   \nMothergunship                            0.000000          0.0     0.0  ...   \n\n                                      vehicle  vertical  virtual  \\\nTitle                                                              \nThe Legend of Zelda: Ocarina of Time      0.0       0.0      0.0   \nTony Hawk's Pro Skater 2                  0.0       0.0      0.0   \nGrand Theft Auto IV                       0.0       0.0      0.0   \nSoulCalibur                               0.0       0.0      0.0   \nGrand Theft Auto IV                       0.0       0.0      0.0   \n...                                       ...       ...      ...   \nDonut County                              0.0       0.0      0.0   \nMotorStorm: Apocalypse                    0.0       0.0      0.0   \nThe Last Guy                              0.0       0.0      0.0   \nValiant Hearts: The Great War             0.0       0.0      0.0   \nMothergunship                             0.0       0.0      0.0   \n\n                                      virtual life  visual novel  \\\nTitle                                                              \nThe Legend of Zelda: Ocarina of Time           0.0           0.0   \nTony Hawk's Pro Skater 2                       0.0           0.0   \nGrand Theft Auto IV                            0.0           0.0   \nSoulCalibur                                    0.0           0.0   \nGrand Theft Auto IV                            0.0           0.0   \n...                                            ...           ...   \nDonut County                                   0.0           0.0   \nMotorStorm: Apocalypse                         0.0           0.0   \nThe Last Guy                                   0.0           0.0   \nValiant Hearts: The Great War                  0.0           0.0   \nMothergunship                                  0.0           0.0   \n\n                                      wakeboarding  wargame  western-style  \\\nTitle                                                                        \nThe Legend of Zelda: Ocarina of Time           0.0      0.0            0.0   \nTony Hawk's Pro Skater 2                       0.0      0.0            0.0   \nGrand Theft Auto IV                            0.0      0.0            0.0   \nSoulCalibur                                    0.0      0.0            0.0   \nGrand Theft Auto IV                            0.0      0.0            0.0   \n...                                            ...      ...            ...   \nDonut County                                   0.0      0.0            0.0   \nMotorStorm: Apocalypse                         0.0      0.0            0.0   \nThe Last Guy                                   0.0      0.0            0.0   \nValiant Hearts: The Great War                  0.0      0.0            0.0   \nMothergunship                                  0.0      0.0            0.0   \n\n                                      wrestling  wwii  \nTitle                                                  \nThe Legend of Zelda: Ocarina of Time        0.0   0.0  \nTony Hawk's Pro Skater 2                    0.0   0.0  \nGrand Theft Auto IV                         0.0   0.0  \nSoulCalibur                                 0.0   0.0  \nGrand Theft Auto IV                         0.0   0.0  \n...                                         ...   ...  \nDonut County                                0.0   0.0  \nMotorStorm: Apocalypse                      0.0   0.0  \nThe Last Guy                                0.0   0.0  \nValiant Hearts: The Great War               0.0   0.0  \nMothergunship                               0.0   0.0  \n\n[5000 rows x 150 columns]",
            "text/html": "<div>\n<style scoped>\n    .dataframe tbody tr th:only-of-type {\n        vertical-align: middle;\n    }\n\n    .dataframe tbody tr th {\n        vertical-align: top;\n    }\n\n    .dataframe thead th {\n        text-align: right;\n    }\n</style>\n<table border=\"1\" class=\"dataframe\">\n  <thead>\n    <tr style=\"text-align: right;\">\n      <th></th>\n      <th>2d</th>\n      <th>3d</th>\n      <th>4x</th>\n      <th>action</th>\n      <th>action adventure</th>\n      <th>action rpg</th>\n      <th>adventure</th>\n      <th>alternative</th>\n      <th>application</th>\n      <th>arcade</th>\n      <th>...</th>\n      <th>vehicle</th>\n      <th>vertical</th>\n      <th>virtual</th>\n      <th>virtual life</th>\n      <th>visual novel</th>\n      <th>wakeboarding</th>\n      <th>wargame</th>\n      <th>western-style</th>\n      <th>wrestling</th>\n      <th>wwii</th>\n    </tr>\n    <tr>\n      <th>Title</th>\n      <th></th>\n      <th></th>\n      <th></th>\n      <th></th>\n      <th></th>\n      <th></th>\n      <th></th>\n      <th></th>\n      <th></th>\n      <th></th>\n      <th></th>\n      <th></th>\n      <th></th>\n      <th></th>\n      <th></th>\n      <th></th>\n      <th></th>\n      <th></th>\n      <th></th>\n      <th></th>\n      <th></th>\n    </tr>\n  </thead>\n  <tbody>\n    <tr>\n      <th>The Legend of Zelda: Ocarina of Time</th>\n      <td>0.000000</td>\n      <td>0.000000</td>\n      <td>0.0</td>\n      <td>0.000000</td>\n      <td>0.633865</td>\n      <td>0.0</td>\n      <td>0.0</td>\n      <td>0.000000</td>\n      <td>0.0</td>\n      <td>0.0</td>\n      <td>...</td>\n      <td>0.0</td>\n      <td>0.0</td>\n      <td>0.0</td>\n      <td>0.0</td>\n      <td>0.0</td>\n      <td>0.0</td>\n      <td>0.0</td>\n      <td>0.0</td>\n      <td>0.0</td>\n      <td>0.0</td>\n    </tr>\n    <tr>\n      <th>Tony Hawk's Pro Skater 2</th>\n      <td>0.000000</td>\n      <td>0.000000</td>\n      <td>0.0</td>\n      <td>0.000000</td>\n      <td>0.000000</td>\n      <td>0.0</td>\n      <td>0.0</td>\n      <td>0.623685</td>\n      <td>0.0</td>\n      <td>0.0</td>\n      <td>...</td>\n      <td>0.0</td>\n      <td>0.0</td>\n      <td>0.0</td>\n      <td>0.0</td>\n      <td>0.0</td>\n      <td>0.0</td>\n      <td>0.0</td>\n      <td>0.0</td>\n      <td>0.0</td>\n      <td>0.0</td>\n    </tr>\n    <tr>\n      <th>Grand Theft Auto IV</th>\n      <td>0.000000</td>\n      <td>0.000000</td>\n      <td>0.0</td>\n      <td>0.000000</td>\n      <td>0.329708</td>\n      <td>0.0</td>\n      <td>0.0</td>\n      <td>0.000000</td>\n      <td>0.0</td>\n      <td>0.0</td>\n      <td>...</td>\n      <td>0.0</td>\n      <td>0.0</td>\n      <td>0.0</td>\n      <td>0.0</td>\n      <td>0.0</td>\n      <td>0.0</td>\n      <td>0.0</td>\n      <td>0.0</td>\n      <td>0.0</td>\n      <td>0.0</td>\n    </tr>\n    <tr>\n      <th>SoulCalibur</th>\n      <td>0.000000</td>\n      <td>0.629232</td>\n      <td>0.0</td>\n      <td>0.342612</td>\n      <td>0.000000</td>\n      <td>0.0</td>\n      <td>0.0</td>\n      <td>0.000000</td>\n      <td>0.0</td>\n      <td>0.0</td>\n      <td>...</td>\n      <td>0.0</td>\n      <td>0.0</td>\n      <td>0.0</td>\n      <td>0.0</td>\n      <td>0.0</td>\n      <td>0.0</td>\n      <td>0.0</td>\n      <td>0.0</td>\n      <td>0.0</td>\n      <td>0.0</td>\n    </tr>\n    <tr>\n      <th>Grand Theft Auto IV</th>\n      <td>0.000000</td>\n      <td>0.000000</td>\n      <td>0.0</td>\n      <td>0.000000</td>\n      <td>0.329708</td>\n      <td>0.0</td>\n      <td>0.0</td>\n      <td>0.000000</td>\n      <td>0.0</td>\n      <td>0.0</td>\n      <td>...</td>\n      <td>0.0</td>\n      <td>0.0</td>\n      <td>0.0</td>\n      <td>0.0</td>\n      <td>0.0</td>\n      <td>0.0</td>\n      <td>0.0</td>\n      <td>0.0</td>\n      <td>0.0</td>\n      <td>0.0</td>\n    </tr>\n    <tr>\n      <th>...</th>\n      <td>...</td>\n      <td>...</td>\n      <td>...</td>\n      <td>...</td>\n      <td>...</td>\n      <td>...</td>\n      <td>...</td>\n      <td>...</td>\n      <td>...</td>\n      <td>...</td>\n      <td>...</td>\n      <td>...</td>\n      <td>...</td>\n      <td>...</td>\n      <td>...</td>\n      <td>...</td>\n      <td>...</td>\n      <td>...</td>\n      <td>...</td>\n      <td>...</td>\n      <td>...</td>\n    </tr>\n    <tr>\n      <th>Donut County</th>\n      <td>0.000000</td>\n      <td>0.000000</td>\n      <td>0.0</td>\n      <td>0.000000</td>\n      <td>0.769338</td>\n      <td>0.0</td>\n      <td>0.0</td>\n      <td>0.000000</td>\n      <td>0.0</td>\n      <td>0.0</td>\n      <td>...</td>\n      <td>0.0</td>\n      <td>0.0</td>\n      <td>0.0</td>\n      <td>0.0</td>\n      <td>0.0</td>\n      <td>0.0</td>\n      <td>0.0</td>\n      <td>0.0</td>\n      <td>0.0</td>\n      <td>0.0</td>\n    </tr>\n    <tr>\n      <th>MotorStorm: Apocalypse</th>\n      <td>0.000000</td>\n      <td>0.000000</td>\n      <td>0.0</td>\n      <td>0.000000</td>\n      <td>0.000000</td>\n      <td>0.0</td>\n      <td>0.0</td>\n      <td>0.000000</td>\n      <td>0.0</td>\n      <td>0.0</td>\n      <td>...</td>\n      <td>0.0</td>\n      <td>0.0</td>\n      <td>0.0</td>\n      <td>0.0</td>\n      <td>0.0</td>\n      <td>0.0</td>\n      <td>0.0</td>\n      <td>0.0</td>\n      <td>0.0</td>\n      <td>0.0</td>\n    </tr>\n    <tr>\n      <th>The Last Guy</th>\n      <td>0.000000</td>\n      <td>0.000000</td>\n      <td>0.0</td>\n      <td>0.000000</td>\n      <td>0.366705</td>\n      <td>0.0</td>\n      <td>0.0</td>\n      <td>0.000000</td>\n      <td>0.0</td>\n      <td>0.0</td>\n      <td>...</td>\n      <td>0.0</td>\n      <td>0.0</td>\n      <td>0.0</td>\n      <td>0.0</td>\n      <td>0.0</td>\n      <td>0.0</td>\n      <td>0.0</td>\n      <td>0.0</td>\n      <td>0.0</td>\n      <td>0.0</td>\n    </tr>\n    <tr>\n      <th>Valiant Hearts: The Great War</th>\n      <td>0.686866</td>\n      <td>0.000000</td>\n      <td>0.0</td>\n      <td>0.208834</td>\n      <td>0.000000</td>\n      <td>0.0</td>\n      <td>0.0</td>\n      <td>0.000000</td>\n      <td>0.0</td>\n      <td>0.0</td>\n      <td>...</td>\n      <td>0.0</td>\n      <td>0.0</td>\n      <td>0.0</td>\n      <td>0.0</td>\n      <td>0.0</td>\n      <td>0.0</td>\n      <td>0.0</td>\n      <td>0.0</td>\n      <td>0.0</td>\n      <td>0.0</td>\n    </tr>\n    <tr>\n      <th>Mothergunship</th>\n      <td>0.000000</td>\n      <td>0.000000</td>\n      <td>0.0</td>\n      <td>0.645171</td>\n      <td>0.000000</td>\n      <td>0.0</td>\n      <td>0.0</td>\n      <td>0.000000</td>\n      <td>0.0</td>\n      <td>0.0</td>\n      <td>...</td>\n      <td>0.0</td>\n      <td>0.0</td>\n      <td>0.0</td>\n      <td>0.0</td>\n      <td>0.0</td>\n      <td>0.0</td>\n      <td>0.0</td>\n      <td>0.0</td>\n      <td>0.0</td>\n      <td>0.0</td>\n    </tr>\n  </tbody>\n</table>\n<p>5000 rows × 150 columns</p>\n</div>"
          },
          "metadata": {}
        }
      ]
    },
    {
      "cell_type": "code",
      "metadata": {
        "tags": [],
        "cell_id": "00007-8c0536fc-a3aa-4821-a747-c93d36e2afdc",
        "deepnote_to_be_reexecuted": false,
        "source_hash": "a37c7959",
        "execution_millis": 296,
        "execution_start": 1615222777595,
        "deepnote_cell_type": "code"
      },
      "source": "cosine_sim = cosine_similarity(tfidf_matrix)\ncosine_sim",
      "execution_count": 9,
      "outputs": [
        {
          "output_type": "execute_result",
          "execution_count": 9,
          "data": {
            "text/plain": "array([], dtype=float64)"
          },
          "metadata": {}
        }
      ]
    },
    {
      "cell_type": "code",
      "metadata": {
        "tags": [],
        "cell_id": "00014-c091e3fb-b8cf-45d5-9aa3-fba5b98ac96d",
        "deepnote_to_be_reexecuted": false,
        "source_hash": "63e08b8b",
        "execution_millis": 0,
        "execution_start": 1615223082323,
        "deepnote_cell_type": "code"
      },
      "source": "def predict_rating(query_index):\n    # Get the query rating\n    query = user_data_test.loc[query_index]\n    query_game_id = query['Game_ID']\n\n    # print(\"Queried game\")\n    # print(game_data.iloc[query_game_id])\n\n    # Get all ratings from the user\n    user_ratings = user_data_test[user_data_test['Username'] == query['Username']]\n\n    # Make a prediction. Prediction is a weighted average of the user's ratings of other games, weighted by similarity\n    prediction = 0\n    normalization_factor = 0\n    for index, rating in user_ratings.iterrows():\n        # Do not factor in the queried rating into our prediction (that's cheating!)\n        if index == query_index:\n            continue\n\n        rating_game_id = rating['Game_ID']\n        cos_sim = cosine_sim[rating_game_id, query_game_id]\n        \n        # print(\"\\nSimilar Game Rated by the Same User\")\n        # print(game_data.iloc[rating_game_id])\n\n        # print(\"\\nrating['Userscore']:\",rating['Userscore'])\n        # print(\"cos_sim\", cos_sim)\n\n        prediction += rating['Userscore'] * cos_sim\n        normalization_factor += cos_sim\n\n    # If the user has not reviewed any similar game, then predict the average userscore of the queried game\n    if not normalization_factor:\n        game_avg_userscore = game_data.iloc[query_game_id]['Avg_Userscore']\n        if game_avg_userscore.isnumeric():\n            prediction = float(game_avg_userscore)\n        else: # avg_userscore of the game is not available, predict the mean userscore of the entire training set\n            prediction = user_data_train_mean_userscore\n    else:\n        # normalize the predicted rating\n        prediction = prediction / normalization_factor\n\n    # Predicted rating after normalization minus actual score\n    # print('\\nResults')\n    # print('prediction:', prediction)\n    # print('actual:', query['Userscore'])\n    return prediction",
      "execution_count": 13,
      "outputs": []
    },
    {
      "cell_type": "code",
      "metadata": {
        "tags": [],
        "cell_id": "00009-ad2a2fee-62f1-41b4-a0d5-a7ab7b7cd934",
        "deepnote_to_be_reexecuted": false,
        "source_hash": "e3e03a7d",
        "execution_millis": 153064,
        "output_cleared": false,
        "execution_start": 1615223083847,
        "deepnote_cell_type": "code"
      },
      "source": "predictions = user_data_test.index.to_series().apply(lambda i: predict_rating(i))",
      "execution_count": 14,
      "outputs": []
    },
    {
      "cell_type": "code",
      "metadata": {
        "tags": [],
        "cell_id": "00010-1acd8c37-0784-4f26-a59a-68bbbfb486d8",
        "deepnote_to_be_reexecuted": false,
        "source_hash": "13edd390",
        "execution_millis": 5,
        "execution_start": 1615223236912,
        "deepnote_cell_type": "code"
      },
      "source": "predictions_rmse = ((predictions - user_data_test['Userscore'])**2).mean()**0.5\nbaseline_rmse = ((user_data_train_mean_userscore - user_data_test['Userscore'])**2).mean()**0.5\nprint('RMSE of Predictions:', predictions_rmse)\nprint('RMSE of baseline (mean of all userscores in training data):', baseline_rmse)",
      "execution_count": 15,
      "outputs": [
        {
          "name": "stdout",
          "text": "RMSE of Predictions: 2.936558441254614\nRMSE of baseline (mean of all userscores in training data): 2.8048801329706254\n",
          "output_type": "stream"
        }
      ]
    },
    {
      "cell_type": "markdown",
      "source": "Cite our sources: https://towardsdatascience.com/content-based-recommender-systems-28a1dbd858f5\nWrite up results in paper",
      "metadata": {
        "tags": [],
        "cell_id": "00020-87a0fef7-989d-4a27-ab85-75cd44b47b5b",
        "deepnote_cell_type": "markdown"
      }
    },
    {
      "cell_type": "markdown",
      "source": "<a style='text-decoration:none;line-height:16px;display:flex;color:#5B5B62;padding:10px;justify-content:end;' href='https://deepnote.com?utm_source=created-in-deepnote-cell&projectId=eb4e4242-5846-4617-af0a-480720b8ff22' target=\"_blank\">\n<img style='display:inline;max-height:16px;margin:0px;margin-right:7.5px;' src='data:image/svg+xml;base64,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' > </img>\nCreated in <span style='font-weight:600;margin-left:4px;'>Deepnote</span></a>",
      "metadata": {
        "tags": [],
        "created_in_deepnote_cell": true,
        "deepnote_cell_type": "markdown"
      }
    }
  ],
  "nbformat": 4,
  "nbformat_minor": 2,
  "metadata": {
    "orig_nbformat": 2,
    "deepnote_notebook_id": "67e075c0-3618-47c2-bb7e-4ddb139ef45e",
    "deepnote": {},
    "deepnote_execution_queue": []
  }
}