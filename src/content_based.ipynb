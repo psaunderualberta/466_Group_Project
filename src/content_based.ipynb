{
  "cells": [
    {
      "cell_type": "code",
      "metadata": {
        "tags": [],
        "deepnote_to_be_reexecuted": false,
        "source_hash": "26bad1f4",
        "execution_millis": 1100,
        "cell_id": "00000-ee3207ac-09f8-434c-a197-6b3b92dd7d68",
        "execution_start": 1615343226159,
        "deepnote_cell_type": "code"
      },
      "source": "import pandas as pd\nfrom sklearn.feature_extraction.text import TfidfVectorizer\nfrom sklearn.metrics.pairwise import cosine_similarity\nfrom itertools import chain, combinations\nimport numpy as np",
      "execution_count": 1,
      "outputs": []
    },
    {
      "cell_type": "code",
      "metadata": {
        "tags": [],
        "deepnote_to_be_reexecuted": false,
        "source_hash": "d37883f9",
        "execution_millis": 213,
        "cell_id": "00001-19b25ab6-5b20-400d-8b9d-e95f39e3c88b",
        "execution_start": 1615343227267,
        "deepnote_cell_type": "code"
      },
      "source": "# load the datasets\ngame_data = pd.read_csv('data/game_info.csv', index_col=0)\nuser_data_train = pd.read_csv('data/user_data_train_no_comments.csv', index_col=0)\nuser_data_validation = pd.read_csv('data/user_data_validation_no_comments.csv', index_col=0)\nuser_data_test = pd.read_csv('data/user_data_test_no_comments.csv', index_col=0)\n\n# compute values we may use later\nmean_userscore_user_data_train = user_data_train['Userscore'].mean()\nmean_userscore_user_data_train_validation = pd.concat([user_data_train, user_data_validation])['Userscore'].mean()\ndel user_data_train # we don't use the training data for anything other than computing mean userscores",
      "execution_count": 2,
      "outputs": []
    },
    {
      "cell_type": "code",
      "metadata": {
        "tags": [],
        "cell_id": "00002-60fe8fab-40ba-4b9f-aa93-3072570a3253",
        "deepnote_to_be_reexecuted": false,
        "source_hash": "3d3ceed6",
        "execution_millis": 4,
        "execution_start": 1615343227487,
        "deepnote_cell_type": "code"
      },
      "source": "# powerset function from https://stackoverflow.com/a/1482316\ndef powerset(s):\n    '''\n    Returns the powerset of iterable s\n    '''\n    return chain.from_iterable(combinations(s, r) for r in range(len(s) + 1))",
      "execution_count": 3,
      "outputs": []
    },
    {
      "cell_type": "code",
      "metadata": {
        "tags": [],
        "deepnote_to_be_reexecuted": false,
        "source_hash": "283f4e03",
        "execution_millis": 8,
        "cell_id": "00004-5a542535-40d5-4846-aab9-bd23409d7a72",
        "execution_start": 1615343227495,
        "deepnote_cell_type": "code"
      },
      "source": "# categories of game data to consider in content-based filtering\ncontent_categories = ['Title', 'Publisher', 'Genre', 'Platform', 'No_Players']\n\ndef get_bag(category):\n    '''\n    Return a bag of strings/terms for tf-idf vectorization given the category name\n    '''\n    processing_func = None\n    if category == 'Title':\n        processing_func = lambda s: s.split() # split title on whitespace\n    elif category == 'Genre':\n        processing_func = lambda s: s.split(';') # split genre on semicolons\n    else:\n        processing_func = lambda s: [str(s)] # other categories may be a mix of single numbers/strings. i.e. No_Players and Platform\n\n    return game_data[category].apply(processing_func)\n\ndef get_similarity_matrix(categories):\n    '''\n    Return the cosine similarity matrix using the given categories\n    '''\n    assert categories # assert it is not an empty list\n\n    # retrieve a bag of strings/text per game to vectorize\n    bag_of_texts = get_bag(categories[0])\n    for category in categories[1:]:\n        bag_of_texts += get_bag(category)\n\n    # create a tf-idf vectorizor that filters out non-alphanumeric characters and ignores case\n    tf = TfidfVectorizer(analyzer=lambda i: map(lambda s: ''.join(filter(str.isalnum, s.lower())), i))\n\n    # compute the tf-idf matrix\n    tfidf_matrix = tf.fit_transform(bag_of_texts)\n\n    # compute and return the cosine similarity matrix\n    return cosine_similarity(tfidf_matrix)",
      "execution_count": 4,
      "outputs": []
    },
    {
      "cell_type": "code",
      "metadata": {
        "tags": [],
        "cell_id": "00005-414294d7-2b83-4e69-8aac-a4c3ba67b98f",
        "deepnote_to_be_reexecuted": false,
        "source_hash": "5d8f01df",
        "execution_millis": 1,
        "execution_start": 1615343227513,
        "deepnote_cell_type": "code"
      },
      "source": "def make_game_avg_userscores(dataset, fallback_score):\n    '''\n    For each row in the dataset, give the game's average userscore if available.\n    Otherwise use the fallback_score.\n    '''\n    avg_userscores = dataset.apply(lambda row: game_data.loc[row['Game_ID']]['Avg_Userscore'], axis=1)\n    avg_userscores = pd.to_numeric(avg_userscores, errors='coerce')\n    avg_userscores = avg_userscores.replace(np.nan, fallback_score)\n    return avg_userscores",
      "execution_count": 5,
      "outputs": []
    },
    {
      "cell_type": "code",
      "metadata": {
        "tags": [],
        "deepnote_to_be_reexecuted": false,
        "source_hash": "83b2856b",
        "execution_millis": 1,
        "cell_id": "00007-b56b49c5-178b-486d-b03d-7b86fe5d988b",
        "execution_start": 1615343227562,
        "deepnote_cell_type": "code"
      },
      "source": "def make_predictions(dataset, similarity_matrix, use_game_avg_userscore, fallback_score):\n    '''\n    Make predictions for every rating from a given dataset using a given similarity matrix.\n    fallback_score is used if a prediction can not be made and the game has no Avg_Userscore available.\n    If use_game_avg_userscore is True, will attempt to report the game's Avg_Userscore instead of the fallback_score if available\n    '''\n\n    def make_prediction(rating):\n        '''\n        Make a prediction about the userscore of a particular rating from the dataset based on the user's rating of other games\n        '''\n        # get all ratings from the user\n        user_ratings = dataset[dataset['Username'] == rating.Username]\n\n        # make a prediction\n        prediction = 0 # numerator of the weighted average\n        normalization_factor = 0 # denominator of the weighted average\n        for index, user_rating in user_ratings.iterrows():\n\n            # ignore the rating we are trying to predict\n            if index == rating.name:\n                continue\n\n            # a prediction is a similarity-weighted average of the user's ratings of other games\n            similarity = similarity_matrix[user_rating.Game_ID, rating.Game_ID]\n            prediction += user_rating.Userscore * similarity \n            normalization_factor += similarity\n\n        if normalization_factor == 0:\n            # if the user has not reviewed any similar game, then predict the average userscore of the game\n            game_avg_userscore = pd.to_numeric(game_data.loc[rating.Game_ID].Avg_Userscore, errors='coerce')\n            if game_avg_userscore != np.nan and use_game_avg_userscore:\n                prediction = game_avg_userscore\n            else:\n                # if the game's average userscore is unavailable, then use the fallback score\n                prediction = fallback_score\n        else:\n            # normalize the prediction\n            prediction = prediction / normalization_factor\n\n        return prediction\n    \n    return dataset.apply(lambda row: make_prediction(row), axis=1)",
      "execution_count": 6,
      "outputs": []
    },
    {
      "cell_type": "code",
      "metadata": {
        "tags": [],
        "cell_id": "00006-3c4d73c5-2a05-4349-ab77-88eeec50d6a9",
        "deepnote_to_be_reexecuted": false,
        "source_hash": "810bdaff",
        "execution_millis": 1,
        "execution_start": 1615343227563,
        "deepnote_cell_type": "code"
      },
      "source": "def compute_rmse(prediction, dataset):\n    '''\n    Computers the root-mean squared error with respect to userscore given prediction(s) and the dataset\n    '''\n    return ((prediction - dataset['Userscore'])**2).mean()**0.5",
      "execution_count": 7,
      "outputs": []
    },
    {
      "cell_type": "code",
      "metadata": {
        "tags": [],
        "cell_id": "00006-4c993d02-5131-4a74-8991-c4acfa999431",
        "deepnote_to_be_reexecuted": false,
        "source_hash": "ba6266c4",
        "execution_millis": 2140591,
        "output_cleared": false,
        "execution_start": 1615343227564,
        "deepnote_cell_type": "code"
      },
      "source": "# validation step: test combinations of hyperparameters to find one that performs best on validation data\ncategory_powerset = [categories for categories in powerset(content_categories)]\nrmses = [float('inf')]\nfor categories in category_powerset:\n    if not categories:\n        continue\n\n    similarity_matrix = get_similarity_matrix(categories)\n    print('Making predictions using content categories:', ' '.join(categories))\n    predictions = make_predictions(user_data_validation, similarity_matrix, False, 0)\n    rmse = compute_rmse(predictions, user_data_validation)\n    print('Finished! RMSE:', rmse)\n    rmses.append(rmse)",
      "execution_count": 8,
      "outputs": [
        {
          "name": "stdout",
          "text": "Making predictions using content categories: Title\nFinished! RMSE: 6.128860392913564\nMaking predictions using content categories: Publisher\nFinished! RMSE: 7.067758570996894\nMaking predictions using content categories: Genre\nFinished! RMSE: 3.790114323246962\nMaking predictions using content categories: Platform\nFinished! RMSE: 4.151787427494914\nMaking predictions using content categories: No_Players\nFinished! RMSE: 5.503915827235503\nMaking predictions using content categories: Title Publisher\nFinished! RMSE: 5.93322010425121\nMaking predictions using content categories: Title Genre\nFinished! RMSE: 3.5680433884674696\nMaking predictions using content categories: Title Platform\nFinished! RMSE: 3.5732346540803834\nMaking predictions using content categories: Title No_Players\nFinished! RMSE: 4.641266035693517\nMaking predictions using content categories: Publisher Genre\nFinished! RMSE: 3.7410201954256417\nMaking predictions using content categories: Publisher Platform\nFinished! RMSE: 3.8495188735216384\nMaking predictions using content categories: Publisher No_Players\nFinished! RMSE: 5.080401950020941\nMaking predictions using content categories: Genre Platform\nFinished! RMSE: 3.0264022623495\nMaking predictions using content categories: Genre No_Players\nFinished! RMSE: 3.3814445268059625\nMaking predictions using content categories: Platform No_Players\nFinished! RMSE: 3.5012766528806987\nMaking predictions using content categories: Title Publisher Genre\nFinished! RMSE: 3.5422000774398326\nMaking predictions using content categories: Title Publisher Platform\nFinished! RMSE: 3.539047343051334\nMaking predictions using content categories: Title Publisher No_Players\nFinished! RMSE: 4.52616427655339\nMaking predictions using content categories: Title Genre Platform\nFinished! RMSE: 2.943694641365184\nMaking predictions using content categories: Title Genre No_Players\nFinished! RMSE: 3.250050850714228\nMaking predictions using content categories: Title Platform No_Players\nFinished! RMSE: 3.2286098831550802\nMaking predictions using content categories: Publisher Genre Platform\nFinished! RMSE: 3.0108427035893612\nMaking predictions using content categories: Publisher Genre No_Players\nFinished! RMSE: 3.346876383818996\nMaking predictions using content categories: Publisher Platform No_Players\nFinished! RMSE: 3.389502457968039\nMaking predictions using content categories: Genre Platform No_Players\nFinished! RMSE: 2.899633687630342\nMaking predictions using content categories: Title Publisher Genre Platform\nFinished! RMSE: 2.9352804472913383\nMaking predictions using content categories: Title Publisher Genre No_Players\nFinished! RMSE: 3.2349542136681855\nMaking predictions using content categories: Title Publisher Platform No_Players\nFinished! RMSE: 3.2067370383296705\nMaking predictions using content categories: Title Genre Platform No_Players\nFinished! RMSE: 2.846240596861303\nMaking predictions using content categories: Publisher Genre Platform No_Players\nFinished! RMSE: 2.887901784844021\nMaking predictions using content categories: Title Publisher Genre Platform No_Players\nFinished! RMSE: 2.840064275384498\n",
          "output_type": "stream"
        }
      ]
    },
    {
      "cell_type": "code",
      "metadata": {
        "tags": [],
        "cell_id": "00008-72c8cadd-bfa8-4751-b149-90d5222e1417",
        "deepnote_to_be_reexecuted": false,
        "source_hash": "8a49038c",
        "execution_millis": 13,
        "execution_start": 1615345368152,
        "deepnote_cell_type": "code"
      },
      "source": "best_rmse = min(rmses)\nbest_rmse_index = rmses.index(best_rmse)\nbest_categories = category_powerset[best_rmse_index] # = content_categories # The best combination was using all of them!\nprint('The best set of categories is', ' '.join(best_categories), 'with an RMSE of', best_rmse)",
      "execution_count": 9,
      "outputs": [
        {
          "name": "stdout",
          "text": "The best set of categories is Title Publisher Genre Platform No_Players with an RMSE of 2.840064275384498\n",
          "output_type": "stream"
        }
      ]
    },
    {
      "cell_type": "code",
      "metadata": {
        "tags": [],
        "cell_id": "00009-fb54c41b-92d8-491b-aa44-2471147095ff",
        "deepnote_to_be_reexecuted": false,
        "source_hash": "ff2c0833",
        "execution_millis": 3,
        "execution_start": 1615345368153,
        "deepnote_cell_type": "code"
      },
      "source": "# save results of validation testing\ncat_rmse_results = pd.Series(rmses, index=category_powerset, name='RMSEs')\ncat_rmse_results.to_csv('data/content-based-validation.csv')",
      "execution_count": 10,
      "outputs": []
    },
    {
      "cell_type": "code",
      "metadata": {
        "tags": [],
        "deepnote_to_be_reexecuted": false,
        "source_hash": "66b34591",
        "execution_millis": 403400,
        "cell_id": "00010-bc787800-e417-44f6-8a9d-c9c45ff12719",
        "execution_start": 1615345368183,
        "deepnote_cell_type": "code"
      },
      "source": "# testing phase\ntest_predictions = make_predictions(user_data_test, get_similarity_matrix(best_categories), False, 0)\ntest_predictions_with_fallback = make_predictions(user_data_test, get_similarity_matrix(best_categories), True, mean_userscore_user_data_train_validation)\n\ntest_predictions_rmse = compute_rmse(test_predictions, user_data_test)\ntest_predictions_with_fallback_rmse = compute_rmse(test_predictions_with_fallback, user_data_test)\nbaseline_rmse = compute_rmse(mean_userscore_user_data_train_validation, user_data_test)\navg_userscore_rmse = compute_rmse(make_game_avg_userscores(user_data_test, mean_userscore_user_data_train_validation), user_data_test)\n\nprint('RMSE of Predictions:', test_predictions_rmse)\nprint('RMSE of Predictions w/ Fallback:', test_predictions_with_fallback_rmse)\n\nprint('RMSE of Baseline (Training Mean):', baseline_rmse)\nprint('RMSE of Game Avg Userscores:', avg_userscore_rmse)",
      "execution_count": 11,
      "outputs": [
        {
          "name": "stdout",
          "text": "RMSE of Predictions: 2.878735460472741\nRMSE of Predictions w/ Fallback: 2.6723915986954228\nRMSE of Baseline (Training Mean): 2.746245378070763\nRMSE of Game Avg Userscores: 2.510962601606566\n",
          "output_type": "stream"
        }
      ]
    },
    {
      "cell_type": "markdown",
      "source": "Cite our sources: https://towardsdatascience.com/content-based-recommender-systems-28a1dbd858f5\nWrite up results in paper",
      "metadata": {
        "tags": [],
        "cell_id": "00012-97cfa6c1-0010-4412-87d4-9ae41f88653f",
        "deepnote_cell_type": "markdown"
      }
    },
    {
      "cell_type": "markdown",
      "source": "<a style='text-decoration:none;line-height:16px;display:flex;color:#5B5B62;padding:10px;justify-content:end;' href='https://deepnote.com?utm_source=created-in-deepnote-cell&projectId=eb4e4242-5846-4617-af0a-480720b8ff22' target=\"_blank\">\n<img style='display:inline;max-height:16px;margin:0px;margin-right:7.5px;' src='data:image/svg+xml;base64,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' > </img>\nCreated in <span style='font-weight:600;margin-left:4px;'>Deepnote</span></a>",
      "metadata": {
        "tags": [],
        "created_in_deepnote_cell": true,
        "deepnote_cell_type": "markdown"
      }
    }
  ],
  "nbformat": 4,
  "nbformat_minor": 2,
  "metadata": {
    "orig_nbformat": 2,
    "deepnote_notebook_id": "d7207526-994b-4013-9dc0-b333f4674e43",
    "deepnote": {},
    "deepnote_execution_queue": []
  }
}