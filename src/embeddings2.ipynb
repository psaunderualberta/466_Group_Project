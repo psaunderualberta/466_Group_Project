{
 "cells": [
  {
   "cell_type": "code",
   "execution_count": 1,
   "metadata": {},
   "outputs": [],
   "source": [
    "from math import e as EULER\n",
    "from copy import deepcopy\n",
    "from timeit import default_timer as timer\n",
    "\n",
    "import pandas as pd\n",
    "import numpy as np\n",
    "import matplotlib.pyplot as plt\n",
    "\n",
    "from sklearn.metrics import mean_squared_error\n",
    "from scipy.sparse import csr_matrix # sparse matrix\n",
    "\n",
    "from numpy.random import MT19937\n",
    "from numpy.random import RandomState, SeedSequence\n",
    "\n",
    "from IPython.display import set_matplotlib_formats\n",
    "set_matplotlib_formats('png', 'pdf')\n",
    "DPI = 120"
   ]
  },
  {
   "cell_type": "code",
   "execution_count": 2,
   "metadata": {},
   "outputs": [],
   "source": [
    "raw_data = pd.read_csv(\"old_data/raw_metacritic_game_user_comments.csv\")\n",
    "game_info_data = pd.read_csv(\"src/data/game_info.csv\")\n",
    "train_data = pd.read_csv(\"src/data/user_data_train_no_comments.csv\")\n",
    "test_data = pd.read_csv(\"src/data/user_data_test_no_comments.csv\")\n",
    "valid_data = pd.read_csv(\"src/data/user_data_validation_no_comments.csv\")\n",
    "\n",
    "game_info_data = game_info_data.rename(columns={\"Unnamed: 0\" : \"Id\"})"
   ]
  },
  {
   "cell_type": "code",
   "execution_count": 3,
   "metadata": {},
   "outputs": [],
   "source": [
    "all_data = pd.concat([train_data, test_data, valid_data], ignore_index=True)"
   ]
  },
  {
   "cell_type": "code",
   "execution_count": 4,
   "metadata": {},
   "outputs": [
    {
     "data": {
      "text/html": [
       "<div>\n",
       "<style scoped>\n",
       "    .dataframe tbody tr th:only-of-type {\n",
       "        vertical-align: middle;\n",
       "    }\n",
       "\n",
       "    .dataframe tbody tr th {\n",
       "        vertical-align: top;\n",
       "    }\n",
       "\n",
       "    .dataframe thead th {\n",
       "        text-align: right;\n",
       "    }\n",
       "</style>\n",
       "<table border=\"1\" class=\"dataframe\">\n",
       "  <thead>\n",
       "    <tr style=\"text-align: right;\">\n",
       "      <th></th>\n",
       "      <th>Unnamed: 0</th>\n",
       "      <th>Userscore</th>\n",
       "      <th>Username</th>\n",
       "      <th>Game_ID</th>\n",
       "    </tr>\n",
       "  </thead>\n",
       "  <tbody>\n",
       "    <tr>\n",
       "      <th>0</th>\n",
       "      <td>47246</td>\n",
       "      <td>9</td>\n",
       "      <td>SergeantSoz</td>\n",
       "      <td>119</td>\n",
       "    </tr>\n",
       "    <tr>\n",
       "      <th>1</th>\n",
       "      <td>199743</td>\n",
       "      <td>9</td>\n",
       "      <td>SergeantSoz</td>\n",
       "      <td>1540</td>\n",
       "    </tr>\n",
       "    <tr>\n",
       "      <th>2</th>\n",
       "      <td>235823</td>\n",
       "      <td>8</td>\n",
       "      <td>SergeantSoz</td>\n",
       "      <td>2227</td>\n",
       "    </tr>\n",
       "    <tr>\n",
       "      <th>3</th>\n",
       "      <td>263595</td>\n",
       "      <td>8</td>\n",
       "      <td>SergeantSoz</td>\n",
       "      <td>2941</td>\n",
       "    </tr>\n",
       "    <tr>\n",
       "      <th>4</th>\n",
       "      <td>72338</td>\n",
       "      <td>9</td>\n",
       "      <td>tomcrew10</td>\n",
       "      <td>238</td>\n",
       "    </tr>\n",
       "    <tr>\n",
       "      <th>...</th>\n",
       "      <td>...</td>\n",
       "      <td>...</td>\n",
       "      <td>...</td>\n",
       "      <td>...</td>\n",
       "    </tr>\n",
       "    <tr>\n",
       "      <th>151992</th>\n",
       "      <td>242135</td>\n",
       "      <td>10</td>\n",
       "      <td>AlexN.</td>\n",
       "      <td>2375</td>\n",
       "    </tr>\n",
       "    <tr>\n",
       "      <th>151993</th>\n",
       "      <td>258319</td>\n",
       "      <td>9</td>\n",
       "      <td>AlexN.</td>\n",
       "      <td>2834</td>\n",
       "    </tr>\n",
       "    <tr>\n",
       "      <th>151994</th>\n",
       "      <td>17628</td>\n",
       "      <td>9</td>\n",
       "      <td>zenmechanic</td>\n",
       "      <td>33</td>\n",
       "    </tr>\n",
       "    <tr>\n",
       "      <th>151995</th>\n",
       "      <td>32734</td>\n",
       "      <td>8</td>\n",
       "      <td>zenmechanic</td>\n",
       "      <td>70</td>\n",
       "    </tr>\n",
       "    <tr>\n",
       "      <th>151996</th>\n",
       "      <td>108721</td>\n",
       "      <td>5</td>\n",
       "      <td>zenmechanic</td>\n",
       "      <td>549</td>\n",
       "    </tr>\n",
       "  </tbody>\n",
       "</table>\n",
       "<p>151997 rows × 4 columns</p>\n",
       "</div>"
      ],
      "text/plain": [
       "        Unnamed: 0  Userscore     Username  Game_ID\n",
       "0            47246          9  SergeantSoz      119\n",
       "1           199743          9  SergeantSoz     1540\n",
       "2           235823          8  SergeantSoz     2227\n",
       "3           263595          8  SergeantSoz     2941\n",
       "4            72338          9    tomcrew10      238\n",
       "...            ...        ...          ...      ...\n",
       "151992      242135         10       AlexN.     2375\n",
       "151993      258319          9       AlexN.     2834\n",
       "151994       17628          9  zenmechanic       33\n",
       "151995       32734          8  zenmechanic       70\n",
       "151996      108721          5  zenmechanic      549\n",
       "\n",
       "[151997 rows x 4 columns]"
      ]
     },
     "execution_count": 4,
     "metadata": {},
     "output_type": "execute_result"
    }
   ],
   "source": [
    "all_data"
   ]
  },
  {
   "cell_type": "code",
   "execution_count": 5,
   "metadata": {},
   "outputs": [],
   "source": [
    "# transform usernames into user IDs\n",
    "user_to_id_map = {}\n",
    "for i, username in enumerate(np.unique(all_data[\"Username\"])):\n",
    "    user_to_id_map[username] = i"
   ]
  },
  {
   "cell_type": "code",
   "execution_count": 6,
   "metadata": {},
   "outputs": [],
   "source": [
    "def format_data(data, usermap):\n",
    "    # replaces usernames with numeric IDs\n",
    "    user_ids = []\n",
    "    for user in data[\"Username\"]:\n",
    "        user_ids.append(user_to_id_map[user])\n",
    "    data.insert(4, \"User_ID\", user_ids, allow_duplicates=True)\n",
    "    \n",
    "    # removes unused column\n",
    "    data = data.drop([\"Unnamed: 0\"], axis=1)\n",
    "    return data"
   ]
  },
  {
   "cell_type": "code",
   "execution_count": 7,
   "metadata": {},
   "outputs": [],
   "source": [
    "all_data = format_data(all_data, user_to_id_map)\n",
    "train_data = format_data(train_data, user_to_id_map)\n",
    "test_data = format_data(test_data, user_to_id_map)\n",
    "valid_data = format_data(valid_data, user_to_id_map)"
   ]
  },
  {
   "cell_type": "code",
   "execution_count": 9,
   "metadata": {},
   "outputs": [],
   "source": [
    "n_users = len(np.unique(all_data[\"Username\"]))\n",
    "n_games = len(game_info_data)\n",
    "\n",
    "def group_data(data, label):\n",
    "    \"\"\"\n",
    "    dict that maps label -> dataframe\n",
    "    \"\"\"\n",
    "    return dict(tuple(data.groupby(label))) # default sort=True\n",
    "\n",
    "# map: user -> np.array of game indices\n",
    "user_game_idx = group_data(all_data, \"User_ID\")\n",
    "for key in user_game_idx:\n",
    "    user_game_idx[key] = user_game_idx[key][\"Game_ID\"].to_numpy()\n",
    "\n",
    "# map: game -> np.array of user indices\n",
    "game_user_idx = group_data(all_data, \"Game_ID\")\n",
    "for key in game_user_idx:\n",
    "    game_user_idx[key] = game_user_idx[key][\"User_ID\"].to_numpy()"
   ]
  },
  {
   "cell_type": "code",
   "execution_count": 10,
   "metadata": {},
   "outputs": [
    {
     "name": "stdout",
     "output_type": "stream",
     "text": [
      "users: 22072\n",
      "games: 5000\n"
     ]
    }
   ],
   "source": [
    "print(f\"users: {n_users}\")\n",
    "print(f\"games: {n_games}\")"
   ]
  },
  {
   "cell_type": "code",
   "execution_count": 11,
   "metadata": {},
   "outputs": [],
   "source": [
    "# data class\n",
    "def np_rand(size, min_i, max_i, rs):\n",
    "    array = rs.random_sample(size)\n",
    "    array *= (max_i - min_i)\n",
    "    array += min_i\n",
    "    return array\n",
    "\n",
    "class EmbeddingsIndex:\n",
    "    def __init__(self, data):\n",
    "        self.length = len(data)\n",
    "        self.user_idx = data[\"User_ID\"].to_numpy()\n",
    "        self.game_idx = data[\"Game_ID\"].to_numpy()\n",
    "        \n",
    "        self.embed_scores = csr_matrix((data[\"Userscore\"].to_numpy(),\n",
    "                                       (self.user_idx, self.game_idx)),\n",
    "                                       shape=(n_users, n_games), dtype=np.int8)\n",
    "        \n",
    "        self.unique_user_idx = np.sort(np.unique(data[\"User_ID\"]))\n",
    "        self.unique_game_idx = np.sort(np.unique(data[\"Game_ID\"]))\n",
    "\n",
    "\n",
    "class Embeddings:\n",
    "    \"\"\"\n",
    "    requires transformation of data:\n",
    "    all values must be non-negative to properly maintain bounds\n",
    "    TODO experiment with non-negativity\n",
    "    \"\"\"\n",
    "    def __init__(self, embed_dim, n_users, n_games, n_range, seed):\n",
    "        rs = RandomState(MT19937(SeedSequence(seed)))\n",
    "\n",
    "        min_n, max_n = n_range\n",
    "\n",
    "        self.bias_users = np_rand(n_users, min_n, max_n, rs)\n",
    "        self.bias_games = np_rand(n_games, min_n, max_n, rs)\n",
    "\n",
    "        self.embed_users = np_rand((n_users, embed_dim), min_n, max_n, rs)\n",
    "        self.embed_games = np_rand((n_games, embed_dim), min_n, max_n, rs)\n",
    "\n",
    "    def calc_preds(self, ei):\n",
    "        # dot product\n",
    "        preds = np.sum(self.embed_users[ei.user_idx] * self.embed_users[ei.game_idx], axis=1)\n",
    "        # add bias of the game and user\n",
    "        preds = preds + self.bias_users[ei.user_idx] + self.bias_games[ei.game_idx]\n",
    "        return preds\n",
    "    \n",
    "    def calc_preds_single(self, user_id, game_id):\n",
    "        pred = np.dot(self.embed_users[user_id], self.embed_users[game_id])\n",
    "        # add bias of the game and user\n",
    "        pred = pred + self.bias_users[user_id] + self.bias_games[game_id]\n",
    "        return pred\n",
    "        \n",
    "    def calc_preds_sparse(self, ei):\n",
    "        preds = self.calc_preds(ei)\n",
    "        preds_matx = csr_matrix((preds, (ei.user_idx, ei.game_idx)),\n",
    "                                shape=(n_users, n_games), dtype=np.float64)\n",
    "        \n",
    "        return preds_matx\n",
    "    \n",
    "        #sub = preds_matx - self.embed_scores"
   ]
  },
  {
   "cell_type": "code",
   "execution_count": 12,
   "metadata": {},
   "outputs": [],
   "source": [
    "ei_all = EmbeddingsIndex(all_data)\n",
    "ei_train = EmbeddingsIndex(train_data)\n",
    "ei_test = EmbeddingsIndex(test_data)\n",
    "ei_valid = EmbeddingsIndex(valid_data)"
   ]
  },
  {
   "cell_type": "code",
   "execution_count": 13,
   "metadata": {},
   "outputs": [],
   "source": [
    "def constraint_func(x, n_range):\n",
    "    n_min, n_max = n_range\n",
    "    #return (n_max - n_min) / (1 + np.power(EULER, -x)) + n_min # sigmoid: (0, 1)\n",
    "    #return (n_max - n_min) / (1 + np.power(2, -x)) + n_min # sigmoid: (0, 1)\n",
    "    return np.minimum(np.maximum(x, n_min), n_max) # hard cutoff with n_min and n_max\n",
    "\n",
    "class EmbeddingMatricesModel:\n",
    "    def __init__(self, e):\n",
    "        self.e = e\n",
    "        \n",
    "    def train(self, ei, alpha, n_range, cycles=1, constraint=False):\n",
    "        for _ in range(cycles):\n",
    "            self._train(ei, alpha, n_range, constraint)\n",
    "            preds_diff = (self.e.calc_preds(ei) - ei.embed_scores[ei.user_idx, ei.game_idx])\n",
    "            \n",
    "            # code to show divergence of elements\n",
    "            #print(np.sqrt(np.sum(np.asarray(preds_diff)**2)/(preds_diff.shape[1])))\n",
    "            #print(np.sort(np.ravel(e.embed_games)))\n",
    "            #print(np.sort(np.ravel(e.embed_users)))\n",
    "            \n",
    "            #print(preds_diff.shape[1])\n",
    "        \n",
    "    def _train(self, ei, alpha, n_range, constraint):\n",
    "        # copies embeddings to use and then throw away later\n",
    "\n",
    "        # preds - score in a sparse array\n",
    "        diff_matx = self.e.calc_preds_sparse(ei) - ei.embed_scores\n",
    "\n",
    "        #### gradient descent ####\n",
    "        # sum for each user / game\n",
    "        grad_bias_user = np.squeeze(np.asarray(np.sum(diff_matx, axis=1)))\n",
    "        grad_bias_game = np.squeeze(np.asarray(np.sum(diff_matx, axis=0)))\n",
    "\n",
    "        grad_embed_user = []\n",
    "        # inefficient for loop, oh well\n",
    "        for user in ei.unique_user_idx:\n",
    "            # n_g = number of games the user reviewed\n",
    "            n_g = len(user_game_idx[user])\n",
    "\n",
    "            # indexes the user review scores (pred - actual) from the difference matrix\n",
    "            diff_matx_idx = diff_matx[np.full(n_g, user), user_game_idx[user]]\n",
    "\n",
    "            # multiplies each used game vector by the score_diff\n",
    "            used_game_vecs = self.e.embed_games[user_game_idx[user]]\n",
    "            mult = used_game_vecs * np.asarray(diff_matx_idx).T\n",
    "\n",
    "            # sums along the embedding dimension\n",
    "            grad_embed_user_vec = np.sum(mult, axis=0)\n",
    "\n",
    "            grad_embed_user.append(grad_embed_user_vec)\n",
    "\n",
    "        grad_embed_game = []\n",
    "        for game in ei.unique_game_idx:\n",
    "            # n_u = number of unique users that the game has reviews from\n",
    "            n_u = len(game_user_idx[game])\n",
    "\n",
    "            # indexes the user review scores (pred - actual) from the difference matrix\n",
    "            diff_matx_idx = diff_matx[game_user_idx[game], np.full(n_u, game)]\n",
    "            #diff_matx_idx = diff_matx[game_user_idx[game], np.full(n_u, game)]\n",
    "\n",
    "            # multiplies each used game vector by the score_diff\n",
    "            used_user_vecs = self.e.embed_users[game_user_idx[game]]\n",
    "            mult = used_user_vecs * np.asarray(diff_matx_idx).T\n",
    "\n",
    "            # sums along the embedding dimension\n",
    "            grad_embed_game_vec = np.sum(mult, axis=0)\n",
    "\n",
    "            grad_embed_game.append(grad_embed_game_vec)\n",
    "\n",
    "\n",
    "        grad_embed_user = np.array(grad_embed_user)\n",
    "        grad_embed_game = np.array(grad_embed_game)\n",
    "        \n",
    "        preds_diff = (self.e.calc_preds(ei) - ei.embed_scores[ei.user_idx, ei.game_idx])\n",
    "        mse_const = np.sqrt(np.sum(np.asarray(preds_diff)**2)/(preds_diff.shape[1]))\n",
    "        total_const = alpha * 2 / mse_const / np.sqrt(ei.length)\n",
    "        \n",
    "        e.bias_users = e.bias_users - total_const * grad_bias_user\n",
    "        e.bias_games = e.bias_games - total_const * grad_bias_game\n",
    "        e.embed_users[ei.unique_user_idx] = e.embed_users[ei.unique_user_idx] - total_const * grad_embed_user\n",
    "        e.embed_games[ei.unique_game_idx] = e.embed_games[ei.unique_game_idx] - total_const * grad_embed_game\n",
    "\n",
    "        if constraint:\n",
    "            e.bias_users = constraint_func(e.bias_users, n_range)\n",
    "            e.bias_games = constraint_func(e.bias_games, n_range)\n",
    "            e.embed_users = constraint_func(e.embed_users, n_range)\n",
    "            e.embed_games = constraint_func(e.embed_games, n_range)\n",
    "\n",
    "    def predict(self, data, ei, alpha, n_range, cycles=1):\n",
    "        \"\"\"\n",
    "        TODO batch predict, partition beforehand\n",
    "        \"\"\"\n",
    "        old_e = deepcopy(self.e)\n",
    "        #extra = []\n",
    "        preds = []\n",
    "        actual = []\n",
    "        #times = []\n",
    "        user_counter = 0\n",
    "\n",
    "        start = timer()\n",
    "        for user_id in ei.unique_user_idx:\n",
    "            # ASSUMPTION: user is completely unique and has not been trained on,\n",
    "            # thus we can use the global var user_game_idx\n",
    "\n",
    "            user_data = data[data[\"User_ID\"] == user_id]\n",
    "\n",
    "            #user_start = timer()\n",
    "            for i, game_id in enumerate(user_data[\"Game_ID\"]):\n",
    "                user_data_drop = user_data.drop(user_data.index[[i]])\n",
    "                temp_ei = EmbeddingsIndex(user_data_drop)\n",
    "                self.train(temp_ei, alpha, n_range, cycles=cycles)\n",
    "                \n",
    "                # predicts final value\n",
    "                pred = self.e.calc_preds_single(user_id, game_id)\n",
    "                preds.append(pred)\n",
    "                actual.append(ei_all.embed_scores[user_id, game_id])\n",
    "                #extra.append((user_id, game_id))\n",
    "\n",
    "                # ASSUMPTION: deepcopy is done here\n",
    "                self.e.bias_users[user_id] = old_e.bias_users[user_id]\n",
    "                self.e.bias_games[temp_ei.game_idx] = old_e.bias_games[temp_ei.game_idx]\n",
    "                self.e.embed_users[user_id] = old_e.embed_users[user_id]\n",
    "                self.e.embed_games[temp_ei.game_idx] = old_e.embed_games[temp_ei.game_idx]\n",
    "                \n",
    "            #user_end = timer()\n",
    "            #times.append(user_end - user_start)\n",
    "            #print(user_end - user_start)\n",
    "            user_counter += 1\n",
    "            #if (user_counter % 50) == 0:\n",
    "            #    print(user_counter)\n",
    "\n",
    "        end = timer()\n",
    "        print(\"global time:\", end - start)\n",
    "            \n",
    "        preds = np.array(preds)\n",
    "        actual = np.array(actual)\n",
    "        \n",
    "        return preds, actual"
   ]
  },
  {
   "cell_type": "code",
   "execution_count": 14,
   "metadata": {},
   "outputs": [],
   "source": [
    "# hyperparameters\n",
    "embed_dim = 5\n",
    "n_range = (-0.2, 2.2)\n",
    "seed = 69\n",
    "cycles = 3\n",
    "alpha = 0.1\n",
    "\n",
    "e = Embeddings(embed_dim, n_users, n_games, n_range, seed)"
   ]
  },
  {
   "cell_type": "code",
   "execution_count": 15,
   "metadata": {},
   "outputs": [],
   "source": [
    "model = EmbeddingMatricesModel(e)"
   ]
  },
  {
   "cell_type": "code",
   "execution_count": 16,
   "metadata": {},
   "outputs": [],
   "source": [
    "model.train(ei_train, alpha=0.1, n_range=n_range, cycles=10, constraint=True)"
   ]
  },
  {
   "cell_type": "code",
   "execution_count": 17,
   "metadata": {},
   "outputs": [
    {
     "data": {
      "text/plain": [
       "(array([8.000e+00, 2.200e+01, 4.700e+01, 1.260e+02, 2.310e+02, 3.990e+02,\n",
       "        7.400e+02, 1.188e+03, 1.670e+03, 2.229e+03, 3.059e+03, 3.718e+03,\n",
       "        4.405e+03, 5.052e+03, 5.703e+03, 6.246e+03, 6.519e+03, 6.714e+03,\n",
       "        6.780e+03, 6.620e+03, 6.363e+03, 5.801e+03, 5.414e+03, 4.776e+03,\n",
       "        4.119e+03, 3.526e+03, 3.079e+03, 2.608e+03, 2.122e+03, 1.568e+03,\n",
       "        1.217e+03, 9.880e+02, 7.450e+02, 6.350e+02, 4.490e+02, 2.770e+02,\n",
       "        2.590e+02, 1.450e+02, 1.010e+02, 6.400e+01, 4.800e+01, 1.900e+01,\n",
       "        2.400e+01, 9.000e+00, 6.000e+00, 8.000e+00, 6.000e+00, 5.000e+00,\n",
       "        0.000e+00, 1.000e+00]),\n",
       " array([-0.11754863,  0.26938813,  0.6563249 ,  1.04326167,  1.43019844,\n",
       "         1.81713521,  2.20407198,  2.59100875,  2.97794551,  3.36488228,\n",
       "         3.75181905,  4.13875582,  4.52569259,  4.91262936,  5.29956613,\n",
       "         5.68650289,  6.07343966,  6.46037643,  6.8473132 ,  7.23424997,\n",
       "         7.62118674,  8.00812351,  8.39506027,  8.78199704,  9.16893381,\n",
       "         9.55587058,  9.94280735, 10.32974412, 10.71668089, 11.10361765,\n",
       "        11.49055442, 11.87749119, 12.26442796, 12.65136473, 13.0383015 ,\n",
       "        13.42523827, 13.81217503, 14.1991118 , 14.58604857, 14.97298534,\n",
       "        15.35992211, 15.74685888, 16.13379565, 16.52073241, 16.90766918,\n",
       "        17.29460595, 17.68154272, 18.06847949, 18.45541626, 18.84235303,\n",
       "        19.22928979]),\n",
       " <BarContainer object of 50 artists>)"
      ]
     },
     "execution_count": 17,
     "metadata": {},
     "output_type": "execute_result"
    },
    {
     "data": {
      "application/pdf": "[encoded data removed]",
      "image/png": "[encoded data removed]",
      "text/plain": [
       "<Figure size 432x288 with 1 Axes>"
      ]
     },
     "metadata": {
      "needs_background": "light"
     },
     "output_type": "display_data"
    }
   ],
   "source": [
    "plt.hist(e.calc_preds(ei_train), bins=50)"
   ]
  },
  {
   "cell_type": "code",
   "execution_count": 36,
   "metadata": {},
   "outputs": [
    {
     "data": {
      "application/pdf": "[encoded data removed]",
      "image/png": "[encoded data removed]",
      "text/plain": [
       "<Figure size 432x288 with 1 Axes>"
      ]
     },
     "metadata": {
      "needs_background": "light"
     },
     "output_type": "display_data"
    }
   ],
   "source": [
    "fig = plt.figure()\n",
    "ax = plt.axes()\n",
    "\n",
    "num_bins = 20\n",
    "ax.hist(e.calc_preds(ei_train), bins=np.arange(num_bins+2)-0.5)\n",
    "\n",
    "plt.xticks(np.arange(num_bins))\n",
    "\n",
    "plt.title(\"Histogram of Predicted Userscores (Approach 2)\")\n",
    "plt.xlabel(\"Userscore\")\n",
    "plt.ylabel(\"Number of Reviews\")\n",
    "\n",
    "plt.savefig(\"figures/em_2_histogram.pdf\")\n",
    "\n",
    "plt.show()"
   ]
  },
  {
   "cell_type": "code",
   "execution_count": 19,
   "metadata": {},
   "outputs": [],
   "source": [
    "preds_list = []\n",
    "e = Embeddings(embed_dim, n_users, n_games, n_range, seed)\n",
    "model = EmbeddingMatricesModel(e)\n",
    "\n",
    "for _ in range(8):\n",
    "    model.train(ei_train, alpha=0.1, n_range=n_range, cycles=1, constraint=True)\n",
    "    preds_list.append(e.calc_preds(ei_train))"
   ]
  },
  {
   "cell_type": "code",
   "execution_count": 26,
   "metadata": {},
   "outputs": [
    {
     "data": {
      "application/pdf": "[encoded data removed]",
      "image/png": "[encoded data removed]",
      "text/plain": [
       "<Figure size 1080x720 with 8 Axes>"
      ]
     },
     "metadata": {
      "needs_background": "light"
     },
     "output_type": "display_data"
    }
   ],
   "source": [
    "fig, axs = plt.subplots(2, 4, dpi=180)\n",
    "\n",
    "for i, ax in enumerate(axs.flat):\n",
    "    ax.hist(preds_list[i], bins=50)\n",
    "    ax.set_yticklabels([])\n",
    "    ax.set_xticklabels([])\n",
    "\n",
    "plt.show()"
   ]
  }
 ],
 "metadata": {
  "kernelspec": {
   "display_name": "Python 3",
   "language": "python",
   "name": "python3"
  },
  "language_info": {
   "codemirror_mode": {
    "name": "ipython",
    "version": 3
   },
   "file_extension": ".py",
   "mimetype": "text/x-python",
   "name": "python",
   "nbconvert_exporter": "python",
   "pygments_lexer": "ipython3",
   "version": "3.8.5"
  }
 },
 "nbformat": 4,
 "nbformat_minor": 4
}
