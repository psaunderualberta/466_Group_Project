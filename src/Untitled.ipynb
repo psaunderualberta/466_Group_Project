{
 "cells": [
  {
   "cell_type": "code",
   "execution_count": 32,
   "metadata": {},
   "outputs": [],
   "source": [
    "# Much of this comes from the site https://www.ethanrosenthal.com/2017/06/20/matrix-factorization-in-pytorch/\n",
    "# Accessed on March 7th, 2021\n",
    "\n",
    "import torch.nn.functional as F\n",
    "from torch import optim\n",
    "from tqdm import tqdm\n",
    "from torch import nn\n",
    "import pandas as pd\n",
    "import numpy as np\n",
    "import matplotlib.pyplot as plt\n",
    "%matplotlib notebook\n",
    "import torch\n",
    "import os\n",
    "\n",
    "from pathlib import Path"
   ]
  },
  {
   "cell_type": "code",
   "execution_count": 2,
   "metadata": {},
   "outputs": [],
   "source": [
    "#%%\n",
    "# If using colab\n",
    "# from google.colab import drive\n",
    "# drive.mount('/content/drive')\n",
    "# DRIVE_PATH = \"/content/drive/Shared drives/CMPUT466 Project\"\n",
    "\n",
    "# If using windows\n",
    "\n",
    "DRIVE_PATH = Path(\"G:/Shared drives/CMPUT466 Project\")\n",
    "DATA_FOLDER=DRIVE_PATH/\"src/data/\"\n",
    "train = pd.read_csv(DATA_FOLDER/\"user_data_train.csv\")\n",
    "validation = pd.read_csv(DATA_FOLDER/\"user_data_validation.csv\")"
   ]
  },
  {
   "cell_type": "code",
   "execution_count": 62,
   "metadata": {},
   "outputs": [],
   "source": [
    "def to_categorical(df, col):\n",
    "    keys = df[col].unique()\n",
    "    d = {key: i for i, key in enumerate(keys)}\n",
    "    return np.array([d[key] for key in df[col]])\n",
    "\n",
    "def get_sparse_matrix(df, usr_col, item_col, rating_col):\n",
    "    return df.groupby([usr_col, item_col])[rating_col].max().unstack().fillna(0).astype(int)\n",
    "\n",
    "train[\"Username\"] = to_categorical(train, \"Username\")\n",
    "train[\"Title\"] = to_categorical(train, \"Title\")\n",
    "validation[\"Username\"] = to_categorical(validation, \"Username\")\n",
    "validation[\"Title\"] = to_categorical(validation, \"Title\")\n",
    "\n",
    "ratings = get_sparse_matrix(train, \"Username\", \"Title\", \"Userscore\").to_numpy()\n",
    "val_ratings = get_sparse_matrix(validation, \"Username\", \"Title\", \"Userscore\").to_numpy()"
   ]
  },
  {
   "cell_type": "code",
   "execution_count": 141,
   "metadata": {},
   "outputs": [],
   "source": [
    "\"\"\" https://arxiv.org/pdf/1812.01478v1.pdf \"\"\"\n",
    "\n",
    "class MF(nn.Module):\n",
    "    def __init__(self, n_users, n_items, n_factors=40, min_rating=0, max_rating=10):\n",
    "        super().__init__()\n",
    "        self.min_rating = min_rating\n",
    "        self.max_rating = max_rating\n",
    "        self.user_embs = torch.nn.Embedding(n_users, n_factors, sparse=True).cuda()\n",
    "        self.item_embs = torch.nn.Embedding(n_items, n_factors, sparse=True).cuda()\n",
    "        self.user_embs.weight.data.uniform_(-1, 1)\n",
    "        self.item_embs.weight.data.uniform_(-1, 1)\n",
    "        self.fc1 = nn.Linear(n_factors*2, 128).cuda()\n",
    "        self.fc2 = nn.Linear(128, 128).cuda()\n",
    "        self.fc3 = nn.Linear(128, 1).cuda()\n",
    "\n",
    "    def forward(self, user, item):\n",
    "        x = torch.cat([self.user_embs(user), self.item_embs(item)], dim=1)\n",
    "        x = F.relu(self.fc1(x))\n",
    "        x = F.relu(self.fc2(x))\n",
    "        x = F.sigmoid(self.fc3(x))\n",
    "        return x * (self.max_rating - self.min_rating + 1) + self.min_rating - 0.5\n",
    "\n",
    "model = MF(*ratings.shape, n_factors=40)"
   ]
  },
  {
   "cell_type": "code",
   "execution_count": 142,
   "metadata": {
    "scrolled": false
   },
   "outputs": [
    {
     "name": "stderr",
     "output_type": "stream",
     "text": [
      "100%|██████████| 1919/1919 [00:02<00:00, 686.73it/s]\n",
      "100%|██████████| 1919/1919 [00:03<00:00, 606.01it/s]\n",
      "100%|██████████| 1919/1919 [00:03<00:00, 580.24it/s]\n"
     ]
    }
   ],
   "source": [
    "BATCH_SIZE=64\n",
    "EPOCHS = 3\n",
    "\n",
    "def SGD(model, data):\n",
    "    loss_func = torch.nn.MSELoss()\n",
    "    optimizer = torch.optim.SGD(model.parameters(), lr=1e-6)  # learning rate\n",
    "    rows, cols = ratings.nonzero()\n",
    "    data = torch.FloatTensor(data).cuda()\n",
    "    rows = torch.LongTensor(rows).cuda()\n",
    "    cols = torch.LongTensor(cols).cuda()\n",
    "    for epoch in range(EPOCHS):\n",
    "        p = np.random.permutation(len(rows))\n",
    "        rows, cols = rows[p], cols[p]\n",
    "        i = 0\n",
    "        for i in tqdm(range(0, len(rows), BATCH_SIZE)):\n",
    "            row = rows[i:i+BATCH_SIZE]\n",
    "            col = cols[i:i+BATCH_SIZE]\n",
    "            # Set gradients to zero\n",
    "            optimizer.zero_grad()\n",
    "\n",
    "            # Turn data into tensors\n",
    "            rating = data[row, col]\n",
    "\n",
    "            # Predict and calculate loss\n",
    "            prediction = model(row, col)\n",
    "            loss = loss_func(prediction, rating)\n",
    "\n",
    "            # Backpropagate\n",
    "            loss.backward()\n",
    "\n",
    "            # Update the parameters\n",
    "            optimizer.step()\n",
    "SGD(model, ratings)\n"
   ]
  },
  {
   "cell_type": "code",
   "execution_count": null,
   "metadata": {},
   "outputs": [],
   "source": [
    "def test(model, data, sample=1000):\n",
    "    with torch.no_grad():\n",
    "        rows, cols = data.nonzero()\n",
    "        data = torch.Tensor(data).cuda()\n",
    "        samples = np.random.choice(len(rows), sample)\n",
    "        rows = torch.LongTensor(rows[samples]).cuda()\n",
    "        cols = torch.LongTensor(cols[samples]).cuda()\n",
    "        mean = data[rows,cols].mean()\n",
    "        print(model(rows, cols).max(), model(rows, cols).min())\n",
    "        print(\"Data:\", data[rows, cols][:5])\n",
    "        print(\"Preds: \", model(rows, cols)[:5])\n",
    "        print(\"Baseline score:\", ((data[rows,cols] - mean)**2).sum() / len(rows))\n",
    "        print(\"Model score:\", ((data[rows,cols] - model(rows,cols))**2).sum() / len(rows))\n",
    "\n",
    "test(model, ratings)"
   ]
  },
  {
   "cell_type": "code",
   "execution_count": null,
   "metadata": {},
   "outputs": [],
   "source": []
  }
 ],
 "metadata": {
  "kernelspec": {
   "display_name": "Python 3",
   "language": "python",
   "name": "python3"
  },
  "language_info": {
   "codemirror_mode": {
    "name": "ipython",
    "version": 3
   },
   "file_extension": ".py",
   "mimetype": "text/x-python",
   "name": "python",
   "nbconvert_exporter": "python",
   "pygments_lexer": "ipython3",
   "version": "3.8.5"
  }
 },
 "nbformat": 4,
 "nbformat_minor": 4
}
