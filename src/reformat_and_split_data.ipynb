{
  "cells": [
    {
      "cell_type": "code",
      "metadata": {
        "tags": [],
        "cell_id": "00000-44003fd5-0014-45f7-9e0a-3e76f0181bd7",
        "deepnote_to_be_reexecuted": false,
        "source_hash": "3f7e218",
        "execution_millis": 1170,
        "execution_start": 1615321650653,
        "deepnote_cell_type": "code"
      },
      "source": [
        "import pandas as pd\n",
        "import numpy as np\n",
        "from sklearn.model_selection import train_test_split"
      ],
      "execution_count": 1,
      "outputs": []
    },
    {
      "cell_type": "code",
      "metadata": {
        "tags": [],
        "cell_id": "00001-5b7aeddf-3f2f-4e53-a669-1a163fb22d1f",
        "deepnote_to_be_reexecuted": false,
        "source_hash": "3ec8b443",
        "execution_millis": 279,
        "output_cleared": false,
        "execution_start": 1615321737830,
        "deepnote_cell_type": "code"
      },
      "source": [
        "metacritic_game_info = pd.read_csv('data/metacritic_game_info.csv', index_col=0)\n",
        "metacritic_game_info"
      ],
      "execution_count": 2,
      "outputs": [
        {
          "output_type": "execute_result",
          "data": {
            "text/plain": [
              "                                     Title  Year               Publisher  \\\n",
              "0     The Legend of Zelda: Ocarina of Time  1998                Nintendo   \n",
              "1                 Tony Hawk's Pro Skater 2  2000  NeversoftEntertainment   \n",
              "2                      Grand Theft Auto IV  2008           RockstarNorth   \n",
              "3                              SoulCalibur  1999                   Namco   \n",
              "4                      Grand Theft Auto IV  2008           RockstarNorth   \n",
              "...                                    ...   ...                     ...   \n",
              "4995                          Donut County  2018             BenEsposito   \n",
              "4996                MotorStorm: Apocalypse  2011        EvolutionStudios   \n",
              "4997                          The Last Guy  2008          SCEJapanStudio   \n",
              "4998         Valiant Hearts: The Great War  2014      UbisoftMontpellier   \n",
              "4999                         Mothergunship  2018             GripDigital   \n",
              "\n",
              "                                                  Genre      Platform  \\\n",
              "0                              Action Adventure;Fantasy    Nintendo64   \n",
              "1                      Sports;Alternative;Skateboarding   PlayStation   \n",
              "2             Action Adventure;Modern;Modern;Open-World  PlayStation3   \n",
              "3                                    Action;Fighting;3D     Dreamcast   \n",
              "4             Action Adventure;Modern;Modern;Open-World       Xbox360   \n",
              "...                                                 ...           ...   \n",
              "4995                           Action Adventure;General            PC   \n",
              "4996  Driving;Racing;Simulation;Rally / Offroad;Rall...  PlayStation3   \n",
              "4997             Action Adventure;Sci-Fi;Sci-Fi;General  PlayStation3   \n",
              "4998                 Platformer;2D;Action;Platformer;2D  PlayStation4   \n",
              "4999                                     Action;General       XboxOne   \n",
              "\n",
              "     Metascore Avg_Userscore             No_Players  \n",
              "0           99           9.1               1 Player  \n",
              "1           98           7.4                   1-2   \n",
              "2           98           7.5               1 Player  \n",
              "3           98           8.6                   1-2   \n",
              "4           98           7.9               1 Player  \n",
              "...        ...           ...                    ...  \n",
              "4995        77           8.1  No Online Multiplayer  \n",
              "4996        77           7.7              4  Online  \n",
              "4997        77           6.8               1 Player  \n",
              "4998        77           8.4          not specified  \n",
              "4999        77           7.2     Online Multiplayer  \n",
              "\n",
              "[5000 rows x 8 columns]"
            ],
            "text/html": "<div>\n<style scoped>\n    .dataframe tbody tr th:only-of-type {\n        vertical-align: middle;\n    }\n\n    .dataframe tbody tr th {\n        vertical-align: top;\n    }\n\n    .dataframe thead th {\n        text-align: right;\n    }\n</style>\n<table border=\"1\" class=\"dataframe\">\n  <thead>\n    <tr style=\"text-align: right;\">\n      <th></th>\n      <th>Title</th>\n      <th>Year</th>\n      <th>Publisher</th>\n      <th>Genre</th>\n      <th>Platform</th>\n      <th>Metascore</th>\n      <th>Avg_Userscore</th>\n      <th>No_Players</th>\n    </tr>\n  </thead>\n  <tbody>\n    <tr>\n      <th>0</th>\n      <td>The Legend of Zelda: Ocarina of Time</td>\n      <td>1998</td>\n      <td>Nintendo</td>\n      <td>Action Adventure;Fantasy</td>\n      <td>Nintendo64</td>\n      <td>99</td>\n      <td>9.1</td>\n      <td>1 Player</td>\n    </tr>\n    <tr>\n      <th>1</th>\n      <td>Tony Hawk's Pro Skater 2</td>\n      <td>2000</td>\n      <td>NeversoftEntertainment</td>\n      <td>Sports;Alternative;Skateboarding</td>\n      <td>PlayStation</td>\n      <td>98</td>\n      <td>7.4</td>\n      <td>1-2</td>\n    </tr>\n    <tr>\n      <th>2</th>\n      <td>Grand Theft Auto IV</td>\n      <td>2008</td>\n      <td>RockstarNorth</td>\n      <td>Action Adventure;Modern;Modern;Open-World</td>\n      <td>PlayStation3</td>\n      <td>98</td>\n      <td>7.5</td>\n      <td>1 Player</td>\n    </tr>\n    <tr>\n      <th>3</th>\n      <td>SoulCalibur</td>\n      <td>1999</td>\n      <td>Namco</td>\n      <td>Action;Fighting;3D</td>\n      <td>Dreamcast</td>\n      <td>98</td>\n      <td>8.6</td>\n      <td>1-2</td>\n    </tr>\n    <tr>\n      <th>4</th>\n      <td>Grand Theft Auto IV</td>\n      <td>2008</td>\n      <td>RockstarNorth</td>\n      <td>Action Adventure;Modern;Modern;Open-World</td>\n      <td>Xbox360</td>\n      <td>98</td>\n      <td>7.9</td>\n      <td>1 Player</td>\n    </tr>\n    <tr>\n      <th>...</th>\n      <td>...</td>\n      <td>...</td>\n      <td>...</td>\n      <td>...</td>\n      <td>...</td>\n      <td>...</td>\n      <td>...</td>\n      <td>...</td>\n    </tr>\n    <tr>\n      <th>4995</th>\n      <td>Donut County</td>\n      <td>2018</td>\n      <td>BenEsposito</td>\n      <td>Action Adventure;General</td>\n      <td>PC</td>\n      <td>77</td>\n      <td>8.1</td>\n      <td>No Online Multiplayer</td>\n    </tr>\n    <tr>\n      <th>4996</th>\n      <td>MotorStorm: Apocalypse</td>\n      <td>2011</td>\n      <td>EvolutionStudios</td>\n      <td>Driving;Racing;Simulation;Rally / Offroad;Rall...</td>\n      <td>PlayStation3</td>\n      <td>77</td>\n      <td>7.7</td>\n      <td>4  Online</td>\n    </tr>\n    <tr>\n      <th>4997</th>\n      <td>The Last Guy</td>\n      <td>2008</td>\n      <td>SCEJapanStudio</td>\n      <td>Action Adventure;Sci-Fi;Sci-Fi;General</td>\n      <td>PlayStation3</td>\n      <td>77</td>\n      <td>6.8</td>\n      <td>1 Player</td>\n    </tr>\n    <tr>\n      <th>4998</th>\n      <td>Valiant Hearts: The Great War</td>\n      <td>2014</td>\n      <td>UbisoftMontpellier</td>\n      <td>Platformer;2D;Action;Platformer;2D</td>\n      <td>PlayStation4</td>\n      <td>77</td>\n      <td>8.4</td>\n      <td>not specified</td>\n    </tr>\n    <tr>\n      <th>4999</th>\n      <td>Mothergunship</td>\n      <td>2018</td>\n      <td>GripDigital</td>\n      <td>Action;General</td>\n      <td>XboxOne</td>\n      <td>77</td>\n      <td>7.2</td>\n      <td>Online Multiplayer</td>\n    </tr>\n  </tbody>\n</table>\n<p>5000 rows × 8 columns</p>\n</div>"
          },
          "metadata": {},
          "execution_count": 2
        }
      ]
    },
    {
      "cell_type": "code",
      "metadata": {
        "tags": [],
        "cell_id": "00001-3e553c18-d711-44c0-baac-dfe3b054daf6",
        "deepnote_to_be_reexecuted": false,
        "source_hash": "bd14cef7",
        "execution_millis": 6283,
        "execution_start": 1615321668318,
        "deepnote_cell_type": "code"
      },
      "source": [
        "metacritic_game_user_comments = pd.read_csv('data/metacritic_game_user_comments.csv', index_col=0)\n",
        "metacritic_game_user_comments"
      ],
      "execution_count": 3,
      "outputs": [
        {
          "output_type": "execute_result",
          "data": {
            "text/plain": [
              "                                             Title    Platform  Userscore  \\\n",
              "0             The Legend of Zelda: Ocarina of Time  Nintendo64         10   \n",
              "1             The Legend of Zelda: Ocarina of Time  Nintendo64         10   \n",
              "2             The Legend of Zelda: Ocarina of Time  Nintendo64         10   \n",
              "3             The Legend of Zelda: Ocarina of Time  Nintendo64         10   \n",
              "4             The Legend of Zelda: Ocarina of Time  Nintendo64         10   \n",
              "...                                            ...         ...        ...   \n",
              "283978  Etrian Odyssey Untold: The Millennium Girl         3DS          7   \n",
              "283979  Etrian Odyssey Untold: The Millennium Girl         3DS          0   \n",
              "283980  Etrian Odyssey Untold: The Millennium Girl         3DS          9   \n",
              "283981  Etrian Odyssey Untold: The Millennium Girl         3DS          8   \n",
              "283982  Etrian Odyssey Untold: The Millennium Girl         3DS          9   \n",
              "\n",
              "                                                  Comment       Username  \n",
              "0       Everything in OoT is so near at perfection, it...     SirCaestus  \n",
              "1       I won't bore you with what everyone is already...       Kaistlin  \n",
              "2       Anyone who gives the masterpiece below a 7 or ...         Jacody  \n",
              "3       I'm one of those people who think that this is...     doodlerman  \n",
              "4        This game is the highest rated game on Metacr...        StevenA  \n",
              "...                                                   ...            ...  \n",
              "283978  Extremely similar to EO:4, which obviously isn...  RileyWRussell  \n",
              "283979  Typical overrated Atlus trash. A game i should...      TemplarGR  \n",
              "283980  While I find the story mode to have annoying c...        midipon  \n",
              "283981  Pretty good, but it certainly lacks the visual...         night4  \n",
              "283982  As my first game from the \"Etrian series\" i ha...        Balorer  \n",
              "\n",
              "[283983 rows x 5 columns]"
            ],
            "text/html": "<div>\n<style scoped>\n    .dataframe tbody tr th:only-of-type {\n        vertical-align: middle;\n    }\n\n    .dataframe tbody tr th {\n        vertical-align: top;\n    }\n\n    .dataframe thead th {\n        text-align: right;\n    }\n</style>\n<table border=\"1\" class=\"dataframe\">\n  <thead>\n    <tr style=\"text-align: right;\">\n      <th></th>\n      <th>Title</th>\n      <th>Platform</th>\n      <th>Userscore</th>\n      <th>Comment</th>\n      <th>Username</th>\n    </tr>\n  </thead>\n  <tbody>\n    <tr>\n      <th>0</th>\n      <td>The Legend of Zelda: Ocarina of Time</td>\n      <td>Nintendo64</td>\n      <td>10</td>\n      <td>Everything in OoT is so near at perfection, it...</td>\n      <td>SirCaestus</td>\n    </tr>\n    <tr>\n      <th>1</th>\n      <td>The Legend of Zelda: Ocarina of Time</td>\n      <td>Nintendo64</td>\n      <td>10</td>\n      <td>I won't bore you with what everyone is already...</td>\n      <td>Kaistlin</td>\n    </tr>\n    <tr>\n      <th>2</th>\n      <td>The Legend of Zelda: Ocarina of Time</td>\n      <td>Nintendo64</td>\n      <td>10</td>\n      <td>Anyone who gives the masterpiece below a 7 or ...</td>\n      <td>Jacody</td>\n    </tr>\n    <tr>\n      <th>3</th>\n      <td>The Legend of Zelda: Ocarina of Time</td>\n      <td>Nintendo64</td>\n      <td>10</td>\n      <td>I'm one of those people who think that this is...</td>\n      <td>doodlerman</td>\n    </tr>\n    <tr>\n      <th>4</th>\n      <td>The Legend of Zelda: Ocarina of Time</td>\n      <td>Nintendo64</td>\n      <td>10</td>\n      <td>This game is the highest rated game on Metacr...</td>\n      <td>StevenA</td>\n    </tr>\n    <tr>\n      <th>...</th>\n      <td>...</td>\n      <td>...</td>\n      <td>...</td>\n      <td>...</td>\n      <td>...</td>\n    </tr>\n    <tr>\n      <th>283978</th>\n      <td>Etrian Odyssey Untold: The Millennium Girl</td>\n      <td>3DS</td>\n      <td>7</td>\n      <td>Extremely similar to EO:4, which obviously isn...</td>\n      <td>RileyWRussell</td>\n    </tr>\n    <tr>\n      <th>283979</th>\n      <td>Etrian Odyssey Untold: The Millennium Girl</td>\n      <td>3DS</td>\n      <td>0</td>\n      <td>Typical overrated Atlus trash. A game i should...</td>\n      <td>TemplarGR</td>\n    </tr>\n    <tr>\n      <th>283980</th>\n      <td>Etrian Odyssey Untold: The Millennium Girl</td>\n      <td>3DS</td>\n      <td>9</td>\n      <td>While I find the story mode to have annoying c...</td>\n      <td>midipon</td>\n    </tr>\n    <tr>\n      <th>283981</th>\n      <td>Etrian Odyssey Untold: The Millennium Girl</td>\n      <td>3DS</td>\n      <td>8</td>\n      <td>Pretty good, but it certainly lacks the visual...</td>\n      <td>night4</td>\n    </tr>\n    <tr>\n      <th>283982</th>\n      <td>Etrian Odyssey Untold: The Millennium Girl</td>\n      <td>3DS</td>\n      <td>9</td>\n      <td>As my first game from the \"Etrian series\" i ha...</td>\n      <td>Balorer</td>\n    </tr>\n  </tbody>\n</table>\n<p>283983 rows × 5 columns</p>\n</div>"
          },
          "metadata": {},
          "execution_count": 3
        }
      ]
    },
    {
      "cell_type": "code",
      "metadata": {
        "tags": [],
        "cell_id": "00006-47e84d6d-eace-4edc-9ff8-11d3d6817611",
        "deepnote_to_be_reexecuted": false,
        "source_hash": "baeb00b1",
        "execution_millis": 451092,
        "execution_start": 1615176618576,
        "deepnote_cell_type": "code"
      },
      "source": [
        "'''\n",
        "Map title + platform to an index into the game data\n",
        "'''\n",
        "game_ids = metacritic_game_user_comments.apply(lambda r: metacritic_game_info[(metacritic_game_info['Title'] == r['Title']) & (metacritic_game_info['Platform'] == r['Platform'])].index[0], axis=1)"
      ],
      "execution_count": 4,
      "outputs": []
    },
    {
      "cell_type": "code",
      "metadata": {
        "tags": [],
        "cell_id": "00010-e10a780f-dd5c-4053-8fa6-1edb5a788468",
        "deepnote_to_be_reexecuted": false,
        "source_hash": "802940b",
        "execution_millis": 75,
        "execution_start": 1615177607482,
        "deepnote_cell_type": "code"
      },
      "source": [
        "'''\n",
        "Replace title + platform columns with an index into the game data\n",
        "'''\n",
        "metacritic_game_user_comments = metacritic_game_user_comments.drop(columns=['Title','Platform'])\n",
        "metacritic_game_user_comments['Game_ID'] = game_ids\n",
        "metacritic_game_user_comments"
      ],
      "execution_count": 5,
      "outputs": [
        {
          "output_type": "execute_result",
          "data": {
            "text/plain": [
              "        Userscore                                            Comment  \\\n",
              "0              10  Everything in OoT is so near at perfection, it...   \n",
              "1              10  I won't bore you with what everyone is already...   \n",
              "2              10  Anyone who gives the masterpiece below a 7 or ...   \n",
              "3              10  I'm one of those people who think that this is...   \n",
              "4              10   This game is the highest rated game on Metacr...   \n",
              "...           ...                                                ...   \n",
              "283978          7  Extremely similar to EO:4, which obviously isn...   \n",
              "283979          0  Typical overrated Atlus trash. A game i should...   \n",
              "283980          9  While I find the story mode to have annoying c...   \n",
              "283981          8  Pretty good, but it certainly lacks the visual...   \n",
              "283982          9  As my first game from the \"Etrian series\" i ha...   \n",
              "\n",
              "             Username  Game_ID  \n",
              "0          SirCaestus        0  \n",
              "1            Kaistlin        0  \n",
              "2              Jacody        0  \n",
              "3          doodlerman        0  \n",
              "4             StevenA        0  \n",
              "...               ...      ...  \n",
              "283978  RileyWRussell     3419  \n",
              "283979      TemplarGR     3419  \n",
              "283980        midipon     3419  \n",
              "283981         night4     3419  \n",
              "283982        Balorer     3419  \n",
              "\n",
              "[283983 rows x 4 columns]"
            ],
            "text/html": "<div>\n<style scoped>\n    .dataframe tbody tr th:only-of-type {\n        vertical-align: middle;\n    }\n\n    .dataframe tbody tr th {\n        vertical-align: top;\n    }\n\n    .dataframe thead th {\n        text-align: right;\n    }\n</style>\n<table border=\"1\" class=\"dataframe\">\n  <thead>\n    <tr style=\"text-align: right;\">\n      <th></th>\n      <th>Userscore</th>\n      <th>Comment</th>\n      <th>Username</th>\n      <th>Game_ID</th>\n    </tr>\n  </thead>\n  <tbody>\n    <tr>\n      <th>0</th>\n      <td>10</td>\n      <td>Everything in OoT is so near at perfection, it...</td>\n      <td>SirCaestus</td>\n      <td>0</td>\n    </tr>\n    <tr>\n      <th>1</th>\n      <td>10</td>\n      <td>I won't bore you with what everyone is already...</td>\n      <td>Kaistlin</td>\n      <td>0</td>\n    </tr>\n    <tr>\n      <th>2</th>\n      <td>10</td>\n      <td>Anyone who gives the masterpiece below a 7 or ...</td>\n      <td>Jacody</td>\n      <td>0</td>\n    </tr>\n    <tr>\n      <th>3</th>\n      <td>10</td>\n      <td>I'm one of those people who think that this is...</td>\n      <td>doodlerman</td>\n      <td>0</td>\n    </tr>\n    <tr>\n      <th>4</th>\n      <td>10</td>\n      <td>This game is the highest rated game on Metacr...</td>\n      <td>StevenA</td>\n      <td>0</td>\n    </tr>\n    <tr>\n      <th>...</th>\n      <td>...</td>\n      <td>...</td>\n      <td>...</td>\n      <td>...</td>\n    </tr>\n    <tr>\n      <th>283978</th>\n      <td>7</td>\n      <td>Extremely similar to EO:4, which obviously isn...</td>\n      <td>RileyWRussell</td>\n      <td>3419</td>\n    </tr>\n    <tr>\n      <th>283979</th>\n      <td>0</td>\n      <td>Typical overrated Atlus trash. A game i should...</td>\n      <td>TemplarGR</td>\n      <td>3419</td>\n    </tr>\n    <tr>\n      <th>283980</th>\n      <td>9</td>\n      <td>While I find the story mode to have annoying c...</td>\n      <td>midipon</td>\n      <td>3419</td>\n    </tr>\n    <tr>\n      <th>283981</th>\n      <td>8</td>\n      <td>Pretty good, but it certainly lacks the visual...</td>\n      <td>night4</td>\n      <td>3419</td>\n    </tr>\n    <tr>\n      <th>283982</th>\n      <td>9</td>\n      <td>As my first game from the \"Etrian series\" i ha...</td>\n      <td>Balorer</td>\n      <td>3419</td>\n    </tr>\n  </tbody>\n</table>\n<p>283983 rows × 4 columns</p>\n</div>"
          },
          "metadata": {},
          "execution_count": 5
        }
      ]
    },
    {
      "cell_type": "code",
      "metadata": {
        "tags": [],
        "cell_id": "00007-3036852c-376f-493f-9a5c-c6e3e5d6db20",
        "deepnote_to_be_reexecuted": false,
        "source_hash": "2032f1c6",
        "execution_millis": 6855,
        "execution_start": 1615177724223,
        "deepnote_cell_type": "code"
      },
      "source": [
        "'''\n",
        "Save the data\n",
        "'''\n",
        "metacritic_game_info.to_csv('data/game_info.csv')\n",
        "metacritic_game_user_comments.to_csv('data/user_data.csv')\n",
        "metacritic_game_user_comments.drop(columns=['Comment']).to_csv('data/user_data_no_comments.csv')"
      ],
      "execution_count": 6,
      "outputs": []
    },
    {
      "cell_type": "code",
      "metadata": {
        "tags": [],
        "cell_id": "00006-c914179f-6257-4224-9de0-726e2125b3ff",
        "deepnote_to_be_reexecuted": false,
        "source_hash": "4c8b5d23",
        "execution_millis": 26008,
        "execution_start": 1615321792743,
        "deepnote_cell_type": "code"
      },
      "source": [
        "# Make splits\n",
        "user_data = pd.read_csv('data/user_data.csv')\n",
        "\n",
        "# Remove anonymous users\n",
        "user_data = user_data[user_data[\"Username\"] != \"[Anonymous]\"]\n",
        "user_data = user_data[user_data[\"Username\"] != \"AnonymousMC\"]\n",
        "\n",
        "user_groups = user_data.groupby('Username')\n",
        "# Remove users with less than 3 reviews\n",
        "user_groups = user_groups.filter(lambda x: len(x) > 2).groupby('Username')\n",
        "\n",
        "# 70 - 10 - 20 Split\n",
        "train_validation_groups, test_groups = train_test_split(\n",
        "    list(user_groups), \n",
        "    train_size=.8,\n",
        "    random_state=314\n",
        ")\n",
        "train_groups, validation_groups = train_test_split(\n",
        "    train_validation_groups, \n",
        "    train_size=.875,\n",
        "    random_state=314159\n",
        ")\n",
        "\n",
        "train_set = pd.concat([x[1] for x in train_groups])\n",
        "test_set = pd.concat([x[1] for x in test_groups])\n",
        "validation_set = pd.concat([x[1] for x in validation_groups])\n",
        "\n",
        "train_count = len(train_set)\n",
        "test_count = len(test_set)\n",
        "validation_count = len(validation_set)\n",
        "total_count = train_count + test_count + validation_count\n",
        "print(f\"Train: {train_count} ({train_count/total_count})\")\n",
        "print(f\"Test: {test_count} ({test_count/total_count})\")\n",
        "print(f\"Validation: {validation_count} ({validation_count/total_count})\")\n",
        "\n",
        "# Save train-test-validation data\n",
        "train_set.to_csv('data/user_data_train.csv', index=False)\n",
        "test_set.to_csv('data/user_data_test.csv', index=False)\n",
        "validation_set.to_csv('data/user_data_validation.csv', index=False)\n",
        "\n",
        "# Save train-test-validation data with no comments (for upload to GitHub)\n",
        "train_set.drop(columns=['Comment']).to_csv('data/user_data_train_no_comments.csv', index=False)\n",
        "test_set.drop(columns=['Comment']).to_csv('data/user_data_test_no_comments.csv', index=False)\n",
        "validation_set.drop(columns=['Comment']).to_csv('data/user_data_validation_no_comments.csv', index=False)"
      ],
      "execution_count": 7,
      "outputs": [
        {
          "output_type": "stream",
          "name": "stdout",
          "text": [
            "Train: 105858 (0.696447956209662)\nTest: 31221 (0.20540536984282584)\nValidation: 14918 (0.09814667394751213)\n"
          ]
        }
      ]
    }
  ],
  "nbformat": 4,
  "nbformat_minor": 2,
  "metadata": {
    "orig_nbformat": 2,
    "deepnote_notebook_id": "e120938d-60b3-4ccf-872b-481ec14568e3",
    "deepnote": {},
    "deepnote_execution_queue": [],
    "kernelspec": {
      "name": "python385jvsc74a57bd0066abe2ce4d7e924fa29b1bc44c871156ee10f281f3a85f9639772cbbc29f11b",
      "display_name": "Python 3.8.5 64-bit ('base': conda)"
    }
  }
}