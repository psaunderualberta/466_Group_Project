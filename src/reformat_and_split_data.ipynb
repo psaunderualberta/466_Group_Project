{
  "cells": [
    {
      "cell_type": "code",
      "metadata": {
        "tags": [],
        "cell_id": "00000-44003fd5-0014-45f7-9e0a-3e76f0181bd7",
        "deepnote_to_be_reexecuted": false,
        "source_hash": "3f7e218",
        "execution_millis": 1170,
        "execution_start": 1615321650653,
        "deepnote_cell_type": "code"
      },
      "source": "import pandas as pd\nimport numpy as np\nfrom sklearn.model_selection import train_test_split",
      "execution_count": 1,
      "outputs": []
    },
    {
      "cell_type": "code",
      "metadata": {
        "tags": [],
        "cell_id": "00001-5b7aeddf-3f2f-4e53-a669-1a163fb22d1f",
        "deepnote_to_be_reexecuted": false,
        "source_hash": "3ec8b443",
        "execution_millis": 279,
        "output_cleared": false,
        "execution_start": 1615321737830,
        "deepnote_cell_type": "code"
      },
      "source": "metacritic_game_info = pd.read_csv('data/metacritic_game_info.csv', index_col=0)\nmetacritic_game_info",
      "execution_count": 6,
      "outputs": [
        {
          "output_type": "execute_result",
          "execution_count": 6,
          "data": {
            "application/vnd.deepnote.dataframe.v2+json": {
              "row_count": 5000,
              "column_count": 8,
              "columns": [
                {
                  "name": "Title",
                  "dtype": "object",
                  "stats": {
                    "unique_count": 3438,
                    "nan_count": 0,
                    "categories": [
                      {
                        "name": "Madden NFL 07",
                        "count": 7
                      },
                      {
                        "name": "Tony Hawk's Pro Skater 3",
                        "count": 6
                      },
                      {
                        "name": "3436 others",
                        "count": 4987
                      }
                    ]
                  }
                },
                {
                  "name": "Year",
                  "dtype": "object",
                  "stats": {
                    "unique_count": 25,
                    "nan_count": 0,
                    "categories": [
                      {
                        "name": "2017",
                        "count": 363
                      },
                      {
                        "name": "2016",
                        "count": 322
                      },
                      {
                        "name": "23 others",
                        "count": 4315
                      }
                    ]
                  }
                },
                {
                  "name": "Publisher",
                  "dtype": "object",
                  "stats": {
                    "unique_count": 1238,
                    "nan_count": 0,
                    "categories": [
                      {
                        "name": "Capcom",
                        "count": 131
                      },
                      {
                        "name": "EASports",
                        "count": 130
                      },
                      {
                        "name": "1236 others",
                        "count": 4739
                      }
                    ]
                  }
                },
                {
                  "name": "Genre",
                  "dtype": "object",
                  "stats": {
                    "unique_count": 927,
                    "nan_count": 0,
                    "categories": [
                      {
                        "name": "Action;Platformer;2D",
                        "count": 142
                      },
                      {
                        "name": "Action;Platformer;Platformer;2D;2D",
                        "count": 110
                      },
                      {
                        "name": "925 others",
                        "count": 4748
                      }
                    ]
                  }
                },
                {
                  "name": "Platform",
                  "dtype": "object",
                  "stats": {
                    "unique_count": 20,
                    "nan_count": 0,
                    "categories": [
                      {
                        "name": "PC",
                        "count": 1381
                      },
                      {
                        "name": "Xbox360",
                        "count": 516
                      },
                      {
                        "name": "18 others",
                        "count": 3103
                      }
                    ]
                  }
                },
                {
                  "name": "Metascore",
                  "dtype": "object",
                  "stats": {
                    "unique_count": 24,
                    "nan_count": 0,
                    "categories": [
                      {
                        "name": "80",
                        "count": 530
                      },
                      {
                        "name": "78",
                        "count": 511
                      },
                      {
                        "name": "22 others",
                        "count": 3959
                      }
                    ]
                  }
                },
                {
                  "name": "Avg_Userscore",
                  "dtype": "object",
                  "stats": {
                    "unique_count": 70,
                    "nan_count": 0,
                    "categories": [
                      {
                        "name": "8.2",
                        "count": 286
                      },
                      {
                        "name": "8.3",
                        "count": 279
                      },
                      {
                        "name": "68 others",
                        "count": 4435
                      }
                    ]
                  }
                },
                {
                  "name": "No_Players",
                  "dtype": "object",
                  "stats": {
                    "unique_count": 52,
                    "nan_count": 7,
                    "categories": [
                      {
                        "name": "not specified",
                        "count": 1550
                      },
                      {
                        "name": "51 others",
                        "count": 3443
                      },
                      {
                        "name": "Missing",
                        "count": 7
                      }
                    ]
                  }
                },
                {
                  "name": "_deepnote_index_column",
                  "dtype": "int64"
                }
              ],
              "rows_top": [
                {
                  "Title": "The Legend of Zelda: Ocarina of Time",
                  "Year": "1998",
                  "Publisher": "Nintendo",
                  "Genre": "Action Adventure;Fantasy",
                  "Platform": "Nintendo64",
                  "Metascore": "99",
                  "Avg_Userscore": "9.1",
                  "No_Players": "1 Player",
                  "_deepnote_index_column": 0
                },
                {
                  "Title": "Tony Hawk's Pro Skater 2",
                  "Year": "2000",
                  "Publisher": "NeversoftEntertainment",
                  "Genre": "Sports;Alternative;Skateboarding",
                  "Platform": "PlayStation",
                  "Metascore": "98",
                  "Avg_Userscore": "7.4",
                  "No_Players": "1-2 ",
                  "_deepnote_index_column": 1
                },
                {
                  "Title": "Grand Theft Auto IV",
                  "Year": "2008",
                  "Publisher": "RockstarNorth",
                  "Genre": "Action Adventure;Modern;Modern;Open-World",
                  "Platform": "PlayStation3",
                  "Metascore": "98",
                  "Avg_Userscore": "7.5",
                  "No_Players": "1 Player",
                  "_deepnote_index_column": 2
                },
                {
                  "Title": "SoulCalibur",
                  "Year": "1999",
                  "Publisher": "Namco",
                  "Genre": "Action;Fighting;3D",
                  "Platform": "Dreamcast",
                  "Metascore": "98",
                  "Avg_Userscore": "8.6",
                  "No_Players": "1-2 ",
                  "_deepnote_index_column": 3
                },
                {
                  "Title": "Grand Theft Auto IV",
                  "Year": "2008",
                  "Publisher": "RockstarNorth",
                  "Genre": "Action Adventure;Modern;Modern;Open-World",
                  "Platform": "Xbox360",
                  "Metascore": "98",
                  "Avg_Userscore": "7.9",
                  "No_Players": "1 Player",
                  "_deepnote_index_column": 4
                },
                {
                  "Title": "Super Mario Galaxy",
                  "Year": "2007",
                  "Publisher": "Nintendo",
                  "Genre": "Action;Platformer;Platformer;3D;3D",
                  "Platform": "Wii",
                  "Metascore": "97",
                  "Avg_Userscore": "9.0",
                  "No_Players": "No Online Multiplayer",
                  "_deepnote_index_column": 5
                },
                {
                  "Title": "Super Mario Galaxy 2",
                  "Year": "2010",
                  "Publisher": "NintendoEADTokyo",
                  "Genre": "Action;Platformer;Platformer;3D;3D",
                  "Platform": "Wii",
                  "Metascore": "97",
                  "Avg_Userscore": "9.1",
                  "No_Players": "No Online Multiplayer",
                  "_deepnote_index_column": 6
                },
                {
                  "Title": "Grand Theft Auto V",
                  "Year": "2014",
                  "Publisher": "RockstarNorth",
                  "Genre": "Action Adventure;Modern;Open-World",
                  "Platform": "XboxOne",
                  "Metascore": "97",
                  "Avg_Userscore": "7.8",
                  "No_Players": "Up to 30 ",
                  "_deepnote_index_column": 7
                },
                {
                  "Title": "Grand Theft Auto V",
                  "Year": "2013",
                  "Publisher": "RockstarNorth",
                  "Genre": "Modern;Action Adventure;Modern;Open-World",
                  "Platform": "PlayStation3",
                  "Metascore": "97",
                  "Avg_Userscore": "8.3",
                  "No_Players": "Up to 16 ",
                  "_deepnote_index_column": 8
                },
                {
                  "Title": "Grand Theft Auto V",
                  "Year": "2013",
                  "Publisher": "RockstarNorth",
                  "Genre": "Modern;Action Adventure;Modern;Open-World",
                  "Platform": "Xbox360",
                  "Metascore": "97",
                  "Avg_Userscore": "8.3",
                  "No_Players": "Up to 16 ",
                  "_deepnote_index_column": 9
                },
                {
                  "Title": "Tony Hawk's Pro Skater 2",
                  "Year": "2000",
                  "Publisher": "Treyarch",
                  "Genre": "Sports;Alternative;Skateboarding",
                  "Platform": "Dreamcast",
                  "Metascore": "97",
                  "Avg_Userscore": "6.2",
                  "No_Players": "not specified",
                  "_deepnote_index_column": 10
                },
                {
                  "Title": "The Legend of Zelda: Breath of the Wild",
                  "Year": "2017",
                  "Publisher": "Nintendo",
                  "Genre": "Action Adventure;Open-World",
                  "Platform": "Switch",
                  "Metascore": "97",
                  "Avg_Userscore": "8.5",
                  "No_Players": "No Online Multiplayer",
                  "_deepnote_index_column": 11
                },
                {
                  "Title": "Tony Hawk's Pro Skater 3",
                  "Year": "2001",
                  "Publisher": "NeversoftEntertainment",
                  "Genre": "Sports;Alternative;Skateboarding",
                  "Platform": "PlayStation2",
                  "Metascore": "97",
                  "Avg_Userscore": "7.4",
                  "No_Players": "1-2 ",
                  "_deepnote_index_column": 12
                },
                {
                  "Title": "Perfect Dark",
                  "Year": "2000",
                  "Publisher": "RareLtd.",
                  "Genre": "Action;Shooter;First-Person;Sci-Fi",
                  "Platform": "Nintendo64",
                  "Metascore": "97",
                  "Avg_Userscore": "8.9",
                  "No_Players": "not specified",
                  "_deepnote_index_column": 13
                },
                {
                  "Title": "Grand Theft Auto V",
                  "Year": "2014",
                  "Publisher": "RockstarNorth",
                  "Genre": "Action Adventure;Modern;Open-World",
                  "Platform": "PlayStation4",
                  "Metascore": "97",
                  "Avg_Userscore": "8.3",
                  "No_Players": "Up to 30 ",
                  "_deepnote_index_column": 14
                },
                {
                  "Title": "Metroid Prime",
                  "Year": "2002",
                  "Publisher": "RetroStudios",
                  "Genre": "Action;Shooter;First-Person;Sci-Fi",
                  "Platform": "GameCube",
                  "Metascore": "97",
                  "Avg_Userscore": "9.2",
                  "No_Players": "1 Player",
                  "_deepnote_index_column": 15
                },
                {
                  "Title": "Grand Theft Auto III",
                  "Year": "2001",
                  "Publisher": "DMADesign",
                  "Genre": "Action Adventure;Modern",
                  "Platform": "PlayStation2",
                  "Metascore": "97",
                  "Avg_Userscore": "8.5",
                  "No_Players": "1 Player",
                  "_deepnote_index_column": 16
                },
                {
                  "Title": "Super Mario Odyssey",
                  "Year": "2017",
                  "Publisher": "Nintendo",
                  "Genre": "Action;Platformer;3D",
                  "Platform": "Switch",
                  "Metascore": "97",
                  "Avg_Userscore": "8.9",
                  "No_Players": "No Online Multiplayer",
                  "_deepnote_index_column": 17
                },
                {
                  "Title": "Halo: Combat Evolved",
                  "Year": "2001",
                  "Publisher": "BungieSoftware",
                  "Genre": "Action;Shooter;First-Person;Sci-Fi",
                  "Platform": "Xbox",
                  "Metascore": "97",
                  "Avg_Userscore": "8.6",
                  "No_Players": "1-4 ",
                  "_deepnote_index_column": 18
                },
                {
                  "Title": "NFL 2K1",
                  "Year": "2000",
                  "Publisher": "VisualConcepts",
                  "Genre": "Sports;Traditional;Football;Sim",
                  "Platform": "Dreamcast",
                  "Metascore": "97",
                  "Avg_Userscore": "6.4",
                  "No_Players": "not specified",
                  "_deepnote_index_column": 19
                },
                {
                  "Title": "Half-Life 2",
                  "Year": "2004",
                  "Publisher": "ValveSoftware",
                  "Genre": "Action;Shooter;Shooter;First-Person;Sci-Fi;Sci-Fi;Arcade",
                  "Platform": "PC",
                  "Metascore": "96",
                  "Avg_Userscore": "9.1",
                  "No_Players": "No Online Multiplayer",
                  "_deepnote_index_column": 20
                },
                {
                  "Title": "Grand Theft Auto V",
                  "Year": "2015",
                  "Publisher": "RockstarNorth",
                  "Genre": "Modern;Action Adventure;Open-World",
                  "Platform": "PC",
                  "Metascore": "96",
                  "Avg_Userscore": "7.7",
                  "No_Players": "Up to 32 ",
                  "_deepnote_index_column": 21
                },
                {
                  "Title": "The Legend of Zelda: Breath of the Wild",
                  "Year": "2017",
                  "Publisher": "Nintendo",
                  "Genre": "Fantasy;Fantasy;Action Adventure;Open-World",
                  "Platform": "WiiU",
                  "Metascore": "96",
                  "Avg_Userscore": "8.2",
                  "No_Players": "No Online Multiplayer",
                  "_deepnote_index_column": 22
                },
                {
                  "Title": "BioShock",
                  "Year": "2007",
                  "Publisher": "IrrationalGames,2KMarin",
                  "Genre": "Action;Shooter;Shooter;First-Person;Sci-Fi;Sci-Fi;Arcade",
                  "Platform": "Xbox360",
                  "Metascore": "96",
                  "Avg_Userscore": "8.9",
                  "No_Players": "No Online Multiplayer",
                  "_deepnote_index_column": 23
                },
                {
                  "Title": "GoldenEye 007",
                  "Year": "1997",
                  "Publisher": "RareLtd.",
                  "Genre": "Action;Shooter;First-Person;Modern",
                  "Platform": "Nintendo64",
                  "Metascore": "96",
                  "Avg_Userscore": "9.1",
                  "No_Players": "1-4 ",
                  "_deepnote_index_column": 24
                },
                {
                  "Title": "Uncharted 2: Among Thieves",
                  "Year": "2009",
                  "Publisher": "NaughtyDog",
                  "Genre": "Action Adventure;Modern;Modern;Linear",
                  "Platform": "PlayStation3",
                  "Metascore": "96",
                  "Avg_Userscore": "8.9",
                  "No_Players": "No Online Multiplayer",
                  "_deepnote_index_column": 25
                },
                {
                  "Title": "Resident Evil 4",
                  "Year": "2005",
                  "Publisher": "Capcom",
                  "Genre": "Action Adventure;Horror",
                  "Platform": "GameCube",
                  "Metascore": "96",
                  "Avg_Userscore": "9.3",
                  "No_Players": "1 Player",
                  "_deepnote_index_column": 26
                },
                {
                  "Title": "The Orange Box",
                  "Year": "2007",
                  "Publisher": "ValveSoftware",
                  "Genre": "Action;Miscellaneous;Shooter;Compilation;First-Person;Sci-Fi",
                  "Platform": "Xbox360",
                  "Metascore": "96",
                  "Avg_Userscore": "8.8",
                  "No_Players": "16  Online",
                  "_deepnote_index_column": 27
                },
                {
                  "Title": "The Orange Box",
                  "Year": "2007",
                  "Publisher": "ValveSoftware",
                  "Genre": "Action;Miscellaneous;Shooter;Compilation;First-Person;Sci-Fi",
                  "Platform": "PC",
                  "Metascore": "96",
                  "Avg_Userscore": "9.2",
                  "No_Players": "16  Online",
                  "_deepnote_index_column": 28
                },
                {
                  "Title": "Batman: Arkham City",
                  "Year": "2011",
                  "Publisher": "RocksteadyStudios",
                  "Genre": "Action Adventure;Fantasy;Fantasy;Open-World",
                  "Platform": "PlayStation3",
                  "Metascore": "96",
                  "Avg_Userscore": "8.7",
                  "No_Players": "No Online Multiplayer",
                  "_deepnote_index_column": 29
                },
                {
                  "Title": "Tekken 3",
                  "Year": "1998",
                  "Publisher": "Namco",
                  "Genre": "Action;Fighting;3D",
                  "Platform": "PlayStation",
                  "Metascore": "96",
                  "Avg_Userscore": "9.1",
                  "No_Players": "1-2 ",
                  "_deepnote_index_column": 30
                },
                {
                  "Title": "Mass Effect 2",
                  "Year": "2010",
                  "Publisher": "BioWare",
                  "Genre": "Role-Playing;Action RPG;Action RPG",
                  "Platform": "Xbox360",
                  "Metascore": "96",
                  "Avg_Userscore": "8.9",
                  "No_Players": "No Online Multiplayer",
                  "_deepnote_index_column": 31
                },
                {
                  "Title": "The Legend of Zelda: Twilight Princess",
                  "Year": "2006",
                  "Publisher": "Nintendo",
                  "Genre": "Action Adventure;Fantasy",
                  "Platform": "GameCube",
                  "Metascore": "96",
                  "Avg_Userscore": "8.9",
                  "No_Players": "1 Player",
                  "_deepnote_index_column": 32
                },
                {
                  "Title": "The Elder Scrolls V: Skyrim",
                  "Year": "2011",
                  "Publisher": "BethesdaGameStudios",
                  "Genre": "Role-Playing;First-Person;First-Person;Western-Style",
                  "Platform": "Xbox360",
                  "Metascore": "96",
                  "Avg_Userscore": "8.5",
                  "No_Players": "No Online Multiplayer",
                  "_deepnote_index_column": 33
                },
                {
                  "Title": "Half-Life",
                  "Year": "1998",
                  "Publisher": "ValveSoftware",
                  "Genre": "Action;Shooter;Shooter;First-Person;Sci-Fi;Sci-Fi;Arcade",
                  "Platform": "PC",
                  "Metascore": "96",
                  "Avg_Userscore": "9.1",
                  "No_Players": "1-32 ",
                  "_deepnote_index_column": 34
                },
                {
                  "Title": "Resident Evil 4",
                  "Year": "2005",
                  "Publisher": "Capcom",
                  "Genre": "Action Adventure;Horror",
                  "Platform": "PlayStation2",
                  "Metascore": "96",
                  "Avg_Userscore": "8.9",
                  "No_Players": "1 Player",
                  "_deepnote_index_column": 35
                },
                {
                  "Title": "The Legend of Zelda: The Wind Waker",
                  "Year": "2003",
                  "Publisher": "Nintendo",
                  "Genre": "Action Adventure;Fantasy",
                  "Platform": "GameCube",
                  "Metascore": "96",
                  "Avg_Userscore": "8.9",
                  "No_Players": "1 Player",
                  "_deepnote_index_column": 36
                },
                {
                  "Title": "Gran Turismo",
                  "Year": "1998",
                  "Publisher": "PolyphonyDigital",
                  "Genre": "Driving;Racing;GT / Street",
                  "Platform": "PlayStation",
                  "Metascore": "96",
                  "Avg_Userscore": "8.6",
                  "No_Players": "1-2 ",
                  "_deepnote_index_column": 37
                },
                {
                  "Title": "BioShock",
                  "Year": "2007",
                  "Publisher": "IrrationalGames,2KMarin",
                  "Genre": "Action;Shooter;Shooter;First-Person;Sci-Fi;Sci-Fi;Arcade",
                  "Platform": "PC",
                  "Metascore": "96",
                  "Avg_Userscore": "8.5",
                  "No_Players": "No Online Multiplayer",
                  "_deepnote_index_column": 38
                },
                {
                  "Title": "Metal Gear Solid 2: Sons of Liberty",
                  "Year": "2001",
                  "Publisher": "KCEJ",
                  "Genre": "Action Adventure;Modern",
                  "Platform": "PlayStation2",
                  "Metascore": "96",
                  "Avg_Userscore": "8.8",
                  "No_Players": "1 Player",
                  "_deepnote_index_column": 39
                },
                {
                  "Title": "Grand Theft Auto Double Pack",
                  "Year": "2003",
                  "Publisher": "RockstarNorth",
                  "Genre": "Miscellaneous;Compilation",
                  "Platform": "Xbox",
                  "Metascore": "96",
                  "Avg_Userscore": "7.9",
                  "No_Players": "1 Player",
                  "_deepnote_index_column": 40
                },
                {
                  "Title": "Baldur's Gate II: Shadows of Amn",
                  "Year": "2000",
                  "Publisher": "BioWare",
                  "Genre": "Role-Playing;PC-style RPG;PC-style RPG;Western-Style",
                  "Platform": "PC",
                  "Metascore": "95",
                  "Avg_Userscore": "9.2",
                  "No_Players": "Up to 6 ",
                  "_deepnote_index_column": 41
                },
                {
                  "Title": "Grand Theft Auto: San Andreas",
                  "Year": "2004",
                  "Publisher": "RockstarNorth",
                  "Genre": "Action Adventure;Modern",
                  "Platform": "PlayStation2",
                  "Metascore": "95",
                  "Avg_Userscore": "9.0",
                  "No_Players": "1-2 ",
                  "_deepnote_index_column": 42
                },
                {
                  "Title": "Grand Theft Auto: Vice City",
                  "Year": "2002",
                  "Publisher": "RockstarNorth",
                  "Genre": "Action Adventure;Modern",
                  "Platform": "PlayStation2",
                  "Metascore": "95",
                  "Avg_Userscore": "8.8",
                  "No_Players": "1 Player",
                  "_deepnote_index_column": 43
                },
                {
                  "Title": "LittleBigPlanet",
                  "Year": "2008",
                  "Publisher": "SCE/WWS,MediaMolecule",
                  "Genre": "Action;Platformer;Platformer;3D;2D;3D",
                  "Platform": "PlayStation3",
                  "Metascore": "95",
                  "Avg_Userscore": "6.8",
                  "No_Players": "Up to 4 ",
                  "_deepnote_index_column": 44
                },
                {
                  "Title": "The Legend of Zelda Collector's Edition",
                  "Year": "2003",
                  "Publisher": "Nintendo",
                  "Genre": "Action Adventure;Fantasy",
                  "Platform": "GameCube",
                  "Metascore": "95",
                  "Avg_Userscore": "9.0",
                  "No_Players": "1 Player",
                  "_deepnote_index_column": 45
                },
                {
                  "Title": "Red Dead Redemption",
                  "Year": "2010",
                  "Publisher": "RockstarSanDiego",
                  "Genre": "Action;Shooter;Third-Person;Historic;Action Adventure;Historic;Historic;Open-World",
                  "Platform": "PlayStation3",
                  "Metascore": "95",
                  "Avg_Userscore": "8.9",
                  "No_Players": "Up to 16 ",
                  "_deepnote_index_column": 46
                },
                {
                  "Title": "Gran Turismo 3: A-Spec",
                  "Year": "2001",
                  "Publisher": "PolyphonyDigital",
                  "Genre": "Driving;Racing;GT / Street",
                  "Platform": "PlayStation2",
                  "Metascore": "95",
                  "Avg_Userscore": "8.4",
                  "No_Players": "1-2 ",
                  "_deepnote_index_column": 47
                },
                {
                  "Title": "Halo 2",
                  "Year": "2004",
                  "Publisher": "BungieSoftware",
                  "Genre": "Action;Shooter;First-Person;Sci-Fi",
                  "Platform": "Xbox",
                  "Metascore": "95",
                  "Avg_Userscore": "8.2",
                  "No_Players": "1-16 ",
                  "_deepnote_index_column": 48
                },
                {
                  "Title": "The Legend of Zelda: A Link to the Past",
                  "Year": "2002",
                  "Publisher": "Capcom",
                  "Genre": "Action Adventure;Fantasy",
                  "Platform": "GameBoyAdvance",
                  "Metascore": "95",
                  "Avg_Userscore": "8.9",
                  "No_Players": "not specified",
                  "_deepnote_index_column": 49
                },
                {
                  "Title": "The Legend of Zelda: Majora's Mask",
                  "Year": "2000",
                  "Publisher": "Nintendo",
                  "Genre": "Action Adventure;Fantasy",
                  "Platform": "Nintendo64",
                  "Metascore": "95",
                  "Avg_Userscore": "9.1",
                  "No_Players": "1 Player",
                  "_deepnote_index_column": 50
                },
                {
                  "Title": "The Last of Us",
                  "Year": "2013",
                  "Publisher": "NaughtyDog",
                  "Genre": "Modern;Adventure;General;Action Adventure;General;Modern",
                  "Platform": "PlayStation3",
                  "Metascore": "95",
                  "Avg_Userscore": "9.2",
                  "No_Players": "Up to 8 ",
                  "_deepnote_index_column": 51
                },
                {
                  "Title": "The Legend of Zelda: Twilight Princess",
                  "Year": "2006",
                  "Publisher": "Nintendo",
                  "Genre": "Action Adventure;Fantasy;General;Fantasy;Open-World",
                  "Platform": "Wii",
                  "Metascore": "95",
                  "Avg_Userscore": "9.0",
                  "No_Players": "No Online Multiplayer",
                  "_deepnote_index_column": 52
                },
                {
                  "Title": "Madden NFL 2003",
                  "Year": "2002",
                  "Publisher": "EASports",
                  "Genre": "Sports;Traditional;Football;Sim",
                  "Platform": "PlayStation2",
                  "Metascore": "95",
                  "Avg_Userscore": "7.4",
                  "No_Players": "1-2 ",
                  "_deepnote_index_column": 53
                },
                {
                  "Title": "Tony Hawk's Pro Skater 2",
                  "Year": "2001",
                  "Publisher": "VicariousVisions",
                  "Genre": "Sports;Alternative;Skateboarding",
                  "Platform": "GameBoyAdvance",
                  "Metascore": "95",
                  "Avg_Userscore": "7.0",
                  "No_Players": "not specified",
                  "_deepnote_index_column": 54
                },
                {
                  "Title": "The Last of Us Remastered",
                  "Year": "2014",
                  "Publisher": "NaughtyDog",
                  "Genre": "Action Adventure;General;Modern",
                  "Platform": "PlayStation4",
                  "Metascore": "95",
                  "Avg_Userscore": "9.1",
                  "No_Players": "Up to 8 ",
                  "_deepnote_index_column": 55
                },
                {
                  "Title": "Portal 2",
                  "Year": "2011",
                  "Publisher": "ValveSoftware",
                  "Genre": "Action;Shooter;Shooter;First-Person;Sci-Fi;Sci-Fi;Arcade",
                  "Platform": "PC",
                  "Metascore": "95",
                  "Avg_Userscore": "9.0",
                  "No_Players": "not specified",
                  "_deepnote_index_column": 56
                },
                {
                  "Title": "Red Dead Redemption",
                  "Year": "2010",
                  "Publisher": "RockstarSanDiego",
                  "Genre": "Action;Action Adventure;Shooter;Historic;Historic;Open-World;Third-Person;Historic",
                  "Platform": "Xbox360",
                  "Metascore": "95",
                  "Avg_Userscore": "9.0",
                  "No_Players": "Up to 16 ",
                  "_deepnote_index_column": 57
                },
                {
                  "Title": "Portal 2",
                  "Year": "2011",
                  "Publisher": "ValveSoftware",
                  "Genre": "Action;Shooter;Shooter;First-Person;Sci-Fi;Sci-Fi;Arcade",
                  "Platform": "Xbox360",
                  "Metascore": "95",
                  "Avg_Userscore": "8.7",
                  "No_Players": "not specified",
                  "_deepnote_index_column": 58
                },
                {
                  "Title": "Metal Gear Solid V: The Phantom Pain",
                  "Year": "2015",
                  "Publisher": "KojimaProductions,MobyDickStudio",
                  "Genre": "Modern;Modern;Action Adventure;Open-World",
                  "Platform": "XboxOne",
                  "Metascore": "95",
                  "Avg_Userscore": "7.4",
                  "No_Players": "Up to 16 ",
                  "_deepnote_index_column": 59
                },
                {
                  "Title": "Portal 2",
                  "Year": "2011",
                  "Publisher": "ValveSoftware",
                  "Genre": "Action;Shooter;Shooter;First-Person;Sci-Fi;Sci-Fi;Arcade",
                  "Platform": "PlayStation3",
                  "Metascore": "95",
                  "Avg_Userscore": "8.5",
                  "No_Players": "not specified",
                  "_deepnote_index_column": 60
                },
                {
                  "Title": "World of Goo",
                  "Year": "2008",
                  "Publisher": "2DBoy",
                  "Genre": "Miscellaneous;Puzzle;Action;Puzzle;General;Puzzle;General",
                  "Platform": "Wii",
                  "Metascore": "94",
                  "Avg_Userscore": "8.7",
                  "No_Players": "1-4 ",
                  "_deepnote_index_column": 61
                }
              ],
              "rows_bottom": [
                {
                  "Title": "James Bond 007: NightFire",
                  "Year": "2002",
                  "Publisher": "EurocomEntertainmentSoftware",
                  "Genre": "Action;Shooter;First-Person;Modern",
                  "Platform": "PlayStation2",
                  "Metascore": "77",
                  "Avg_Userscore": "8.5",
                  "No_Players": "1-4 ",
                  "_deepnote_index_column": 4937
                },
                {
                  "Title": "Harry Potter and the Chamber of Secrets",
                  "Year": "2002",
                  "Publisher": "EurocomEntertainmentSoftware",
                  "Genre": "Action Adventure;Fantasy",
                  "Platform": "Xbox",
                  "Metascore": "77",
                  "Avg_Userscore": "7.4",
                  "No_Players": "1 Player",
                  "_deepnote_index_column": 4938
                },
                {
                  "Title": "Operation Flashpoint: Resistance",
                  "Year": "2002",
                  "Publisher": "BohemiaInteractive",
                  "Genre": "Action;Shooter;Shooter;First-Person;Tactical;Modern;Modern",
                  "Platform": "PC",
                  "Metascore": "77",
                  "Avg_Userscore": "8.9",
                  "No_Players": "1-64 ",
                  "_deepnote_index_column": 4939
                },
                {
                  "Title": "World Tour Soccer 2002",
                  "Year": "2002",
                  "Publisher": "SCEELondonStudio",
                  "Genre": "Sports;Traditional;Soccer;Sim",
                  "Platform": "PlayStation2",
                  "Metascore": "77",
                  "Avg_Userscore": "7.5",
                  "No_Players": "not specified",
                  "_deepnote_index_column": 4940
                },
                {
                  "Title": "Etherlords",
                  "Year": "2001",
                  "Publisher": "NivalInteractive",
                  "Genre": "Strategy;Turn-Based;General;General",
                  "Platform": "PC",
                  "Metascore": "77",
                  "Avg_Userscore": "7.6",
                  "No_Players": "1-2 ",
                  "_deepnote_index_column": 4941
                },
                {
                  "Title": "FIFA Soccer 2002",
                  "Year": "2001",
                  "Publisher": "EASports",
                  "Genre": "Sports;Traditional;Team;Soccer;Sim;Sim",
                  "Platform": "PC",
                  "Metascore": "77",
                  "Avg_Userscore": "7.7",
                  "No_Players": "1-8 ",
                  "_deepnote_index_column": 4942
                },
                {
                  "Title": "Alone in the Dark: The New Nightmare",
                  "Year": "2001",
                  "Publisher": "Darkworks",
                  "Genre": "Action Adventure;Horror",
                  "Platform": "PlayStation",
                  "Metascore": "77",
                  "Avg_Userscore": "8.2",
                  "No_Players": "1 Player",
                  "_deepnote_index_column": 4943
                },
                {
                  "Title": "Tenchu 2: Birth of the Stealth Assassins",
                  "Year": "2000",
                  "Publisher": "Acquire",
                  "Genre": "Action Adventure;Fantasy",
                  "Platform": "PlayStation",
                  "Metascore": "77",
                  "Avg_Userscore": "8.7",
                  "No_Players": "1 Player",
                  "_deepnote_index_column": 4944
                },
                {
                  "Title": "Army Men: Air Combat",
                  "Year": "2000",
                  "Publisher": "3DO",
                  "Genre": "Action;General",
                  "Platform": "Nintendo64",
                  "Metascore": "77",
                  "Avg_Userscore": "7.8",
                  "No_Players": "not specified",
                  "_deepnote_index_column": 4945
                },
                {
                  "Title": "Pokemon Snap",
                  "Year": "1999",
                  "Publisher": "Hal",
                  "Genre": "Action;General",
                  "Platform": "Nintendo64",
                  "Metascore": "77",
                  "Avg_Userscore": "7.4",
                  "No_Players": "1 Player",
                  "_deepnote_index_column": 4946
                },
                {
                  "Title": "Banjo-Kazooie",
                  "Year": "2008",
                  "Publisher": "4JStudios",
                  "Genre": "Action;Platformer;Platformer;3D;3D",
                  "Platform": "Xbox360",
                  "Metascore": "77",
                  "Avg_Userscore": "8.2",
                  "No_Players": "not specified",
                  "_deepnote_index_column": 4947
                },
                {
                  "Title": "Virginia",
                  "Year": "2016",
                  "Publisher": "505Games",
                  "Genre": "Adventure;3D;First-Person",
                  "Platform": "PlayStation4",
                  "Metascore": "77",
                  "Avg_Userscore": "5.9",
                  "No_Players": "not specified",
                  "_deepnote_index_column": 4948
                },
                {
                  "Title": "FIFA Soccer 09",
                  "Year": "2008",
                  "Publisher": "EACanada",
                  "Genre": "Sports;Traditional;Team;Soccer;Sim;Sim",
                  "Platform": "PC",
                  "Metascore": "77",
                  "Avg_Userscore": "6.8",
                  "No_Players": "not specified",
                  "_deepnote_index_column": 4949
                },
                {
                  "Title": "FIFA World Cup: Germany 2006",
                  "Year": "2006",
                  "Publisher": "EACanada",
                  "Genre": "Sports;Traditional;Team;Soccer;Sim;Sim",
                  "Platform": "PC",
                  "Metascore": "77",
                  "Avg_Userscore": "7.6",
                  "No_Players": "2  Online",
                  "_deepnote_index_column": 4950
                },
                {
                  "Title": "Giana Sisters: Twisted Dreams",
                  "Year": "2012",
                  "Publisher": "BlackForestGames",
                  "Genre": "Action;Platformer;Platformer;2D;2D",
                  "Platform": "PC",
                  "Metascore": "77",
                  "Avg_Userscore": "7.8",
                  "No_Players": "not specified",
                  "_deepnote_index_column": 4951
                },
                {
                  "Title": "Alien Swarm",
                  "Year": "2010",
                  "Publisher": "ValveSoftware",
                  "Genre": "Action;Shooter;Shooter;Third-Person;Tactical;Modern",
                  "Platform": "PC",
                  "Metascore": "77",
                  "Avg_Userscore": "8.2",
                  "No_Players": "not specified",
                  "_deepnote_index_column": 4952
                },
                {
                  "Title": "Art Style: BASE 10",
                  "Year": "2009",
                  "Publisher": "SkipLtd.",
                  "Genre": "Miscellaneous;Puzzle;Action;Puzzle;Puzzle;Action",
                  "Platform": "DS",
                  "Metascore": "77",
                  "Avg_Userscore": "tbd",
                  "No_Players": "1-2 ",
                  "_deepnote_index_column": 4953
                },
                {
                  "Title": "Rune Factory 2: A Fantasy Harvest Moon",
                  "Year": "2008",
                  "Publisher": "Neverland",
                  "Genre": "Role-Playing;General;General",
                  "Platform": "DS",
                  "Metascore": "77",
                  "Avg_Userscore": "8.0",
                  "No_Players": "4  Online",
                  "_deepnote_index_column": 4954
                },
                {
                  "Title": "FIFA World Cup: Germany 2006",
                  "Year": "2006",
                  "Publisher": "EACanada",
                  "Genre": "Sports;Traditional;Soccer;Sim",
                  "Platform": "PlayStation2",
                  "Metascore": "77",
                  "Avg_Userscore": "8.1",
                  "No_Players": "2  Online",
                  "_deepnote_index_column": 4955
                },
                {
                  "Title": "Soldiers: Heroes of World War II",
                  "Year": "2004",
                  "Publisher": "BestWay",
                  "Genre": "Strategy;Real-Time;Military;General;Military",
                  "Platform": "PC",
                  "Metascore": "77",
                  "Avg_Userscore": "8.6",
                  "No_Players": "1-4 ",
                  "_deepnote_index_column": 4956
                },
                {
                  "Title": "Shadows of the Damned",
                  "Year": "2011",
                  "Publisher": "GrasshopperManufacture",
                  "Genre": "Action Adventure;Horror;Horror;Survival",
                  "Platform": "PlayStation3",
                  "Metascore": "77",
                  "Avg_Userscore": "8.2",
                  "No_Players": "No Online Multiplayer",
                  "_deepnote_index_column": 4957
                },
                {
                  "Title": "The Elder Scrolls Online: Morrowind",
                  "Year": "2017",
                  "Publisher": "ZeniMaxMedia",
                  "Genre": "Role-Playing;Massively Multiplayer",
                  "Platform": "PC",
                  "Metascore": "77",
                  "Avg_Userscore": "6.4",
                  "No_Players": "not specified",
                  "_deepnote_index_column": 4958
                },
                {
                  "Title": "The Godfather",
                  "Year": "2006",
                  "Publisher": "ElectronicArts",
                  "Genre": "Action Adventure;Historic",
                  "Platform": "Xbox",
                  "Metascore": "77",
                  "Avg_Userscore": "8.5",
                  "No_Players": "1 Player",
                  "_deepnote_index_column": 4959
                },
                {
                  "Title": "Bloodstained: Curse of the Moon",
                  "Year": "2018",
                  "Publisher": "IntiCreates",
                  "Genre": "Action Adventure;Open-World",
                  "Platform": "PC",
                  "Metascore": "77",
                  "Avg_Userscore": "7.1",
                  "No_Players": "No Online Multiplayer",
                  "_deepnote_index_column": 4960
                },
                {
                  "Title": "Mega Man Legacy Collection 2",
                  "Year": "2018",
                  "Publisher": "Capcom",
                  "Genre": "Miscellaneous;Compilation",
                  "Platform": "Switch",
                  "Metascore": "77",
                  "Avg_Userscore": "6.3",
                  "No_Players": "No Online Multiplayer",
                  "_deepnote_index_column": 4961
                },
                {
                  "Title": "Figment",
                  "Year": "2017",
                  "Publisher": "BedtimeDigitalGames",
                  "Genre": "Action;General",
                  "Platform": "PC",
                  "Metascore": "77",
                  "Avg_Userscore": "7.2",
                  "No_Players": "No Online Multiplayer",
                  "_deepnote_index_column": 4962
                },
                {
                  "Title": "Project Zero 2: Wii Edition",
                  "Year": "2012",
                  "Publisher": "KoeiTecmoGames",
                  "Genre": "Action Adventure;Horror",
                  "Platform": "Wii",
                  "Metascore": "77",
                  "Avg_Userscore": "8.8",
                  "No_Players": "1 Player",
                  "_deepnote_index_column": 4963
                },
                {
                  "Title": "Dragon Quest Heroes: The World Tree's Woe and the Blight Below",
                  "Year": "2015",
                  "Publisher": "OmegaForce",
                  "Genre": "2D;Action;Beat-'Em-Up;3D",
                  "Platform": "PlayStation4",
                  "Metascore": "77",
                  "Avg_Userscore": "7.6",
                  "No_Players": "not specified",
                  "_deepnote_index_column": 4964
                },
                {
                  "Title": "The Elder Scrolls Online: Tamriel Unlimited",
                  "Year": "2015",
                  "Publisher": "ZeniMaxMedia",
                  "Genre": "First-Person;First-Person;Massively Multiplayer Online;Fantasy;Role-Playing;Massively Multiplayer",
                  "Platform": "XboxOne",
                  "Metascore": "77",
                  "Avg_Userscore": "8.4",
                  "No_Players": "Massively Multiplayer",
                  "_deepnote_index_column": 4965
                },
                {
                  "Title": "Inazuma Eleven Go: Chrono Stones: Thunderflash",
                  "Year": "2015",
                  "Publisher": "Level5",
                  "Genre": "Sports;Soccer;Arcade;Team",
                  "Platform": "3DS",
                  "Metascore": "77",
                  "Avg_Userscore": "7.9",
                  "No_Players": "not specified",
                  "_deepnote_index_column": 4966
                },
                {
                  "Title": "LEGO City Undercover",
                  "Year": "2017",
                  "Publisher": "TTGames",
                  "Genre": "Action Adventure;Open-World",
                  "Platform": "XboxOne",
                  "Metascore": "77",
                  "Avg_Userscore": "7.0",
                  "No_Players": "not specified",
                  "_deepnote_index_column": 4967
                },
                {
                  "Title": "Baldur's Gate: Siege of Dragonspear",
                  "Year": "2016",
                  "Publisher": "OverhaulGames",
                  "Genre": "Role-Playing;Western-Style",
                  "Platform": "PC",
                  "Metascore": "77",
                  "Avg_Userscore": "3.6",
                  "No_Players": "not specified",
                  "_deepnote_index_column": 4968
                },
                {
                  "Title": "EA Sports UFC 3",
                  "Year": "2018",
                  "Publisher": "EASports",
                  "Genre": "Sports;Individual;Combat;Boxing / Martial Arts",
                  "Platform": "XboxOne",
                  "Metascore": "77",
                  "Avg_Userscore": "5.5",
                  "No_Players": "2 ",
                  "_deepnote_index_column": 4969
                },
                {
                  "Title": "Gears of War 3: RAAM's Shadow",
                  "Year": "2011",
                  "Publisher": "EpicGames",
                  "Genre": "Action;Shooter;Shooter;Third-Person;Sci-Fi;Sci-Fi;Arcade",
                  "Platform": "Xbox360",
                  "Metascore": "77",
                  "Avg_Userscore": "7.8",
                  "No_Players": "not specified",
                  "_deepnote_index_column": 4970
                },
                {
                  "Title": "Crysis 3",
                  "Year": "2013",
                  "Publisher": "Crytek",
                  "Genre": "Action;Shooter;Shooter;First-Person;Sci-Fi;Sci-Fi;Arcade",
                  "Platform": "PlayStation3",
                  "Metascore": "77",
                  "Avg_Userscore": "6.4",
                  "No_Players": "not specified",
                  "_deepnote_index_column": 4971
                },
                {
                  "Title": "Mega Man Zero 3",
                  "Year": "2004",
                  "Publisher": "Inti",
                  "Genre": "Action;Platformer;2D",
                  "Platform": "GameBoyAdvance",
                  "Metascore": "77",
                  "Avg_Userscore": "8.2",
                  "No_Players": "1-2 ",
                  "_deepnote_index_column": 4972
                },
                {
                  "Title": "Final Fantasy XV: Royal Edition",
                  "Year": "2018",
                  "Publisher": "SquareEnix",
                  "Genre": "Role-Playing;Action RPG",
                  "Platform": "PlayStation4",
                  "Metascore": "77",
                  "Avg_Userscore": "7.2",
                  "No_Players": "Up to 4 ",
                  "_deepnote_index_column": 4973
                },
                {
                  "Title": "Kerbal Space Program",
                  "Year": "2016",
                  "Publisher": "FlyingTigerDevelopment",
                  "Genre": "Simulation;Space;Combat",
                  "Platform": "PlayStation4",
                  "Metascore": "77",
                  "Avg_Userscore": "6.2",
                  "No_Players": "not specified",
                  "_deepnote_index_column": 4974
                },
                {
                  "Title": "Men of War: Assault Squad",
                  "Year": "2011",
                  "Publisher": "THQ,1C,1CCompany",
                  "Genre": "Strategy;Real-Time;Military;Military;Tactics",
                  "Platform": "PC",
                  "Metascore": "77",
                  "Avg_Userscore": "8.2",
                  "No_Players": "not specified",
                  "_deepnote_index_column": 4975
                },
                {
                  "Title": "Singularity",
                  "Year": "2010",
                  "Publisher": "RavenSoftware",
                  "Genre": "Action;Shooter;Shooter;First-Person;Sci-Fi;Sci-Fi;Arcade",
                  "Platform": "PlayStation3",
                  "Metascore": "77",
                  "Avg_Userscore": "7.7",
                  "No_Players": "1 Player",
                  "_deepnote_index_column": 4976
                },
                {
                  "Title": "Command & Conquer 3: Kane's Wrath",
                  "Year": "2008",
                  "Publisher": "EALA",
                  "Genre": "Strategy;Real-Time;Sci-Fi;Sci-Fi;General",
                  "Platform": "PC",
                  "Metascore": "77",
                  "Avg_Userscore": "8.2",
                  "No_Players": "8  Online",
                  "_deepnote_index_column": 4977
                },
                {
                  "Title": "ATV Offroad Fury 4",
                  "Year": "2006",
                  "Publisher": "ClimaxGroup",
                  "Genre": "Driving;Racing;Rally / Offroad",
                  "Platform": "PlayStation2",
                  "Metascore": "77",
                  "Avg_Userscore": "8.5",
                  "No_Players": "4  Online",
                  "_deepnote_index_column": 4978
                },
                {
                  "Title": "FIFA World Cup: Germany 2006",
                  "Year": "2006",
                  "Publisher": "EACanada",
                  "Genre": "Sports;Traditional;Soccer;Sim",
                  "Platform": "Xbox",
                  "Metascore": "77",
                  "Avg_Userscore": "8.4",
                  "No_Players": "2  Online",
                  "_deepnote_index_column": 4979
                },
                {
                  "Title": "Car Battler Joe",
                  "Year": "2002",
                  "Publisher": "Ancient",
                  "Genre": "Role-Playing;Console-style RPG",
                  "Platform": "GameBoyAdvance",
                  "Metascore": "77",
                  "Avg_Userscore": "tbd",
                  "No_Players": "1-4 ",
                  "_deepnote_index_column": 4980
                },
                {
                  "Title": "Life is Strange: Before the Storm",
                  "Year": "2017",
                  "Publisher": "DeckNineGames",
                  "Genre": "Action Adventure;General",
                  "Platform": "PlayStation4",
                  "Metascore": "77",
                  "Avg_Userscore": "7.9",
                  "No_Players": "No Online Multiplayer",
                  "_deepnote_index_column": 4981
                },
                {
                  "Title": "Tales of Symphonia Chronicles",
                  "Year": "2014",
                  "Publisher": "BandaiNamcoGames",
                  "Genre": "Compilation;Miscellaneous;Compilation",
                  "Platform": "PlayStation3",
                  "Metascore": "77",
                  "Avg_Userscore": "8.4",
                  "No_Players": "No Online Multiplayer",
                  "_deepnote_index_column": 4982
                },
                {
                  "Title": "Killzone: Liberation",
                  "Year": "2006",
                  "Publisher": "Guerrilla",
                  "Genre": "Action;Shooter;Shooter;Third-Person;Sci-Fi;Sci-Fi;Arcade",
                  "Platform": "PSP",
                  "Metascore": "77",
                  "Avg_Userscore": "8.2",
                  "No_Players": "1-6 ",
                  "_deepnote_index_column": 4983
                },
                {
                  "Title": "The Escapists 2",
                  "Year": "2017",
                  "Publisher": "MouldyToofStudios",
                  "Genre": "Action;General",
                  "Platform": "XboxOne",
                  "Metascore": "77",
                  "Avg_Userscore": "5.8",
                  "No_Players": "not specified",
                  "_deepnote_index_column": 4984
                },
                {
                  "Title": "Arena Wars",
                  "Year": "2004",
                  "Publisher": "AscaronEntertainmentGmbH,AscaronEntertainment",
                  "Genre": "Strategy;Real-Time;Modern;General;Modern",
                  "Platform": "PC",
                  "Metascore": "77",
                  "Avg_Userscore": "7.7",
                  "No_Players": "1-8 ",
                  "_deepnote_index_column": 4985
                },
                {
                  "Title": "Little Red Lie",
                  "Year": "2018",
                  "Publisher": "WZOGI",
                  "Genre": "Adventure;General",
                  "Platform": "PlayStation4",
                  "Metascore": "77",
                  "Avg_Userscore": "4.2",
                  "No_Players": "not specified",
                  "_deepnote_index_column": 4986
                },
                {
                  "Title": "Naruto Shippuden: Ultimate Ninja Storm 4 - Road to Boruto Expansion",
                  "Year": "2017",
                  "Publisher": "CyberConnect2",
                  "Genre": "Action;Fighting;3D",
                  "Platform": "XboxOne",
                  "Metascore": "77",
                  "Avg_Userscore": "7.1",
                  "No_Players": "not specified",
                  "_deepnote_index_column": 4987
                },
                {
                  "Title": "Furi",
                  "Year": "2016",
                  "Publisher": "TheGameBakers",
                  "Genre": "Action;Fighting;3D",
                  "Platform": "XboxOne",
                  "Metascore": "77",
                  "Avg_Userscore": "7.6",
                  "No_Players": "not specified",
                  "_deepnote_index_column": 4988
                },
                {
                  "Title": "Corpse Party",
                  "Year": "2016",
                  "Publisher": "5pb",
                  "Genre": "Action Adventure;Survival",
                  "Platform": "3DS",
                  "Metascore": "77",
                  "Avg_Userscore": "7.8",
                  "No_Players": "not specified",
                  "_deepnote_index_column": 4989
                },
                {
                  "Title": "Element4l",
                  "Year": "2013",
                  "Publisher": "i-illusions",
                  "Genre": "Action;Platformer;Platformer;2D;2D",
                  "Platform": "PC",
                  "Metascore": "77",
                  "Avg_Userscore": "7.7",
                  "No_Players": "not specified",
                  "_deepnote_index_column": 4990
                },
                {
                  "Title": "Anomaly 2",
                  "Year": "2013",
                  "Publisher": "11bitstudios",
                  "Genre": "Action;Strategy;General;Real-Time;Sci-Fi;Sci-Fi;General",
                  "Platform": "PC",
                  "Metascore": "77",
                  "Avg_Userscore": "7.9",
                  "No_Players": "not specified",
                  "_deepnote_index_column": 4991
                },
                {
                  "Title": "Final Fight: Double Impact",
                  "Year": "2010",
                  "Publisher": "Capcom",
                  "Genre": "Action;Miscellaneous;Beat-'Em-Up;Compilation",
                  "Platform": "Xbox360",
                  "Metascore": "77",
                  "Avg_Userscore": "7.6",
                  "No_Players": "not specified",
                  "_deepnote_index_column": 4992
                },
                {
                  "Title": "Outlast 2",
                  "Year": "2017",
                  "Publisher": "RedBarrels",
                  "Genre": "Action Adventure;Survival",
                  "Platform": "XboxOne",
                  "Metascore": "77",
                  "Avg_Userscore": "6.5",
                  "No_Players": "not specified",
                  "_deepnote_index_column": 4993
                },
                {
                  "Title": "The Bigs",
                  "Year": "2007",
                  "Publisher": "BlueCastleGames",
                  "Genre": "Sports;Traditional;Team;Baseball;Arcade;Arcade",
                  "Platform": "PlayStation3",
                  "Metascore": "77",
                  "Avg_Userscore": "7.2",
                  "No_Players": "1-4 ",
                  "_deepnote_index_column": 4994
                },
                {
                  "Title": "Donut County",
                  "Year": "2018",
                  "Publisher": "BenEsposito",
                  "Genre": "Action Adventure;General",
                  "Platform": "PC",
                  "Metascore": "77",
                  "Avg_Userscore": "8.1",
                  "No_Players": "No Online Multiplayer",
                  "_deepnote_index_column": 4995
                },
                {
                  "Title": "MotorStorm: Apocalypse",
                  "Year": "2011",
                  "Publisher": "EvolutionStudios",
                  "Genre": "Driving;Racing;Simulation;Rally / Offroad;Rally / Offroad;Automobile",
                  "Platform": "PlayStation3",
                  "Metascore": "77",
                  "Avg_Userscore": "7.7",
                  "No_Players": "4  Online",
                  "_deepnote_index_column": 4996
                },
                {
                  "Title": "The Last Guy",
                  "Year": "2008",
                  "Publisher": "SCEJapanStudio",
                  "Genre": "Action Adventure;Sci-Fi;Sci-Fi;General",
                  "Platform": "PlayStation3",
                  "Metascore": "77",
                  "Avg_Userscore": "6.8",
                  "No_Players": "1 Player",
                  "_deepnote_index_column": 4997
                },
                {
                  "Title": "Valiant Hearts: The Great War",
                  "Year": "2014",
                  "Publisher": "UbisoftMontpellier",
                  "Genre": "Platformer;2D;Action;Platformer;2D",
                  "Platform": "PlayStation4",
                  "Metascore": "77",
                  "Avg_Userscore": "8.4",
                  "No_Players": "not specified",
                  "_deepnote_index_column": 4998
                },
                {
                  "Title": "Mothergunship",
                  "Year": "2018",
                  "Publisher": "GripDigital",
                  "Genre": "Action;General",
                  "Platform": "XboxOne",
                  "Metascore": "77",
                  "Avg_Userscore": "7.2",
                  "No_Players": "Online Multiplayer",
                  "_deepnote_index_column": 4999
                }
              ]
            },
            "text/plain": "                                     Title  Year               Publisher  \\\n0     The Legend of Zelda: Ocarina of Time  1998                Nintendo   \n1                 Tony Hawk's Pro Skater 2  2000  NeversoftEntertainment   \n2                      Grand Theft Auto IV  2008           RockstarNorth   \n3                              SoulCalibur  1999                   Namco   \n4                      Grand Theft Auto IV  2008           RockstarNorth   \n...                                    ...   ...                     ...   \n4995                          Donut County  2018             BenEsposito   \n4996                MotorStorm: Apocalypse  2011        EvolutionStudios   \n4997                          The Last Guy  2008          SCEJapanStudio   \n4998         Valiant Hearts: The Great War  2014      UbisoftMontpellier   \n4999                         Mothergunship  2018             GripDigital   \n\n                                                  Genre      Platform  \\\n0                              Action Adventure;Fantasy    Nintendo64   \n1                      Sports;Alternative;Skateboarding   PlayStation   \n2             Action Adventure;Modern;Modern;Open-World  PlayStation3   \n3                                    Action;Fighting;3D     Dreamcast   \n4             Action Adventure;Modern;Modern;Open-World       Xbox360   \n...                                                 ...           ...   \n4995                           Action Adventure;General            PC   \n4996  Driving;Racing;Simulation;Rally / Offroad;Rall...  PlayStation3   \n4997             Action Adventure;Sci-Fi;Sci-Fi;General  PlayStation3   \n4998                 Platformer;2D;Action;Platformer;2D  PlayStation4   \n4999                                     Action;General       XboxOne   \n\n     Metascore Avg_Userscore             No_Players  \n0           99           9.1               1 Player  \n1           98           7.4                   1-2   \n2           98           7.5               1 Player  \n3           98           8.6                   1-2   \n4           98           7.9               1 Player  \n...        ...           ...                    ...  \n4995        77           8.1  No Online Multiplayer  \n4996        77           7.7              4  Online  \n4997        77           6.8               1 Player  \n4998        77           8.4          not specified  \n4999        77           7.2     Online Multiplayer  \n\n[5000 rows x 8 columns]",
            "text/html": "<div>\n<style scoped>\n    .dataframe tbody tr th:only-of-type {\n        vertical-align: middle;\n    }\n\n    .dataframe tbody tr th {\n        vertical-align: top;\n    }\n\n    .dataframe thead th {\n        text-align: right;\n    }\n</style>\n<table border=\"1\" class=\"dataframe\">\n  <thead>\n    <tr style=\"text-align: right;\">\n      <th></th>\n      <th>Title</th>\n      <th>Year</th>\n      <th>Publisher</th>\n      <th>Genre</th>\n      <th>Platform</th>\n      <th>Metascore</th>\n      <th>Avg_Userscore</th>\n      <th>No_Players</th>\n    </tr>\n  </thead>\n  <tbody>\n    <tr>\n      <th>0</th>\n      <td>The Legend of Zelda: Ocarina of Time</td>\n      <td>1998</td>\n      <td>Nintendo</td>\n      <td>Action Adventure;Fantasy</td>\n      <td>Nintendo64</td>\n      <td>99</td>\n      <td>9.1</td>\n      <td>1 Player</td>\n    </tr>\n    <tr>\n      <th>1</th>\n      <td>Tony Hawk's Pro Skater 2</td>\n      <td>2000</td>\n      <td>NeversoftEntertainment</td>\n      <td>Sports;Alternative;Skateboarding</td>\n      <td>PlayStation</td>\n      <td>98</td>\n      <td>7.4</td>\n      <td>1-2</td>\n    </tr>\n    <tr>\n      <th>2</th>\n      <td>Grand Theft Auto IV</td>\n      <td>2008</td>\n      <td>RockstarNorth</td>\n      <td>Action Adventure;Modern;Modern;Open-World</td>\n      <td>PlayStation3</td>\n      <td>98</td>\n      <td>7.5</td>\n      <td>1 Player</td>\n    </tr>\n    <tr>\n      <th>3</th>\n      <td>SoulCalibur</td>\n      <td>1999</td>\n      <td>Namco</td>\n      <td>Action;Fighting;3D</td>\n      <td>Dreamcast</td>\n      <td>98</td>\n      <td>8.6</td>\n      <td>1-2</td>\n    </tr>\n    <tr>\n      <th>4</th>\n      <td>Grand Theft Auto IV</td>\n      <td>2008</td>\n      <td>RockstarNorth</td>\n      <td>Action Adventure;Modern;Modern;Open-World</td>\n      <td>Xbox360</td>\n      <td>98</td>\n      <td>7.9</td>\n      <td>1 Player</td>\n    </tr>\n    <tr>\n      <th>...</th>\n      <td>...</td>\n      <td>...</td>\n      <td>...</td>\n      <td>...</td>\n      <td>...</td>\n      <td>...</td>\n      <td>...</td>\n      <td>...</td>\n    </tr>\n    <tr>\n      <th>4995</th>\n      <td>Donut County</td>\n      <td>2018</td>\n      <td>BenEsposito</td>\n      <td>Action Adventure;General</td>\n      <td>PC</td>\n      <td>77</td>\n      <td>8.1</td>\n      <td>No Online Multiplayer</td>\n    </tr>\n    <tr>\n      <th>4996</th>\n      <td>MotorStorm: Apocalypse</td>\n      <td>2011</td>\n      <td>EvolutionStudios</td>\n      <td>Driving;Racing;Simulation;Rally / Offroad;Rall...</td>\n      <td>PlayStation3</td>\n      <td>77</td>\n      <td>7.7</td>\n      <td>4  Online</td>\n    </tr>\n    <tr>\n      <th>4997</th>\n      <td>The Last Guy</td>\n      <td>2008</td>\n      <td>SCEJapanStudio</td>\n      <td>Action Adventure;Sci-Fi;Sci-Fi;General</td>\n      <td>PlayStation3</td>\n      <td>77</td>\n      <td>6.8</td>\n      <td>1 Player</td>\n    </tr>\n    <tr>\n      <th>4998</th>\n      <td>Valiant Hearts: The Great War</td>\n      <td>2014</td>\n      <td>UbisoftMontpellier</td>\n      <td>Platformer;2D;Action;Platformer;2D</td>\n      <td>PlayStation4</td>\n      <td>77</td>\n      <td>8.4</td>\n      <td>not specified</td>\n    </tr>\n    <tr>\n      <th>4999</th>\n      <td>Mothergunship</td>\n      <td>2018</td>\n      <td>GripDigital</td>\n      <td>Action;General</td>\n      <td>XboxOne</td>\n      <td>77</td>\n      <td>7.2</td>\n      <td>Online Multiplayer</td>\n    </tr>\n  </tbody>\n</table>\n<p>5000 rows × 8 columns</p>\n</div>"
          },
          "metadata": {}
        }
      ]
    },
    {
      "cell_type": "code",
      "metadata": {
        "tags": [],
        "cell_id": "00001-3e553c18-d711-44c0-baac-dfe3b054daf6",
        "deepnote_to_be_reexecuted": false,
        "source_hash": "bd14cef7",
        "execution_millis": 6283,
        "execution_start": 1615321668318,
        "deepnote_cell_type": "code"
      },
      "source": "metacritic_game_user_comments = pd.read_csv('data/metacritic_game_user_comments.csv', index_col=0)\nmetacritic_game_user_comments",
      "execution_count": 4,
      "outputs": [
        {
          "output_type": "execute_result",
          "execution_count": 4,
          "data": {
            "application/vnd.deepnote.dataframe.v2+json": {
              "row_count": 283983,
              "column_count": 5,
              "columns": [
                {
                  "name": "Title",
                  "dtype": "object"
                },
                {
                  "name": "Platform",
                  "dtype": "object"
                },
                {
                  "name": "Userscore",
                  "dtype": "int64"
                },
                {
                  "name": "Comment",
                  "dtype": "object"
                },
                {
                  "name": "Username",
                  "dtype": "object"
                },
                {
                  "name": "_deepnote_index_column",
                  "dtype": "int64"
                }
              ],
              "rows_top": [
                {
                  "Title": "The Legend of Zelda: Ocarina of Time",
                  "Platform": "Nintendo64",
                  "Userscore": 10,
                  "Comment": "Everything in OoT is so near at perfection, its really no wonder that this game has such a huge fanbase and is so highly rated among players and critics.",
                  "Username": "SirCaestus",
                  "_deepnote_index_column": 0
                },
                {
                  "Title": "The Legend of Zelda: Ocarina of Time",
                  "Platform": "Nintendo64",
                  "Userscore": 10,
                  "Comment": "I won't bore you with what everyone is already saying about how amazing this game is.  But if you're on the fence about whether to give this classic a try, go read IGN's review.",
                  "Username": "Kaistlin",
                  "_deepnote_index_column": 1
                },
                {
                  "Title": "The Legend of Zelda: Ocarina of Time",
                  "Platform": "Nintendo64",
                  "Userscore": 10,
                  "Comment": "Anyone who gives the masterpiece below a 7 or an 8 is either just here to hate on the astounding zelda franchise, doesn't know a DAMN good game or is insane. The dungeons are interesting and unique, the characters are interesting and have personality, the story is highly engaging, the combat is varied, fluid, and fun, the items are amazing, there are a plethora of interesting side questsAnyone who gives the masterpiece below a 7 or an 8 is either just here to hate on the astounding zelda franchise, doesn't know a DAMN good game or is insane. The dungeons are interesting and unique, the characters are interesting and have personality, the story is highly engaging, the combat is varied, fluid, and fun, the items are amazing, there are a plethora of interesting side quests and collectibles, and considering the fact that this game was made in 1998 the graphics are amazing. The only real downside is that the game is somewhat linear and you can't continue on after beating the final boss, but that doesn't detract from the huge amount of fun I had playing this game. This has to be one of if not the best games ever made just as the others have said.",
                  "Username": "Jacody",
                  "_deepnote_index_column": 2
                },
                {
                  "Title": "The Legend of Zelda: Ocarina of Time",
                  "Platform": "Nintendo64",
                  "Userscore": 10,
                  "Comment": "I'm one of those people who think that this is the greatest game of all time, no matter what quality games are out now or will be out ever. This is just plain the best game I've ever played. Why? Partly because it was the first good game I've actually played. When I first got a Nintendo 64 I was considerably young, and yet every game I played I thought was absolutely horrible. All I hadI'm one of those people who think that this is the greatest game of all time, no matter what quality games are out now or will be out ever. This is just plain the best game I've ever played. Why? Partly because it was the first good game I've actually played. When I first got a Nintendo 64 I was considerably young, and yet every game I played I thought was absolutely horrible. All I had were simple objective games, and as a child I thought they were hard and pointless. Then one day Ocarina of Time was brought home and I at first refused to play it. So I watched my father play it for a while, and straight away it was something entirely new and different. Also at the time, it was the most real (to me at least). What brought me in was the ability to actually explore and get to know people, even if the people you talked to all repeated the same things over and over no matter how many times you talked to them, but it didn't matter. This game was something new and exciting to me, and to this day I get this good old nostalgic feeling whenever I play it. It has one of the greatest stories of all time for a video game and was one of the first to create its own sort of universe and it was one of the first 3D environment game where you can see in all 360 degrees (after Mario 64 that is). Plus to this day people are still discovering new secrets to the game and so many in-depth theories arise from this title alone based upon this game that keep it interesting. The characters feel like characters and the visuals are some of the most cinematic of its time. The gameplay is also very fun, which of course is one of the most important things and there are very involving puzzles that are simple enough in appears but very complex when you get down to it. There is so much that I could say about this game, but sometimes even looking back, I'm at a loss of words at how awesome this game is.",
                  "Username": "doodlerman",
                  "_deepnote_index_column": 3
                },
                {
                  "Title": "The Legend of Zelda: Ocarina of Time",
                  "Platform": "Nintendo64",
                  "Userscore": 10,
                  "Comment": " This game is the highest rated game on Metacritic and for good reasons. It takes elements from every other game that existed before it and multiplied it several times over. Almost 12 years later, I can play Ocarina of Time and STILL see things that it does, that games of this 2010 decade cannot d. It stands the test of time and will forever be in my heart as the greatest game of all time This game is the highest rated game on Metacritic and for good reasons. It takes elements from every other game that existed before it and multiplied it several times over. Almost 12 years later, I can play Ocarina of Time and STILL see things that it does, that games of this 2010 decade cannot d. It stands the test of time and will forever be in my heart as the greatest game of all time ever in the world. Many games have tried to conquer that title. All have failed. I'm more than happy to say that.",
                  "Username": "StevenA",
                  "_deepnote_index_column": 4
                },
                {
                  "Title": "The Legend of Zelda: Ocarina of Time",
                  "Platform": "Nintendo64",
                  "Userscore": 10,
                  "Comment": "I think it's funny that you have Zelda haters writing reviews based on their personal feelings towards the game, as opposed to how the game play actually was for them. Ocarina of Time was one of the single greatest games ever created. It set a precedence for future games. The graphics were unrivaled at the time, the game actually took real skill to beat it at times. In other words, itI think it's funny that you have Zelda haters writing reviews based on their personal feelings towards the game, as opposed to how the game play actually was for them. Ocarina of Time was one of the single greatest games ever created. It set a precedence for future games. The graphics were unrivaled at the time, the game actually took real skill to beat it at times. In other words, it wasn't something that you would pick up, beat in an hour, and never look at again. I can still pick this game up, and still play through it while enjoying every single second of it.",
                  "Username": "joei1382",
                  "_deepnote_index_column": 5
                },
                {
                  "Title": "The Legend of Zelda: Ocarina of Time",
                  "Platform": "Nintendo64",
                  "Userscore": 9,
                  "Comment": "I played A Link To The Past so many times in my childhood i lost count. When i got OoT for Christmas it was BYE BYE childhood! This game is the very definition of epic, i loved every second of it!",
                  "Username": "Corvix",
                  "_deepnote_index_column": 6
                },
                {
                  "Title": "The Legend of Zelda: Ocarina of Time",
                  "Platform": "Nintendo64",
                  "Userscore": 10,
                  "Comment": "The Legend of Zelda: Ocarina of Time is without a doubt one of the greatest video games of all time. To say that this game was great is an understatement. Ocarina introduced the gaming world to the aspect of open world play with a wonderfully sized map that was large and full of exploration but not in the slightest bit unnecessary. The level and dungeon design was the best of it's time andThe Legend of Zelda: Ocarina of Time is without a doubt one of the greatest video games of all time. To say that this game was great is an understatement. Ocarina introduced the gaming world to the aspect of open world play with a wonderfully sized map that was large and full of exploration but not in the slightest bit unnecessary. The level and dungeon design was the best of it's time and in still to this day remains one of most brilliant, beautiful, and interesting worlds of any video game on the market. Every area you explore from the moment you wake up in the lush and green forest of the Kokiri to the vast and deep desert of the Gerudos' is crafted to perfection. The combat system in Ocarina was also a shining star. Not only did weapons feel right, react well, and play out perfectly, but they were always interesting and had their own advantages. Not once did a weapon outshine another because they all had a great purpose. The Z-Targeting system was added for a more cinematic feel that worked flawlessly and it even made combat easier and more interesting. The music and sounds of the game brought it to life as well. Every area had it's own theme music that was unique to that zone and always felt right and gave the player that more personal feeling wherever he/she went. Kokiri Forest felt like a wonderful place of happiness while Hyrule Field had an epic and powerful tone to it. The addition of musical gameplay made things more interesting as well and showed an importance to every area the player visited. Now, most importantly to the Zelda series itself and to any video game for that matter, comes the story. The Legend of Zelda has always been a series shining in the glory of it's adventures and this was the biggest and most powerful of them all. You begin as a young boy who has always felt left out and who has nightmares of dark visions that would become realities. As you start your quest you realize your true destiny and embark on a journey filled with adventure and courage like no other. The dark king of the Gerudo's Gannondorf seeks the legendary Triforce and will stop at nothing to rule the land of Hyrule. By unleashing monsters from the Temples' of Hyrule and by turning the once good and just land to pure evil, Gannondorf attempts total rule over the world. Link being the Hero of Hyrule must journey to the different lands and temples' of the land in order to gain power from the mystical \"sages\" and stop Gannondorf. The story in Ocarina beings great and never lets go. In fact the game gets better every second that it progresses. You meet many interesting characters such as Princess Ruto, Malon, Darunia, and the mysterious Sheik that not only have their own individual traits, but also contain important roles in your quest. Also, each character is easily remembered and full of emotion which grasps the player and gives them a sense of caring and passion for each one. The many temples and dungeons visited during the game are all fun, unique, and interesting and reward the player as he/she progresses. The game has quite a few side quests that are entertaining and it follows through right up to the end. There is nothing negative about this game and to this day it stands on a pedestal as one of if not the greatest game of all time and for good reason. Since it's release very few games have captured the true story, art, and power Ocarina of Time had mastered back in 1998. To this day I myself still play it and still consider it my favorite game ever. Not because of great graphics, or online play, or anything else that current games have fallen into but because Zelda is a game that touched my heart like no other game ever has. Current game developers and enthusiasts need to look back at The Legend of Zelda: Ocarina of Time and reconsider the direction that games are going. Zelda mastered it, and for that we should honor it.",
                  "Username": "pittsburghboy91",
                  "_deepnote_index_column": 7
                },
                {
                  "Title": "The Legend of Zelda: Ocarina of Time",
                  "Platform": "Nintendo64",
                  "Userscore": 10,
                  "Comment": "            This review contains spoilers, click expand to view.        This game is do doubt the greatest game in existance. Non, except for Nintendo haters, have been able to play this game without admiting it is at least one of the best of the best, if not THE best of the best. Super Mario 64 was the first game to make 3D conversion work, but this was the game that perfected it. It introduced a large 3 dimensional world to explore, which at the time was a huge deal. It also introduced new gameplay mechanics that made the action adventure genre work out even more. Like the lock-on targeting system, which helped to keep your eye on the enemy much easier, but without making the fighting too easy, as you had to meneuver around the enemy and dodge his attacks. Another big new feature was horse-back riding. Riding your horse around the huge field was big and new. It had an engaging story, that really sucked you in, which had lots of twists and turns. Like when Ganondorf attacked the castle, destroying your plan to get the Triforce before Ganon did. Or near the end, when Shiek, the man who helped you on your journey as an adult, reveals himself to be Princess Zelda, the person Link had been searching long and hard for. Another thing was the conversion from Young Link to Adult Link. This was the first Zelda game that introduced Adult Link, making him look more epic, and more like the hero of the legends. But the bigger twist is how you can play as both Young Link and Adult Link. Not only that, but the story counts on you using both of them to make it all the way through the story. There are alot of complicated dungeons with puzzles to solve, which can sometime twist your brain, and make the game much more challenging. What I loved about Zelda was the flawless gameplay and beautiful landscapes. Zelda Ocarina of Time was a first, it brought forth the perfection of 3D conversion, and made it beautiful, but also made the 3D mechanics work with how the game played out, and it worked beautifully. Of course the game isn't perfect, there are a few flaws in Ocarina of Time. Like the Water Temple, which is the most unpopular dungeon in the game. Everyone had a hard time with it, so it proved to be a bit too challenging. Plus in some parts of the game, the graphics don't look good at all. However, these flaws are not severe enough to interfere with the games overall greatness. There may be no such thing as a perfect game, but this game is as close to a perfect game as you can get. Zelda Ocarina of Time won Game of the Year in 1998, and got an honorable award in outstanding gaming achievement in 1999, and it didn't win these awards without good reason. This game is truley the best game of all time, and anyone who thinks they can make a game better than this is absolutely crazy. Sure Ocarina of Time may not be outstanding by todays standards, but considering the technology of gaming at the time, it was the best gaming could offer. Even 13 years after the game came out, Ocarina of Time is still selling like nuts via the Wii Virtual Console, which re-released Ocarina of Time in 2007. In my opinion, Ocarina of Time is, and will always be, the greatest game ever made, and I'm not alone in that statement. I have yet to meet a person who is not a Zelda hater who played Ocarina of Time and thought the games was horrible. Ocarina of Time is the best of the best in gaming, hands down, and it deserves a perfect score more than any game.",
                  "Username": "Nosidda89",
                  "_deepnote_index_column": 8
                },
                {
                  "Title": "The Legend of Zelda: Ocarina of Time",
                  "Platform": "Nintendo64",
                  "Userscore": 10,
                  "Comment": "I'm not kidding when I say that this is the only game I would ever consider to be 'perfect.' Not one person who has ever enjoyed a video game not play this. This isn't even my favourite video game,but I consider it perfect. It really is this good. Anyone who comes along to nit-pick away at Ocarina of Time wouldn't know a good game if it trotted along and killed their grandmother. I'llI'm not kidding when I say that this is the only game I would ever consider to be 'perfect.' Not one person who has ever enjoyed a video game not play this. This isn't even my favourite video game,but I consider it perfect. It really is this good. Anyone who comes along to nit-pick away at Ocarina of Time wouldn't know a good game if it trotted along and killed their grandmother. I'll admit, it's not without flaw; nothing is. But those flaws are merely physical. 'Perfect ' to me means it go everything it could right and remains good to everyone. That is what Ocarina of Time does, and that is what it will continue to do.",
                  "Username": "Regeneration13",
                  "_deepnote_index_column": 9
                },
                {
                  "Title": "The Legend of Zelda: Ocarina of Time",
                  "Platform": "Nintendo64",
                  "Userscore": 10,
                  "Comment": "Essentially one of the best games of all time, no cheese. Pros: Beautiful graphics for the N64; subtle, but challenging gameplay; variety of dungeons, puzzles, and secrets; innovative and imaginative. Cons: If Ocarina of Time had faults, it would be its often dull dungeon design, camera issues, and it has one of the worst power-ups to date.",
                  "Username": "KendylKlownfish",
                  "_deepnote_index_column": 10
                },
                {
                  "Title": "The Legend of Zelda: Ocarina of Time",
                  "Platform": "Nintendo64",
                  "Userscore": 10,
                  "Comment": "THIS is the PERFECT game ! no doubt. the gameplay is still better than in any other game. compared with other fantastic games like uncharted 2, the metal gear solid series or the mario series, it is the ultimate video game. i wish i could play the game like the first time. it was overwhelming",
                  "Username": "Boffboff",
                  "_deepnote_index_column": 11
                },
                {
                  "Title": "The Legend of Zelda: Ocarina of Time",
                  "Platform": "Nintendo64",
                  "Userscore": 10,
                  "Comment": "there is a reason this game garners the respect and is revered like it is. cause it is epic. to do what they did with the limitations of the n64 and tombstone cartridge is nothing short of amazing. if you haven't played it through do yourself a favour.",
                  "Username": "Bolts",
                  "_deepnote_index_column": 12
                },
                {
                  "Title": "The Legend of Zelda: Ocarina of Time",
                  "Platform": "Nintendo64",
                  "Userscore": 10,
                  "Comment": "Pure freaking magic, trolls can rage against the game as much as they want; when a discussion of the greatest game of all time comes up, Ocarina stands as king.",
                  "Username": "TheJokerJulian",
                  "_deepnote_index_column": 13
                },
                {
                  "Title": "The Legend of Zelda: Ocarina of Time",
                  "Platform": "Nintendo64",
                  "Userscore": 10,
                  "Comment": "El juego perfecto. Insuperable por lo que supuso. No habrá nunca una revolución igual. Lo mejor de la época y un espejo en el que miran los juegos de ahora. Seguirá en lo mas alto por siempre",
                  "Username": "velasco92",
                  "_deepnote_index_column": 14
                },
                {
                  "Title": "The Legend of Zelda: Ocarina of Time",
                  "Platform": "Nintendo64",
                  "Userscore": 10,
                  "Comment": " The best game of it's time, virtually as perfect as the N64 can take.",
                  "Username": "JordanI.",
                  "_deepnote_index_column": 15
                },
                {
                  "Title": "The Legend of Zelda: Ocarina of Time",
                  "Platform": "Nintendo64",
                  "Userscore": 10,
                  "Comment": " Amazing game in every aspect, i just want to point out, Lev, what do you mean it has a weak storyline. It has one of the best storylines of all time, the reason it seems generic is because its an old story, many, many stories copied off of this. Now thats not to say that zelda didn't take inspiration from other stories, but obviously made it their own. There has never been a story in Amazing game in every aspect, i just want to point out, Lev, what do you mean it has a weak storyline. It has one of the best storylines of all time, the reason it seems generic is because its an old story, many, many stories copied off of this. Now thats not to say that zelda didn't take inspiration from other stories, but obviously made it their own. There has never been a story in any other game that got me more involved then this one.",
                  "Username": "brentl",
                  "_deepnote_index_column": 16
                },
                {
                  "Title": "The Legend of Zelda: Ocarina of Time",
                  "Platform": "Nintendo64",
                  "Userscore": 10,
                  "Comment": "The best game EVER is so challenging and is for thing 100 hours,i love this cool game...............................................................sosososososososo good",
                  "Username": "Dankiller127",
                  "_deepnote_index_column": 17
                },
                {
                  "Title": "The Legend of Zelda: Ocarina of Time",
                  "Platform": "Nintendo64",
                  "Userscore": 10,
                  "Comment": "nice game i love game :D....................................................................................................................................................",
                  "Username": "leondaniel21",
                  "_deepnote_index_column": 18
                },
                {
                  "Title": "The Legend of Zelda: Ocarina of Time",
                  "Platform": "Nintendo64",
                  "Userscore": 10,
                  "Comment": "Hands down, the best game of all time. My favorite game on any list. Right from the first moment, your captured into the gameplay and you don't want to stop playing. the landscape is beautiful, the monsters are something you wouldnt expect, the dungeons are challenging yet fun, and the bosses are a landmark to beat. Once you beat the game the first time, you accually feel like you haveHands down, the best game of all time. My favorite game on any list. Right from the first moment, your captured into the gameplay and you don't want to stop playing. the landscape is beautiful, the monsters are something you wouldnt expect, the dungeons are challenging yet fun, and the bosses are a landmark to beat. Once you beat the game the first time, you accually feel like you have rescued a real princess and saved a real kingdom. The time playable land is massive and it will take some time to get everything, but the reward is well worth it. Hands down. Best. Game. Ever.",
                  "Username": "Winky-Nichols",
                  "_deepnote_index_column": 19
                },
                {
                  "Title": "The Legend of Zelda: Ocarina of Time",
                  "Platform": "Nintendo64",
                  "Userscore": 10,
                  "Comment": "One of (or the) best game ever made. Anyone who gives the masterpiece below a 7 or an 8 is either just here to hate on the astounding zelda franchise, doesn't know a DAMN good game or is insane. [2]",
                  "Username": "ChrnoTodd",
                  "_deepnote_index_column": 20
                },
                {
                  "Title": "The Legend of Zelda: Ocarina of Time",
                  "Platform": "Nintendo64",
                  "Userscore": 10,
                  "Comment": "People say it's overrated. I played it in 2006 after beating WindWaker, Minish Cap and Twilight Princess. This was not my first Zelda and yet I still put it above all others and somehow I've grown nostalgic over it in such a short amount of time. Music is amazing, world is so expansive for such an old game, characters and story is interesting and it keeps gameplay and exploration freshPeople say it's overrated. I played it in 2006 after beating WindWaker, Minish Cap and Twilight Princess. This was not my first Zelda and yet I still put it above all others and somehow I've grown nostalgic over it in such a short amount of time. Music is amazing, world is so expansive for such an old game, characters and story is interesting and it keeps gameplay and exploration fresh throughout. Best Zelda game IMO and worthy of more than a 10/10.",
                  "Username": "Kr1sP",
                  "_deepnote_index_column": 21
                },
                {
                  "Title": "The Legend of Zelda: Ocarina of Time",
                  "Platform": "Nintendo64",
                  "Userscore": 10,
                  "Comment": "I don`t know why but I have seen some people giving negative scores for this game. If they were wrong? YES, completely wrong! All I have to say is those people who gives low grades to this big of a game is either completely crazy, or is a hater, or do not know how to play the game and because of that gives it a low score. This game despite how old it is, still makes me fascinated with itsI don`t know why but I have seen some people giving negative scores for this game. If they were wrong? YES, completely wrong! All I have to say is those people who gives low grades to this big of a game is either completely crazy, or is a hater, or do not know how to play the game and because of that gives it a low score. This game despite how old it is, still makes me fascinated with its cinematic effects and graphics(by the way, graphics doesn`t matter, what matters is the fun). I did not accomplished the entire game a.k.a. side quests, but I accomplished the main storyline and that was REALLY worth of my time, I simply loved this game, it made me a fan of the Zelda games, I highly recommend that you play it, you surely won`t regret it, it's as the critics says a Masterpiece. And I have to say thanks to Shigeru Myamoto and Nintendo. Now if you excuse me, I have a new adventure to set on Zelda: Skyward Sword!",
                  "Username": "Plaster",
                  "_deepnote_index_column": 22
                },
                {
                  "Title": "The Legend of Zelda: Ocarina of Time",
                  "Platform": "Nintendo64",
                  "Userscore": 10,
                  "Comment": "Ignore all the butthurt Call of Duty fans who rated this low. They're just mad that their series isn't the highest rated on Metacritic and has been named \"Best Game of All Time\" by many.While the graphics and gameplay may not have aged 100% perfectly, this is truly a great game and I wholeheartedly recommend it for gamers of any age or preference. Don't let the stereotype of \"TheIgnore all the butthurt Call of Duty fans who rated this low. They're just mad that their series isn't the highest rated on Metacritic and has been named \"Best Game of All Time\" by many.While the graphics and gameplay may not have aged 100% perfectly, this is truly a great game and I wholeheartedly recommend it for gamers of any age or preference. Don't let the stereotype of \"The Legend of Zelda\" fool you. This series is truly the king of all video games.",
                  "Username": "Nirex8895",
                  "_deepnote_index_column": 23
                },
                {
                  "Title": "The Legend of Zelda: Ocarina of Time",
                  "Platform": "Nintendo64",
                  "Userscore": 10,
                  "Comment": "Easilly the greatest game ever made, when it was released, Nintendo took a huge risk, and it payed off, the enviorments still stand out to this very day, and the games music is some of the greatest in , the story is original, the characters are memorable, the controls are simple and fluent, it is a game flawless on all levels",
                  "Username": "Dude45",
                  "_deepnote_index_column": 24
                },
                {
                  "Title": "The Legend of Zelda: Ocarina of Time",
                  "Platform": "Nintendo64",
                  "Userscore": 10,
                  "Comment": "The highest scoring game on Metacritic and every other review site/magazine/etc, and it's no lie. The story, gameplay, pace and every other factor cohere in a way that makes OoT an amazing adventure that will never be forgotten. Screwed into the golden side of gaming history through unbreakable forces, The Legend of Zelda: Ocarina of Time is a masterpiece to be respected by gamers andThe highest scoring game on Metacritic and every other review site/magazine/etc, and it's no lie. The story, gameplay, pace and every other factor cohere in a way that makes OoT an amazing adventure that will never be forgotten. Screwed into the golden side of gaming history through unbreakable forces, The Legend of Zelda: Ocarina of Time is a masterpiece to be respected by gamers and non-gamers as art.",
                  "Username": "ja52ng74",
                  "_deepnote_index_column": 25
                },
                {
                  "Title": "The Legend of Zelda: Ocarina of Time",
                  "Platform": "Nintendo64",
                  "Userscore": 10,
                  "Comment": "This game is one of if not the Best game Ever made. Rather It Brings you nostalgia or not it is a Perfect masterpiece. And for all those 9 year old retard Call of duty Fans. Who by the way has never played a game other than First person Shooters. I say Shame on you. And if your one of those Graphics hating Retards. This game Had some of the Best Graphics of any game in 1998. And if yourThis game is one of if not the Best game Ever made. Rather It Brings you nostalgia or not it is a Perfect masterpiece. And for all those 9 year old retard Call of duty Fans. Who by the way has never played a game other than First person Shooters. I say Shame on you. And if your one of those Graphics hating Retards. This game Had some of the Best Graphics of any game in 1998. And if your Still irritated by the Graphics Buy the one for the 3ds it's graphics are Better. Point is The Games a outstanding.",
                  "Username": "Ross1021670",
                  "_deepnote_index_column": 26
                },
                {
                  "Title": "The Legend of Zelda: Ocarina of Time",
                  "Platform": "Nintendo64",
                  "Userscore": 10,
                  "Comment": "Easily the BEST game i have ever played! From the beautiful world of hyrule, to the lovable characters, to the fun, and brutal dungeons, this game achieves everything with perfection. There is literally nothing bad i can say about this game. It is video games biggest achievement, has been the highest rated game since release, and anyone who disagrees is a hater, never played, or justEasily the BEST game i have ever played! From the beautiful world of hyrule, to the lovable characters, to the fun, and brutal dungeons, this game achieves everything with perfection. There is literally nothing bad i can say about this game. It is video games biggest achievement, has been the highest rated game since release, and anyone who disagrees is a hater, never played, or just crazy. Just know that OOT will always be better than your favorite game. :)",
                  "Username": "ClassicGamer89",
                  "_deepnote_index_column": 27
                },
                {
                  "Title": "The Legend of Zelda: Ocarina of Time",
                  "Platform": "Nintendo64",
                  "Userscore": 10,
                  "Comment": "Ocarina of Time is the best game ever made; I need not give the full title of this game let alone explain the ranking. Words cannot describe this game. It was the first 3D Zelda game, and it's one of the most epic games of all time. This game is old, but it never gets old. It's stood the test of time, and after 12 years this game is still the best. I have never heard anyone saying anythingOcarina of Time is the best game ever made; I need not give the full title of this game let alone explain the ranking. Words cannot describe this game. It was the first 3D Zelda game, and it's one of the most epic games of all time. This game is old, but it never gets old. It's stood the test of time, and after 12 years this game is still the best. I have never heard anyone saying anything remotely negative about this game, so I know that this is the correct ranking. This is THE golden standard of video games. This game is the reason I will never sell my Nintendo 64. Critic score is a 99? Anything less than a 100 is a sham. It's very true that there's no such thing as a perfect game, but everything in the world is completely arbitrary without an accepted standard. This game is the standard because it's the highest rated game of all time (Guinness World Records officially named it such). You have no choice but to compare this game to every other game. it is perfect in every way. It never gets boring and everything about it is just...perfect.",
                  "Username": "Wpnfire",
                  "_deepnote_index_column": 28
                },
                {
                  "Title": "The Legend of Zelda: Ocarina of Time",
                  "Platform": "Nintendo64",
                  "Userscore": 10,
                  "Comment": " This game is the definition of GREATNESS. This is the 2nd best game ever. Story is awesome, the graphics for the 90s makes you feel in the game. The Gameplay is... do i have to say it? really? This game deserves a 99999999 out of 10, but since i can't do that, it gets a 10.",
                  "Username": "Shane95",
                  "_deepnote_index_column": 29
                },
                {
                  "Title": "The Legend of Zelda: Ocarina of Time",
                  "Platform": "Nintendo64",
                  "Userscore": 10,
                  "Comment": " This game is one of the best games ever created. It just disappoints me that so many people who play games on the Xbox360 or PS3 find this game as crap because of the graphics. They don't realize that this game came out in 1998.",
                  "Username": "WinterC",
                  "_deepnote_index_column": 30
                },
                {
                  "Title": "The Legend of Zelda: Ocarina of Time",
                  "Platform": "Nintendo64",
                  "Userscore": 10,
                  "Comment": "Â¿El mejor videojuego de la historia? Eso es imposible para cualquier videojuego pero... Â¿El considerado mejor videojuego de la historia? Si, y se lo ha ganado a pulso. Un clasico atemporal que no puede faltar en tu coleccion junto a otros juegos de su quinta como Meta Gear Solid, FFVII, Super Mario 64, etc...",
                  "Username": "battousai_hades",
                  "_deepnote_index_column": 31
                },
                {
                  "Title": "The Legend of Zelda: Ocarina of Time",
                  "Platform": "Nintendo64",
                  "Userscore": 10,
                  "Comment": "Just play it, if you don't think it's the greatest game ever (considering it's time) then sell all of your consoles, give away all of your games, and never play a video game again, you are not worthy!",
                  "Username": "LemonlyFresh",
                  "_deepnote_index_column": 32
                },
                {
                  "Title": "The Legend of Zelda: Ocarina of Time",
                  "Platform": "Nintendo64",
                  "Userscore": 10,
                  "Comment": "The Legend of Zelda: Ocarina of Time is not only the best game on the N64 in 1998, but one the greatest action adventure games of all times. Does it hold up today? In my personal opinion, it holds up pretty well and was pretty close to perfection. The visuals may look outdated today, but you cannot deny yourself that the atmosphere in the destinations within Hyrule are mesmerizing toThe Legend of Zelda: Ocarina of Time is not only the best game on the N64 in 1998, but one the greatest action adventure games of all times. Does it hold up today? In my personal opinion, it holds up pretty well and was pretty close to perfection. The visuals may look outdated today, but you cannot deny yourself that the atmosphere in the destinations within Hyrule are mesmerizing to explore in this game. The locations, the character designs, the temples, the story and the soundtrack (especially the soundtrack) are absolutely memorable through out this game and this game practically made me became a Zelda fan in the first place. I could see why there are some people whether they are Zelda fans or not that they are too fond with this Zelda title. It's a bit identical to A Link to the Past on the SNES, but with 3D rendered visuals and there is a lack of personality within many characters compared to the later Zelda games where character personalities has improved in. However, for Nintendo to produce an engaging story for their first 3D Zelda game, it became forgivable for its time. This maybe a really overrated Zelda game, but there's a reason why people prefer Legend of Zelda: Ocarina of Time as an instant classic.",
                  "Username": "TipsyMcBee",
                  "_deepnote_index_column": 33
                },
                {
                  "Title": "The Legend of Zelda: Ocarina of Time",
                  "Platform": "Nintendo64",
                  "Userscore": 10,
                  "Comment": "No more needs to be said about this game. The best game ever? I'm not sure but if any game has to have that title then I don't mind it being this one. Games don't come much better than this.",
                  "Username": "ImUnavailable",
                  "_deepnote_index_column": 34
                },
                {
                  "Title": "The Legend of Zelda: Ocarina of Time",
                  "Platform": "Nintendo64",
                  "Userscore": 10,
                  "Comment": "This is the single best no not only game but entertainment package. Ever. In my opinion and in many others. For many many many reasons. This game invented targeting systems which has been used my many many many games since. I think it has the best and easiest to grasp and relate too stories in a game ever. Its so simple yet if you want to get into it enough you will notice that nintendoThis is the single best no not only game but entertainment package. Ever. In my opinion and in many others. For many many many reasons. This game invented targeting systems which has been used my many many many games since. I think it has the best and easiest to grasp and relate too stories in a game ever. Its so simple yet if you want to get into it enough you will notice that nintendo has given you so much depth to read about and explore in the game. IT IS AN EPIC MY FRIENDS.",
                  "Username": "takepantsoff",
                  "_deepnote_index_column": 35
                },
                {
                  "Title": "The Legend of Zelda: Ocarina of Time",
                  "Platform": "Nintendo64",
                  "Userscore": 10,
                  "Comment": "What can I say that hasn't been said?Nothing.It's almost if not completely perfect! Gameplay is pure,Zelda awesomeness.Oh yeah and if you said it was boring,it's because you suck at it and you only like fps games where all you do is run in and go,\"I'M RAMBO!!!!BAMBLAMCHIGGABOOM!\". These people are what I call \"fraggots\" fps nerds who hate anything without guns and judge everything byWhat can I say that hasn't been said?Nothing.It's almost if not completely perfect! Gameplay is pure,Zelda awesomeness.Oh yeah and if you said it was boring,it's because you suck at it and you only like fps games where all you do is run in and go,\"I'M RAMBO!!!!BAMBLAMCHIGGABOOM!\". These people are what I call \"fraggots\" fps nerds who hate anything without guns and judge everything by graphics.Hence the word \"frag\" coming from \"frag grenade\",often used in fps games.Though Nintendo geeks can get annoying,too.But,I've gotten sidetracked.The controls,story,graphics (for it's time),gameplay,characters, and overall nostalgia are amazing.A 10 out of 10.An almost (if not completely) perfect game!",
                  "Username": "pixleking",
                  "_deepnote_index_column": 36
                },
                {
                  "Title": "The Legend of Zelda: Ocarina of Time",
                  "Platform": "Nintendo64",
                  "Userscore": 10,
                  "Comment": "The game that is considered by many the greatest of all time. I am just thankful to have witnessed this epic adventure back then and i´ll never forget the experience that i have made with OoT.",
                  "Username": "Caestus",
                  "_deepnote_index_column": 37
                },
                {
                  "Title": "The Legend of Zelda: Ocarina of Time",
                  "Platform": "Nintendo64",
                  "Userscore": 10,
                  "Comment": "If you watch the negative scores... it's only haters and people who never played the game... some even say Bad graphics... it was 1998 ffs and some say no story... lol, just lol, play the game before doing the review.I love this game for the simple fact that it makes you get in front of your tv and makes you want not to stop playing it. It's so good. my favourite game ever",
                  "Username": "Ken-chan",
                  "_deepnote_index_column": 38
                },
                {
                  "Title": "The Legend of Zelda: Ocarina of Time",
                  "Platform": "Nintendo64",
                  "Userscore": 10,
                  "Comment": "The Legend of Zelda: Ocarina of Time was one of the first games in which i picked up for the Nintendo 64 and continue to have it to this day, is an essential to the collection as it is, simply put, a masterpiece and really the centerpiece of excellence in the gaming industry at the time, Zelda really started my love for the Action-Adventure genre as it immersed the user in a world ofThe Legend of Zelda: Ocarina of Time was one of the first games in which i picked up for the Nintendo 64 and continue to have it to this day, is an essential to the collection as it is, simply put, a masterpiece and really the centerpiece of excellence in the gaming industry at the time, Zelda really started my love for the Action-Adventure genre as it immersed the user in a world of fantasy, the one thing i truly love and appreciate about this game was the soundtrack and sound effects, for example there was nothing more satisfying than collecting jems and breaking jars, as well as fighting scenes when music picked up a notch. This game was one of the first games in which i actually experienced the use of music to submerge the user into the fantasy world. Really just a beautiful story and really truely a masterpiece at the time.",
                  "Username": "Distrex",
                  "_deepnote_index_column": 39
                },
                {
                  "Title": "The Legend of Zelda: Ocarina of Time",
                  "Platform": "Nintendo64",
                  "Userscore": 10,
                  "Comment": "С чего бы начать... Это лучшая игра на свете, она волшебна. Саундтрек великолепен. Геймплей шикарен. Сюжет простой  но очаровательный 12/10",
                  "Username": "Akauro",
                  "_deepnote_index_column": 40
                },
                {
                  "Title": "The Legend of Zelda: Ocarina of Time",
                  "Platform": "Nintendo64",
                  "Userscore": 10,
                  "Comment": "I played it when I was a kid... good times... but in so much time, there's only one game that can fight with it for the place of the best gamer ever... and it's Zelda Breath of the Wild ;DThis is one of the BEST **** GAMES EVER!",
                  "Username": "Unmoth",
                  "_deepnote_index_column": 41
                },
                {
                  "Title": "The Legend of Zelda: Ocarina of Time",
                  "Platform": "Nintendo64",
                  "Userscore": 10,
                  "Comment": "Quien no le de un 10 a este juego es un niño rataocarina of time es el mejor juego de la historia.................................................................................",
                  "Username": "Ps4esmierda",
                  "_deepnote_index_column": 42
                },
                {
                  "Title": "The Legend of Zelda: Ocarina of Time",
                  "Platform": "Nintendo64",
                  "Userscore": 10,
                  "Comment": " Cat F., if they changed the plot and characters and towns and such... well, look at what crap Majora's Mask was. I can't argue with you on your level of entertainment. That's YOUR opionion. I can't change it. But I think OoT is a true Zelda game.",
                  "Username": "Y.Y.",
                  "_deepnote_index_column": 43
                },
                {
                  "Title": "The Legend of Zelda: Ocarina of Time",
                  "Platform": "Nintendo64",
                  "Userscore": 10,
                  "Comment": " The most addictive game I ever played! Can't wait to get my hands on Majora's Mask.",
                  "Username": "LinaL.",
                  "_deepnote_index_column": 44
                },
                {
                  "Title": "The Legend of Zelda: Ocarina of Time",
                  "Platform": "Nintendo64",
                  "Userscore": 10,
                  "Comment": " As far as I'm concerned this is one of the best, if not thee best games ever made. Even when i defeated the game i just erased my file and started over. Its so big that you can do just that and still have fun.",
                  "Username": "BurtQ.",
                  "_deepnote_index_column": 45
                },
                {
                  "Title": "The Legend of Zelda: Ocarina of Time",
                  "Platform": "Nintendo64",
                  "Userscore": 10,
                  "Comment": " Certainly the best 1 player game of all time. It mixes fantasy, role playing, and action into a game that has a premise of a young boy with serious overtones. Themes include maturing quickly, accepting who one is, and the eternal questions of the effects of time travel (I mean, come on, the whole thing with the Shadow Temple is mind-bending). Very few games can boast a premise this rich, Certainly the best 1 player game of all time. It mixes fantasy, role playing, and action into a game that has a premise of a young boy with serious overtones. Themes include maturing quickly, accepting who one is, and the eternal questions of the effects of time travel (I mean, come on, the whole thing with the Shadow Temple is mind-bending). Very few games can boast a premise this rich, smart, and well-thought out. Anyone who has problems with this game simply doesn't know what the word 'superb' means.",
                  "Username": "JoeB.",
                  "_deepnote_index_column": 46
                },
                {
                  "Title": "The Legend of Zelda: Ocarina of Time",
                  "Platform": "Nintendo64",
                  "Userscore": 10,
                  "Comment": " Excellent game......just flawless, great story line, great gameplay, perfect interactivity, really sucks you into a world with no limitations",
                  "Username": "MitchellE.",
                  "_deepnote_index_column": 47
                },
                {
                  "Title": "The Legend of Zelda: Ocarina of Time",
                  "Platform": "Nintendo64",
                  "Userscore": 10,
                  "Comment": " This is the single greatest game of all time. The first time I played this game I did it purely out of curiosity. I had never played a Zelda game in my life. Within the first 20 minutes of playing this game I knew that I had not played a more enjoyable and engrossing game before in my entire life. This game (along with Super Mario 64, Banjo Kazooie, Goldeneye, Mario Kart 64 and Diddy Kong This is the single greatest game of all time. The first time I played this game I did it purely out of curiosity. I had never played a Zelda game in my life. Within the first 20 minutes of playing this game I knew that I had not played a more enjoyable and engrossing game before in my entire life. This game (along with Super Mario 64, Banjo Kazooie, Goldeneye, Mario Kart 64 and Diddy Kong Racing) truly made the N64 the greatest gaming console in existence.",
                  "Username": "ThomasR.",
                  "_deepnote_index_column": 48
                },
                {
                  "Title": "The Legend of Zelda: Ocarina of Time",
                  "Platform": "Nintendo64",
                  "Userscore": 10,
                  "Comment": " Once in a while, you get those games that everybody talks about, and you fall into the lure of your peers, so you buy it. Zelda 64 is one of the games you buy yourself. This is the best game to ever be released on any platform. And no, don't tell me GTA is better than this because no, it just isn't. So go out and buy an N64 if you haven't already(if you can find them) and Once in a while, you get those games that everybody talks about, and you fall into the lure of your peers, so you buy it. Zelda 64 is one of the games you buy yourself. This is the best game to ever be released on any platform. And no, don't tell me GTA is better than this because no, it just isn't. So go out and buy an N64 if you haven't already(if you can find them) and get this game. Lock yourself into a room and play it 'till you can say wow for the fifth hundredth time. Or until you finish the game.",
                  "Username": "Zach",
                  "_deepnote_index_column": 49
                },
                {
                  "Title": "The Legend of Zelda: Ocarina of Time",
                  "Platform": "Nintendo64",
                  "Userscore": 10,
                  "Comment": " This is the best game ever. You can either complete the temples or play every once in a while in all the other side missions and mini games. It is incredible.",
                  "Username": "QuiqueC.",
                  "_deepnote_index_column": 50
                },
                {
                  "Title": "The Legend of Zelda: Ocarina of Time",
                  "Platform": "Nintendo64",
                  "Userscore": 10,
                  "Comment": " Quite simply, the best video game I've ever played. Everything, the game play, story, graphics... is perfect.",
                  "Username": "JakeM.",
                  "_deepnote_index_column": 51
                },
                {
                  "Title": "The Legend of Zelda: Ocarina of Time",
                  "Platform": "Nintendo64",
                  "Userscore": 10,
                  "Comment": " Truly, not a single Adventure/RPG can compare to this game. It may look dated now but graphics do not add or subtract anything from gameplay. Possibly the best game of the last century. If you hate this game, you hate gaming.",
                  "Username": "ShaneK.",
                  "_deepnote_index_column": 52
                },
                {
                  "Title": "The Legend of Zelda: Ocarina of Time",
                  "Platform": "Nintendo64",
                  "Userscore": 10,
                  "Comment": " The best game ever made, is perfect in any aspect of the game, music, graphics , story , the way that you target an enemy , this should be taken in consideration in games like GTA, where this is a huge flaw. The history of the game is amazing everything in the game is amazing. For younger people that maybe didn",
                  "Username": "CarlosS.",
                  "_deepnote_index_column": 53
                },
                {
                  "Title": "The Legend of Zelda: Ocarina of Time",
                  "Platform": "Nintendo64",
                  "Userscore": 10,
                  "Comment": "An amazing game for the N64. I am having trouble understanding all of the negative reviews. But (if they could think straight) the authors of the negatives would see that know one gives a crap about their reviews and 1 in 50 agree with them. I first played this game at my friends house and played it a little too long (judging by my bloodshot eyes and red face). After that, I purchased theAn amazing game for the N64. I am having trouble understanding all of the negative reviews. But (if they could think straight) the authors of the negatives would see that know one gives a crap about their reviews and 1 in 50 agree with them. I first played this game at my friends house and played it a little too long (judging by my bloodshot eyes and red face). After that, I purchased the GameCube remake and had just as much fun.",
                  "Username": "nintendoid13",
                  "_deepnote_index_column": 54
                },
                {
                  "Title": "The Legend of Zelda: Ocarina of Time",
                  "Platform": "Nintendo64",
                  "Userscore": 10,
                  "Comment": "It's simply a win. There is nothing else to it. Read whaT EVERYBODY ELSE SAID! They have covered it all. But if you don't get this game, i'll find you.",
                  "Username": "nonnikchief",
                  "_deepnote_index_column": 55
                },
                {
                  "Title": "The Legend of Zelda: Ocarina of Time",
                  "Platform": "Nintendo64",
                  "Userscore": 10,
                  "Comment": "I played this game 13 years after its release and I can say that it definitely deserves a perfect score. Everthing comes together so well the game is very long, has an awesome world with a variety of settings, great puzzles, has a very epic story and ending and one thing that stood out for me is that the game is very rewarding, if one takes ones time exploring, collecting and doing sideI played this game 13 years after its release and I can say that it definitely deserves a perfect score. Everthing comes together so well the game is very long, has an awesome world with a variety of settings, great puzzles, has a very epic story and ending and one thing that stood out for me is that the game is very rewarding, if one takes ones time exploring, collecting and doing side missions one will get stronger and acquire things that simply make the game easier and by the end fight you will actually feel powerful after those many hours spent preparing.One of the best games i have ever played.10/10.",
                  "Username": "Spartan111",
                  "_deepnote_index_column": 56
                },
                {
                  "Title": "The Legend of Zelda: Ocarina of Time",
                  "Platform": "Nintendo64",
                  "Userscore": 10,
                  "Comment": "The Legend of Zelda: Ocarina of Time is definitely the greatest game of all time, even to this day, no one has told a story as well as Nintendo has, and defined gameplay in a way that still stands above everything else all these years",
                  "Username": "Machofella",
                  "_deepnote_index_column": 57
                },
                {
                  "Title": "The Legend of Zelda: Ocarina of Time",
                  "Platform": "Nintendo64",
                  "Userscore": 10,
                  "Comment": "If I had to choose one game to play in my lifetime, this is it, no contest.This is a landmark in not just gaming, but art as a whole, and deserves recognition as such.",
                  "Username": "dismuter",
                  "_deepnote_index_column": 58
                },
                {
                  "Title": "The Legend of Zelda: Ocarina of Time",
                  "Platform": "Nintendo64",
                  "Userscore": 10,
                  "Comment": "One of the greatest of all time, nearly perfect in every way: graphics, sound, story and gameplay. It still retains its value years later with every replay.",
                  "Username": "pags2011",
                  "_deepnote_index_column": 59
                },
                {
                  "Title": "The Legend of Zelda: Ocarina of Time",
                  "Platform": "Nintendo64",
                  "Userscore": 10,
                  "Comment": "aahhh my child hood, brings back memories. this game may not be impressive in terms of today but back then it was a masterpiece and took gaming to whole other level",
                  "Username": "stopoverrating",
                  "_deepnote_index_column": 60
                },
                {
                  "Title": "The Legend of Zelda: Ocarina of Time",
                  "Platform": "Nintendo64",
                  "Userscore": 10,
                  "Comment": "the best game of zelda¡¡¡¡¡¡¡¡¡¡¡¡¡¡¡¡¡¡¡¡¡¡¡¡¡¡¡¡¡¡¡¡¡¡¡¡¡¡¡¡¡¡¡¡¡¡¡¡¡¡¡¡¡¡¡¡¡¡¡¡¡¡¡¡¡¡¡¡¡¡¡¡¡¡¡¡¡¡¡¡¡¡¡¡",
                  "Username": "agentesupremo",
                  "_deepnote_index_column": 61
                },
                {
                  "Title": "The Legend of Zelda: Ocarina of Time",
                  "Platform": "Nintendo64",
                  "Userscore": 10,
                  "Comment": "This game is the best rated game of all time: its metascore is 99, and if that's not enough to convince you that this game is amazing, you must really hate video games.",
                  "Username": "Linkfan",
                  "_deepnote_index_column": 62
                },
                {
                  "Title": "The Legend of Zelda: Ocarina of Time",
                  "Platform": "Nintendo64",
                  "Userscore": 10,
                  "Comment": " #1 Zelda game EVER!Buy it NOW!The game is PERFECT!!!!",
                  "Username": "BrennanL.",
                  "_deepnote_index_column": 63
                },
                {
                  "Title": "The Legend of Zelda: Ocarina of Time",
                  "Platform": "Nintendo64",
                  "Userscore": 10,
                  "Comment": " Well Shlim N. and Bob....I think you need to take my special therapy treatment. First, read \"The Hobbit\" and \"Lord of the Rings\". Then, watch the movie version of \"Lord of the Rings\" and then watch Miyazaki's \"Princess Mononoke\" and \"Spirited Away\". After that, read 13 books on mythology, study about the Medieval Times (NOT just Europe. Read about other countries too!) then play this Well Shlim N. and Bob....I think you need to take my special therapy treatment. First, read \"The Hobbit\" and \"Lord of the Rings\". Then, watch the movie version of \"Lord of the Rings\" and then watch Miyazaki's \"Princess Mononoke\" and \"Spirited Away\". After that, read 13 books on mythology, study about the Medieval Times (NOT just Europe. Read about other countries too!) then play this game and maybe you'll regret your nasty comments about this video game masterpiece. This is easily the most entertaining game of all time. I mean, it entertained my 7-year-old cousin along with her 5-year-old friends and they're impossible to entertain!",
                  "Username": "LacyM.",
                  "_deepnote_index_column": 64
                },
                {
                  "Title": "The Legend of Zelda: Ocarina of Time",
                  "Platform": "Nintendo64",
                  "Userscore": 10,
                  "Comment": " This game rules! Even though I couldn't finish it because I had a faulty one, I still really enjoyed it, it also has a great storyline to go with it.",
                  "Username": "Jackie",
                  "_deepnote_index_column": 65
                },
                {
                  "Title": "The Legend of Zelda: Ocarina of Time",
                  "Platform": "Nintendo64",
                  "Userscore": 10,
                  "Comment": " Without a doubt, this is the greatest game ever created.",
                  "Username": "JohnM.",
                  "_deepnote_index_column": 66
                },
                {
                  "Title": "The Legend of Zelda: Ocarina of Time",
                  "Platform": "Nintendo64",
                  "Userscore": 10,
                  "Comment": " I lack words for this game. Every single aspect of this masterwork screams of utter perfection and grace. Believe it or not, but this game is exactly as vital to your N64 as the heart and lungs are to your body.",
                  "Username": "JohnO.",
                  "_deepnote_index_column": 67
                },
                {
                  "Title": "The Legend of Zelda: Ocarina of Time",
                  "Platform": "Nintendo64",
                  "Userscore": 10,
                  "Comment": " I like this game too. VERY much. but i also think that crash bandicoot is VERY good. I think that the people who dont like zelda are probably younger and cant really comprehend zelda. but not all are that way.",
                  "Username": "JigganisZig",
                  "_deepnote_index_column": 68
                },
                {
                  "Title": "The Legend of Zelda: Ocarina of Time",
                  "Platform": "Nintendo64",
                  "Userscore": 10,
                  "Comment": " The BEST game ever, I just kept on playing!!!",
                  "Username": "RobetC.",
                  "_deepnote_index_column": 69
                },
                {
                  "Title": "The Legend of Zelda: Ocarina of Time",
                  "Platform": "Nintendo64",
                  "Userscore": 10,
                  "Comment": " Nothing else comes close to being as good as Ocarina of Time. This is and will always be the best game of all time. Sorry Mario.",
                  "Username": "Cory",
                  "_deepnote_index_column": 70
                },
                {
                  "Title": "The Legend of Zelda: Ocarina of Time",
                  "Platform": "Nintendo64",
                  "Userscore": 10,
                  "Comment": " The best game ever!!!!!! Those who don't like it can kiss my a**.",
                  "Username": "CasssandraB.",
                  "_deepnote_index_column": 71
                },
                {
                  "Title": "The Legend of Zelda: Ocarina of Time",
                  "Platform": "Nintendo64",
                  "Userscore": 10,
                  "Comment": " The Legend of Zelda series is the best series ever.",
                  "Username": "SeanE.",
                  "_deepnote_index_column": 72
                },
                {
                  "Title": "The Legend of Zelda: Ocarina of Time",
                  "Platform": "Nintendo64",
                  "Userscore": 10,
                  "Comment": "Nothing will ever touch this game's greatness. no matter how great the graphic get, no matter what happens in the future, this game will still destroy them all. best game....ever.",
                  "Username": "SamD.",
                  "_deepnote_index_column": 73
                },
                {
                  "Title": "The Legend of Zelda: Ocarina of Time",
                  "Platform": "Nintendo64",
                  "Userscore": 10,
                  "Comment": " There is absolutely nothing one can say to describe this game except perfect. Just perfect. Find me a game that changed the world more, and I'll GIVE you my copy (not gonna happen)",
                  "Username": "JasonM.",
                  "_deepnote_index_column": 74
                },
                {
                  "Title": "The Legend of Zelda: Ocarina of Time",
                  "Platform": "Nintendo64",
                  "Userscore": 10,
                  "Comment": " Blows everything right out of the water. I actually miss this game when I'm not playing it.......I wish some games would be as revolutionary as this one. The use of the Elements as temples adds to the great wonder of this game.",
                  "Username": "KyleN.",
                  "_deepnote_index_column": 75
                },
                {
                  "Title": "The Legend of Zelda: Ocarina of Time",
                  "Platform": "Nintendo64",
                  "Userscore": 10,
                  "Comment": " This is my favourite game of all time, I have the N64 and GameCube Master Quest versions. This game can never be beaten. We are up to the second generation of games now and I still can't find a better game. Perfect!",
                  "Username": "TylerA.",
                  "_deepnote_index_column": 76
                },
                {
                  "Title": "The Legend of Zelda: Ocarina of Time",
                  "Platform": "Nintendo64",
                  "Userscore": 10,
                  "Comment": " Greatest game ever. A completely immersive world, great story, charming people to meet. When I beat it for the first tiem, I was genuinely sad that I would never see any of these people again. Of course I got to see them again on my second, third, fourth, and fifth times through, but you know what I mean. Oh yes, I am still finding new secrets and areas, seven years and about about 100 Greatest game ever. A completely immersive world, great story, charming people to meet. When I beat it for the first tiem, I was genuinely sad that I would never see any of these people again. Of course I got to see them again on my second, third, fourth, and fifth times through, but you know what I mean. Oh yes, I am still finding new secrets and areas, seven years and about about 100 hours later.",
                  "Username": "JonnyW.",
                  "_deepnote_index_column": 77
                },
                {
                  "Title": "The Legend of Zelda: Ocarina of Time",
                  "Platform": "Nintendo64",
                  "Userscore": 10,
                  "Comment": " THE single game I could honestly say I think deserves the title best game ever. And no, I am not part of the hype, when I first played this I was pretty much isolated from any gamer culture, having no internet, no magazines and no proliferous gamer culture in my immediate area. This game is gaming taken to an art form.",
                  "Username": "MattD.",
                  "_deepnote_index_column": 78
                },
                {
                  "Title": "The Legend of Zelda: Ocarina of Time",
                  "Platform": "Nintendo64",
                  "Userscore": 10,
                  "Comment": " Best game ever, it made me feel as if I was actually in hyrule, something that not that many games make me feel. Quirky memorable characters, an amazing plot, a difficulty level honed to perfection, this is my only perfect 10.",
                  "Username": "OlduvaiJ.",
                  "_deepnote_index_column": 79
                },
                {
                  "Title": "The Legend of Zelda: Ocarina of Time",
                  "Platform": "Nintendo64",
                  "Userscore": 10,
                  "Comment": " This is one of the best games of all time. The gameplay is great, the stroyline is fun and entertaining, and an impresivly long game for the N64. The single \"dissappointing\" thing about this game is that the graphics arent too great, but considering its for the N64, they are not bad at all.",
                  "Username": "BogdanN.",
                  "_deepnote_index_column": 80
                },
                {
                  "Title": "The Legend of Zelda: Ocarina of Time",
                  "Platform": "Nintendo64",
                  "Userscore": 10,
                  "Comment": " One of the few things that manage to live up to to, and even outdo, the massive hype surrounding it. Easily the best game I have ever played.",
                  "Username": "Dan",
                  "_deepnote_index_column": 81
                },
                {
                  "Title": "The Legend of Zelda: Ocarina of Time",
                  "Platform": "Nintendo64",
                  "Userscore": 10,
                  "Comment": " I've never been so impacted by a video game before. When it came out, I must've beat it 4 or 5 times, looking for every secret. Now, as I watch my sister play it for the first time, almost 10 years later, the game still looks beautiful and the game play still holds up. Absolute nostalgia watching link travel through time again. Deserves to be the Best video game of all time.",
                  "Username": "BillH.",
                  "_deepnote_index_column": 82
                },
                {
                  "Title": "The Legend of Zelda: Ocarina of Time",
                  "Platform": "Nintendo64",
                  "Userscore": 10,
                  "Comment": " When the n64 released Zelda oot was one of its most anticipated games ever. It was so anticipated because the game play and the visuals looked absolutely amazing for its time. Still to this day Zelda oot is in my opinion better than Zelda tp.",
                  "Username": "Mr.EnigmaticDude",
                  "_deepnote_index_column": 83
                },
                {
                  "Title": "The Legend of Zelda: Ocarina of Time",
                  "Platform": "Nintendo64",
                  "Userscore": 10,
                  "Comment": " This is an incredible gaming expierence. Never have i played a game so excellent so perfect, and i might never play a game of this hype and calibure ever again. I thank God every day that this game was invented. Without this game the games today might not exsist. The controls, Story, Characters, and looks in this game are amazing. You can play this game over and over and you wont get This is an incredible gaming expierence. Never have i played a game so excellent so perfect, and i might never play a game of this hype and calibure ever again. I thank God every day that this game was invented. Without this game the games today might not exsist. The controls, Story, Characters, and looks in this game are amazing. You can play this game over and over and you wont get bored. If you have not played this game. GO OUT AND PLAY IT!! borrow it, download with your Wii jus play it. The most amazing gaming experience of your life might be waiting.",
                  "Username": "MichaelB.",
                  "_deepnote_index_column": 84
                },
                {
                  "Title": "The Legend of Zelda: Ocarina of Time",
                  "Platform": "Nintendo64",
                  "Userscore": 10,
                  "Comment": " By far the best game you'll ever play. Hands down.",
                  "Username": "JosephN.",
                  "_deepnote_index_column": 85
                },
                {
                  "Title": "The Legend of Zelda: Ocarina of Time",
                  "Platform": "Nintendo64",
                  "Userscore": 10,
                  "Comment": " This game is truly magical, the atmosphere, the story, the land, the hero, the princess, the puzzles... everything makes it a masterpiece. The best game ever. You can't say you're a videogame fan if you haven't played it.",
                  "Username": "JavierS.",
                  "_deepnote_index_column": 86
                },
                {
                  "Title": "The Legend of Zelda: Ocarina of Time",
                  "Platform": "Nintendo64",
                  "Userscore": 10,
                  "Comment": " The Greatest Game Ever TM. Nothing can compare to the depth, enjoyment, replay value, superb score etc etc. So ridiculously good it should be illegal and I still play it to this day. OOT=Much, much win.",
                  "Username": "Fraser",
                  "_deepnote_index_column": 87
                },
                {
                  "Title": "The Legend of Zelda: Ocarina of Time",
                  "Platform": "Nintendo64",
                  "Userscore": 10,
                  "Comment": " Progress? There has been relatively none since this game, as it is most probably the best one ever. The combination of a vast and realistic world to explore and the amount of things to do in it, along with the challenging dungeons is what does it. You really feel like you are there and the sunny fantasy world is one you want to explore. It never tries to be like another game- but many do Progress? There has been relatively none since this game, as it is most probably the best one ever. The combination of a vast and realistic world to explore and the amount of things to do in it, along with the challenging dungeons is what does it. You really feel like you are there and the sunny fantasy world is one you want to explore. It never tries to be like another game- but many do (or should) try to make something more like this greatness. It can be childish- but that is part of the fun.",
                  "Username": "Starfire",
                  "_deepnote_index_column": 88
                },
                {
                  "Title": "The Legend of Zelda: Ocarina of Time",
                  "Platform": "Nintendo64",
                  "Userscore": 10,
                  "Comment": " Legend of Zelda OoT is the single greatest single player video gaming experience for the nintendo 64. Anyone who says it is boring is obviously not a serious gamer. The graphics were amazing for the 64, the music score was amazing. the story was riveting. The gameplay was fun although some of the puzzles were a bit repetitive and boring the rest of the game was extremely fun.",
                  "Username": "1mmortal1ty",
                  "_deepnote_index_column": 89
                },
                {
                  "Title": "The Legend of Zelda: Ocarina of Time",
                  "Platform": "Nintendo64",
                  "Userscore": 10,
                  "Comment": " This game deserves to be eternally recognized and honored for how amazingly fun and addictive it was and still is. No wonder they had to wait 2 years to release it on the good old 64, Nintendo was trying to figure out how to make cartridges out of crack.",
                  "Username": "DonaldB.",
                  "_deepnote_index_column": 90
                },
                {
                  "Title": "The Legend of Zelda: Ocarina of Time",
                  "Platform": "Nintendo64",
                  "Userscore": 10,
                  "Comment": " I am playing OoT even nearly ten years after it released. Graphics don't matter (ten years ago it was the best graphic I've ever seen). But today the atmosphere is the same and I love playing this game through the tenth time (one time each year^^). It is really the best game of all times, no game is better today. Every gamer should have played it (If not your not a gamer!). A I am playing OoT even nearly ten years after it released. Graphics don't matter (ten years ago it was the best graphic I've ever seen). But today the atmosphere is the same and I love playing this game through the tenth time (one time each year^^). It is really the best game of all times, no game is better today. Every gamer should have played it (If not your not a gamer!). A terrific game, a perfect game. P.S. Those ones who gave 0 points are stupid anti-Nintendo bashers.",
                  "Username": "PhillipM.",
                  "_deepnote_index_column": 91
                },
                {
                  "Title": "The Legend of Zelda: Ocarina of Time",
                  "Platform": "Nintendo64",
                  "Userscore": 10,
                  "Comment": " This is the first Zelda game I ever played when I first played it I fell in love with it. Even after ten years I still consider it the best game of all time. I remmber how intimidated I was when I first fought Ganon I thought'Theres no way I can beat that!'.I truly did not want this game to end. It revolutionized gaming and without it gaming would'nt be like it is now.The This is the first Zelda game I ever played when I first played it I fell in love with it. Even after ten years I still consider it the best game of all time. I remmber how intimidated I was when I first fought Ganon I thought'Theres no way I can beat that!'.I truly did not want this game to end. It revolutionized gaming and without it gaming would'nt be like it is now.The Legend Of Zelda Ocarina Of Time is truly a master piece.",
                  "Username": "JasonK.",
                  "_deepnote_index_column": 92
                },
                {
                  "Title": "The Legend of Zelda: Ocarina of Time",
                  "Platform": "Nintendo64",
                  "Userscore": 10,
                  "Comment": " If I could give this game a 12, that wouldn't be high enough. One of the very first games I played on an actual console, this game is the epitome of creative design, story, and overall gameplay excellence. I continue to play this after all these years and I don't plan on getting rid of it anytime soon. Anyone who has any kind of remote interest in games should buy this and play If I could give this game a 12, that wouldn't be high enough. One of the very first games I played on an actual console, this game is the epitome of creative design, story, and overall gameplay excellence. I continue to play this after all these years and I don't plan on getting rid of it anytime soon. Anyone who has any kind of remote interest in games should buy this and play it, it is the cornerstone of Action/RPG gaming and deserves nothing more than to be the highest rated game on Metacritic still today.",
                  "Username": "JohnE.",
                  "_deepnote_index_column": 93
                },
                {
                  "Title": "The Legend of Zelda: Ocarina of Time",
                  "Platform": "Nintendo64",
                  "Userscore": 10,
                  "Comment": " Though Half-Life 2 came near to making me question what the best game I've ever played was, Legend of Zelda: OoT is quite definitely still on top. This was the very first game I'd ever played when I was growing, yet I remember every moment of playing it, even ten years later. This game took me with two hands, gently nudged me into the world of video games, and immediately made Though Half-Life 2 came near to making me question what the best game I've ever played was, Legend of Zelda: OoT is quite definitely still on top. This was the very first game I'd ever played when I was growing, yet I remember every moment of playing it, even ten years later. This game took me with two hands, gently nudged me into the world of video games, and immediately made me a believer. I would, without any hesitation at all, recommend this game to anyone, even if they're not a gamer.",
                  "Username": "ErikG",
                  "_deepnote_index_column": 94
                },
                {
                  "Title": "The Legend of Zelda: Ocarina of Time",
                  "Platform": "Nintendo64",
                  "Userscore": 10,
                  "Comment": " THE GREATEST GAME TO EVER GRACE HUMANITY. This is FLAWLESS, MASTERFUL, EPIC, MAJESTIC and LEGENDARY.Make absolutely no mistake about it, this masterpiece will go down in history as the best game ever made and will under no circumstances be surpassed. The mere mention of it's title invites wonderful memories that no amount of Halo's, Half Life's or GTA's will ever bring THE GREATEST GAME TO EVER GRACE HUMANITY. This is FLAWLESS, MASTERFUL, EPIC, MAJESTIC and LEGENDARY.Make absolutely no mistake about it, this masterpiece will go down in history as the best game ever made and will under no circumstances be surpassed. The mere mention of it's title invites wonderful memories that no amount of Halo's, Half Life's or GTA's will ever bring back.If you have not played this magical adventure you have surely missed out on gaming's finest hour. The 1 and only 100% game.",
                  "Username": "PaulM.",
                  "_deepnote_index_column": 95
                },
                {
                  "Title": "The Legend of Zelda: Ocarina of Time",
                  "Platform": "Nintendo64",
                  "Userscore": 10,
                  "Comment": " This is the bast game I have played yet. I was surprised to see that it only got a 9.2 on the user votes, but I see why. A ton of people think that this game is a 10, but others try to mess up the score by putting a 0. Even if you did not like this game at all, you have to admit that it is better than the majority of other games. A zero is way too harsh. The worst game of all time on this This is the bast game I have played yet. I was surprised to see that it only got a 9.2 on the user votes, but I see why. A ton of people think that this game is a 10, but others try to mess up the score by putting a 0. Even if you did not like this game at all, you have to admit that it is better than the majority of other games. A zero is way too harsh. The worst game of all time on this site only got a 3.1 rating by users. So loosen up!",
                  "Username": "DanielP",
                  "_deepnote_index_column": 96
                },
                {
                  "Title": "The Legend of Zelda: Ocarina of Time",
                  "Platform": "Nintendo64",
                  "Userscore": 10,
                  "Comment": " One of the only reasons somebody can have a complaint is because they simply weren't there when this came out, experiencing it for the first time, when it was at it's prime. For somebody it playing now it seems outdated and unplayable, just like any other early 3D game from that time. I've played through great games such as Halo, Meroid Prime, and Resident Evil 4 and have One of the only reasons somebody can have a complaint is because they simply weren't there when this came out, experiencing it for the first time, when it was at it's prime. For somebody it playing now it seems outdated and unplayable, just like any other early 3D game from that time. I've played through great games such as Halo, Meroid Prime, and Resident Evil 4 and have still afterwards been able to be drawn back to Hyrule and recreate the same memories from when I was younger. It's games like that this that are hard to come by now, theres still near perfect games today, but not as many that people of all ages, and all preferences, can enjoy as well as this game. I'm not going to say it's flawless. But for it's time, and even for today, it's one of the best damn games ever created. No question.",
                  "Username": "TomP.",
                  "_deepnote_index_column": 97
                },
                {
                  "Title": "The Legend of Zelda: Ocarina of Time",
                  "Platform": "Nintendo64",
                  "Userscore": 10,
                  "Comment": " This is the best game ever made. The graphics were amazing for that time, the music was amazing and went well with the dungeons or situations you constantly face. Also the gameplay is so smooth, Link does exactly what you want him to do all the time. Seriously he stops perfectly when you let go of the joystick. Amazing game. Also the story is very ammirsing. It creates a world with This is the best game ever made. The graphics were amazing for that time, the music was amazing and went well with the dungeons or situations you constantly face. Also the gameplay is so smooth, Link does exactly what you want him to do all the time. Seriously he stops perfectly when you let go of the joystick. Amazing game. Also the story is very ammirsing. It creates a world with creatures and there habitats and stuff like that. I would give it 100/10 but that is impossible.",
                  "Username": "JoeyM.",
                  "_deepnote_index_column": 98
                },
                {
                  "Title": "The Legend of Zelda: Ocarina of Time",
                  "Platform": "Nintendo64",
                  "Userscore": 10,
                  "Comment": " Personally the best game ever made and will never be beaten.",
                  "Username": "MattM",
                  "_deepnote_index_column": 99
                }
              ],
              "rows_bottom": [
                {
                  "Title": "Assassin's Creed: Revelations",
                  "Platform": "PC",
                  "Userscore": 8,
                  "Comment": "No game deserves a 0,as can be seen by quite a few reviews down here. I must say this game has not lived up to it's full potential, and has been quite a let down to many of it's fans. However, i must say that Assassin's Creed Revelations is a good enough way to send off Ezio and end the altair storyline. With several new mechanics and more of the good stuff, i believe this game is worthNo game deserves a 0,as can be seen by quite a few reviews down here. I must say this game has not lived up to it's full potential, and has been quite a let down to many of it's fans. However, i must say that Assassin's Creed Revelations is a good enough way to send off Ezio and end the altair storyline. With several new mechanics and more of the good stuff, i believe this game is worth your time if you're a fan of the franchise",
                  "Username": "lifexux",
                  "_deepnote_index_column": 283883
                },
                {
                  "Title": "Assassin's Creed: Revelations",
                  "Platform": "PC",
                  "Userscore": 9,
                  "Comment": "A brilliant game for Assassin's Creed Fans even though it feels a bit like brotherhood.The new game in Ubisofts francise has exeded it's predesecor Brotherhood but some things in the game are not as good as you want it to be. Of course as this is an assassin's Creed game, you'll be in an open world map and this time it's back to constantinople. The free running technique has beenA brilliant game for Assassin's Creed Fans even though it feels a bit like brotherhood.The new game in Ubisofts francise has exeded it's predesecor Brotherhood but some things in the game are not as good as you want it to be. Of course as this is an assassin's Creed game, you'll be in an open world map and this time it's back to constantinople. The free running technique has been modified and feels better than brotherhood but the melee is basacly the same. The new mode Den Defence is not all that good and after a while will become tedious and boring. In the game you can also craft bombs which will help you in your story. As always the graphics deliver and are brilliant to see. The one thing that is completly outstanding, is the multiplayer. With new modes and even more wepons to play with you will be on it for hours on end. Verdict: This Game is amazing in multiplayer and the story is brilliant.As always the Graphics are good especialy in the first scene with Ezio. The music fit's the game but Den Defence is not the best. If your an Assassin's Creed fan get the game but it may feel a bit like Brotherhood. Presentation:9.5/10 Gameplay:8/10 Sound:9/10 Graphics:10/10 Replay Value:9/10 Overall:9/10",
                  "Username": "LaytonLink1",
                  "_deepnote_index_column": 283884
                },
                {
                  "Title": "Assassin's Creed: Revelations",
                  "Platform": "PC",
                  "Userscore": 7,
                  "Comment": "i am really confuse here that Assassin's Creed has s*** tons of series that i cant even tell the difference. I did played the very first Assassin's Creed i thought it was pretty good. but then, they had many series that i dont know which ones which. i saw a older man's cover, a yonger man's cover and woman's cover...WTF??!!!  am really confused!!!",
                  "Username": "GamersLikeABoss",
                  "_deepnote_index_column": 283885
                },
                {
                  "Title": "Assassin's Creed: Revelations",
                  "Platform": "PC",
                  "Userscore": 9,
                  "Comment": "A very good ending to Ezio's trilogy, with nice flashbacks into Altair's memories. Innovations compared to Brotherhood are lacking, but if you take AC2 + Brotherhood + Revelations as one single game & story arc, it's a very enjoyable experience and you'll be left asking for more!",
                  "Username": "tiho",
                  "_deepnote_index_column": 283886
                },
                {
                  "Title": "Assassin's Creed: Revelations",
                  "Platform": "PC",
                  "Userscore": 4,
                  "Comment": "The low point of the Assassin's Creed series. Revelations can be described with one word: lazy. Ubisoft gained everyone's trust with the previous games and fooled us into giving them money for a poor quality product. There was no need for two half-hearted games, it ruined the hype for Assassin's Creed III.",
                  "Username": "GBowles",
                  "_deepnote_index_column": 283887
                },
                {
                  "Title": "Assassin's Creed: Revelations",
                  "Platform": "PC",
                  "Userscore": 6,
                  "Comment": "Grafika: TBAStylizace: TBAPříběh: TBALore: TBAVýprava: TBAImerze: TBAChytlavost: TBAKomplexnost: TBADopamin: TBA----------------Multiplayer: AnoLAN: NeZnovuhratelnost: NeDélka hry: TBADatum dohrání: 8. dubna 2012Stav dohrání: 100 %",
                  "Username": "GarrusCZ",
                  "_deepnote_index_column": 283888
                },
                {
                  "Title": "Assassin's Creed: Revelations",
                  "Platform": "PC",
                  "Userscore": 5,
                  "Comment": "Eh...there was something that truly bothered me about this game. ACB was so bright and had so much more optional crap to do. ACR seemed to drop that on it's ass. This is how I think of the AC series...AC1: A good pilot game...a beta if you so please. AC2: A well executed game that had detail and many optional things to do. ACB: a vast open game with many options and even more refinement.Eh...there was something that truly bothered me about this game. ACB was so bright and had so much more optional crap to do. ACR seemed to drop that on it's ass. This is how I think of the AC series...AC1: A good pilot game...a beta if you so please. AC2: A well executed game that had detail and many optional things to do. ACB: a vast open game with many options and even more refinement. ACR: lacks many previous options and the overal setting is dull and the ambiance noises are repeatitive. AC3: doesn't even deserve to be places with the rest of the AC games.",
                  "Username": "Nadeslos",
                  "_deepnote_index_column": 283889
                },
                {
                  "Title": "Assassin's Creed: Revelations",
                  "Platform": "PC",
                  "Userscore": 7,
                  "Comment": "This game is much better than Brotherhood. The Story ist very interesting, mabye not the whole game like Assassin's Creed 2, but to the end ist very exciting. The gamepkay is fluid, graphics are nice. But there are not many new features, mostly like the other Assassin's Creeds. Assassin's Creed Revelations is with Assassin's Creed 2 one of the best parts of this series.",
                  "Username": "FloppiZock",
                  "_deepnote_index_column": 283890
                },
                {
                  "Title": "Assassin's Creed: Revelations",
                  "Platform": "PC",
                  "Userscore": 8,
                  "Comment": "The fourth instalment of the franchise, with Ubisoft stepping it up over the course of 4 years, Assassin's Creed Revelations definitely have faults of its own compared to its predecessors.While retains the linear storyline of the previous Assassin's Creed games, it adds a few more obstructive technical issues that somewhat affects the overall experience badly.For example, havingThe fourth instalment of the franchise, with Ubisoft stepping it up over the course of 4 years, Assassin's Creed Revelations definitely have faults of its own compared to its predecessors.While retains the linear storyline of the previous Assassin's Creed games, it adds a few more obstructive technical issues that somewhat affects the overall experience badly.For example, having vsync turned 'Off' and a refresh rate over 60hz often results in crashes and glitches, in between the main story missions. It is extremely annoying at times, especially because it has already seen it's existence since AC2 and had gotten worse.. Crashes doesn't happen just once or twice, probably a good 10+ in total.Graphics wise, there isn't much improvements from the previous titles, and looks just slightly better.My conclusion is that if you've enjoyed Ezio, Altair, and Desmond's stories, then Assassin's Creed Relevations is one title that you cannot miss, an EPIC end to the Altair/Ezio story. If not, then you probably won't enjoy it a whole lot.",
                  "Username": "FruitCakeHD",
                  "_deepnote_index_column": 283891
                },
                {
                  "Title": "Assassin's Creed: Revelations",
                  "Platform": "PC",
                  "Userscore": 8,
                  "Comment": "Revelations has a lot of improvements on Brotherhood and it has amazing moments that will make your jaw drop  the graphics are great and the gameplay is smooth and also transportation became much faster and better also the story is good but i didn't like that they ditched horses in this game that's what i didn't like after all it is a great game and the best end for Ezio and Altair story",
                  "Username": "Basem101",
                  "_deepnote_index_column": 283892
                },
                {
                  "Title": "Assassin's Creed: Revelations",
                  "Platform": "PC",
                  "Userscore": 7,
                  "Comment": "a step back from brotherhood. the main drawback is there is nothing really innovative . its the same as brotherhood but in a different location . again lackluster multiplayer. but the plus side being a good story character development and a satisfying end to ezio.",
                  "Username": "ghost2512",
                  "_deepnote_index_column": 283893
                },
                {
                  "Title": "Assassin's Creed: Revelations",
                  "Platform": "PC",
                  "Userscore": 5,
                  "Comment": "There is one reason alone for purchasing Assassin’s Creed Revelations, Ezio.In Assassin’s Creed II, Ubisoft created what would become one of the most successful video game characters of this generation. Ezio’s elegance, class, humour and all round entertaining persona carried the Assassin’s Creed franchise away from the monotone days of Altiar, into the success it has enjoyed in recentThere is one reason alone for purchasing Assassin’s Creed Revelations, Ezio.In Assassin’s Creed II, Ubisoft created what would become one of the most successful video game characters of this generation. Ezio’s elegance, class, humour and all round entertaining persona carried the Assassin’s Creed franchise away from the monotone days of Altiar, into the success it has enjoyed in recent years. The same can be said for Revelations.The greatest asset of this game is Ezio, the performance by Rodger Smith is spot on and the writing has actually improved in relation to his lines making it more sophisticated to create a more believable story around a man looking for answers, that have deluded him over the previous games. In fact the story that actually centres on Ezio himself has never been so good, it’s a shame the plot around Constantinople is significantly weaker, portraying a power struggling in the Ottoman empire that you simple don’t come to care to much about. Over the game the story of Ezio will be neatly and most importantly satisfyingly tied up into a nice ribbon, doing the previous two games justice. However to get to this point you will have to get threw the other story plots including the Ottomans.The truth about this game is that you have most likely played it before, the fundamental mechanics, gameplay and style of game has not changed drastically since Assassin’s Creed II’s release in 2009. You will still be sent on quests by colourful characters to assassinate certain targets, find out important information to progress the story line and occasionally a nice curveball may be included such as stealing a street entertainers clothing and instrument. There is nothing wrong with this formula, as we know it works, however three games later it’s starting to wear thin.It must be said that Ubisoft has tried to innovate in some areas however even with some success, not enough has been done to actually make this game feel like a sequel rather then an extension pack. The hook blade does in fact create a new stance on combat and exploration, also the introducing of bomb crafting is a nice touch. Beyond this though is nothing but a tedious fort defence game and minor tweaks to the open world map. There is no way Ubisoft could get away with making so little changes again.Leaving these quarrels behind, if you have played the previous two titles in this series Revelations is definitely worth getting to complete the tale of one of video games most beloved characters, if you haven’t played any of the Assassin Creed games, I would strongly suggest buying Assassin’s Creed II as you get the same gameplay with a better story for a much lower price.In conclusion Revelations was a game needed to put Ezio to rest and it does this well, so it should be commended. Lets just hope that Ubisoft has a something up its sleeve so that it can build upon such a successful franchise.",
                  "Username": "JohnnyMcMichael",
                  "_deepnote_index_column": 283894
                },
                {
                  "Title": "Assassin's Creed: Revelations",
                  "Platform": "PC",
                  "Userscore": 10,
                  "Comment": "This game is very good, it definitely didn't let me down from the last one, The hook-blade is a very good idea, i like that they changed up the menu, and the storyline just gets better. This game is a great game and  anyone who says it isn't is just a silly goober",
                  "Username": "TeqqVenom",
                  "_deepnote_index_column": 283895
                },
                {
                  "Title": "Assassin's Creed: Revelations",
                  "Platform": "PC",
                  "Userscore": 9,
                  "Comment": "the game is excellent,good story line between ezio and altair ,many new functions also overall it is the best game new thing is that u can travel many far places in short time",
                  "Username": "robbena13",
                  "_deepnote_index_column": 283896
                },
                {
                  "Title": "Assassin's Creed: Revelations",
                  "Platform": "PC",
                  "Userscore": 4,
                  "Comment": "The first horrible thing I want to note: unskippable 20 minutes lasting credits. If you're an average person with 8 hours of free time, then consider more than 4% of it wasted due to these damn long credits, so I've decided to rate the game at 4.Ok, now the other things.. First problem I noticed after starting the game was Desmond's new weird baby-face look. I didn't even recognize himThe first horrible thing I want to note: unskippable 20 minutes lasting credits. If you're an average person with 8 hours of free time, then consider more than 4% of it wasted due to these damn long credits, so I've decided to rate the game at 4.Ok, now the other things.. First problem I noticed after starting the game was Desmond's new weird baby-face look. I didn't even recognize him at first, it was way too weird..Moving forward through the game, the story was becoming a bit too much of a mind****, what with Ezio using magic stones to get into Altair's memories and Desmond's mental health problems.. It all seemed way too shady though as everything else from the city was trying to get your attention. What I really didn't get was all the strange new mechanics that the previous games didn't have. To be fair, it's nice to see some new mechanics, but when they come out of nowhere, often leading to your death, you can't help but feel lost in the game. For example, Den Defense seemed new, so did the bombs and new (almost unbeatable) enemies, but I never really got to understanding them all, because there was way too much detail put into them to simply easily comprehend. It would've been good if the story missions didn't endlessly tempt you. The music from Jesper Kyd was great as always, though. I really had a problem with the characters on Ezio's story, they seemed very temporary. And on Altair's side.. I don't understand what happened to his voice. He used to have that calm American accent VA which was kind of a screw-up at first, but since they decided to make him speak in an Arabic accent this time, I could barely even recognize it was the same person. It would've been better if he just spoke the same way as before, would've brought some minor nostalgia.Overall, this game is just too clunky for me to be considered good. It's like they put Brotherhood into a pile of mud, then into a blender, and slowly cooked the resulting mass into what Revelations is now..",
                  "Username": "OldManCoot",
                  "_deepnote_index_column": 283897
                },
                {
                  "Title": "Assassin's Creed: Revelations",
                  "Platform": "PC",
                  "Userscore": 9,
                  "Comment": "El único problema que le encuentro es que no hace honor a su nombre: no hay \"revelación\", no nos cuentan nada que no supiéramos ya. Por lo demás, es un poco corto (comprensible, dado el tiempo de desarrollo) pero se perdona por poder ver a ese Ezio crepuscular viajando por las tierras de su antepasado a la caza de la verdad y esa estética tan cuidada, propia de los AC.",
                  "Username": "DAOuser",
                  "_deepnote_index_column": 283898
                },
                {
                  "Title": "Assassin's Creed: Revelations",
                  "Platform": "PC",
                  "Userscore": 8,
                  "Comment": "Gameplay : 9Graphics : 9Story    : 8Sound    : 8**********************************************************************************Overall  : 9",
                  "Username": "Mahdiar",
                  "_deepnote_index_column": 283899
                },
                {
                  "Title": "Assassin's Creed: Revelations",
                  "Platform": "PC",
                  "Userscore": 6,
                  "Comment": "I  really liked Assassi's Creed 2 and Assassin's Creed: Brotherhood and then I get totally fed up with the same gameplay with Assassin's Creed: Revelations.",
                  "Username": "grrrr",
                  "_deepnote_index_column": 283900
                },
                {
                  "Title": "Assassin's Creed: Revelations",
                  "Platform": "PC",
                  "Userscore": 7,
                  "Comment": "Assassin's Creed: Revelations is basically the same compared to its predecessors, if not worse. The game stuffed itself with contents, yet only few feel good enough to have a reason to be there in the first place.",
                  "Username": "Tomle1202",
                  "_deepnote_index_column": 283901
                },
                {
                  "Title": "Assassin's Creed: Revelations",
                  "Platform": "PC",
                  "Userscore": 8,
                  "Comment": "Even the greatest heroes can't live forever. So it goes for Ezio Auditore, who finally steps aside to make room for new champions in Assassin's Creed Revelations. The game sets you loose in a visually stunning recreation of 15h Century Constantinople, where you leap across rooftops like a renaissance superhero. But like many sequels, Assassin's Creed Revelations has many flaws. You loseEven the greatest heroes can't live forever. So it goes for Ezio Auditore, who finally steps aside to make room for new champions in Assassin's Creed Revelations. The game sets you loose in a visually stunning recreation of 15h Century Constantinople, where you leap across rooftops like a renaissance superhero. But like many sequels, Assassin's Creed Revelations has many flaws. You lose horses and other serious improvements in the last game in favor of awkward mechanics that don't belong. Those include first person plat forming and tower defense battles. Neither of which are very good. Thankfully when Assassin's Creed Revelations remembers to be an Assassin's Creed game, it reminds you of what makes this series so great. Assassin's Creed Revelations isn't all about Ezio Auditore's story, it's also Desmond Mile's story. Here Desmond Mile's mind is a prisoner within the animus. This computerized space is presented as an island. Where shimmering doors leads to his ancestor's memories as well as his own. Playing as Desmond Miles isn't as entertaining as is it was in Assassin's Creed Brotherhood. That's due in part to the levels that represent his memories. This synthetic cyberspace environments are a cool backdrop but the gameplay isn't fun. You create blocks and ramps out of thin air and move forward, but the jumping feels flat and the puzzles don't test your mind, they are just frustrating. This is one of Assassin's Creed Revelations attempt to force elements into a game that doesn't benefit from them. Unfortunately, you spend the bulk of your time as Ezio and sometimes as Altair from Assassin's Creed 1. It seems it's near the games conclusion throb with emotional resonance. Yes, there are a few great holy cow moments near the end, but it's the calm before the storm that tides two lives together and thus impresses the most. It makes you realize you will miss these Assassins of centuries past. As for Ezio Auditore's story, it's as tired as the older Ezio looks. Great voice actors sell every line, but the political intrigue among the Sultan's family just isn't that interesting. Still Assassin's Creed Revelations largely impresses thanks to how much fun it is to move through its' world. That's partly because of the gorgeous views. It's partly because of the fantastic soundtrack. But it's also because it's climbing and leaping is so joyful. The addition of the hook blade enhances the parkour of past games. You can climb faster, glide down zip lines and grab walls you would have missed in the past. You can also float downwards with parachutes. The result, plat forming is exhilarating as ever and certain set piece missions, like one in which you escape a burning boat ramp up the excitement. Not every set piece moment is as good as that one. Avoiding rocks as you drag behind a curating carriage isn't fun for example. Assassin's Creed Brotherhood did these kinds of scripted events better albeit Assassin's Creed Revelations does make important improvements. Assassin recruitment returns, but sending your brothers and sisters on missions now has more context. Setting Assassins to different cities reduces Templar control and increases Assassins control. The simple addition of a strategic element keeps recruitment from being simple busy work. In addition, there are quests you do with fully leveled assassins. Now, you actually feel like a mentor. An addition that isn't so good is that of tower defense. You capture Templar regimes, by killing commanders and lighting signal fires, but the Templars will try to get them back which means having to play a boring tower defense game. You stand on a roof, assign assassins to different locations and try to defeat waves of enemies. The simple mechanic structure make this a dull exercise and the camera close-ups of falling Templars disrupt the flow. Tower defense isn't all that's new. Now you can craft bombs out of ingredients you find. Combine them at a crafting station and viola. Bombs that explode release poison gas and so on. Combat has seen other changes such as awesome new finishing moves in addition of enemy gunners. Multiplayer returns as well, with some new modes like death match and capture the flag variant. Death match doesn't have the attention that the returning modes do. It's still more enjoyable to sling through the crowds, blending in while hoping your target slips up and makes himself known. Artifact assault gives you a chance to speed across rooftops with the enemies flag, which is quite fun. But, Assassin's Creed Revelations is at its best when it focuses on what the series does best. The first person puzzling and tower defense are bewildering additions, but when you skyrocket across the rooftops of this magnificent city, the stunning sites transport you to another century. Remember, \"Nothing is true... Everything is permitted\". \"La shai wak'ion motlaq bal kollon momken\". I would give this game a rating of 84 out of 100.",
                  "Username": "Imarullo349",
                  "_deepnote_index_column": 283902
                },
                {
                  "Title": "Assassin's Creed: Revelations",
                  "Platform": "PC",
                  "Userscore": 7,
                  "Comment": "\"Revelations\" improved \"Assassin's\" world in many ways. But yet I have some mixed feelings about it.On one side, there is a polished gameplay (comparing to assassins released earlier) and a solid story, on the other side some additions to the story (I mean animus) and DLC content didn't work as much as I had hoped, some episodes in story were either boring or poorly directed (death of\"Revelations\" improved \"Assassin's\" world in many ways. But yet I have some mixed feelings about it.On one side, there is a polished gameplay (comparing to assassins released earlier) and a solid story, on the other side some additions to the story (I mean animus) and DLC content didn't work as much as I had hoped, some episodes in story were either boring or poorly directed (death of Lucy).Anyway, the game is a good ending to the story of Ezio, maybe not as epic as many had hoped, but good anyway.",
                  "Username": "jelikey",
                  "_deepnote_index_column": 283903
                },
                {
                  "Title": "Assassin's Creed: Revelations",
                  "Platform": "PC",
                  "Userscore": 10,
                  "Comment": "I just started playing this game a few days ago and i must say this is a very addictive game. I am a big fan of the AC series and i am aiming to complete all the games until AC Unity before the arrival of  AC : Syndicate. Anyone who has played AC 1,2 and Brotherhood should not miss this one",
                  "Username": "Nishchaya",
                  "_deepnote_index_column": 283904
                },
                {
                  "Title": "Assassin's Creed: Revelations",
                  "Platform": "PC",
                  "Userscore": 10,
                  "Comment": "this game it is look like other AC game but for me the story was interesting and it had letter better graphic then other games in the series.",
                  "Username": "gameboy92",
                  "_deepnote_index_column": 283905
                },
                {
                  "Title": "Assassin's Creed: Revelations",
                  "Platform": "PC",
                  "Userscore": 4,
                  "Comment": "Not a very good game in the first place, and destroyed completely by several game-crashing bugs that were never fixed. The controls have been slightly improved from the first 3 games, but 80% of the game is a repeated loop of:1. Do some random missions2. Find a book3. Get the book4. Find a masyaf key5. Get the masyaf key6. Play an Altair memory7. Repeat",
                  "Username": "tsmith18256",
                  "_deepnote_index_column": 283906
                },
                {
                  "Title": "Assassin's Creed: Revelations",
                  "Platform": "PC",
                  "Userscore": 10,
                  "Comment": "Assassin's Creed: Revelations é perfeito,uma obra-prima.O melhor jogo que já joguei sem contar enredo,gráficos,jogabilidade e todo o carisma de Ezio,que lhe faz a ubisoft ter minha nota dez dessa vez...",
                  "Username": "JoaoGrilo",
                  "_deepnote_index_column": 283907
                },
                {
                  "Title": "Assassin's Creed: Revelations",
                  "Platform": "PC",
                  "Userscore": 8,
                  "Comment": "worst of ezio trilogy but it is really good game. gameplay mechanics are same as 2 and brotherhood. added bomb mechanics and hookblade. bomb mechanics are complex and usefull. hookblade makes easier climbing. battle system is same as brotherhood but  guards are really powerful. it is harder than brotherhood. assassin training missions good and strange. generally side missions areworst of ezio trilogy but it is really good game. gameplay mechanics are same as 2 and brotherhood. added bomb mechanics and hookblade. bomb mechanics are complex and usefull. hookblade makes easier climbing. battle system is same as brotherhood but  guards are really powerful. it is harder than brotherhood. assassin training missions good and strange. generally side missions are interesting. main missions disasppointed me. action is weak because there is nothing to do in city. ezio fighting with byzantines but city is ottoman city so ezio rarely fighting. main missions are following and sometimes assasinating. scenario is good. i liked it. some people don't like but i liked. altair's missions completed the story and interesting. graphics is better. saving costantinople from byzantine rebels like saving rome from borgias. it is enjoyablesummary: not very good and not bad. you should play for story of series",
                  "Username": "scarfake",
                  "_deepnote_index_column": 283908
                },
                {
                  "Title": "Assassin's Creed: Revelations",
                  "Platform": "PC",
                  "Userscore": 9,
                  "Comment": "A final installment in the Assassin's Creed Ezio trilogy is my personal favourite. While it's not revolutionary by far it improves on it's predecessors and delivers an interesting story in a rich and superbly designed environment.The story this times takes place in Constantinople and ties all loose ends. Apart from writing the final chapter for Ezio it also revisits Altair who is alsoA final installment in the Assassin's Creed Ezio trilogy is my personal favourite. While it's not revolutionary by far it improves on it's predecessors and delivers an interesting story in a rich and superbly designed environment.The story this times takes place in Constantinople and ties all loose ends. Apart from writing the final chapter for Ezio it also revisits Altair who is also a playable character in certain chapters. And it was great to learn what happened to Altair and how both he and Ezio are tied together. The cut scenes are really nicely put together and the whole story is quite interesting.Visually it's also an improvement although not breath taking. The characters are better animated, the environment is well designed and does remind of life teaming city packed with a lot of people. The map overall might be a bit smaller but it's so well designed that it's an actual improvement over the somewhat empty spaces we could encounter in the previous installments. I must admit the city - the way it looks, the way it's structured and how you move around it is what probably makes it my favourite Assassin's Creed game.The mechanics for the most part are the same. With just the addition of bombs which are quite annoying to craft and not that useful and the hook which lets you climb higher places and also zip line which is super fun - the rest almost unchanged. The whole structure of the game remains the same. And it's absolutely fine as you get to do them in a great environment.Overall as mentioned - definitely my favourite Assassin's Creed game. Though somewhat requires you to play the previous ones to fully appreciate the story it ties up. Can't recommend enough.",
                  "Username": "agurczuk",
                  "_deepnote_index_column": 283909
                },
                {
                  "Title": "Assassin's Creed: Revelations",
                  "Platform": "PC",
                  "Userscore": 8,
                  "Comment": "First of all, the Ezio trilogy is one great piece of gaming entertainment. Even AC 2 and Brotherhood, both, being better than this game, revelations is very entertaining with a good story and a great ending for Ezio AND Altair. The ending is very emotional and good the writing is good. Who never playedf this game needs to try it out.+ Good visuals, Story, gameplay- The City of thisFirst of all, the Ezio trilogy is one great piece of gaming entertainment. Even AC 2 and Brotherhood, both, being better than this game, revelations is very entertaining with a good story and a great ending for Ezio AND Altair. The ending is very emotional and good the writing is good. Who never playedf this game needs to try it out.+ Good visuals, Story, gameplay- The City of this games feels a little bit boring when you compare it to AC 2 and Brotherhood (No horses), a little bit too short",
                  "Username": "DanteDylan",
                  "_deepnote_index_column": 283910
                },
                {
                  "Title": "Assassin's Creed: Revelations",
                  "Platform": "PC",
                  "Userscore": 7,
                  "Comment": "this is weakest assassins creed game in the Ezio Franchise its not as great as 2 or brotherhood",
                  "Username": "omer123",
                  "_deepnote_index_column": 283911
                },
                {
                  "Title": "Assassin's Creed: Revelations",
                  "Platform": "PC",
                  "Userscore": 7,
                  "Comment": "Continuación del anterior con nuevos escenarios y alguna que otra mecánica, como el hookblade o los viajes rapidos. Juego aceptable dentro de la saga.",
                  "Username": "sevifc",
                  "_deepnote_index_column": 283912
                },
                {
                  "Title": "Assassin's Creed: Revelations",
                  "Platform": "PC",
                  "Userscore": 8,
                  "Comment": "Me encanta este Assassin's Creed puede que no sea tan bueno como el primer Assassin's Creed pero se mantiene a raya a su calidad y añade mejoras de gráficos y jugabilidad. Vale la pena su compra cada euro los vale.",
                  "Username": "Pedobear987",
                  "_deepnote_index_column": 283913
                },
                {
                  "Title": "Assassin's Creed: Revelations",
                  "Platform": "PC",
                  "Userscore": 7,
                  "Comment": "Es el final de la trilogía de Ezio. Tengo que admitir que las demás armaduras de este juego son demasiado voluminosas y no me gustaron en absoluto, pero también tengo que admitir que su diseño fue interesante. La mejor armadura visualmente en mi opinion fue la del inicio, la cual teñi varias veces para disfrutarla en diferentes colores.Ahora a lo que importa. La historia de este juegoEs el final de la trilogía de Ezio. Tengo que admitir que las demás armaduras de este juego son demasiado voluminosas y no me gustaron en absoluto, pero también tengo que admitir que su diseño fue interesante. La mejor armadura visualmente en mi opinion fue la del inicio, la cual teñi varias veces para disfrutarla en diferentes colores.Ahora a lo que importa. La historia de este juego está buena, no es una mala historia, pero deja algunos cabos sueltos. No es la mejor historia del mundo, pero tampoco es la peor. Este juego fue el primero en meter el famoso gancho que sirve para escalar más rápidamente, y recuerdo que fue en el primer juego donde el dinero no me sobraba, (quizá debido a que su historia era corta, y que tuve menos tiempo para hacer dinero).Es un buen juego con mala historia... Tan simple como eso.",
                  "Username": "Nyakuya",
                  "_deepnote_index_column": 283914
                },
                {
                  "Title": "Assassin's Creed: Revelations",
                  "Platform": "PC",
                  "Userscore": 8,
                  "Comment": "Not as good as Brotherhood and it ends quickly, but keeps the high quality level Brotherhood has set. Lacks a bit of story and spirit to be great, but it is very good, sometimes serious, sometimes funny, its just too short to really get into. Out of first four AC games this one is second the best, behind Brotherhood.",
                  "Username": "Krzych",
                  "_deepnote_index_column": 283915
                },
                {
                  "Title": "Assassin's Creed: Revelations",
                  "Platform": "PC",
                  "Userscore": 7,
                  "Comment": "Es un buen juego, aunque la historia me termino aburriendo mas que las anteriores (lo de crear bombas y tener que hacer estrategias para que no pasen los templarios me aprecio muy aburrido), a excepción de la historia de Altair y el final.",
                  "Username": "Diegochocho",
                  "_deepnote_index_column": 283916
                },
                {
                  "Title": "Assassin's Creed: Revelations",
                  "Platform": "PC",
                  "Userscore": 4,
                  "Comment": "ENG-RUOne of a series of games which is generally not caught. Everything happens at one location, ran 500 meters to take the job, did it, run again 300-500 meters and so the whole game. There are no interesting characters, memorable chips or moments, too, only **** bombs sell, although they are not needed at all, there is management, but there is no sense in it, there is littleENG-RUOne of a series of games which is generally not caught. Everything happens at one location, ran 500 meters to take the job, did it, run again 300-500 meters and so the whole game. There are no interesting characters, memorable chips or moments, too, only **** bombs sell, although they are not needed at all, there is management, but there is no sense in it, there is little equipment, it all opens only when passing each Chapter, you can buy different buildings, but it does not give anything and it is not interesting to do, plus it is very expensive. The only value of this part is the story of Altair and the way he came. It is sad that it is disgusting at the same time that Altair finished like this, although he lived to old age, there was a wife, children, faith, but...people is rotten, the order and with it the faith and commitment of those people who put everything to him. Oh Yes, and the ending is complete nonsense, but Ezio himself, who in part 2 was a young and cheerful boy, here turned into someone else,although one advantage it has that I did not become a slave to Apple and in the whole man he is not bad.Одна из всех серии игр которая вообще не зацепила. Все происходит на одной локации, побежал 500 метров для того чтобы взять задание, выполнил его, беги опять метров 300-500 и так всю игру. Персонажей интересных нет, запоминающихся фишек или моментов тоже, только сраные бомбы впаривают, хотя они и вовсе не нужны, есть менеджмент, но смысла в нем нет, экипировки мало, вся она открывается только при прохождении каждой главы, можно покупать разные здания, но это ничего не дает и этим неинтересно заниматься, плюс это очень дорого. Единственная ценность этой части, это история Альтаира и то как он кончил. Грустно мерзко одновременно, что Альтаир вот так закончил, хоть и дожил до преклонных лет, была жена, дети, вера, но...люди прогнили, орден а вместе с ним и вера и стремление тех людей которые положили для него все. Ах да еще и концовка полный бред, но и сам Эцио, который во 2 части был молодым и веселым мальчуганом, здесь превратился в кого -то другого,хотя один плюс он имеет, что не стал рабом яблока и в целом человек он не плохой.",
                  "Username": "Mobile",
                  "_deepnote_index_column": 283917
                },
                {
                  "Title": "Assassin's Creed: Revelations",
                  "Platform": "PC",
                  "Userscore": 8,
                  "Comment": "This time around the game-play feels a chore and boring, because nothing really new is added. A few innovations here and there but it was still fun to play if you played it for the story, and environment. It was an important entry in properly finishing the Ezio saga, and they did it right!",
                  "Username": "CoKronakan",
                  "_deepnote_index_column": 283918
                },
                {
                  "Title": "Assassin's Creed: Revelations",
                  "Platform": "PC",
                  "Userscore": 9,
                  "Comment": "(87/100)An emotional ending to the Ezio Trlogy. I'm sad it's over but it ended the trilogy very well.",
                  "Username": "merijnj",
                  "_deepnote_index_column": 283919
                },
                {
                  "Title": "Assassin's Creed: Revelations",
                  "Platform": "PC",
                  "Userscore": 10,
                  "Comment": "The follow-up to AC Brotherhood.I was undecided for a moment whether it should be a 9 or a 10 but I would give it a 9,5 which rounds up to a 10.Positive points for me were the setting of Constantinopolis which was an emotional setting. The music was very atmospheric again and in some missions activated some uplifting spirits. Forum of the Ox and Agia Sophia temple entry music setThe follow-up to AC Brotherhood.I was undecided for a moment whether it should be a 9 or a 10 but I would give it a 9,5 which rounds up to a 10.Positive points for me were the setting of Constantinopolis which was an emotional setting. The music was very atmospheric again and in some missions activated some uplifting spirits. Forum of the Ox and Agia Sophia temple entry music set the mood nicely.Minor criticism is for the unnecessary tower defence and animus block missions and the artistic colours which I found hard to digest in some cases like the style of the Janissaries.Overall it is slightly less than Brotherhood but still a 10, looking back I had a positive long-lasting feeling from this game.",
                  "Username": "Meta1234",
                  "_deepnote_index_column": 283920
                },
                {
                  "Title": "Assassin's Creed: Revelations",
                  "Platform": "PC",
                  "Userscore": 10,
                  "Comment": "This is the conclusion of the story with the memories of Altair and you will see really interesting gameplay and learn more for the main character from the first AC",
                  "Username": "ItsGosho",
                  "_deepnote_index_column": 283921
                },
                {
                  "Title": "Assassin's Creed: Revelations",
                  "Platform": "PC",
                  "Userscore": 8,
                  "Comment": "It was an honour to be a companion of Ezio the Auditore. Solid game after its predecessor.",
                  "Username": "aralath",
                  "_deepnote_index_column": 283922
                },
                {
                  "Title": "N++: Ultimate Edition",
                  "Platform": "Switch",
                  "Userscore": 9,
                  "Comment": "Platform game and action very entertaining and bloody. It is a frantic game, especially when we are moving forward and the levels become more complicated.It is very well adapted to the Switch version, both controls, gameplay and different game modes. Some game modes are unique in this platform.Some of the game modes it has are local and online multiplayer, creation of our own scenarioPlatform game and action very entertaining and bloody. It is a frantic game, especially when we are moving forward and the levels become more complicated.It is very well adapted to the Switch version, both controls, gameplay and different game modes. Some game modes are unique in this platform.Some of the game modes it has are local and online multiplayer, creation of our own scenario to play it ourselves or share it on the internet and the traditional way of overcoming internal levels of the game itself.It is a game that engages a lot because at first it seems easy but at the few levels we can realize that it is not easy, but on the contrary, it is very complicated, but despite that we will be playing for hours to get through that such a difficult level.If you liked Super Meat Boy, this game sure is also to your liking.",
                  "Username": "yitus",
                  "_deepnote_index_column": 283923
                },
                {
                  "Title": "N++: Ultimate Edition",
                  "Platform": "Switch",
                  "Userscore": 9,
                  "Comment": "This game is practically a perfect platformer, as everything in the game is fun to play against and the controls are very nice, alongside a crossplatform user made map selection to choose from. The only reason I don't give it a 10 is because of the clone items, where a clone of yourself is made when you touch the item. It's the only item in the game that makes me constantly stop playingThis game is practically a perfect platformer, as everything in the game is fun to play against and the controls are very nice, alongside a crossplatform user made map selection to choose from. The only reason I don't give it a 10 is because of the clone items, where a clone of yourself is made when you touch the item. It's the only item in the game that makes me constantly stop playing and it feels cheap, it's just not enjoyable at all. But other than that, it's platforming perfection.",
                  "Username": "VahNabooty",
                  "_deepnote_index_column": 283924
                },
                {
                  "Title": "Guns, Gore & Cannoli 2",
                  "Platform": "PC",
                  "Userscore": 4,
                  "Comment": "Great artwork, but terrible, terrible, controls. The first episode's controls were bad, this made them worse. The game tries to be a modern Metal Slug, but it lacks the core simplicity.",
                  "Username": "stop9091",
                  "_deepnote_index_column": 283925
                },
                {
                  "Title": "Guns, Gore & Cannoli 2",
                  "Platform": "PC",
                  "Userscore": 6,
                  "Comment": "It´s a fun game, better than the first but it´s so much short. Amost 13 euros for 4-6 hours is not enough.",
                  "Username": "BeTTaRuFF",
                  "_deepnote_index_column": 283926
                },
                {
                  "Title": "Guns, Gore & Cannoli 2",
                  "Platform": "PC",
                  "Userscore": 1,
                  "Comment": "Beautiful looking game but, unfortunately, as someone mentioned, virtually unplayable due to the god-awful controls. There's like trillion inputs, both keyboard and mouse, for what is supposed to be a plain straightforward run-and-gun. The game won't recognize my joystick and it wouldn't do me any good if it did since I \"only\" have 10 buttons at my disposal and the app requires, like, 30.Beautiful looking game but, unfortunately, as someone mentioned, virtually unplayable due to the god-awful controls. There's like trillion inputs, both keyboard and mouse, for what is supposed to be a plain straightforward run-and-gun. The game won't recognize my joystick and it wouldn't do me any good if it did since I \"only\" have 10 buttons at my disposal and the app requires, like, 30. Devs should have stuck with the good old formula \"the less is more\". Instead, we got a game where one must use mouse cursor just to make the character face the other way (?!?!). Long story short, control inputs have ruined what might have been a great game. Since it can't even be played properly, the score of zero would be more appropriate but I'll reward it with one solely on account of nice art-style and the fact I loved the first game.",
                  "Username": "ticroo",
                  "_deepnote_index_column": 283927
                },
                {
                  "Title": "Guns, Gore & Cannoli 2",
                  "Platform": "PC",
                  "Userscore": 9,
                  "Comment": "GGC2 is really an awesome game! Yeah people say it is short (which is true) but seriously at that price, you really get a lot of bang for your buck; it's FUN, provides various types of gun to let your creativity run wild on your enemies, the artwork is very impressive for its genre and the scenario / gameplay is cool. And finally, you get to play co-op with a friend which makes theGGC2 is really an awesome game! Yeah people say it is short (which is true) but seriously at that price, you really get a lot of bang for your buck; it's FUN, provides various types of gun to let your creativity run wild on your enemies, the artwork is very impressive for its genre and the scenario / gameplay is cool. And finally, you get to play co-op with a friend which makes the experience so much better (my friend and I had so much laugh while playing it!). I definitely recommend this game to anyone who likes to play games for simple fun. We truly need more games like this one..",
                  "Username": "martinbadia",
                  "_deepnote_index_column": 283928
                },
                {
                  "Title": "Guns, Gore & Cannoli 2",
                  "Platform": "PC",
                  "Userscore": 10,
                  "Comment": "Loved the first one, love this one as well.The artworkthe atmospheremusicvariety of weapons and enemiescontrolslevel of challange and so on...All is 10/10 IMO.It is a short game, but the action is constant, cut-scenes have the perfect lenght and are worth watching witht the humor they have to offer, and there is never a feeling of grind or boredom, so despite the gameLoved the first one, love this one as well.The artworkthe atmospheremusicvariety of weapons and enemiescontrolslevel of challange and so on...All is 10/10 IMO.It is a short game, but the action is constant, cut-scenes have the perfect lenght and are worth watching witht the humor they have to offer, and there is never a feeling of grind or boredom, so despite the game being completed after 3-4h, it is definetly worth the price.I only completed the \"Normal\" difficulty, and there are 2-3 higher ones, so could imagine that would take much longer, which is something I might test out.I hope the developers will keep doing these, with the same or different skins, as long as the same level of quality remains.",
                  "Username": "junglebrother",
                  "_deepnote_index_column": 283929
                },
                {
                  "Title": "Battle Brothers",
                  "Platform": "PC",
                  "Userscore": 8,
                  "Comment": "A very good game but not for casual gamers. You need to think really carefully what you do with your heroes and what weapon you choose against a specific enemy. Nowadays, there are hardly any games like this one - games that demand from player to use his brain and not to just randomly hit keys like in AAA titles and spam an enemy to death. It won't work in here so any average triple A gameA very good game but not for casual gamers. You need to think really carefully what you do with your heroes and what weapon you choose against a specific enemy. Nowadays, there are hardly any games like this one - games that demand from player to use his brain and not to just randomly hit keys like in AAA titles and spam an enemy to death. It won't work in here so any average triple A game fan might get lost in here.What I think is the best in the game is difficulty curve, which makes it real and competitive through all the gameplay. You can't just create immortal team of super-hero characters with legendary weapons all -around that hack and slash through everything. Every man in your team is a living being that can get killed just like any other man if you get a little too careless in a dangerous situation. This aspect of the game makes many fights puzzles where you have to think what to do; wheather to make a spear wall formation against dire wolves or take strategic advatnage of terrain and place your soldiers on grass tiles in a swampy area just to make the enemy come there and ... get stuck swamp.Economy is also nicely done as it gives you some options to earn money; you can either sell loot from defeated foes; trade certain goods in specific areas for bigger profit or get quest rewards. Generally, if you think you will have no economic problems in here.If you like to use brain in games and think of fights like of puzzles and you are looking for a virtual challenge then this game is for you.",
                  "Username": "Amiga1200",
                  "_deepnote_index_column": 283930
                },
                {
                  "Title": "Battle Brothers",
                  "Platform": "PC",
                  "Userscore": 4,
                  "Comment": "You randomly get hit twice and die and can't hire people quick enough to make up for it; not sure how people are beating it.  I don't play video games to have a bleak and RNG-filled time.",
                  "Username": "Itsapaul",
                  "_deepnote_index_column": 283931
                },
                {
                  "Title": "Battle Brothers",
                  "Platform": "PC",
                  "Userscore": 10,
                  "Comment": "One of the best indie titles released in recent years. Considering it was made by a very tiny studio the game is really quite good. It was heavily influenced by Mount & Blade, X-COM and the Jagged Alliance series. It has a randomly generated open world, great music, and a very charming 2D art style with an incredible amount of detail on the models.It has a deep tactical level of playOne of the best indie titles released in recent years. Considering it was made by a very tiny studio the game is really quite good. It was heavily influenced by Mount & Blade, X-COM and the Jagged Alliance series. It has a randomly generated open world, great music, and a very charming 2D art style with an incredible amount of detail on the models.It has a deep tactical level of play and you need to be able to react quickly to the changing tides of battle. Like with Darkest Dungeon, not every fight can be won and RNG is RNG. Sometimes you need to run away to save yourself. I guess some people can't handle that aspect of the game, just like some people can't handle Darkest Dungeon or the X-COM series.The game has over a 92% positive review score on Steam. Don't allow some people who are sour that they can't spam \"X\" to win at the game and upset that they actually have to do some tactical thinking keep you from giving a great indie game a try.",
                  "Username": "macharius39",
                  "_deepnote_index_column": 283932
                },
                {
                  "Title": "Battle Brothers",
                  "Platform": "PC",
                  "Userscore": 7,
                  "Comment": "Despite being a very good game, Battle Brothers has one major flaw - no goal. Yes, it's fun to develop your crew, gather loot and gain renown in the land, but it really feels futile when you realize that it is all for naught. I really dislike endless games, since they feel unfinished. It sucks when you can't get a sense of closure. Many players asked for mod support and I really hope theDespite being a very good game, Battle Brothers has one major flaw - no goal. Yes, it's fun to develop your crew, gather loot and gain renown in the land, but it really feels futile when you realize that it is all for naught. I really dislike endless games, since they feel unfinished. It sucks when you can't get a sense of closure. Many players asked for mod support and I really hope the devs will listen at some point, since the game still has a lot of unused potential.",
                  "Username": "Thilus",
                  "_deepnote_index_column": 283933
                },
                {
                  "Title": "Battle Brothers",
                  "Platform": "PC",
                  "Userscore": 4,
                  "Comment": "The only thing keeping me from giving this game a 9-10 is the schizophrenic power creep. The game is fairly balanced early on but the battles either become far to easy or insanely difficult. This is exacerbated greatly late game, where you either win without taking a scratch in an insultingly easy battle or all your mercs are cheezed to death by completely overpowered end game enemies.The only thing keeping me from giving this game a 9-10 is the schizophrenic power creep. The game is fairly balanced early on but the battles either become far to easy or insanely difficult. This is exacerbated greatly late game, where you either win without taking a scratch in an insultingly easy battle or all your mercs are cheezed to death by completely overpowered end game enemies.Compound that with the fact that the game is extremely stingy with giving the player resources to recoup from losses it either forces you to retire early or constantly redo saves which reduces the game to random number generator.  I think the endgame stuff (132 days) is designed to kill a handful of your veteran's (In my current save I have to take on 15 undead legionaries with necrosavants, honor guard, and undead priests in a god damn swamp)  and I get it your trying to make it gritty, but if you give the player no/very limited options to recoup than its an arbitrary middle finger and turns an otherwise fun game into an arbitrary frustrating waste of time. \"Rocks fall everyone dies\" in other words.TL:DR its gritty low fantasy XCOM set in medieval not Europe, with same intrinsic problems late game XCOM has.",
                  "Username": "Wulfenstien",
                  "_deepnote_index_column": 283934
                },
                {
                  "Title": "Battle Brothers",
                  "Platform": "PC",
                  "Userscore": 10,
                  "Comment": "A fantastic strategical experience, one of the best indie games released in the last decade. The possibilities for expansions and more content are endless.Excellent tactical combat and a lot of resource management/company management. Definitely recommended to anyone that is into tactical turn based strategy games.Not recommended for people with no patience",
                  "Username": "Jimmious",
                  "_deepnote_index_column": 283935
                },
                {
                  "Title": "Battle Brothers",
                  "Platform": "PC",
                  "Userscore": 0,
                  "Comment": "So much promise so little gameplay.  Played almost 100 hrs and hoping for that breakthrough moment but I was met with only disappointment.  Trust me your better off not playing this game.  This is one of those games that fills you with hope and excitement for the first 5 to 10 hours before slamming the door in your face.  It's almost like each campaign hits a paywall except you've alreadySo much promise so little gameplay.  Played almost 100 hrs and hoping for that breakthrough moment but I was met with only disappointment.  Trust me your better off not playing this game.  This is one of those games that fills you with hope and excitement for the first 5 to 10 hours before slamming the door in your face.  It's almost like each campaign hits a paywall except you've already paid full price so WTH.  In other words the difficulty curve in the second half is unbalanced.  Mods may be able to fix this game with fun to play scenarios but until then it is a total waste of time and money!",
                  "Username": "riley794",
                  "_deepnote_index_column": 283936
                },
                {
                  "Title": "Battle Brothers",
                  "Platform": "PC",
                  "Userscore": 9,
                  "Comment": "Challenging game with new content coming out regularly.  In terms of gameplay, think medieval/fantasy X-Com and you aren't too far off.  Art is relatively minimalist but competent.  Battles feel like an intense game of chess.  Writing could be a bit better.  I've gotten many hours out of this one and expect that I'll be back for many more.",
                  "Username": "Topace3000",
                  "_deepnote_index_column": 283937
                },
                {
                  "Title": "Battle Brothers",
                  "Platform": "PC",
                  "Userscore": 6,
                  "Comment": "A good game but gets boring extremely fast. The game revolves around the turn-based combat, which is fun but very repetitive. The map seems not exploited to its full potential and the game is lacking some end-game goals. Hope it will be improved with patches because the base game is solid.",
                  "Username": "ShooP",
                  "_deepnote_index_column": 283938
                },
                {
                  "Title": "Battle Brothers",
                  "Platform": "PC",
                  "Userscore": 10,
                  "Comment": "Absolutely fantastic, addictive game, I think of it as a mix of Xcom and Mount & Blade, very unforgiving at first (start in lowest difficulty even if you're good at those games or you'll probably get slaughtered and/or starved out of resources), but once you learn how it works it's tons of fun. The wiki explains some less obvious mechanics if needed.",
                  "Username": "Microloutre",
                  "_deepnote_index_column": 283939
                },
                {
                  "Title": "Battle Brothers",
                  "Platform": "PC",
                  "Userscore": 4,
                  "Comment": "I just tried it and the weird arm-less people and muddy visuals literally made me vomit a little in the back of my throat.  I'd love to review the other aspects of the game, but I'll never be able to get over how *ugly* it is.The final nail in the coffin is that there's no magic.",
                  "Username": "night4",
                  "_deepnote_index_column": 283940
                },
                {
                  "Title": "Battle Brothers",
                  "Platform": "PC",
                  "Userscore": 2,
                  "Comment": "Miss nearly all of your attacks, never get enough loot to get decent upgrades. You don't get enough money from quests to pay for everything you need. I get having a challenge, but making it impossible is frustrating as hell.",
                  "Username": "seanb1979",
                  "_deepnote_index_column": 283941
                },
                {
                  "Title": "Battle Brothers",
                  "Platform": "PC",
                  "Userscore": 5,
                  "Comment": "The Pros:- nice music- great variety of equipment- some interest events- great enemy varietyThe Con.- RNG may be fair BUT losing one of your man due to poor roll is much worse than your enemy losing one of theirs , because the enemy population do not follow any rules of growth; they are like grains of sand mites crawling all over the place, and are spontaneously generated allThe Pros:- nice music- great variety of equipment- some interest events- great enemy varietyThe Con.- RNG may be fair BUT losing one of your man due to poor roll is much worse than your enemy losing one of theirs , because the enemy population do not follow any rules of growth; they are like grains of sand mites crawling all over the place, and are spontaneously generated all over the world, while good recruits are RARE, EXPENSIVE, HARD TO TRAIN and NOT EXPANDABLE (other RNG games allow for easier replacement of gd ppl as long as you have the resources, but not here), and thus an unlucky RNG for you is a Nuke in the face but a pinprick on the enemy's pinky. Despite much player feedback, devs are not responsive and slow to implement measures to allow for EASIER replacement of your men, which will allow for their death to be NOT SO FRUSTRATING (measure such as buying level with gold).Just this 1 con makes the game EXTREMELY FRUSTRATING (the MOST FRUSTRATING RNG game ever). Even though, in the game, there are nuggets of enjoyment, the PURE AGONY OF LOSING A HARD TO REPLACE dead men thanks to RNG devil COMPLETELY overshadows ALL that is good about this game. For this reason, DID NOT buy this game unless you wish to experience hell on earth.Oh, and did i mention that dead soldiers are hard to replace?",
                  "Username": "Mercent",
                  "_deepnote_index_column": 283942
                },
                {
                  "Title": "Battle Brothers",
                  "Platform": "PC",
                  "Userscore": 5,
                  "Comment": "Great game but that RNG is fuken ridiculous and I play TBS games 20 years. I love challenging games like XCOM, jagged alliance,  on hardest difficulties or hardcore TBS Gorky 17 but I never really felt frustrated playing them, sure you spit some vulgarisms and so but at the end its just a game and you come back. Battle brothers RNG chances are random, really random, roguelike random to theGreat game but that RNG is fuken ridiculous and I play TBS games 20 years. I love challenging games like XCOM, jagged alliance,  on hardest difficulties or hardcore TBS Gorky 17 but I never really felt frustrated playing them, sure you spit some vulgarisms and so but at the end its just a game and you come back. Battle brothers RNG chances are random, really random, roguelike random to the point its just unpredictable mess",
                  "Username": "Perun",
                  "_deepnote_index_column": 283943
                },
                {
                  "Title": "Battle Brothers",
                  "Platform": "PC",
                  "Userscore": 3,
                  "Comment": "Pros: Good Music, Gameplay is fun (while it lasts), well written characters when you do get a dialogue which is rare sadly. (Just write some more text I mean... can't be that hard to write text events guys)Cons: Too short, Gets too easy very fast when you get metal armor, Events are poorly done and way too short, leaves you with a \"meh\" feeling overall which is a shame because it hadPros: Good Music, Gameplay is fun (while it lasts), well written characters when you do get a dialogue which is rare sadly. (Just write some more text I mean... can't be that hard to write text events guys)Cons: Too short, Gets too easy very fast when you get metal armor, Events are poorly done and way too short, leaves you with a \"meh\" feeling overall which is a shame because it had potential. It has no endgame at all... none. So don't expect to get more than a week out of it.I'll just say the game started out strong then suddenly the difficulty fell off a cliff and everything got boring very fast. The worst was when the late game event started (orc invasion) I thought \"oh man things are going to get crazy now\". Nah still pretty boring. Then suddenly 30 game days later the war was suddenly over and some soldiers passing me on the road from a faction I was strongly allied with (and killed oh I dunno a hundred or so orcs for) called me a wuss and I was given the option to fight them or retire (LOL ok) so I chose to fight them and the friggin game won't even let you do that... Also a 30 day orc war!? Really only 30 days!? Laaaaaame! Why would you shoot your endgame in the foot like that? Even if I wanted to hit the \"continue onward anyway\" button they made this stupid level 11 cap for all the mercs. Why? There's no point in continuing the game anyway after the orc invasion because other events just don't happen and by that time you're overpowering everyone with heavy armor anyway. The game woon't even let you imagine that there's endgame content because there's no treasure hunts for unique weapons even worse the unique weapons you do find are the most boring underwhelming things I've ever seen... that's just laziness IMO. I'm sorry but this game is completely lacking in actual content after less than a week of gameplay.",
                  "Username": "djvampyre",
                  "_deepnote_index_column": 283944
                },
                {
                  "Title": "Battle Brothers",
                  "Platform": "PC",
                  "Userscore": 10,
                  "Comment": "I checked the videos a lot before buying. Bought it during a discount and I can say today that those were some of the best 13 euros spent in games for the year.Very addictive game that you will probably really start to get after the 3rd or 4th play-through (not complete of course). Set up your little band of mercenaries and become a legend in a world occupied by orcs, undead and (3)I checked the videos a lot before buying. Bought it during a discount and I can say today that those were some of the best 13 euros spent in games for the year.Very addictive game that you will probably really start to get after the 3rd or 4th play-through (not complete of course). Set up your little band of mercenaries and become a legend in a world occupied by orcs, undead and (3) human houses/factions that try to dominate it.You take sides (with the houses - orcs & undead are not to be negotiated! :-P ), strengthen your group and try to survive. There are various professions and character perks that make your characters unique and you get attached to them. Build them up and keep them alive till then end (or for as long as possible!)Recommended!",
                  "Username": "bilbo1973",
                  "_deepnote_index_column": 283945
                },
                {
                  "Title": "Battle Brothers",
                  "Platform": "PC",
                  "Userscore": 8,
                  "Comment": "A well-crafted RPG game in medieval setting with turn-based battles. Somewhere between Expedition Conquistador, Battle for Wesnoth and Jagged Alliance.Pros:- the game is very \"atmospheric\", it portrays the cruelty of real battles (well, at least as much as you are allowed to do that in a mass-market medium like games).. E.g. the faces of soldiers get scarred and bruised as they takeA well-crafted RPG game in medieval setting with turn-based battles. Somewhere between Expedition Conquistador, Battle for Wesnoth and Jagged Alliance.Pros:- the game is very \"atmospheric\", it portrays the cruelty of real battles (well, at least as much as you are allowed to do that in a mass-market medium like games).. E.g. the faces of soldiers get scarred and bruised as they take damage- the dialogs and texts are very well written and are interesting to read- the 2D graphics style with pawn-like soldiers actually works pretty well. It's great how, without any animations of soldiers, the battles still look nice. There are many faces in the game and they basically carry this game's whole visual style- a solid system of character upgrades, items etc - this reminded me JA2 the most- the world is randomly generated!So-so:- the utter randomness of everything. Most attacks are done at 30-50% hit chance, even when you are on a tile next to the target. Sigh.. I know all the argument about why RPGs have randomness but I'm a continental European, not an American or British, so I strongly prefer games without fog of war and no dice rolls. So, this game is NOT a strategy game, it's an RPG. If you like RPGs more than strategy you will love it, but if you're more into strategy you may find yourself replaying the same battle and getting vastly different results from basically the same tactics, which, to me, turns myself into some kind of a passive observer rather than active decision-maker. On the other hand, you can see this randomness as just the \"realism\". I mean, as a mercenary you can die any moment, even if you are very experienced and have all the best armor etc. Btw to prevent save scamming you can't save during battles.Cons:- (nitpicking) no tutorial, instead they have 2 videos on youtube (1 about combat, the other about the world map and party management) which I did find pretty well done. However, I'd prefer an offline tutorial. Without watching the videos, some game rules can't be easily guessed and will make your first experience very frustrating. E.g. if you archer is in melee range (1 tile) from an enemy, you can't retreat because the enemy unit gets a free attack. And not just but also if that attack hits then your move is cancelled! Such unusual stuff definitely requires a proper tutorial at game start.To me, if one could replace hit chances with damage multipliers (e.g. instead of having a 50% chance to hit you would just do 50% of damage but always hit etc) I'd love this game! Maybe this could even be done by editing the config files somewhere, no idea. Probably not though, since these chance-to-hit calculations are spread throughout the whole game, with a multitude of other factors tied to them.",
                  "Username": "iseeall",
                  "_deepnote_index_column": 283946
                },
                {
                  "Title": "Battle Brothers",
                  "Platform": "PC",
                  "Userscore": 10,
                  "Comment": "Great strategy medieval low-magic game, where tactical turn combat is epic/great. Campaings are sandbox, where towns give you procedural missions in a procedural overland map.Good features of this game are:-Tactical combat of course. You must use different strategies and skills according to your opponents: thugs, goblins, orcs, wolves.... some battles you play are memorable.-PartyGreat strategy medieval low-magic game, where tactical turn combat is epic/great. Campaings are sandbox, where towns give you procedural missions in a procedural overland map.Good features of this game are:-Tactical combat of course. You must use different strategies and skills according to your opponents: thugs, goblins, orcs, wolves.... some battles you play are memorable.-Party management, with lots weapons and gear to use. You must control your money, tools (for repairing gear), food and medicines.-The visuals. The art design is great.-Sandbox style, where you can travel around an interesting overland map, doing the missions you want and trading to earn an extra money.",
                  "Username": "juanval",
                  "_deepnote_index_column": 283947
                },
                {
                  "Title": "Battle Brothers",
                  "Platform": "PC",
                  "Userscore": 8,
                  "Comment": "This game is good, an A- to and A, but it does get old a little too fast.There are a lot of very interesting decisions made in the design of this game. Not all of them work, but the designers are obviously experienced gamers.The biggest strike I would call attention to is that it plays a bit like a card or board game. These are casual experiences, designed to be completed in aThis game is good, an A- to and A, but it does get old a little too fast.There are a lot of very interesting decisions made in the design of this game. Not all of them work, but the designers are obviously experienced gamers.The biggest strike I would call attention to is that it plays a bit like a card or board game. These are casual experiences, designed to be completed in a couple of hours, so high risk game play works well. Not so well for computer games. In Battle Brothers, the risk to your crew is always very high and the time investment to develop your crew members is also very high (many, many hours of play). I think these two elements are not compatible. Being forced to recruit inexperienced cripples is a design idea that really does not work.Beyond the German setting, the structure of the game is reminiscent of an old classic called Darklands. Other people have noticed this as well. My opinion is that they should study this older game to help influence the evolution of this title a) because they are closely related in concept, b) because this game needs much more depth to reach its (lofty!) potential, and c) because Darklands was fantastic for its time and needs to be revisited.I really wish Overhype Studios well on this fine foundation. Triple A could be in their future.As a final note: Although the writer is talented, and I don't wish to insult him, his sense of humor needs to be weaned out the game. Monty Python-esque humor is very hard to do well. It is PhD level comedy ... not for the amateurs. I feel that the weak humor detracts from the play experience. The writer also ventures into inappropriate and obscene humor. This is not as widely acceptable as the current media would have you think. I feel this should be avoided.",
                  "Username": "MNCCritic",
                  "_deepnote_index_column": 283948
                },
                {
                  "Title": "Battle Brothers",
                  "Platform": "PC",
                  "Userscore": 10,
                  "Comment": "            This review contains spoilers, click expand to view.        Battle Brother is a game which worth its price.Context :You are the new leader of a medieval warband due to the former captain's death against bandits. You will recruit, equip, level and eventually burry your battle brothers during your travels in a world randomly generated at each new game, between the icy lands of the north to south's sandy beaches passing throw swamp and dark forests.In each worldmap (Mount&Blade like), most of human cities and settlements are ruled by three noble houses, some are also independent, but all will offer you contracts more or less difficult to complete to earn reputation and gold.These contracts are very differents from one another, from caravan escort to orcish fights or graveyard exploration, on tacticals map depending on your location (forest, swamp, snow...).The combat system is very intuitive and tactical, specially recommended for those who like turn-based strategic games (like X-com but less inmersive).Your actions will determine your reputation. Will you be a cruel bandit or a noble mercenary ? Will you flee from battle to fight another day or die with honour ?Visual :See screenshots. The team's graphist is very talented. Arts are excellents and immerse player into game. I love style and textures, and specifically the days and nights effects traducing the time of the day from dawn to dust and vice versa.Audio :Just beautiful. Each ennemie has few specific musics.So with some experience you will know who is ambushing you just by listening ;)Gameplay :On the worldmap, if not paused, time is spending continuously during your actions (travel, camp, repairs, heal) with very nice visual effects. Your main job will be to take contracts, one contract at a time, in towns, castle and cities. Contracts are missions with a narrative context which if you take time to read, generate sometimes shivers or laughs. Suceed and will earn notorioty, gold and upgrade relationship with settlements.Gold is usefull to buy goods, food for your men, equip and heal them.Good relationship enables you to decrease marchant prices. Eventually a bad one will may end in a fight.Notorioty influence events ends or possibilities. Events are triggered depending on your action, the background of your men, their level, randomly... I let you discover those which are a good part of Battle Brother's richness.With all that you will mostly fight to level your men (if they survive) against abundance of ennemies (orcs, gobelins, bandits, knights, undead, ...). Each ennemy faction has its own tactics in battle and you'll have to adapt and prepare your men consequently. It is a nice challenge : panel of weapons, armors and skills will be the key to do so.Most of the time you will decide when and where you'll fight but not always due to night or surprise attack or ambush. Last but not least there are some dungeons to explore with legendary item as reward.As there is no really end to the game, as long as you survive, it's really great to play countless hours with the men you trained from their beginning to the mighty knight or agile bowman he has became (and you may cry their death).Cons :- Band limited, you will not able to rule a castle or manage anything different than your own warband.- No horses in a medieval game (wtf? ;).Pros :+ Very conscientious Devs listening to the community.+ Interesting skills-tree to develop your own tatics.+ Various ennemies (humans, beasts, greenskins, undead).+ Various armor, weapons, goods to trade or craft and more.+ No-end campaign or retire when you want (except premature death ;).+ Each game is unique.+ Donkeys !To conclude, Battle Brothers' world is mainly unexplored, dark and full of terrors. If you like the visual and turn based tactical game with a deep RPG immersion do not hesitate.",
                  "Username": "thedeus",
                  "_deepnote_index_column": 283949
                },
                {
                  "Title": "Battle Brothers",
                  "Platform": "PC",
                  "Userscore": 10,
                  "Comment": "One of the most addictive games ever and one of the best turn-based strategies. Unforgiving and hard.Low fantasy medieval world setting, which feels more real than most of completely non-fantasy worlds. F.e. comparable with \"Game of Thrones\" world setting. This is also an RPG with resource-management aspect. You really need to think about the future of your every character and theirOne of the most addictive games ever and one of the best turn-based strategies. Unforgiving and hard.Low fantasy medieval world setting, which feels more real than most of completely non-fantasy worlds. F.e. comparable with \"Game of Thrones\" world setting. This is also an RPG with resource-management aspect. You really need to think about the future of your every character and their role in the company in hole - in which way to develop each of them, what perks, specialization to give and in the end whether to keep them or to replace with better and more promising ones. But sometimes or quite often if you are not careful and patient enough they will just die in battle. You should be ready for this anyway no matter how good you think you are in TBS.It's hard to master, but when you learn how to survive, it will be pure pleasure.",
                  "Username": "cottandy",
                  "_deepnote_index_column": 283950
                },
                {
                  "Title": "BoxBoxBoy!",
                  "Platform": "3DS",
                  "Userscore": 7,
                  "Comment": "Pros:-$4.99 guys. Four dollars and ninety-nine cents!-Puzzle concepts numerous and easy to understand-Challenging but never impossible-Good length for the price.Oks:-Minimalist art style. Really embodies the gameplay>graphics mottoConclusion: a refreshing puzzle game for the year after the daunting experience that was the Witness.",
                  "Username": "Underpants158",
                  "_deepnote_index_column": 283951
                },
                {
                  "Title": "BoxBoxBoy!",
                  "Platform": "3DS",
                  "Userscore": 9,
                  "Comment": "This game is simple, but who says that's a bad thing? HAL's newest game is everything I could have wanted in a BoxBoy sequel and more!Pros:- It's only $5- Simplistic design- Amazing puzzles- The comics are hilariousCons:- Not enough levels!",
                  "Username": "GalladeGuy",
                  "_deepnote_index_column": 283952
                },
                {
                  "Title": "Space Invaders Extreme",
                  "Platform": "Xbox360",
                  "Userscore": 10,
                  "Comment": "All those enjoying a little psychedelic games with music that would normally annoy you, this is a game for you. This game has an intense feeling to it with the wonderful sounds and music. Multiplayer is fun a bunch but can get annoying if all the players don't enjoy the psychedelia.",
                  "Username": "RedJimi",
                  "_deepnote_index_column": 283953
                },
                {
                  "Title": "LEGO The Lord of the Rings",
                  "Platform": "Xbox360",
                  "Userscore": 10,
                  "Comment": "Great LEGO game and a cool way to tell such a complicated story for the kids. The only thing missing was a hose customiser, would have loved to be able to pimp my ride!",
                  "Username": "Hashtagbebe",
                  "_deepnote_index_column": 283954
                },
                {
                  "Title": "LEGO The Lord of the Rings",
                  "Platform": "Xbox360",
                  "Userscore": 9,
                  "Comment": "The Lego series is known for it's amazing renditions of many different famous movie franchises, and I have to say, LEGO Lord of the Rings has to be the best so far. With it's absolutely beautiful world, and the old school action we've come to love from the Lego series, just makes this game a must for any Lego fan, Lord of the Rings fan, or anyone wanting to have a great time.",
                  "Username": "Oceanstorm",
                  "_deepnote_index_column": 283955
                },
                {
                  "Title": "LEGO The Lord of the Rings",
                  "Platform": "Xbox360",
                  "Userscore": 10,
                  "Comment": "Exceeds your expectations. The sheer amount of things to do, replayability, unlockable items/characters. I spent 2 hours just running around the village destroying objects to accrue lego money before moving onto missions (and doing the same thing) Its visually sumptuous. Voice work from the actual actors. Music/ambience  from the movies.I wasnt a big fan of the films but i want toExceeds your expectations. The sheer amount of things to do, replayability, unlockable items/characters. I spent 2 hours just running around the village destroying objects to accrue lego money before moving onto missions (and doing the same thing) Its visually sumptuous. Voice work from the actual actors. Music/ambience  from the movies.I wasnt a big fan of the films but i want to rewatch them now. Lego Marvel Superheroes is just as good.I'm 38 years old",
                  "Username": "theeDarkhorse",
                  "_deepnote_index_column": 283956
                },
                {
                  "Title": "LEGO The Lord of the Rings",
                  "Platform": "Xbox360",
                  "Userscore": 10,
                  "Comment": "Another LEGO game comes another slice of comedic genius and great all round family fun from TT. The scenes from the films are instantly recognisable, Howard Shore's composition has been injected with nothing but the care it deserves and the gameplay, puzzle and boss designs are nothing short of the best stuff to be released in a LEGO game.And then we have the HUB.... oh the HUB! TheAnother LEGO game comes another slice of comedic genius and great all round family fun from TT. The scenes from the films are instantly recognisable, Howard Shore's composition has been injected with nothing but the care it deserves and the gameplay, puzzle and boss designs are nothing short of the best stuff to be released in a LEGO game.And then we have the HUB.... oh the HUB! The WHOLE of middle earth is there with so much fun, puzzles and exploration.ANYONE who disregards this as \"just another LEGO game\" will be sorely missing out on one of the most fun, entertaining and widely appealing games of the year.Top marks!",
                  "Username": "TheGamer89",
                  "_deepnote_index_column": 283957
                },
                {
                  "Title": "LEGO The Lord of the Rings",
                  "Platform": "Xbox360",
                  "Userscore": 8,
                  "Comment": "it's actually funny and a little odd to say this, but these LEGO games keep getting better and better, yet, they go unnoticed. I'm aware there's been some shipping issues with this, but oh well.It's actually quite fun",
                  "Username": "gordofredito",
                  "_deepnote_index_column": 283958
                },
                {
                  "Title": "LEGO The Lord of the Rings",
                  "Platform": "Xbox360",
                  "Userscore": 8,
                  "Comment": "Another great Lego game. This game perfectly re-enacts The Lord of the Rings Trilogy.  The game has a massive amount of collectibles to collect that will take you tons of hours to get everything.  The only annoying thing about this game has to do with the platforming...it's sometimes hard to judge how far to jump due to the camera and you will fall into the water countless times.  OtherAnother great Lego game. This game perfectly re-enacts The Lord of the Rings Trilogy.  The game has a massive amount of collectibles to collect that will take you tons of hours to get everything.  The only annoying thing about this game has to do with the platforming...it's sometimes hard to judge how far to jump due to the camera and you will fall into the water countless times.  Other thing is when playing alone your secondary character rarely helps out and usually just stands there.  So you have to control the second character too.  It's a bit odd considering in the other Lego games the secondary character was automatic.  Overall though, the game fantastically captures the spirit of The Lord of the rings.",
                  "Username": "wesker2012",
                  "_deepnote_index_column": 283959
                },
                {
                  "Title": "LEGO The Lord of the Rings",
                  "Platform": "Xbox360",
                  "Userscore": 9,
                  "Comment": "Truly excellent game and so nice to revisit the Lego games genre again. Graphics were excellent as was the gameplay and range of characters and side missions available. The free roam aspect was what really made this game for me and added a welcome element of exploration. The use of original score and character voices was also a highly valued insertion. Would have been a 10 if not for theTruly excellent game and so nice to revisit the Lego games genre again. Graphics were excellent as was the gameplay and range of characters and side missions available. The free roam aspect was what really made this game for me and added a welcome element of exploration. The use of original score and character voices was also a highly valued insertion. Would have been a 10 if not for the flaws in the character customisation (e.g. bright blue inner cloaks, changing weapons and no short option etc. though others may not have experienced this).",
                  "Username": "TomG",
                  "_deepnote_index_column": 283960
                },
                {
                  "Title": "LEGO The Lord of the Rings",
                  "Platform": "Xbox360",
                  "Userscore": 9,
                  "Comment": "LEGO The Lord of the Rings is a fantastic addition to the lego franchise and anyone who loves the Lord of The Rings trilogy should seriously consider this game. This is a free roam game where to go to a mission you have to travel to the place in middle earth where it actually happened. For example, to get to throw the ring into Mount Doom you have to travel to Mount Doom. A new edition toLEGO The Lord of the Rings is a fantastic addition to the lego franchise and anyone who loves the Lord of The Rings trilogy should seriously consider this game. This is a free roam game where to go to a mission you have to travel to the place in middle earth where it actually happened. For example, to get to throw the ring into Mount Doom you have to travel to Mount Doom. A new edition to the franchise is instead of the usual mumbling of the characters they take voice clips from the movies and you will forget the characters are lego figures and think you're playing through the journey to destroy the ring to rule them all. The story takes about 5 hours to finish, which is a little quick but including the collectables, 10 mini kits, one blacksmith recipe, and three treasures a mission, plus the red bricks for quests giving you special abilities will add tons of hours onto it. There's not to much wrong with this game except for the few glitches that happened to me in the middle of missions where I couldn't get out of a space and made me restart the mission. I also wish there were checkpoints, since in some missions mini kits spawn in places where if you miss it there's no going back. In all LEGO Lord of the Rings is a spectacular game and well worth the price.",
                  "Username": "ParrotMuncher",
                  "_deepnote_index_column": 283961
                },
                {
                  "Title": "LEGO The Lord of the Rings",
                  "Platform": "Xbox360",
                  "Userscore": 8,
                  "Comment": "I have never read the books or seen the movies but put anything in the land of lego and I am there.  These games are always fun and full of lots of great things to do.  There are a few frustrating moments particularly when bouncing or climbing but the game is so charming and fun that you will persevere.  I am never disappointed in lego games and this is one of the best,",
                  "Username": "osprey",
                  "_deepnote_index_column": 283962
                },
                {
                  "Title": "LEGO The Lord of the Rings",
                  "Platform": "Xbox360",
                  "Userscore": 7,
                  "Comment": "Is this the worst Lego game to date?  No.  Is it as good as the originals?  No.  TT is trying to change so much that they are really breaking some of the fundamental things that made Legos fun.Let's start with the most obvious - the voices.  This was marked as a big deal but honestly I never liked it.  One of the things that makes Legos so fun is watching their silent acting.  TheIs this the worst Lego game to date?  No.  Is it as good as the originals?  No.  TT is trying to change so much that they are really breaking some of the fundamental things that made Legos fun.Let's start with the most obvious - the voices.  This was marked as a big deal but honestly I never liked it.  One of the things that makes Legos so fun is watching their silent acting.  The actions were funny even if you didn't understand what they were trying to say.  Adding voices has ruined that experience.  The game just isn't funny like all the other Lego games.  Forget the \"true to the movie\" crap.  This just isn't a funny game to play.  I wish they had provided the option to turn off the voices.They added some new features to the game but I think they detract more than they add.  TT has added yet another set of collectibles that allow you to...do nothing but get more collectibles.  This is tied to the side quest concept.  Neither of these do anything for the game other than extend its length.  The quests aren't fun and don't move the story forward.  Some of the collectible items are suppose to be useful (allow you to use a single char with all the abilities) but some of the key abilities still cannot be obtained without using certain characters.  This was a half-hearted implementation and does nothing for the game.Fortunately there were no vehicles in this game (because TT has never gotten them right).  But they replaced that will yet more jumping puzzles that test your patience.  If you don't jump at the right time you lose the puzzle.  Losing the puzzle means starting all over again.  Some puzzles can take minutes to complete.  TT does anybody there actually evaluate how much time you are wasting of gamers' times because of these crappy puzzles?  If they were straightforward then this would be a different scenario but often times the camera angle changes, you have to switch characters (which is messed up), jump at just the right time or a series of other actions that cause failure.  The jumping puzzles aren't fun.  I remember when Lego games were for younger kids.  I doubt most 8 yr olds could easily complete them now.Changing chars is painful in this game.  You really have to understand what is going on or you can mess things up.  If you \"quick\" select a char from the radial and that char is already on the screen (either the second controller char or because of story mode) then you switch from the first to the second char's location.  If you're in the middle of a puzzle you just got screwed.  If you use the full roster screen or the char is not visible then the current char switches.  This leads you down the path of always using the full roster just to be safe.  The problem with the full roster is that, especially with timed events, it is slower and can take a while to get the char you want.All in all this game attempts to move the Lego games forward but I think it actually takes them a step back.  I hope voices, the horrible jumping puzzles and odd char selection behavior don't make their way into the next Lego game.  This isn't the worse of the serious but it is nowhere near the best.  Bring us back the fun Lego games TT!!!",
                  "Username": "CoolDadTx",
                  "_deepnote_index_column": 283963
                },
                {
                  "Title": "LEGO The Lord of the Rings",
                  "Platform": "Xbox360",
                  "Userscore": 9,
                  "Comment": "I Dont usually like the Lego games but this one has changed my mind with its funny cut sceans and characters i must say its worth its price tag. The only grip I have is sometimes during game play it glitches quite badly and wont let me continue, even my Boyfriends one glitches. But no other complants",
                  "Username": "Idrial24",
                  "_deepnote_index_column": 283964
                },
                {
                  "Title": "LEGO The Lord of the Rings",
                  "Platform": "Xbox360",
                  "Userscore": 9,
                  "Comment": "Enjoyed this game immensely, i'm not really it's target audience, which is children, but i can say that children would find this game very fun. It has a lot of replayability, as do all lego games with their collectables, unlockable characters, and so on, it's lifespan goes beyond what most modern games have on offer. Graphically it's good, but as it is a lego game, there is naturally onlyEnjoyed this game immensely, i'm not really it's target audience, which is children, but i can say that children would find this game very fun. It has a lot of replayability, as do all lego games with their collectables, unlockable characters, and so on, it's lifespan goes beyond what most modern games have on offer. Graphically it's good, but as it is a lego game, there is naturally only so much that can be done. The game re-creates accurately scenes from the movie, and even contains nods to characters that only fans of the book would know. This is by no stretch of the imagination a challenging game, it's very casual, but that is what the game is aimed at being, and it is not ashamed, or trying to disguise this. My only complaint, is that i found the controlls to be actually a little difficult to get used to; aka, the item/character selection wheel, and i'm a 22 year old adult. So if i struggle a little, a child might lose his patience.",
                  "Username": "Boltshear",
                  "_deepnote_index_column": 283965
                },
                {
                  "Title": "LEGO The Lord of the Rings",
                  "Platform": "Xbox360",
                  "Userscore": 9,
                  "Comment": "            This review contains spoilers, click expand to view.        The most epic LEGO game. It offers a vast world, so many things to explore, a storyline based on one of the best fantasy books (and films of course). Simply outstanding.",
                  "Username": "Pawek_13",
                  "_deepnote_index_column": 283966
                },
                {
                  "Title": "LEGO The Lord of the Rings",
                  "Platform": "Xbox360",
                  "Userscore": 8,
                  "Comment": "Lord of the Rings is the usual LEGO game: fun, light, and pleasant. The creators take you from the peaceful  Hobbiton to the depths of Mordor, with many missions in-between. The HUB is awesome, a completely open map (I can literally walk from Hobbiton to Mordor in 5 minutes) and justifiable times of day. It also comes with an even greater variety of characters, as well as your on characterLord of the Rings is the usual LEGO game: fun, light, and pleasant. The creators take you from the peaceful  Hobbiton to the depths of Mordor, with many missions in-between. The HUB is awesome, a completely open map (I can literally walk from Hobbiton to Mordor in 5 minutes) and justifiable times of day. It also comes with an even greater variety of characters, as well as your on character DIY setup (based in Frodo's home). There are two problems, however. First, the side quests take an immense amount of time to complete, with little to no reward. Second, the actual missions in the populated areas (such as Helm's Deep and Bree) lack in creativity and the adventurous spirit of Tolkien and make you yawn. I would recommend this game to any casual gamer.",
                  "Username": "generalsamston",
                  "_deepnote_index_column": 283967
                },
                {
                  "Title": "LEGO The Lord of the Rings",
                  "Platform": "Xbox360",
                  "Userscore": 8,
                  "Comment": "Another great Lego game. This game perfectly re-enacts The Lord of the Rings Trilogy. The game has a massive amount of collectibles to collect that will take you tons of hours to get everything. The only annoying thing about this game has to do with the platforming...it's sometimes hard to judge how far to jump due to the camera and you will fall into the water countless times. Other thingAnother great Lego game. This game perfectly re-enacts The Lord of the Rings Trilogy. The game has a massive amount of collectibles to collect that will take you tons of hours to get everything. The only annoying thing about this game has to do with the platforming...it's sometimes hard to judge how far to jump due to the camera and you will fall into the water countless times. Other thing is when playing alone your secondary character rarely helps out and usually just stands there. So you have to control the second character too. It's a bit odd considering in the other Lego games the secondary character was automatic. Overall though, the game fantastically captures the spirit of The Lord of the rings.",
                  "Username": "aadityamudhar",
                  "_deepnote_index_column": 283968
                },
                {
                  "Title": "LEGO The Lord of the Rings",
                  "Platform": "Xbox360",
                  "Userscore": 8,
                  "Comment": "Another classic lego game with you playing the stunning world of the lord of the rings. Plus saying stunning world, you can explore the awesome world of middle earth by playing side quests as well as story missions.",
                  "Username": "gameguardian21",
                  "_deepnote_index_column": 283969
                },
                {
                  "Title": "LEGO The Lord of the Rings",
                  "Platform": "Xbox360",
                  "Userscore": 9,
                  "Comment": "There's a LOT of Tolkien packed into this game. The way it uses movies' dialogue in creative ways is hilarious. And it feels SOOOO GOOOD to play as Sauron.",
                  "Username": "thealexmott",
                  "_deepnote_index_column": 283970
                },
                {
                  "Title": "Etrian Odyssey Untold: The Millennium Girl",
                  "Platform": "3DS",
                  "Userscore": 10,
                  "Comment": "A fantastic retelling of the original Etrian Odyssey. A lot of the newer features from Etrian Odyssey IV return here, and make the experience much more enjoyable. The Story mode adds an incentive to replay this journey even if you already have before.",
                  "Username": "Capn_Pancakes",
                  "_deepnote_index_column": 283971
                },
                {
                  "Title": "Etrian Odyssey Untold: The Millennium Girl",
                  "Platform": "3DS",
                  "Userscore": 9,
                  "Comment": "Again, now another one of my top 3DS games. After completing the story in approximately 45 hours over the span of 4 months (march~july) and spending a lot more with quests and extra \"post-game things\" to do (no spoilers~), I have to thoroughly admit that this game is something that all RPG fans should play! Now, is it as good as EOIV? Let's see the goods and bads before comparing the two.Again, now another one of my top 3DS games. After completing the story in approximately 45 hours over the span of 4 months (march~july) and spending a lot more with quests and extra \"post-game things\" to do (no spoilers~), I have to thoroughly admit that this game is something that all RPG fans should play! Now, is it as good as EOIV? Let's see the goods and bads before comparing the two.The Goods: Etrian Odyssey Untold is a freshened, remade version of the first game, which was released around 6/7 years ago (2007). It has a story mode, and the story mode serves as the main mode that etrian players will play. The classic mode is still there for people who want to use their own crew for fighting....and stuff. So, down to the story mode - it's surprisingly great. I found the premise of the story to be a bit niche, but the way they presented it was really spectacular, and the scripting was as good as ever, convincing me to continue to play it until the end. It was really emotional towards the end and I have to applaud Atlus for being able to shake my iron soul. The graphics are as good as ever for a 3DS game, and the 3D effect is really well implemented, as always. The character designs are really nice, and the backgrounds are really detailed and well drawn. The music was something from another planet. Yuzo Koshiro really did a splendid job remastering the songs from the first game into an orchestrated/live version of it for this game. I never turned the volume down or turned off the BGM throughout the whole time, and actually kept it at max volume while keeping the others down. You see, there are FOEs (strong bosses that roam the labyrinth) that cruise around, keeping you scared and alert, and they are really programmed well this game. The puzzles that you have to solve to avoid fighting them is really well designed, and some of the later stratums require a lot of thinking to avoid these nasty fights. The fighting system is as good as ever, with the inclusion of Grimoire Stones, which from what I know..are stones that contain enemy's (or human) skills that can be used if the weapon type is the same as the user......which can be confusing, but you'll learn more about it ingame~. The dungeons are wonderful as ever, the feeling you get from mapping is splendid, and the 3 difficulties you get from the beginning of the game are great for beginners and veterans (I chose the standard diff, fyi). The bosses are really tough, most of the time, and things get really intense, again, towards the end of the game. Definitely worth the effort of grinding~The Neutral: It's good that voice acting has been implemented more, but it may be nicer if more things were spoken. I felt that they only spoke 1 or 2 important lines in central parts of the story, and not really talking much in other \"branches\" of the story that I also felt were somewhat important. Again, although it's something that has never occurred in the franchise, I have always thought that a city hub would be nice (one that you could explore), but it seems you'll be stuck with menus for this game as well, which isn't exactly a problem. Another neutral thing is the grinding at the start of the game. You're really going to have to spend a bit of time (although it's easier in this game) grinding for a while to get a decent load of cash and skills/levels. The game is also a tad bit to the boring side for the first 10-20 hours, and after that - things really get awesome and super intense! (especially the story, but you'll have to wait it out for a while)The Bad: There isn't really much here that I can say...though there is one thing I can think of. It'd be nice if the game had more than 1 slot for saving, because after finishing story mode, I wanted to try Classic mode but I didn't want to delete my old file, so it kinda creates a problem for people like me who want to try out everything that's featured in the game without deleting anything.VS EOIV and Overall: Compared to EOIV, I'd say this is a better game to start with, but notice that it's definitely more difficult than EOIV - especially with endgame bosses and the last few stratums being very very difficult to beat and navigate through (and map). Although EOIV has the wonderful world system (\"Lands\") and Untold lacks it, I'd say that Untold still holds pretty well with EOIV. Of the two though, I'd say I like EOIV more by only a small percentage. I truly had a great experience with EO Untold, and hopefully this review can sway you (hopefully and RPG fan) to have the wonderful experience that I had whilst playing this game~Gameplay: 10/10Story: 9/10Music: 10/10Presentation: 9/10Length/PostGame: 9/10Overall: 9/10",
                  "Username": "GoombaJMR",
                  "_deepnote_index_column": 283972
                },
                {
                  "Title": "Etrian Odyssey Untold: The Millennium Girl",
                  "Platform": "3DS",
                  "Userscore": 10,
                  "Comment": "This game is very similar to EO:4... but that is a good thing! I highly enjoyed this game, and for someone brand new to the series (first game was EO:4), I was glad to see another game in this series release on the 3DS. First person + RPG + variety of team dynamics = enormous win.",
                  "Username": "sasuke619",
                  "_deepnote_index_column": 283973
                },
                {
                  "Title": "Etrian Odyssey Untold: The Millennium Girl",
                  "Platform": "3DS",
                  "Userscore": 8,
                  "Comment": "The remake of the first game in the series improves on many aspects, adds some new elements and areas and adds a story and different difficulties.What remains negative, is a bad, uncomfortable dungeon-design, a limited inventory, many craftable items that nobody in the story-party can use and a stupid auto-battle-ai, that attacks randomly and doesnt let the user set up any scripts.The remake of the first game in the series improves on many aspects, adds some new elements and areas and adds a story and different difficulties.What remains negative, is a bad, uncomfortable dungeon-design, a limited inventory, many craftable items that nobody in the story-party can use and a stupid auto-battle-ai, that attacks randomly and doesnt let the user set up any scripts.Speaking in scores, i would haven rated the original game with 70 points, while i rate the remake with 78 points",
                  "Username": "Akumala",
                  "_deepnote_index_column": 283974
                },
                {
                  "Title": "Etrian Odyssey Untold: The Millennium Girl",
                  "Platform": "3DS",
                  "Userscore": 10,
                  "Comment": "I am in love with this game. That's, the short part.Now to the long one:I have played Etrian Odyssey since its first title came out. I have tried my best beating it, ended up cheating halfway through the game but deleted it as I ran past everything and it wasn't fun at all. Why am I mentioning this? Because Etrian Odyssey is hard. Etrian Odyssey is a game series based onI am in love with this game. That's, the short part.Now to the long one:I have played Etrian Odyssey since its first title came out. I have tried my best beating it, ended up cheating halfway through the game but deleted it as I ran past everything and it wasn't fun at all. Why am I mentioning this? Because Etrian Odyssey is hard. Etrian Odyssey is a game series based on exploration and preparing. One false step, one missed hit and its the end for you.The overall game is very much enjoyable. The graphics, mainly Anime-style, are very well drawn and you have a whole variety of them. About 4 for each class and additional ones for specific characters and NPCs.As you enter the game you are greeted with a beautiful sounding soundtrack that expands on the whole Labyrinth you will explore. However having played the original, the remakes just don't sound as good. They are still quite good though.And now we are already at the part that I love about this game. Everyone who has played this knows about the end of the game. Well \"end\". The big Twist about this game to be specific. And that is where the two new modes come into play. I myself already know the secrets and know whats coming for me but seeing how the characters in the story mode discover it for them-self makes it even better. It is like a Anime that you have to play along to unlock more and more the further you get. But of course the Story mode has a lot more to offer than the actual old classic mode. New maps, new quests and most importantly: New areas.This comes into play as I hear many people moaning about the fact that this game does not have a Over-world map. Correct me if I am wrong but I am pretty sure that the Over-world map came with later installments of the series. And as of right now I am very happy about the fact that they did not make a Over-world map. I see though where an Over-world map could come into play. it just wouldn't fit.If you want a challenging and interesting game to play than Etrian Odyssey, the series as a whole (except the Mystery Dungeon Spin-off) is a game you should play.",
                  "Username": "Gikame",
                  "_deepnote_index_column": 283975
                },
                {
                  "Title": "Etrian Odyssey Untold: The Millennium Girl",
                  "Platform": "3DS",
                  "Userscore": 8,
                  "Comment": "To start, this was my first experience with first-person dungeon crawling, and that also implies i haven't played any of this game's predecessors, so my critique is on this game and this game alone. It was a lot of fun and i loved  the map making, which is supposedly a big part of the series. I think the combat skill tree system wasn't that hard to grasp, and i like how character statsTo start, this was my first experience with first-person dungeon crawling, and that also implies i haven't played any of this game's predecessors, so my critique is on this game and this game alone. It was a lot of fun and i loved  the map making, which is supposedly a big part of the series. I think the combat skill tree system wasn't that hard to grasp, and i like how character stats only showed up when purchasing items, so it was overall simple. I wish the combat was a little more engaging, however. It kind of reminded me of digimon dusk and dawn's combat, because the characters were doing amazing things but all you saw was bursts of fire and squares shaking as they took damage. I wasn't expecting pokemon X and Y grade combat graphics, but I feel, especially since the story had fixed players they could model, they could have made a few general animations for when they attacked, even if they were simple like what the enemy monsters did. I like the first person, but it felt weird to have a main character that felt apart of me and separate from me at the same time. The dialogue options didn't normally change the story, but allowed a little humour here and there. However, i couldn't fully feel like it was me adventuring with the others, but rather me controlling the main character. When i get this feeling, i don't wish i had more control. I wish the main character had more character of his own. Finally, the grimuar stones (probably spelled that wrong, though) were a nice feature that was apparently new, but i think they could have simplified it. If i forgot to edit my stones after a few trips back from the forest, i would suddenly find 20 or more new stones and feel overwhelmed. Perhaps they could have made it so i could extract skills individually and recycle ones i didn't want to level up skills i wanted to keep, that way my only question was which skills i wanted, not which stone i wanted to make. Overall, love the experience",
                  "Username": "Ironmonger",
                  "_deepnote_index_column": 283976
                },
                {
                  "Title": "Etrian Odyssey Untold: The Millennium Girl",
                  "Platform": "3DS",
                  "Userscore": 9,
                  "Comment": "So you will know what type of gamer is writing this review, I'll list three of my favorite games. Danganronpa Fire EmblemAtelier TotoriFirstly, you should know this review is of the story mode, not the classic mode. For those who don't know, this game has two modes to choose from when starting a game. The story mode is the one with a plot and voice acting. The classic mode isSo you will know what type of gamer is writing this review, I'll list three of my favorite games. Danganronpa Fire EmblemAtelier TotoriFirstly, you should know this review is of the story mode, not the classic mode. For those who don't know, this game has two modes to choose from when starting a game. The story mode is the one with a plot and voice acting. The classic mode is choosing your teams jobs from the start, unlike the story mode where you are given a party of five members and can only change their class after reaching level thirty. THE BAD: I found the ending to be disappointing in my opinion. It felt rushed and was very short. Changing your class in story mode does not change the portrait of the character. So, if you change a defender to mage or whatever else, the picture will still show the defender turned mage still holding a shield and sword. Now, this isn't a major gripe of mine but I just wanted to mention it because it was one of the reasons I didn't change classes. THE GOOD:MUSIC: The music was awesome. From slow piano to roaring guitar solo, it's in this game. I found myself nodding my head to some of the battle music.GRAPHICS: Graphics are good for 3DS. The dungeons are each unique, dessert, sea, forest, jungle, demolished city, it's all there. The dungeons were. nice to look at. Nothing ugly to say the least. GAMEPLAY: The battle system is turn based and quite fun. Also,the level up system is great. Every time you gain a level, you get a point to distribute to a skill or Stat boost. So you can take your character in the direction you want to. Well, no heavy knight combined mage, but still. I felt it was very nicely done. VOICE ACTING: The voice acting is great as well. Even Chie's voice actor from Persona 4 is in this game. STORY: The dialogue wasn't overly childish as many other games I have played have been. The story was good. Just the ending was disappointing because it was too short. CLOSING COMMENTS:I would recommend this game to anyone who is a hard core RPG gamer. Bear in mind this is a dungeon crawler and it's not for everyone. There were times when I would get slightly nauseated from the dungeon crawling. This isn't unusual for an RPG though but definently expect it from dungeon crawlers. Also note, if you are an adult and are looking for a more mature dungeon crawler, then check out Demon Gaze and Dungeon Travelers 2 for the PS Vita.That wraps it up, hope it helps.",
                  "Username": "DanHazy",
                  "_deepnote_index_column": 283977
                },
                {
                  "Title": "Etrian Odyssey Untold: The Millennium Girl",
                  "Platform": "3DS",
                  "Userscore": 7,
                  "Comment": "Extremely similar to EO:4, which obviously isn't a bad thing, but I'd say this is the weaker of the two. No overworld maps like in 4, and too much of a same old feeling if you've come off finishing EO:4 last year.Its a good game. I just don't think I'll ever be compelled to finish it. 20 hours at this price before losing interest for another game isn't bad.",
                  "Username": "RileyWRussell",
                  "_deepnote_index_column": 283978
                },
                {
                  "Title": "Etrian Odyssey Untold: The Millennium Girl",
                  "Platform": "3DS",
                  "Userscore": 0,
                  "Comment": "Typical overrated Atlus trash. A game i should have liked, since i am an oldtime hardcore PC RPG fan, but if you think this game has anything to do with the classics, you need to change your hobby and begin stamp collections.There is no challenge in this game. The gameplay mechanics are very simple and boring, all you have to do is grind like your life is worth nothing and you canTypical overrated Atlus trash. A game i should have liked, since i am an oldtime hardcore PC RPG fan, but if you think this game has anything to do with the classics, you need to change your hobby and begin stamp collections.There is no challenge in this game. The gameplay mechanics are very simple and boring, all you have to do is grind like your life is worth nothing and you can throw hours upon hours in the garbage bin. Grind=win type of game, like most of Atlus trash, with a nice anime/manga presentation to appeal to the kiddies.Just avoid if you value your time.",
                  "Username": "TemplarGR",
                  "_deepnote_index_column": 283979
                },
                {
                  "Title": "Etrian Odyssey Untold: The Millennium Girl",
                  "Platform": "3DS",
                  "Userscore": 9,
                  "Comment": "While I find the story mode to have annoying characters and an intrusive story, the classic mode is top notch! Maybe it's not as good as EO4, because of the unnecessary third difficulty setting, but it's a fantastic game in its own right.  Now...if only the 6th stratum wasn't so dang scary.",
                  "Username": "midipon",
                  "_deepnote_index_column": 283980
                },
                {
                  "Title": "Etrian Odyssey Untold: The Millennium Girl",
                  "Platform": "3DS",
                  "Userscore": 8,
                  "Comment": "Pretty good, but it certainly lacks the visual and audio polish that IV has.  Many classes have confusing and uninteresting abilities and the Grimoire system kinda blows.Despite those flaws, I do like it and would recommend it, overall.  The dungeon is gorgeous, the game is challenging, and the music is good enough.",
                  "Username": "night4",
                  "_deepnote_index_column": 283981
                },
                {
                  "Title": "Etrian Odyssey Untold: The Millennium Girl",
                  "Platform": "3DS",
                  "Userscore": 9,
                  "Comment": "As my first game from the \"Etrian series\" i had a hard time until i got used to checking maps while in dungeon  but as soon as i got used to the mechanics of the game i got a really enjoyable ride that did go smoothly until basically the end of the game. A good gameplay, really good music and a nice history. I didn't know what to expect when buying this game but now the Etrian Series got aAs my first game from the \"Etrian series\" i had a hard time until i got used to checking maps while in dungeon  but as soon as i got used to the mechanics of the game i got a really enjoyable ride that did go smoothly until basically the end of the game. A good gameplay, really good music and a nice history. I didn't know what to expect when buying this game but now the Etrian Series got a new fan.",
                  "Username": "Balorer",
                  "_deepnote_index_column": 283982
                }
              ]
            },
            "text/plain": "                                             Title    Platform  Userscore  \\\n0             The Legend of Zelda: Ocarina of Time  Nintendo64         10   \n1             The Legend of Zelda: Ocarina of Time  Nintendo64         10   \n2             The Legend of Zelda: Ocarina of Time  Nintendo64         10   \n3             The Legend of Zelda: Ocarina of Time  Nintendo64         10   \n4             The Legend of Zelda: Ocarina of Time  Nintendo64         10   \n...                                            ...         ...        ...   \n283978  Etrian Odyssey Untold: The Millennium Girl         3DS          7   \n283979  Etrian Odyssey Untold: The Millennium Girl         3DS          0   \n283980  Etrian Odyssey Untold: The Millennium Girl         3DS          9   \n283981  Etrian Odyssey Untold: The Millennium Girl         3DS          8   \n283982  Etrian Odyssey Untold: The Millennium Girl         3DS          9   \n\n                                                  Comment       Username  \n0       Everything in OoT is so near at perfection, it...     SirCaestus  \n1       I won't bore you with what everyone is already...       Kaistlin  \n2       Anyone who gives the masterpiece below a 7 or ...         Jacody  \n3       I'm one of those people who think that this is...     doodlerman  \n4        This game is the highest rated game on Metacr...        StevenA  \n...                                                   ...            ...  \n283978  Extremely similar to EO:4, which obviously isn...  RileyWRussell  \n283979  Typical overrated Atlus trash. A game i should...      TemplarGR  \n283980  While I find the story mode to have annoying c...        midipon  \n283981  Pretty good, but it certainly lacks the visual...         night4  \n283982  As my first game from the \"Etrian series\" i ha...        Balorer  \n\n[283983 rows x 5 columns]",
            "text/html": "<div>\n<style scoped>\n    .dataframe tbody tr th:only-of-type {\n        vertical-align: middle;\n    }\n\n    .dataframe tbody tr th {\n        vertical-align: top;\n    }\n\n    .dataframe thead th {\n        text-align: right;\n    }\n</style>\n<table border=\"1\" class=\"dataframe\">\n  <thead>\n    <tr style=\"text-align: right;\">\n      <th></th>\n      <th>Title</th>\n      <th>Platform</th>\n      <th>Userscore</th>\n      <th>Comment</th>\n      <th>Username</th>\n    </tr>\n  </thead>\n  <tbody>\n    <tr>\n      <th>0</th>\n      <td>The Legend of Zelda: Ocarina of Time</td>\n      <td>Nintendo64</td>\n      <td>10</td>\n      <td>Everything in OoT is so near at perfection, it...</td>\n      <td>SirCaestus</td>\n    </tr>\n    <tr>\n      <th>1</th>\n      <td>The Legend of Zelda: Ocarina of Time</td>\n      <td>Nintendo64</td>\n      <td>10</td>\n      <td>I won't bore you with what everyone is already...</td>\n      <td>Kaistlin</td>\n    </tr>\n    <tr>\n      <th>2</th>\n      <td>The Legend of Zelda: Ocarina of Time</td>\n      <td>Nintendo64</td>\n      <td>10</td>\n      <td>Anyone who gives the masterpiece below a 7 or ...</td>\n      <td>Jacody</td>\n    </tr>\n    <tr>\n      <th>3</th>\n      <td>The Legend of Zelda: Ocarina of Time</td>\n      <td>Nintendo64</td>\n      <td>10</td>\n      <td>I'm one of those people who think that this is...</td>\n      <td>doodlerman</td>\n    </tr>\n    <tr>\n      <th>4</th>\n      <td>The Legend of Zelda: Ocarina of Time</td>\n      <td>Nintendo64</td>\n      <td>10</td>\n      <td>This game is the highest rated game on Metacr...</td>\n      <td>StevenA</td>\n    </tr>\n    <tr>\n      <th>...</th>\n      <td>...</td>\n      <td>...</td>\n      <td>...</td>\n      <td>...</td>\n      <td>...</td>\n    </tr>\n    <tr>\n      <th>283978</th>\n      <td>Etrian Odyssey Untold: The Millennium Girl</td>\n      <td>3DS</td>\n      <td>7</td>\n      <td>Extremely similar to EO:4, which obviously isn...</td>\n      <td>RileyWRussell</td>\n    </tr>\n    <tr>\n      <th>283979</th>\n      <td>Etrian Odyssey Untold: The Millennium Girl</td>\n      <td>3DS</td>\n      <td>0</td>\n      <td>Typical overrated Atlus trash. A game i should...</td>\n      <td>TemplarGR</td>\n    </tr>\n    <tr>\n      <th>283980</th>\n      <td>Etrian Odyssey Untold: The Millennium Girl</td>\n      <td>3DS</td>\n      <td>9</td>\n      <td>While I find the story mode to have annoying c...</td>\n      <td>midipon</td>\n    </tr>\n    <tr>\n      <th>283981</th>\n      <td>Etrian Odyssey Untold: The Millennium Girl</td>\n      <td>3DS</td>\n      <td>8</td>\n      <td>Pretty good, but it certainly lacks the visual...</td>\n      <td>night4</td>\n    </tr>\n    <tr>\n      <th>283982</th>\n      <td>Etrian Odyssey Untold: The Millennium Girl</td>\n      <td>3DS</td>\n      <td>9</td>\n      <td>As my first game from the \"Etrian series\" i ha...</td>\n      <td>Balorer</td>\n    </tr>\n  </tbody>\n</table>\n<p>283983 rows × 5 columns</p>\n</div>"
          },
          "metadata": {}
        }
      ]
    },
    {
      "cell_type": "code",
      "metadata": {
        "tags": [],
        "cell_id": "00006-47e84d6d-eace-4edc-9ff8-11d3d6817611",
        "deepnote_to_be_reexecuted": false,
        "source_hash": "baeb00b1",
        "execution_millis": 451092,
        "execution_start": 1615176618576,
        "deepnote_cell_type": "code"
      },
      "source": "game_ids = metacritic_game_user_comments.apply(lambda r: metacritic_game_info[(metacritic_game_info['Title'] == r['Title']) & (metacritic_game_info['Platform'] == r['Platform'])].index[0], axis=1)",
      "execution_count": null,
      "outputs": []
    },
    {
      "cell_type": "code",
      "metadata": {
        "tags": [],
        "cell_id": "00010-e10a780f-dd5c-4053-8fa6-1edb5a788468",
        "deepnote_to_be_reexecuted": false,
        "source_hash": "802940b",
        "execution_millis": 75,
        "execution_start": 1615177607482,
        "deepnote_cell_type": "code"
      },
      "source": "metacritic_game_user_comments = metacritic_game_user_comments.drop(columns=['Title','Platform'])\nmetacritic_game_user_comments['Game_ID'] = game_ids\nmetacritic_game_user_comments",
      "execution_count": null,
      "outputs": [
        {
          "output_type": "execute_result",
          "execution_count": 18,
          "data": {
            "application/vnd.deepnote.dataframe.v2+json": {
              "row_count": 283983,
              "column_count": 4,
              "columns": [
                {
                  "name": "Userscore",
                  "dtype": "int64"
                },
                {
                  "name": "Comment",
                  "dtype": "object"
                },
                {
                  "name": "Username",
                  "dtype": "object"
                },
                {
                  "name": "Game_ID",
                  "dtype": "int64"
                },
                {
                  "name": "_deepnote_index_column",
                  "dtype": "int64"
                }
              ],
              "rows_top": [
                {
                  "Userscore": 10,
                  "Comment": "Everything in OoT is so near at perfection, its really no wonder that this game has such a huge fanbase and is so highly rated among players and critics.",
                  "Username": "SirCaestus",
                  "Game_ID": 0,
                  "_deepnote_index_column": 0
                },
                {
                  "Userscore": 10,
                  "Comment": "I won't bore you with what everyone is already saying about how amazing this game is.  But if you're on the fence about whether to give this classic a try, go read IGN's review.",
                  "Username": "Kaistlin",
                  "Game_ID": 0,
                  "_deepnote_index_column": 1
                },
                {
                  "Userscore": 10,
                  "Comment": "Anyone who gives the masterpiece below a 7 or an 8 is either just here to hate on the astounding zelda franchise, doesn't know a DAMN good game or is insane. The dungeons are interesting and unique, the characters are interesting and have personality, the story is highly engaging, the combat is varied, fluid, and fun, the items are amazing, there are a plethora of interesting side questsAnyone who gives the masterpiece below a 7 or an 8 is either just here to hate on the astounding zelda franchise, doesn't know a DAMN good game or is insane. The dungeons are interesting and unique, the characters are interesting and have personality, the story is highly engaging, the combat is varied, fluid, and fun, the items are amazing, there are a plethora of interesting side quests and collectibles, and considering the fact that this game was made in 1998 the graphics are amazing. The only real downside is that the game is somewhat linear and you can't continue on after beating the final boss, but that doesn't detract from the huge amount of fun I had playing this game. This has to be one of if not the best games ever made just as the others have said.",
                  "Username": "Jacody",
                  "Game_ID": 0,
                  "_deepnote_index_column": 2
                },
                {
                  "Userscore": 10,
                  "Comment": "I'm one of those people who think that this is the greatest game of all time, no matter what quality games are out now or will be out ever. This is just plain the best game I've ever played. Why? Partly because it was the first good game I've actually played. When I first got a Nintendo 64 I was considerably young, and yet every game I played I thought was absolutely horrible. All I hadI'm one of those people who think that this is the greatest game of all time, no matter what quality games are out now or will be out ever. This is just plain the best game I've ever played. Why? Partly because it was the first good game I've actually played. When I first got a Nintendo 64 I was considerably young, and yet every game I played I thought was absolutely horrible. All I had were simple objective games, and as a child I thought they were hard and pointless. Then one day Ocarina of Time was brought home and I at first refused to play it. So I watched my father play it for a while, and straight away it was something entirely new and different. Also at the time, it was the most real (to me at least). What brought me in was the ability to actually explore and get to know people, even if the people you talked to all repeated the same things over and over no matter how many times you talked to them, but it didn't matter. This game was something new and exciting to me, and to this day I get this good old nostalgic feeling whenever I play it. It has one of the greatest stories of all time for a video game and was one of the first to create its own sort of universe and it was one of the first 3D environment game where you can see in all 360 degrees (after Mario 64 that is). Plus to this day people are still discovering new secrets to the game and so many in-depth theories arise from this title alone based upon this game that keep it interesting. The characters feel like characters and the visuals are some of the most cinematic of its time. The gameplay is also very fun, which of course is one of the most important things and there are very involving puzzles that are simple enough in appears but very complex when you get down to it. There is so much that I could say about this game, but sometimes even looking back, I'm at a loss of words at how awesome this game is.",
                  "Username": "doodlerman",
                  "Game_ID": 0,
                  "_deepnote_index_column": 3
                },
                {
                  "Userscore": 10,
                  "Comment": " This game is the highest rated game on Metacritic and for good reasons. It takes elements from every other game that existed before it and multiplied it several times over. Almost 12 years later, I can play Ocarina of Time and STILL see things that it does, that games of this 2010 decade cannot d. It stands the test of time and will forever be in my heart as the greatest game of all time This game is the highest rated game on Metacritic and for good reasons. It takes elements from every other game that existed before it and multiplied it several times over. Almost 12 years later, I can play Ocarina of Time and STILL see things that it does, that games of this 2010 decade cannot d. It stands the test of time and will forever be in my heart as the greatest game of all time ever in the world. Many games have tried to conquer that title. All have failed. I'm more than happy to say that.",
                  "Username": "StevenA",
                  "Game_ID": 0,
                  "_deepnote_index_column": 4
                },
                {
                  "Userscore": 10,
                  "Comment": "I think it's funny that you have Zelda haters writing reviews based on their personal feelings towards the game, as opposed to how the game play actually was for them. Ocarina of Time was one of the single greatest games ever created. It set a precedence for future games. The graphics were unrivaled at the time, the game actually took real skill to beat it at times. In other words, itI think it's funny that you have Zelda haters writing reviews based on their personal feelings towards the game, as opposed to how the game play actually was for them. Ocarina of Time was one of the single greatest games ever created. It set a precedence for future games. The graphics were unrivaled at the time, the game actually took real skill to beat it at times. In other words, it wasn't something that you would pick up, beat in an hour, and never look at again. I can still pick this game up, and still play through it while enjoying every single second of it.",
                  "Username": "joei1382",
                  "Game_ID": 0,
                  "_deepnote_index_column": 5
                },
                {
                  "Userscore": 9,
                  "Comment": "I played A Link To The Past so many times in my childhood i lost count. When i got OoT for Christmas it was BYE BYE childhood! This game is the very definition of epic, i loved every second of it!",
                  "Username": "Corvix",
                  "Game_ID": 0,
                  "_deepnote_index_column": 6
                },
                {
                  "Userscore": 10,
                  "Comment": "The Legend of Zelda: Ocarina of Time is without a doubt one of the greatest video games of all time. To say that this game was great is an understatement. Ocarina introduced the gaming world to the aspect of open world play with a wonderfully sized map that was large and full of exploration but not in the slightest bit unnecessary. The level and dungeon design was the best of it's time andThe Legend of Zelda: Ocarina of Time is without a doubt one of the greatest video games of all time. To say that this game was great is an understatement. Ocarina introduced the gaming world to the aspect of open world play with a wonderfully sized map that was large and full of exploration but not in the slightest bit unnecessary. The level and dungeon design was the best of it's time and in still to this day remains one of most brilliant, beautiful, and interesting worlds of any video game on the market. Every area you explore from the moment you wake up in the lush and green forest of the Kokiri to the vast and deep desert of the Gerudos' is crafted to perfection. The combat system in Ocarina was also a shining star. Not only did weapons feel right, react well, and play out perfectly, but they were always interesting and had their own advantages. Not once did a weapon outshine another because they all had a great purpose. The Z-Targeting system was added for a more cinematic feel that worked flawlessly and it even made combat easier and more interesting. The music and sounds of the game brought it to life as well. Every area had it's own theme music that was unique to that zone and always felt right and gave the player that more personal feeling wherever he/she went. Kokiri Forest felt like a wonderful place of happiness while Hyrule Field had an epic and powerful tone to it. The addition of musical gameplay made things more interesting as well and showed an importance to every area the player visited. Now, most importantly to the Zelda series itself and to any video game for that matter, comes the story. The Legend of Zelda has always been a series shining in the glory of it's adventures and this was the biggest and most powerful of them all. You begin as a young boy who has always felt left out and who has nightmares of dark visions that would become realities. As you start your quest you realize your true destiny and embark on a journey filled with adventure and courage like no other. The dark king of the Gerudo's Gannondorf seeks the legendary Triforce and will stop at nothing to rule the land of Hyrule. By unleashing monsters from the Temples' of Hyrule and by turning the once good and just land to pure evil, Gannondorf attempts total rule over the world. Link being the Hero of Hyrule must journey to the different lands and temples' of the land in order to gain power from the mystical \"sages\" and stop Gannondorf. The story in Ocarina beings great and never lets go. In fact the game gets better every second that it progresses. You meet many interesting characters such as Princess Ruto, Malon, Darunia, and the mysterious Sheik that not only have their own individual traits, but also contain important roles in your quest. Also, each character is easily remembered and full of emotion which grasps the player and gives them a sense of caring and passion for each one. The many temples and dungeons visited during the game are all fun, unique, and interesting and reward the player as he/she progresses. The game has quite a few side quests that are entertaining and it follows through right up to the end. There is nothing negative about this game and to this day it stands on a pedestal as one of if not the greatest game of all time and for good reason. Since it's release very few games have captured the true story, art, and power Ocarina of Time had mastered back in 1998. To this day I myself still play it and still consider it my favorite game ever. Not because of great graphics, or online play, or anything else that current games have fallen into but because Zelda is a game that touched my heart like no other game ever has. Current game developers and enthusiasts need to look back at The Legend of Zelda: Ocarina of Time and reconsider the direction that games are going. Zelda mastered it, and for that we should honor it.",
                  "Username": "pittsburghboy91",
                  "Game_ID": 0,
                  "_deepnote_index_column": 7
                },
                {
                  "Userscore": 10,
                  "Comment": "            This review contains spoilers, click expand to view.        This game is do doubt the greatest game in existance. Non, except for Nintendo haters, have been able to play this game without admiting it is at least one of the best of the best, if not THE best of the best. Super Mario 64 was the first game to make 3D conversion work, but this was the game that perfected it. It introduced a large 3 dimensional world to explore, which at the time was a huge deal. It also introduced new gameplay mechanics that made the action adventure genre work out even more. Like the lock-on targeting system, which helped to keep your eye on the enemy much easier, but without making the fighting too easy, as you had to meneuver around the enemy and dodge his attacks. Another big new feature was horse-back riding. Riding your horse around the huge field was big and new. It had an engaging story, that really sucked you in, which had lots of twists and turns. Like when Ganondorf attacked the castle, destroying your plan to get the Triforce before Ganon did. Or near the end, when Shiek, the man who helped you on your journey as an adult, reveals himself to be Princess Zelda, the person Link had been searching long and hard for. Another thing was the conversion from Young Link to Adult Link. This was the first Zelda game that introduced Adult Link, making him look more epic, and more like the hero of the legends. But the bigger twist is how you can play as both Young Link and Adult Link. Not only that, but the story counts on you using both of them to make it all the way through the story. There are alot of complicated dungeons with puzzles to solve, which can sometime twist your brain, and make the game much more challenging. What I loved about Zelda was the flawless gameplay and beautiful landscapes. Zelda Ocarina of Time was a first, it brought forth the perfection of 3D conversion, and made it beautiful, but also made the 3D mechanics work with how the game played out, and it worked beautifully. Of course the game isn't perfect, there are a few flaws in Ocarina of Time. Like the Water Temple, which is the most unpopular dungeon in the game. Everyone had a hard time with it, so it proved to be a bit too challenging. Plus in some parts of the game, the graphics don't look good at all. However, these flaws are not severe enough to interfere with the games overall greatness. There may be no such thing as a perfect game, but this game is as close to a perfect game as you can get. Zelda Ocarina of Time won Game of the Year in 1998, and got an honorable award in outstanding gaming achievement in 1999, and it didn't win these awards without good reason. This game is truley the best game of all time, and anyone who thinks they can make a game better than this is absolutely crazy. Sure Ocarina of Time may not be outstanding by todays standards, but considering the technology of gaming at the time, it was the best gaming could offer. Even 13 years after the game came out, Ocarina of Time is still selling like nuts via the Wii Virtual Console, which re-released Ocarina of Time in 2007. In my opinion, Ocarina of Time is, and will always be, the greatest game ever made, and I'm not alone in that statement. I have yet to meet a person who is not a Zelda hater who played Ocarina of Time and thought the games was horrible. Ocarina of Time is the best of the best in gaming, hands down, and it deserves a perfect score more than any game.",
                  "Username": "Nosidda89",
                  "Game_ID": 0,
                  "_deepnote_index_column": 8
                },
                {
                  "Userscore": 10,
                  "Comment": "I'm not kidding when I say that this is the only game I would ever consider to be 'perfect.' Not one person who has ever enjoyed a video game not play this. This isn't even my favourite video game,but I consider it perfect. It really is this good. Anyone who comes along to nit-pick away at Ocarina of Time wouldn't know a good game if it trotted along and killed their grandmother. I'llI'm not kidding when I say that this is the only game I would ever consider to be 'perfect.' Not one person who has ever enjoyed a video game not play this. This isn't even my favourite video game,but I consider it perfect. It really is this good. Anyone who comes along to nit-pick away at Ocarina of Time wouldn't know a good game if it trotted along and killed their grandmother. I'll admit, it's not without flaw; nothing is. But those flaws are merely physical. 'Perfect ' to me means it go everything it could right and remains good to everyone. That is what Ocarina of Time does, and that is what it will continue to do.",
                  "Username": "Regeneration13",
                  "Game_ID": 0,
                  "_deepnote_index_column": 9
                },
                {
                  "Userscore": 10,
                  "Comment": "Essentially one of the best games of all time, no cheese. Pros: Beautiful graphics for the N64; subtle, but challenging gameplay; variety of dungeons, puzzles, and secrets; innovative and imaginative. Cons: If Ocarina of Time had faults, it would be its often dull dungeon design, camera issues, and it has one of the worst power-ups to date.",
                  "Username": "KendylKlownfish",
                  "Game_ID": 0,
                  "_deepnote_index_column": 10
                },
                {
                  "Userscore": 10,
                  "Comment": "THIS is the PERFECT game ! no doubt. the gameplay is still better than in any other game. compared with other fantastic games like uncharted 2, the metal gear solid series or the mario series, it is the ultimate video game. i wish i could play the game like the first time. it was overwhelming",
                  "Username": "Boffboff",
                  "Game_ID": 0,
                  "_deepnote_index_column": 11
                },
                {
                  "Userscore": 10,
                  "Comment": "there is a reason this game garners the respect and is revered like it is. cause it is epic. to do what they did with the limitations of the n64 and tombstone cartridge is nothing short of amazing. if you haven't played it through do yourself a favour.",
                  "Username": "Bolts",
                  "Game_ID": 0,
                  "_deepnote_index_column": 12
                },
                {
                  "Userscore": 10,
                  "Comment": "Pure freaking magic, trolls can rage against the game as much as they want; when a discussion of the greatest game of all time comes up, Ocarina stands as king.",
                  "Username": "TheJokerJulian",
                  "Game_ID": 0,
                  "_deepnote_index_column": 13
                },
                {
                  "Userscore": 10,
                  "Comment": "El juego perfecto. Insuperable por lo que supuso. No habrá nunca una revolución igual. Lo mejor de la época y un espejo en el que miran los juegos de ahora. Seguirá en lo mas alto por siempre",
                  "Username": "velasco92",
                  "Game_ID": 0,
                  "_deepnote_index_column": 14
                },
                {
                  "Userscore": 10,
                  "Comment": " The best game of it's time, virtually as perfect as the N64 can take.",
                  "Username": "JordanI.",
                  "Game_ID": 0,
                  "_deepnote_index_column": 15
                },
                {
                  "Userscore": 10,
                  "Comment": " Amazing game in every aspect, i just want to point out, Lev, what do you mean it has a weak storyline. It has one of the best storylines of all time, the reason it seems generic is because its an old story, many, many stories copied off of this. Now thats not to say that zelda didn't take inspiration from other stories, but obviously made it their own. There has never been a story in Amazing game in every aspect, i just want to point out, Lev, what do you mean it has a weak storyline. It has one of the best storylines of all time, the reason it seems generic is because its an old story, many, many stories copied off of this. Now thats not to say that zelda didn't take inspiration from other stories, but obviously made it their own. There has never been a story in any other game that got me more involved then this one.",
                  "Username": "brentl",
                  "Game_ID": 0,
                  "_deepnote_index_column": 16
                },
                {
                  "Userscore": 10,
                  "Comment": "The best game EVER is so challenging and is for thing 100 hours,i love this cool game...............................................................sosososososososo good",
                  "Username": "Dankiller127",
                  "Game_ID": 0,
                  "_deepnote_index_column": 17
                },
                {
                  "Userscore": 10,
                  "Comment": "nice game i love game :D....................................................................................................................................................",
                  "Username": "leondaniel21",
                  "Game_ID": 0,
                  "_deepnote_index_column": 18
                },
                {
                  "Userscore": 10,
                  "Comment": "Hands down, the best game of all time. My favorite game on any list. Right from the first moment, your captured into the gameplay and you don't want to stop playing. the landscape is beautiful, the monsters are something you wouldnt expect, the dungeons are challenging yet fun, and the bosses are a landmark to beat. Once you beat the game the first time, you accually feel like you haveHands down, the best game of all time. My favorite game on any list. Right from the first moment, your captured into the gameplay and you don't want to stop playing. the landscape is beautiful, the monsters are something you wouldnt expect, the dungeons are challenging yet fun, and the bosses are a landmark to beat. Once you beat the game the first time, you accually feel like you have rescued a real princess and saved a real kingdom. The time playable land is massive and it will take some time to get everything, but the reward is well worth it. Hands down. Best. Game. Ever.",
                  "Username": "Winky-Nichols",
                  "Game_ID": 0,
                  "_deepnote_index_column": 19
                },
                {
                  "Userscore": 10,
                  "Comment": "One of (or the) best game ever made. Anyone who gives the masterpiece below a 7 or an 8 is either just here to hate on the astounding zelda franchise, doesn't know a DAMN good game or is insane. [2]",
                  "Username": "ChrnoTodd",
                  "Game_ID": 0,
                  "_deepnote_index_column": 20
                },
                {
                  "Userscore": 10,
                  "Comment": "People say it's overrated. I played it in 2006 after beating WindWaker, Minish Cap and Twilight Princess. This was not my first Zelda and yet I still put it above all others and somehow I've grown nostalgic over it in such a short amount of time. Music is amazing, world is so expansive for such an old game, characters and story is interesting and it keeps gameplay and exploration freshPeople say it's overrated. I played it in 2006 after beating WindWaker, Minish Cap and Twilight Princess. This was not my first Zelda and yet I still put it above all others and somehow I've grown nostalgic over it in such a short amount of time. Music is amazing, world is so expansive for such an old game, characters and story is interesting and it keeps gameplay and exploration fresh throughout. Best Zelda game IMO and worthy of more than a 10/10.",
                  "Username": "Kr1sP",
                  "Game_ID": 0,
                  "_deepnote_index_column": 21
                },
                {
                  "Userscore": 10,
                  "Comment": "I don`t know why but I have seen some people giving negative scores for this game. If they were wrong? YES, completely wrong! All I have to say is those people who gives low grades to this big of a game is either completely crazy, or is a hater, or do not know how to play the game and because of that gives it a low score. This game despite how old it is, still makes me fascinated with itsI don`t know why but I have seen some people giving negative scores for this game. If they were wrong? YES, completely wrong! All I have to say is those people who gives low grades to this big of a game is either completely crazy, or is a hater, or do not know how to play the game and because of that gives it a low score. This game despite how old it is, still makes me fascinated with its cinematic effects and graphics(by the way, graphics doesn`t matter, what matters is the fun). I did not accomplished the entire game a.k.a. side quests, but I accomplished the main storyline and that was REALLY worth of my time, I simply loved this game, it made me a fan of the Zelda games, I highly recommend that you play it, you surely won`t regret it, it's as the critics says a Masterpiece. And I have to say thanks to Shigeru Myamoto and Nintendo. Now if you excuse me, I have a new adventure to set on Zelda: Skyward Sword!",
                  "Username": "Plaster",
                  "Game_ID": 0,
                  "_deepnote_index_column": 22
                },
                {
                  "Userscore": 10,
                  "Comment": "Ignore all the butthurt Call of Duty fans who rated this low. They're just mad that their series isn't the highest rated on Metacritic and has been named \"Best Game of All Time\" by many.While the graphics and gameplay may not have aged 100% perfectly, this is truly a great game and I wholeheartedly recommend it for gamers of any age or preference. Don't let the stereotype of \"TheIgnore all the butthurt Call of Duty fans who rated this low. They're just mad that their series isn't the highest rated on Metacritic and has been named \"Best Game of All Time\" by many.While the graphics and gameplay may not have aged 100% perfectly, this is truly a great game and I wholeheartedly recommend it for gamers of any age or preference. Don't let the stereotype of \"The Legend of Zelda\" fool you. This series is truly the king of all video games.",
                  "Username": "Nirex8895",
                  "Game_ID": 0,
                  "_deepnote_index_column": 23
                },
                {
                  "Userscore": 10,
                  "Comment": "Easilly the greatest game ever made, when it was released, Nintendo took a huge risk, and it payed off, the enviorments still stand out to this very day, and the games music is some of the greatest in , the story is original, the characters are memorable, the controls are simple and fluent, it is a game flawless on all levels",
                  "Username": "Dude45",
                  "Game_ID": 0,
                  "_deepnote_index_column": 24
                },
                {
                  "Userscore": 10,
                  "Comment": "The highest scoring game on Metacritic and every other review site/magazine/etc, and it's no lie. The story, gameplay, pace and every other factor cohere in a way that makes OoT an amazing adventure that will never be forgotten. Screwed into the golden side of gaming history through unbreakable forces, The Legend of Zelda: Ocarina of Time is a masterpiece to be respected by gamers andThe highest scoring game on Metacritic and every other review site/magazine/etc, and it's no lie. The story, gameplay, pace and every other factor cohere in a way that makes OoT an amazing adventure that will never be forgotten. Screwed into the golden side of gaming history through unbreakable forces, The Legend of Zelda: Ocarina of Time is a masterpiece to be respected by gamers and non-gamers as art.",
                  "Username": "ja52ng74",
                  "Game_ID": 0,
                  "_deepnote_index_column": 25
                },
                {
                  "Userscore": 10,
                  "Comment": "This game is one of if not the Best game Ever made. Rather It Brings you nostalgia or not it is a Perfect masterpiece. And for all those 9 year old retard Call of duty Fans. Who by the way has never played a game other than First person Shooters. I say Shame on you. And if your one of those Graphics hating Retards. This game Had some of the Best Graphics of any game in 1998. And if yourThis game is one of if not the Best game Ever made. Rather It Brings you nostalgia or not it is a Perfect masterpiece. And for all those 9 year old retard Call of duty Fans. Who by the way has never played a game other than First person Shooters. I say Shame on you. And if your one of those Graphics hating Retards. This game Had some of the Best Graphics of any game in 1998. And if your Still irritated by the Graphics Buy the one for the 3ds it's graphics are Better. Point is The Games a outstanding.",
                  "Username": "Ross1021670",
                  "Game_ID": 0,
                  "_deepnote_index_column": 26
                },
                {
                  "Userscore": 10,
                  "Comment": "Easily the BEST game i have ever played! From the beautiful world of hyrule, to the lovable characters, to the fun, and brutal dungeons, this game achieves everything with perfection. There is literally nothing bad i can say about this game. It is video games biggest achievement, has been the highest rated game since release, and anyone who disagrees is a hater, never played, or justEasily the BEST game i have ever played! From the beautiful world of hyrule, to the lovable characters, to the fun, and brutal dungeons, this game achieves everything with perfection. There is literally nothing bad i can say about this game. It is video games biggest achievement, has been the highest rated game since release, and anyone who disagrees is a hater, never played, or just crazy. Just know that OOT will always be better than your favorite game. :)",
                  "Username": "ClassicGamer89",
                  "Game_ID": 0,
                  "_deepnote_index_column": 27
                },
                {
                  "Userscore": 10,
                  "Comment": "Ocarina of Time is the best game ever made; I need not give the full title of this game let alone explain the ranking. Words cannot describe this game. It was the first 3D Zelda game, and it's one of the most epic games of all time. This game is old, but it never gets old. It's stood the test of time, and after 12 years this game is still the best. I have never heard anyone saying anythingOcarina of Time is the best game ever made; I need not give the full title of this game let alone explain the ranking. Words cannot describe this game. It was the first 3D Zelda game, and it's one of the most epic games of all time. This game is old, but it never gets old. It's stood the test of time, and after 12 years this game is still the best. I have never heard anyone saying anything remotely negative about this game, so I know that this is the correct ranking. This is THE golden standard of video games. This game is the reason I will never sell my Nintendo 64. Critic score is a 99? Anything less than a 100 is a sham. It's very true that there's no such thing as a perfect game, but everything in the world is completely arbitrary without an accepted standard. This game is the standard because it's the highest rated game of all time (Guinness World Records officially named it such). You have no choice but to compare this game to every other game. it is perfect in every way. It never gets boring and everything about it is just...perfect.",
                  "Username": "Wpnfire",
                  "Game_ID": 0,
                  "_deepnote_index_column": 28
                },
                {
                  "Userscore": 10,
                  "Comment": " This game is the definition of GREATNESS. This is the 2nd best game ever. Story is awesome, the graphics for the 90s makes you feel in the game. The Gameplay is... do i have to say it? really? This game deserves a 99999999 out of 10, but since i can't do that, it gets a 10.",
                  "Username": "Shane95",
                  "Game_ID": 0,
                  "_deepnote_index_column": 29
                },
                {
                  "Userscore": 10,
                  "Comment": " This game is one of the best games ever created. It just disappoints me that so many people who play games on the Xbox360 or PS3 find this game as crap because of the graphics. They don't realize that this game came out in 1998.",
                  "Username": "WinterC",
                  "Game_ID": 0,
                  "_deepnote_index_column": 30
                },
                {
                  "Userscore": 10,
                  "Comment": "Â¿El mejor videojuego de la historia? Eso es imposible para cualquier videojuego pero... Â¿El considerado mejor videojuego de la historia? Si, y se lo ha ganado a pulso. Un clasico atemporal que no puede faltar en tu coleccion junto a otros juegos de su quinta como Meta Gear Solid, FFVII, Super Mario 64, etc...",
                  "Username": "battousai_hades",
                  "Game_ID": 0,
                  "_deepnote_index_column": 31
                },
                {
                  "Userscore": 10,
                  "Comment": "Just play it, if you don't think it's the greatest game ever (considering it's time) then sell all of your consoles, give away all of your games, and never play a video game again, you are not worthy!",
                  "Username": "LemonlyFresh",
                  "Game_ID": 0,
                  "_deepnote_index_column": 32
                },
                {
                  "Userscore": 10,
                  "Comment": "The Legend of Zelda: Ocarina of Time is not only the best game on the N64 in 1998, but one the greatest action adventure games of all times. Does it hold up today? In my personal opinion, it holds up pretty well and was pretty close to perfection. The visuals may look outdated today, but you cannot deny yourself that the atmosphere in the destinations within Hyrule are mesmerizing toThe Legend of Zelda: Ocarina of Time is not only the best game on the N64 in 1998, but one the greatest action adventure games of all times. Does it hold up today? In my personal opinion, it holds up pretty well and was pretty close to perfection. The visuals may look outdated today, but you cannot deny yourself that the atmosphere in the destinations within Hyrule are mesmerizing to explore in this game. The locations, the character designs, the temples, the story and the soundtrack (especially the soundtrack) are absolutely memorable through out this game and this game practically made me became a Zelda fan in the first place. I could see why there are some people whether they are Zelda fans or not that they are too fond with this Zelda title. It's a bit identical to A Link to the Past on the SNES, but with 3D rendered visuals and there is a lack of personality within many characters compared to the later Zelda games where character personalities has improved in. However, for Nintendo to produce an engaging story for their first 3D Zelda game, it became forgivable for its time. This maybe a really overrated Zelda game, but there's a reason why people prefer Legend of Zelda: Ocarina of Time as an instant classic.",
                  "Username": "TipsyMcBee",
                  "Game_ID": 0,
                  "_deepnote_index_column": 33
                },
                {
                  "Userscore": 10,
                  "Comment": "No more needs to be said about this game. The best game ever? I'm not sure but if any game has to have that title then I don't mind it being this one. Games don't come much better than this.",
                  "Username": "ImUnavailable",
                  "Game_ID": 0,
                  "_deepnote_index_column": 34
                },
                {
                  "Userscore": 10,
                  "Comment": "This is the single best no not only game but entertainment package. Ever. In my opinion and in many others. For many many many reasons. This game invented targeting systems which has been used my many many many games since. I think it has the best and easiest to grasp and relate too stories in a game ever. Its so simple yet if you want to get into it enough you will notice that nintendoThis is the single best no not only game but entertainment package. Ever. In my opinion and in many others. For many many many reasons. This game invented targeting systems which has been used my many many many games since. I think it has the best and easiest to grasp and relate too stories in a game ever. Its so simple yet if you want to get into it enough you will notice that nintendo has given you so much depth to read about and explore in the game. IT IS AN EPIC MY FRIENDS.",
                  "Username": "takepantsoff",
                  "Game_ID": 0,
                  "_deepnote_index_column": 35
                },
                {
                  "Userscore": 10,
                  "Comment": "What can I say that hasn't been said?Nothing.It's almost if not completely perfect! Gameplay is pure,Zelda awesomeness.Oh yeah and if you said it was boring,it's because you suck at it and you only like fps games where all you do is run in and go,\"I'M RAMBO!!!!BAMBLAMCHIGGABOOM!\". These people are what I call \"fraggots\" fps nerds who hate anything without guns and judge everything byWhat can I say that hasn't been said?Nothing.It's almost if not completely perfect! Gameplay is pure,Zelda awesomeness.Oh yeah and if you said it was boring,it's because you suck at it and you only like fps games where all you do is run in and go,\"I'M RAMBO!!!!BAMBLAMCHIGGABOOM!\". These people are what I call \"fraggots\" fps nerds who hate anything without guns and judge everything by graphics.Hence the word \"frag\" coming from \"frag grenade\",often used in fps games.Though Nintendo geeks can get annoying,too.But,I've gotten sidetracked.The controls,story,graphics (for it's time),gameplay,characters, and overall nostalgia are amazing.A 10 out of 10.An almost (if not completely) perfect game!",
                  "Username": "pixleking",
                  "Game_ID": 0,
                  "_deepnote_index_column": 36
                },
                {
                  "Userscore": 10,
                  "Comment": "The game that is considered by many the greatest of all time. I am just thankful to have witnessed this epic adventure back then and i´ll never forget the experience that i have made with OoT.",
                  "Username": "Caestus",
                  "Game_ID": 0,
                  "_deepnote_index_column": 37
                },
                {
                  "Userscore": 10,
                  "Comment": "If you watch the negative scores... it's only haters and people who never played the game... some even say Bad graphics... it was 1998 ffs and some say no story... lol, just lol, play the game before doing the review.I love this game for the simple fact that it makes you get in front of your tv and makes you want not to stop playing it. It's so good. my favourite game ever",
                  "Username": "Ken-chan",
                  "Game_ID": 0,
                  "_deepnote_index_column": 38
                },
                {
                  "Userscore": 10,
                  "Comment": "The Legend of Zelda: Ocarina of Time was one of the first games in which i picked up for the Nintendo 64 and continue to have it to this day, is an essential to the collection as it is, simply put, a masterpiece and really the centerpiece of excellence in the gaming industry at the time, Zelda really started my love for the Action-Adventure genre as it immersed the user in a world ofThe Legend of Zelda: Ocarina of Time was one of the first games in which i picked up for the Nintendo 64 and continue to have it to this day, is an essential to the collection as it is, simply put, a masterpiece and really the centerpiece of excellence in the gaming industry at the time, Zelda really started my love for the Action-Adventure genre as it immersed the user in a world of fantasy, the one thing i truly love and appreciate about this game was the soundtrack and sound effects, for example there was nothing more satisfying than collecting jems and breaking jars, as well as fighting scenes when music picked up a notch. This game was one of the first games in which i actually experienced the use of music to submerge the user into the fantasy world. Really just a beautiful story and really truely a masterpiece at the time.",
                  "Username": "Distrex",
                  "Game_ID": 0,
                  "_deepnote_index_column": 39
                },
                {
                  "Userscore": 10,
                  "Comment": "С чего бы начать... Это лучшая игра на свете, она волшебна. Саундтрек великолепен. Геймплей шикарен. Сюжет простой  но очаровательный 12/10",
                  "Username": "Akauro",
                  "Game_ID": 0,
                  "_deepnote_index_column": 40
                },
                {
                  "Userscore": 10,
                  "Comment": "I played it when I was a kid... good times... but in so much time, there's only one game that can fight with it for the place of the best gamer ever... and it's Zelda Breath of the Wild ;DThis is one of the BEST **** GAMES EVER!",
                  "Username": "Unmoth",
                  "Game_ID": 0,
                  "_deepnote_index_column": 41
                },
                {
                  "Userscore": 10,
                  "Comment": "Quien no le de un 10 a este juego es un niño rataocarina of time es el mejor juego de la historia.................................................................................",
                  "Username": "Ps4esmierda",
                  "Game_ID": 0,
                  "_deepnote_index_column": 42
                },
                {
                  "Userscore": 10,
                  "Comment": " Cat F., if they changed the plot and characters and towns and such... well, look at what crap Majora's Mask was. I can't argue with you on your level of entertainment. That's YOUR opionion. I can't change it. But I think OoT is a true Zelda game.",
                  "Username": "Y.Y.",
                  "Game_ID": 0,
                  "_deepnote_index_column": 43
                },
                {
                  "Userscore": 10,
                  "Comment": " The most addictive game I ever played! Can't wait to get my hands on Majora's Mask.",
                  "Username": "LinaL.",
                  "Game_ID": 0,
                  "_deepnote_index_column": 44
                },
                {
                  "Userscore": 10,
                  "Comment": " As far as I'm concerned this is one of the best, if not thee best games ever made. Even when i defeated the game i just erased my file and started over. Its so big that you can do just that and still have fun.",
                  "Username": "BurtQ.",
                  "Game_ID": 0,
                  "_deepnote_index_column": 45
                },
                {
                  "Userscore": 10,
                  "Comment": " Certainly the best 1 player game of all time. It mixes fantasy, role playing, and action into a game that has a premise of a young boy with serious overtones. Themes include maturing quickly, accepting who one is, and the eternal questions of the effects of time travel (I mean, come on, the whole thing with the Shadow Temple is mind-bending). Very few games can boast a premise this rich, Certainly the best 1 player game of all time. It mixes fantasy, role playing, and action into a game that has a premise of a young boy with serious overtones. Themes include maturing quickly, accepting who one is, and the eternal questions of the effects of time travel (I mean, come on, the whole thing with the Shadow Temple is mind-bending). Very few games can boast a premise this rich, smart, and well-thought out. Anyone who has problems with this game simply doesn't know what the word 'superb' means.",
                  "Username": "JoeB.",
                  "Game_ID": 0,
                  "_deepnote_index_column": 46
                },
                {
                  "Userscore": 10,
                  "Comment": " Excellent game......just flawless, great story line, great gameplay, perfect interactivity, really sucks you into a world with no limitations",
                  "Username": "MitchellE.",
                  "Game_ID": 0,
                  "_deepnote_index_column": 47
                },
                {
                  "Userscore": 10,
                  "Comment": " This is the single greatest game of all time. The first time I played this game I did it purely out of curiosity. I had never played a Zelda game in my life. Within the first 20 minutes of playing this game I knew that I had not played a more enjoyable and engrossing game before in my entire life. This game (along with Super Mario 64, Banjo Kazooie, Goldeneye, Mario Kart 64 and Diddy Kong This is the single greatest game of all time. The first time I played this game I did it purely out of curiosity. I had never played a Zelda game in my life. Within the first 20 minutes of playing this game I knew that I had not played a more enjoyable and engrossing game before in my entire life. This game (along with Super Mario 64, Banjo Kazooie, Goldeneye, Mario Kart 64 and Diddy Kong Racing) truly made the N64 the greatest gaming console in existence.",
                  "Username": "ThomasR.",
                  "Game_ID": 0,
                  "_deepnote_index_column": 48
                },
                {
                  "Userscore": 10,
                  "Comment": " Once in a while, you get those games that everybody talks about, and you fall into the lure of your peers, so you buy it. Zelda 64 is one of the games you buy yourself. This is the best game to ever be released on any platform. And no, don't tell me GTA is better than this because no, it just isn't. So go out and buy an N64 if you haven't already(if you can find them) and Once in a while, you get those games that everybody talks about, and you fall into the lure of your peers, so you buy it. Zelda 64 is one of the games you buy yourself. This is the best game to ever be released on any platform. And no, don't tell me GTA is better than this because no, it just isn't. So go out and buy an N64 if you haven't already(if you can find them) and get this game. Lock yourself into a room and play it 'till you can say wow for the fifth hundredth time. Or until you finish the game.",
                  "Username": "Zach",
                  "Game_ID": 0,
                  "_deepnote_index_column": 49
                },
                {
                  "Userscore": 10,
                  "Comment": " This is the best game ever. You can either complete the temples or play every once in a while in all the other side missions and mini games. It is incredible.",
                  "Username": "QuiqueC.",
                  "Game_ID": 0,
                  "_deepnote_index_column": 50
                },
                {
                  "Userscore": 10,
                  "Comment": " Quite simply, the best video game I've ever played. Everything, the game play, story, graphics... is perfect.",
                  "Username": "JakeM.",
                  "Game_ID": 0,
                  "_deepnote_index_column": 51
                },
                {
                  "Userscore": 10,
                  "Comment": " Truly, not a single Adventure/RPG can compare to this game. It may look dated now but graphics do not add or subtract anything from gameplay. Possibly the best game of the last century. If you hate this game, you hate gaming.",
                  "Username": "ShaneK.",
                  "Game_ID": 0,
                  "_deepnote_index_column": 52
                },
                {
                  "Userscore": 10,
                  "Comment": " The best game ever made, is perfect in any aspect of the game, music, graphics , story , the way that you target an enemy , this should be taken in consideration in games like GTA, where this is a huge flaw. The history of the game is amazing everything in the game is amazing. For younger people that maybe didn",
                  "Username": "CarlosS.",
                  "Game_ID": 0,
                  "_deepnote_index_column": 53
                },
                {
                  "Userscore": 10,
                  "Comment": "An amazing game for the N64. I am having trouble understanding all of the negative reviews. But (if they could think straight) the authors of the negatives would see that know one gives a crap about their reviews and 1 in 50 agree with them. I first played this game at my friends house and played it a little too long (judging by my bloodshot eyes and red face). After that, I purchased theAn amazing game for the N64. I am having trouble understanding all of the negative reviews. But (if they could think straight) the authors of the negatives would see that know one gives a crap about their reviews and 1 in 50 agree with them. I first played this game at my friends house and played it a little too long (judging by my bloodshot eyes and red face). After that, I purchased the GameCube remake and had just as much fun.",
                  "Username": "nintendoid13",
                  "Game_ID": 0,
                  "_deepnote_index_column": 54
                },
                {
                  "Userscore": 10,
                  "Comment": "It's simply a win. There is nothing else to it. Read whaT EVERYBODY ELSE SAID! They have covered it all. But if you don't get this game, i'll find you.",
                  "Username": "nonnikchief",
                  "Game_ID": 0,
                  "_deepnote_index_column": 55
                },
                {
                  "Userscore": 10,
                  "Comment": "I played this game 13 years after its release and I can say that it definitely deserves a perfect score. Everthing comes together so well the game is very long, has an awesome world with a variety of settings, great puzzles, has a very epic story and ending and one thing that stood out for me is that the game is very rewarding, if one takes ones time exploring, collecting and doing sideI played this game 13 years after its release and I can say that it definitely deserves a perfect score. Everthing comes together so well the game is very long, has an awesome world with a variety of settings, great puzzles, has a very epic story and ending and one thing that stood out for me is that the game is very rewarding, if one takes ones time exploring, collecting and doing side missions one will get stronger and acquire things that simply make the game easier and by the end fight you will actually feel powerful after those many hours spent preparing.One of the best games i have ever played.10/10.",
                  "Username": "Spartan111",
                  "Game_ID": 0,
                  "_deepnote_index_column": 56
                },
                {
                  "Userscore": 10,
                  "Comment": "The Legend of Zelda: Ocarina of Time is definitely the greatest game of all time, even to this day, no one has told a story as well as Nintendo has, and defined gameplay in a way that still stands above everything else all these years",
                  "Username": "Machofella",
                  "Game_ID": 0,
                  "_deepnote_index_column": 57
                },
                {
                  "Userscore": 10,
                  "Comment": "If I had to choose one game to play in my lifetime, this is it, no contest.This is a landmark in not just gaming, but art as a whole, and deserves recognition as such.",
                  "Username": "dismuter",
                  "Game_ID": 0,
                  "_deepnote_index_column": 58
                },
                {
                  "Userscore": 10,
                  "Comment": "One of the greatest of all time, nearly perfect in every way: graphics, sound, story and gameplay. It still retains its value years later with every replay.",
                  "Username": "pags2011",
                  "Game_ID": 0,
                  "_deepnote_index_column": 59
                },
                {
                  "Userscore": 10,
                  "Comment": "aahhh my child hood, brings back memories. this game may not be impressive in terms of today but back then it was a masterpiece and took gaming to whole other level",
                  "Username": "stopoverrating",
                  "Game_ID": 0,
                  "_deepnote_index_column": 60
                },
                {
                  "Userscore": 10,
                  "Comment": "the best game of zelda¡¡¡¡¡¡¡¡¡¡¡¡¡¡¡¡¡¡¡¡¡¡¡¡¡¡¡¡¡¡¡¡¡¡¡¡¡¡¡¡¡¡¡¡¡¡¡¡¡¡¡¡¡¡¡¡¡¡¡¡¡¡¡¡¡¡¡¡¡¡¡¡¡¡¡¡¡¡¡¡¡¡¡¡",
                  "Username": "agentesupremo",
                  "Game_ID": 0,
                  "_deepnote_index_column": 61
                },
                {
                  "Userscore": 10,
                  "Comment": "This game is the best rated game of all time: its metascore is 99, and if that's not enough to convince you that this game is amazing, you must really hate video games.",
                  "Username": "Linkfan",
                  "Game_ID": 0,
                  "_deepnote_index_column": 62
                },
                {
                  "Userscore": 10,
                  "Comment": " #1 Zelda game EVER!Buy it NOW!The game is PERFECT!!!!",
                  "Username": "BrennanL.",
                  "Game_ID": 0,
                  "_deepnote_index_column": 63
                },
                {
                  "Userscore": 10,
                  "Comment": " Well Shlim N. and Bob....I think you need to take my special therapy treatment. First, read \"The Hobbit\" and \"Lord of the Rings\". Then, watch the movie version of \"Lord of the Rings\" and then watch Miyazaki's \"Princess Mononoke\" and \"Spirited Away\". After that, read 13 books on mythology, study about the Medieval Times (NOT just Europe. Read about other countries too!) then play this Well Shlim N. and Bob....I think you need to take my special therapy treatment. First, read \"The Hobbit\" and \"Lord of the Rings\". Then, watch the movie version of \"Lord of the Rings\" and then watch Miyazaki's \"Princess Mononoke\" and \"Spirited Away\". After that, read 13 books on mythology, study about the Medieval Times (NOT just Europe. Read about other countries too!) then play this game and maybe you'll regret your nasty comments about this video game masterpiece. This is easily the most entertaining game of all time. I mean, it entertained my 7-year-old cousin along with her 5-year-old friends and they're impossible to entertain!",
                  "Username": "LacyM.",
                  "Game_ID": 0,
                  "_deepnote_index_column": 64
                },
                {
                  "Userscore": 10,
                  "Comment": " This game rules! Even though I couldn't finish it because I had a faulty one, I still really enjoyed it, it also has a great storyline to go with it.",
                  "Username": "Jackie",
                  "Game_ID": 0,
                  "_deepnote_index_column": 65
                },
                {
                  "Userscore": 10,
                  "Comment": " Without a doubt, this is the greatest game ever created.",
                  "Username": "JohnM.",
                  "Game_ID": 0,
                  "_deepnote_index_column": 66
                },
                {
                  "Userscore": 10,
                  "Comment": " I lack words for this game. Every single aspect of this masterwork screams of utter perfection and grace. Believe it or not, but this game is exactly as vital to your N64 as the heart and lungs are to your body.",
                  "Username": "JohnO.",
                  "Game_ID": 0,
                  "_deepnote_index_column": 67
                },
                {
                  "Userscore": 10,
                  "Comment": " I like this game too. VERY much. but i also think that crash bandicoot is VERY good. I think that the people who dont like zelda are probably younger and cant really comprehend zelda. but not all are that way.",
                  "Username": "JigganisZig",
                  "Game_ID": 0,
                  "_deepnote_index_column": 68
                },
                {
                  "Userscore": 10,
                  "Comment": " The BEST game ever, I just kept on playing!!!",
                  "Username": "RobetC.",
                  "Game_ID": 0,
                  "_deepnote_index_column": 69
                },
                {
                  "Userscore": 10,
                  "Comment": " Nothing else comes close to being as good as Ocarina of Time. This is and will always be the best game of all time. Sorry Mario.",
                  "Username": "Cory",
                  "Game_ID": 0,
                  "_deepnote_index_column": 70
                },
                {
                  "Userscore": 10,
                  "Comment": " The best game ever!!!!!! Those who don't like it can kiss my a**.",
                  "Username": "CasssandraB.",
                  "Game_ID": 0,
                  "_deepnote_index_column": 71
                },
                {
                  "Userscore": 10,
                  "Comment": " The Legend of Zelda series is the best series ever.",
                  "Username": "SeanE.",
                  "Game_ID": 0,
                  "_deepnote_index_column": 72
                },
                {
                  "Userscore": 10,
                  "Comment": "Nothing will ever touch this game's greatness. no matter how great the graphic get, no matter what happens in the future, this game will still destroy them all. best game....ever.",
                  "Username": "SamD.",
                  "Game_ID": 0,
                  "_deepnote_index_column": 73
                },
                {
                  "Userscore": 10,
                  "Comment": " There is absolutely nothing one can say to describe this game except perfect. Just perfect. Find me a game that changed the world more, and I'll GIVE you my copy (not gonna happen)",
                  "Username": "JasonM.",
                  "Game_ID": 0,
                  "_deepnote_index_column": 74
                },
                {
                  "Userscore": 10,
                  "Comment": " Blows everything right out of the water. I actually miss this game when I'm not playing it.......I wish some games would be as revolutionary as this one. The use of the Elements as temples adds to the great wonder of this game.",
                  "Username": "KyleN.",
                  "Game_ID": 0,
                  "_deepnote_index_column": 75
                },
                {
                  "Userscore": 10,
                  "Comment": " This is my favourite game of all time, I have the N64 and GameCube Master Quest versions. This game can never be beaten. We are up to the second generation of games now and I still can't find a better game. Perfect!",
                  "Username": "TylerA.",
                  "Game_ID": 0,
                  "_deepnote_index_column": 76
                },
                {
                  "Userscore": 10,
                  "Comment": " Greatest game ever. A completely immersive world, great story, charming people to meet. When I beat it for the first tiem, I was genuinely sad that I would never see any of these people again. Of course I got to see them again on my second, third, fourth, and fifth times through, but you know what I mean. Oh yes, I am still finding new secrets and areas, seven years and about about 100 Greatest game ever. A completely immersive world, great story, charming people to meet. When I beat it for the first tiem, I was genuinely sad that I would never see any of these people again. Of course I got to see them again on my second, third, fourth, and fifth times through, but you know what I mean. Oh yes, I am still finding new secrets and areas, seven years and about about 100 hours later.",
                  "Username": "JonnyW.",
                  "Game_ID": 0,
                  "_deepnote_index_column": 77
                },
                {
                  "Userscore": 10,
                  "Comment": " THE single game I could honestly say I think deserves the title best game ever. And no, I am not part of the hype, when I first played this I was pretty much isolated from any gamer culture, having no internet, no magazines and no proliferous gamer culture in my immediate area. This game is gaming taken to an art form.",
                  "Username": "MattD.",
                  "Game_ID": 0,
                  "_deepnote_index_column": 78
                },
                {
                  "Userscore": 10,
                  "Comment": " Best game ever, it made me feel as if I was actually in hyrule, something that not that many games make me feel. Quirky memorable characters, an amazing plot, a difficulty level honed to perfection, this is my only perfect 10.",
                  "Username": "OlduvaiJ.",
                  "Game_ID": 0,
                  "_deepnote_index_column": 79
                },
                {
                  "Userscore": 10,
                  "Comment": " This is one of the best games of all time. The gameplay is great, the stroyline is fun and entertaining, and an impresivly long game for the N64. The single \"dissappointing\" thing about this game is that the graphics arent too great, but considering its for the N64, they are not bad at all.",
                  "Username": "BogdanN.",
                  "Game_ID": 0,
                  "_deepnote_index_column": 80
                },
                {
                  "Userscore": 10,
                  "Comment": " One of the few things that manage to live up to to, and even outdo, the massive hype surrounding it. Easily the best game I have ever played.",
                  "Username": "Dan",
                  "Game_ID": 0,
                  "_deepnote_index_column": 81
                },
                {
                  "Userscore": 10,
                  "Comment": " I've never been so impacted by a video game before. When it came out, I must've beat it 4 or 5 times, looking for every secret. Now, as I watch my sister play it for the first time, almost 10 years later, the game still looks beautiful and the game play still holds up. Absolute nostalgia watching link travel through time again. Deserves to be the Best video game of all time.",
                  "Username": "BillH.",
                  "Game_ID": 0,
                  "_deepnote_index_column": 82
                },
                {
                  "Userscore": 10,
                  "Comment": " When the n64 released Zelda oot was one of its most anticipated games ever. It was so anticipated because the game play and the visuals looked absolutely amazing for its time. Still to this day Zelda oot is in my opinion better than Zelda tp.",
                  "Username": "Mr.EnigmaticDude",
                  "Game_ID": 0,
                  "_deepnote_index_column": 83
                },
                {
                  "Userscore": 10,
                  "Comment": " This is an incredible gaming expierence. Never have i played a game so excellent so perfect, and i might never play a game of this hype and calibure ever again. I thank God every day that this game was invented. Without this game the games today might not exsist. The controls, Story, Characters, and looks in this game are amazing. You can play this game over and over and you wont get This is an incredible gaming expierence. Never have i played a game so excellent so perfect, and i might never play a game of this hype and calibure ever again. I thank God every day that this game was invented. Without this game the games today might not exsist. The controls, Story, Characters, and looks in this game are amazing. You can play this game over and over and you wont get bored. If you have not played this game. GO OUT AND PLAY IT!! borrow it, download with your Wii jus play it. The most amazing gaming experience of your life might be waiting.",
                  "Username": "MichaelB.",
                  "Game_ID": 0,
                  "_deepnote_index_column": 84
                },
                {
                  "Userscore": 10,
                  "Comment": " By far the best game you'll ever play. Hands down.",
                  "Username": "JosephN.",
                  "Game_ID": 0,
                  "_deepnote_index_column": 85
                },
                {
                  "Userscore": 10,
                  "Comment": " This game is truly magical, the atmosphere, the story, the land, the hero, the princess, the puzzles... everything makes it a masterpiece. The best game ever. You can't say you're a videogame fan if you haven't played it.",
                  "Username": "JavierS.",
                  "Game_ID": 0,
                  "_deepnote_index_column": 86
                },
                {
                  "Userscore": 10,
                  "Comment": " The Greatest Game Ever TM. Nothing can compare to the depth, enjoyment, replay value, superb score etc etc. So ridiculously good it should be illegal and I still play it to this day. OOT=Much, much win.",
                  "Username": "Fraser",
                  "Game_ID": 0,
                  "_deepnote_index_column": 87
                },
                {
                  "Userscore": 10,
                  "Comment": " Progress? There has been relatively none since this game, as it is most probably the best one ever. The combination of a vast and realistic world to explore and the amount of things to do in it, along with the challenging dungeons is what does it. You really feel like you are there and the sunny fantasy world is one you want to explore. It never tries to be like another game- but many do Progress? There has been relatively none since this game, as it is most probably the best one ever. The combination of a vast and realistic world to explore and the amount of things to do in it, along with the challenging dungeons is what does it. You really feel like you are there and the sunny fantasy world is one you want to explore. It never tries to be like another game- but many do (or should) try to make something more like this greatness. It can be childish- but that is part of the fun.",
                  "Username": "Starfire",
                  "Game_ID": 0,
                  "_deepnote_index_column": 88
                },
                {
                  "Userscore": 10,
                  "Comment": " Legend of Zelda OoT is the single greatest single player video gaming experience for the nintendo 64. Anyone who says it is boring is obviously not a serious gamer. The graphics were amazing for the 64, the music score was amazing. the story was riveting. The gameplay was fun although some of the puzzles were a bit repetitive and boring the rest of the game was extremely fun.",
                  "Username": "1mmortal1ty",
                  "Game_ID": 0,
                  "_deepnote_index_column": 89
                },
                {
                  "Userscore": 10,
                  "Comment": " This game deserves to be eternally recognized and honored for how amazingly fun and addictive it was and still is. No wonder they had to wait 2 years to release it on the good old 64, Nintendo was trying to figure out how to make cartridges out of crack.",
                  "Username": "DonaldB.",
                  "Game_ID": 0,
                  "_deepnote_index_column": 90
                },
                {
                  "Userscore": 10,
                  "Comment": " I am playing OoT even nearly ten years after it released. Graphics don't matter (ten years ago it was the best graphic I've ever seen). But today the atmosphere is the same and I love playing this game through the tenth time (one time each year^^). It is really the best game of all times, no game is better today. Every gamer should have played it (If not your not a gamer!). A I am playing OoT even nearly ten years after it released. Graphics don't matter (ten years ago it was the best graphic I've ever seen). But today the atmosphere is the same and I love playing this game through the tenth time (one time each year^^). It is really the best game of all times, no game is better today. Every gamer should have played it (If not your not a gamer!). A terrific game, a perfect game. P.S. Those ones who gave 0 points are stupid anti-Nintendo bashers.",
                  "Username": "PhillipM.",
                  "Game_ID": 0,
                  "_deepnote_index_column": 91
                },
                {
                  "Userscore": 10,
                  "Comment": " This is the first Zelda game I ever played when I first played it I fell in love with it. Even after ten years I still consider it the best game of all time. I remmber how intimidated I was when I first fought Ganon I thought'Theres no way I can beat that!'.I truly did not want this game to end. It revolutionized gaming and without it gaming would'nt be like it is now.The This is the first Zelda game I ever played when I first played it I fell in love with it. Even after ten years I still consider it the best game of all time. I remmber how intimidated I was when I first fought Ganon I thought'Theres no way I can beat that!'.I truly did not want this game to end. It revolutionized gaming and without it gaming would'nt be like it is now.The Legend Of Zelda Ocarina Of Time is truly a master piece.",
                  "Username": "JasonK.",
                  "Game_ID": 0,
                  "_deepnote_index_column": 92
                },
                {
                  "Userscore": 10,
                  "Comment": " If I could give this game a 12, that wouldn't be high enough. One of the very first games I played on an actual console, this game is the epitome of creative design, story, and overall gameplay excellence. I continue to play this after all these years and I don't plan on getting rid of it anytime soon. Anyone who has any kind of remote interest in games should buy this and play If I could give this game a 12, that wouldn't be high enough. One of the very first games I played on an actual console, this game is the epitome of creative design, story, and overall gameplay excellence. I continue to play this after all these years and I don't plan on getting rid of it anytime soon. Anyone who has any kind of remote interest in games should buy this and play it, it is the cornerstone of Action/RPG gaming and deserves nothing more than to be the highest rated game on Metacritic still today.",
                  "Username": "JohnE.",
                  "Game_ID": 0,
                  "_deepnote_index_column": 93
                },
                {
                  "Userscore": 10,
                  "Comment": " Though Half-Life 2 came near to making me question what the best game I've ever played was, Legend of Zelda: OoT is quite definitely still on top. This was the very first game I'd ever played when I was growing, yet I remember every moment of playing it, even ten years later. This game took me with two hands, gently nudged me into the world of video games, and immediately made Though Half-Life 2 came near to making me question what the best game I've ever played was, Legend of Zelda: OoT is quite definitely still on top. This was the very first game I'd ever played when I was growing, yet I remember every moment of playing it, even ten years later. This game took me with two hands, gently nudged me into the world of video games, and immediately made me a believer. I would, without any hesitation at all, recommend this game to anyone, even if they're not a gamer.",
                  "Username": "ErikG",
                  "Game_ID": 0,
                  "_deepnote_index_column": 94
                },
                {
                  "Userscore": 10,
                  "Comment": " THE GREATEST GAME TO EVER GRACE HUMANITY. This is FLAWLESS, MASTERFUL, EPIC, MAJESTIC and LEGENDARY.Make absolutely no mistake about it, this masterpiece will go down in history as the best game ever made and will under no circumstances be surpassed. The mere mention of it's title invites wonderful memories that no amount of Halo's, Half Life's or GTA's will ever bring THE GREATEST GAME TO EVER GRACE HUMANITY. This is FLAWLESS, MASTERFUL, EPIC, MAJESTIC and LEGENDARY.Make absolutely no mistake about it, this masterpiece will go down in history as the best game ever made and will under no circumstances be surpassed. The mere mention of it's title invites wonderful memories that no amount of Halo's, Half Life's or GTA's will ever bring back.If you have not played this magical adventure you have surely missed out on gaming's finest hour. The 1 and only 100% game.",
                  "Username": "PaulM.",
                  "Game_ID": 0,
                  "_deepnote_index_column": 95
                },
                {
                  "Userscore": 10,
                  "Comment": " This is the bast game I have played yet. I was surprised to see that it only got a 9.2 on the user votes, but I see why. A ton of people think that this game is a 10, but others try to mess up the score by putting a 0. Even if you did not like this game at all, you have to admit that it is better than the majority of other games. A zero is way too harsh. The worst game of all time on this This is the bast game I have played yet. I was surprised to see that it only got a 9.2 on the user votes, but I see why. A ton of people think that this game is a 10, but others try to mess up the score by putting a 0. Even if you did not like this game at all, you have to admit that it is better than the majority of other games. A zero is way too harsh. The worst game of all time on this site only got a 3.1 rating by users. So loosen up!",
                  "Username": "DanielP",
                  "Game_ID": 0,
                  "_deepnote_index_column": 96
                },
                {
                  "Userscore": 10,
                  "Comment": " One of the only reasons somebody can have a complaint is because they simply weren't there when this came out, experiencing it for the first time, when it was at it's prime. For somebody it playing now it seems outdated and unplayable, just like any other early 3D game from that time. I've played through great games such as Halo, Meroid Prime, and Resident Evil 4 and have One of the only reasons somebody can have a complaint is because they simply weren't there when this came out, experiencing it for the first time, when it was at it's prime. For somebody it playing now it seems outdated and unplayable, just like any other early 3D game from that time. I've played through great games such as Halo, Meroid Prime, and Resident Evil 4 and have still afterwards been able to be drawn back to Hyrule and recreate the same memories from when I was younger. It's games like that this that are hard to come by now, theres still near perfect games today, but not as many that people of all ages, and all preferences, can enjoy as well as this game. I'm not going to say it's flawless. But for it's time, and even for today, it's one of the best damn games ever created. No question.",
                  "Username": "TomP.",
                  "Game_ID": 0,
                  "_deepnote_index_column": 97
                },
                {
                  "Userscore": 10,
                  "Comment": " This is the best game ever made. The graphics were amazing for that time, the music was amazing and went well with the dungeons or situations you constantly face. Also the gameplay is so smooth, Link does exactly what you want him to do all the time. Seriously he stops perfectly when you let go of the joystick. Amazing game. Also the story is very ammirsing. It creates a world with This is the best game ever made. The graphics were amazing for that time, the music was amazing and went well with the dungeons or situations you constantly face. Also the gameplay is so smooth, Link does exactly what you want him to do all the time. Seriously he stops perfectly when you let go of the joystick. Amazing game. Also the story is very ammirsing. It creates a world with creatures and there habitats and stuff like that. I would give it 100/10 but that is impossible.",
                  "Username": "JoeyM.",
                  "Game_ID": 0,
                  "_deepnote_index_column": 98
                },
                {
                  "Userscore": 10,
                  "Comment": " Personally the best game ever made and will never be beaten.",
                  "Username": "MattM",
                  "Game_ID": 0,
                  "_deepnote_index_column": 99
                },
                {
                  "Userscore": 10,
                  "Comment": " Even after finishing this game on N64 15 times, i still bought it on the Wii Virtual Console and have finished it twice since. This IS the greatest game ever made and does not deserve to be knocked off the top by the likes of GTAIV.",
                  "Username": "ScottW.",
                  "Game_ID": 0,
                  "_deepnote_index_column": 100
                },
                {
                  "Userscore": 10,
                  "Comment": " People who say this is overrated, they obviously are one of two things; an Xbox fanboy or a moron. This game is ingenious.",
                  "Username": "AnonymousC.",
                  "Game_ID": 0,
                  "_deepnote_index_column": 101
                },
                {
                  "Userscore": 10,
                  "Comment": " Best Game ever, hands down.",
                  "Username": "JayP.",
                  "Game_ID": 0,
                  "_deepnote_index_column": 102
                },
                {
                  "Userscore": 10,
                  "Comment": " It is possibly the greatest piece of entertainment ever in the history of the universe.",
                  "Username": "SebastianB.",
                  "Game_ID": 0,
                  "_deepnote_index_column": 103
                },
                {
                  "Userscore": 10,
                  "Comment": " Honestly, I'm not one of those guys who love to put up 10s for all of my favorites. In this current day and age, it still is a masterpiece, compared to all of the other games that have huge spaces in their hard drive. If you're wondering how big this game is, it's around 256 megabits. It still is amazing. If you wanted to compress that large of a game, with the music, Honestly, I'm not one of those guys who love to put up 10s for all of my favorites. In this current day and age, it still is a masterpiece, compared to all of the other games that have huge spaces in their hard drive. If you're wondering how big this game is, it's around 256 megabits. It still is amazing. If you wanted to compress that large of a game, with the music, dungeons, all of the sidequests, the main storyline, and everything else in that small space, you get this game. It's incredible they fit it into that size. Of course, the game still has it's downsides, but minor, as that the major complaint is the storyline. You can see beyond the storyline that it's still the \"save the princess\" scenario, but I found myself lost when I was exploring that game.",
                  "Username": "totlmstr",
                  "Game_ID": 0,
                  "_deepnote_index_column": 104
                },
                {
                  "Userscore": 10,
                  "Comment": " There is nothing that can be said about this game that has not been said already, perfection is what it is. From the second you see Link waking up and you begin to explore the village, to when you get to the start screen and see the clouded world map and all the slots for more weapons and items, to when you get to your first dungeon, you don't know what to say, its just such a good There is nothing that can be said about this game that has not been said already, perfection is what it is. From the second you see Link waking up and you begin to explore the village, to when you get to the start screen and see the clouded world map and all the slots for more weapons and items, to when you get to your first dungeon, you don't know what to say, its just such a good game I don't know how there is nothing that comes close to this game yet (sure score wise there are games that come close but game play wise good luck). This game should be pulled apart bit by bit (pun intended =P) to discover how perfection is achieved. Those who rate this game lower than a 9 at the absolute minimum missed something in the game, and those of you giving 0-2, do you have any taste at all? I still remember when I first got the 3 gems together at the temple of time and went rocketing into the future and step into the town square surrounded by zombies, I called up all my friends telling them of my achievement, you could almost say I was way to happy for what I had accomplished. I have so many fond memories of this game that I will definitely pass this down to my kids. Long live The Legend of Zelda: Ocarina of Time, for you have earned your spot in the halls of time.",
                  "Username": "ThomasPshyk",
                  "Game_ID": 0,
                  "_deepnote_index_column": 105
                },
                {
                  "Userscore": 10,
                  "Comment": " Every time I see the intro screen to this game, I'm instantly hit with a pure feeling of nostalgia. All though today the graphics are easily beaten by modern day game console, at the time these graphics were fantastic. The controls are so fluid, the items were fun to use and the dungeons although something being absolute hell (Water temple, ugh), they were always fun and would keep Every time I see the intro screen to this game, I'm instantly hit with a pure feeling of nostalgia. All though today the graphics are easily beaten by modern day game console, at the time these graphics were fantastic. The controls are so fluid, the items were fun to use and the dungeons although something being absolute hell (Water temple, ugh), they were always fun and would keep you staring at the screen for hours. The characters always made you laugh or smile, and you felt the need to talk to everyone in sight. Cutting this short, I personally consider this to be the greatest game in history. ",
                  "Username": "ZakR",
                  "Game_ID": 0,
                  "_deepnote_index_column": 106
                },
                {
                  "Userscore": 10,
                  "Comment": " I really think this game deserves a 10. To be honest, it's not completely perfect, but it's as perfect as a game can be. It's not like there's ever going to be a game loved by everyone, so this is basically your best bet. The gameplay is timeless, the controls are perfect, and the dungeons are challenging, but not too hard. I know that some people find Navi annoying, I really think this game deserves a 10. To be honest, it's not completely perfect, but it's as perfect as a game can be. It's not like there's ever going to be a game loved by everyone, so this is basically your best bet. The gameplay is timeless, the controls are perfect, and the dungeons are challenging, but not too hard. I know that some people find Navi annoying, but I never did. She doesn't talk too much as long as you don't ignore her. Anyway, the length of the game, the storyline, the cutscenes, and the interesting characters all join together to make this one of my favourite games.",
                  "Username": "Elmo3000",
                  "Game_ID": 0,
                  "_deepnote_index_column": 107
                },
                {
                  "Userscore": 10,
                  "Comment": " I'm playing this game for nearly 5 years now and i have completed this game nearly 50-60 times, still i cant resist playing it. Its unique characters and a marvelous storyline meets all the requirements to be a perfect game.",
                  "Username": "PriM",
                  "Game_ID": 0,
                  "_deepnote_index_column": 108
                },
                {
                  "Userscore": 10,
                  "Comment": " Gaming perfection. This stands among an elite selection of games against which all other games should be judged.",
                  "Username": "Harry",
                  "Game_ID": 0,
                  "_deepnote_index_column": 109
                },
                {
                  "Userscore": 10,
                  "Comment": " Simply the greatest game of all time, with engaging story, enemies and puzzles this game will have you being nostalgic fr the rest of your life.",
                  "Username": "PhilMad",
                  "Game_ID": 0,
                  "_deepnote_index_column": 110
                },
                {
                  "Userscore": 10,
                  "Comment": "This game is really perfection. I played it when I was still just a little girl, and now more than 10 years later I play it again... and still love it. All the ones that gave the game a negative score are just here to rage at the popularity of this game. Because it's the best one ever made. And it deserves a worthwhile remake.",
                  "Username": "minahina",
                  "Game_ID": 0,
                  "_deepnote_index_column": 111
                },
                {
                  "Userscore": 10,
                  "Comment": "What Is there to say other than AMAZING! Ladies, Gentlemen and all Members Of the Gaming World, If you have a Nintendo 64, but don't have this game, you are a total n00b. Ocarina Of Time is my absolute favorite game on the Nintendo 64. Hell, it's so good it actually made me flip out my 64 and start playing it again. This game right here is the reason most gamers get their Nintendo 64 outWhat Is there to say other than AMAZING! Ladies, Gentlemen and all Members Of the Gaming World, If you have a Nintendo 64, but don't have this game, you are a total n00b. Ocarina Of Time is my absolute favorite game on the Nintendo 64. Hell, it's so good it actually made me flip out my 64 and start playing it again. This game right here is the reason most gamers get their Nintendo 64 out again, and its not hard to understand why. Without a doubt, the back story, plot and setting of the whole game is definitely well made to fit with the story of Hyrule, and the legend that is the Legend Of Zelda series that started on the NES. The battles and triumphs and the twist that splits the series in two, none of it would be possible without Shigeru Myamoto's brilliant mind and logic. The game flourishes in a brilliant Open-world setting, as we gamers agree, the best type of game there is (Grand Theft Auto and LA Noire are examples of Open World Games). Brilliant gameplay, especially being the first 3D Zelda game in which all others based off of, and I think people can have continuous fun hours on end just messing around with the Ocarina lol.",
                  "Username": "RazorEye",
                  "Game_ID": 0,
                  "_deepnote_index_column": 112
                },
                {
                  "Userscore": 10,
                  "Comment": "anybody who doesnt give this game a 10 or 9 shouldnt be on this website and doesnt no wat gaming is.its one thing if u dont like rpg. but if thats the case that just dont rate the game",
                  "Username": "johnina13",
                  "Game_ID": 0,
                  "_deepnote_index_column": 113
                },
                {
                  "Userscore": 10,
                  "Comment": "@bob and JamesF are you serious?????? stop hating you retards. this game is arguably the best zelda game ever created and zelda is one of the best series of games ever created. you can't just give it a 0!!!!!!!!!!",
                  "Username": "fredericsh",
                  "Game_ID": 0,
                  "_deepnote_index_column": 114
                },
                {
                  "Userscore": 10,
                  "Comment": "The greatest game ever made. Simple as that. Playing it again, 13 years after first play, and may not feel as fresh and original but the levels are still as brilliantly fun to play through and the redoing of the puzzles still feels a joy, never a chore. There is nothing to fault this game over.",
                  "Username": "fogcuttooth",
                  "Game_ID": 0,
                  "_deepnote_index_column": 115
                },
                {
                  "Userscore": 10,
                  "Comment": "So many of this games negative reviews are about poor graphics or boring gameplay, which is a problem because they're reviewing this game through the eyes of today, which is impossible to do so seeing as it was released in 1998. This game is THE blueprint, not on for Zelda games but any Zelda-inspired game since. The reasons this game is cited as \"The Best Game of All Time\" are many, allSo many of this games negative reviews are about poor graphics or boring gameplay, which is a problem because they're reviewing this game through the eyes of today, which is impossible to do so seeing as it was released in 1998. This game is THE blueprint, not on for Zelda games but any Zelda-inspired game since. The reasons this game is cited as \"The Best Game of All Time\" are many, all of which are accurate. It was really the first game evr to break through what is known as the \"polygon ceiling\". Franchises just couldn't make the jump to 3D correctly, either failing miserably like Bubsy or having to sacrifice something to make the grade meaning those games lost exactly what made the series good (Castlevania is the one that springs to mind here). OoT, however, not only showed everyone how 3D should be done, but how games should be done in general by having a great, fun story with plenty of twists and turns along the way, great controls that were simple to pick up and play and a massive amount of innovations with Z-Targeting being the most prevalent. Enjoyiing that lock-on in any game ever? You have Ocarina to thank for that. The puzzles were brilliant because they showcased the 3D perfectly, making you have to utilise spacial awareness by, for example, standing at a vantage point to fire an arrow through a lit torch so it sets on fire and ignites an extinguished torch at the other end of the room. No 3D game did that, which is why it was the pinnacle of the new revolution. The game is enormous even today, with in-depth side-quests that can easily detract you from the story for hours. Puzzles aren't out of reach for anyone so you don't have to be a genius to carry on with the story. Yes, sometimes the puzzles are more of the same, but that is really all they could do at the time with technology and memory constraints. This game was so big, a GamePak with increased memory was made just for this game, that later on became the standard memory allowance. The music is instantly recognisable and most of the well-known Zelda tracks are from this game, the only main song missing is the Zelda theme at the start instead opting for original music which, while an excellent piece is a little disappointing. Even after a decade, it's still the highest scored game ever on this site and there is a reason for that. This is not just a great Zelda game, but the greatest game of all time. If you haven't played this game in any of it's forms, you can't call yourself a gamer.",
                  "Username": "AstoXx",
                  "Game_ID": 0,
                  "_deepnote_index_column": 116
                },
                {
                  "Userscore": 10,
                  "Comment": "This is by far the best game i have played. Anyone who is giving this negative results go back to your generic shooter x franchise. This game really is the godfather, the dark knight, or lord of the rings of the game world.I don't like the godfather, but would still rate it nearly perfect as it is just so well made and executed, just like this game. It feels like everything in the gameThis is by far the best game i have played. Anyone who is giving this negative results go back to your generic shooter x franchise. This game really is the godfather, the dark knight, or lord of the rings of the game world.I don't like the godfather, but would still rate it nearly perfect as it is just so well made and executed, just like this game. It feels like everything in the game has been thought about, perfect pacing, exquisite level design, intriguing story, and just that x factor any perfect form of media has without the need for modern day effects or graphics.This shows if a game, film, book or album can be just as good now than.it was when released even if visually it might be dated.By the way this comes from some who does appreciate modern day visuals and owns a top end pc which maxes any title thrown at it.",
                  "Username": "smokesolo33",
                  "Game_ID": 0,
                  "_deepnote_index_column": 117
                },
                {
                  "Userscore": 10,
                  "Comment": "Among the best games of all time simply for being the most innovative game. Masterful gameplay, amazing sound track, a nice story, and the land of Hyrule to explore. A definite must have for any gamer.",
                  "Username": "FlyingAsianBear",
                  "Game_ID": 0,
                  "_deepnote_index_column": 118
                },
                {
                  "Userscore": 10,
                  "Comment": "THE BEST GAME EVER MAID!!!! the best game of nintendo 64.Incredible history,its impossible not love this amazing game! And come others Legends of Zelda, but only Ocarina of Time, is in the heart of all gamers in the world!",
                  "Username": "Vitinhox100",
                  "Game_ID": 0,
                  "_deepnote_index_column": 119
                },
                {
                  "Userscore": 10,
                  "Comment": "Best game ever. Best story, best sound track... Already forgotten how many times finished it.... And I continue playing... Ocarina Of Time is the best Legend Of Zelda game, and worth anybody's time whom intends to play",
                  "Username": "kira_whopper",
                  "Game_ID": 0,
                  "_deepnote_index_column": 120
                },
                {
                  "Userscore": 10,
                  "Comment": "This game was and is a masterpiece. Top 3 of all-time, maybe #1 for me (at least tied). The brilliance of this game will endure for the history of gaming. Absolutely spectacular....13 years later I'm giving this game the review it deserves.",
                  "Username": "sympathy4saren2",
                  "Game_ID": 0,
                  "_deepnote_index_column": 121
                },
                {
                  "Userscore": 10,
                  "Comment": "It's sad that until today there hasn't been anything that grasps the sense of magic that OoT brought forth upon playing. However that is simply the game being so vastly superior at what it does. To this day Koji Kondo's soundtrack for this is the one that strikes at an emotional level, where it never gets old. Characters are so well-made they stick with you and feel alive even long afterIt's sad that until today there hasn't been anything that grasps the sense of magic that OoT brought forth upon playing. However that is simply the game being so vastly superior at what it does. To this day Koji Kondo's soundtrack for this is the one that strikes at an emotional level, where it never gets old. Characters are so well-made they stick with you and feel alive even long after you played through once again. Graphically it's still really pleasing, because the aesthetics are so good. Pretty famous for it's story that keeps you involved at all times, never getting less climactic and leading to a huge pay-off and closure. Dungeon and level design is top notch and so clever they can be learned from even now. So much excellent extra content in exploring, secrets, mini-games and collectables that actually matter and improve your character and enhance the gameplay and is fun to do. Combat has alot of puzzle elements imbedded as well, especially the bosses require finding a solution whilst in the heat of the battle. It's all controlled rather intuitive with the Z-targetting being used for the first time and the handy hotkey buttons for sidegrade  weapons and items. The HUD was also non intrusive and nicely designed for the time. Navigating through the expansive open world and dungeon is made user friendly by the clear map system, has no problems with mulitple floors and levels. The array of gadgets and weapons to your disposal is astounding and let's you find several ways to reach your goal. Still playing it when I need to be reminded what games should strife to be like and I can't help myself but going for all the side content every time getting lost in the world of Hyrule.",
                  "Username": "Suits",
                  "Game_ID": 0,
                  "_deepnote_index_column": 122
                },
                {
                  "Userscore": 10,
                  "Comment": "What is there to say? This is gaming at its best. OOC and Majoras Mask are the 2 best games I can think of in this genre. Nothing has come close to matching these 2 games. They really don't make games like this any more. Quality, and fun to play. Well thought out and well made.",
                  "Username": "Vatolicious",
                  "Game_ID": 0,
                  "_deepnote_index_column": 123
                },
                {
                  "Userscore": 10,
                  "Comment": "One of the most perfectly worked out games in adventure genre. No flaws to be detected, fluent and action rich gameplay, interesting puzzles and quests, wide open world with a perfect balanced progress and excellent mixture of story based progress and free exploring. That time in the past even nice graphics, still nice aesthetics. The only little cute thing that doesnt make the game a 100%One of the most perfectly worked out games in adventure genre. No flaws to be detected, fluent and action rich gameplay, interesting puzzles and quests, wide open world with a perfect balanced progress and excellent mixture of story based progress and free exploring. That time in the past even nice graphics, still nice aesthetics. The only little cute thing that doesnt make the game a 100% perfect: Navi just drives one crazy after some time.",
                  "Username": "Revane",
                  "Game_ID": 0,
                  "_deepnote_index_column": 124
                }
              ],
              "rows_bottom": [
                {
                  "Userscore": 7,
                  "Comment": "I skipped this game back then after playing for 3 hours: just finishing Brotherhood, it was kind of boring to go back again and do the usual routine. After 1.5 years, I played AC3 and beyond a few curious things, it didn't feel I need to play AC2R in order to understand what's going on. AC3 was fun, AC4 was more fun, AC3L was still fun, but not as much as AC4. Now that I played those, II skipped this game back then after playing for 3 hours: just finishing Brotherhood, it was kind of boring to go back again and do the usual routine. After 1.5 years, I played AC3 and beyond a few curious things, it didn't feel I need to play AC2R in order to understand what's going on. AC3 was fun, AC4 was more fun, AC3L was still fun, but not as much as AC4. Now that I played those, I wanted to fill in the gap.I felt the usual syndrome of going back to an early version after playing a more modern version: different controls, very slow menu and minimap (despite the gamer PC), lack of simplifications. The story is interesting, but not as moving as before and after: true to the critics, this was the bottom of the curve. The game time was rather short, 30 hours for 100% sync whereas I spent more than double in each of the sequels. Instant-fail-tail missions, naturally are there, which can become boring and annoying pretty quick, not to mention, after 7 installments.",
                  "Username": "akarnokd",
                  "Game_ID": 3412,
                  "_deepnote_index_column": 283858
                },
                {
                  "Userscore": 0,
                  "Comment": "Boring, repetitive, predictable, booooring, I bought it a couple of days ago from the sale on steam and I am already bored, if you are in for the assassins stuff I would recommend more hitman than this...",
                  "Username": "monkeylion",
                  "Game_ID": 3412,
                  "_deepnote_index_column": 283859
                },
                {
                  "Userscore": 0,
                  "Comment": "At 87%, 39 hours elapsed and finished the game already.Launch the game: I'm gonna 100% that ****Uplay starts and issues an update. Whatever dude.MFW update has wiped my savegame to 0%.**** you Ubisoft. I hope you rot in hell.",
                  "Username": "Mykwon",
                  "Game_ID": 3412,
                  "_deepnote_index_column": 283860
                },
                {
                  "Userscore": 9,
                  "Comment": "I rate this slightly lower than the previous AC releases only because the world in which it is set is so much smaller than the original AC and AC II  only Constantinople. But it's still very worthwhile. The story line finally gives us an idea of what happened with Altair and the Apple. It provides some great humor (when he goes undercover as an Italian musician, it's hilarious) and someI rate this slightly lower than the previous AC releases only because the world in which it is set is so much smaller than the original AC and AC II  only Constantinople. But it's still very worthwhile. The story line finally gives us an idea of what happened with Altair and the Apple. It provides some great humor (when he goes undercover as an Italian musician, it's hilarious) and some romance. And it includes mentoring other assassins, which I found an excellent idea in AC II. Don't know why it has such a low user score but I would highly recommend it, having played the entire series about half a dozen times!",
                  "Username": "WestLil0",
                  "Game_ID": 3412,
                  "_deepnote_index_column": 283861
                },
                {
                  "Userscore": 7,
                  "Comment": "A good game, nice continuation but i prefer the italian environment, and i miss that.Why dont ubi soft add some splinter cell features? Like squat, strut and other",
                  "Username": "voiders",
                  "Game_ID": 3412,
                  "_deepnote_index_column": 283862
                },
                {
                  "Userscore": 6,
                  "Comment": "In all honesty just like Brotherhood I felt that this game could have been a downloadable dlc for Assassin's Creed II. The game offered absolutely nothing new and did something most fans didn't appreciate; messed with Altair. The game still offered some interested story point, but made Ezio and Desmond look like a manatee. Not cool!6 out of 10",
                  "Username": "GameInterpreter",
                  "Game_ID": 3412,
                  "_deepnote_index_column": 283863
                },
                {
                  "Userscore": 8,
                  "Comment": "            This review contains spoilers, click expand to view.        I am a tiny bit biased, because even with the flaws Revelation has, the ending (at least the first ending, the ending involving Altair and Ezio) makes up for most of them.This is the end of the Ezio-trilogy, and also kinda has a meeting of Ezio and Altair in a way.the new setting, Constantinople, is rather beautiful, even though it ofc looks a bit dated by now.So is Ezio, kinda... he is quite a bit older than he was in previous games, and you start to get the feeling he has aged, is a bit less agile, yet more experienced.The intro already is cool, following in Altairs footsteps into a fortress, followed by a very dramatic almost execution to a wild chase with a carriage, and then the game begins.The system with apprentice assassins you can hire has been elaborated on, and you can establish bases and send your assassins out all over Europe, which will get you mats and money. If needed, you can call your assassins, which makes some fights a bit easier. I really liked this system, just like I did in Brotherhood, it was a nice idea and nicely done, and feels much more \"assassin-like\" than hiring street-thugs in Syndicate.Another new system is a tower-defense like minigame, which I thought feels a bit \"forced into the game\". It was a nice attempt, but I didn't think it fit all that well, so I only did it once (the tutorial, which you have to do to progress the story), and never again... it's pretty much optional.You can craft different kinds of bombs, depending on what you like to use (distract enemies, smoke bombs etc). They elaborated on that, and teach you how to use it in game, and I did use different kinds of bombs, yet didn't think it was a big game-changer. It was another nice attempt to change things around a bit.The hookblade you get early on in the game enables Ezio to do faster climbing, or do wider jumps, plus it can be used in melee. Another small detail, not earth-shattering, but nice, and I liked how it was introduced (a \"trademark tool\" of the assassin-branch in Constantinople, so to say)The story is ok... nothing too amazing, but there are some very cool moments...sneaking into a feast, taking out murderers there, etc.Flaws: I had 2-3 crushes. Also, the game still has the wonky controls the previous games had, where sometimes, things you try end up in a mishap... jumps not working, you ejecting yourself off a wall instead of climbing up, stopping instead of quickly climbing an obstacle etc.This made one optional race (against a potential apprentice you can hire) INCREDIBLY frustrating, as there was ZERO room for errors in that race, so I gave up and never hired that guy. No problem though, as you have enough other candidates, and once you level them up, they become useful assistants for taking out tougher enemies quickly.If you played AC II and Brotherhood, you might remember the optional \"imba armour riddles\". In those games, you could unlock legendary armour sets (AC II: Altairs armour, BH: Brutus' armour and dagger). There is something like that here, but this time, it's rather simple to get. YOu need to find a few items hidden in the city (you can use a guide to find these). In order to get to one of them, you need to get to sequence 4 or 5 in the story to unlock a part of the city... once you do, you can get all missing pieces, do a jumping-puzzle and unlock a legendary armour-set.It was nice and made things a bit easier, but it didn't feel like an achievement really, compared to the equivalents in earlier games. Much easier and you can do it early on.The ending... what an iconic moment. I loved how it brought closure to the story of Ezio and Altair. I really liked the sequences where you played as Altair. He looked better than in AC 1, and you had the more modern handling. The sequences with him were tricky, sometimes quite difficult but that didnt bother me, as I simply loved how you were alternating between Ezio and Altair and brought their story to an end (or almost an end in Ezios case)One thing truly sucked: After you complete that story, you go back to the present, and there is another too-long, no-room-for-errors-jumping puzzle. At that point, I thought I had beaten the game and hated having to play another jumping-puzzle, needing several attempts to beat it. Same thing in AC3: Too much of an afterthought there, and after the totally cool, very epic and movie-like end of Ezios part (the chase and final fight), this felt tagged-on, unnecessary and anti-climatic.So: Its a bit buggy, it feels a TINY bit uninspired, some things were unnecessary (tower defense) or too easy (legendary armour), but at the same time, it was a great change of scenery, had some killer sequences (intro etc.), brought closure to 2 of the coolest assassins and, even with its flaws is a fun game, especially since you can probably get it cheap these days. If you liked ACII and BH and can get this for a few bucks, definitely consider it!",
                  "Username": "danstew",
                  "Game_ID": 3412,
                  "_deepnote_index_column": 283864
                },
                {
                  "Userscore": 3,
                  "Comment": "Assassin’s Creed Revelations is a third person parkour/stealth game, and the third in the Assassin’s Creed II trilogy of games. While on the surface this game may seem similar to – indeed, even improved from its predecessors, the game suffers from a weak plot and repetitive gameplay relative to the previous games.StoryEzio Auditore is graying, but he hasn’t slowed down yet. AfterAssassin’s Creed Revelations is a third person parkour/stealth game, and the third in the Assassin’s Creed II trilogy of games. While on the surface this game may seem similar to – indeed, even improved from its predecessors, the game suffers from a weak plot and repetitive gameplay relative to the previous games.StoryEzio Auditore is graying, but he hasn’t slowed down yet. After travelling to the fortress of Altair, the assassin protagonist from the original Assassin’s Creed, in search of answers, he is confronted by a group of Templars who are searching for five keys that could open up Altair’s vault and give them access to the Apple of Eden, an ancient artifact left behind by Those Who Came Before that can reveal many secrets and control men’s minds, among other things. Ezio must find the keys before them so that he can keep the artifact safe.Alas, this game’s plot is quite poor compared to the previous games; the plot is motivated entirely by a “collect the soup cans” plot, where you try and collect the magical keys before the bad guys do. The cast is all new, with only Ezio appearing from the previous two Assassin’s Creed II games, and while there are flashbacks to Altair’s life in the aftermath of the original Assassin’s Creed, having never played the first game, I’m not sure to what extent some of the characters are carried over from that game.The biggest problem lies in the fact that the modern-day plot – the entire reason that Desmond, the protagonist, is flashing back through his ancestor’s memories – takes an extreme back seat throughout the game. Desmond spends the entire game trapped in the machine that allows him to view his ancestor’s memories, and thus the meta-plot comes to a screeching halt and the whole game feels like a pointless cash-in, something which Ubisoft created to exploit AC II once more before finally releasing AC III. While the meta-plot never consumed a huge fraction of the previous games, its absence here is very notciable, as Ezio’s story just isn’t that interesting or high-stakes, and none of the characters I encountered in Constantinople connected with me in any way. The whole “conspiracy theory” angle that the previous games had is almost entirely lost, with no real signs of said gigantic conspiracy appearing in the game, and without that whole aspect, the game is simply much less interesting.GameplayThe gameplay is virtually unchanged from the previous Assassin’s Creed II games. Ezio starts out with all his toys, and he only really gets a couple new ones – a hook that he can use to extend his reach while jumping, which is vaguely interesting for some platforming, and bombs, which have a variety of effects, but the main one is basically “win fights even more ridiculously easily than before.” There were a few acrobatic maneuvers added to close combat, but they’re mostly pretty worthless; combat is extremely easy and I never even once had to use the new maneuvers to win or escape.The gameplay is still the same formula as the previous Assassin’s Creed II games: you spend the whole game running through a city, climbing buildings and occasionally murdering people. The parkour is pretty smooth, but honestly has begun to wear a bit thin; while it is neat being able to climb buildings, in the end it is mostly just following paths through the environment which mostly feel extremely straightforward and without much skill. Because Ezio does so much automatically, there’s very little challenge in the platforming aspects of the game, and because Ezio is so good at instantly killing enemies – indeed, he can kill every enemy in the game with a single hit, and oftentimes, kill entire groups in this manner – there’s very little challenge in combat. The main challenge of the game is sneaking around stealthily, and a few missions where you aren’t supposed to kill people, but even all of that is easily done within a couple tries.Consequently, the game as a whole feels extremely lightweight, and there isn’t much of a sense of achievement in victory; everything feels like it was handed to you on a silver platter, and the lack of challenge makes a lot of the game feel samey. A few underground tombs add some variety to the feel of the game, and a few of them felt pretty good, but in the end they really more or less boil down to “running along the path and the game trying to make it look impressive”, rather similar to the 3D Sonic games, but without the challenge. The missions can almost all be beaten very quickly, and most of the missions that cannot be beaten extremely quickly are because you have to run back and forth across the city. If you were just running through the main quest line, you could beat the entire game in under 10 hours.The main side quests in the game are just “collect all the objects in the environment”, and while there are maps to finding the items which you can purchase, actually grabbing all the items is completely unchallenging; it is just tedious.",
                  "Username": "TitaniumDragon",
                  "Game_ID": 3412,
                  "_deepnote_index_column": 283865
                },
                {
                  "Userscore": 1,
                  "Comment": "Problems with uPlay on multiple computers over the past year has given me a bad attitude on Ubisoft quality.  These service is buggy.  The game is decent if rather linear.",
                  "Username": "chatins",
                  "Game_ID": 3412,
                  "_deepnote_index_column": 283866
                },
                {
                  "Userscore": 7,
                  "Comment": "I had fun playing this game. Direct X 9c is old (released on August 4, 2004).  PC's are more powerful than they were 8 years ago.  Direct X 11 was released nearly three years ago.  This past Wednesday they released Direct X 11.1 (August 1, 2012).  Someone that developers listen to need to let them know these better Direct X versions are available.",
                  "Username": "Gamtu",
                  "Game_ID": 3412,
                  "_deepnote_index_column": 283867
                },
                {
                  "Userscore": 7,
                  "Comment": "A step back from Brotherhood. The limited development cycle really took a toll on this game. It feels the same as brotherhood, with some unnecessary minigames added and a less engaging story and environment. There also aren't any cool side missions like the ones with Leonardo in Brotherhood. Slightly disappointed by this game.",
                  "Username": "JimCorbett",
                  "Game_ID": 3412,
                  "_deepnote_index_column": 283868
                },
                {
                  "Userscore": 8,
                  "Comment": "Game:  Assassin's Creed RevelationsGenre:  ActionDeveloper:  UbisoftSystem:  Steam (PC)Total Score: 85/100Value Score: 8.5/10• Story:  9/10• Characters: 10/10• GamePlay:  9/10• Graphics:  9/10• Sound: 9/10• Music:  9/10• Length: 5/10• Replay Value: 6/10• Player Value: 9/10Pros+Retains similar gameplay to AC2 and ACB however adds new elements to theGame:  Assassin's Creed RevelationsGenre:  ActionDeveloper:  UbisoftSystem:  Steam (PC)Total Score: 85/100Value Score: 8.5/10• Story:  9/10• Characters: 10/10• GamePlay:  9/10• Graphics:  9/10• Sound: 9/10• Music:  9/10• Length: 5/10• Replay Value: 6/10• Player Value: 9/10Pros+Retains similar gameplay to AC2 and ACB however adds new elements to the gameplay and features to the overall world such as the hookblade and the parachute.+All of the Assassin/recruiting guild features and Multiplayer features are back+Ability to create bombs and use bombs brings forth new ways to play the game+Everything from AC2 and AC Brotherhood in terms of town upgrades and renovations are back+A Portal style platformer mini game labeled as \"The Lost Archive\" is available+The menu/item/weapon scroll wheel interface is improved and now is controllable with two analog sticks which makes navigating much more simple than previous games.+Inclusion of Heavy weapons increases the amount of variety of weapons you can use in the game compared to previous games.+Great OSTCons-Unable to re-do missions or sequences-Some sound effects go missing during some cutscenes (this may be a Uplay issue)-The game is more buggy than previous games and it is more common to come against floor glitches, etc-Some stuttering and lag occurs in the cutscenes (this may be a Uplay issue)-The game is shorter than the previously shorter than expected AC Brotherhood-The game feels a bit rushed when it comes to the storyline compared to previous AC games and feels like it should of been an extension to AC Brotherhood.-Recruitment of Assassins to the Assassin guild is more tedious than in Brotherhood",
                  "Username": "BasilZero",
                  "Game_ID": 3412,
                  "_deepnote_index_column": 283869
                },
                {
                  "Userscore": 9,
                  "Comment": "After the terrible slip that was Brotherhood, comes Revelations to repair the franchise's dignity. Revelations is superior to its predecessor in every regard, rivaling AC and AC:2 in what each does best, while doing so much more.The first thing you'll notice about this game is that everything looks much, much better than in Brotherhood. Konstatinople rivals Venice as the most colourfulAfter the terrible slip that was Brotherhood, comes Revelations to repair the franchise's dignity. Revelations is superior to its predecessor in every regard, rivaling AC and AC:2 in what each does best, while doing so much more.The first thing you'll notice about this game is that everything looks much, much better than in Brotherhood. Konstatinople rivals Venice as the most colourful location in any AC game, as do all of the secondary locations. Just as importantly, the city is a pleasure to navigate through, not just visually but also in terms of layout and freerunning paths. The features that allow for Ezio's stunts are not only convenient, but also look natural in their environment. This is something I couldn't say since the original AC.The writing is as good as it has ever been. Unlike Brotherhood, Revelations is story-driven rather than a big collection of purposeless sidequests. Not that there are no sidequests to distract you, but they are much sparser and, frankly, I didn't miss them at all. The storytelling in this game is the richest and most colourful to date. Rather than throwing around faceless characters, just to name-drop a historical figure, AC:R takes a bit of time to develop some likable characters. This title takes it upon itself to patch the AC storyline, which by that point was stretched thin and made less and less sense.I think that a concise background story and motives for Desmond were way overdue.In terms of fighting mechanics, Revelations is a marginal improvement over Brotherhood. Your assassin helpers are not as overpowered, and the use of camera feels less broken than in Brotherhood. Still, it doesn't seem that brilliant mechanics of the original AC will be making a comeback any time soon.Revelations is not without fault. The unbeatable Janissaries that patrol parts of the city are an unpleasant encounter. The tower defense minigame is out of place. And the navigation puzzles you are expected to solve while getting Desmond's story felt are completely pointless. Seriously, it would have been better to just let us hear the story and admire the surreal environment.Still, all things considered, AC:Revelations is the best AC so far.",
                  "Username": "DarKMaTTeR",
                  "Game_ID": 3412,
                  "_deepnote_index_column": 283870
                },
                {
                  "Userscore": 8,
                  "Comment": "Continuing where Brotherhood left off, I was happy to get to spend more time learning about Desmond and fleshing him out as a character. Being able to wrap up Subject 16's story (which honestly was entirely peripheral in the first two AC2 games) was also enjoyable. Gameplay is just as solid as AC2 and Brotherhood, and there are far fewer issues with the camera this time around. DespiteContinuing where Brotherhood left off, I was happy to get to spend more time learning about Desmond and fleshing him out as a character. Being able to wrap up Subject 16's story (which honestly was entirely peripheral in the first two AC2 games) was also enjoyable. Gameplay is just as solid as AC2 and Brotherhood, and there are far fewer issues with the camera this time around. Despite others' complaints about the den defense mini-game, I was able to avoid triggering it even once while completing the single player campaign. Ezio's story does feel less important that Desmond's this time, which can be a good or bad thing depending on what you enjoy in the series. I was glad to learn more about what was going on in the present-day world, and the reasons for all of the events that had taken place in the previous games. The game also wraps up Altair's story, which frankly was more fun than actually playing through the first game. Things are wrapped up nicely for Ezio, though the love interest bit seems very tacked on, and somewhat out of character for him. Despite some minor flaws, Revelations is a great conclusion to the AC2 series of games. Looking forward to AC3.",
                  "Username": "Resplendent",
                  "Game_ID": 3412,
                  "_deepnote_index_column": 283871
                },
                {
                  "Userscore": 8,
                  "Comment": "The story was worse than Brotherhood, the gameplay was better and the new setting was awesome. Sadly it lacked polish and was the first AC game to come out with major glitches present. There was no story outside animus which I think was a bad design choice. Still awesome gets 8.5/10.",
                  "Username": "Banhammer0",
                  "Game_ID": 3412,
                  "_deepnote_index_column": 283872
                },
                {
                  "Userscore": 9,
                  "Comment": "Excellent game. I only purchased it now becauese the other reviews scared me but now I see it was wrong. The game is simply better- The hookblade is the best improvement, making moving around faster if you have the skill to use it, the battle animation was improved, and the Zipplin assasination is probably the funniest way to kill your target (However, its not easy). The Tower defence isExcellent game. I only purchased it now becauese the other reviews scared me but now I see it was wrong. The game is simply better- The hookblade is the best improvement, making moving around faster if you have the skill to use it, the battle animation was improved, and the Zipplin assasination is probably the funniest way to kill your target (However, its not easy). The Tower defence is pretty boring, But you can avoid it if you bribe Heralds once a while, I only had to do it twice. The bombs addition can fit some people, I barely used it, there are plenty of ways to deal with targets without it. The story itself doesn't add much but some parts (Espacially the last assassination) include stunts that Hooliwood hasn't yet seen. Even the climbing parts, which I hated in Brotherhood, somehow became fun. Highly Recommended",
                  "Username": "DrownedDrone",
                  "Game_ID": 3412,
                  "_deepnote_index_column": 283873
                },
                {
                  "Userscore": 5,
                  "Comment": "It's rather obvious that the developers aren't so familiar with Islamic history. Revelations doesn't feel like Assassin's Creed. Ordinary story. Bad gameplay and too easy controls. I shouldn't play that game.",
                  "Username": "ns0l",
                  "Game_ID": 3412,
                  "_deepnote_index_column": 283874
                },
                {
                  "Userscore": 4,
                  "Comment": "Very similar to the previous game, Brotherhood, with no significant improvements. The series is beginning to feel a bit stale, but not bad by any means. The story is ok, but a bit in-cohesive/random, like the last one. Great soundtrack. The game feels a bit shorter and the explorable world a bit smaller, a small pity and perhaps the result of Ubisoft rushing development. Certainly worthVery similar to the previous game, Brotherhood, with no significant improvements. The series is beginning to feel a bit stale, but not bad by any means. The story is ok, but a bit in-cohesive/random, like the last one. Great soundtrack. The game feels a bit shorter and the explorable world a bit smaller, a small pity and perhaps the result of Ubisoft rushing development. Certainly worth getting in a steam sale though.",
                  "Username": "Budget_Security",
                  "Game_ID": 3412,
                  "_deepnote_index_column": 283875
                },
                {
                  "Userscore": 8,
                  "Comment": "Assassin's Creed: Revelations stays true to game mechanics so who liked the prvious AC's will like this one too. The story still stays a bit confusing but we actually do get some revelations :)",
                  "Username": "thebluerider",
                  "Game_ID": 3412,
                  "_deepnote_index_column": 283876
                },
                {
                  "Userscore": 6,
                  "Comment": "Franchise milking at its finest, Revelations is a huge sign that the series needs to go forward. Featuring a miserable amount of changes from the previous title, Brotherhood (which on itself featured a miserable amount of changes from AC2), the game also fails to deliver a somewhat catching plot. All the new characters are uninteresting, the \"drama\" doesn't provoke any emotions except forFranchise milking at its finest, Revelations is a huge sign that the series needs to go forward. Featuring a miserable amount of changes from the previous title, Brotherhood (which on itself featured a miserable amount of changes from AC2), the game also fails to deliver a somewhat catching plot. All the new characters are uninteresting, the \"drama\" doesn't provoke any emotions except for annoyance (\"How can the old experienced master assassin Ezio do such stupid things??\")  However, despite all the flaws, I spent good 22 hours in the game, guess assassinating people is still satisfying. It is an unnecessary addition to the franchise, but still better than Brotherhood, so if you haven't played that, just skip it and get to Revelations, you won't miss anything and the changes accumulated in these 2 games would actually be refreshing.",
                  "Username": "RealMuthaF",
                  "Game_ID": 3412,
                  "_deepnote_index_column": 283877
                },
                {
                  "Userscore": 5,
                  "Comment": "Weaker back story and presentation overall compared to previous titles. Desmond is always in coma inside the animus, no real-life cutscenes. Appearance of Bill never explained. Overall story only picks up a little later in the game, before that it'is very weak, basically running around in Constantinople. Oh, and there's virtually no follow up to Lucy's death in the previous game.Ezio'sWeaker back story and presentation overall compared to previous titles. Desmond is always in coma inside the animus, no real-life cutscenes. Appearance of Bill never explained. Overall story only picks up a little later in the game, before that it'is very weak, basically running around in Constantinople. Oh, and there's virtually no follow up to Lucy's death in the previous game.Ezio's and Altaïr's memories regarding to Piece of Eden are somewhat interesting, but only towards the end of the game. And getting Altaïr's memories consists mainly of linear platforming sections in hidden tombs that are nothing like the historic locations of wonder from previous games - it's just a race to the end.Open-world in the city: repetitive, not interesting missions, even assassin ones. Spend most of the time trying to get from A to B, dodging people (I'm getting cramps from constantly holding RMB, W and Space), and missions are not creative at all, end quickly, with targets that you don't care about - not very interesting. City is huge but feels soulless, NPCs are mostly dummies, it's difficult to relate to, and events and characters don't help construct interest and care for the historic time and place. Overwhelming amount of collectibles to get and shops and buildings to renovate and for what reason? Mostly simply achievements, so, it's almost exclusively a time sinker. And den defense is a boring as hell tower defense that I managed to save myself and avoid altogether by constantly paying Herald's 100A to keep Templar awareness down....Combat and movement is the same as ever, that is to say it's clunky, with the same sometimes despairingly frustrating problems. Ezio keeps climbing or not climbing contrary to what you mean to do, making navigation frustrating, screwing up missions and challenges where you can't be detected or do things in a specific way. Targeting is difficult where there's many enemies, which is most of the time, making it difficult to fire or engaging a specific enemy, screwing up some challenges in missions like preventing allies from getting hurt. With all that, I ended up restarting memories a lot and feeling frustrated about it.Optional Desmond animus sections are visually cool, but there's only platforming to do, and it is frustrating and not rewarding - might as well just watch a YT video with the plot lines.Assassin management and world map control had potential, but ends up being a chore, and there's little rewards - some armor and weapons that are very good, granted, but you can complete the game just fine without them.Overall, playing this was mostly a drag, since the missions themselves were not creative and engaging in the slightest, and with all those control and combat problems, I ended up feeling like I should have just watched some videos on YT with the important cutscenes. There was little of the interest in the city, characters, events  and historic locales that the previous games had. And almost everything you can do in the city \"open world\" is repetitive and boring, might as well not be there. Of course, graphics are still good, as well as acting and voices.",
                  "Username": "Cinetyk",
                  "Game_ID": 3412,
                  "_deepnote_index_column": 283878
                },
                {
                  "Userscore": 7,
                  "Comment": "The engine reaches it's limit. The graphics are....ok. The story is ... too short. But I like, that you have a real emotional bound to your assassins. They are not just a tool to use, they are people with a story. Better than in AC Brotherhood.",
                  "Username": "HolyCrab85",
                  "Game_ID": 3412,
                  "_deepnote_index_column": 283879
                },
                {
                  "Userscore": 6,
                  "Comment": "I'm sorry to the die hard fans of this series about this review but Assassin's Creed 3 doesn't live up to the hype. It is a above average game but not the best in the series. Personally I say Assassin's Creed 2 was the best from the AC series from Ubisoft. It had better visuals and even on console AC 2 was just simply an incredible achievement. While playing AC3 I understand they wanted toI'm sorry to the die hard fans of this series about this review but Assassin's Creed 3 doesn't live up to the hype. It is a above average game but not the best in the series. Personally I say Assassin's Creed 2 was the best from the AC series from Ubisoft. It had better visuals and even on console AC 2 was just simply an incredible achievement. While playing AC3 I understand they wanted to tell this new story but so far I just feel its disjointed. I'm not gonna touch on the story because everyone should know it from previews and reviews from other sources. My focused review is gonna be graphics and gameplay. I own it on pc and with pc with a pretty decent high end rig, this game looks ok with pretty good frames per second with little dropping in frame rate. But I feel at times like I'm playing a ps2 game. Don't know if anyone else gets that feeling. This game is unimpressive in graphics to me. Scope of the game is not that big as far as scale per section and the world feels somewhat linear in ways to go. You want a good open world game that you can be an assassin or play your style go to Skyrim. Skyrim is massive and looks way better. AC3 I was anticipating and was let down but is a decent game to play when I'm extremely bored. The small missions should be treated like mini games like the naval warfare. Everything feels short lived. Right when your having fun it yanks you from the excitement. It will force you to continue the pieces when you want to just explore even when your running around at will. Controls are awkward and it seems like the fighting is also a mini game. Hit counter thin strike then you just watch the fight unfold. This game feels to me like a interactive tech demo.  This is the game walk cutscene walk cutscene follow cutscene mini fight walk cutscene. AC2 didn't do this eveything felt right. I felt progression as a player with what I did and it made me care. This game doesn't make me care, most of the beginning parts of the story I've pressed to skip cutscenes because it take 3 hours to get to the exploring. Like I said some will love it but us detail explorers will be left wanting. I give this game a 6 out of 10 because the things I love about it are few and short of time. And the other majority of the game is almost wasteful. I wish developers would ask us consumers, What game would you like to play next? And what type of missions do you like? And above all I haven't notice and interview with a developer that the question is asked, Are there auto generated missions so after I beat the story there is something to keep me occupied after all the main and side content is complete. Credits to Bethesda for that achievement. Cause Skyrim seems like a rpg simulator style game than a COD or arcade short lived game like the games that have been released on the consoles and pcs for the last few years.",
                  "Username": "Tiger2182",
                  "Game_ID": 3412,
                  "_deepnote_index_column": 283880
                },
                {
                  "Userscore": 7,
                  "Comment": "Story: goodMusic: very goodGraphics: very goodGameplay: mediocreStory of Revelation follows Ezio's life and shed some light on Desmond's early childhood.  I personally would like to see some more story development on Desmond's current mission but there isn't any.  Ezio's storyline is very strong.  However, I don't see much point in learning Desmond's childhood since it doesn'tStory: goodMusic: very goodGraphics: very goodGameplay: mediocreStory of Revelation follows Ezio's life and shed some light on Desmond's early childhood.  I personally would like to see some more story development on Desmond's current mission but there isn't any.  Ezio's storyline is very strong.  However, I don't see much point in learning Desmond's childhood since it doesn't feel connected to the current plot.  Maybe it will be tided in somehow in the future series (I hope so)The gameplay is a bit iffy.  We have the usual AC brotherhood elements + hook blade, castle defense, bomb, and capture the node.The usual AC elements are fine but hook blade + bomb makes Ezio way too powerful.  You are literally an one man army that can take out anyone without being discovered.  When there is 0 risk of dying/being discovered then the game feels a bit more diluted.Castle defense is fun but the only way to play it is when you mess up and jack up your notoriety on purpose.  I feel it would be a much better addition if it were combined with node capture mini game.Node capture is weak and pointless.  Capturing and maintaining nodes is a chore and simply not fun.  There is simply no depth to it.All in all, Revelations is a good game worth playing through for veterans and a great game for new comers.",
                  "Username": "BeholderZ",
                  "Game_ID": 3412,
                  "_deepnote_index_column": 283881
                },
                {
                  "Userscore": 2,
                  "Comment": "            This review contains spoilers, click expand to view.        I have a lot of feelings regarding this game. Almost entirely negative. This is my favourite game series, and this came so close to ruining it for me. The hook blade is a fine addition, the ziplines are cool (though are rarely placed where you need them), it's kind of nice having a smoke bomb that has a wide area, but apart from that I'm drawing a blank on the 'pros'. Ezio is back, because they'd rather drag him out for an annoying third encore for the audience to sit and clap through even though their hands hurt than they would leave the audience wanting more. Some of the characters you meet are cool, but I wasn't really invested in any of them. Any familiar characters from Ezio's former stories are stripped away from you. They become nothing more than a 'My Dearest Claudia' in the letters which serve as a few underdone quasi cut scenes to take you to the next DNA sequence. The Altair memories which were to be the most exciting element of the game are some of the WORST moments. The story of Altair's life beyond the first game and codex pages of Assassin's Creed 2 is either boring or not fully thought out, I can't tell which. All they needed to do to make playing as Altair the most fantastic experience was to give us the ONE leap of faith taken when taking the shortest route through Masyaf in the first game. INSTEAD it was decided that his movements should, for the most part, be limited to an irritating shuffle. Uphill. For the entire memory. And even in these sections, familiar characters were culled. It's as if the game made a deliberate attempt to alienate any loyal players who'd stuck around since the first game. The games physical space, while gorgeous and brilliantly colourful, is very limiting, or at least feels it. Then comes the excursion to Cappadocia - this nearly saved the game for me, a big statement, trust me. Arriving on that boat and stepping out only to realise it was a Templar CITY - the Templar equivalent of Masyaf - sent a genuine chill down my spine. It got off to a great start too! It's actually my favourite map out of all the games so far, with San Gimignano only just pipping it as best map to play through missions in. It feels big, and it feels dangerous, and it feels wonderful. Then you meet a woman who doesn't seem to need your help, but you help her anyway - she's sassy and capable and the coolest character in the game. Then she disappears from the entire game, when, after being there for five minutes, you for no apparent reason set the entire city on fire, killing hundreds, and leave. Why? I really don't know. And this was just one of a few decisions the game makes for you against your will. Among others are an assassination target who is quite obviously innocent for at least half the time you know him. You are forced to kill him anyway, because the game thinks you don't know that yet.The game feels shockingly and awfully unfinished and lazy. Things are rushed, questions are unanswered, every second character or plot device is a massive cliche and whole chunks of it seem to just be missing. For example, a mission exists to enlist the help of the city's Romani population, however, the leaders of the thieves and mercenaries guilds alarmingly acted as though they knew who I was when I had never spoken to them once, in any game.They took away good features and replaced them with gratuitous ones, they took away good characters and barely replaced them at all, and after this whole depressing ordeal the plot was so forgettable that I can't for the life of me remember what the point of it all was. More than anything I just feel supremely betrayed by this game.",
                  "Username": "NameUnspecified",
                  "Game_ID": 3412,
                  "_deepnote_index_column": 283882
                },
                {
                  "Userscore": 8,
                  "Comment": "No game deserves a 0,as can be seen by quite a few reviews down here. I must say this game has not lived up to it's full potential, and has been quite a let down to many of it's fans. However, i must say that Assassin's Creed Revelations is a good enough way to send off Ezio and end the altair storyline. With several new mechanics and more of the good stuff, i believe this game is worthNo game deserves a 0,as can be seen by quite a few reviews down here. I must say this game has not lived up to it's full potential, and has been quite a let down to many of it's fans. However, i must say that Assassin's Creed Revelations is a good enough way to send off Ezio and end the altair storyline. With several new mechanics and more of the good stuff, i believe this game is worth your time if you're a fan of the franchise",
                  "Username": "lifexux",
                  "Game_ID": 3412,
                  "_deepnote_index_column": 283883
                },
                {
                  "Userscore": 9,
                  "Comment": "A brilliant game for Assassin's Creed Fans even though it feels a bit like brotherhood.The new game in Ubisofts francise has exeded it's predesecor Brotherhood but some things in the game are not as good as you want it to be. Of course as this is an assassin's Creed game, you'll be in an open world map and this time it's back to constantinople. The free running technique has beenA brilliant game for Assassin's Creed Fans even though it feels a bit like brotherhood.The new game in Ubisofts francise has exeded it's predesecor Brotherhood but some things in the game are not as good as you want it to be. Of course as this is an assassin's Creed game, you'll be in an open world map and this time it's back to constantinople. The free running technique has been modified and feels better than brotherhood but the melee is basacly the same. The new mode Den Defence is not all that good and after a while will become tedious and boring. In the game you can also craft bombs which will help you in your story. As always the graphics deliver and are brilliant to see. The one thing that is completly outstanding, is the multiplayer. With new modes and even more wepons to play with you will be on it for hours on end. Verdict: This Game is amazing in multiplayer and the story is brilliant.As always the Graphics are good especialy in the first scene with Ezio. The music fit's the game but Den Defence is not the best. If your an Assassin's Creed fan get the game but it may feel a bit like Brotherhood. Presentation:9.5/10 Gameplay:8/10 Sound:9/10 Graphics:10/10 Replay Value:9/10 Overall:9/10",
                  "Username": "LaytonLink1",
                  "Game_ID": 3412,
                  "_deepnote_index_column": 283884
                },
                {
                  "Userscore": 7,
                  "Comment": "i am really confuse here that Assassin's Creed has s*** tons of series that i cant even tell the difference. I did played the very first Assassin's Creed i thought it was pretty good. but then, they had many series that i dont know which ones which. i saw a older man's cover, a yonger man's cover and woman's cover...WTF??!!!  am really confused!!!",
                  "Username": "GamersLikeABoss",
                  "Game_ID": 3412,
                  "_deepnote_index_column": 283885
                },
                {
                  "Userscore": 9,
                  "Comment": "A very good ending to Ezio's trilogy, with nice flashbacks into Altair's memories. Innovations compared to Brotherhood are lacking, but if you take AC2 + Brotherhood + Revelations as one single game & story arc, it's a very enjoyable experience and you'll be left asking for more!",
                  "Username": "tiho",
                  "Game_ID": 3412,
                  "_deepnote_index_column": 283886
                },
                {
                  "Userscore": 4,
                  "Comment": "The low point of the Assassin's Creed series. Revelations can be described with one word: lazy. Ubisoft gained everyone's trust with the previous games and fooled us into giving them money for a poor quality product. There was no need for two half-hearted games, it ruined the hype for Assassin's Creed III.",
                  "Username": "GBowles",
                  "Game_ID": 3412,
                  "_deepnote_index_column": 283887
                },
                {
                  "Userscore": 6,
                  "Comment": "Grafika: TBAStylizace: TBAPříběh: TBALore: TBAVýprava: TBAImerze: TBAChytlavost: TBAKomplexnost: TBADopamin: TBA----------------Multiplayer: AnoLAN: NeZnovuhratelnost: NeDélka hry: TBADatum dohrání: 8. dubna 2012Stav dohrání: 100 %",
                  "Username": "GarrusCZ",
                  "Game_ID": 3412,
                  "_deepnote_index_column": 283888
                },
                {
                  "Userscore": 5,
                  "Comment": "Eh...there was something that truly bothered me about this game. ACB was so bright and had so much more optional crap to do. ACR seemed to drop that on it's ass. This is how I think of the AC series...AC1: A good pilot game...a beta if you so please. AC2: A well executed game that had detail and many optional things to do. ACB: a vast open game with many options and even more refinement.Eh...there was something that truly bothered me about this game. ACB was so bright and had so much more optional crap to do. ACR seemed to drop that on it's ass. This is how I think of the AC series...AC1: A good pilot game...a beta if you so please. AC2: A well executed game that had detail and many optional things to do. ACB: a vast open game with many options and even more refinement. ACR: lacks many previous options and the overal setting is dull and the ambiance noises are repeatitive. AC3: doesn't even deserve to be places with the rest of the AC games.",
                  "Username": "Nadeslos",
                  "Game_ID": 3412,
                  "_deepnote_index_column": 283889
                },
                {
                  "Userscore": 7,
                  "Comment": "This game is much better than Brotherhood. The Story ist very interesting, mabye not the whole game like Assassin's Creed 2, but to the end ist very exciting. The gamepkay is fluid, graphics are nice. But there are not many new features, mostly like the other Assassin's Creeds. Assassin's Creed Revelations is with Assassin's Creed 2 one of the best parts of this series.",
                  "Username": "FloppiZock",
                  "Game_ID": 3412,
                  "_deepnote_index_column": 283890
                },
                {
                  "Userscore": 8,
                  "Comment": "The fourth instalment of the franchise, with Ubisoft stepping it up over the course of 4 years, Assassin's Creed Revelations definitely have faults of its own compared to its predecessors.While retains the linear storyline of the previous Assassin's Creed games, it adds a few more obstructive technical issues that somewhat affects the overall experience badly.For example, havingThe fourth instalment of the franchise, with Ubisoft stepping it up over the course of 4 years, Assassin's Creed Revelations definitely have faults of its own compared to its predecessors.While retains the linear storyline of the previous Assassin's Creed games, it adds a few more obstructive technical issues that somewhat affects the overall experience badly.For example, having vsync turned 'Off' and a refresh rate over 60hz often results in crashes and glitches, in between the main story missions. It is extremely annoying at times, especially because it has already seen it's existence since AC2 and had gotten worse.. Crashes doesn't happen just once or twice, probably a good 10+ in total.Graphics wise, there isn't much improvements from the previous titles, and looks just slightly better.My conclusion is that if you've enjoyed Ezio, Altair, and Desmond's stories, then Assassin's Creed Relevations is one title that you cannot miss, an EPIC end to the Altair/Ezio story. If not, then you probably won't enjoy it a whole lot.",
                  "Username": "FruitCakeHD",
                  "Game_ID": 3412,
                  "_deepnote_index_column": 283891
                },
                {
                  "Userscore": 8,
                  "Comment": "Revelations has a lot of improvements on Brotherhood and it has amazing moments that will make your jaw drop  the graphics are great and the gameplay is smooth and also transportation became much faster and better also the story is good but i didn't like that they ditched horses in this game that's what i didn't like after all it is a great game and the best end for Ezio and Altair story",
                  "Username": "Basem101",
                  "Game_ID": 3412,
                  "_deepnote_index_column": 283892
                },
                {
                  "Userscore": 7,
                  "Comment": "a step back from brotherhood. the main drawback is there is nothing really innovative . its the same as brotherhood but in a different location . again lackluster multiplayer. but the plus side being a good story character development and a satisfying end to ezio.",
                  "Username": "ghost2512",
                  "Game_ID": 3412,
                  "_deepnote_index_column": 283893
                },
                {
                  "Userscore": 5,
                  "Comment": "There is one reason alone for purchasing Assassin’s Creed Revelations, Ezio.In Assassin’s Creed II, Ubisoft created what would become one of the most successful video game characters of this generation. Ezio’s elegance, class, humour and all round entertaining persona carried the Assassin’s Creed franchise away from the monotone days of Altiar, into the success it has enjoyed in recentThere is one reason alone for purchasing Assassin’s Creed Revelations, Ezio.In Assassin’s Creed II, Ubisoft created what would become one of the most successful video game characters of this generation. Ezio’s elegance, class, humour and all round entertaining persona carried the Assassin’s Creed franchise away from the monotone days of Altiar, into the success it has enjoyed in recent years. The same can be said for Revelations.The greatest asset of this game is Ezio, the performance by Rodger Smith is spot on and the writing has actually improved in relation to his lines making it more sophisticated to create a more believable story around a man looking for answers, that have deluded him over the previous games. In fact the story that actually centres on Ezio himself has never been so good, it’s a shame the plot around Constantinople is significantly weaker, portraying a power struggling in the Ottoman empire that you simple don’t come to care to much about. Over the game the story of Ezio will be neatly and most importantly satisfyingly tied up into a nice ribbon, doing the previous two games justice. However to get to this point you will have to get threw the other story plots including the Ottomans.The truth about this game is that you have most likely played it before, the fundamental mechanics, gameplay and style of game has not changed drastically since Assassin’s Creed II’s release in 2009. You will still be sent on quests by colourful characters to assassinate certain targets, find out important information to progress the story line and occasionally a nice curveball may be included such as stealing a street entertainers clothing and instrument. There is nothing wrong with this formula, as we know it works, however three games later it’s starting to wear thin.It must be said that Ubisoft has tried to innovate in some areas however even with some success, not enough has been done to actually make this game feel like a sequel rather then an extension pack. The hook blade does in fact create a new stance on combat and exploration, also the introducing of bomb crafting is a nice touch. Beyond this though is nothing but a tedious fort defence game and minor tweaks to the open world map. There is no way Ubisoft could get away with making so little changes again.Leaving these quarrels behind, if you have played the previous two titles in this series Revelations is definitely worth getting to complete the tale of one of video games most beloved characters, if you haven’t played any of the Assassin Creed games, I would strongly suggest buying Assassin’s Creed II as you get the same gameplay with a better story for a much lower price.In conclusion Revelations was a game needed to put Ezio to rest and it does this well, so it should be commended. Lets just hope that Ubisoft has a something up its sleeve so that it can build upon such a successful franchise.",
                  "Username": "JohnnyMcMichael",
                  "Game_ID": 3412,
                  "_deepnote_index_column": 283894
                },
                {
                  "Userscore": 10,
                  "Comment": "This game is very good, it definitely didn't let me down from the last one, The hook-blade is a very good idea, i like that they changed up the menu, and the storyline just gets better. This game is a great game and  anyone who says it isn't is just a silly goober",
                  "Username": "TeqqVenom",
                  "Game_ID": 3412,
                  "_deepnote_index_column": 283895
                },
                {
                  "Userscore": 9,
                  "Comment": "the game is excellent,good story line between ezio and altair ,many new functions also overall it is the best game new thing is that u can travel many far places in short time",
                  "Username": "robbena13",
                  "Game_ID": 3412,
                  "_deepnote_index_column": 283896
                },
                {
                  "Userscore": 4,
                  "Comment": "The first horrible thing I want to note: unskippable 20 minutes lasting credits. If you're an average person with 8 hours of free time, then consider more than 4% of it wasted due to these damn long credits, so I've decided to rate the game at 4.Ok, now the other things.. First problem I noticed after starting the game was Desmond's new weird baby-face look. I didn't even recognize himThe first horrible thing I want to note: unskippable 20 minutes lasting credits. If you're an average person with 8 hours of free time, then consider more than 4% of it wasted due to these damn long credits, so I've decided to rate the game at 4.Ok, now the other things.. First problem I noticed after starting the game was Desmond's new weird baby-face look. I didn't even recognize him at first, it was way too weird..Moving forward through the game, the story was becoming a bit too much of a mind****, what with Ezio using magic stones to get into Altair's memories and Desmond's mental health problems.. It all seemed way too shady though as everything else from the city was trying to get your attention. What I really didn't get was all the strange new mechanics that the previous games didn't have. To be fair, it's nice to see some new mechanics, but when they come out of nowhere, often leading to your death, you can't help but feel lost in the game. For example, Den Defense seemed new, so did the bombs and new (almost unbeatable) enemies, but I never really got to understanding them all, because there was way too much detail put into them to simply easily comprehend. It would've been good if the story missions didn't endlessly tempt you. The music from Jesper Kyd was great as always, though. I really had a problem with the characters on Ezio's story, they seemed very temporary. And on Altair's side.. I don't understand what happened to his voice. He used to have that calm American accent VA which was kind of a screw-up at first, but since they decided to make him speak in an Arabic accent this time, I could barely even recognize it was the same person. It would've been better if he just spoke the same way as before, would've brought some minor nostalgia.Overall, this game is just too clunky for me to be considered good. It's like they put Brotherhood into a pile of mud, then into a blender, and slowly cooked the resulting mass into what Revelations is now..",
                  "Username": "OldManCoot",
                  "Game_ID": 3412,
                  "_deepnote_index_column": 283897
                },
                {
                  "Userscore": 9,
                  "Comment": "El único problema que le encuentro es que no hace honor a su nombre: no hay \"revelación\", no nos cuentan nada que no supiéramos ya. Por lo demás, es un poco corto (comprensible, dado el tiempo de desarrollo) pero se perdona por poder ver a ese Ezio crepuscular viajando por las tierras de su antepasado a la caza de la verdad y esa estética tan cuidada, propia de los AC.",
                  "Username": "DAOuser",
                  "Game_ID": 3412,
                  "_deepnote_index_column": 283898
                },
                {
                  "Userscore": 8,
                  "Comment": "Gameplay : 9Graphics : 9Story    : 8Sound    : 8**********************************************************************************Overall  : 9",
                  "Username": "Mahdiar",
                  "Game_ID": 3412,
                  "_deepnote_index_column": 283899
                },
                {
                  "Userscore": 6,
                  "Comment": "I  really liked Assassi's Creed 2 and Assassin's Creed: Brotherhood and then I get totally fed up with the same gameplay with Assassin's Creed: Revelations.",
                  "Username": "grrrr",
                  "Game_ID": 3412,
                  "_deepnote_index_column": 283900
                },
                {
                  "Userscore": 7,
                  "Comment": "Assassin's Creed: Revelations is basically the same compared to its predecessors, if not worse. The game stuffed itself with contents, yet only few feel good enough to have a reason to be there in the first place.",
                  "Username": "Tomle1202",
                  "Game_ID": 3412,
                  "_deepnote_index_column": 283901
                },
                {
                  "Userscore": 8,
                  "Comment": "Even the greatest heroes can't live forever. So it goes for Ezio Auditore, who finally steps aside to make room for new champions in Assassin's Creed Revelations. The game sets you loose in a visually stunning recreation of 15h Century Constantinople, where you leap across rooftops like a renaissance superhero. But like many sequels, Assassin's Creed Revelations has many flaws. You loseEven the greatest heroes can't live forever. So it goes for Ezio Auditore, who finally steps aside to make room for new champions in Assassin's Creed Revelations. The game sets you loose in a visually stunning recreation of 15h Century Constantinople, where you leap across rooftops like a renaissance superhero. But like many sequels, Assassin's Creed Revelations has many flaws. You lose horses and other serious improvements in the last game in favor of awkward mechanics that don't belong. Those include first person plat forming and tower defense battles. Neither of which are very good. Thankfully when Assassin's Creed Revelations remembers to be an Assassin's Creed game, it reminds you of what makes this series so great. Assassin's Creed Revelations isn't all about Ezio Auditore's story, it's also Desmond Mile's story. Here Desmond Mile's mind is a prisoner within the animus. This computerized space is presented as an island. Where shimmering doors leads to his ancestor's memories as well as his own. Playing as Desmond Miles isn't as entertaining as is it was in Assassin's Creed Brotherhood. That's due in part to the levels that represent his memories. This synthetic cyberspace environments are a cool backdrop but the gameplay isn't fun. You create blocks and ramps out of thin air and move forward, but the jumping feels flat and the puzzles don't test your mind, they are just frustrating. This is one of Assassin's Creed Revelations attempt to force elements into a game that doesn't benefit from them. Unfortunately, you spend the bulk of your time as Ezio and sometimes as Altair from Assassin's Creed 1. It seems it's near the games conclusion throb with emotional resonance. Yes, there are a few great holy cow moments near the end, but it's the calm before the storm that tides two lives together and thus impresses the most. It makes you realize you will miss these Assassins of centuries past. As for Ezio Auditore's story, it's as tired as the older Ezio looks. Great voice actors sell every line, but the political intrigue among the Sultan's family just isn't that interesting. Still Assassin's Creed Revelations largely impresses thanks to how much fun it is to move through its' world. That's partly because of the gorgeous views. It's partly because of the fantastic soundtrack. But it's also because it's climbing and leaping is so joyful. The addition of the hook blade enhances the parkour of past games. You can climb faster, glide down zip lines and grab walls you would have missed in the past. You can also float downwards with parachutes. The result, plat forming is exhilarating as ever and certain set piece missions, like one in which you escape a burning boat ramp up the excitement. Not every set piece moment is as good as that one. Avoiding rocks as you drag behind a curating carriage isn't fun for example. Assassin's Creed Brotherhood did these kinds of scripted events better albeit Assassin's Creed Revelations does make important improvements. Assassin recruitment returns, but sending your brothers and sisters on missions now has more context. Setting Assassins to different cities reduces Templar control and increases Assassins control. The simple addition of a strategic element keeps recruitment from being simple busy work. In addition, there are quests you do with fully leveled assassins. Now, you actually feel like a mentor. An addition that isn't so good is that of tower defense. You capture Templar regimes, by killing commanders and lighting signal fires, but the Templars will try to get them back which means having to play a boring tower defense game. You stand on a roof, assign assassins to different locations and try to defeat waves of enemies. The simple mechanic structure make this a dull exercise and the camera close-ups of falling Templars disrupt the flow. Tower defense isn't all that's new. Now you can craft bombs out of ingredients you find. Combine them at a crafting station and viola. Bombs that explode release poison gas and so on. Combat has seen other changes such as awesome new finishing moves in addition of enemy gunners. Multiplayer returns as well, with some new modes like death match and capture the flag variant. Death match doesn't have the attention that the returning modes do. It's still more enjoyable to sling through the crowds, blending in while hoping your target slips up and makes himself known. Artifact assault gives you a chance to speed across rooftops with the enemies flag, which is quite fun. But, Assassin's Creed Revelations is at its best when it focuses on what the series does best. The first person puzzling and tower defense are bewildering additions, but when you skyrocket across the rooftops of this magnificent city, the stunning sites transport you to another century. Remember, \"Nothing is true... Everything is permitted\". \"La shai wak'ion motlaq bal kollon momken\". I would give this game a rating of 84 out of 100.",
                  "Username": "Imarullo349",
                  "Game_ID": 3412,
                  "_deepnote_index_column": 283902
                },
                {
                  "Userscore": 7,
                  "Comment": "\"Revelations\" improved \"Assassin's\" world in many ways. But yet I have some mixed feelings about it.On one side, there is a polished gameplay (comparing to assassins released earlier) and a solid story, on the other side some additions to the story (I mean animus) and DLC content didn't work as much as I had hoped, some episodes in story were either boring or poorly directed (death of\"Revelations\" improved \"Assassin's\" world in many ways. But yet I have some mixed feelings about it.On one side, there is a polished gameplay (comparing to assassins released earlier) and a solid story, on the other side some additions to the story (I mean animus) and DLC content didn't work as much as I had hoped, some episodes in story were either boring or poorly directed (death of Lucy).Anyway, the game is a good ending to the story of Ezio, maybe not as epic as many had hoped, but good anyway.",
                  "Username": "jelikey",
                  "Game_ID": 3412,
                  "_deepnote_index_column": 283903
                },
                {
                  "Userscore": 10,
                  "Comment": "I just started playing this game a few days ago and i must say this is a very addictive game. I am a big fan of the AC series and i am aiming to complete all the games until AC Unity before the arrival of  AC : Syndicate. Anyone who has played AC 1,2 and Brotherhood should not miss this one",
                  "Username": "Nishchaya",
                  "Game_ID": 3412,
                  "_deepnote_index_column": 283904
                },
                {
                  "Userscore": 10,
                  "Comment": "this game it is look like other AC game but for me the story was interesting and it had letter better graphic then other games in the series.",
                  "Username": "gameboy92",
                  "Game_ID": 3412,
                  "_deepnote_index_column": 283905
                },
                {
                  "Userscore": 4,
                  "Comment": "Not a very good game in the first place, and destroyed completely by several game-crashing bugs that were never fixed. The controls have been slightly improved from the first 3 games, but 80% of the game is a repeated loop of:1. Do some random missions2. Find a book3. Get the book4. Find a masyaf key5. Get the masyaf key6. Play an Altair memory7. Repeat",
                  "Username": "tsmith18256",
                  "Game_ID": 3412,
                  "_deepnote_index_column": 283906
                },
                {
                  "Userscore": 10,
                  "Comment": "Assassin's Creed: Revelations é perfeito,uma obra-prima.O melhor jogo que já joguei sem contar enredo,gráficos,jogabilidade e todo o carisma de Ezio,que lhe faz a ubisoft ter minha nota dez dessa vez...",
                  "Username": "JoaoGrilo",
                  "Game_ID": 3412,
                  "_deepnote_index_column": 283907
                },
                {
                  "Userscore": 8,
                  "Comment": "worst of ezio trilogy but it is really good game. gameplay mechanics are same as 2 and brotherhood. added bomb mechanics and hookblade. bomb mechanics are complex and usefull. hookblade makes easier climbing. battle system is same as brotherhood but  guards are really powerful. it is harder than brotherhood. assassin training missions good and strange. generally side missions areworst of ezio trilogy but it is really good game. gameplay mechanics are same as 2 and brotherhood. added bomb mechanics and hookblade. bomb mechanics are complex and usefull. hookblade makes easier climbing. battle system is same as brotherhood but  guards are really powerful. it is harder than brotherhood. assassin training missions good and strange. generally side missions are interesting. main missions disasppointed me. action is weak because there is nothing to do in city. ezio fighting with byzantines but city is ottoman city so ezio rarely fighting. main missions are following and sometimes assasinating. scenario is good. i liked it. some people don't like but i liked. altair's missions completed the story and interesting. graphics is better. saving costantinople from byzantine rebels like saving rome from borgias. it is enjoyablesummary: not very good and not bad. you should play for story of series",
                  "Username": "scarfake",
                  "Game_ID": 3412,
                  "_deepnote_index_column": 283908
                },
                {
                  "Userscore": 9,
                  "Comment": "A final installment in the Assassin's Creed Ezio trilogy is my personal favourite. While it's not revolutionary by far it improves on it's predecessors and delivers an interesting story in a rich and superbly designed environment.The story this times takes place in Constantinople and ties all loose ends. Apart from writing the final chapter for Ezio it also revisits Altair who is alsoA final installment in the Assassin's Creed Ezio trilogy is my personal favourite. While it's not revolutionary by far it improves on it's predecessors and delivers an interesting story in a rich and superbly designed environment.The story this times takes place in Constantinople and ties all loose ends. Apart from writing the final chapter for Ezio it also revisits Altair who is also a playable character in certain chapters. And it was great to learn what happened to Altair and how both he and Ezio are tied together. The cut scenes are really nicely put together and the whole story is quite interesting.Visually it's also an improvement although not breath taking. The characters are better animated, the environment is well designed and does remind of life teaming city packed with a lot of people. The map overall might be a bit smaller but it's so well designed that it's an actual improvement over the somewhat empty spaces we could encounter in the previous installments. I must admit the city - the way it looks, the way it's structured and how you move around it is what probably makes it my favourite Assassin's Creed game.The mechanics for the most part are the same. With just the addition of bombs which are quite annoying to craft and not that useful and the hook which lets you climb higher places and also zip line which is super fun - the rest almost unchanged. The whole structure of the game remains the same. And it's absolutely fine as you get to do them in a great environment.Overall as mentioned - definitely my favourite Assassin's Creed game. Though somewhat requires you to play the previous ones to fully appreciate the story it ties up. Can't recommend enough.",
                  "Username": "agurczuk",
                  "Game_ID": 3412,
                  "_deepnote_index_column": 283909
                },
                {
                  "Userscore": 8,
                  "Comment": "First of all, the Ezio trilogy is one great piece of gaming entertainment. Even AC 2 and Brotherhood, both, being better than this game, revelations is very entertaining with a good story and a great ending for Ezio AND Altair. The ending is very emotional and good the writing is good. Who never playedf this game needs to try it out.+ Good visuals, Story, gameplay- The City of thisFirst of all, the Ezio trilogy is one great piece of gaming entertainment. Even AC 2 and Brotherhood, both, being better than this game, revelations is very entertaining with a good story and a great ending for Ezio AND Altair. The ending is very emotional and good the writing is good. Who never playedf this game needs to try it out.+ Good visuals, Story, gameplay- The City of this games feels a little bit boring when you compare it to AC 2 and Brotherhood (No horses), a little bit too short",
                  "Username": "DanteDylan",
                  "Game_ID": 3412,
                  "_deepnote_index_column": 283910
                },
                {
                  "Userscore": 7,
                  "Comment": "this is weakest assassins creed game in the Ezio Franchise its not as great as 2 or brotherhood",
                  "Username": "omer123",
                  "Game_ID": 3412,
                  "_deepnote_index_column": 283911
                },
                {
                  "Userscore": 7,
                  "Comment": "Continuación del anterior con nuevos escenarios y alguna que otra mecánica, como el hookblade o los viajes rapidos. Juego aceptable dentro de la saga.",
                  "Username": "sevifc",
                  "Game_ID": 3412,
                  "_deepnote_index_column": 283912
                },
                {
                  "Userscore": 8,
                  "Comment": "Me encanta este Assassin's Creed puede que no sea tan bueno como el primer Assassin's Creed pero se mantiene a raya a su calidad y añade mejoras de gráficos y jugabilidad. Vale la pena su compra cada euro los vale.",
                  "Username": "Pedobear987",
                  "Game_ID": 3412,
                  "_deepnote_index_column": 283913
                },
                {
                  "Userscore": 7,
                  "Comment": "Es el final de la trilogía de Ezio. Tengo que admitir que las demás armaduras de este juego son demasiado voluminosas y no me gustaron en absoluto, pero también tengo que admitir que su diseño fue interesante. La mejor armadura visualmente en mi opinion fue la del inicio, la cual teñi varias veces para disfrutarla en diferentes colores.Ahora a lo que importa. La historia de este juegoEs el final de la trilogía de Ezio. Tengo que admitir que las demás armaduras de este juego son demasiado voluminosas y no me gustaron en absoluto, pero también tengo que admitir que su diseño fue interesante. La mejor armadura visualmente en mi opinion fue la del inicio, la cual teñi varias veces para disfrutarla en diferentes colores.Ahora a lo que importa. La historia de este juego está buena, no es una mala historia, pero deja algunos cabos sueltos. No es la mejor historia del mundo, pero tampoco es la peor. Este juego fue el primero en meter el famoso gancho que sirve para escalar más rápidamente, y recuerdo que fue en el primer juego donde el dinero no me sobraba, (quizá debido a que su historia era corta, y que tuve menos tiempo para hacer dinero).Es un buen juego con mala historia... Tan simple como eso.",
                  "Username": "Nyakuya",
                  "Game_ID": 3412,
                  "_deepnote_index_column": 283914
                },
                {
                  "Userscore": 8,
                  "Comment": "Not as good as Brotherhood and it ends quickly, but keeps the high quality level Brotherhood has set. Lacks a bit of story and spirit to be great, but it is very good, sometimes serious, sometimes funny, its just too short to really get into. Out of first four AC games this one is second the best, behind Brotherhood.",
                  "Username": "Krzych",
                  "Game_ID": 3412,
                  "_deepnote_index_column": 283915
                },
                {
                  "Userscore": 7,
                  "Comment": "Es un buen juego, aunque la historia me termino aburriendo mas que las anteriores (lo de crear bombas y tener que hacer estrategias para que no pasen los templarios me aprecio muy aburrido), a excepción de la historia de Altair y el final.",
                  "Username": "Diegochocho",
                  "Game_ID": 3412,
                  "_deepnote_index_column": 283916
                },
                {
                  "Userscore": 4,
                  "Comment": "ENG-RUOne of a series of games which is generally not caught. Everything happens at one location, ran 500 meters to take the job, did it, run again 300-500 meters and so the whole game. There are no interesting characters, memorable chips or moments, too, only **** bombs sell, although they are not needed at all, there is management, but there is no sense in it, there is littleENG-RUOne of a series of games which is generally not caught. Everything happens at one location, ran 500 meters to take the job, did it, run again 300-500 meters and so the whole game. There are no interesting characters, memorable chips or moments, too, only **** bombs sell, although they are not needed at all, there is management, but there is no sense in it, there is little equipment, it all opens only when passing each Chapter, you can buy different buildings, but it does not give anything and it is not interesting to do, plus it is very expensive. The only value of this part is the story of Altair and the way he came. It is sad that it is disgusting at the same time that Altair finished like this, although he lived to old age, there was a wife, children, faith, but...people is rotten, the order and with it the faith and commitment of those people who put everything to him. Oh Yes, and the ending is complete nonsense, but Ezio himself, who in part 2 was a young and cheerful boy, here turned into someone else,although one advantage it has that I did not become a slave to Apple and in the whole man he is not bad.Одна из всех серии игр которая вообще не зацепила. Все происходит на одной локации, побежал 500 метров для того чтобы взять задание, выполнил его, беги опять метров 300-500 и так всю игру. Персонажей интересных нет, запоминающихся фишек или моментов тоже, только сраные бомбы впаривают, хотя они и вовсе не нужны, есть менеджмент, но смысла в нем нет, экипировки мало, вся она открывается только при прохождении каждой главы, можно покупать разные здания, но это ничего не дает и этим неинтересно заниматься, плюс это очень дорого. Единственная ценность этой части, это история Альтаира и то как он кончил. Грустно мерзко одновременно, что Альтаир вот так закончил, хоть и дожил до преклонных лет, была жена, дети, вера, но...люди прогнили, орден а вместе с ним и вера и стремление тех людей которые положили для него все. Ах да еще и концовка полный бред, но и сам Эцио, который во 2 части был молодым и веселым мальчуганом, здесь превратился в кого -то другого,хотя один плюс он имеет, что не стал рабом яблока и в целом человек он не плохой.",
                  "Username": "Mobile",
                  "Game_ID": 3412,
                  "_deepnote_index_column": 283917
                },
                {
                  "Userscore": 8,
                  "Comment": "This time around the game-play feels a chore and boring, because nothing really new is added. A few innovations here and there but it was still fun to play if you played it for the story, and environment. It was an important entry in properly finishing the Ezio saga, and they did it right!",
                  "Username": "CoKronakan",
                  "Game_ID": 3412,
                  "_deepnote_index_column": 283918
                },
                {
                  "Userscore": 9,
                  "Comment": "(87/100)An emotional ending to the Ezio Trlogy. I'm sad it's over but it ended the trilogy very well.",
                  "Username": "merijnj",
                  "Game_ID": 3412,
                  "_deepnote_index_column": 283919
                },
                {
                  "Userscore": 10,
                  "Comment": "The follow-up to AC Brotherhood.I was undecided for a moment whether it should be a 9 or a 10 but I would give it a 9,5 which rounds up to a 10.Positive points for me were the setting of Constantinopolis which was an emotional setting. The music was very atmospheric again and in some missions activated some uplifting spirits. Forum of the Ox and Agia Sophia temple entry music setThe follow-up to AC Brotherhood.I was undecided for a moment whether it should be a 9 or a 10 but I would give it a 9,5 which rounds up to a 10.Positive points for me were the setting of Constantinopolis which was an emotional setting. The music was very atmospheric again and in some missions activated some uplifting spirits. Forum of the Ox and Agia Sophia temple entry music set the mood nicely.Minor criticism is for the unnecessary tower defence and animus block missions and the artistic colours which I found hard to digest in some cases like the style of the Janissaries.Overall it is slightly less than Brotherhood but still a 10, looking back I had a positive long-lasting feeling from this game.",
                  "Username": "Meta1234",
                  "Game_ID": 3412,
                  "_deepnote_index_column": 283920
                },
                {
                  "Userscore": 10,
                  "Comment": "This is the conclusion of the story with the memories of Altair and you will see really interesting gameplay and learn more for the main character from the first AC",
                  "Username": "ItsGosho",
                  "Game_ID": 3412,
                  "_deepnote_index_column": 283921
                },
                {
                  "Userscore": 8,
                  "Comment": "It was an honour to be a companion of Ezio the Auditore. Solid game after its predecessor.",
                  "Username": "aralath",
                  "Game_ID": 3412,
                  "_deepnote_index_column": 283922
                },
                {
                  "Userscore": 9,
                  "Comment": "Platform game and action very entertaining and bloody. It is a frantic game, especially when we are moving forward and the levels become more complicated.It is very well adapted to the Switch version, both controls, gameplay and different game modes. Some game modes are unique in this platform.Some of the game modes it has are local and online multiplayer, creation of our own scenarioPlatform game and action very entertaining and bloody. It is a frantic game, especially when we are moving forward and the levels become more complicated.It is very well adapted to the Switch version, both controls, gameplay and different game modes. Some game modes are unique in this platform.Some of the game modes it has are local and online multiplayer, creation of our own scenario to play it ourselves or share it on the internet and the traditional way of overcoming internal levels of the game itself.It is a game that engages a lot because at first it seems easy but at the few levels we can realize that it is not easy, but on the contrary, it is very complicated, but despite that we will be playing for hours to get through that such a difficult level.If you liked Super Meat Boy, this game sure is also to your liking.",
                  "Username": "yitus",
                  "Game_ID": 3413,
                  "_deepnote_index_column": 283923
                },
                {
                  "Userscore": 9,
                  "Comment": "This game is practically a perfect platformer, as everything in the game is fun to play against and the controls are very nice, alongside a crossplatform user made map selection to choose from. The only reason I don't give it a 10 is because of the clone items, where a clone of yourself is made when you touch the item. It's the only item in the game that makes me constantly stop playingThis game is practically a perfect platformer, as everything in the game is fun to play against and the controls are very nice, alongside a crossplatform user made map selection to choose from. The only reason I don't give it a 10 is because of the clone items, where a clone of yourself is made when you touch the item. It's the only item in the game that makes me constantly stop playing and it feels cheap, it's just not enjoyable at all. But other than that, it's platforming perfection.",
                  "Username": "VahNabooty",
                  "Game_ID": 3413,
                  "_deepnote_index_column": 283924
                },
                {
                  "Userscore": 4,
                  "Comment": "Great artwork, but terrible, terrible, controls. The first episode's controls were bad, this made them worse. The game tries to be a modern Metal Slug, but it lacks the core simplicity.",
                  "Username": "stop9091",
                  "Game_ID": 3414,
                  "_deepnote_index_column": 283925
                },
                {
                  "Userscore": 6,
                  "Comment": "It´s a fun game, better than the first but it´s so much short. Amost 13 euros for 4-6 hours is not enough.",
                  "Username": "BeTTaRuFF",
                  "Game_ID": 3414,
                  "_deepnote_index_column": 283926
                },
                {
                  "Userscore": 1,
                  "Comment": "Beautiful looking game but, unfortunately, as someone mentioned, virtually unplayable due to the god-awful controls. There's like trillion inputs, both keyboard and mouse, for what is supposed to be a plain straightforward run-and-gun. The game won't recognize my joystick and it wouldn't do me any good if it did since I \"only\" have 10 buttons at my disposal and the app requires, like, 30.Beautiful looking game but, unfortunately, as someone mentioned, virtually unplayable due to the god-awful controls. There's like trillion inputs, both keyboard and mouse, for what is supposed to be a plain straightforward run-and-gun. The game won't recognize my joystick and it wouldn't do me any good if it did since I \"only\" have 10 buttons at my disposal and the app requires, like, 30. Devs should have stuck with the good old formula \"the less is more\". Instead, we got a game where one must use mouse cursor just to make the character face the other way (?!?!). Long story short, control inputs have ruined what might have been a great game. Since it can't even be played properly, the score of zero would be more appropriate but I'll reward it with one solely on account of nice art-style and the fact I loved the first game.",
                  "Username": "ticroo",
                  "Game_ID": 3414,
                  "_deepnote_index_column": 283927
                },
                {
                  "Userscore": 9,
                  "Comment": "GGC2 is really an awesome game! Yeah people say it is short (which is true) but seriously at that price, you really get a lot of bang for your buck; it's FUN, provides various types of gun to let your creativity run wild on your enemies, the artwork is very impressive for its genre and the scenario / gameplay is cool. And finally, you get to play co-op with a friend which makes theGGC2 is really an awesome game! Yeah people say it is short (which is true) but seriously at that price, you really get a lot of bang for your buck; it's FUN, provides various types of gun to let your creativity run wild on your enemies, the artwork is very impressive for its genre and the scenario / gameplay is cool. And finally, you get to play co-op with a friend which makes the experience so much better (my friend and I had so much laugh while playing it!). I definitely recommend this game to anyone who likes to play games for simple fun. We truly need more games like this one..",
                  "Username": "martinbadia",
                  "Game_ID": 3414,
                  "_deepnote_index_column": 283928
                },
                {
                  "Userscore": 10,
                  "Comment": "Loved the first one, love this one as well.The artworkthe atmospheremusicvariety of weapons and enemiescontrolslevel of challange and so on...All is 10/10 IMO.It is a short game, but the action is constant, cut-scenes have the perfect lenght and are worth watching witht the humor they have to offer, and there is never a feeling of grind or boredom, so despite the gameLoved the first one, love this one as well.The artworkthe atmospheremusicvariety of weapons and enemiescontrolslevel of challange and so on...All is 10/10 IMO.It is a short game, but the action is constant, cut-scenes have the perfect lenght and are worth watching witht the humor they have to offer, and there is never a feeling of grind or boredom, so despite the game being completed after 3-4h, it is definetly worth the price.I only completed the \"Normal\" difficulty, and there are 2-3 higher ones, so could imagine that would take much longer, which is something I might test out.I hope the developers will keep doing these, with the same or different skins, as long as the same level of quality remains.",
                  "Username": "junglebrother",
                  "Game_ID": 3414,
                  "_deepnote_index_column": 283929
                },
                {
                  "Userscore": 8,
                  "Comment": "A very good game but not for casual gamers. You need to think really carefully what you do with your heroes and what weapon you choose against a specific enemy. Nowadays, there are hardly any games like this one - games that demand from player to use his brain and not to just randomly hit keys like in AAA titles and spam an enemy to death. It won't work in here so any average triple A gameA very good game but not for casual gamers. You need to think really carefully what you do with your heroes and what weapon you choose against a specific enemy. Nowadays, there are hardly any games like this one - games that demand from player to use his brain and not to just randomly hit keys like in AAA titles and spam an enemy to death. It won't work in here so any average triple A game fan might get lost in here.What I think is the best in the game is difficulty curve, which makes it real and competitive through all the gameplay. You can't just create immortal team of super-hero characters with legendary weapons all -around that hack and slash through everything. Every man in your team is a living being that can get killed just like any other man if you get a little too careless in a dangerous situation. This aspect of the game makes many fights puzzles where you have to think what to do; wheather to make a spear wall formation against dire wolves or take strategic advatnage of terrain and place your soldiers on grass tiles in a swampy area just to make the enemy come there and ... get stuck swamp.Economy is also nicely done as it gives you some options to earn money; you can either sell loot from defeated foes; trade certain goods in specific areas for bigger profit or get quest rewards. Generally, if you think you will have no economic problems in here.If you like to use brain in games and think of fights like of puzzles and you are looking for a virtual challenge then this game is for you.",
                  "Username": "Amiga1200",
                  "Game_ID": 3415,
                  "_deepnote_index_column": 283930
                },
                {
                  "Userscore": 4,
                  "Comment": "You randomly get hit twice and die and can't hire people quick enough to make up for it; not sure how people are beating it.  I don't play video games to have a bleak and RNG-filled time.",
                  "Username": "Itsapaul",
                  "Game_ID": 3415,
                  "_deepnote_index_column": 283931
                },
                {
                  "Userscore": 10,
                  "Comment": "One of the best indie titles released in recent years. Considering it was made by a very tiny studio the game is really quite good. It was heavily influenced by Mount & Blade, X-COM and the Jagged Alliance series. It has a randomly generated open world, great music, and a very charming 2D art style with an incredible amount of detail on the models.It has a deep tactical level of playOne of the best indie titles released in recent years. Considering it was made by a very tiny studio the game is really quite good. It was heavily influenced by Mount & Blade, X-COM and the Jagged Alliance series. It has a randomly generated open world, great music, and a very charming 2D art style with an incredible amount of detail on the models.It has a deep tactical level of play and you need to be able to react quickly to the changing tides of battle. Like with Darkest Dungeon, not every fight can be won and RNG is RNG. Sometimes you need to run away to save yourself. I guess some people can't handle that aspect of the game, just like some people can't handle Darkest Dungeon or the X-COM series.The game has over a 92% positive review score on Steam. Don't allow some people who are sour that they can't spam \"X\" to win at the game and upset that they actually have to do some tactical thinking keep you from giving a great indie game a try.",
                  "Username": "macharius39",
                  "Game_ID": 3415,
                  "_deepnote_index_column": 283932
                },
                {
                  "Userscore": 7,
                  "Comment": "Despite being a very good game, Battle Brothers has one major flaw - no goal. Yes, it's fun to develop your crew, gather loot and gain renown in the land, but it really feels futile when you realize that it is all for naught. I really dislike endless games, since they feel unfinished. It sucks when you can't get a sense of closure. Many players asked for mod support and I really hope theDespite being a very good game, Battle Brothers has one major flaw - no goal. Yes, it's fun to develop your crew, gather loot and gain renown in the land, but it really feels futile when you realize that it is all for naught. I really dislike endless games, since they feel unfinished. It sucks when you can't get a sense of closure. Many players asked for mod support and I really hope the devs will listen at some point, since the game still has a lot of unused potential.",
                  "Username": "Thilus",
                  "Game_ID": 3415,
                  "_deepnote_index_column": 283933
                },
                {
                  "Userscore": 4,
                  "Comment": "The only thing keeping me from giving this game a 9-10 is the schizophrenic power creep. The game is fairly balanced early on but the battles either become far to easy or insanely difficult. This is exacerbated greatly late game, where you either win without taking a scratch in an insultingly easy battle or all your mercs are cheezed to death by completely overpowered end game enemies.The only thing keeping me from giving this game a 9-10 is the schizophrenic power creep. The game is fairly balanced early on but the battles either become far to easy or insanely difficult. This is exacerbated greatly late game, where you either win without taking a scratch in an insultingly easy battle or all your mercs are cheezed to death by completely overpowered end game enemies.Compound that with the fact that the game is extremely stingy with giving the player resources to recoup from losses it either forces you to retire early or constantly redo saves which reduces the game to random number generator.  I think the endgame stuff (132 days) is designed to kill a handful of your veteran's (In my current save I have to take on 15 undead legionaries with necrosavants, honor guard, and undead priests in a god damn swamp)  and I get it your trying to make it gritty, but if you give the player no/very limited options to recoup than its an arbitrary middle finger and turns an otherwise fun game into an arbitrary frustrating waste of time. \"Rocks fall everyone dies\" in other words.TL:DR its gritty low fantasy XCOM set in medieval not Europe, with same intrinsic problems late game XCOM has.",
                  "Username": "Wulfenstien",
                  "Game_ID": 3415,
                  "_deepnote_index_column": 283934
                },
                {
                  "Userscore": 10,
                  "Comment": "A fantastic strategical experience, one of the best indie games released in the last decade. The possibilities for expansions and more content are endless.Excellent tactical combat and a lot of resource management/company management. Definitely recommended to anyone that is into tactical turn based strategy games.Not recommended for people with no patience",
                  "Username": "Jimmious",
                  "Game_ID": 3415,
                  "_deepnote_index_column": 283935
                },
                {
                  "Userscore": 0,
                  "Comment": "So much promise so little gameplay.  Played almost 100 hrs and hoping for that breakthrough moment but I was met with only disappointment.  Trust me your better off not playing this game.  This is one of those games that fills you with hope and excitement for the first 5 to 10 hours before slamming the door in your face.  It's almost like each campaign hits a paywall except you've alreadySo much promise so little gameplay.  Played almost 100 hrs and hoping for that breakthrough moment but I was met with only disappointment.  Trust me your better off not playing this game.  This is one of those games that fills you with hope and excitement for the first 5 to 10 hours before slamming the door in your face.  It's almost like each campaign hits a paywall except you've already paid full price so WTH.  In other words the difficulty curve in the second half is unbalanced.  Mods may be able to fix this game with fun to play scenarios but until then it is a total waste of time and money!",
                  "Username": "riley794",
                  "Game_ID": 3415,
                  "_deepnote_index_column": 283936
                },
                {
                  "Userscore": 9,
                  "Comment": "Challenging game with new content coming out regularly.  In terms of gameplay, think medieval/fantasy X-Com and you aren't too far off.  Art is relatively minimalist but competent.  Battles feel like an intense game of chess.  Writing could be a bit better.  I've gotten many hours out of this one and expect that I'll be back for many more.",
                  "Username": "Topace3000",
                  "Game_ID": 3415,
                  "_deepnote_index_column": 283937
                },
                {
                  "Userscore": 6,
                  "Comment": "A good game but gets boring extremely fast. The game revolves around the turn-based combat, which is fun but very repetitive. The map seems not exploited to its full potential and the game is lacking some end-game goals. Hope it will be improved with patches because the base game is solid.",
                  "Username": "ShooP",
                  "Game_ID": 3415,
                  "_deepnote_index_column": 283938
                },
                {
                  "Userscore": 10,
                  "Comment": "Absolutely fantastic, addictive game, I think of it as a mix of Xcom and Mount & Blade, very unforgiving at first (start in lowest difficulty even if you're good at those games or you'll probably get slaughtered and/or starved out of resources), but once you learn how it works it's tons of fun. The wiki explains some less obvious mechanics if needed.",
                  "Username": "Microloutre",
                  "Game_ID": 3415,
                  "_deepnote_index_column": 283939
                },
                {
                  "Userscore": 4,
                  "Comment": "I just tried it and the weird arm-less people and muddy visuals literally made me vomit a little in the back of my throat.  I'd love to review the other aspects of the game, but I'll never be able to get over how *ugly* it is.The final nail in the coffin is that there's no magic.",
                  "Username": "night4",
                  "Game_ID": 3415,
                  "_deepnote_index_column": 283940
                },
                {
                  "Userscore": 2,
                  "Comment": "Miss nearly all of your attacks, never get enough loot to get decent upgrades. You don't get enough money from quests to pay for everything you need. I get having a challenge, but making it impossible is frustrating as hell.",
                  "Username": "seanb1979",
                  "Game_ID": 3415,
                  "_deepnote_index_column": 283941
                },
                {
                  "Userscore": 5,
                  "Comment": "The Pros:- nice music- great variety of equipment- some interest events- great enemy varietyThe Con.- RNG may be fair BUT losing one of your man due to poor roll is much worse than your enemy losing one of theirs , because the enemy population do not follow any rules of growth; they are like grains of sand mites crawling all over the place, and are spontaneously generated allThe Pros:- nice music- great variety of equipment- some interest events- great enemy varietyThe Con.- RNG may be fair BUT losing one of your man due to poor roll is much worse than your enemy losing one of theirs , because the enemy population do not follow any rules of growth; they are like grains of sand mites crawling all over the place, and are spontaneously generated all over the world, while good recruits are RARE, EXPENSIVE, HARD TO TRAIN and NOT EXPANDABLE (other RNG games allow for easier replacement of gd ppl as long as you have the resources, but not here), and thus an unlucky RNG for you is a Nuke in the face but a pinprick on the enemy's pinky. Despite much player feedback, devs are not responsive and slow to implement measures to allow for EASIER replacement of your men, which will allow for their death to be NOT SO FRUSTRATING (measure such as buying level with gold).Just this 1 con makes the game EXTREMELY FRUSTRATING (the MOST FRUSTRATING RNG game ever). Even though, in the game, there are nuggets of enjoyment, the PURE AGONY OF LOSING A HARD TO REPLACE dead men thanks to RNG devil COMPLETELY overshadows ALL that is good about this game. For this reason, DID NOT buy this game unless you wish to experience hell on earth.Oh, and did i mention that dead soldiers are hard to replace?",
                  "Username": "Mercent",
                  "Game_ID": 3415,
                  "_deepnote_index_column": 283942
                },
                {
                  "Userscore": 5,
                  "Comment": "Great game but that RNG is fuken ridiculous and I play TBS games 20 years. I love challenging games like XCOM, jagged alliance,  on hardest difficulties or hardcore TBS Gorky 17 but I never really felt frustrated playing them, sure you spit some vulgarisms and so but at the end its just a game and you come back. Battle brothers RNG chances are random, really random, roguelike random to theGreat game but that RNG is fuken ridiculous and I play TBS games 20 years. I love challenging games like XCOM, jagged alliance,  on hardest difficulties or hardcore TBS Gorky 17 but I never really felt frustrated playing them, sure you spit some vulgarisms and so but at the end its just a game and you come back. Battle brothers RNG chances are random, really random, roguelike random to the point its just unpredictable mess",
                  "Username": "Perun",
                  "Game_ID": 3415,
                  "_deepnote_index_column": 283943
                },
                {
                  "Userscore": 3,
                  "Comment": "Pros: Good Music, Gameplay is fun (while it lasts), well written characters when you do get a dialogue which is rare sadly. (Just write some more text I mean... can't be that hard to write text events guys)Cons: Too short, Gets too easy very fast when you get metal armor, Events are poorly done and way too short, leaves you with a \"meh\" feeling overall which is a shame because it hadPros: Good Music, Gameplay is fun (while it lasts), well written characters when you do get a dialogue which is rare sadly. (Just write some more text I mean... can't be that hard to write text events guys)Cons: Too short, Gets too easy very fast when you get metal armor, Events are poorly done and way too short, leaves you with a \"meh\" feeling overall which is a shame because it had potential. It has no endgame at all... none. So don't expect to get more than a week out of it.I'll just say the game started out strong then suddenly the difficulty fell off a cliff and everything got boring very fast. The worst was when the late game event started (orc invasion) I thought \"oh man things are going to get crazy now\". Nah still pretty boring. Then suddenly 30 game days later the war was suddenly over and some soldiers passing me on the road from a faction I was strongly allied with (and killed oh I dunno a hundred or so orcs for) called me a wuss and I was given the option to fight them or retire (LOL ok) so I chose to fight them and the friggin game won't even let you do that... Also a 30 day orc war!? Really only 30 days!? Laaaaaame! Why would you shoot your endgame in the foot like that? Even if I wanted to hit the \"continue onward anyway\" button they made this stupid level 11 cap for all the mercs. Why? There's no point in continuing the game anyway after the orc invasion because other events just don't happen and by that time you're overpowering everyone with heavy armor anyway. The game woon't even let you imagine that there's endgame content because there's no treasure hunts for unique weapons even worse the unique weapons you do find are the most boring underwhelming things I've ever seen... that's just laziness IMO. I'm sorry but this game is completely lacking in actual content after less than a week of gameplay.",
                  "Username": "djvampyre",
                  "Game_ID": 3415,
                  "_deepnote_index_column": 283944
                },
                {
                  "Userscore": 10,
                  "Comment": "I checked the videos a lot before buying. Bought it during a discount and I can say today that those were some of the best 13 euros spent in games for the year.Very addictive game that you will probably really start to get after the 3rd or 4th play-through (not complete of course). Set up your little band of mercenaries and become a legend in a world occupied by orcs, undead and (3)I checked the videos a lot before buying. Bought it during a discount and I can say today that those were some of the best 13 euros spent in games for the year.Very addictive game that you will probably really start to get after the 3rd or 4th play-through (not complete of course). Set up your little band of mercenaries and become a legend in a world occupied by orcs, undead and (3) human houses/factions that try to dominate it.You take sides (with the houses - orcs & undead are not to be negotiated! :-P ), strengthen your group and try to survive. There are various professions and character perks that make your characters unique and you get attached to them. Build them up and keep them alive till then end (or for as long as possible!)Recommended!",
                  "Username": "bilbo1973",
                  "Game_ID": 3415,
                  "_deepnote_index_column": 283945
                },
                {
                  "Userscore": 8,
                  "Comment": "A well-crafted RPG game in medieval setting with turn-based battles. Somewhere between Expedition Conquistador, Battle for Wesnoth and Jagged Alliance.Pros:- the game is very \"atmospheric\", it portrays the cruelty of real battles (well, at least as much as you are allowed to do that in a mass-market medium like games).. E.g. the faces of soldiers get scarred and bruised as they takeA well-crafted RPG game in medieval setting with turn-based battles. Somewhere between Expedition Conquistador, Battle for Wesnoth and Jagged Alliance.Pros:- the game is very \"atmospheric\", it portrays the cruelty of real battles (well, at least as much as you are allowed to do that in a mass-market medium like games).. E.g. the faces of soldiers get scarred and bruised as they take damage- the dialogs and texts are very well written and are interesting to read- the 2D graphics style with pawn-like soldiers actually works pretty well. It's great how, without any animations of soldiers, the battles still look nice. There are many faces in the game and they basically carry this game's whole visual style- a solid system of character upgrades, items etc - this reminded me JA2 the most- the world is randomly generated!So-so:- the utter randomness of everything. Most attacks are done at 30-50% hit chance, even when you are on a tile next to the target. Sigh.. I know all the argument about why RPGs have randomness but I'm a continental European, not an American or British, so I strongly prefer games without fog of war and no dice rolls. So, this game is NOT a strategy game, it's an RPG. If you like RPGs more than strategy you will love it, but if you're more into strategy you may find yourself replaying the same battle and getting vastly different results from basically the same tactics, which, to me, turns myself into some kind of a passive observer rather than active decision-maker. On the other hand, you can see this randomness as just the \"realism\". I mean, as a mercenary you can die any moment, even if you are very experienced and have all the best armor etc. Btw to prevent save scamming you can't save during battles.Cons:- (nitpicking) no tutorial, instead they have 2 videos on youtube (1 about combat, the other about the world map and party management) which I did find pretty well done. However, I'd prefer an offline tutorial. Without watching the videos, some game rules can't be easily guessed and will make your first experience very frustrating. E.g. if you archer is in melee range (1 tile) from an enemy, you can't retreat because the enemy unit gets a free attack. And not just but also if that attack hits then your move is cancelled! Such unusual stuff definitely requires a proper tutorial at game start.To me, if one could replace hit chances with damage multipliers (e.g. instead of having a 50% chance to hit you would just do 50% of damage but always hit etc) I'd love this game! Maybe this could even be done by editing the config files somewhere, no idea. Probably not though, since these chance-to-hit calculations are spread throughout the whole game, with a multitude of other factors tied to them.",
                  "Username": "iseeall",
                  "Game_ID": 3415,
                  "_deepnote_index_column": 283946
                },
                {
                  "Userscore": 10,
                  "Comment": "Great strategy medieval low-magic game, where tactical turn combat is epic/great. Campaings are sandbox, where towns give you procedural missions in a procedural overland map.Good features of this game are:-Tactical combat of course. You must use different strategies and skills according to your opponents: thugs, goblins, orcs, wolves.... some battles you play are memorable.-PartyGreat strategy medieval low-magic game, where tactical turn combat is epic/great. Campaings are sandbox, where towns give you procedural missions in a procedural overland map.Good features of this game are:-Tactical combat of course. You must use different strategies and skills according to your opponents: thugs, goblins, orcs, wolves.... some battles you play are memorable.-Party management, with lots weapons and gear to use. You must control your money, tools (for repairing gear), food and medicines.-The visuals. The art design is great.-Sandbox style, where you can travel around an interesting overland map, doing the missions you want and trading to earn an extra money.",
                  "Username": "juanval",
                  "Game_ID": 3415,
                  "_deepnote_index_column": 283947
                },
                {
                  "Userscore": 8,
                  "Comment": "This game is good, an A- to and A, but it does get old a little too fast.There are a lot of very interesting decisions made in the design of this game. Not all of them work, but the designers are obviously experienced gamers.The biggest strike I would call attention to is that it plays a bit like a card or board game. These are casual experiences, designed to be completed in aThis game is good, an A- to and A, but it does get old a little too fast.There are a lot of very interesting decisions made in the design of this game. Not all of them work, but the designers are obviously experienced gamers.The biggest strike I would call attention to is that it plays a bit like a card or board game. These are casual experiences, designed to be completed in a couple of hours, so high risk game play works well. Not so well for computer games. In Battle Brothers, the risk to your crew is always very high and the time investment to develop your crew members is also very high (many, many hours of play). I think these two elements are not compatible. Being forced to recruit inexperienced cripples is a design idea that really does not work.Beyond the German setting, the structure of the game is reminiscent of an old classic called Darklands. Other people have noticed this as well. My opinion is that they should study this older game to help influence the evolution of this title a) because they are closely related in concept, b) because this game needs much more depth to reach its (lofty!) potential, and c) because Darklands was fantastic for its time and needs to be revisited.I really wish Overhype Studios well on this fine foundation. Triple A could be in their future.As a final note: Although the writer is talented, and I don't wish to insult him, his sense of humor needs to be weaned out the game. Monty Python-esque humor is very hard to do well. It is PhD level comedy ... not for the amateurs. I feel that the weak humor detracts from the play experience. The writer also ventures into inappropriate and obscene humor. This is not as widely acceptable as the current media would have you think. I feel this should be avoided.",
                  "Username": "MNCCritic",
                  "Game_ID": 3415,
                  "_deepnote_index_column": 283948
                },
                {
                  "Userscore": 10,
                  "Comment": "            This review contains spoilers, click expand to view.        Battle Brother is a game which worth its price.Context :You are the new leader of a medieval warband due to the former captain's death against bandits. You will recruit, equip, level and eventually burry your battle brothers during your travels in a world randomly generated at each new game, between the icy lands of the north to south's sandy beaches passing throw swamp and dark forests.In each worldmap (Mount&Blade like), most of human cities and settlements are ruled by three noble houses, some are also independent, but all will offer you contracts more or less difficult to complete to earn reputation and gold.These contracts are very differents from one another, from caravan escort to orcish fights or graveyard exploration, on tacticals map depending on your location (forest, swamp, snow...).The combat system is very intuitive and tactical, specially recommended for those who like turn-based strategic games (like X-com but less inmersive).Your actions will determine your reputation. Will you be a cruel bandit or a noble mercenary ? Will you flee from battle to fight another day or die with honour ?Visual :See screenshots. The team's graphist is very talented. Arts are excellents and immerse player into game. I love style and textures, and specifically the days and nights effects traducing the time of the day from dawn to dust and vice versa.Audio :Just beautiful. Each ennemie has few specific musics.So with some experience you will know who is ambushing you just by listening ;)Gameplay :On the worldmap, if not paused, time is spending continuously during your actions (travel, camp, repairs, heal) with very nice visual effects. Your main job will be to take contracts, one contract at a time, in towns, castle and cities. Contracts are missions with a narrative context which if you take time to read, generate sometimes shivers or laughs. Suceed and will earn notorioty, gold and upgrade relationship with settlements.Gold is usefull to buy goods, food for your men, equip and heal them.Good relationship enables you to decrease marchant prices. Eventually a bad one will may end in a fight.Notorioty influence events ends or possibilities. Events are triggered depending on your action, the background of your men, their level, randomly... I let you discover those which are a good part of Battle Brother's richness.With all that you will mostly fight to level your men (if they survive) against abundance of ennemies (orcs, gobelins, bandits, knights, undead, ...). Each ennemy faction has its own tactics in battle and you'll have to adapt and prepare your men consequently. It is a nice challenge : panel of weapons, armors and skills will be the key to do so.Most of the time you will decide when and where you'll fight but not always due to night or surprise attack or ambush. Last but not least there are some dungeons to explore with legendary item as reward.As there is no really end to the game, as long as you survive, it's really great to play countless hours with the men you trained from their beginning to the mighty knight or agile bowman he has became (and you may cry their death).Cons :- Band limited, you will not able to rule a castle or manage anything different than your own warband.- No horses in a medieval game (wtf? ;).Pros :+ Very conscientious Devs listening to the community.+ Interesting skills-tree to develop your own tatics.+ Various ennemies (humans, beasts, greenskins, undead).+ Various armor, weapons, goods to trade or craft and more.+ No-end campaign or retire when you want (except premature death ;).+ Each game is unique.+ Donkeys !To conclude, Battle Brothers' world is mainly unexplored, dark and full of terrors. If you like the visual and turn based tactical game with a deep RPG immersion do not hesitate.",
                  "Username": "thedeus",
                  "Game_ID": 3415,
                  "_deepnote_index_column": 283949
                },
                {
                  "Userscore": 10,
                  "Comment": "One of the most addictive games ever and one of the best turn-based strategies. Unforgiving and hard.Low fantasy medieval world setting, which feels more real than most of completely non-fantasy worlds. F.e. comparable with \"Game of Thrones\" world setting. This is also an RPG with resource-management aspect. You really need to think about the future of your every character and theirOne of the most addictive games ever and one of the best turn-based strategies. Unforgiving and hard.Low fantasy medieval world setting, which feels more real than most of completely non-fantasy worlds. F.e. comparable with \"Game of Thrones\" world setting. This is also an RPG with resource-management aspect. You really need to think about the future of your every character and their role in the company in hole - in which way to develop each of them, what perks, specialization to give and in the end whether to keep them or to replace with better and more promising ones. But sometimes or quite often if you are not careful and patient enough they will just die in battle. You should be ready for this anyway no matter how good you think you are in TBS.It's hard to master, but when you learn how to survive, it will be pure pleasure.",
                  "Username": "cottandy",
                  "Game_ID": 3415,
                  "_deepnote_index_column": 283950
                },
                {
                  "Userscore": 7,
                  "Comment": "Pros:-$4.99 guys. Four dollars and ninety-nine cents!-Puzzle concepts numerous and easy to understand-Challenging but never impossible-Good length for the price.Oks:-Minimalist art style. Really embodies the gameplay>graphics mottoConclusion: a refreshing puzzle game for the year after the daunting experience that was the Witness.",
                  "Username": "Underpants158",
                  "Game_ID": 3416,
                  "_deepnote_index_column": 283951
                },
                {
                  "Userscore": 9,
                  "Comment": "This game is simple, but who says that's a bad thing? HAL's newest game is everything I could have wanted in a BoxBoy sequel and more!Pros:- It's only $5- Simplistic design- Amazing puzzles- The comics are hilariousCons:- Not enough levels!",
                  "Username": "GalladeGuy",
                  "Game_ID": 3416,
                  "_deepnote_index_column": 283952
                },
                {
                  "Userscore": 10,
                  "Comment": "All those enjoying a little psychedelic games with music that would normally annoy you, this is a game for you. This game has an intense feeling to it with the wonderful sounds and music. Multiplayer is fun a bunch but can get annoying if all the players don't enjoy the psychedelia.",
                  "Username": "RedJimi",
                  "Game_ID": 3417,
                  "_deepnote_index_column": 283953
                },
                {
                  "Userscore": 10,
                  "Comment": "Great LEGO game and a cool way to tell such a complicated story for the kids. The only thing missing was a hose customiser, would have loved to be able to pimp my ride!",
                  "Username": "Hashtagbebe",
                  "Game_ID": 3418,
                  "_deepnote_index_column": 283954
                },
                {
                  "Userscore": 9,
                  "Comment": "The Lego series is known for it's amazing renditions of many different famous movie franchises, and I have to say, LEGO Lord of the Rings has to be the best so far. With it's absolutely beautiful world, and the old school action we've come to love from the Lego series, just makes this game a must for any Lego fan, Lord of the Rings fan, or anyone wanting to have a great time.",
                  "Username": "Oceanstorm",
                  "Game_ID": 3418,
                  "_deepnote_index_column": 283955
                },
                {
                  "Userscore": 10,
                  "Comment": "Exceeds your expectations. The sheer amount of things to do, replayability, unlockable items/characters. I spent 2 hours just running around the village destroying objects to accrue lego money before moving onto missions (and doing the same thing) Its visually sumptuous. Voice work from the actual actors. Music/ambience  from the movies.I wasnt a big fan of the films but i want toExceeds your expectations. The sheer amount of things to do, replayability, unlockable items/characters. I spent 2 hours just running around the village destroying objects to accrue lego money before moving onto missions (and doing the same thing) Its visually sumptuous. Voice work from the actual actors. Music/ambience  from the movies.I wasnt a big fan of the films but i want to rewatch them now. Lego Marvel Superheroes is just as good.I'm 38 years old",
                  "Username": "theeDarkhorse",
                  "Game_ID": 3418,
                  "_deepnote_index_column": 283956
                },
                {
                  "Userscore": 10,
                  "Comment": "Another LEGO game comes another slice of comedic genius and great all round family fun from TT. The scenes from the films are instantly recognisable, Howard Shore's composition has been injected with nothing but the care it deserves and the gameplay, puzzle and boss designs are nothing short of the best stuff to be released in a LEGO game.And then we have the HUB.... oh the HUB! TheAnother LEGO game comes another slice of comedic genius and great all round family fun from TT. The scenes from the films are instantly recognisable, Howard Shore's composition has been injected with nothing but the care it deserves and the gameplay, puzzle and boss designs are nothing short of the best stuff to be released in a LEGO game.And then we have the HUB.... oh the HUB! The WHOLE of middle earth is there with so much fun, puzzles and exploration.ANYONE who disregards this as \"just another LEGO game\" will be sorely missing out on one of the most fun, entertaining and widely appealing games of the year.Top marks!",
                  "Username": "TheGamer89",
                  "Game_ID": 3418,
                  "_deepnote_index_column": 283957
                },
                {
                  "Userscore": 8,
                  "Comment": "it's actually funny and a little odd to say this, but these LEGO games keep getting better and better, yet, they go unnoticed. I'm aware there's been some shipping issues with this, but oh well.It's actually quite fun",
                  "Username": "gordofredito",
                  "Game_ID": 3418,
                  "_deepnote_index_column": 283958
                },
                {
                  "Userscore": 8,
                  "Comment": "Another great Lego game. This game perfectly re-enacts The Lord of the Rings Trilogy.  The game has a massive amount of collectibles to collect that will take you tons of hours to get everything.  The only annoying thing about this game has to do with the platforming...it's sometimes hard to judge how far to jump due to the camera and you will fall into the water countless times.  OtherAnother great Lego game. This game perfectly re-enacts The Lord of the Rings Trilogy.  The game has a massive amount of collectibles to collect that will take you tons of hours to get everything.  The only annoying thing about this game has to do with the platforming...it's sometimes hard to judge how far to jump due to the camera and you will fall into the water countless times.  Other thing is when playing alone your secondary character rarely helps out and usually just stands there.  So you have to control the second character too.  It's a bit odd considering in the other Lego games the secondary character was automatic.  Overall though, the game fantastically captures the spirit of The Lord of the rings.",
                  "Username": "wesker2012",
                  "Game_ID": 3418,
                  "_deepnote_index_column": 283959
                },
                {
                  "Userscore": 9,
                  "Comment": "Truly excellent game and so nice to revisit the Lego games genre again. Graphics were excellent as was the gameplay and range of characters and side missions available. The free roam aspect was what really made this game for me and added a welcome element of exploration. The use of original score and character voices was also a highly valued insertion. Would have been a 10 if not for theTruly excellent game and so nice to revisit the Lego games genre again. Graphics were excellent as was the gameplay and range of characters and side missions available. The free roam aspect was what really made this game for me and added a welcome element of exploration. The use of original score and character voices was also a highly valued insertion. Would have been a 10 if not for the flaws in the character customisation (e.g. bright blue inner cloaks, changing weapons and no short option etc. though others may not have experienced this).",
                  "Username": "TomG",
                  "Game_ID": 3418,
                  "_deepnote_index_column": 283960
                },
                {
                  "Userscore": 9,
                  "Comment": "LEGO The Lord of the Rings is a fantastic addition to the lego franchise and anyone who loves the Lord of The Rings trilogy should seriously consider this game. This is a free roam game where to go to a mission you have to travel to the place in middle earth where it actually happened. For example, to get to throw the ring into Mount Doom you have to travel to Mount Doom. A new edition toLEGO The Lord of the Rings is a fantastic addition to the lego franchise and anyone who loves the Lord of The Rings trilogy should seriously consider this game. This is a free roam game where to go to a mission you have to travel to the place in middle earth where it actually happened. For example, to get to throw the ring into Mount Doom you have to travel to Mount Doom. A new edition to the franchise is instead of the usual mumbling of the characters they take voice clips from the movies and you will forget the characters are lego figures and think you're playing through the journey to destroy the ring to rule them all. The story takes about 5 hours to finish, which is a little quick but including the collectables, 10 mini kits, one blacksmith recipe, and three treasures a mission, plus the red bricks for quests giving you special abilities will add tons of hours onto it. There's not to much wrong with this game except for the few glitches that happened to me in the middle of missions where I couldn't get out of a space and made me restart the mission. I also wish there were checkpoints, since in some missions mini kits spawn in places where if you miss it there's no going back. In all LEGO Lord of the Rings is a spectacular game and well worth the price.",
                  "Username": "ParrotMuncher",
                  "Game_ID": 3418,
                  "_deepnote_index_column": 283961
                },
                {
                  "Userscore": 8,
                  "Comment": "I have never read the books or seen the movies but put anything in the land of lego and I am there.  These games are always fun and full of lots of great things to do.  There are a few frustrating moments particularly when bouncing or climbing but the game is so charming and fun that you will persevere.  I am never disappointed in lego games and this is one of the best,",
                  "Username": "osprey",
                  "Game_ID": 3418,
                  "_deepnote_index_column": 283962
                },
                {
                  "Userscore": 7,
                  "Comment": "Is this the worst Lego game to date?  No.  Is it as good as the originals?  No.  TT is trying to change so much that they are really breaking some of the fundamental things that made Legos fun.Let's start with the most obvious - the voices.  This was marked as a big deal but honestly I never liked it.  One of the things that makes Legos so fun is watching their silent acting.  TheIs this the worst Lego game to date?  No.  Is it as good as the originals?  No.  TT is trying to change so much that they are really breaking some of the fundamental things that made Legos fun.Let's start with the most obvious - the voices.  This was marked as a big deal but honestly I never liked it.  One of the things that makes Legos so fun is watching their silent acting.  The actions were funny even if you didn't understand what they were trying to say.  Adding voices has ruined that experience.  The game just isn't funny like all the other Lego games.  Forget the \"true to the movie\" crap.  This just isn't a funny game to play.  I wish they had provided the option to turn off the voices.They added some new features to the game but I think they detract more than they add.  TT has added yet another set of collectibles that allow you to...do nothing but get more collectibles.  This is tied to the side quest concept.  Neither of these do anything for the game other than extend its length.  The quests aren't fun and don't move the story forward.  Some of the collectible items are suppose to be useful (allow you to use a single char with all the abilities) but some of the key abilities still cannot be obtained without using certain characters.  This was a half-hearted implementation and does nothing for the game.Fortunately there were no vehicles in this game (because TT has never gotten them right).  But they replaced that will yet more jumping puzzles that test your patience.  If you don't jump at the right time you lose the puzzle.  Losing the puzzle means starting all over again.  Some puzzles can take minutes to complete.  TT does anybody there actually evaluate how much time you are wasting of gamers' times because of these crappy puzzles?  If they were straightforward then this would be a different scenario but often times the camera angle changes, you have to switch characters (which is messed up), jump at just the right time or a series of other actions that cause failure.  The jumping puzzles aren't fun.  I remember when Lego games were for younger kids.  I doubt most 8 yr olds could easily complete them now.Changing chars is painful in this game.  You really have to understand what is going on or you can mess things up.  If you \"quick\" select a char from the radial and that char is already on the screen (either the second controller char or because of story mode) then you switch from the first to the second char's location.  If you're in the middle of a puzzle you just got screwed.  If you use the full roster screen or the char is not visible then the current char switches.  This leads you down the path of always using the full roster just to be safe.  The problem with the full roster is that, especially with timed events, it is slower and can take a while to get the char you want.All in all this game attempts to move the Lego games forward but I think it actually takes them a step back.  I hope voices, the horrible jumping puzzles and odd char selection behavior don't make their way into the next Lego game.  This isn't the worse of the serious but it is nowhere near the best.  Bring us back the fun Lego games TT!!!",
                  "Username": "CoolDadTx",
                  "Game_ID": 3418,
                  "_deepnote_index_column": 283963
                },
                {
                  "Userscore": 9,
                  "Comment": "I Dont usually like the Lego games but this one has changed my mind with its funny cut sceans and characters i must say its worth its price tag. The only grip I have is sometimes during game play it glitches quite badly and wont let me continue, even my Boyfriends one glitches. But no other complants",
                  "Username": "Idrial24",
                  "Game_ID": 3418,
                  "_deepnote_index_column": 283964
                },
                {
                  "Userscore": 9,
                  "Comment": "Enjoyed this game immensely, i'm not really it's target audience, which is children, but i can say that children would find this game very fun. It has a lot of replayability, as do all lego games with their collectables, unlockable characters, and so on, it's lifespan goes beyond what most modern games have on offer. Graphically it's good, but as it is a lego game, there is naturally onlyEnjoyed this game immensely, i'm not really it's target audience, which is children, but i can say that children would find this game very fun. It has a lot of replayability, as do all lego games with their collectables, unlockable characters, and so on, it's lifespan goes beyond what most modern games have on offer. Graphically it's good, but as it is a lego game, there is naturally only so much that can be done. The game re-creates accurately scenes from the movie, and even contains nods to characters that only fans of the book would know. This is by no stretch of the imagination a challenging game, it's very casual, but that is what the game is aimed at being, and it is not ashamed, or trying to disguise this. My only complaint, is that i found the controlls to be actually a little difficult to get used to; aka, the item/character selection wheel, and i'm a 22 year old adult. So if i struggle a little, a child might lose his patience.",
                  "Username": "Boltshear",
                  "Game_ID": 3418,
                  "_deepnote_index_column": 283965
                },
                {
                  "Userscore": 9,
                  "Comment": "            This review contains spoilers, click expand to view.        The most epic LEGO game. It offers a vast world, so many things to explore, a storyline based on one of the best fantasy books (and films of course). Simply outstanding.",
                  "Username": "Pawek_13",
                  "Game_ID": 3418,
                  "_deepnote_index_column": 283966
                },
                {
                  "Userscore": 8,
                  "Comment": "Lord of the Rings is the usual LEGO game: fun, light, and pleasant. The creators take you from the peaceful  Hobbiton to the depths of Mordor, with many missions in-between. The HUB is awesome, a completely open map (I can literally walk from Hobbiton to Mordor in 5 minutes) and justifiable times of day. It also comes with an even greater variety of characters, as well as your on characterLord of the Rings is the usual LEGO game: fun, light, and pleasant. The creators take you from the peaceful  Hobbiton to the depths of Mordor, with many missions in-between. The HUB is awesome, a completely open map (I can literally walk from Hobbiton to Mordor in 5 minutes) and justifiable times of day. It also comes with an even greater variety of characters, as well as your on character DIY setup (based in Frodo's home). There are two problems, however. First, the side quests take an immense amount of time to complete, with little to no reward. Second, the actual missions in the populated areas (such as Helm's Deep and Bree) lack in creativity and the adventurous spirit of Tolkien and make you yawn. I would recommend this game to any casual gamer.",
                  "Username": "generalsamston",
                  "Game_ID": 3418,
                  "_deepnote_index_column": 283967
                },
                {
                  "Userscore": 8,
                  "Comment": "Another great Lego game. This game perfectly re-enacts The Lord of the Rings Trilogy. The game has a massive amount of collectibles to collect that will take you tons of hours to get everything. The only annoying thing about this game has to do with the platforming...it's sometimes hard to judge how far to jump due to the camera and you will fall into the water countless times. Other thingAnother great Lego game. This game perfectly re-enacts The Lord of the Rings Trilogy. The game has a massive amount of collectibles to collect that will take you tons of hours to get everything. The only annoying thing about this game has to do with the platforming...it's sometimes hard to judge how far to jump due to the camera and you will fall into the water countless times. Other thing is when playing alone your secondary character rarely helps out and usually just stands there. So you have to control the second character too. It's a bit odd considering in the other Lego games the secondary character was automatic. Overall though, the game fantastically captures the spirit of The Lord of the rings.",
                  "Username": "aadityamudhar",
                  "Game_ID": 3418,
                  "_deepnote_index_column": 283968
                },
                {
                  "Userscore": 8,
                  "Comment": "Another classic lego game with you playing the stunning world of the lord of the rings. Plus saying stunning world, you can explore the awesome world of middle earth by playing side quests as well as story missions.",
                  "Username": "gameguardian21",
                  "Game_ID": 3418,
                  "_deepnote_index_column": 283969
                },
                {
                  "Userscore": 9,
                  "Comment": "There's a LOT of Tolkien packed into this game. The way it uses movies' dialogue in creative ways is hilarious. And it feels SOOOO GOOOD to play as Sauron.",
                  "Username": "thealexmott",
                  "Game_ID": 3418,
                  "_deepnote_index_column": 283970
                },
                {
                  "Userscore": 10,
                  "Comment": "A fantastic retelling of the original Etrian Odyssey. A lot of the newer features from Etrian Odyssey IV return here, and make the experience much more enjoyable. The Story mode adds an incentive to replay this journey even if you already have before.",
                  "Username": "Capn_Pancakes",
                  "Game_ID": 3419,
                  "_deepnote_index_column": 283971
                },
                {
                  "Userscore": 9,
                  "Comment": "Again, now another one of my top 3DS games. After completing the story in approximately 45 hours over the span of 4 months (march~july) and spending a lot more with quests and extra \"post-game things\" to do (no spoilers~), I have to thoroughly admit that this game is something that all RPG fans should play! Now, is it as good as EOIV? Let's see the goods and bads before comparing the two.Again, now another one of my top 3DS games. After completing the story in approximately 45 hours over the span of 4 months (march~july) and spending a lot more with quests and extra \"post-game things\" to do (no spoilers~), I have to thoroughly admit that this game is something that all RPG fans should play! Now, is it as good as EOIV? Let's see the goods and bads before comparing the two.The Goods: Etrian Odyssey Untold is a freshened, remade version of the first game, which was released around 6/7 years ago (2007). It has a story mode, and the story mode serves as the main mode that etrian players will play. The classic mode is still there for people who want to use their own crew for fighting....and stuff. So, down to the story mode - it's surprisingly great. I found the premise of the story to be a bit niche, but the way they presented it was really spectacular, and the scripting was as good as ever, convincing me to continue to play it until the end. It was really emotional towards the end and I have to applaud Atlus for being able to shake my iron soul. The graphics are as good as ever for a 3DS game, and the 3D effect is really well implemented, as always. The character designs are really nice, and the backgrounds are really detailed and well drawn. The music was something from another planet. Yuzo Koshiro really did a splendid job remastering the songs from the first game into an orchestrated/live version of it for this game. I never turned the volume down or turned off the BGM throughout the whole time, and actually kept it at max volume while keeping the others down. You see, there are FOEs (strong bosses that roam the labyrinth) that cruise around, keeping you scared and alert, and they are really programmed well this game. The puzzles that you have to solve to avoid fighting them is really well designed, and some of the later stratums require a lot of thinking to avoid these nasty fights. The fighting system is as good as ever, with the inclusion of Grimoire Stones, which from what I know..are stones that contain enemy's (or human) skills that can be used if the weapon type is the same as the user......which can be confusing, but you'll learn more about it ingame~. The dungeons are wonderful as ever, the feeling you get from mapping is splendid, and the 3 difficulties you get from the beginning of the game are great for beginners and veterans (I chose the standard diff, fyi). The bosses are really tough, most of the time, and things get really intense, again, towards the end of the game. Definitely worth the effort of grinding~The Neutral: It's good that voice acting has been implemented more, but it may be nicer if more things were spoken. I felt that they only spoke 1 or 2 important lines in central parts of the story, and not really talking much in other \"branches\" of the story that I also felt were somewhat important. Again, although it's something that has never occurred in the franchise, I have always thought that a city hub would be nice (one that you could explore), but it seems you'll be stuck with menus for this game as well, which isn't exactly a problem. Another neutral thing is the grinding at the start of the game. You're really going to have to spend a bit of time (although it's easier in this game) grinding for a while to get a decent load of cash and skills/levels. The game is also a tad bit to the boring side for the first 10-20 hours, and after that - things really get awesome and super intense! (especially the story, but you'll have to wait it out for a while)The Bad: There isn't really much here that I can say...though there is one thing I can think of. It'd be nice if the game had more than 1 slot for saving, because after finishing story mode, I wanted to try Classic mode but I didn't want to delete my old file, so it kinda creates a problem for people like me who want to try out everything that's featured in the game without deleting anything.VS EOIV and Overall: Compared to EOIV, I'd say this is a better game to start with, but notice that it's definitely more difficult than EOIV - especially with endgame bosses and the last few stratums being very very difficult to beat and navigate through (and map). Although EOIV has the wonderful world system (\"Lands\") and Untold lacks it, I'd say that Untold still holds pretty well with EOIV. Of the two though, I'd say I like EOIV more by only a small percentage. I truly had a great experience with EO Untold, and hopefully this review can sway you (hopefully and RPG fan) to have the wonderful experience that I had whilst playing this game~Gameplay: 10/10Story: 9/10Music: 10/10Presentation: 9/10Length/PostGame: 9/10Overall: 9/10",
                  "Username": "GoombaJMR",
                  "Game_ID": 3419,
                  "_deepnote_index_column": 283972
                },
                {
                  "Userscore": 10,
                  "Comment": "This game is very similar to EO:4... but that is a good thing! I highly enjoyed this game, and for someone brand new to the series (first game was EO:4), I was glad to see another game in this series release on the 3DS. First person + RPG + variety of team dynamics = enormous win.",
                  "Username": "sasuke619",
                  "Game_ID": 3419,
                  "_deepnote_index_column": 283973
                },
                {
                  "Userscore": 8,
                  "Comment": "The remake of the first game in the series improves on many aspects, adds some new elements and areas and adds a story and different difficulties.What remains negative, is a bad, uncomfortable dungeon-design, a limited inventory, many craftable items that nobody in the story-party can use and a stupid auto-battle-ai, that attacks randomly and doesnt let the user set up any scripts.The remake of the first game in the series improves on many aspects, adds some new elements and areas and adds a story and different difficulties.What remains negative, is a bad, uncomfortable dungeon-design, a limited inventory, many craftable items that nobody in the story-party can use and a stupid auto-battle-ai, that attacks randomly and doesnt let the user set up any scripts.Speaking in scores, i would haven rated the original game with 70 points, while i rate the remake with 78 points",
                  "Username": "Akumala",
                  "Game_ID": 3419,
                  "_deepnote_index_column": 283974
                },
                {
                  "Userscore": 10,
                  "Comment": "I am in love with this game. That's, the short part.Now to the long one:I have played Etrian Odyssey since its first title came out. I have tried my best beating it, ended up cheating halfway through the game but deleted it as I ran past everything and it wasn't fun at all. Why am I mentioning this? Because Etrian Odyssey is hard. Etrian Odyssey is a game series based onI am in love with this game. That's, the short part.Now to the long one:I have played Etrian Odyssey since its first title came out. I have tried my best beating it, ended up cheating halfway through the game but deleted it as I ran past everything and it wasn't fun at all. Why am I mentioning this? Because Etrian Odyssey is hard. Etrian Odyssey is a game series based on exploration and preparing. One false step, one missed hit and its the end for you.The overall game is very much enjoyable. The graphics, mainly Anime-style, are very well drawn and you have a whole variety of them. About 4 for each class and additional ones for specific characters and NPCs.As you enter the game you are greeted with a beautiful sounding soundtrack that expands on the whole Labyrinth you will explore. However having played the original, the remakes just don't sound as good. They are still quite good though.And now we are already at the part that I love about this game. Everyone who has played this knows about the end of the game. Well \"end\". The big Twist about this game to be specific. And that is where the two new modes come into play. I myself already know the secrets and know whats coming for me but seeing how the characters in the story mode discover it for them-self makes it even better. It is like a Anime that you have to play along to unlock more and more the further you get. But of course the Story mode has a lot more to offer than the actual old classic mode. New maps, new quests and most importantly: New areas.This comes into play as I hear many people moaning about the fact that this game does not have a Over-world map. Correct me if I am wrong but I am pretty sure that the Over-world map came with later installments of the series. And as of right now I am very happy about the fact that they did not make a Over-world map. I see though where an Over-world map could come into play. it just wouldn't fit.If you want a challenging and interesting game to play than Etrian Odyssey, the series as a whole (except the Mystery Dungeon Spin-off) is a game you should play.",
                  "Username": "Gikame",
                  "Game_ID": 3419,
                  "_deepnote_index_column": 283975
                },
                {
                  "Userscore": 8,
                  "Comment": "To start, this was my first experience with first-person dungeon crawling, and that also implies i haven't played any of this game's predecessors, so my critique is on this game and this game alone. It was a lot of fun and i loved  the map making, which is supposedly a big part of the series. I think the combat skill tree system wasn't that hard to grasp, and i like how character statsTo start, this was my first experience with first-person dungeon crawling, and that also implies i haven't played any of this game's predecessors, so my critique is on this game and this game alone. It was a lot of fun and i loved  the map making, which is supposedly a big part of the series. I think the combat skill tree system wasn't that hard to grasp, and i like how character stats only showed up when purchasing items, so it was overall simple. I wish the combat was a little more engaging, however. It kind of reminded me of digimon dusk and dawn's combat, because the characters were doing amazing things but all you saw was bursts of fire and squares shaking as they took damage. I wasn't expecting pokemon X and Y grade combat graphics, but I feel, especially since the story had fixed players they could model, they could have made a few general animations for when they attacked, even if they were simple like what the enemy monsters did. I like the first person, but it felt weird to have a main character that felt apart of me and separate from me at the same time. The dialogue options didn't normally change the story, but allowed a little humour here and there. However, i couldn't fully feel like it was me adventuring with the others, but rather me controlling the main character. When i get this feeling, i don't wish i had more control. I wish the main character had more character of his own. Finally, the grimuar stones (probably spelled that wrong, though) were a nice feature that was apparently new, but i think they could have simplified it. If i forgot to edit my stones after a few trips back from the forest, i would suddenly find 20 or more new stones and feel overwhelmed. Perhaps they could have made it so i could extract skills individually and recycle ones i didn't want to level up skills i wanted to keep, that way my only question was which skills i wanted, not which stone i wanted to make. Overall, love the experience",
                  "Username": "Ironmonger",
                  "Game_ID": 3419,
                  "_deepnote_index_column": 283976
                },
                {
                  "Userscore": 9,
                  "Comment": "So you will know what type of gamer is writing this review, I'll list three of my favorite games. Danganronpa Fire EmblemAtelier TotoriFirstly, you should know this review is of the story mode, not the classic mode. For those who don't know, this game has two modes to choose from when starting a game. The story mode is the one with a plot and voice acting. The classic mode isSo you will know what type of gamer is writing this review, I'll list three of my favorite games. Danganronpa Fire EmblemAtelier TotoriFirstly, you should know this review is of the story mode, not the classic mode. For those who don't know, this game has two modes to choose from when starting a game. The story mode is the one with a plot and voice acting. The classic mode is choosing your teams jobs from the start, unlike the story mode where you are given a party of five members and can only change their class after reaching level thirty. THE BAD: I found the ending to be disappointing in my opinion. It felt rushed and was very short. Changing your class in story mode does not change the portrait of the character. So, if you change a defender to mage or whatever else, the picture will still show the defender turned mage still holding a shield and sword. Now, this isn't a major gripe of mine but I just wanted to mention it because it was one of the reasons I didn't change classes. THE GOOD:MUSIC: The music was awesome. From slow piano to roaring guitar solo, it's in this game. I found myself nodding my head to some of the battle music.GRAPHICS: Graphics are good for 3DS. The dungeons are each unique, dessert, sea, forest, jungle, demolished city, it's all there. The dungeons were. nice to look at. Nothing ugly to say the least. GAMEPLAY: The battle system is turn based and quite fun. Also,the level up system is great. Every time you gain a level, you get a point to distribute to a skill or Stat boost. So you can take your character in the direction you want to. Well, no heavy knight combined mage, but still. I felt it was very nicely done. VOICE ACTING: The voice acting is great as well. Even Chie's voice actor from Persona 4 is in this game. STORY: The dialogue wasn't overly childish as many other games I have played have been. The story was good. Just the ending was disappointing because it was too short. CLOSING COMMENTS:I would recommend this game to anyone who is a hard core RPG gamer. Bear in mind this is a dungeon crawler and it's not for everyone. There were times when I would get slightly nauseated from the dungeon crawling. This isn't unusual for an RPG though but definently expect it from dungeon crawlers. Also note, if you are an adult and are looking for a more mature dungeon crawler, then check out Demon Gaze and Dungeon Travelers 2 for the PS Vita.That wraps it up, hope it helps.",
                  "Username": "DanHazy",
                  "Game_ID": 3419,
                  "_deepnote_index_column": 283977
                },
                {
                  "Userscore": 7,
                  "Comment": "Extremely similar to EO:4, which obviously isn't a bad thing, but I'd say this is the weaker of the two. No overworld maps like in 4, and too much of a same old feeling if you've come off finishing EO:4 last year.Its a good game. I just don't think I'll ever be compelled to finish it. 20 hours at this price before losing interest for another game isn't bad.",
                  "Username": "RileyWRussell",
                  "Game_ID": 3419,
                  "_deepnote_index_column": 283978
                },
                {
                  "Userscore": 0,
                  "Comment": "Typical overrated Atlus trash. A game i should have liked, since i am an oldtime hardcore PC RPG fan, but if you think this game has anything to do with the classics, you need to change your hobby and begin stamp collections.There is no challenge in this game. The gameplay mechanics are very simple and boring, all you have to do is grind like your life is worth nothing and you canTypical overrated Atlus trash. A game i should have liked, since i am an oldtime hardcore PC RPG fan, but if you think this game has anything to do with the classics, you need to change your hobby and begin stamp collections.There is no challenge in this game. The gameplay mechanics are very simple and boring, all you have to do is grind like your life is worth nothing and you can throw hours upon hours in the garbage bin. Grind=win type of game, like most of Atlus trash, with a nice anime/manga presentation to appeal to the kiddies.Just avoid if you value your time.",
                  "Username": "TemplarGR",
                  "Game_ID": 3419,
                  "_deepnote_index_column": 283979
                },
                {
                  "Userscore": 9,
                  "Comment": "While I find the story mode to have annoying characters and an intrusive story, the classic mode is top notch! Maybe it's not as good as EO4, because of the unnecessary third difficulty setting, but it's a fantastic game in its own right.  Now...if only the 6th stratum wasn't so dang scary.",
                  "Username": "midipon",
                  "Game_ID": 3419,
                  "_deepnote_index_column": 283980
                },
                {
                  "Userscore": 8,
                  "Comment": "Pretty good, but it certainly lacks the visual and audio polish that IV has.  Many classes have confusing and uninteresting abilities and the Grimoire system kinda blows.Despite those flaws, I do like it and would recommend it, overall.  The dungeon is gorgeous, the game is challenging, and the music is good enough.",
                  "Username": "night4",
                  "Game_ID": 3419,
                  "_deepnote_index_column": 283981
                },
                {
                  "Userscore": 9,
                  "Comment": "As my first game from the \"Etrian series\" i had a hard time until i got used to checking maps while in dungeon  but as soon as i got used to the mechanics of the game i got a really enjoyable ride that did go smoothly until basically the end of the game. A good gameplay, really good music and a nice history. I didn't know what to expect when buying this game but now the Etrian Series got aAs my first game from the \"Etrian series\" i had a hard time until i got used to checking maps while in dungeon  but as soon as i got used to the mechanics of the game i got a really enjoyable ride that did go smoothly until basically the end of the game. A good gameplay, really good music and a nice history. I didn't know what to expect when buying this game but now the Etrian Series got a new fan.",
                  "Username": "Balorer",
                  "Game_ID": 3419,
                  "_deepnote_index_column": 283982
                }
              ]
            },
            "text/plain": "        Userscore                                            Comment  \\\n0              10  Everything in OoT is so near at perfection, it...   \n1              10  I won't bore you with what everyone is already...   \n2              10  Anyone who gives the masterpiece below a 7 or ...   \n3              10  I'm one of those people who think that this is...   \n4              10   This game is the highest rated game on Metacr...   \n...           ...                                                ...   \n283978          7  Extremely similar to EO:4, which obviously isn...   \n283979          0  Typical overrated Atlus trash. A game i should...   \n283980          9  While I find the story mode to have annoying c...   \n283981          8  Pretty good, but it certainly lacks the visual...   \n283982          9  As my first game from the \"Etrian series\" i ha...   \n\n             Username  Game_ID  \n0          SirCaestus        0  \n1            Kaistlin        0  \n2              Jacody        0  \n3          doodlerman        0  \n4             StevenA        0  \n...               ...      ...  \n283978  RileyWRussell     3419  \n283979      TemplarGR     3419  \n283980        midipon     3419  \n283981         night4     3419  \n283982        Balorer     3419  \n\n[283983 rows x 4 columns]",
            "text/html": "<div>\n<style scoped>\n    .dataframe tbody tr th:only-of-type {\n        vertical-align: middle;\n    }\n\n    .dataframe tbody tr th {\n        vertical-align: top;\n    }\n\n    .dataframe thead th {\n        text-align: right;\n    }\n</style>\n<table border=\"1\" class=\"dataframe\">\n  <thead>\n    <tr style=\"text-align: right;\">\n      <th></th>\n      <th>Userscore</th>\n      <th>Comment</th>\n      <th>Username</th>\n      <th>Game_ID</th>\n    </tr>\n  </thead>\n  <tbody>\n    <tr>\n      <th>0</th>\n      <td>10</td>\n      <td>Everything in OoT is so near at perfection, it...</td>\n      <td>SirCaestus</td>\n      <td>0</td>\n    </tr>\n    <tr>\n      <th>1</th>\n      <td>10</td>\n      <td>I won't bore you with what everyone is already...</td>\n      <td>Kaistlin</td>\n      <td>0</td>\n    </tr>\n    <tr>\n      <th>2</th>\n      <td>10</td>\n      <td>Anyone who gives the masterpiece below a 7 or ...</td>\n      <td>Jacody</td>\n      <td>0</td>\n    </tr>\n    <tr>\n      <th>3</th>\n      <td>10</td>\n      <td>I'm one of those people who think that this is...</td>\n      <td>doodlerman</td>\n      <td>0</td>\n    </tr>\n    <tr>\n      <th>4</th>\n      <td>10</td>\n      <td>This game is the highest rated game on Metacr...</td>\n      <td>StevenA</td>\n      <td>0</td>\n    </tr>\n    <tr>\n      <th>...</th>\n      <td>...</td>\n      <td>...</td>\n      <td>...</td>\n      <td>...</td>\n    </tr>\n    <tr>\n      <th>283978</th>\n      <td>7</td>\n      <td>Extremely similar to EO:4, which obviously isn...</td>\n      <td>RileyWRussell</td>\n      <td>3419</td>\n    </tr>\n    <tr>\n      <th>283979</th>\n      <td>0</td>\n      <td>Typical overrated Atlus trash. A game i should...</td>\n      <td>TemplarGR</td>\n      <td>3419</td>\n    </tr>\n    <tr>\n      <th>283980</th>\n      <td>9</td>\n      <td>While I find the story mode to have annoying c...</td>\n      <td>midipon</td>\n      <td>3419</td>\n    </tr>\n    <tr>\n      <th>283981</th>\n      <td>8</td>\n      <td>Pretty good, but it certainly lacks the visual...</td>\n      <td>night4</td>\n      <td>3419</td>\n    </tr>\n    <tr>\n      <th>283982</th>\n      <td>9</td>\n      <td>As my first game from the \"Etrian series\" i ha...</td>\n      <td>Balorer</td>\n      <td>3419</td>\n    </tr>\n  </tbody>\n</table>\n<p>283983 rows × 4 columns</p>\n</div>"
          },
          "metadata": {}
        }
      ]
    },
    {
      "cell_type": "code",
      "metadata": {
        "tags": [],
        "cell_id": "00007-3036852c-376f-493f-9a5c-c6e3e5d6db20",
        "deepnote_to_be_reexecuted": false,
        "source_hash": "2032f1c6",
        "execution_millis": 6855,
        "execution_start": 1615177724223,
        "deepnote_cell_type": "code"
      },
      "source": "metacritic_game_info.to_csv('data/game_info.csv')\nmetacritic_game_user_comments.to_csv('data/user_data.csv')\nmetacritic_game_user_comments.drop(columns=['Comment']).to_csv('data/user_data_no_comments.csv')",
      "execution_count": null,
      "outputs": []
    },
    {
      "cell_type": "code",
      "metadata": {
        "tags": [],
        "cell_id": "00006-c914179f-6257-4224-9de0-726e2125b3ff",
        "deepnote_to_be_reexecuted": false,
        "source_hash": "4c8b5d23",
        "execution_millis": 26008,
        "execution_start": 1615321792743,
        "deepnote_cell_type": "code"
      },
      "source": "# Make splits\n\nuser_data = pd.read_csv('data/user_data_no_comments.csv')\n\n# Remove anonymous users\nuser_data = user_data[user_data[\"Username\"] != \"[Anonymous]\"]\nuser_data = user_data[user_data[\"Username\"] != \"AnonymousMC\"]\n\nuser_groups = user_data.groupby('Username')\nuser_groups = user_groups.filter(lambda x: len(x) > 2).groupby('Username')\n\n# 70 - 10 - 20 Split\ntrain_validation_groups, test_groups = train_test_split(\n    list(user_groups), \n    train_size=.8,\n    random_state=314\n)\ntrain_groups, validation_groups = train_test_split(\n    train_validation_groups, \n    train_size=.875,\n    random_state=314159\n)\n\n# for name, group in user_groups:\n#     group\n\ntrain_set = pd.concat([x[1] for x in train_groups])\ntest_set = pd.concat([x[1] for x in test_groups])\nvalidation_set = pd.concat([x[1] for x in validation_groups])\n\ntrain_count = len(train_set)\ntest_count = len(test_set)\nvalidation_count = len(validation_set)\ntotal_count = train_count + test_count + validation_count\nprint(f\"Train: {train_count} ({train_count/total_count})\")\nprint(f\"Test: {test_count} ({test_count/total_count})\")\nprint(f\"Validation: {validation_count} ({validation_count/total_count})\")\n\ntrain_set.to_csv('data/user_data_train_no_comments.csv', index=False)\ntest_set.to_csv('data/user_data_test_no_comments.csv', index=False)\nvalidation_set.to_csv('data/user_data_validation_no_comments.csv', index=False)",
      "execution_count": 7,
      "outputs": [
        {
          "name": "stdout",
          "text": "Train: 105858 (0.696447956209662)\nTest: 31221 (0.20540536984282584)\nValidation: 14918 (0.09814667394751213)\n",
          "output_type": "stream"
        }
      ]
    },
    {
      "cell_type": "markdown",
      "source": "<a style='text-decoration:none;line-height:16px;display:flex;color:#5B5B62;padding:10px;justify-content:end;' href='https://deepnote.com?utm_source=created-in-deepnote-cell&projectId=eb4e4242-5846-4617-af0a-480720b8ff22' target=\"_blank\">\n<img style='display:inline;max-height:16px;margin:0px;margin-right:7.5px;' src='data:image/svg+xml;base64,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' > </img>\nCreated in <span style='font-weight:600;margin-left:4px;'>Deepnote</span></a>",
      "metadata": {
        "tags": [],
        "created_in_deepnote_cell": true,
        "deepnote_cell_type": "markdown"
      }
    }
  ],
  "nbformat": 4,
  "nbformat_minor": 2,
  "metadata": {
    "orig_nbformat": 2,
    "deepnote_notebook_id": "e120938d-60b3-4ccf-872b-481ec14568e3",
    "deepnote": {},
    "deepnote_execution_queue": []
  }
}