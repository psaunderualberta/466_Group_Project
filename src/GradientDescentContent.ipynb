{
 "cells": [
  {
   "cell_type": "code",
   "execution_count": 2,
   "metadata": {
    "cell_id": "00000-6fe1a0e7-d195-4694-9788-c6aa4c039364",
    "deepnote_cell_type": "code",
    "deepnote_to_be_reexecuted": false,
    "execution_millis": 1,
    "execution_start": 1615409519999,
    "source_hash": "a0d0e4f9",
    "tags": []
   },
   "outputs": [],
   "source": [
    "import pandas as pd\n",
    "from sklearn.feature_extraction.text import TfidfVectorizer\n",
    "from sklearn.metrics.pairwise import cosine_similarity\n",
    "from sklearn.preprocessing import OneHotEncoder\n",
    "from sklearn.linear_model import LinearRegression\n",
    "from sklearn.linear_model import LogisticRegression\n",
    "from sklearn.metrics import mean_squared_error\n",
    "from itertools import combinations\n",
    "import matplotlib.pyplot as plt\n",
    "from math import sqrt\n",
    "import numpy as np"
   ]
  },
  {
   "cell_type": "code",
   "execution_count": 5,
   "metadata": {
    "cell_id": "00002-9400c6ae-7bdc-4597-ae42-4f9d79c4f28e",
    "deepnote_cell_type": "code",
    "deepnote_to_be_reexecuted": false,
    "execution_millis": 0,
    "execution_start": 1615409539333,
    "source_hash": "b5c5a1e2",
    "tags": []
   },
   "outputs": [],
   "source": [
    "game_data = pd.read_csv('data/game_info.csv')\n",
    "temp = game_data['Avg_Userscore'].value_counts()"
   ]
  },
  {
   "cell_type": "code",
   "execution_count": 6,
   "metadata": {
    "cell_id": "00002-e4ca7edc-1cf1-49bf-be8e-4d95a0385c13",
    "deepnote_cell_type": "code",
    "deepnote_to_be_reexecuted": false,
    "execution_millis": 115,
    "execution_start": 1615399974737,
    "scrolled": true,
    "source_hash": "3b383f6e",
    "tags": []
   },
   "outputs": [
    {
     "data": {
      "text/plain": [
       "'8.2              286\\n8.3              279\\n8.4              269\\n8.5              269\\n8.0              268\\n7.8              257\\n8.1              245\\n7.9              240\\n8.6              223\\n7.6              217\\n7.7              202\\n8.7              196\\n7.5              175\\n8.8              174\\n8.9              158\\n7.3              139\\n7.4              114\\n7.2              112\\n7.1              110\\n7.0               84\\n6.8               78\\ntbd               75\\n6.7               72\\n9.0               71\\n6.9               68\\n6.6               66\\n6.5               44\\n9.1               43\\n6.1               41\\n6.3               41\\n6.4               39\\n6.2               33\\n6.0               28\\n5.9               27\\n5.8               25\\n9.2               21\\n5.5               20\\n5.7               18\\n5.4               14\\n5.6               14\\n5.2               13\\nnot specified     12\\n4.3               12\\n5.1               11\\n5.0                9\\n4.4                8\\n5.3                8\\n4.9                7\\n4.5                7\\n4.2                6\\n4.1                6\\n3.5                5\\n3.6                5\\n4.8                5\\n3.1                4\\n3.4                4\\n9.3                4\\n3.8                3\\n2.7                3\\n3.3                2\\n3.7                2\\n4.6                1\\n2.4                1\\n2.8                1\\n1.6                1\\n3.2                1\\n4.7                1\\n1.7                1\\n4.0                1\\n2.1                1'"
      ]
     },
     "execution_count": 6,
     "metadata": {},
     "output_type": "execute_result"
    }
   ],
   "source": [
    "temp.to_string()"
   ]
  },
  {
   "cell_type": "code",
   "execution_count": 7,
   "metadata": {
    "cell_id": "00002-3b562679-9328-4557-bf25-c54d2513b421",
    "deepnote_cell_type": "code",
    "deepnote_to_be_reexecuted": false,
    "execution_millis": 1846,
    "execution_start": 1615409543472,
    "source_hash": "edec6273",
    "tags": []
   },
   "outputs": [],
   "source": [
    "user_data_train = pd.read_csv('data/user_data_train_no_comments.csv')\n",
    "user_data_train_mean_userscore = user_data_train['Userscore'].mean()"
   ]
  },
  {
   "cell_type": "code",
   "execution_count": 8,
   "metadata": {
    "cell_id": "00002-451ae746-725c-49bb-b0fa-dcd038f984fe",
    "deepnote_cell_type": "code",
    "deepnote_to_be_reexecuted": false,
    "execution_millis": 539,
    "execution_start": 1615409549522,
    "source_hash": "11b5562",
    "tags": []
   },
   "outputs": [],
   "source": [
    "user_data_test=pd.read_csv('data/user_data_test_no_comments.csv')"
   ]
  },
  {
   "cell_type": "code",
   "execution_count": 9,
   "metadata": {
    "cell_id": "00004-687f5bd4-aa5a-4fb1-8355-2a0af5391958",
    "deepnote_cell_type": "code",
    "deepnote_to_be_reexecuted": false,
    "execution_millis": 33,
    "execution_start": 1615409558379,
    "source_hash": "ced76a35",
    "tags": []
   },
   "outputs": [
    {
     "data": {
      "text/plain": [
       "<5000x150 sparse matrix of type '<class 'numpy.float64'>'\n",
       "\twith 17711 stored elements in Compressed Sparse Row format>"
      ]
     },
     "execution_count": 9,
     "metadata": {},
     "output_type": "execute_result"
    }
   ],
   "source": [
    "tf = TfidfVectorizer(analyzer=lambda s: map(lambda c: c.lower(), s.split(';')))\n",
    "tfidf_matrix = tf.fit_transform(game_data['Genre'])\n",
    "tfidf_matrix"
   ]
  },
  {
   "cell_type": "code",
   "execution_count": 10,
   "metadata": {
    "cell_id": "00005-d4484971-29af-4ff1-8f1c-b92dc4e5aba1",
    "deepnote_cell_type": "code",
    "deepnote_to_be_reexecuted": false,
    "execution_millis": 300,
    "execution_start": 1615409558407,
    "source_hash": "83214d93",
    "tags": []
   },
   "outputs": [
    {
     "data": {
      "text/html": [
       "<div>\n",
       "<style scoped>\n",
       "    .dataframe tbody tr th:only-of-type {\n",
       "        vertical-align: middle;\n",
       "    }\n",
       "\n",
       "    .dataframe tbody tr th {\n",
       "        vertical-align: top;\n",
       "    }\n",
       "\n",
       "    .dataframe thead th {\n",
       "        text-align: right;\n",
       "    }\n",
       "</style>\n",
       "<table border=\"1\" class=\"dataframe\">\n",
       "  <thead>\n",
       "    <tr style=\"text-align: right;\">\n",
       "      <th></th>\n",
       "      <th>2d</th>\n",
       "      <th>3d</th>\n",
       "      <th>4x</th>\n",
       "      <th>action</th>\n",
       "      <th>action adventure</th>\n",
       "      <th>action rpg</th>\n",
       "      <th>adventure</th>\n",
       "      <th>alternative</th>\n",
       "      <th>application</th>\n",
       "      <th>arcade</th>\n",
       "      <th>...</th>\n",
       "      <th>vehicle</th>\n",
       "      <th>vertical</th>\n",
       "      <th>virtual</th>\n",
       "      <th>virtual life</th>\n",
       "      <th>visual novel</th>\n",
       "      <th>wakeboarding</th>\n",
       "      <th>wargame</th>\n",
       "      <th>western-style</th>\n",
       "      <th>wrestling</th>\n",
       "      <th>wwii</th>\n",
       "    </tr>\n",
       "    <tr>\n",
       "      <th>Title</th>\n",
       "      <th></th>\n",
       "      <th></th>\n",
       "      <th></th>\n",
       "      <th></th>\n",
       "      <th></th>\n",
       "      <th></th>\n",
       "      <th></th>\n",
       "      <th></th>\n",
       "      <th></th>\n",
       "      <th></th>\n",
       "      <th></th>\n",
       "      <th></th>\n",
       "      <th></th>\n",
       "      <th></th>\n",
       "      <th></th>\n",
       "      <th></th>\n",
       "      <th></th>\n",
       "      <th></th>\n",
       "      <th></th>\n",
       "      <th></th>\n",
       "      <th></th>\n",
       "    </tr>\n",
       "  </thead>\n",
       "  <tbody>\n",
       "    <tr>\n",
       "      <th>The Legend of Zelda: Ocarina of Time</th>\n",
       "      <td>0.000000</td>\n",
       "      <td>0.000000</td>\n",
       "      <td>0.0</td>\n",
       "      <td>0.000000</td>\n",
       "      <td>0.633865</td>\n",
       "      <td>0.0</td>\n",
       "      <td>0.0</td>\n",
       "      <td>0.000000</td>\n",
       "      <td>0.0</td>\n",
       "      <td>0.0</td>\n",
       "      <td>...</td>\n",
       "      <td>0.0</td>\n",
       "      <td>0.0</td>\n",
       "      <td>0.0</td>\n",
       "      <td>0.0</td>\n",
       "      <td>0.0</td>\n",
       "      <td>0.0</td>\n",
       "      <td>0.0</td>\n",
       "      <td>0.0</td>\n",
       "      <td>0.0</td>\n",
       "      <td>0.0</td>\n",
       "    </tr>\n",
       "    <tr>\n",
       "      <th>Tony Hawk's Pro Skater 2</th>\n",
       "      <td>0.000000</td>\n",
       "      <td>0.000000</td>\n",
       "      <td>0.0</td>\n",
       "      <td>0.000000</td>\n",
       "      <td>0.000000</td>\n",
       "      <td>0.0</td>\n",
       "      <td>0.0</td>\n",
       "      <td>0.623685</td>\n",
       "      <td>0.0</td>\n",
       "      <td>0.0</td>\n",
       "      <td>...</td>\n",
       "      <td>0.0</td>\n",
       "      <td>0.0</td>\n",
       "      <td>0.0</td>\n",
       "      <td>0.0</td>\n",
       "      <td>0.0</td>\n",
       "      <td>0.0</td>\n",
       "      <td>0.0</td>\n",
       "      <td>0.0</td>\n",
       "      <td>0.0</td>\n",
       "      <td>0.0</td>\n",
       "    </tr>\n",
       "    <tr>\n",
       "      <th>Grand Theft Auto IV</th>\n",
       "      <td>0.000000</td>\n",
       "      <td>0.000000</td>\n",
       "      <td>0.0</td>\n",
       "      <td>0.000000</td>\n",
       "      <td>0.329708</td>\n",
       "      <td>0.0</td>\n",
       "      <td>0.0</td>\n",
       "      <td>0.000000</td>\n",
       "      <td>0.0</td>\n",
       "      <td>0.0</td>\n",
       "      <td>...</td>\n",
       "      <td>0.0</td>\n",
       "      <td>0.0</td>\n",
       "      <td>0.0</td>\n",
       "      <td>0.0</td>\n",
       "      <td>0.0</td>\n",
       "      <td>0.0</td>\n",
       "      <td>0.0</td>\n",
       "      <td>0.0</td>\n",
       "      <td>0.0</td>\n",
       "      <td>0.0</td>\n",
       "    </tr>\n",
       "    <tr>\n",
       "      <th>SoulCalibur</th>\n",
       "      <td>0.000000</td>\n",
       "      <td>0.629232</td>\n",
       "      <td>0.0</td>\n",
       "      <td>0.342612</td>\n",
       "      <td>0.000000</td>\n",
       "      <td>0.0</td>\n",
       "      <td>0.0</td>\n",
       "      <td>0.000000</td>\n",
       "      <td>0.0</td>\n",
       "      <td>0.0</td>\n",
       "      <td>...</td>\n",
       "      <td>0.0</td>\n",
       "      <td>0.0</td>\n",
       "      <td>0.0</td>\n",
       "      <td>0.0</td>\n",
       "      <td>0.0</td>\n",
       "      <td>0.0</td>\n",
       "      <td>0.0</td>\n",
       "      <td>0.0</td>\n",
       "      <td>0.0</td>\n",
       "      <td>0.0</td>\n",
       "    </tr>\n",
       "    <tr>\n",
       "      <th>Grand Theft Auto IV</th>\n",
       "      <td>0.000000</td>\n",
       "      <td>0.000000</td>\n",
       "      <td>0.0</td>\n",
       "      <td>0.000000</td>\n",
       "      <td>0.329708</td>\n",
       "      <td>0.0</td>\n",
       "      <td>0.0</td>\n",
       "      <td>0.000000</td>\n",
       "      <td>0.0</td>\n",
       "      <td>0.0</td>\n",
       "      <td>...</td>\n",
       "      <td>0.0</td>\n",
       "      <td>0.0</td>\n",
       "      <td>0.0</td>\n",
       "      <td>0.0</td>\n",
       "      <td>0.0</td>\n",
       "      <td>0.0</td>\n",
       "      <td>0.0</td>\n",
       "      <td>0.0</td>\n",
       "      <td>0.0</td>\n",
       "      <td>0.0</td>\n",
       "    </tr>\n",
       "    <tr>\n",
       "      <th>...</th>\n",
       "      <td>...</td>\n",
       "      <td>...</td>\n",
       "      <td>...</td>\n",
       "      <td>...</td>\n",
       "      <td>...</td>\n",
       "      <td>...</td>\n",
       "      <td>...</td>\n",
       "      <td>...</td>\n",
       "      <td>...</td>\n",
       "      <td>...</td>\n",
       "      <td>...</td>\n",
       "      <td>...</td>\n",
       "      <td>...</td>\n",
       "      <td>...</td>\n",
       "      <td>...</td>\n",
       "      <td>...</td>\n",
       "      <td>...</td>\n",
       "      <td>...</td>\n",
       "      <td>...</td>\n",
       "      <td>...</td>\n",
       "      <td>...</td>\n",
       "    </tr>\n",
       "    <tr>\n",
       "      <th>Donut County</th>\n",
       "      <td>0.000000</td>\n",
       "      <td>0.000000</td>\n",
       "      <td>0.0</td>\n",
       "      <td>0.000000</td>\n",
       "      <td>0.769338</td>\n",
       "      <td>0.0</td>\n",
       "      <td>0.0</td>\n",
       "      <td>0.000000</td>\n",
       "      <td>0.0</td>\n",
       "      <td>0.0</td>\n",
       "      <td>...</td>\n",
       "      <td>0.0</td>\n",
       "      <td>0.0</td>\n",
       "      <td>0.0</td>\n",
       "      <td>0.0</td>\n",
       "      <td>0.0</td>\n",
       "      <td>0.0</td>\n",
       "      <td>0.0</td>\n",
       "      <td>0.0</td>\n",
       "      <td>0.0</td>\n",
       "      <td>0.0</td>\n",
       "    </tr>\n",
       "    <tr>\n",
       "      <th>MotorStorm: Apocalypse</th>\n",
       "      <td>0.000000</td>\n",
       "      <td>0.000000</td>\n",
       "      <td>0.0</td>\n",
       "      <td>0.000000</td>\n",
       "      <td>0.000000</td>\n",
       "      <td>0.0</td>\n",
       "      <td>0.0</td>\n",
       "      <td>0.000000</td>\n",
       "      <td>0.0</td>\n",
       "      <td>0.0</td>\n",
       "      <td>...</td>\n",
       "      <td>0.0</td>\n",
       "      <td>0.0</td>\n",
       "      <td>0.0</td>\n",
       "      <td>0.0</td>\n",
       "      <td>0.0</td>\n",
       "      <td>0.0</td>\n",
       "      <td>0.0</td>\n",
       "      <td>0.0</td>\n",
       "      <td>0.0</td>\n",
       "      <td>0.0</td>\n",
       "    </tr>\n",
       "    <tr>\n",
       "      <th>The Last Guy</th>\n",
       "      <td>0.000000</td>\n",
       "      <td>0.000000</td>\n",
       "      <td>0.0</td>\n",
       "      <td>0.000000</td>\n",
       "      <td>0.366705</td>\n",
       "      <td>0.0</td>\n",
       "      <td>0.0</td>\n",
       "      <td>0.000000</td>\n",
       "      <td>0.0</td>\n",
       "      <td>0.0</td>\n",
       "      <td>...</td>\n",
       "      <td>0.0</td>\n",
       "      <td>0.0</td>\n",
       "      <td>0.0</td>\n",
       "      <td>0.0</td>\n",
       "      <td>0.0</td>\n",
       "      <td>0.0</td>\n",
       "      <td>0.0</td>\n",
       "      <td>0.0</td>\n",
       "      <td>0.0</td>\n",
       "      <td>0.0</td>\n",
       "    </tr>\n",
       "    <tr>\n",
       "      <th>Valiant Hearts: The Great War</th>\n",
       "      <td>0.686866</td>\n",
       "      <td>0.000000</td>\n",
       "      <td>0.0</td>\n",
       "      <td>0.208834</td>\n",
       "      <td>0.000000</td>\n",
       "      <td>0.0</td>\n",
       "      <td>0.0</td>\n",
       "      <td>0.000000</td>\n",
       "      <td>0.0</td>\n",
       "      <td>0.0</td>\n",
       "      <td>...</td>\n",
       "      <td>0.0</td>\n",
       "      <td>0.0</td>\n",
       "      <td>0.0</td>\n",
       "      <td>0.0</td>\n",
       "      <td>0.0</td>\n",
       "      <td>0.0</td>\n",
       "      <td>0.0</td>\n",
       "      <td>0.0</td>\n",
       "      <td>0.0</td>\n",
       "      <td>0.0</td>\n",
       "    </tr>\n",
       "    <tr>\n",
       "      <th>Mothergunship</th>\n",
       "      <td>0.000000</td>\n",
       "      <td>0.000000</td>\n",
       "      <td>0.0</td>\n",
       "      <td>0.645171</td>\n",
       "      <td>0.000000</td>\n",
       "      <td>0.0</td>\n",
       "      <td>0.0</td>\n",
       "      <td>0.000000</td>\n",
       "      <td>0.0</td>\n",
       "      <td>0.0</td>\n",
       "      <td>...</td>\n",
       "      <td>0.0</td>\n",
       "      <td>0.0</td>\n",
       "      <td>0.0</td>\n",
       "      <td>0.0</td>\n",
       "      <td>0.0</td>\n",
       "      <td>0.0</td>\n",
       "      <td>0.0</td>\n",
       "      <td>0.0</td>\n",
       "      <td>0.0</td>\n",
       "      <td>0.0</td>\n",
       "    </tr>\n",
       "  </tbody>\n",
       "</table>\n",
       "<p>5000 rows × 150 columns</p>\n",
       "</div>"
      ],
      "text/plain": [
       "                                            2d        3d   4x    action  \\\n",
       "Title                                                                     \n",
       "The Legend of Zelda: Ocarina of Time  0.000000  0.000000  0.0  0.000000   \n",
       "Tony Hawk's Pro Skater 2              0.000000  0.000000  0.0  0.000000   \n",
       "Grand Theft Auto IV                   0.000000  0.000000  0.0  0.000000   \n",
       "SoulCalibur                           0.000000  0.629232  0.0  0.342612   \n",
       "Grand Theft Auto IV                   0.000000  0.000000  0.0  0.000000   \n",
       "...                                        ...       ...  ...       ...   \n",
       "Donut County                          0.000000  0.000000  0.0  0.000000   \n",
       "MotorStorm: Apocalypse                0.000000  0.000000  0.0  0.000000   \n",
       "The Last Guy                          0.000000  0.000000  0.0  0.000000   \n",
       "Valiant Hearts: The Great War         0.686866  0.000000  0.0  0.208834   \n",
       "Mothergunship                         0.000000  0.000000  0.0  0.645171   \n",
       "\n",
       "                                      action adventure  action rpg  adventure  \\\n",
       "Title                                                                           \n",
       "The Legend of Zelda: Ocarina of Time          0.633865         0.0        0.0   \n",
       "Tony Hawk's Pro Skater 2                      0.000000         0.0        0.0   \n",
       "Grand Theft Auto IV                           0.329708         0.0        0.0   \n",
       "SoulCalibur                                   0.000000         0.0        0.0   \n",
       "Grand Theft Auto IV                           0.329708         0.0        0.0   \n",
       "...                                                ...         ...        ...   \n",
       "Donut County                                  0.769338         0.0        0.0   \n",
       "MotorStorm: Apocalypse                        0.000000         0.0        0.0   \n",
       "The Last Guy                                  0.366705         0.0        0.0   \n",
       "Valiant Hearts: The Great War                 0.000000         0.0        0.0   \n",
       "Mothergunship                                 0.000000         0.0        0.0   \n",
       "\n",
       "                                      alternative  application  arcade  ...  \\\n",
       "Title                                                                   ...   \n",
       "The Legend of Zelda: Ocarina of Time     0.000000          0.0     0.0  ...   \n",
       "Tony Hawk's Pro Skater 2                 0.623685          0.0     0.0  ...   \n",
       "Grand Theft Auto IV                      0.000000          0.0     0.0  ...   \n",
       "SoulCalibur                              0.000000          0.0     0.0  ...   \n",
       "Grand Theft Auto IV                      0.000000          0.0     0.0  ...   \n",
       "...                                           ...          ...     ...  ...   \n",
       "Donut County                             0.000000          0.0     0.0  ...   \n",
       "MotorStorm: Apocalypse                   0.000000          0.0     0.0  ...   \n",
       "The Last Guy                             0.000000          0.0     0.0  ...   \n",
       "Valiant Hearts: The Great War            0.000000          0.0     0.0  ...   \n",
       "Mothergunship                            0.000000          0.0     0.0  ...   \n",
       "\n",
       "                                      vehicle  vertical  virtual  \\\n",
       "Title                                                              \n",
       "The Legend of Zelda: Ocarina of Time      0.0       0.0      0.0   \n",
       "Tony Hawk's Pro Skater 2                  0.0       0.0      0.0   \n",
       "Grand Theft Auto IV                       0.0       0.0      0.0   \n",
       "SoulCalibur                               0.0       0.0      0.0   \n",
       "Grand Theft Auto IV                       0.0       0.0      0.0   \n",
       "...                                       ...       ...      ...   \n",
       "Donut County                              0.0       0.0      0.0   \n",
       "MotorStorm: Apocalypse                    0.0       0.0      0.0   \n",
       "The Last Guy                              0.0       0.0      0.0   \n",
       "Valiant Hearts: The Great War             0.0       0.0      0.0   \n",
       "Mothergunship                             0.0       0.0      0.0   \n",
       "\n",
       "                                      virtual life  visual novel  \\\n",
       "Title                                                              \n",
       "The Legend of Zelda: Ocarina of Time           0.0           0.0   \n",
       "Tony Hawk's Pro Skater 2                       0.0           0.0   \n",
       "Grand Theft Auto IV                            0.0           0.0   \n",
       "SoulCalibur                                    0.0           0.0   \n",
       "Grand Theft Auto IV                            0.0           0.0   \n",
       "...                                            ...           ...   \n",
       "Donut County                                   0.0           0.0   \n",
       "MotorStorm: Apocalypse                         0.0           0.0   \n",
       "The Last Guy                                   0.0           0.0   \n",
       "Valiant Hearts: The Great War                  0.0           0.0   \n",
       "Mothergunship                                  0.0           0.0   \n",
       "\n",
       "                                      wakeboarding  wargame  western-style  \\\n",
       "Title                                                                        \n",
       "The Legend of Zelda: Ocarina of Time           0.0      0.0            0.0   \n",
       "Tony Hawk's Pro Skater 2                       0.0      0.0            0.0   \n",
       "Grand Theft Auto IV                            0.0      0.0            0.0   \n",
       "SoulCalibur                                    0.0      0.0            0.0   \n",
       "Grand Theft Auto IV                            0.0      0.0            0.0   \n",
       "...                                            ...      ...            ...   \n",
       "Donut County                                   0.0      0.0            0.0   \n",
       "MotorStorm: Apocalypse                         0.0      0.0            0.0   \n",
       "The Last Guy                                   0.0      0.0            0.0   \n",
       "Valiant Hearts: The Great War                  0.0      0.0            0.0   \n",
       "Mothergunship                                  0.0      0.0            0.0   \n",
       "\n",
       "                                      wrestling  wwii  \n",
       "Title                                                  \n",
       "The Legend of Zelda: Ocarina of Time        0.0   0.0  \n",
       "Tony Hawk's Pro Skater 2                    0.0   0.0  \n",
       "Grand Theft Auto IV                         0.0   0.0  \n",
       "SoulCalibur                                 0.0   0.0  \n",
       "Grand Theft Auto IV                         0.0   0.0  \n",
       "...                                         ...   ...  \n",
       "Donut County                                0.0   0.0  \n",
       "MotorStorm: Apocalypse                      0.0   0.0  \n",
       "The Last Guy                                0.0   0.0  \n",
       "Valiant Hearts: The Great War               0.0   0.0  \n",
       "Mothergunship                               0.0   0.0  \n",
       "\n",
       "[5000 rows x 150 columns]"
      ]
     },
     "execution_count": 10,
     "metadata": {},
     "output_type": "execute_result"
    }
   ],
   "source": [
    "pd.DataFrame(tfidf_matrix.todense(), columns=tf.get_feature_names(),   index=game_data.Title)"
   ]
  },
  {
   "cell_type": "code",
   "execution_count": 11,
   "metadata": {
    "cell_id": "00007-8c0536fc-a3aa-4821-a747-c93d36e2afdc",
    "deepnote_cell_type": "code",
    "deepnote_to_be_reexecuted": false,
    "execution_millis": 397,
    "execution_start": 1615409583196,
    "source_hash": "77a3d7de",
    "tags": []
   },
   "outputs": [
    {
     "data": {
      "text/plain": [
       "(5000, 5000)"
      ]
     },
     "execution_count": 11,
     "metadata": {},
     "output_type": "execute_result"
    }
   ],
   "source": [
    "cosine_sim = cosine_similarity(tfidf_matrix)\n",
    "cosine_sim.shape"
   ]
  },
  {
   "cell_type": "code",
   "execution_count": 12,
   "metadata": {
    "cell_id": "00011-f4c95f8b-5d85-46c1-aac4-d115d9d1b33c",
    "deepnote_cell_type": "code",
    "deepnote_to_be_reexecuted": false,
    "execution_millis": 0,
    "execution_start": 1615409623964,
    "source_hash": "7f7f8e59",
    "tags": []
   },
   "outputs": [],
   "source": [
    "def convert_game_to_index(title, platform):\n",
    "    \"\"\"Converts given title and platform to an index (note: in future versions we should reformat data)\"\"\"\n",
    "    return game_data[game_data['Title'] == title][game_data['Platform'] == platform]['Unnamed: 0'].iloc[0]"
   ]
  },
  {
   "cell_type": "code",
   "execution_count": 13,
   "metadata": {
    "cell_id": "00010-226ae6de-356a-4ba8-a468-ccf2a782c8fc",
    "deepnote_cell_type": "code",
    "deepnote_to_be_reexecuted": false,
    "execution_millis": 0,
    "execution_start": 1615400009541,
    "source_hash": "5e6ff192",
    "tags": []
   },
   "outputs": [],
   "source": [
    "def baseline_rating(username):\n",
    "    \"\"\" Returns the squared difference of the actual value from the mean userscore \"\"\"\n",
    "    list_of_ratings=user_data_test[user_data_test['Username'] == username]\n",
    "    query=list_of_ratings.tail()\n",
    "    return (user_data_train_mean_userscore-query['Userscore'].iloc[0])**2"
   ]
  },
  {
   "cell_type": "code",
   "execution_count": 289,
   "metadata": {
    "cell_id": "00010-8b1286a2-dc13-4be5-b2cb-678beef809e0",
    "deepnote_cell_type": "code",
    "deepnote_to_be_reexecuted": false,
    "execution_millis": 1,
    "execution_start": 1615409878259,
    "source_hash": "10234113",
    "tags": []
   },
   "outputs": [],
   "source": [
    "def score_to_rating(w, predicted_score, num_similar_games):\n",
    "    \"\"\"Simple linear model which goes from predicted score-> actual score\"\"\"\n",
    "    result=w[0]*predicted_score+w[1]\n",
    "    #print(result)\n",
    "    if(result>10):\n",
    "        return 10\n",
    "    elif(result<0):\n",
    "        return 0\n",
    "    return result\n",
    "\n",
    "def update_weights(w, predicted_score, actual_score, alpha):\n",
    "    difference=(w[0]*predicted_score+w[1]-actual_score)\n",
    "    # Updates according to gradient descent \n",
    "    wnew1=w[0]-2*alpha*difference*predicted_score\n",
    "    wnew2=w[1]-2*alpha*difference\n",
    "    if(wnew1<0):\n",
    "        wnew1=w[0]\n",
    "    if(wnew2>10):\n",
    "        wnew2=w[1]\n",
    "    return [wnew1, wnew2]"
   ]
  },
  {
   "cell_type": "code",
   "execution_count": 48,
   "metadata": {
    "cell_id": "00011-2bc1312e-a0e4-41fa-ac35-3feb4214ce45",
    "deepnote_cell_type": "code",
    "deepnote_to_be_reexecuted": false,
    "execution_millis": 0,
    "execution_start": 1615409798196,
    "source_hash": "822fa6d9",
    "tags": []
   },
   "outputs": [],
   "source": [
    "x1=[]\n",
    "x2=[]\n",
    "x3=[]"
   ]
  },
  {
   "cell_type": "code",
   "execution_count": 318,
   "metadata": {
    "cell_id": "00014-c091e3fb-b8cf-45d5-9aa3-fba5b98ac96d",
    "deepnote_cell_type": "code",
    "deepnote_to_be_reexecuted": false,
    "execution_millis": 0,
    "execution_start": 1615409750902,
    "source_hash": "478b7b6e",
    "tags": []
   },
   "outputs": [],
   "source": [
    "def predict_rating(username, w, is_training):\n",
    "    # Get all ratings from the user\n",
    "    if(is_training):\n",
    "        list_of_ratings = user_data_train[user_data_train['Username'] == username]\n",
    "    else:\n",
    "        list_of_ratings=user_data_test[user_data_test['Username'] == username]\n",
    "\n",
    "    # Choose a rating to hide and predict its score.\n",
    "    query = list_of_ratings.iloc[0]\n",
    "    query_game = convert_game_to_index(query['Title'], query['Platform'])\n",
    "    # print('Queried Game')\n",
    "    # print(game_data.iloc[query_game])\n",
    "\n",
    "    epsilon = 10**-6\n",
    "    predicted_score = 0\n",
    "    total_cos_sim=0\n",
    "    num_similar_games = 0 # number of games that have some cosine similarity to the query game\n",
    "    for index, r in list_of_ratings.iterrows():\n",
    "            game = convert_game_to_index(r['Title'], r['Platform'])\n",
    "            cos_sim = cosine_sim[game, query_game]\n",
    "            \n",
    "            # If cosine similarity is non-zero, consider the user's score for this game in our predicted score\n",
    "            if(abs(cos_sim) > epsilon) and game != query_game:\n",
    "                # compute the predicted score via an average (computed iteratively)\n",
    "                num_similar_games += 1\n",
    "                total_cos_sim+=cos_sim\n",
    "                predicted_score+= cos_sim*r['Userscore'] \n",
    "\n",
    "    # If the user has not reviewed any similar game, then predict the average userscore of the queried game\n",
    "    if not num_similar_games:\n",
    "        predicted_score = user_data_train_mean_userscore\n",
    "    else:\n",
    "        predicted_score=(predicted_score)/(total_cos_sim)\n",
    "        if(is_training):\n",
    "            x1.append(predicted_score)\n",
    "            x2.append(num_similar_games)\n",
    "            x3.append(query['Userscore'])\n",
    "            w=update_weights(w, predicted_score, query['Userscore'], 0.01)\n",
    "        predicted_score=score_to_rating(w, predicted_score, num_similar_games)\n",
    "    # Predicted rating after normalization minus actual score\n",
    "    return (predicted_score - query['Userscore'])**2, w"
   ]
  },
  {
   "cell_type": "code",
   "execution_count": 319,
   "metadata": {
    "cell_id": "00018-e3c79dfe-4e09-4173-9ff3-82de7efd8151",
    "deepnote_cell_type": "code",
    "deepnote_to_be_reexecuted": false,
    "execution_millis": 11,
    "execution_start": 1615409770290,
    "source_hash": "f8aa16a9",
    "tags": []
   },
   "outputs": [
    {
     "name": "stdout",
     "output_type": "stream",
     "text": [
      "28672\n",
      "8193\n"
     ]
    }
   ],
   "source": [
    "user_name_trains = user_data_train['Username'].value_counts().index.tolist()\n",
    "user_name_tests = user_data_test['Username'].value_counts().index.tolist()\n",
    "print(len(user_name_trains))\n",
    "print(len(user_name_tests))\n"
   ]
  },
  {
   "cell_type": "code",
   "execution_count": 320,
   "metadata": {
    "cell_id": "00019-5d8a8e65-a3e8-40cc-95c3-e7aca2f47af1",
    "deepnote_cell_type": "code",
    "deepnote_to_be_reexecuted": false,
    "execution_millis": 546634,
    "execution_start": 1615409885286,
    "output_cleared": false,
    "source_hash": "7400e7f",
    "tags": []
   },
   "outputs": [
    {
     "name": "stderr",
     "output_type": "stream",
     "text": [
      "<ipython-input-12-9a25e70527bb>:3: UserWarning: Boolean Series key will be reindexed to match DataFrame index.\n",
      "  return game_data[game_data['Title'] == title][game_data['Platform'] == platform]['Unnamed: 0'].iloc[0]\n"
     ]
    },
    {
     "name": "stdout",
     "output_type": "stream",
     "text": [
      "Content-Based Filtering Training Error 3.0654688816386777\n"
     ]
    }
   ],
   "source": [
    "total_error=0\n",
    "\n",
    "w=[1,1]\n",
    "is_training=True \n",
    "for u in user_name_trains:\n",
    "    error,w=predict_rating(u, w, is_training)\n",
    "    #print(error,w)\n",
    "    total_error=total_error+error\n",
    "\n",
    "print(\"Content-Based Filtering Training Error\", sqrt(total_error/(len(user_name_trains))))\n",
    "\n",
    "\n",
    "\n",
    "\n",
    "\n",
    "\n",
    "\n",
    "#print(\"Baseline Error\", sqrt(total_baselineerror/(len(user_name_list))))\n",
    "\n"
   ]
  },
  {
   "cell_type": "code",
   "execution_count": 321,
   "metadata": {},
   "outputs": [
    {
     "data": {
      "text/plain": [
       "[1.587110282211329, 0.5346428918096564]"
      ]
     },
     "execution_count": 321,
     "metadata": {},
     "output_type": "execute_result"
    }
   ],
   "source": [
    "w"
   ]
  },
  {
   "cell_type": "markdown",
   "metadata": {
    "cell_id": "00020-87a0fef7-989d-4a27-ab85-75cd44b47b5b",
    "deepnote_cell_type": "markdown",
    "tags": []
   },
   "source": [
    "Cite our sources: https://towardsdatascience.com/content-based-recommender-systems-28a1dbd858f5\n",
    "Write up results in paper"
   ]
  },
  {
   "cell_type": "code",
   "execution_count": 322,
   "metadata": {
    "cell_id": "00018-da816201-23e4-49fa-aee9-b37fd8ce11aa",
    "deepnote_cell_type": "code",
    "deepnote_to_be_reexecuted": false,
    "execution_millis": 102990,
    "execution_start": 1615410532674,
    "source_hash": "1e509ba7",
    "tags": []
   },
   "outputs": [
    {
     "name": "stderr",
     "output_type": "stream",
     "text": [
      "<ipython-input-12-9a25e70527bb>:3: UserWarning: Boolean Series key will be reindexed to match DataFrame index.\n",
      "  return game_data[game_data['Title'] == title][game_data['Platform'] == platform]['Unnamed: 0'].iloc[0]\n"
     ]
    },
    {
     "name": "stdout",
     "output_type": "stream",
     "text": [
      "Content-Based Filtering Testing Error 3.1957939533817257\n"
     ]
    }
   ],
   "source": [
    "is_training=False\n",
    "train_error=0\n",
    "for u in user_name_tests:\n",
    "    error=predict_rating(u,w, is_training)[0]\n",
    "    train_error=train_error+error\n",
    "\n",
    "print(\"Content-Based Filtering Testing Error\", sqrt(train_error/(len(user_name_tests))))"
   ]
  },
  {
   "cell_type": "markdown",
   "metadata": {
    "cell_id": "00019-d1a66ba8-0e86-448c-b4bc-b52f875a281a",
    "deepnote_cell_type": "code",
    "deepnote_to_be_reexecuted": false,
    "execution_millis": 26,
    "execution_start": 1615401009997,
    "source_hash": "9527aab5",
    "tags": []
   },
   "source": [
    "# Justin: My attempts at linear regression below, they went poorly :-("
   ]
  },
  {
   "cell_type": "code",
   "execution_count": 308,
   "metadata": {},
   "outputs": [
    {
     "data": {
      "text/plain": [
       "<matplotlib.collections.PathCollection at 0x24e22767190>"
      ]
     },
     "execution_count": 308,
     "metadata": {},
     "output_type": "execute_result"
    },
    {
     "data": {
      "image/png": "[encoded data removed]",
      "text/plain": [
       "<Figure size 432x288 with 1 Axes>"
      ]
     },
     "metadata": {
      "needs_background": "light"
     },
     "output_type": "display_data"
    }
   ],
   "source": [
    "plt.scatter(x1, x3)"
   ]
  },
  {
   "cell_type": "code",
   "execution_count": 310,
   "metadata": {},
   "outputs": [
    {
     "data": {
      "text/plain": [
       "8.020570090066313"
      ]
     },
     "execution_count": 310,
     "metadata": {},
     "output_type": "execute_result"
    }
   ],
   "source": [
    "np.mean(x1)\n",
    "np.mean(x3)"
   ]
  },
  {
   "cell_type": "code",
   "execution_count": 234,
   "metadata": {
    "cell_id": "00021-6418c8a5-a658-4b99-ba3d-6449809a66ad",
    "deepnote_cell_type": "code",
    "deepnote_to_be_reexecuted": false,
    "execution_millis": 1,
    "execution_start": 1615403491351,
    "source_hash": "e72b8daa",
    "tags": []
   },
   "outputs": [],
   "source": [
    "#x=[[x1[i], x2[i]] for i in range(len(x1))]\n",
    "x=np.array(x1).reshape((-1, 1))"
   ]
  },
  {
   "cell_type": "code",
   "execution_count": 311,
   "metadata": {
    "cell_id": "00022-b5ebe7d1-0f5a-495b-b894-a8ab58fb8528",
    "deepnote_cell_type": "code",
    "deepnote_to_be_reexecuted": false,
    "execution_millis": 1,
    "execution_start": 1615403499362,
    "source_hash": "ab673a8b",
    "tags": []
   },
   "outputs": [
    {
     "data": {
      "text/plain": [
       "array([[6.80567272, 2.43992748],\n",
       "       [2.43992748, 8.88961497]])"
      ]
     },
     "execution_count": 311,
     "metadata": {},
     "output_type": "execute_result"
    }
   ],
   "source": [
    "y=np.array(x3)\n",
    "\n",
    "np.cov(np.array(x1), np.array(x3))"
   ]
  },
  {
   "cell_type": "code",
   "execution_count": 279,
   "metadata": {
    "cell_id": "00034-b6352cf6-f940-4e8c-a023-16fedccad3e7",
    "deepnote_cell_type": "code",
    "deepnote_to_be_reexecuted": false,
    "execution_millis": 11,
    "execution_start": 1615401522812,
    "source_hash": "83fb249f",
    "tags": []
   },
   "outputs": [],
   "source": [
    "model = LinearRegression().fit(x_, y)"
   ]
  },
  {
   "cell_type": "code",
   "execution_count": 280,
   "metadata": {
    "cell_id": "00035-0b11f887-5eb0-49f4-8d77-ac53e7049e88",
    "deepnote_cell_type": "code",
    "deepnote_to_be_reexecuted": false,
    "execution_millis": 55,
    "execution_start": 1615401523775,
    "source_hash": "a7d0a890",
    "tags": []
   },
   "outputs": [
    {
     "name": "stdout",
     "output_type": "stream",
     "text": [
      "coefficient of determination: 0.11776979566518397\n",
      "[0.3502422]\n"
     ]
    }
   ],
   "source": [
    "r_sq = model.score(x_, y)\n",
    "print('coefficient of determination:', r_sq)\n",
    "\n",
    "coefficients=model.coef_\n",
    "print(coefficients)"
   ]
  },
  {
   "cell_type": "code",
   "execution_count": 229,
   "metadata": {
    "cell_id": "00036-0c609e83-373b-4239-a51e-44e91ad42126",
    "deepnote_cell_type": "code",
    "deepnote_to_be_reexecuted": false,
    "execution_millis": 330,
    "execution_start": 1615410794563,
    "source_hash": "29116f4a",
    "tags": []
   },
   "outputs": [
    {
     "data": {
      "text/plain": [
       "8.002707950132843"
      ]
     },
     "execution_count": 229,
     "metadata": {},
     "output_type": "execute_result"
    }
   ],
   "source": [
    "mean(x1)\n",
    "mean(x3)"
   ]
  },
  {
   "cell_type": "code",
   "execution_count": 57,
   "metadata": {
    "cell_id": "00035-112a3c9b-23ae-4995-8331-d3b6c327f914",
    "deepnote_cell_type": "code",
    "deepnote_to_be_reexecuted": false,
    "execution_millis": 1,
    "execution_start": 1615410859324,
    "source_hash": "cf800b70",
    "tags": []
   },
   "outputs": [],
   "source": [
    "from numpy import mean"
   ]
  },
  {
   "cell_type": "code",
   "execution_count": 63,
   "metadata": {
    "cell_id": "00036-880645d0-ca24-4734-9ca1-770a977c35f6",
    "deepnote_cell_type": "code",
    "deepnote_to_be_reexecuted": false,
    "execution_millis": 3,
    "execution_start": 1615410881913,
    "source_hash": "206c569f",
    "tags": []
   },
   "outputs": [
    {
     "data": {
      "text/plain": [
       "4.829969902258525"
      ]
     },
     "execution_count": 63,
     "metadata": {},
     "output_type": "execute_result"
    }
   ],
   "source": [
    "mean(x1)"
   ]
  },
  {
   "cell_type": "code",
   "execution_count": 153,
   "metadata": {
    "cell_id": "00037-4e2f9edd-e864-4597-bea9-24a91b9d4cea",
    "deepnote_cell_type": "code",
    "deepnote_to_be_reexecuted": false,
    "execution_millis": 331,
    "execution_start": 1615403603738,
    "source_hash": "29116f4a",
    "tags": []
   },
   "outputs": [
    {
     "data": {
      "text/plain": [
       "<matplotlib.collections.PathCollection at 0x24e0ecab250>"
      ]
     },
     "execution_count": 153,
     "metadata": {},
     "output_type": "execute_result"
    },
    {
     "data": {
      "image/png": "[encoded data removed]",
      "text/plain": [
       "<Figure size 432x288 with 1 Axes>"
      ]
     },
     "metadata": {
      "needs_background": "light"
     },
     "output_type": "display_data"
    }
   ],
   "source": [
    "plt.xlabel(\"Number of Games Reviewed\")\n",
    "plt.ylabel(\"Actual Rating\")\n",
    "plt.scatter(x2, x3)"
   ]
  },
  {
   "cell_type": "code",
   "execution_count": 299,
   "metadata": {
    "cell_id": "00038-96d2cf1b-651e-4a30-9ebb-0971355d72f7",
    "deepnote_cell_type": "code",
    "deepnote_to_be_reexecuted": false,
    "execution_millis": 9,
    "execution_start": 1615403657615,
    "source_hash": "206c569f",
    "tags": []
   },
   "outputs": [
    {
     "data": {
      "text/plain": [
       "8.029086479902558"
      ]
     },
     "execution_count": 299,
     "metadata": {},
     "output_type": "execute_result"
    }
   ],
   "source": [
    "mean(x1)\n",
    "mean(x3)"
   ]
  },
  {
   "cell_type": "code",
   "execution_count": null,
   "metadata": {
    "cell_id": "00039-722e727c-b7aa-476e-af80-fd23bf8c4b0a",
    "deepnote_cell_type": "code",
    "deepnote_to_be_reexecuted": false,
    "execution_millis": 2,
    "execution_start": 1615403654618,
    "source_hash": "b2d61d3",
    "tags": []
   },
   "outputs": [],
   "source": [
    "from statistics import mean"
   ]
  },
  {
   "cell_type": "code",
   "execution_count": null,
   "metadata": {
    "cell_id": "00040-6c536a16-e001-4bbb-9f35-de3a776ad94e",
    "deepnote_cell_type": "code",
    "deepnote_to_be_reexecuted": false,
    "execution_millis": 51,
    "execution_start": 1615403662200,
    "source_hash": "19a01ba0",
    "tags": []
   },
   "outputs": [
    {
     "data": {
      "text/plain": [
       "8"
      ]
     },
     "execution_count": 172,
     "metadata": {},
     "output_type": "execute_result"
    }
   ],
   "source": [
    "mean(x3)"
   ]
  },
  {
   "cell_type": "markdown",
   "metadata": {},
   "source": [
    "# Justin note: this function is from https://towardsdatascience.com/content-based-recommender-systems-28a1dbd858f5"
   ]
  },
  {
   "cell_type": "code",
   "execution_count": 121,
   "metadata": {
    "cell_id": "00041-b9ccbcad-c0d3-4f9f-9d9d-4c5ca733c880",
    "deepnote_cell_type": "code",
    "deepnote_to_be_reexecuted": false,
    "execution_millis": 1,
    "execution_start": 1615406693363,
    "source_hash": "129fe951",
    "tags": []
   },
   "outputs": [],
   "source": [
    "\n",
    "\n",
    "def genre_recommendations(i, M, items, k=100):\n",
    "    \"\"\"\n",
    "    Recommends movies based on a similarity dataframe\n",
    "    Parameters\n",
    "    ----------\n",
    "    i : str\n",
    "        Movie title (index of the similarity dataframe)\n",
    "    M : pd.DataFrame\n",
    "        Similarity dataframe, symmetric, with movies as indices and columns\n",
    "    items : pd.DataFrame\n",
    "        Contains both the title and some other features used to define similarity\n",
    "    k : int\n",
    "        Amount of recommendations to return\n",
    "    \"\"\"\n",
    "    if(len(M.loc[:,i].shape))>1:\n",
    "        ix = M.loc[:,i].iloc[:,0].to_numpy().argpartition(range(-1,-k,-1))\n",
    "        print(ix)\n",
    "    else:\n",
    "        ix=M.loc[:,i].to_numpy().argpartition(range(-1,-k,-1))\n",
    "        #print(ix[-1])\n",
    "        for i in ix[-1:(-k+2):-1]:\n",
    "            #print(i)\n",
    "            print(cosine_sim[ix[-1]][i])\n",
    "            print(game_data[game_data['Unnamed: 0']==i][['Title', 'Genre']])\n",
    "    closest = M.columns[ix[-1:-(k+2):-1]]\n",
    "    #closest = closest.drop(i, errors='ignore')\n",
    "    return pd.DataFrame(closest).drop_duplicates().merge(items).head(k)"
   ]
  },
  {
   "cell_type": "code",
   "execution_count": 122,
   "metadata": {
    "cell_id": "00042-8ac96746-0b69-4f09-afef-608d42d053c6",
    "deepnote_cell_type": "code",
    "deepnote_to_be_reexecuted": false,
    "execution_millis": 67,
    "execution_start": 1615406785072,
    "source_hash": "fcde8e44",
    "tags": []
   },
   "outputs": [
    {
     "name": "stdout",
     "output_type": "stream",
     "text": [
      "1.0\n",
      "                                  Title                     Genre\n",
      "0  The Legend of Zelda: Ocarina of Time  Action Adventure;Fantasy\n",
      "1.0\n",
      "                 Title                     Genre\n",
      "86  Ninja Gaiden Black  Action Adventure;Fantasy\n",
      "1.0\n",
      "                            Title                     Genre\n",
      "4368  Sphinx and the Cursed Mummy  Action Adventure;Fantasy\n",
      "1.0\n",
      "          Title                     Genre\n",
      "101  God of War  Action Adventure;Fantasy\n",
      "1.0\n",
      "                      Title                     Genre\n",
      "2645  Thief: Deadly Shadows  Action Adventure;Fantasy\n",
      "1.0\n",
      "                            Title                     Genre\n",
      "4207  Sphinx and the Cursed Mummy  Action Adventure;Fantasy\n",
      "1.0\n",
      "                                 Title                     Genre\n",
      "2239  Prince of Persia: Warrior Within  Action Adventure;Fantasy\n",
      "1.0\n",
      "                            Title                     Genre\n",
      "4172  Sphinx and the Cursed Mummy  Action Adventure;Fantasy\n",
      "1.0\n",
      "                                   Title                     Genre\n",
      "1813  Devil May Cry 3: Dante's Awakening  Action Adventure;Fantasy\n",
      "1.0\n",
      "                              Title                     Genre\n",
      "2010  Onimusha 2: Samurai's Destiny  Action Adventure;Fantasy\n",
      "1.0\n",
      "                                         Title                     Genre\n",
      "2014  Ecco the Dolphin: Defender of the Future  Action Adventure;Fantasy\n",
      "1.0\n",
      "                                 Title                     Genre\n",
      "2016  Prince of Persia: Warrior Within  Action Adventure;Fantasy\n",
      "1.0\n",
      "             Title                     Genre\n",
      "121  God of War II  Action Adventure;Fantasy\n",
      "1.0\n",
      "            Title                     Genre\n",
      "66  Devil May Cry  Action Adventure;Fantasy\n",
      "1.0\n",
      "                                  Title                     Genre\n",
      "1737  Prince of Persia: The Two Thrones  Action Adventure;Fantasy\n",
      "1.0\n",
      "                                Title                     Genre\n",
      "920  Devil May Cry 3: Special Edition  Action Adventure;Fantasy\n",
      "1.0\n",
      "                           Title                     Genre\n",
      "3898  Otogi 2: Immortal Warriors  Action Adventure;Fantasy\n",
      "1.0\n",
      "                                 Title                     Genre\n",
      "50  The Legend of Zelda: Majora's Mask  Action Adventure;Fantasy\n",
      "1.0\n",
      "                                      Title                     Genre\n",
      "49  The Legend of Zelda: A Link to the Past  Action Adventure;Fantasy\n",
      "1.0\n",
      "                                        Title                     Genre\n",
      "4938  Harry Potter and the Chamber of Secrets  Action Adventure;Fantasy\n",
      "1.0\n",
      "                  Title                     Genre\n",
      "943  Beyond Good & Evil  Action Adventure;Fantasy\n",
      "1.0\n",
      "    Title                     Genre\n",
      "367   ICO  Action Adventure;Fantasy\n",
      "1.0\n",
      "                                      Title                     Genre\n",
      "45  The Legend of Zelda Collector's Edition  Action Adventure;Fantasy\n",
      "1.0\n",
      "                                   Title                     Genre\n",
      "554  The Legend of Zelda: The Minish Cap  Action Adventure;Fantasy\n",
      "1.0\n",
      "                                         Title                     Genre\n",
      "4944  Tenchu 2: Birth of the Stealth Assassins  Action Adventure;Fantasy\n",
      "1.0\n",
      "     Title                     Genre\n",
      "134  Okami  Action Adventure;Fantasy\n",
      "1.0\n",
      "                      Title                     Genre\n",
      "3827  Otogi: Myth of Demons  Action Adventure;Fantasy\n",
      "1.0\n",
      "                  Title                     Genre\n",
      "994  Beyond Good & Evil  Action Adventure;Fantasy\n",
      "1.0\n",
      "                            Title                     Genre\n",
      "4586  Drakan: The Ancients' Gates  Action Adventure;Fantasy\n",
      "1.0\n",
      "                                  Title                     Genre\n",
      "36  The Legend of Zelda: The Wind Waker  Action Adventure;Fantasy\n",
      "1.0\n",
      "                               Title                     Genre\n",
      "2075  Rygar: The Legendary Adventure  Action Adventure;Fantasy\n",
      "1.0\n",
      "                                     Title                     Genre\n",
      "32  The Legend of Zelda: Twilight Princess  Action Adventure;Fantasy\n",
      "1.0\n",
      "                          Title                     Genre\n",
      "1075  Tenchu: Stealth Assassins  Action Adventure;Fantasy\n",
      "1.0\n",
      "                        Title                     Genre\n",
      "4311  Tenchu: Wrath of Heaven  Action Adventure;Fantasy\n",
      "1.0\n",
      "                Title                     Genre\n",
      "4772  Luigi's Mansion  Action Adventure;Fantasy\n",
      "1.0\n",
      "                                            Title                     Genre\n",
      "1239  The Legend of Zelda: Four Swords Adventures  Action Adventure;Fantasy\n",
      "1.0\n",
      "                        Title                     Genre\n",
      "1411  Onimusha 3: Demon Siege  Action Adventure;Fantasy\n",
      "1.0\n",
      "                                   Title                     Genre\n",
      "175  Prince of Persia: The Sands of Time  Action Adventure;Fantasy\n",
      "1.0\n",
      "                                  Title                     Genre\n",
      "1539  Prince of Persia: The Two Thrones  Action Adventure;Fantasy\n",
      "1.0\n",
      "                                                 Title  \\\n",
      "290  The Legend of Zelda: Ocarina of Time / Master ...   \n",
      "\n",
      "                        Genre  \n",
      "290  Action Adventure;Fantasy  \n",
      "1.0\n",
      "                      Title                     Genre\n",
      "287  Shadow of the Colossus  Action Adventure;Fantasy\n",
      "1.0\n",
      "               Title                     Genre\n",
      "2117  Genma Onimusha  Action Adventure;Fantasy\n",
      "1.0\n",
      "                         Title                     Genre\n",
      "3212  Onimusha: Dawn of Dreams  Action Adventure;Fantasy\n",
      "1.0\n",
      "                                   Title                     Genre\n",
      "219  Prince of Persia: The Sands of Time  Action Adventure;Fantasy\n",
      "1.0\n",
      "                   Title                     Genre\n",
      "1199  Beyond Good & Evil  Action Adventure;Fantasy\n",
      "1.0\n",
      "                   Title                     Genre\n",
      "1117  Onimusha: Warlords  Action Adventure;Fantasy\n",
      "1.0\n",
      "                                Title                     Genre\n",
      "2384  Boktai: The Sun Is in Your Hand  Action Adventure;Fantasy\n",
      "1.0\n",
      "                                 Title                     Genre\n",
      "2160  Prince of Persia: Warrior Within  Action Adventure;Fantasy\n",
      "1.0\n",
      "            Title                     Genre\n",
      "296  Ninja Gaiden  Action Adventure;Fantasy\n",
      "1.0\n",
      "                                   Title                     Genre\n",
      "167  Prince of Persia: The Sands of Time  Action Adventure;Fantasy\n",
      "0.9118988929718546\n",
      "                     Title                                     Genre\n",
      "310  Batman: Arkham Asylum  Action Adventure;Fantasy;General;Fantasy\n",
      "0.9118988929718546\n",
      "                 Title                                     Genre\n",
      "2764  Prince of Persia  Action Adventure;Fantasy;General;Fantasy\n",
      "0.9118988929718546\n",
      "                              Title                                     Genre\n",
      "2689  Oddworld: Stranger's Wrath HD  Action Adventure;Fantasy;General;Fantasy\n",
      "0.9118988929718546\n",
      "                      Title                                     Genre\n",
      "2092  Beyond Good & Evil HD  Action Adventure;Fantasy;General;Fantasy\n",
      "0.9118988929718546\n",
      "                             Title                                     Genre\n",
      "1566  Castlevania: Lords of Shadow  Action Adventure;Fantasy;General;Fantasy\n",
      "0.9118988929718546\n",
      "                      Title                                     Genre\n",
      "1570  Thief: Deadly Shadows  Action Adventure;Fantasy;General;Fantasy\n",
      "0.9118988929718546\n",
      "            Title                                     Genre\n",
      "4240  Overlord II  Action Adventure;Fantasy;General;Fantasy\n",
      "0.9118988929718546\n",
      "                         Title                                     Genre\n",
      "3327  LEGO Marvel Super Heroes  Action Adventure;Fantasy;General;Fantasy\n",
      "0.9118988929718546\n",
      "                     Title                                     Genre\n",
      "331  Batman: Arkham Asylum  Action Adventure;Fantasy;General;Fantasy\n",
      "0.9118988929718546\n",
      "                     Title                                     Genre\n",
      "2295  Ninja Gaiden Sigma 2  Action Adventure;Fantasy;General;Fantasy\n",
      "0.9118988929718546\n",
      "                           Title                                     Genre\n",
      "1294  Luigi's Mansion: Dark Moon  Action Adventure;Fantasy;General;Fantasy\n",
      "0.9118988929718546\n",
      "                                  Title  \\\n",
      "2296  Dragon Quest Heroes: Rocket Slime   \n",
      "\n",
      "                                         Genre  \n",
      "2296  Action Adventure;Fantasy;General;Fantasy  \n",
      "0.9118988929718546\n",
      "                           Title                                     Genre\n",
      "2288  Ninja Gaiden: Dragon Sword  Action Adventure;Fantasy;General;Fantasy\n",
      "0.9118988929718546\n",
      "                 Title                                     Genre\n",
      "1620  Prince of Persia  Action Adventure;Fantasy;General;Fantasy\n",
      "0.9118988929718546\n",
      "         Title                                     Genre\n",
      "3048  Overlord  Action Adventure;Fantasy;General;Fantasy\n",
      "0.9118988929718546\n",
      "                                                  Title  \\\n",
      "1489  The Legend of Zelda: Four Swords Anniversary E...   \n",
      "\n",
      "                                         Genre  \n"
     ]
    },
    {
     "name": "stdout",
     "output_type": "stream",
     "text": [
      "1489  Action Adventure;Fantasy;General;Fantasy  \n",
      "0.9118988929718546\n",
      "                         Title                                     Genre\n",
      "4443  LEGO Marvel Super Heroes  Action Adventure;Fantasy;General;Fantasy\n",
      "0.9118988929718546\n",
      "                         Title                                     Genre\n",
      "2466  LEGO Marvel Super Heroes  Action Adventure;Fantasy;General;Fantasy\n",
      "0.9118988929718546\n",
      "                Title                                     Genre\n",
      "3230  Ninja Gaiden II  Action Adventure;Fantasy;General;Fantasy\n",
      "0.9118988929718546\n",
      "                         Title                                     Genre\n",
      "2452  LEGO Marvel Super Heroes  Action Adventure;Fantasy;General;Fantasy\n",
      "0.9118988929718546\n",
      "                   Title                                     Genre\n",
      "2043  Beyond Good & Evil  Action Adventure;Fantasy;General;Fantasy\n",
      "0.9118988929718546\n",
      "                              Title                                     Genre\n",
      "2185  Oddworld: Stranger's Wrath HD  Action Adventure;Fantasy;General;Fantasy\n",
      "0.9118988929718546\n",
      "                       Title                                     Genre\n",
      "914  Thief II: The Metal Age  Action Adventure;Fantasy;General;Fantasy\n",
      "0.9118988929718546\n",
      "        Title                                     Genre\n",
      "4542  Strider  Action Adventure;Fantasy;General;Fantasy\n",
      "0.9118988929718546\n",
      "                                              Title  \\\n",
      "2985  Castlevania: Lords of Shadow Ultimate Edition   \n",
      "\n",
      "                                         Genre  \n",
      "2985  Action Adventure;Fantasy;General;Fantasy  \n",
      "0.9118988929718546\n",
      "                         Title                                     Genre\n",
      "3848  Kameo: Elements of Power  Action Adventure;Fantasy;General;Fantasy\n",
      "0.9118988929718546\n",
      "                      Title                                     Genre\n",
      "1714  Beyond Good & Evil HD  Action Adventure;Fantasy;General;Fantasy\n",
      "0.9118988929718546\n",
      "         Title                                     Genre\n",
      "2609  Okamiden  Action Adventure;Fantasy;General;Fantasy\n",
      "0.9118988929718546\n",
      "                                      Title  \\\n",
      "4848  Prince of Persia: The Forgotten Sands   \n",
      "\n",
      "                                         Genre  \n",
      "4848  Action Adventure;Fantasy;General;Fantasy  \n",
      "0.9118988929718546\n",
      "                        Title                                     Genre\n",
      "4759  Chibi-Robo! Park Patrol  Action Adventure;Fantasy;General;Fantasy\n",
      "0.9118988929718546\n",
      "                     Title                                     Genre\n",
      "2037  Kid Icarus: Uprising  Action Adventure;Fantasy;General;Fantasy\n",
      "0.9118988929718546\n",
      "                 Title                                     Genre\n",
      "3287  Prince of Persia  Action Adventure;Fantasy;General;Fantasy\n",
      "0.9118988929718546\n",
      "     Title                                     Genre\n",
      "433  Okami  Action Adventure;Fantasy;General;Fantasy\n",
      "0.9118988929718546\n",
      "                         Title                                     Genre\n",
      "2215  LEGO Marvel Super Heroes  Action Adventure;Fantasy;General;Fantasy\n",
      "0.9118988929718546\n",
      "                       Title                                     Genre\n",
      "215  Thief: The Dark Project  Action Adventure;Fantasy;General;Fantasy\n",
      "0.9118988929718546\n",
      "        Title                                     Genre\n",
      "2571  Aquaria  Action Adventure;Fantasy;General;Fantasy\n",
      "0.9118988929718546\n",
      "                  Title                                     Genre\n",
      "762  Ninja Gaiden Sigma  Action Adventure;Fantasy;General;Fantasy\n",
      "0.9118988929718546\n",
      "                     Title                                     Genre\n",
      "210  Batman: Arkham Asylum  Action Adventure;Fantasy;General;Fantasy\n",
      "0.9118988929718546\n",
      "                             Title                                     Genre\n",
      "2218  Castlevania: Lords of Shadow  Action Adventure;Fantasy;General;Fantasy\n",
      "0.9118988929718546\n",
      "        Title                                     Genre\n",
      "438  Okami HD  Fantasy;Fantasy;Action Adventure;General\n",
      "0.8849064711157377\n",
      "        Title                             Genre\n",
      "2819  Severed  Fantasy;Action Adventure;General\n",
      "0.8849064711157377\n",
      "      Title                             Genre\n",
      "831  Owlboy  Fantasy;Action Adventure;General\n",
      "0.8849064711157377\n",
      "                             Title                             Genre\n",
      "2912  Hellblade: Senua's Sacrifice  Fantasy;Action Adventure;General\n",
      "0.8301005353445448\n",
      "                              Title  \\\n",
      "861  Middle-earth: Shadow of Mordor   \n",
      "\n",
      "                                           Genre  \n",
      "861  Fantasy;Action Adventure;Fantasy;Open-World  \n",
      "0.8301005353445448\n",
      "                                      Title  \\\n",
      "391  The Legend of Zelda: Phantom Hourglass   \n",
      "\n",
      "                                           Genre  \n",
      "391  Action Adventure;Fantasy;Fantasy;Open-World  \n",
      "0.8301005353445448\n",
      "                                      Title  \\\n",
      "1615  Batman: Arkham City - Armored Edition   \n",
      "\n",
      "                                            Genre  \n",
      "1615  Action Adventure;Fantasy;Fantasy;Open-World  \n",
      "0.8301005353445448\n",
      "                                  Title  \\\n",
      "985  The Legend of Zelda: Spirit Tracks   \n",
      "\n",
      "                                           Genre  \n",
      "985  Action Adventure;Fantasy;Fantasy;Open-World  \n"
     ]
    },
    {
     "data": {
      "text/html": [
       "<div>\n",
       "<style scoped>\n",
       "    .dataframe tbody tr th:only-of-type {\n",
       "        vertical-align: middle;\n",
       "    }\n",
       "\n",
       "    .dataframe tbody tr th {\n",
       "        vertical-align: top;\n",
       "    }\n",
       "\n",
       "    .dataframe thead th {\n",
       "        text-align: right;\n",
       "    }\n",
       "</style>\n",
       "<table border=\"1\" class=\"dataframe\">\n",
       "  <thead>\n",
       "    <tr style=\"text-align: right;\">\n",
       "      <th></th>\n",
       "      <th>Title</th>\n",
       "      <th>Genre</th>\n",
       "    </tr>\n",
       "  </thead>\n",
       "  <tbody>\n",
       "    <tr>\n",
       "      <th>0</th>\n",
       "      <td>The Legend of Zelda: Ocarina of Time</td>\n",
       "      <td>Action Adventure;Fantasy</td>\n",
       "    </tr>\n",
       "    <tr>\n",
       "      <th>1</th>\n",
       "      <td>Ninja Gaiden Black</td>\n",
       "      <td>Action Adventure;Fantasy</td>\n",
       "    </tr>\n",
       "    <tr>\n",
       "      <th>2</th>\n",
       "      <td>Sphinx and the Cursed Mummy</td>\n",
       "      <td>Action Adventure;Fantasy</td>\n",
       "    </tr>\n",
       "    <tr>\n",
       "      <th>3</th>\n",
       "      <td>Sphinx and the Cursed Mummy</td>\n",
       "      <td>Action Adventure;Fantasy</td>\n",
       "    </tr>\n",
       "    <tr>\n",
       "      <th>4</th>\n",
       "      <td>Sphinx and the Cursed Mummy</td>\n",
       "      <td>Action Adventure;Fantasy</td>\n",
       "    </tr>\n",
       "    <tr>\n",
       "      <th>...</th>\n",
       "      <td>...</td>\n",
       "      <td>...</td>\n",
       "    </tr>\n",
       "    <tr>\n",
       "      <th>95</th>\n",
       "      <td>Okami HD</td>\n",
       "      <td>Action Adventure;General</td>\n",
       "    </tr>\n",
       "    <tr>\n",
       "      <th>96</th>\n",
       "      <td>Okami HD</td>\n",
       "      <td>Fantasy;Fantasy;Action Adventure;General</td>\n",
       "    </tr>\n",
       "    <tr>\n",
       "      <th>97</th>\n",
       "      <td>Okami HD</td>\n",
       "      <td>Action Adventure;General</td>\n",
       "    </tr>\n",
       "    <tr>\n",
       "      <th>98</th>\n",
       "      <td>Okami HD</td>\n",
       "      <td>Action Adventure;General</td>\n",
       "    </tr>\n",
       "    <tr>\n",
       "      <th>99</th>\n",
       "      <td>Okami HD</td>\n",
       "      <td>Action Adventure;General</td>\n",
       "    </tr>\n",
       "  </tbody>\n",
       "</table>\n",
       "<p>100 rows × 2 columns</p>\n",
       "</div>"
      ],
      "text/plain": [
       "                                   Title  \\\n",
       "0   The Legend of Zelda: Ocarina of Time   \n",
       "1                     Ninja Gaiden Black   \n",
       "2            Sphinx and the Cursed Mummy   \n",
       "3            Sphinx and the Cursed Mummy   \n",
       "4            Sphinx and the Cursed Mummy   \n",
       "..                                   ...   \n",
       "95                              Okami HD   \n",
       "96                              Okami HD   \n",
       "97                              Okami HD   \n",
       "98                              Okami HD   \n",
       "99                              Okami HD   \n",
       "\n",
       "                                       Genre  \n",
       "0                   Action Adventure;Fantasy  \n",
       "1                   Action Adventure;Fantasy  \n",
       "2                   Action Adventure;Fantasy  \n",
       "3                   Action Adventure;Fantasy  \n",
       "4                   Action Adventure;Fantasy  \n",
       "..                                       ...  \n",
       "95                  Action Adventure;General  \n",
       "96  Fantasy;Fantasy;Action Adventure;General  \n",
       "97                  Action Adventure;General  \n",
       "98                  Action Adventure;General  \n",
       "99                  Action Adventure;General  \n",
       "\n",
       "[100 rows x 2 columns]"
      ]
     },
     "execution_count": 122,
     "metadata": {},
     "output_type": "execute_result"
    }
   ],
   "source": [
    "genre_recommendations('The Legend of Zelda: Ocarina of Time', cosine_sim_df, game_data[['Title', 'Genre']])"
   ]
  },
  {
   "cell_type": "code",
   "execution_count": 65,
   "metadata": {
    "cell_id": "00043-9a4baf14-50df-455a-9dd6-728d4dfbfcb4",
    "deepnote_cell_type": "code",
    "deepnote_to_be_reexecuted": false,
    "execution_millis": 1,
    "execution_start": 1615406066199,
    "source_hash": "db6e6177",
    "tags": []
   },
   "outputs": [],
   "source": [
    "cosine_sim_df=pd.DataFrame(cosine_sim, columns=game_data.Title, index=game_data.Title)"
   ]
  },
  {
   "cell_type": "code",
   "execution_count": null,
   "metadata": {
    "cell_id": "00044-dc12f5ac-ba03-4d78-8c11-d0758062f4da",
    "deepnote_cell_type": "code",
    "deepnote_to_be_reexecuted": false,
    "execution_millis": 10,
    "execution_start": 1615404968774,
    "source_hash": "6cc8b6fc",
    "tags": []
   },
   "outputs": [
    {
     "data": {
      "text/plain": [
       "array([2275, 2499, 4998, ..., 4938,   49,    0])"
      ]
     },
     "execution_count": 208,
     "metadata": {},
     "output_type": "execute_result"
    }
   ],
   "source": [
    "cosine_sim_df.loc[:,'The Legend of Zelda: Ocarina of Time'].to_numpy().argpartition(range(-1,-10,-1))"
   ]
  },
  {
   "cell_type": "code",
   "execution_count": null,
   "metadata": {
    "cell_id": "00045-c861733b-0322-46eb-9b4f-9843c4677469",
    "deepnote_cell_type": "code",
    "deepnote_to_be_reexecuted": false,
    "execution_millis": 1803,
    "execution_start": 1615406020616,
    "source_hash": "7159ce1c",
    "tags": []
   },
   "outputs": [],
   "source": [
    "cosine_sim_df=cosine_sim_df.drop_duplicates()"
   ]
  },
  {
   "cell_type": "code",
   "execution_count": null,
   "metadata": {
    "cell_id": "00046-fd60b7e9-e169-4418-beeb-cb801e1fd081",
    "deepnote_cell_type": "code",
    "deepnote_to_be_reexecuted": false,
    "execution_millis": 58,
    "execution_start": 1615406044231,
    "source_hash": "c6c4fba4",
    "tags": []
   },
   "outputs": [],
   "source": [
    "cosine_sim_df = cosine_sim_df.loc[:,~cosine_sim_df.columns.duplicated()]"
   ]
  },
  {
   "cell_type": "code",
   "execution_count": null,
   "metadata": {
    "cell_id": "00047-a8b4cc37-b026-4a5b-9613-e8202acb9a4b",
    "deepnote_cell_type": "code",
    "deepnote_to_be_reexecuted": false,
    "execution_millis": 850,
    "execution_start": 1615405890407,
    "source_hash": "7159ce1c",
    "tags": []
   },
   "outputs": [],
   "source": [
    "cosine_sim_df=cosine_sim_df.drop_duplicates()"
   ]
  },
  {
   "cell_type": "code",
   "execution_count": null,
   "metadata": {
    "cell_id": "00048-1ebe8bd7-30eb-4ee1-a84a-5abeff3f60ed",
    "deepnote_cell_type": "code",
    "deepnote_to_be_reexecuted": false,
    "execution_millis": 1,
    "execution_start": 1615406644749,
    "source_hash": "c111ae23",
    "tags": []
   },
   "outputs": [],
   "source": [
    "new_df=cosine_sim_df.loc[:,'The Legend of Zelda: Ocarina of Time']"
   ]
  },
  {
   "cell_type": "code",
   "execution_count": null,
   "metadata": {
    "cell_id": "00049-f583e522-5c4b-45cf-acb7-bb1d5a053a3c",
    "deepnote_cell_type": "code",
    "deepnote_to_be_reexecuted": false,
    "execution_millis": 8,
    "execution_start": 1615406411746,
    "source_hash": "40071d5b",
    "tags": []
   },
   "outputs": [
    {
     "data": {
      "text/plain": [
       "Title\n",
       "The Legend of Zelda: Ocarina of Time    0.000000\n",
       "Tony Hawk's Pro Skater 2                0.138187\n",
       "Grand Theft Auto IV                     0.000000\n",
       "SoulCalibur                             0.000000\n",
       "Grand Theft Auto IV                     0.000000\n",
       "Name: NBA 2K17, dtype: float64"
      ]
     },
     "execution_count": 251,
     "metadata": {},
     "output_type": "execute_result"
    }
   ],
   "source": [
    "new_df.iloc[:,0].head()"
   ]
  },
  {
   "cell_type": "code",
   "execution_count": null,
   "metadata": {
    "cell_id": "00050-c461dc88-0a22-43cd-9e1d-cdeb1903085f",
    "deepnote_cell_type": "code",
    "deepnote_to_be_reexecuted": false,
    "execution_millis": 8,
    "execution_start": 1615406675716,
    "source_hash": "cc474da8",
    "tags": []
   },
   "outputs": [
    {
     "data": {
      "text/plain": [
       "1"
      ]
     },
     "execution_count": 262,
     "metadata": {},
     "output_type": "execute_result"
    }
   ],
   "source": [
    "len(new_df.shape)"
   ]
  },
  {
   "cell_type": "code",
   "execution_count": 316,
   "metadata": {
    "cell_id": "00051-c93a31e4-7318-4f1f-941c-56ab92ab5a4b",
    "deepnote_cell_type": "code",
    "deepnote_to_be_reexecuted": false,
    "execution_millis": 186,
    "execution_start": 1615409466648,
    "source_hash": "ef1b5f59",
    "tags": []
   },
   "outputs": [
    {
     "data": {
      "text/plain": [
       "(array([ 3178.,   892.,  1083.,  1305.,  3749.,  4062.,  5496.,  8493.,\n",
       "        12700., 19664.]),\n",
       " array([ 0.,  1.,  2.,  3.,  4.,  5.,  6.,  7.,  8.,  9., 10.]),\n",
       " <BarContainer object of 10 artists>)"
      ]
     },
     "execution_count": 316,
     "metadata": {},
     "output_type": "execute_result"
    },
    {
     "data": {
      "image/png": "[encoded data removed]",
      "text/plain": [
       "<Figure size 432x288 with 1 Axes>"
      ]
     },
     "metadata": {
      "needs_background": "light"
     },
     "output_type": "display_data"
    }
   ],
   "source": [
    "plt.xlabel(\"Predicted Score\")\n",
    "plt.hist(x1, bins=10)"
   ]
  },
  {
   "cell_type": "code",
   "execution_count": 317,
   "metadata": {},
   "outputs": [
    {
     "data": {
      "text/plain": [
       "(array([ 3686.,  1170.,   981.,  1199.,  1383.,  1968.,  2136.,  3136.,\n",
       "         4927., 40036.]),\n",
       " array([ 0.,  1.,  2.,  3.,  4.,  5.,  6.,  7.,  8.,  9., 10.]),\n",
       " <BarContainer object of 10 artists>)"
      ]
     },
     "execution_count": 317,
     "metadata": {},
     "output_type": "execute_result"
    },
    {
     "data": {
      "image/png": "[encoded data removed]",
      "text/plain": [
       "<Figure size 432x288 with 1 Axes>"
      ]
     },
     "metadata": {
      "needs_background": "light"
     },
     "output_type": "display_data"
    }
   ],
   "source": [
    "plt.xlabel(\"Actual Score\")\n",
    "plt.hist(x3, bins=10)"
   ]
  },
  {
   "cell_type": "markdown",
   "metadata": {
    "created_in_deepnote_cell": true,
    "deepnote_cell_type": "markdown",
    "tags": []
   },
   "source": [
    "<a style='text-decoration:none;line-height:16px;display:flex;color:#5B5B62;padding:10px;justify-content:end;' href='https://deepnote.com?utm_source=created-in-deepnote-cell&projectId=3989b4d4-9be9-497d-838f-5481bae9e63b' target=\"_blank\">\n",
    "<img style='display:inline;max-height:16px;margin:0px;margin-right:7.5px;' src='data:image/svg+xml;base64,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' > </img>\n",
    "Created in <span style='font-weight:600;margin-left:4px;'>Deepnote</span></a>"
   ]
  }
 ],
 "metadata": {
  "deepnote": {},
  "deepnote_execution_queue": [],
  "deepnote_notebook_id": "67e075c0-3618-47c2-bb7e-4ddb139ef45e",
  "kernelspec": {
   "display_name": "Python 3",
   "language": "python",
   "name": "python3"
  },
  "language_info": {
   "codemirror_mode": {
    "name": "ipython",
    "version": 3
   },
   "file_extension": ".py",
   "mimetype": "text/x-python",
   "name": "python",
   "nbconvert_exporter": "python",
   "pygments_lexer": "ipython3",
   "version": "3.8.5"
  }
 },
 "nbformat": 4,
 "nbformat_minor": 2
}
