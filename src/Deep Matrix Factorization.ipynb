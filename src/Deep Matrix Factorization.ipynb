{
 "cells": [
  {
   "cell_type": "code",
   "execution_count": 1,
   "metadata": {},
   "outputs": [],
   "source": [
    "# Much of this comes from the site https://www.ethanrosenthal.com/2017/06/20/matrix-factorization-in-pytorch/\n",
    "# Accessed on March 7th, 2021\n",
    "\"\"\"\n",
    "WARNING: It is quite possible to run out of RAM while running this notebook. \n",
    "If you have less than 16GB (preferably at least 24-32GB) then do not run.\n",
    "\"\"\"\n",
    "\n",
    "import torch.nn.functional as F\n",
    "from torch import optim\n",
    "from tqdm import tqdm\n",
    "from torch import nn\n",
    "import pandas as pd\n",
    "import numpy as np\n",
    "import matplotlib.pyplot as plt\n",
    "%matplotlib inline\n",
    "import seaborn as sns\n",
    "import torch\n",
    "import os\n",
    "\n",
    "from pathlib import Path"
   ]
  },
  {
   "cell_type": "code",
   "execution_count": 2,
   "metadata": {
    "scrolled": true
   },
   "outputs": [
    {
     "name": "stdout",
     "output_type": "stream",
     "text": [
      "(189777, 6)\n"
     ]
    }
   ],
   "source": [
    "#%%\n",
    "# If using colab\n",
    "# from google.colab import drive\n",
    "# drive.mount('/content/drive')\n",
    "# DRIVE_PATH = \"/content/drive/Shared drives/CMPUT466 Project\"\n",
    "\n",
    "# If using windows\n",
    "DRIVE_PATH = Path(\"G:/Shared drives/CMPUT466 Project\")\n",
    "\n",
    "DATA_FOLDER=DRIVE_PATH/\"src/data/\"\n",
    "\n",
    "# Read in the different data files\n",
    "train = pd.read_csv(DATA_FOLDER/\"user_data_train.csv\")\n",
    "validation = pd.read_csv(DATA_FOLDER/\"user_data_validation.csv\")\n",
    "test = pd.read_csv(DATA_FOLDER/\"user_data_test.csv\")\n",
    "\n",
    "# Concatenate them, since we need to reshape the dataset for this task.\n",
    "data = pd.concat([train, validation, test])\n",
    "data.head()\n",
    "\n",
    "# Check the shape\n",
    "print(data.shape)"
   ]
  },
  {
   "cell_type": "code",
   "execution_count": 3,
   "metadata": {},
   "outputs": [],
   "source": [
    "# Converts any type of column into a categorical column,\n",
    "# assigning each distinct item a unique numeric id.\n",
    "def to_categorical(df, col):\n",
    "    keys = df[col].unique()\n",
    "    d = {key: i for i, key in enumerate(keys)}\n",
    "    return np.array([d[key] for key in df[col]])\n",
    "\n",
    "# Converts the dataframe into a matrix M, where M_i, j is the rating for the i'th user, j'th item. \n",
    "# If the rating was not specified, we assign it to be 0.\n",
    "def get_sparse_matrix(df, usr_col, item_col, rating_col):\n",
    "    return df.pivot_table(index=usr_col, columns=item_col, values=rating_col).fillna(0).astype(int)\n",
    "\n",
    "# Convert the textual attributes we will use to categorical.\n",
    "data[\"Title-Platform\"] = data[\"Title\"] + data[\"Platform\"]\n",
    "data[\"Username\"] = to_categorical(data, \"Username\")\n",
    "data[\"Title-Platform\"] = to_categorical(data, \"Title-Platform\")\n",
    "\n",
    "# Create the sparse matrix.\n",
    "ratings = get_sparse_matrix(data, \"Username\", \"Title-Platform\", \"Userscore\").to_numpy()"
   ]
  },
  {
   "cell_type": "code",
   "execution_count": 4,
   "metadata": {},
   "outputs": [
    {
     "name": "stdout",
     "output_type": "stream",
     "text": [
      "(110005160, 2) (24464628, 2) (1360204, 2)\n",
      "Validation percentage: 18.41607179554349\n",
      "Test percentage: 1.023911523223874\n"
     ]
    }
   ],
   "source": [
    "\"\"\"\n",
    "This is the general form of the dataset split that we will use in this case.\n",
    " ----------------a2-----\n",
    " |               |     |\n",
    " |               |     |\n",
    " |    Train      | Val | <- ratings\n",
    " |               |     |\n",
    " |               |     |\n",
    "a1---------------|-----|\n",
    " |      Val      |Test |\n",
    " -----------------------\n",
    "\"\"\"\n",
    "\n",
    "def train_val_test_split(data, val_percent, test_percent):\n",
    "    # Set a1, a2 to be 90% along their respective axes.\n",
    "    a1 = data.shape[0] * 0.9 // 1\n",
    "    a2 = data.shape[1] * 0.9 // 1\n",
    "    \n",
    "    # Get the indices of the specific areas in the sparse matrix.\n",
    "    train_indices = np.mgrid[0:a1, 0:a2].reshape(2, -1).T\n",
    "    val_indices_1 = np.mgrid[0:a1, a2:data.shape[1]].reshape(2, -1).T\n",
    "    val_indices_2 = np.mgrid[a1:data.shape[0], 0:a2].reshape(2, -1).T\n",
    "    val_indices = np.append(val_indices_1, val_indices_2, axis=0)\n",
    "    test_indices = np.mgrid[a1:data.shape[0], a2:data.shape[1]].reshape(2, -1).T\n",
    "    \n",
    "    # Print the shapes to check and make sure they are correct.\n",
    "    print(train_indices.shape, val_indices.shape, test_indices.shape)\n",
    "    return train_indices, val_indices, test_indices \n",
    "\n",
    "train_indices, val_indices, test_indices = train_val_test_split(ratings, 0.05, 0.05)\n",
    "\n",
    "# Print the percentage of data in each class.\n",
    "print(f\"Validation percentage: {val_indices.shape[0]/np.prod(data.shape)}\")\n",
    "print(f\"Test percentage: {test_indices.shape[0]/np.prod(data.shape)}\")"
   ]
  },
  {
   "cell_type": "code",
   "execution_count": 5,
   "metadata": {},
   "outputs": [],
   "source": [
    "\"\"\" This model is based on Nguyenj et. al's work here: https://arxiv.org/pdf/1812.01478v1.pdf \"\"\"\n",
    "\n",
    "class DMF(nn.Module):\n",
    "    def init_weights(self, layer):\n",
    "        nn.init.xavier_uniform_(layer.weight)\n",
    "        \n",
    "    def __init__(self, n_users, n_items, n_factors=128):\n",
    "        super().__init__() \n",
    "        # Define the NN for user vectors\n",
    "        self.user_fc1 = nn.Linear(n_items, 1024).cuda() # The array of users will be (BATCH_SIZE x n_items)\n",
    "        self.init_weights(self.user_fc1)\n",
    "        self.user_fc2 = nn.Linear(1024, 512).cuda()\n",
    "        self.init_weights(self.user_fc2)\n",
    "        self.user_fc3 = nn.Linear(512, n_factors).cuda()\n",
    "        self.init_weights(self.user_fc3)\n",
    "        \n",
    "        # Define the NN for item vectors\n",
    "        self.item_fc1 = nn.Linear(n_users, 1024).cuda() # The array of items will be (BATCH_SIZE x n_users)\n",
    "        self.init_weights(self.item_fc1)\n",
    "        self.item_fc2 = nn.Linear(1024, 512).cuda()\n",
    "        self.init_weights(self.item_fc2)\n",
    "        self.item_fc3 = nn.Linear(512, n_factors).cuda()\n",
    "        self.init_weights(self.item_fc3)\n",
    "        \n",
    "        # Similarity function to compare the latent features.\n",
    "        self.sim = nn.CosineSimilarity()\n",
    "                \n",
    "    def forward(self, users, items):\n",
    "        # Users network\n",
    "        users = F.relu(self.user_fc1(users))\n",
    "        users = F.relu(self.user_fc2(users))\n",
    "        users = self.user_fc3(users)\n",
    "        \n",
    "        # Items network\n",
    "        items = F.relu(self.item_fc1(items))\n",
    "        items = F.relu(self.item_fc2(items))\n",
    "        items = self.item_fc3(items)\n",
    "\n",
    "        # Cosine similarity\n",
    "        res = self.sim(users, items)\n",
    "        return torch.add(torch.mul(res, 5), 5) # Map from [-1, 1] to [0, 10]\n",
    "            \n",
    "# Allows us to get a specified mixing of positive (non-zero) and negative (zero) samples. (i.e. 1:5)\n",
    "def get_pos_neg_samples(data, idxs, neg_ratio):\n",
    "    pos = data[idxs[:,0], idxs[:,1]].nonzero()[0]\n",
    "    neg = (~data[idxs[:,0], idxs[:,1]].astype(bool)).nonzero()[0]\n",
    "    base = len(pos)\n",
    "    p = np.random.choice(len(neg), base*neg_ratio)\n",
    "    return np.append(idxs[pos], idxs[p], axis=0)\n",
    "\n",
    "\"\"\" \n",
    "NCE Loss from Xue et. al's paper here: https://www.ijcai.org/Proceedings/2017/0447.pdf\n",
    "Not used in this model as we are comparing models based on RMSE.\n",
    "\"\"\"\n",
    "def NCE_Loss(outputs, targets):\n",
    "    max_rating = 10\n",
    "    outputs = torch.maximum(outputs, torch.Tensor([1e-5]).cuda())\n",
    "    targets = torch.div(targets, max_rating)\n",
    "    \n",
    "    pos = torch.mul(targets, torch.log(outputs))\n",
    "    neg = torch.mul(1 - targets, torch.log(1 - outputs))\n",
    "    return -torch.sum(torch.add(pos, neg))\n",
    "    \n",
    "# Create the model\n",
    "model = DMF(*ratings.shape)"
   ]
  },
  {
   "cell_type": "code",
   "execution_count": 7,
   "metadata": {
    "scrolled": false
   },
   "outputs": [
    {
     "name": "stderr",
     "output_type": "stream",
     "text": [
      "100%|██████████| 4984/4984 [04:13<00:00, 19.67it/s]\n"
     ]
    },
    {
     "data": {
      "image/png": "[encoded data removed]",
      "text/plain": [
       "<Figure size 432x288 with 1 Axes>"
      ]
     },
     "metadata": {
      "needs_background": "light"
     },
     "output_type": "display_data"
    },
    {
     "name": "stderr",
     "output_type": "stream",
     "text": [
      "100%|██████████| 4984/4984 [04:15<00:00, 19.53it/s]\n"
     ]
    },
    {
     "data": {
      "image/png": "[encoded data removed]",
      "text/plain": [
       "<Figure size 432x288 with 1 Axes>"
      ]
     },
     "metadata": {
      "needs_background": "light"
     },
     "output_type": "display_data"
    }
   ],
   "source": [
    "# Some hyperparameters.\n",
    "BATCH_SIZE=256\n",
    "EPOCHS = 2\n",
    "\n",
    "def MBGD(model, data, idxs, neg_ratio=5):\n",
    "    loss_func = nn.MSELoss()\n",
    "    optimizer = torch.optim.Adam(model.parameters(), lr=0.0001)  # learning rate\n",
    "    idxs = get_pos_neg_samples(data, idxs, neg_ratio)\n",
    "    data = torch.FloatTensor(data).cuda()\n",
    "    l = [] # Array to keep track of losses, not done automatically.\n",
    "    \n",
    "    for epoch in range(EPOCHS):\n",
    "        idxs = np.random.permutation(idxs) # Permute the ordering of the datapoints.\n",
    "        for i in tqdm(range(0, idxs.shape[0], BATCH_SIZE)):\n",
    "            batch_idxs = idxs[i:i+BATCH_SIZE]\n",
    "            row_idxs, col_idxs = batch_idxs[:,0], batch_idxs[:,1]\n",
    "            rows = data[row_idxs,:]\n",
    "            cols = data[:,col_idxs].T\n",
    "        \n",
    "            # Set gradients to zero\n",
    "            optimizer.zero_grad()\n",
    "\n",
    "            # Get the actual ratings\n",
    "            rating = data[row_idxs, col_idxs]\n",
    "\n",
    "            # Predict and calculate loss\n",
    "            prediction = model(rows, cols)\n",
    "\n",
    "            loss = loss_func(prediction, rating)\n",
    "\n",
    "            # Backpropagate\n",
    "            loss.backward()\n",
    "\n",
    "            # Update the parameters\n",
    "            optimizer.step()\n",
    "            l.append(loss)\n",
    "        \n",
    "        # Plot the loss after each epoch\n",
    "        plt.plot(l[:-1])\n",
    "        plt.show()\n",
    "       \n",
    "# Train the model\n",
    "MBGD(model, ratings, train_indices.astype(np.int32))"
   ]
  },
  {
   "cell_type": "code",
   "execution_count": null,
   "metadata": {
    "scrolled": false
   },
   "outputs": [],
   "source": [
    "def test(model, data, idxs, sample=5000):\n",
    "    with torch.no_grad():\n",
    "        # Get all non-zero samples to check against ratings\n",
    "        pos = data[idxs[:,0], idxs[:,1]].nonzero()[0]\n",
    "        data = torch.Tensor(data)\n",
    "        samples = np.random.choice(len(pos), sample)\n",
    "        row_idxs = idxs[pos,0]\n",
    "        col_idxs = idxs[pos,1]\n",
    "        rows = torch.FloatTensor(data[row_idxs,:]).cuda()\n",
    "        cols = torch.FloatTensor(data[:,col_idxs]).T.cuda()\n",
    "        \n",
    "        # Get the mean of the dataset\n",
    "        mean = data[row_idxs,col_idxs].mean()\n",
    "        print(\"Baseline score:\", np.sqrt(((data[row_idxs,col_idxs] - mean)**2).sum() / len(row_idxs)))\n",
    "        print(\"Model score:\", np.sqrt(((data[row_idxs,col_idxs] - model(rows,cols).cpu()*10))**2).sum().cpu() / len(row_idxs))\n",
    "        \n",
    "        # Plot the distribution of the predicted ratings.\n",
    "        sns.histplot(np.array(model(rows, cols).cpu()))    \n",
    "        plt.show()\n",
    "        \n",
    "        # Plot the distribution of the actual ratings\n",
    "        sns.histplot(data[row_idxs, col_idxs].cpu())\n",
    "        plt.show()\n",
    "\n",
    "\n",
    "test(model, ratings, val_indices.astype(np.int32))"
   ]
  },
  {
   "cell_type": "code",
   "execution_count": null,
   "metadata": {},
   "outputs": [],
   "source": []
  }
 ],
 "metadata": {
  "kernelspec": {
   "display_name": "Python 3",
   "language": "python",
   "name": "python3"
  },
  "language_info": {
   "codemirror_mode": {
    "name": "ipython",
    "version": 3
   },
   "file_extension": ".py",
   "mimetype": "text/x-python",
   "name": "python",
   "nbconvert_exporter": "python",
   "pygments_lexer": "ipython3",
   "version": "3.8.5"
  }
 },
 "nbformat": 4,
 "nbformat_minor": 4
}
