{
 "cells": [
  {
   "cell_type": "code",
   "execution_count": 106,
   "metadata": {},
   "outputs": [],
   "source": [
    "# Much of this comes from the site https://www.ethanrosenthal.com/2017/06/20/matrix-factorization-in-pytorch/\n",
    "# Accessed on March 7th, 2021\n",
    "\n",
    "import pandas as pd\n",
    "import numpy as np\n",
    "import scipy.sparse as sparse\n",
    "import random\n",
    "import implicit \n",
    "import matplotlib.pyplot as plt\n",
    "%matplotlib notebook\n",
    "import seaborn as sns\n",
    "from tqdm import tqdm\n",
    "import os\n",
    "\n",
    "from pathlib import Path"
   ]
  },
  {
   "cell_type": "code",
   "execution_count": 107,
   "metadata": {},
   "outputs": [
    {
     "data": {
      "text/html": [
       "<div>\n",
       "<style scoped>\n",
       "    .dataframe tbody tr th:only-of-type {\n",
       "        vertical-align: middle;\n",
       "    }\n",
       "\n",
       "    .dataframe tbody tr th {\n",
       "        vertical-align: top;\n",
       "    }\n",
       "\n",
       "    .dataframe thead th {\n",
       "        text-align: right;\n",
       "    }\n",
       "</style>\n",
       "<table border=\"1\" class=\"dataframe\">\n",
       "  <thead>\n",
       "    <tr style=\"text-align: right;\">\n",
       "      <th></th>\n",
       "      <th>Unnamed: 0</th>\n",
       "      <th>Title</th>\n",
       "      <th>Platform</th>\n",
       "      <th>Userscore</th>\n",
       "      <th>Comment</th>\n",
       "      <th>Username</th>\n",
       "      <th>Title-Platform</th>\n",
       "    </tr>\n",
       "  </thead>\n",
       "  <tbody>\n",
       "    <tr>\n",
       "      <th>0</th>\n",
       "      <td>39153</td>\n",
       "      <td>BioShock Infinite</td>\n",
       "      <td>PC</td>\n",
       "      <td>10</td>\n",
       "      <td>One of the greatest games I've ever played. Th...</td>\n",
       "      <td>sti4thewin</td>\n",
       "      <td>BioShock InfinitePC</td>\n",
       "    </tr>\n",
       "    <tr>\n",
       "      <th>1</th>\n",
       "      <td>177986</td>\n",
       "      <td>DmC: Devil May Cry</td>\n",
       "      <td>Xbox360</td>\n",
       "      <td>9</td>\n",
       "      <td>Coming from a long time DMC fan this game is g...</td>\n",
       "      <td>sti4thewin</td>\n",
       "      <td>DmC: Devil May CryXbox360</td>\n",
       "    </tr>\n",
       "    <tr>\n",
       "      <th>2</th>\n",
       "      <td>8791</td>\n",
       "      <td>Metroid Prime</td>\n",
       "      <td>GameCube</td>\n",
       "      <td>10</td>\n",
       "      <td>aWESOME... nEeD i SaY MoRe?</td>\n",
       "      <td>L.S.</td>\n",
       "      <td>Metroid PrimeGameCube</td>\n",
       "    </tr>\n",
       "    <tr>\n",
       "      <th>3</th>\n",
       "      <td>65251</td>\n",
       "      <td>Team Fortress 2</td>\n",
       "      <td>PC</td>\n",
       "      <td>10</td>\n",
       "      <td>A fun game that can end in countless ways eac...</td>\n",
       "      <td>L.S.</td>\n",
       "      <td>Team Fortress 2PC</td>\n",
       "    </tr>\n",
       "    <tr>\n",
       "      <th>4</th>\n",
       "      <td>2037</td>\n",
       "      <td>Grand Theft Auto IV</td>\n",
       "      <td>Xbox360</td>\n",
       "      <td>3</td>\n",
       "      <td>Great presentation and idea, however failing ...</td>\n",
       "      <td>JamesD.</td>\n",
       "      <td>Grand Theft Auto IVXbox360</td>\n",
       "    </tr>\n",
       "  </tbody>\n",
       "</table>\n",
       "</div>"
      ],
      "text/plain": [
       "   Unnamed: 0                Title  Platform  Userscore  \\\n",
       "0       39153    BioShock Infinite        PC         10   \n",
       "1      177986   DmC: Devil May Cry   Xbox360          9   \n",
       "2        8791        Metroid Prime  GameCube         10   \n",
       "3       65251      Team Fortress 2        PC         10   \n",
       "4        2037  Grand Theft Auto IV   Xbox360          3   \n",
       "\n",
       "                                             Comment    Username  \\\n",
       "0  One of the greatest games I've ever played. Th...  sti4thewin   \n",
       "1  Coming from a long time DMC fan this game is g...  sti4thewin   \n",
       "2                        aWESOME... nEeD i SaY MoRe?        L.S.   \n",
       "3   A fun game that can end in countless ways eac...        L.S.   \n",
       "4   Great presentation and idea, however failing ...     JamesD.   \n",
       "\n",
       "               Title-Platform  \n",
       "0         BioShock InfinitePC  \n",
       "1   DmC: Devil May CryXbox360  \n",
       "2       Metroid PrimeGameCube  \n",
       "3           Team Fortress 2PC  \n",
       "4  Grand Theft Auto IVXbox360  "
      ]
     },
     "execution_count": 107,
     "metadata": {},
     "output_type": "execute_result"
    }
   ],
   "source": [
    "#%%\n",
    "# If using colab\n",
    "# from google.colab import drive\n",
    "# drive.mount('/content/drive')\n",
    "# DRIVE_PATH = \"/content/drive/Shared drives/CMPUT466 Project\"\n",
    "\n",
    "# If using windows\n",
    "\n",
    "DRIVE_PATH = Path(\"G:/Shared drives/CMPUT466 Project\")\n",
    "DATA_FOLDER=DRIVE_PATH/\"src/data/\"\n",
    "train = pd.read_csv(DATA_FOLDER/\"user_data_train.csv\")\n",
    "validation = pd.read_csv(DATA_FOLDER/\"user_data_validation.csv\")\n",
    "test = pd.read_csv(DATA_FOLDER/\"user_data_test.csv\")\n",
    "data = pd.concat([train, validation, test])\n",
    "data[\"Title-Platform\"] = data[\"Title\"] + data[\"Platform\"]\n",
    "data.head()"
   ]
  },
  {
   "cell_type": "code",
   "execution_count": 108,
   "metadata": {},
   "outputs": [],
   "source": [
    "data[\"Username\"] = data[\"Username\"].astype(\"category\").cat.codes\n",
    "data[\"Title-Platform\"] = data[\"Title-Platform\"].astype(\"category\").cat.codes\n",
    "data.head()\n",
    "ratings = data[['Username', 'Title-Platform', 'Userscore']]"
   ]
  },
  {
   "cell_type": "code",
   "execution_count": 109,
   "metadata": {},
   "outputs": [],
   "source": [
    "sparse = sparse.csr_matrix((ratings['Userscore'].astype(float), (ratings['Username'], ratings['Title-Platform'])))"
   ]
  },
  {
   "cell_type": "markdown",
   "metadata": {},
   "source": [
    "# Training the ALS Model\n",
    "\n",
    "According to [SAP](https://help.sap.com/viewer/2cfbc5cf2bc14f028cfbe2a2bba60a50/2.0.03/en-US/7129de6bddcc490698bee0c2c95e9c73.html), the latent factors for an explicit feedback model are trained by solving the optimization problem\n",
    "$$ argmin_{f_{u}, f_{v}} \\frac{1}{|D|}\\left(\\sum_{r_{u, v}\\in D}\\left(r_{u, v} - f_{u}^T f_{v}\\right)^2 + \\lambda \\left(\\sum_{u}n_{u}\\lVert f_{u}\\rVert^2 + \\sum_{v} n_{v}\\lVert f_{v}\\rVert^2 \\right)\\right) $$\n",
    "\n",
    "Where:\n",
    "- $f_{u}, f_{v}$ are the latent features for users, items respectively.\n",
    "- $r_{u, v}$ is the rating of user $u$ with item $v$.\n",
    "- $D$ is the set of all observed feedback.\n",
    "- $n_{u}, n_{v}$ are the number of feedbacks for $u$ and $v$ respectively.\n",
    "- $\\lambda$ is the regularization parameter."
   ]
  },
  {
   "cell_type": "code",
   "execution_count": 110,
   "metadata": {},
   "outputs": [],
   "source": [
    "# Try to vectorize\n",
    "def loss(data, nonzero_indices, f_u, f_v):\n",
    "    ans = 0\n",
    "    for i in tqdm(range(indices.shape[0])):\n",
    "        ans += sparse[indices[i][0], indices[i][1]] - f_u[:,indices[i][0]].T.dot(f_v[:,indices[i][1]])\n",
    "    print(ans)\n",
    "#     sq_diff = (sparse[indices.T[0], indices.T[1]] - f_u[indices.T[0]].T.dot(f_v[indices.T][1])).sum()\n",
    "    "
   ]
  },
  {
   "cell_type": "code",
   "execution_count": 111,
   "metadata": {},
   "outputs": [
    {
     "name": "stderr",
     "output_type": "stream",
     "text": [
      "  3%|▎         | 4767/178271 [00:00<00:03, 47666.64it/s]"
     ]
    },
    {
     "name": "stdout",
     "output_type": "stream",
     "text": [
      "(1, 178271)\n"
     ]
    },
    {
     "name": "stderr",
     "output_type": "stream",
     "text": [
      "100%|██████████| 178271/178271 [00:03<00:00, 45512.21it/s]"
     ]
    },
    {
     "name": "stdout",
     "output_type": "stream",
     "text": [
      "-306043.6724336051\n",
      "None\n",
      "(40, 3316)\n"
     ]
    },
    {
     "name": "stderr",
     "output_type": "stream",
     "text": [
      "\n"
     ]
    }
   ],
   "source": [
    "# Get all indices of the observed explicit feedback.\n",
    "indices = np.append(nonzero[0].reshape(1, -1), nonzero[1].reshape(1, -1), axis=0).T\n",
    "\n",
    "# Accessing all non-zero elements: sparse[indices.T[0], indices.T[1]].shape\n",
    "# Hyperparameters\n",
    "n_factors = 40\n",
    "LAMBDA = 0\n",
    "\n",
    "np.random.seed(69)\n",
    "f_u = np.random.random((n_factors, sparse.shape[0]))\n",
    "f_v = np.random.random((n_factors, sparse.shape[1]))\n",
    "print(loss(sparse, indices, f_u, f_v))\n",
    "def ALS(data, f_u, f_v, users=True):\n",
    "    if users:\n",
    "        update, remain = f_u, f_v\n",
    "    else:\n",
    "        update, remain = f_v, f_u\n",
    "        \n",
    "    print(remain.shape)\n",
    "    remain.dot(remain.T)\n",
    "\n",
    "ALS(sparse, f_u, f_v, True)\n",
    "    \n",
    "# def ALS(dataset, X, Y, reg, n_factors, alpha=10, user=True):\n",
    "#     if user:\n",
    "#         data = dataset.train_user\n",
    "#     else:\n",
    "#         data = dataset.train_item\n",
    " \n",
    "#     YtY = Y.T.dot(Y)\n",
    "#     for s in data:\n",
    "#         A = YtY + reg * np.eye(n_factors)\n",
    "#         b = np.zeros(n_factors)\n",
    "#         for i in data[s]:\n",
    "#             factor = Y[i]\n",
    "#             confidence = 1 + alpha * data[s][i]\n",
    "#             A += (confidence-1) * np.outer(factor, factor) # calculate the outer product\n",
    "#             b += confidence * factor\n",
    " \n",
    "#         X[s] = np.linalg.solve(A, b)"
   ]
  },
  {
   "cell_type": "code",
   "execution_count": null,
   "metadata": {},
   "outputs": [],
   "source": []
  },
  {
   "cell_type": "code",
   "execution_count": null,
   "metadata": {},
   "outputs": [],
   "source": []
  }
 ],
 "metadata": {
  "kernelspec": {
   "display_name": "Python 3",
   "language": "python",
   "name": "python3"
  },
  "language_info": {
   "codemirror_mode": {
    "name": "ipython",
    "version": 3
   },
   "file_extension": ".py",
   "mimetype": "text/x-python",
   "name": "python",
   "nbconvert_exporter": "python",
   "pygments_lexer": "ipython3",
   "version": "3.8.5"
  }
 },
 "nbformat": 4,
 "nbformat_minor": 4
}
