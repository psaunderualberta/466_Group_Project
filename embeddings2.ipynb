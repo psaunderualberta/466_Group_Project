{
 "cells": [
  {
   "cell_type": "code",
   "execution_count": 39,
   "metadata": {},
   "outputs": [],
   "source": [
    "#from math import sqrt\n",
    "\n",
    "#import fastai\n",
    "import pandas as pd\n",
    "import numpy as np\n",
    "import matplotlib.pyplot as plt\n",
    "\n",
    "from sklearn.metrics import mean_squared_error\n",
    "from scipy.sparse import csr_matrix # sparse matrix\n",
    "\n",
    "from numpy.random import MT19937\n",
    "from numpy.random import RandomState, SeedSequence\n",
    "\n",
    "from IPython.display import set_matplotlib_formats\n",
    "set_matplotlib_formats('png', 'pdf')\n",
    "DPI = 120"
   ]
  },
  {
   "cell_type": "code",
   "execution_count": 2,
   "metadata": {},
   "outputs": [],
   "source": [
    "raw_data = pd.read_csv(\"old_data/raw_metacritic_game_user_comments.csv\")\n",
    "game_info_data = pd.read_csv(\"src/data/game_info.csv\")\n",
    "train_data = pd.read_csv(\"src/data/user_data_train_no_comments.csv\")\n",
    "test_data = pd.read_csv(\"src/data/user_data_test_no_comments.csv\")\n",
    "valid_data = pd.read_csv(\"src/data/user_data_validation_no_comments.csv\")\n",
    "\n",
    "game_info_data = game_info_data.rename(columns={\"Unnamed: 0\" : \"Id\"})"
   ]
  },
  {
   "cell_type": "code",
   "execution_count": 3,
   "metadata": {},
   "outputs": [],
   "source": [
    "all_data = pd.concat([train_data, test_data, valid_data], ignore_index=True)\n",
    "#all_data = pd.concat([train_data, test_data, valid_data])"
   ]
  },
  {
   "cell_type": "code",
   "execution_count": 4,
   "metadata": {},
   "outputs": [
    {
     "data": {
      "text/html": [
       "<div>\n",
       "<style scoped>\n",
       "    .dataframe tbody tr th:only-of-type {\n",
       "        vertical-align: middle;\n",
       "    }\n",
       "\n",
       "    .dataframe tbody tr th {\n",
       "        vertical-align: top;\n",
       "    }\n",
       "\n",
       "    .dataframe thead th {\n",
       "        text-align: right;\n",
       "    }\n",
       "</style>\n",
       "<table border=\"1\" class=\"dataframe\">\n",
       "  <thead>\n",
       "    <tr style=\"text-align: right;\">\n",
       "      <th></th>\n",
       "      <th>Unnamed: 0</th>\n",
       "      <th>Userscore</th>\n",
       "      <th>Username</th>\n",
       "      <th>Game_ID</th>\n",
       "    </tr>\n",
       "  </thead>\n",
       "  <tbody>\n",
       "    <tr>\n",
       "      <th>0</th>\n",
       "      <td>47246</td>\n",
       "      <td>9</td>\n",
       "      <td>SergeantSoz</td>\n",
       "      <td>119</td>\n",
       "    </tr>\n",
       "    <tr>\n",
       "      <th>1</th>\n",
       "      <td>199743</td>\n",
       "      <td>9</td>\n",
       "      <td>SergeantSoz</td>\n",
       "      <td>1540</td>\n",
       "    </tr>\n",
       "    <tr>\n",
       "      <th>2</th>\n",
       "      <td>235823</td>\n",
       "      <td>8</td>\n",
       "      <td>SergeantSoz</td>\n",
       "      <td>2227</td>\n",
       "    </tr>\n",
       "    <tr>\n",
       "      <th>3</th>\n",
       "      <td>263595</td>\n",
       "      <td>8</td>\n",
       "      <td>SergeantSoz</td>\n",
       "      <td>2941</td>\n",
       "    </tr>\n",
       "    <tr>\n",
       "      <th>4</th>\n",
       "      <td>72338</td>\n",
       "      <td>9</td>\n",
       "      <td>tomcrew10</td>\n",
       "      <td>238</td>\n",
       "    </tr>\n",
       "    <tr>\n",
       "      <th>...</th>\n",
       "      <td>...</td>\n",
       "      <td>...</td>\n",
       "      <td>...</td>\n",
       "      <td>...</td>\n",
       "    </tr>\n",
       "    <tr>\n",
       "      <th>151992</th>\n",
       "      <td>242135</td>\n",
       "      <td>10</td>\n",
       "      <td>AlexN.</td>\n",
       "      <td>2375</td>\n",
       "    </tr>\n",
       "    <tr>\n",
       "      <th>151993</th>\n",
       "      <td>258319</td>\n",
       "      <td>9</td>\n",
       "      <td>AlexN.</td>\n",
       "      <td>2834</td>\n",
       "    </tr>\n",
       "    <tr>\n",
       "      <th>151994</th>\n",
       "      <td>17628</td>\n",
       "      <td>9</td>\n",
       "      <td>zenmechanic</td>\n",
       "      <td>33</td>\n",
       "    </tr>\n",
       "    <tr>\n",
       "      <th>151995</th>\n",
       "      <td>32734</td>\n",
       "      <td>8</td>\n",
       "      <td>zenmechanic</td>\n",
       "      <td>70</td>\n",
       "    </tr>\n",
       "    <tr>\n",
       "      <th>151996</th>\n",
       "      <td>108721</td>\n",
       "      <td>5</td>\n",
       "      <td>zenmechanic</td>\n",
       "      <td>549</td>\n",
       "    </tr>\n",
       "  </tbody>\n",
       "</table>\n",
       "<p>151997 rows × 4 columns</p>\n",
       "</div>"
      ],
      "text/plain": [
       "        Unnamed: 0  Userscore     Username  Game_ID\n",
       "0            47246          9  SergeantSoz      119\n",
       "1           199743          9  SergeantSoz     1540\n",
       "2           235823          8  SergeantSoz     2227\n",
       "3           263595          8  SergeantSoz     2941\n",
       "4            72338          9    tomcrew10      238\n",
       "...            ...        ...          ...      ...\n",
       "151992      242135         10       AlexN.     2375\n",
       "151993      258319          9       AlexN.     2834\n",
       "151994       17628          9  zenmechanic       33\n",
       "151995       32734          8  zenmechanic       70\n",
       "151996      108721          5  zenmechanic      549\n",
       "\n",
       "[151997 rows x 4 columns]"
      ]
     },
     "execution_count": 4,
     "metadata": {},
     "output_type": "execute_result"
    }
   ],
   "source": [
    "#game_info_data\n",
    "all_data"
   ]
  },
  {
   "cell_type": "code",
   "execution_count": 5,
   "metadata": {},
   "outputs": [],
   "source": [
    "# transform usernames into user IDs\n",
    "user_to_id_map = {}\n",
    "for i, username in enumerate(np.unique(all_data[\"Username\"])):\n",
    "    user_to_id_map[username] = i"
   ]
  },
  {
   "cell_type": "code",
   "execution_count": 6,
   "metadata": {},
   "outputs": [],
   "source": [
    "def format_data(data, usermap):\n",
    "    # replaces usernames with numeric IDs\n",
    "    user_ids = []\n",
    "    for user in data[\"Username\"]:\n",
    "        user_ids.append(user_to_id_map[user])\n",
    "    #print(user_ids)\n",
    "    #for i in range(len(data)):\n",
    "    #for i in range(len(data)):\n",
    "    #    data[\"Username\"][i] = user_to_id_map[data[\"Username\"][i]]\n",
    "        \n",
    "    #fmt = data[\"Username\"].astype(int)\n",
    "    data.insert(4, \"User_ID\", user_ids, allow_duplicates=True)\n",
    "    data = data.drop([\"Unnamed: 0\"], axis=1)\n",
    "    return data"
   ]
  },
  {
   "cell_type": "code",
   "execution_count": 7,
   "metadata": {},
   "outputs": [],
   "source": [
    "#print(all_data.loc[16220])\n",
    "#print(all_data[\"Username\"][1])\n",
    "all_data = format_data(all_data, user_to_id_map)\n",
    "train_data = format_data(train_data, user_to_id_map)\n",
    "test_data = format_data(test_data, user_to_id_map)\n",
    "valid_data = format_data(valid_data, user_to_id_map)"
   ]
  },
  {
   "cell_type": "code",
   "execution_count": 8,
   "metadata": {},
   "outputs": [
    {
     "data": {
      "text/html": [
       "<div>\n",
       "<style scoped>\n",
       "    .dataframe tbody tr th:only-of-type {\n",
       "        vertical-align: middle;\n",
       "    }\n",
       "\n",
       "    .dataframe tbody tr th {\n",
       "        vertical-align: top;\n",
       "    }\n",
       "\n",
       "    .dataframe thead th {\n",
       "        text-align: right;\n",
       "    }\n",
       "</style>\n",
       "<table border=\"1\" class=\"dataframe\">\n",
       "  <thead>\n",
       "    <tr style=\"text-align: right;\">\n",
       "      <th></th>\n",
       "      <th>Userscore</th>\n",
       "      <th>Username</th>\n",
       "      <th>Game_ID</th>\n",
       "      <th>User_ID</th>\n",
       "    </tr>\n",
       "  </thead>\n",
       "  <tbody>\n",
       "    <tr>\n",
       "      <th>0</th>\n",
       "      <td>3</td>\n",
       "      <td>AlanG.</td>\n",
       "      <td>474</td>\n",
       "      <td>471</td>\n",
       "    </tr>\n",
       "    <tr>\n",
       "      <th>1</th>\n",
       "      <td>10</td>\n",
       "      <td>AlanG.</td>\n",
       "      <td>532</td>\n",
       "      <td>471</td>\n",
       "    </tr>\n",
       "    <tr>\n",
       "      <th>2</th>\n",
       "      <td>9</td>\n",
       "      <td>AlanG.</td>\n",
       "      <td>532</td>\n",
       "      <td>471</td>\n",
       "    </tr>\n",
       "    <tr>\n",
       "      <th>3</th>\n",
       "      <td>9</td>\n",
       "      <td>AlanG.</td>\n",
       "      <td>1525</td>\n",
       "      <td>471</td>\n",
       "    </tr>\n",
       "    <tr>\n",
       "      <th>4</th>\n",
       "      <td>10</td>\n",
       "      <td>TonyM.</td>\n",
       "      <td>20</td>\n",
       "      <td>14243</td>\n",
       "    </tr>\n",
       "    <tr>\n",
       "      <th>...</th>\n",
       "      <td>...</td>\n",
       "      <td>...</td>\n",
       "      <td>...</td>\n",
       "      <td>...</td>\n",
       "    </tr>\n",
       "    <tr>\n",
       "      <th>14913</th>\n",
       "      <td>10</td>\n",
       "      <td>AlexN.</td>\n",
       "      <td>2375</td>\n",
       "      <td>538</td>\n",
       "    </tr>\n",
       "    <tr>\n",
       "      <th>14914</th>\n",
       "      <td>9</td>\n",
       "      <td>AlexN.</td>\n",
       "      <td>2834</td>\n",
       "      <td>538</td>\n",
       "    </tr>\n",
       "    <tr>\n",
       "      <th>14915</th>\n",
       "      <td>9</td>\n",
       "      <td>zenmechanic</td>\n",
       "      <td>33</td>\n",
       "      <td>22017</td>\n",
       "    </tr>\n",
       "    <tr>\n",
       "      <th>14916</th>\n",
       "      <td>8</td>\n",
       "      <td>zenmechanic</td>\n",
       "      <td>70</td>\n",
       "      <td>22017</td>\n",
       "    </tr>\n",
       "    <tr>\n",
       "      <th>14917</th>\n",
       "      <td>5</td>\n",
       "      <td>zenmechanic</td>\n",
       "      <td>549</td>\n",
       "      <td>22017</td>\n",
       "    </tr>\n",
       "  </tbody>\n",
       "</table>\n",
       "<p>14918 rows × 4 columns</p>\n",
       "</div>"
      ],
      "text/plain": [
       "       Userscore     Username  Game_ID  User_ID\n",
       "0              3       AlanG.      474      471\n",
       "1             10       AlanG.      532      471\n",
       "2              9       AlanG.      532      471\n",
       "3              9       AlanG.     1525      471\n",
       "4             10       TonyM.       20    14243\n",
       "...          ...          ...      ...      ...\n",
       "14913         10       AlexN.     2375      538\n",
       "14914          9       AlexN.     2834      538\n",
       "14915          9  zenmechanic       33    22017\n",
       "14916          8  zenmechanic       70    22017\n",
       "14917          5  zenmechanic      549    22017\n",
       "\n",
       "[14918 rows x 4 columns]"
      ]
     },
     "execution_count": 8,
     "metadata": {},
     "output_type": "execute_result"
    }
   ],
   "source": [
    "valid_data"
   ]
  },
  {
   "cell_type": "code",
   "execution_count": 9,
   "metadata": {},
   "outputs": [],
   "source": [
    "n_users = len(np.unique(all_data[\"Username\"]))\n",
    "n_games = len(game_info_data)\n",
    "\n",
    "#print(len(np.unique((pd.concat([train_data, test_data, valid_data]))[\"Username\"])))\n",
    "#print(len(np.unique(train_data[\"Username\"]))\n",
    "#      + len(np.unique(valid_data[\"Username\"]))\n",
    "#      + len(np.unique(test_data[\"Username\"])))"
   ]
  },
  {
   "cell_type": "code",
   "execution_count": 49,
   "metadata": {},
   "outputs": [
    {
     "name": "stdout",
     "output_type": "stream",
     "text": [
      "users: 22072\n",
      "games: 5000\n"
     ]
    }
   ],
   "source": [
    "print(f\"users: {n_users}\")\n",
    "print(f\"games: {n_games}\")"
   ]
  },
  {
   "cell_type": "code",
   "execution_count": 69,
   "metadata": {},
   "outputs": [],
   "source": [
    "# data class\n",
    "def np_rand(size, min_i, max_i, rs):\n",
    "    array = rs.random_sample(size)\n",
    "    array *= (max_i - min_i)\n",
    "    array += min_i\n",
    "    return array\n",
    "        \n",
    "class Embeddings:\n",
    "    \"\"\"\n",
    "    requires transformation of data:\n",
    "    all values must be non-negative to properly maintain bounds\n",
    "    TODO experiment with non-negativity\n",
    "    \"\"\"\n",
    "    def __init__(self, n_users, n_games, n_range, seed):\n",
    "        rs = RandomState(MT19937(SeedSequence(seed)))\n",
    "        \n",
    "        min_n = n_range[0]\n",
    "        max_n = n_range[1]\n",
    "        \n",
    "        self.bias_users = np_rand(n_users, min_n, max_n, rs)\n",
    "        self.bias_games = np_rand(n_games, min_n, max_n, rs)\n",
    "        \n",
    "        self.embed_users = np_rand((n_users, embed_dim), min_n, max_n, rs)\n",
    "        self.embed_games = np_rand((n_games, embed_dim), min_n, max_n, rs)\n",
    "        \n",
    "        self.user_idx = all_data[\"User_ID\"].to_numpy()\n",
    "        self.game_idx = all_data[\"Game_ID\"].to_numpy()\n",
    "        \n",
    "        self.embed_scores = csr_matrix((all_data[\"Userscore\"].to_numpy(),\n",
    "                                       (self.user_idx, self.game_idx)),\n",
    "                                       shape=(n_users, n_games), dtype=np.int8)"
   ]
  },
  {
   "cell_type": "code",
   "execution_count": 70,
   "metadata": {},
   "outputs": [],
   "source": [
    "# hyperparameters\n",
    "embed_dim = 5\n",
    "#range_min = -1\n",
    "#range_max = 11\n",
    "n_range = (-1, 11)\n",
    "seed = 69\n",
    "\n",
    "# embedding matrices and biases\n",
    "# np.random.random_sample: [0, 1)\n",
    "# scales to [min_i, max_i)\n",
    "\n",
    "#bias_users = np.random.random_sample(n_users)\n",
    "#bias_games = np.random.random_sample(n_games)\n",
    "#\n",
    "#embed_users = np.random.random_sample((n_users, embed_dim))\n",
    "#embed_games = np.random.random_sample((n_games, embed_dim))\n",
    "\n",
    "#bias_users = np_rand(n_users, range_min, range_max)\n",
    "#bias_games = np_rand(n_games, range_min, range_max)\n",
    "#\n",
    "#embed_users = np_rand((n_users, embed_dim), range_min, range_max)\n",
    "#embed_games = np_rand((n_games, embed_dim), range_min, range_max)"
   ]
  },
  {
   "cell_type": "code",
   "execution_count": 71,
   "metadata": {},
   "outputs": [],
   "source": [
    "e = Embeddings(n_users, n_games, n_range, seed)"
   ]
  },
  {
   "cell_type": "code",
   "execution_count": 72,
   "metadata": {},
   "outputs": [
    {
     "data": {
      "text/plain": [
       "array([[ 1.39894402,  4.11032696,  7.22297058,  6.37883706, 10.84379725],\n",
       "       [ 5.45284712,  3.16325952,  5.87090294, -0.35518192,  1.4387136 ],\n",
       "       [ 3.90054405, -0.78199274,  3.11212927, 10.89188467,  1.46171215],\n",
       "       ...,\n",
       "       [-0.38230842,  7.02346593,  3.69044782,  5.52890654, -0.58161614],\n",
       "       [ 6.13048377,  3.57961797,  1.14988756,  0.5575071 ,  9.60928089],\n",
       "       [10.28555615,  6.01626618,  3.58731089,  2.73254933,  4.4926395 ]])"
      ]
     },
     "execution_count": 72,
     "metadata": {},
     "output_type": "execute_result"
    }
   ],
   "source": [
    "#embed_users\n",
    "e.embed_users"
   ]
  },
  {
   "cell_type": "code",
   "execution_count": 45,
   "metadata": {},
   "outputs": [
    {
     "data": {
      "text/plain": [
       "array([ 119, 1540, 2227, ...,   33,   70,  549])"
      ]
     },
     "execution_count": 45,
     "metadata": {},
     "output_type": "execute_result"
    }
   ],
   "source": [
    "all_data[\"Game_ID\"].to_numpy()"
   ]
  },
  {
   "cell_type": "code",
   "execution_count": 46,
   "metadata": {},
   "outputs": [
    {
     "data": {
      "text/plain": [
       "array([12398, 12398, 12398, ..., 22017, 22017, 22017])"
      ]
     },
     "execution_count": 46,
     "metadata": {},
     "output_type": "execute_result"
    }
   ],
   "source": [
    "all_data[\"User_ID\"].to_numpy()"
   ]
  },
  {
   "cell_type": "code",
   "execution_count": 59,
   "metadata": {},
   "outputs": [],
   "source": [
    "# initializes with proper scores\n",
    "\n",
    "#embed_scores = csr_matrix((all_data[\"Userscore\"].to_numpy(),\n",
    "#                          (all_data[\"User_ID\"].to_numpy(), all_data[\"Game_ID\"].to_numpy())),\n",
    "#                          shape=(n_users, n_games), dtype=np.int8)"
   ]
  },
  {
   "cell_type": "code",
   "execution_count": 68,
   "metadata": {},
   "outputs": [
    {
     "data": {
      "text/plain": [
       "9"
      ]
     },
     "execution_count": 68,
     "metadata": {},
     "output_type": "execute_result"
    }
   ],
   "source": [
    "#embed_scores[1, 1] = 2\n",
    "\n",
    "#embed_scores\n",
    "embed_scores[12398, 119]"
   ]
  },
  {
   "cell_type": "code",
   "execution_count": 34,
   "metadata": {},
   "outputs": [],
   "source": [
    "#embed_scores.toarray()"
   ]
  },
  {
   "cell_type": "code",
   "execution_count": 63,
   "metadata": {},
   "outputs": [
    {
     "data": {
      "text/plain": [
       "<22072x5000 sparse matrix of type '<class 'numpy.int8'>'\n",
       "\twith 150678 stored elements in Compressed Sparse Row format>"
      ]
     },
     "execution_count": 63,
     "metadata": {},
     "output_type": "execute_result"
    }
   ],
   "source": [
    "e.embed_scores"
   ]
  },
  {
   "cell_type": "code",
   "execution_count": 61,
   "metadata": {},
   "outputs": [],
   "source": [
    "#class EmbeddingMatrices:\n",
    "#    def __init__(self, all_data, train_data, test_data, valid_data):\n",
    "#        pass\n",
    "\n",
    "# data batches?\n",
    "\n",
    "def train(e, cycles=1):\n",
    "    pass"
   ]
  },
  {
   "cell_type": "code",
   "execution_count": null,
   "metadata": {},
   "outputs": [],
   "source": []
  }
 ],
 "metadata": {
  "kernelspec": {
   "display_name": "Python 3",
   "language": "python",
   "name": "python3"
  },
  "language_info": {
   "codemirror_mode": {
    "name": "ipython",
    "version": 3
   },
   "file_extension": ".py",
   "mimetype": "text/x-python",
   "name": "python",
   "nbconvert_exporter": "python",
   "pygments_lexer": "ipython3",
   "version": "3.8.5"
  }
 },
 "nbformat": 4,
 "nbformat_minor": 4
}
