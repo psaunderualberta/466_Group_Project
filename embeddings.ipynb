{
 "cells": [
  {
   "cell_type": "code",
   "execution_count": 1,
   "metadata": {},
   "outputs": [],
   "source": [
    "from math import sqrt\n",
    "\n",
    "import fastai\n",
    "import pandas as pd\n",
    "import numpy as np\n",
    "import matplotlib.pyplot as plt\n",
    "from sklearn.metrics import mean_squared_error\n",
    "\n",
    "from IPython.display import set_matplotlib_formats\n",
    "set_matplotlib_formats('png', 'pdf')\n",
    "DPI = 120"
   ]
  },
  {
   "cell_type": "code",
   "execution_count": 2,
   "metadata": {},
   "outputs": [],
   "source": [
    "game_info_data = pd.read_csv(\"src/data/game_info.csv\")\n",
    "train_data = pd.read_csv(\"src/data/user_data_train_no_comments.csv\")\n",
    "test_data = pd.read_csv(\"src/data/user_data_test_no_comments.csv\")\n",
    "valid_data = pd.read_csv(\"src/data/user_data_validation_no_comments.csv\")"
   ]
  },
  {
   "cell_type": "code",
   "execution_count": 3,
   "metadata": {},
   "outputs": [
    {
     "data": {
      "text/html": [
       "<div>\n",
       "<style scoped>\n",
       "    .dataframe tbody tr th:only-of-type {\n",
       "        vertical-align: middle;\n",
       "    }\n",
       "\n",
       "    .dataframe tbody tr th {\n",
       "        vertical-align: top;\n",
       "    }\n",
       "\n",
       "    .dataframe thead th {\n",
       "        text-align: right;\n",
       "    }\n",
       "</style>\n",
       "<table border=\"1\" class=\"dataframe\">\n",
       "  <thead>\n",
       "    <tr style=\"text-align: right;\">\n",
       "      <th></th>\n",
       "      <th>Unnamed: 0</th>\n",
       "      <th>Userscore</th>\n",
       "      <th>Username</th>\n",
       "      <th>Game_ID</th>\n",
       "    </tr>\n",
       "  </thead>\n",
       "  <tbody>\n",
       "    <tr>\n",
       "      <th>0</th>\n",
       "      <td>47246</td>\n",
       "      <td>9</td>\n",
       "      <td>SergeantSoz</td>\n",
       "      <td>119</td>\n",
       "    </tr>\n",
       "    <tr>\n",
       "      <th>1</th>\n",
       "      <td>199743</td>\n",
       "      <td>9</td>\n",
       "      <td>SergeantSoz</td>\n",
       "      <td>1540</td>\n",
       "    </tr>\n",
       "    <tr>\n",
       "      <th>2</th>\n",
       "      <td>235823</td>\n",
       "      <td>8</td>\n",
       "      <td>SergeantSoz</td>\n",
       "      <td>2227</td>\n",
       "    </tr>\n",
       "    <tr>\n",
       "      <th>3</th>\n",
       "      <td>263595</td>\n",
       "      <td>8</td>\n",
       "      <td>SergeantSoz</td>\n",
       "      <td>2941</td>\n",
       "    </tr>\n",
       "    <tr>\n",
       "      <th>4</th>\n",
       "      <td>72338</td>\n",
       "      <td>9</td>\n",
       "      <td>tomcrew10</td>\n",
       "      <td>238</td>\n",
       "    </tr>\n",
       "    <tr>\n",
       "      <th>...</th>\n",
       "      <td>...</td>\n",
       "      <td>...</td>\n",
       "      <td>...</td>\n",
       "      <td>...</td>\n",
       "    </tr>\n",
       "    <tr>\n",
       "      <th>105853</th>\n",
       "      <td>65974</td>\n",
       "      <td>10</td>\n",
       "      <td>Supersaiyan9000</td>\n",
       "      <td>198</td>\n",
       "    </tr>\n",
       "    <tr>\n",
       "      <th>105854</th>\n",
       "      <td>69938</td>\n",
       "      <td>10</td>\n",
       "      <td>Supersaiyan9000</td>\n",
       "      <td>218</td>\n",
       "    </tr>\n",
       "    <tr>\n",
       "      <th>105855</th>\n",
       "      <td>165164</td>\n",
       "      <td>10</td>\n",
       "      <td>Supersaiyan9000</td>\n",
       "      <td>1063</td>\n",
       "    </tr>\n",
       "    <tr>\n",
       "      <th>105856</th>\n",
       "      <td>231077</td>\n",
       "      <td>9</td>\n",
       "      <td>Supersaiyan9000</td>\n",
       "      <td>2137</td>\n",
       "    </tr>\n",
       "    <tr>\n",
       "      <th>105857</th>\n",
       "      <td>264058</td>\n",
       "      <td>9</td>\n",
       "      <td>Supersaiyan9000</td>\n",
       "      <td>2944</td>\n",
       "    </tr>\n",
       "  </tbody>\n",
       "</table>\n",
       "<p>105858 rows × 4 columns</p>\n",
       "</div>"
      ],
      "text/plain": [
       "        Unnamed: 0  Userscore         Username  Game_ID\n",
       "0            47246          9      SergeantSoz      119\n",
       "1           199743          9      SergeantSoz     1540\n",
       "2           235823          8      SergeantSoz     2227\n",
       "3           263595          8      SergeantSoz     2941\n",
       "4            72338          9        tomcrew10      238\n",
       "...            ...        ...              ...      ...\n",
       "105853       65974         10  Supersaiyan9000      198\n",
       "105854       69938         10  Supersaiyan9000      218\n",
       "105855      165164         10  Supersaiyan9000     1063\n",
       "105856      231077          9  Supersaiyan9000     2137\n",
       "105857      264058          9  Supersaiyan9000     2944\n",
       "\n",
       "[105858 rows x 4 columns]"
      ]
     },
     "execution_count": 3,
     "metadata": {},
     "output_type": "execute_result"
    }
   ],
   "source": [
    "train_data"
   ]
  },
  {
   "cell_type": "code",
   "execution_count": 9,
   "metadata": {},
   "outputs": [],
   "source": [
    "def format_data(data):\n",
    "    \"\"\"\n",
    "    previously dropped columns and concatenated game id to platform\n",
    "    now only drops `Unnamed: 0`\n",
    "    \"\"\"\n",
    "    #cp = data.copy(deep=True)\n",
    "    #cp[\"Title\"] = cp[\"Title\"] + \" (\" + cp[\"Platform\"] + \")\"\n",
    "    #fmt = cp.drop([\"Comment\", \"Platform\", \"Unnamed: 0\"], axis=1)\n",
    "    fmt = data.drop([\"Unnamed: 0\"], axis=1)\n",
    "    return fmt\n",
    "\n",
    "def group_data(data):\n",
    "    \"\"\"\n",
    "    dict that maps username -> dataframe containing the user reviews\n",
    "    \"\"\"\n",
    "    return dict(tuple(data.groupby('Username')))\n",
    "\n",
    "\n",
    "train_data_fmt = format_data(train_data)\n",
    "test_data_fmt = format_data(test_data)\n",
    "valid_data_fmt = format_data(valid_data)\n",
    "\n",
    "train_group = group_data(train_data_fmt)\n",
    "test_group = group_data(test_data_fmt)\n",
    "valid_group = group_data(valid_data_fmt)"
   ]
  },
  {
   "cell_type": "code",
   "execution_count": 10,
   "metadata": {},
   "outputs": [],
   "source": [
    "def restrict_data(data, restrict):\n",
    "    \"\"\"\n",
    "    gives the dataset where (# of reviews for a user) >= restrict\n",
    "    \"\"\"\n",
    "    dfs = group_data(data)\n",
    "    pop_keys = []\n",
    "    for k in dfs:\n",
    "        if len(dfs[k]) < restrict:\n",
    "            pop_keys.append(k)\n",
    "            \n",
    "    for k in pop_keys:\n",
    "        #print(k)\n",
    "        dfs.pop(k)\n",
    "    \n",
    "    return pd.concat(dfs.values(), ignore_index=True)\n",
    "    #for k in dfs:\n",
    "    #    if new_df is None:\n",
    "    #        new_df = dfs[k]\n",
    "    #    else:\n",
    "    #        new_df.append(dfs[k])\n",
    "    \n",
    "    #return new_df\n",
    "   "
   ]
  },
  {
   "cell_type": "code",
   "execution_count": 12,
   "metadata": {},
   "outputs": [
    {
     "data": {
      "text/html": [
       "<div>\n",
       "<style scoped>\n",
       "    .dataframe tbody tr th:only-of-type {\n",
       "        vertical-align: middle;\n",
       "    }\n",
       "\n",
       "    .dataframe tbody tr th {\n",
       "        vertical-align: top;\n",
       "    }\n",
       "\n",
       "    .dataframe thead th {\n",
       "        text-align: right;\n",
       "    }\n",
       "</style>\n",
       "<table border=\"1\" class=\"dataframe\">\n",
       "  <thead>\n",
       "    <tr style=\"text-align: right;\">\n",
       "      <th></th>\n",
       "      <th>Userscore</th>\n",
       "      <th>Username</th>\n",
       "      <th>Game_ID</th>\n",
       "    </tr>\n",
       "  </thead>\n",
       "  <tbody>\n",
       "    <tr>\n",
       "      <th>0</th>\n",
       "      <td>9</td>\n",
       "      <td>SergeantSoz</td>\n",
       "      <td>119</td>\n",
       "    </tr>\n",
       "    <tr>\n",
       "      <th>1</th>\n",
       "      <td>9</td>\n",
       "      <td>SergeantSoz</td>\n",
       "      <td>1540</td>\n",
       "    </tr>\n",
       "    <tr>\n",
       "      <th>2</th>\n",
       "      <td>8</td>\n",
       "      <td>SergeantSoz</td>\n",
       "      <td>2227</td>\n",
       "    </tr>\n",
       "    <tr>\n",
       "      <th>3</th>\n",
       "      <td>8</td>\n",
       "      <td>SergeantSoz</td>\n",
       "      <td>2941</td>\n",
       "    </tr>\n",
       "    <tr>\n",
       "      <th>4</th>\n",
       "      <td>9</td>\n",
       "      <td>tomcrew10</td>\n",
       "      <td>238</td>\n",
       "    </tr>\n",
       "    <tr>\n",
       "      <th>...</th>\n",
       "      <td>...</td>\n",
       "      <td>...</td>\n",
       "      <td>...</td>\n",
       "    </tr>\n",
       "    <tr>\n",
       "      <th>105853</th>\n",
       "      <td>10</td>\n",
       "      <td>Supersaiyan9000</td>\n",
       "      <td>198</td>\n",
       "    </tr>\n",
       "    <tr>\n",
       "      <th>105854</th>\n",
       "      <td>10</td>\n",
       "      <td>Supersaiyan9000</td>\n",
       "      <td>218</td>\n",
       "    </tr>\n",
       "    <tr>\n",
       "      <th>105855</th>\n",
       "      <td>10</td>\n",
       "      <td>Supersaiyan9000</td>\n",
       "      <td>1063</td>\n",
       "    </tr>\n",
       "    <tr>\n",
       "      <th>105856</th>\n",
       "      <td>9</td>\n",
       "      <td>Supersaiyan9000</td>\n",
       "      <td>2137</td>\n",
       "    </tr>\n",
       "    <tr>\n",
       "      <th>105857</th>\n",
       "      <td>9</td>\n",
       "      <td>Supersaiyan9000</td>\n",
       "      <td>2944</td>\n",
       "    </tr>\n",
       "  </tbody>\n",
       "</table>\n",
       "<p>105858 rows × 3 columns</p>\n",
       "</div>"
      ],
      "text/plain": [
       "        Userscore         Username  Game_ID\n",
       "0               9      SergeantSoz      119\n",
       "1               9      SergeantSoz     1540\n",
       "2               8      SergeantSoz     2227\n",
       "3               8      SergeantSoz     2941\n",
       "4               9        tomcrew10      238\n",
       "...           ...              ...      ...\n",
       "105853         10  Supersaiyan9000      198\n",
       "105854         10  Supersaiyan9000      218\n",
       "105855         10  Supersaiyan9000     1063\n",
       "105856          9  Supersaiyan9000     2137\n",
       "105857          9  Supersaiyan9000     2944\n",
       "\n",
       "[105858 rows x 3 columns]"
      ]
     },
     "execution_count": 12,
     "metadata": {},
     "output_type": "execute_result"
    }
   ],
   "source": [
    "train_data_fmt"
   ]
  },
  {
   "cell_type": "code",
   "execution_count": 13,
   "metadata": {},
   "outputs": [
    {
     "name": "stdout",
     "output_type": "stream",
     "text": [
      "105858\n",
      "31221\n"
     ]
    }
   ],
   "source": [
    "print(len(train_data_fmt))\n",
    "print(len(test_data_fmt))"
   ]
  },
  {
   "cell_type": "code",
   "execution_count": 14,
   "metadata": {},
   "outputs": [
    {
     "data": {
      "text/plain": [
       "2.7464267971419734"
      ]
     },
     "execution_count": 14,
     "metadata": {},
     "output_type": "execute_result"
    }
   ],
   "source": [
    "# base rmse\n",
    "# RMSE = \\sqrt(MSE)\n",
    "# MSE = (1/n) * \\sum (Y_pred - Y_expected)^2\n",
    "def get_base_rmse():\n",
    "    # y_pred = expected value of the train score\n",
    "    y_pred = train_data['Userscore'].mean()\n",
    "    n = len(test_reviews_group)\n",
    "    \n",
    "    scores_squared_sum = 0\n",
    "    for user in test_reviews_group:\n",
    "        # y_expected probably incorrect: select .iloc[0]?\n",
    "        #y_expected = test_reviews_group[user][\"Userscore\"].iloc[0]\n",
    "        y_expected = test_reviews_group[user][\"Userscore\"].mean()\n",
    "        scores_squared_sum += (y_pred - y_expected)**2\n",
    "        \n",
    "    return sqrt(scores_squared_sum / n)\n",
    "        \n",
    "    #expected_val_score\n",
    "    \n",
    "def get_base_rmse2(train, test):\n",
    "    y_pred = train['Userscore'].mean()\n",
    "    rep = np.repeat(y_pred, len(test['Userscore']))\n",
    "    return mean_squared_error(test['Userscore'], rep, squared=False)\n",
    "    \n",
    "get_base_rmse2(train_data_fmt, test_data_fmt)\n",
    "#get_base_rmse2(train_data_fmt_3, test_data_fmt_3)"
   ]
  },
  {
   "cell_type": "markdown",
   "metadata": {},
   "source": [
    "# AI stuff here"
   ]
  },
  {
   "cell_type": "code",
   "execution_count": 15,
   "metadata": {},
   "outputs": [],
   "source": [
    "from fastai.tabular.all import *\n",
    "from fastai.collab import *\n",
    "#from fastai.learner import *\n",
    "#from fastai.column_data import *"
   ]
  },
  {
   "cell_type": "code",
   "execution_count": 19,
   "metadata": {},
   "outputs": [],
   "source": [
    "user_name_var = \"Username\"\n",
    "rating_name_var = \"Userscore\"\n",
    "item_name_var = \"Game_ID\"\n",
    "batch_size = 64 # hyperparam?\n",
    "valid_pct=0 # sets validation set to 0 lmao\n",
    "seed = 69\n",
    "\n",
    "# TODO attempt to normalize????\n",
    "dls = CollabDataLoaders.from_df(train_data_fmt,\n",
    "                                user_name=user_name_var,\n",
    "                                rating_name=rating_name_var,\n",
    "                                item_name=item_name_var,\n",
    "                                valid_pct=valid_pct,\n",
    "                                bs=batch_size,\n",
    "                                seed=seed\n",
    "                                #procs=[Normalize]\n",
    "                               )\n",
    "\n",
    "# what if instead of using 10% of the brain, we used 0% of the brain?\n",
    "# hack to set the validation set of dls to whatever dataset we want\n",
    "dls_test = CollabDataLoaders.from_df(test_data_fmt,\n",
    "                                user_name=user_name_var,\n",
    "                                rating_name=rating_name_var,\n",
    "                                item_name=item_name_var,\n",
    "                                valid_pct=valid_pct,\n",
    "                                bs=batch_size,\n",
    "                                seed=seed\n",
    "                                #procs=[Normalize]\n",
    "                               )\n",
    "\n",
    "dls_valid = CollabDataLoaders.from_df(valid_data_fmt,\n",
    "                                user_name=user_name_var,\n",
    "                                rating_name=rating_name_var,\n",
    "                                item_name=item_name_var,\n",
    "                                valid_pct=valid_pct,\n",
    "                                bs=batch_size,\n",
    "                                seed=seed\n",
    "                                #procs=[Normalize]\n",
    "                               )"
   ]
  },
  {
   "cell_type": "code",
   "execution_count": 20,
   "metadata": {},
   "outputs": [],
   "source": [
    "# hyperparam?\n",
    "n_factors = 50\n",
    "\n",
    "dls.valid = dls_valid.train\n",
    "\n",
    "# use_nn = False to use embedded matrices (EmbeddingDotBias)\n",
    "learn = collab_learner(dls, n_factors=50, y_range=(0, 10), use_nn=False)"
   ]
  },
  {
   "cell_type": "code",
   "execution_count": 21,
   "metadata": {},
   "outputs": [
    {
     "data": {
      "text/html": [
       "<table border=\"1\" class=\"dataframe\">\n",
       "  <thead>\n",
       "    <tr style=\"text-align: left;\">\n",
       "      <th>epoch</th>\n",
       "      <th>train_loss</th>\n",
       "      <th>valid_loss</th>\n",
       "      <th>time</th>\n",
       "    </tr>\n",
       "  </thead>\n",
       "  <tbody>\n",
       "    <tr>\n",
       "      <td>0</td>\n",
       "      <td>7.949372</td>\n",
       "      <td>11.123631</td>\n",
       "      <td>00:07</td>\n",
       "    </tr>\n",
       "    <tr>\n",
       "      <td>1</td>\n",
       "      <td>5.624401</td>\n",
       "      <td>9.542181</td>\n",
       "      <td>00:07</td>\n",
       "    </tr>\n",
       "    <tr>\n",
       "      <td>2</td>\n",
       "      <td>4.422774</td>\n",
       "      <td>9.430603</td>\n",
       "      <td>00:07</td>\n",
       "    </tr>\n",
       "    <tr>\n",
       "      <td>3</td>\n",
       "      <td>3.338381</td>\n",
       "      <td>9.408680</td>\n",
       "      <td>00:07</td>\n",
       "    </tr>\n",
       "    <tr>\n",
       "      <td>4</td>\n",
       "      <td>2.677210</td>\n",
       "      <td>9.422246</td>\n",
       "      <td>00:07</td>\n",
       "    </tr>\n",
       "  </tbody>\n",
       "</table>"
      ],
      "text/plain": [
       "<IPython.core.display.HTML object>"
      ]
     },
     "metadata": {},
     "output_type": "display_data"
    }
   ],
   "source": [
    "learn.fit_one_cycle(5, 5e-3, wd=0.1)\n",
    "#learn.fit_one_cycle(10, 10e-4, wd=0.1)"
   ]
  },
  {
   "cell_type": "code",
   "execution_count": 22,
   "metadata": {},
   "outputs": [
    {
     "data": {
      "text/html": [],
      "text/plain": [
       "<IPython.core.display.HTML object>"
      ]
     },
     "metadata": {},
     "output_type": "display_data"
    },
    {
     "data": {
      "text/plain": [
       "3.1522613"
      ]
     },
     "execution_count": 22,
     "metadata": {},
     "output_type": "execute_result"
    }
   ],
   "source": [
    "dls.valid = dls_test.train\n",
    "preds, targs = learn.get_preds()\n",
    "mean_squared_error(preds.numpy(), np.ravel(targs.numpy()), squared=False)"
   ]
  },
  {
   "cell_type": "code",
   "execution_count": null,
   "metadata": {},
   "outputs": [],
   "source": []
  }
 ],
 "metadata": {
  "kernelspec": {
   "display_name": "Python 3",
   "language": "python",
   "name": "python3"
  },
  "language_info": {
   "codemirror_mode": {
    "name": "ipython",
    "version": 3
   },
   "file_extension": ".py",
   "mimetype": "text/x-python",
   "name": "python",
   "nbconvert_exporter": "python",
   "pygments_lexer": "ipython3",
   "version": "3.8.5"
  }
 },
 "nbformat": 4,
 "nbformat_minor": 4
}
