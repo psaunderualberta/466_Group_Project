{
 "cells": [
  {
   "cell_type": "code",
   "execution_count": 1,
   "metadata": {},
   "outputs": [],
   "source": [
    "from timeit import default_timer as timer\n",
    "\n",
    "import pandas as pd\n",
    "import numpy as np\n",
    "import matplotlib.pyplot as plt\n",
    "\n",
    "from sklearn.metrics import mean_squared_error\n",
    "# import keras models, layers and optimizers\n",
    "import keras\n",
    "from keras.models import Sequential, Model\n",
    "from keras.layers import Embedding, Flatten, Dense, Dropout, concatenate, multiply, Input\n",
    "from keras.optimizers import Adam\n",
    "\n",
    "import tensorflow as tf"
   ]
  },
  {
   "cell_type": "code",
   "execution_count": 2,
   "metadata": {},
   "outputs": [],
   "source": [
    "raw_data = pd.read_csv(\"old_data/raw_metacritic_game_user_comments.csv\")\n",
    "game_info_data = pd.read_csv(\"src/data/game_info.csv\")\n",
    "train_data = pd.read_csv(\"src/data/user_data_train_no_comments.csv\")\n",
    "test_data = pd.read_csv(\"src/data/user_data_test_no_comments.csv\")\n",
    "valid_data = pd.read_csv(\"src/data/user_data_validation_no_comments.csv\")\n",
    "\n",
    "game_info_data = game_info_data.rename(columns={\"Unnamed: 0\" : \"Id\"})"
   ]
  },
  {
   "cell_type": "code",
   "execution_count": 3,
   "metadata": {},
   "outputs": [],
   "source": [
    "all_data = pd.concat([train_data, test_data, valid_data], ignore_index=True)\n",
    "#all_data = pd.concat([train_data, test_data, valid_data])"
   ]
  },
  {
   "cell_type": "code",
   "execution_count": 4,
   "metadata": {},
   "outputs": [],
   "source": [
    "# transform usernames into user IDs\n",
    "user_to_id_map = {}\n",
    "for i, username in enumerate(np.unique(all_data[\"Username\"])):\n",
    "    user_to_id_map[username] = i"
   ]
  },
  {
   "cell_type": "code",
   "execution_count": 5,
   "metadata": {},
   "outputs": [],
   "source": [
    "def format_data(data, usermap):\n",
    "    # replaces usernames with numeric IDs\n",
    "    user_ids = []\n",
    "    for user in data[\"Username\"]:\n",
    "        user_ids.append(user_to_id_map[user])\n",
    "    #print(user_ids)\n",
    "    #for i in range(len(data)):\n",
    "    #for i in range(len(data)):\n",
    "    #    data[\"Username\"][i] = user_to_id_map[data[\"Username\"][i]]\n",
    "        \n",
    "    #fmt = data[\"Username\"].astype(int)\n",
    "    data.insert(4, \"User_ID\", user_ids, allow_duplicates=True)\n",
    "    data = data.drop([\"Unnamed: 0\"], axis=1)\n",
    "    return data"
   ]
  },
  {
   "cell_type": "code",
   "execution_count": 6,
   "metadata": {},
   "outputs": [],
   "source": [
    "#print(all_data.loc[16220])\n",
    "#print(all_data[\"Username\"][1])\n",
    "all_data = format_data(all_data, user_to_id_map)\n",
    "train_data = format_data(train_data, user_to_id_map)\n",
    "test_data = format_data(test_data, user_to_id_map)\n",
    "valid_data = format_data(valid_data, user_to_id_map)"
   ]
  },
  {
   "cell_type": "code",
   "execution_count": 7,
   "metadata": {},
   "outputs": [],
   "source": [
    "n_users = len(np.unique(all_data[\"Username\"]))\n",
    "n_games = len(game_info_data)\n",
    "\n",
    "#print(len(np.unique((pd.concat([train_data, test_data, valid_data]))[\"Username\"])))\n",
    "#print(len(np.unique(train_data[\"Username\"]))\n",
    "#      + len(np.unique(valid_data[\"Username\"]))\n",
    "#      + len(np.unique(test_data[\"Username\"])))\n",
    "\n",
    "def group_data(data, label):\n",
    "    \"\"\"\n",
    "    dict that maps label -> dataframe\n",
    "    \"\"\"\n",
    "    return dict(tuple(data.groupby(label))) # default sort=True\n",
    "\n",
    "# map: user -> np.array of game indices\n",
    "user_game_idx = group_data(all_data, \"User_ID\")\n",
    "for key in user_game_idx:\n",
    "    user_game_idx[key] = user_game_idx[key][\"Game_ID\"].to_numpy()\n",
    "\n",
    "# map: game -> np.array of user indices\n",
    "game_user_idx = group_data(all_data, \"Game_ID\")\n",
    "for key in game_user_idx:\n",
    "    game_user_idx[key] = game_user_idx[key][\"User_ID\"].to_numpy()\n",
    "   "
   ]
  },
  {
   "cell_type": "code",
   "execution_count": 8,
   "metadata": {},
   "outputs": [
    {
     "data": {
      "text/html": [
       "<div>\n",
       "<style scoped>\n",
       "    .dataframe tbody tr th:only-of-type {\n",
       "        vertical-align: middle;\n",
       "    }\n",
       "\n",
       "    .dataframe tbody tr th {\n",
       "        vertical-align: top;\n",
       "    }\n",
       "\n",
       "    .dataframe thead th {\n",
       "        text-align: right;\n",
       "    }\n",
       "</style>\n",
       "<table border=\"1\" class=\"dataframe\">\n",
       "  <thead>\n",
       "    <tr style=\"text-align: right;\">\n",
       "      <th></th>\n",
       "      <th>Userscore</th>\n",
       "      <th>Username</th>\n",
       "      <th>Game_ID</th>\n",
       "      <th>User_ID</th>\n",
       "    </tr>\n",
       "  </thead>\n",
       "  <tbody>\n",
       "    <tr>\n",
       "      <th>0</th>\n",
       "      <td>9</td>\n",
       "      <td>SergeantSoz</td>\n",
       "      <td>119</td>\n",
       "      <td>12398</td>\n",
       "    </tr>\n",
       "    <tr>\n",
       "      <th>1</th>\n",
       "      <td>9</td>\n",
       "      <td>SergeantSoz</td>\n",
       "      <td>1540</td>\n",
       "      <td>12398</td>\n",
       "    </tr>\n",
       "    <tr>\n",
       "      <th>2</th>\n",
       "      <td>8</td>\n",
       "      <td>SergeantSoz</td>\n",
       "      <td>2227</td>\n",
       "      <td>12398</td>\n",
       "    </tr>\n",
       "    <tr>\n",
       "      <th>3</th>\n",
       "      <td>8</td>\n",
       "      <td>SergeantSoz</td>\n",
       "      <td>2941</td>\n",
       "      <td>12398</td>\n",
       "    </tr>\n",
       "    <tr>\n",
       "      <th>4</th>\n",
       "      <td>9</td>\n",
       "      <td>tomcrew10</td>\n",
       "      <td>238</td>\n",
       "      <td>21396</td>\n",
       "    </tr>\n",
       "    <tr>\n",
       "      <th>...</th>\n",
       "      <td>...</td>\n",
       "      <td>...</td>\n",
       "      <td>...</td>\n",
       "      <td>...</td>\n",
       "    </tr>\n",
       "    <tr>\n",
       "      <th>105853</th>\n",
       "      <td>10</td>\n",
       "      <td>Supersaiyan9000</td>\n",
       "      <td>198</td>\n",
       "      <td>13325</td>\n",
       "    </tr>\n",
       "    <tr>\n",
       "      <th>105854</th>\n",
       "      <td>10</td>\n",
       "      <td>Supersaiyan9000</td>\n",
       "      <td>218</td>\n",
       "      <td>13325</td>\n",
       "    </tr>\n",
       "    <tr>\n",
       "      <th>105855</th>\n",
       "      <td>10</td>\n",
       "      <td>Supersaiyan9000</td>\n",
       "      <td>1063</td>\n",
       "      <td>13325</td>\n",
       "    </tr>\n",
       "    <tr>\n",
       "      <th>105856</th>\n",
       "      <td>9</td>\n",
       "      <td>Supersaiyan9000</td>\n",
       "      <td>2137</td>\n",
       "      <td>13325</td>\n",
       "    </tr>\n",
       "    <tr>\n",
       "      <th>105857</th>\n",
       "      <td>9</td>\n",
       "      <td>Supersaiyan9000</td>\n",
       "      <td>2944</td>\n",
       "      <td>13325</td>\n",
       "    </tr>\n",
       "  </tbody>\n",
       "</table>\n",
       "<p>105858 rows × 4 columns</p>\n",
       "</div>"
      ],
      "text/plain": [
       "        Userscore         Username  Game_ID  User_ID\n",
       "0               9      SergeantSoz      119    12398\n",
       "1               9      SergeantSoz     1540    12398\n",
       "2               8      SergeantSoz     2227    12398\n",
       "3               8      SergeantSoz     2941    12398\n",
       "4               9        tomcrew10      238    21396\n",
       "...           ...              ...      ...      ...\n",
       "105853         10  Supersaiyan9000      198    13325\n",
       "105854         10  Supersaiyan9000      218    13325\n",
       "105855         10  Supersaiyan9000     1063    13325\n",
       "105856          9  Supersaiyan9000     2137    13325\n",
       "105857          9  Supersaiyan9000     2944    13325\n",
       "\n",
       "[105858 rows x 4 columns]"
      ]
     },
     "execution_count": 8,
     "metadata": {},
     "output_type": "execute_result"
    }
   ],
   "source": [
    "train_data"
   ]
  },
  {
   "cell_type": "code",
   "execution_count": 9,
   "metadata": {},
   "outputs": [],
   "source": [
    "# hyperparameters\n",
    "embed_dim = 5\n",
    "#range_min = -1\n",
    "#range_max = 11\n",
    "#n_range = (-1, 11)\n",
    "#n_range = (0, 11)\n",
    "n_range = (-0.2, 2.2) # idk\n",
    "#n_range = (0, 0.7)\n",
    "seed = 69\n",
    "cycles = 3\n",
    "alpha = 0.1"
   ]
  },
  {
   "cell_type": "code",
   "execution_count": 10,
   "metadata": {},
   "outputs": [],
   "source": [
    "# user embedding\n",
    "user_input = Input(shape=[1], name='User')\n",
    "user_embedding = Embedding(n_users + 1, embed_dim, name='User-Embedding')(user_input)\n",
    "user_vec = Flatten(name='User-Flatten')(user_embedding)\n",
    "user_vec = Dropout(0.2)(user_vec)\n",
    "\n",
    "# game embedding\n",
    "game_input = Input(shape=[1], name='Game')\n",
    "game_embedding = Embedding(n_games + 1, embed_dim, name='Game-Embedding')(game_input)\n",
    "game_vec = Flatten(name='Game-Flatten')(game_embedding)\n",
    "game_vec = Dropout(0.2)(game_vec)"
   ]
  },
  {
   "cell_type": "code",
   "execution_count": 11,
   "metadata": {},
   "outputs": [
    {
     "name": "stdout",
     "output_type": "stream",
     "text": [
      "Tensor(\"User-Embedding/embedding_lookup/Identity_1:0\", shape=(None, 1, 5), dtype=float32)\n"
     ]
    }
   ],
   "source": [
    "print(user_embedding)"
   ]
  },
  {
   "cell_type": "code",
   "execution_count": 12,
   "metadata": {},
   "outputs": [],
   "source": [
    "# concatenate flattened values \n",
    "concat = concatenate([game_vec, user_vec])\n",
    "concat_dropout = Dropout(0.2)(concat)"
   ]
  },
  {
   "cell_type": "code",
   "execution_count": 13,
   "metadata": {},
   "outputs": [],
   "source": [
    "# add dense layer (can try more)\n",
    "dense_1 = Dense(20, name='Fully-Connected', activation='relu')(concat)"
   ]
  },
  {
   "cell_type": "code",
   "execution_count": 14,
   "metadata": {},
   "outputs": [],
   "source": [
    "# define output (can try sigmoid instead of relu)\n",
    "result = Dense(1, activation='relu', name='Activation')(dense_1)"
   ]
  },
  {
   "cell_type": "code",
   "execution_count": 15,
   "metadata": {},
   "outputs": [],
   "source": [
    "# define model with 2 inputs and 1 output\n",
    "model_tabular = Model([user_input, game_input], result)"
   ]
  },
  {
   "cell_type": "code",
   "execution_count": 16,
   "metadata": {},
   "outputs": [
    {
     "name": "stdout",
     "output_type": "stream",
     "text": [
      "Model: \"functional_1\"\n",
      "__________________________________________________________________________________________________\n",
      "Layer (type)                    Output Shape         Param #     Connected to                     \n",
      "==================================================================================================\n",
      "Game (InputLayer)               [(None, 1)]          0                                            \n",
      "__________________________________________________________________________________________________\n",
      "User (InputLayer)               [(None, 1)]          0                                            \n",
      "__________________________________________________________________________________________________\n",
      "Game-Embedding (Embedding)      (None, 1, 5)         25005       Game[0][0]                       \n",
      "__________________________________________________________________________________________________\n",
      "User-Embedding (Embedding)      (None, 1, 5)         110365      User[0][0]                       \n",
      "__________________________________________________________________________________________________\n",
      "Game-Flatten (Flatten)          (None, 5)            0           Game-Embedding[0][0]             \n",
      "__________________________________________________________________________________________________\n",
      "User-Flatten (Flatten)          (None, 5)            0           User-Embedding[0][0]             \n",
      "__________________________________________________________________________________________________\n",
      "dropout_1 (Dropout)             (None, 5)            0           Game-Flatten[0][0]               \n",
      "__________________________________________________________________________________________________\n",
      "dropout (Dropout)               (None, 5)            0           User-Flatten[0][0]               \n",
      "__________________________________________________________________________________________________\n",
      "concatenate (Concatenate)       (None, 10)           0           dropout_1[0][0]                  \n",
      "                                                                 dropout[0][0]                    \n",
      "__________________________________________________________________________________________________\n",
      "Fully-Connected (Dense)         (None, 20)           220         concatenate[0][0]                \n",
      "__________________________________________________________________________________________________\n",
      "Activation (Dense)              (None, 1)            21          Fully-Connected[0][0]            \n",
      "==================================================================================================\n",
      "Total params: 135,611\n",
      "Trainable params: 135,611\n",
      "Non-trainable params: 0\n",
      "__________________________________________________________________________________________________\n"
     ]
    }
   ],
   "source": [
    "# show model summary\n",
    "model_tabular.summary()"
   ]
  },
  {
   "cell_type": "code",
   "execution_count": 17,
   "metadata": {},
   "outputs": [
    {
     "data": {
      "text/plain": [
       "<tensorflow.python.keras.engine.functional.Functional at 0x7f5337544070>"
      ]
     },
     "execution_count": 17,
     "metadata": {},
     "output_type": "execute_result"
    }
   ],
   "source": [
    "model_tabular"
   ]
  },
  {
   "cell_type": "code",
   "execution_count": 18,
   "metadata": {},
   "outputs": [],
   "source": [
    "# specify learning rate (or use the default by specifying optimizer = 'adam')\n",
    "opt_adam = Adam(lr = 0.002)\n",
    "\n",
    "# compile model\n",
    "model_tabular.compile(optimizer=opt_adam, loss=['mse'], metrics=['mean_absolute_error'])"
   ]
  },
  {
   "cell_type": "code",
   "execution_count": 19,
   "metadata": {},
   "outputs": [
    {
     "data": {
      "text/plain": [
       "[<tensorflow.python.keras.engine.input_layer.InputLayer at 0x7f530a9ae220>,\n",
       " <tensorflow.python.keras.engine.input_layer.InputLayer at 0x7f530a213cd0>,\n",
       " <tensorflow.python.keras.layers.embeddings.Embedding at 0x7f530a9ae250>,\n",
       " <tensorflow.python.keras.layers.embeddings.Embedding at 0x7f53095c8df0>,\n",
       " <tensorflow.python.keras.layers.core.Flatten at 0x7f5309889ee0>,\n",
       " <tensorflow.python.keras.layers.core.Flatten at 0x7f530a9ad970>,\n",
       " <tensorflow.python.keras.layers.core.Dropout at 0x7f530987c640>,\n",
       " <tensorflow.python.keras.layers.core.Dropout at 0x7f530b5c7850>,\n",
       " <tensorflow.python.keras.layers.merge.Concatenate at 0x7f53095c85b0>,\n",
       " <tensorflow.python.keras.layers.core.Dense at 0x7f5303317970>,\n",
       " <tensorflow.python.keras.layers.core.Dense at 0x7f530a0b6f40>]"
      ]
     },
     "execution_count": 19,
     "metadata": {},
     "output_type": "execute_result"
    }
   ],
   "source": [
    "model_tabular.layers"
   ]
  },
  {
   "cell_type": "code",
   "execution_count": 20,
   "metadata": {},
   "outputs": [
    {
     "data": {
      "text/plain": [
       "[array([[-4.7533479e-02,  1.8556606e-02,  2.4295185e-02,  3.6415149e-02,\n",
       "          2.5295947e-02],\n",
       "        [-6.5587461e-05, -3.2030083e-02,  1.6117524e-02, -3.8657337e-04,\n",
       "          2.4864767e-02],\n",
       "        [ 1.0324586e-02,  3.7985113e-02, -2.0328749e-02,  1.4147494e-02,\n",
       "         -3.3425320e-02],\n",
       "        ...,\n",
       "        [-1.5843607e-02, -3.9736949e-02, -2.6939809e-02, -1.5655853e-02,\n",
       "          4.0192973e-02],\n",
       "        [-1.0689773e-02, -5.3288825e-03, -3.9236296e-02,  4.3275569e-02,\n",
       "         -7.1087591e-03],\n",
       "        [-2.6965333e-02, -6.0452707e-03, -2.7593398e-02,  3.2037128e-02,\n",
       "         -1.0755349e-02]], dtype=float32)]"
      ]
     },
     "execution_count": 20,
     "metadata": {},
     "output_type": "execute_result"
    }
   ],
   "source": [
    "model_tabular.layers[2].get_weights()"
   ]
  },
  {
   "cell_type": "code",
   "execution_count": 21,
   "metadata": {},
   "outputs": [
    {
     "data": {
      "text/plain": [
       "<tensorflow.python.keras.layers.embeddings.Embedding at 0x7f530a9ae250>"
      ]
     },
     "execution_count": 21,
     "metadata": {},
     "output_type": "execute_result"
    }
   ],
   "source": [
    "model_tabular.layers[2]"
   ]
  },
  {
   "cell_type": "code",
   "execution_count": 63,
   "metadata": {},
   "outputs": [],
   "source": [
    "# dumb model copy test\n",
    "model_copy = keras.models.clone_model(model_tabular)\n",
    "\n",
    "model_copy.build((None, 1)) # replace 10 with number of variables in input layer\n",
    "\n",
    "model_copy.compile(optimizer=opt_adam, loss=['mse'], metrics=['mean_absolute_error'])\n",
    "model_copy.set_weights(model_tabular.get_weights())"
   ]
  },
  {
   "cell_type": "code",
   "execution_count": 64,
   "metadata": {},
   "outputs": [
    {
     "name": "stdout",
     "output_type": "stream",
     "text": [
      "Model: \"functional_1\"\n",
      "__________________________________________________________________________________________________\n",
      "Layer (type)                    Output Shape         Param #     Connected to                     \n",
      "==================================================================================================\n",
      "Game (InputLayer)               [(None, 1)]          0                                            \n",
      "__________________________________________________________________________________________________\n",
      "User (InputLayer)               [(None, 1)]          0                                            \n",
      "__________________________________________________________________________________________________\n",
      "Game-Embedding (Embedding)      (None, 1, 5)         25005       Game[0][0]                       \n",
      "__________________________________________________________________________________________________\n",
      "User-Embedding (Embedding)      (None, 1, 5)         110365      User[0][0]                       \n",
      "__________________________________________________________________________________________________\n",
      "Game-Flatten (Flatten)          (None, 5)            0           Game-Embedding[0][0]             \n",
      "__________________________________________________________________________________________________\n",
      "User-Flatten (Flatten)          (None, 5)            0           User-Embedding[0][0]             \n",
      "__________________________________________________________________________________________________\n",
      "dropout_1 (Dropout)             (None, 5)            0           Game-Flatten[0][0]               \n",
      "__________________________________________________________________________________________________\n",
      "dropout (Dropout)               (None, 5)            0           User-Flatten[0][0]               \n",
      "__________________________________________________________________________________________________\n",
      "concatenate (Concatenate)       (None, 10)           0           dropout_1[0][0]                  \n",
      "                                                                 dropout[0][0]                    \n",
      "__________________________________________________________________________________________________\n",
      "Fully-Connected (Dense)         (None, 20)           220         concatenate[0][0]                \n",
      "__________________________________________________________________________________________________\n",
      "Activation (Dense)              (None, 1)            21          Fully-Connected[0][0]            \n",
      "==================================================================================================\n",
      "Total params: 135,611\n",
      "Trainable params: 135,611\n",
      "Non-trainable params: 0\n",
      "__________________________________________________________________________________________________\n"
     ]
    }
   ],
   "source": [
    "model_copy.summary()"
   ]
  },
  {
   "cell_type": "code",
   "execution_count": null,
   "metadata": {},
   "outputs": [],
   "source": []
  },
  {
   "cell_type": "code",
   "execution_count": 65,
   "metadata": {},
   "outputs": [],
   "source": [
    "def predict_custom(data):\n",
    "    start = timer()\n",
    "    for user_id in np.sort(np.unique(data[\"User_ID\"])):\n",
    "        # ASSUMPTION: user is completely unique and has not been trained on,\n",
    "        # thus we can use the global var user_game_idx\n",
    "\n",
    "        user_data = data[data[\"User_ID\"] == user_id]\n",
    "\n",
    "        #user_start = timer()\n",
    "        for i, game_id in enumerate(user_data[\"Game_ID\"]):\n",
    "            #print(i, game_id)\n",
    "            #print(i, game_id)\n",
    "            user_data_drop = user_data.drop(user_data.index[[i]])\n",
    "\n",
    "            # dumb model copy test\n",
    "            #model_copy = keras.models.clone_model(model_tabular)\n",
    "            \n",
    "            #model_copy.build((None, 1)) # replace 10 with number of variables in input layer\n",
    "            \n",
    "            #model_copy.compile(optimizer=opt_adam, loss=['mse'], metrics=['mean_absolute_error'])\n",
    "            #model_copy.set_weights(model_tabular.get_weights())\n",
    "            temp1 = model_copy.get_weights()\n",
    "            \n",
    "            history_tabular = model_copy.fit([user_data_drop['User_ID'], user_data_drop['Game_ID']],\n",
    "                                                user_data_drop['Userscore'],\n",
    "                                                batch_size = 256,\n",
    "                                                validation_split = 0.005,\n",
    "                                                epochs = 4,\n",
    "                                                verbose = 0)\n",
    "\n",
    "            temp2 = model_copy.get_weights()\n",
    "            return temp1, temp2\n",
    "            \n",
    "\n",
    "\n",
    "            # ASSUMPTION: deepcopy is done here\n",
    "            #self.e.bias_users[user_id] = old_e.bias_users[user_id]\n",
    "            #self.e.bias_games[temp_ei.game_idx] = old_e.bias_games[temp_ei.game_idx]\n",
    "            #self.e.embed_users[user_id] = old_e.embed_users[user_id]\n",
    "            #self.e.embed_games[temp_ei.game_idx] = old_e.embed_games[temp_ei.game_idx]\n",
    "\n",
    "            #print(user_data_drop)\n",
    "            #break\n",
    "        #break\n",
    "        #user_end = timer()\n",
    "        #times.append(user_end - user_start)\n",
    "        #print(user_end - user_start)\n",
    "        user_counter += 1\n",
    "        #if (user_counter % 50) == 0:\n",
    "        #    print(user_counter)\n",
    "        if user_counter > 100:\n",
    "            break\n",
    "\n",
    "    end = timer()\n",
    "    print(\"global time:\", end - start)\n",
    "\n",
    "    preds = np.array(preds)\n",
    "    actual = np.array(actual)\n",
    "\n",
    "    return preds, actual\n",
    "    # fold in new data\n",
    "   "
   ]
  },
  {
   "cell_type": "code",
   "execution_count": 66,
   "metadata": {},
   "outputs": [],
   "source": [
    "temp1, temp2 = predict_custom(test_data)"
   ]
  },
  {
   "cell_type": "code",
   "execution_count": 67,
   "metadata": {},
   "outputs": [
    {
     "data": {
      "text/plain": [
       "array([[ 0.0971139 , -0.28977486,  0.19088925, -0.91325647,  0.06227327,\n",
       "         0.09948058, -0.6868867 ,  0.1350766 ,  0.36795136, -0.17705902,\n",
       "        -0.43620357, -0.13145788, -0.19162709, -0.18652824, -0.950712  ,\n",
       "         0.12013859,  0.10140291,  0.07030296, -0.6825657 ,  0.34928253],\n",
       "       [-0.22426891, -0.53679127,  0.17773797, -1.1433423 ,  0.05813185,\n",
       "         0.05944584, -0.77165806, -0.03347948,  0.25453252,  0.05125334,\n",
       "        -0.03921526,  0.18833418,  0.19105214, -0.8322865 , -0.91650426,\n",
       "         0.09951045,  0.00234347,  0.14305867, -0.92141795, -0.00373808],\n",
       "       [-0.24162182,  0.5482981 ,  0.16404493,  1.2445638 , -0.08426064,\n",
       "        -0.08347683,  0.7487161 , -0.08048263, -0.31521147, -0.1569438 ,\n",
       "         0.63514125, -0.07575676, -0.10197748,  0.8787369 ,  0.5821542 ,\n",
       "        -0.06733755, -0.10488874,  0.16103296,  0.8358024 ,  0.1327833 ],\n",
       "       [-0.1988657 ,  0.6615072 ,  0.02937951,  1.0174001 ,  0.00321209,\n",
       "         0.07034949,  0.89797467, -0.3674855 , -0.30300224, -0.2342025 ,\n",
       "         0.7035185 ,  0.02548599, -0.31683436,  0.58360434,  0.75961304,\n",
       "        -0.10329245, -0.13071409, -0.282613  ,  0.11882269, -0.04667035],\n",
       "       [-0.11490838,  0.4537315 , -0.1738285 ,  1.0219194 , -0.0428187 ,\n",
       "         0.12919557,  0.6803341 ,  0.1016155 , -0.04123234, -0.12830865,\n",
       "         0.5100192 , -0.13929419, -0.13346243,  0.42995518,  0.6677773 ,\n",
       "         0.09371057, -0.23971276,  0.09102325,  0.9100474 , -0.27372092],\n",
       "       [ 0.17722538,  0.9990077 , -0.40777722,  0.98556584, -0.01004226,\n",
       "        -0.20858571,  0.9006583 , -0.20787574, -0.371596  , -0.21555501,\n",
       "         0.7624402 , -0.4064788 , -0.23274978,  0.5656406 ,  0.6387744 ,\n",
       "         0.19794773, -0.83286834, -0.22180422,  0.9105353 ,  0.11239894],\n",
       "       [ 0.08006969,  0.3731776 , -0.11603717,  0.84520507, -0.5733429 ,\n",
       "         0.30281633,  0.878413  ,  0.1663557 , -0.22400439,  0.14181554,\n",
       "         0.9068333 ,  0.08308102, -0.1652761 ,  0.88585365,  1.0624645 ,\n",
       "         0.2752917 , -0.7299614 ,  0.27742538,  0.4088969 ,  0.14454117],\n",
       "       [-0.13588372, -1.1938201 , -0.04275108, -0.97380996,  0.06680772,\n",
       "         0.17037518, -0.87146914,  0.06372074,  0.06903423, -0.09421872,\n",
       "        -1.1129403 ,  0.22585186, -0.22637679, -0.28146458, -0.94967663,\n",
       "         0.15933044,  0.7420617 ,  0.14909784, -0.2733989 ,  0.35234487],\n",
       "       [-0.3656675 ,  0.32277587,  0.26872948,  0.72914094, -0.35087478,\n",
       "        -0.14186445,  0.7010712 ,  0.17368563,  0.2147628 , -0.05790909,\n",
       "         0.32290044,  0.14491197,  0.16737676,  0.7363557 ,  1.1831778 ,\n",
       "        -0.2851389 , -0.63468367, -0.2376912 ,  0.7484453 , -0.23966007],\n",
       "       [-0.21472369,  0.29034466, -0.1324749 ,  0.74400175, -0.6026489 ,\n",
       "        -0.1926259 ,  1.1556576 , -0.13821767,  0.13430059, -0.01674355,\n",
       "         0.3164294 ,  0.10003745, -0.26806995,  0.678802  ,  0.8586469 ,\n",
       "        -0.30519208, -0.757168  , -0.05712235,  0.6063369 ,  0.06412148]],\n",
       "      dtype=float32)"
      ]
     },
     "execution_count": 67,
     "metadata": {},
     "output_type": "execute_result"
    }
   ],
   "source": [
    "temp1[2]"
   ]
  },
  {
   "cell_type": "code",
   "execution_count": 70,
   "metadata": {},
   "outputs": [],
   "source": [
    "#for vec in (model_tabular.get_weights())[0] == temp2[0]:\n",
    "#    for element in vec:\n",
    "#        if not element:\n",
    "#            print(\"yee\")"
   ]
  },
  {
   "cell_type": "code",
   "execution_count": 61,
   "metadata": {},
   "outputs": [],
   "source": [
    "# fit model\n",
    "history_tabular = model_tabular.fit([train_data['User_ID'], train_data['Game_ID']],\n",
    "                                    train_data['Userscore'],\n",
    "                                    batch_size = 256,\n",
    "                                    validation_split = 0.005,\n",
    "                                    epochs = 6,\n",
    "                                    verbose = 0)"
   ]
  },
  {
   "cell_type": "code",
   "execution_count": 29,
   "metadata": {},
   "outputs": [],
   "source": [
    "#history_tabular = model_tabular.fit([train_data['User_ID'], train_data['Game_ID']],\n",
    "#                                    train_data['Userscore'],\n",
    "#                                    batch_size = 256,\n",
    "#                                    validation_split = 0.005,\n",
    "#                                    epochs = 4,\n",
    "#                                    verbose = 0)"
   ]
  },
  {
   "cell_type": "code",
   "execution_count": 71,
   "metadata": {},
   "outputs": [],
   "source": [
    "valid_data['User_ID'].to_numpy()\n",
    "\n",
    "# what the fuck\n",
    "def get_array(series):\n",
    "    #return np.array([[element] for element in series])\n",
    "    return np.expand_dims(series.to_numpy(), axis=0).T"
   ]
  },
  {
   "cell_type": "code",
   "execution_count": 72,
   "metadata": {},
   "outputs": [
    {
     "name": "stdout",
     "output_type": "stream",
     "text": [
      "[[  471]\n",
      " [  471]\n",
      " [  471]\n",
      " ...\n",
      " [22017]\n",
      " [22017]\n",
      " [22017]]\n"
     ]
    }
   ],
   "source": [
    "print(get_array(valid_data['User_ID']))"
   ]
  },
  {
   "cell_type": "code",
   "execution_count": 73,
   "metadata": {},
   "outputs": [],
   "source": [
    "#np.expand_dims(valid_data['User_ID'].to_numpy(), axis=0).T"
   ]
  },
  {
   "cell_type": "code",
   "execution_count": 74,
   "metadata": {},
   "outputs": [],
   "source": [
    "#valid_data['User_ID'].to_numpy().T"
   ]
  },
  {
   "cell_type": "code",
   "execution_count": 75,
   "metadata": {},
   "outputs": [
    {
     "data": {
      "text/plain": [
       "2.6637892709458595"
      ]
     },
     "execution_count": 75,
     "metadata": {},
     "output_type": "execute_result"
    }
   ],
   "source": [
    "#model_tabular.predict(get_array(valid_data['User_ID']), get_array(valid_data['Game_ID']))\n",
    "preds = model_tabular.predict([get_array(test_data['User_ID']), get_array(test_data['Game_ID'])])\n",
    "mean_squared_error(preds, test_data['Userscore'], squared=False)"
   ]
  },
  {
   "cell_type": "code",
   "execution_count": 76,
   "metadata": {},
   "outputs": [
    {
     "data": {
      "text/plain": [
       "(array([9.0000e+00, 5.6000e+01, 3.5600e+02, 6.8400e+02, 9.7100e+02,\n",
       "        1.3800e+03, 2.1680e+03, 3.3360e+03, 5.1180e+03, 1.4479e+04,\n",
       "        2.6640e+03]),\n",
       " array([0.78070414, 1.5136555 , 2.2466068 , 2.9795582 , 3.7125096 ,\n",
       "        4.445461  , 5.1784124 , 5.9113636 , 6.6443152 , 7.3772664 ,\n",
       "        8.110218  , 8.843169  ], dtype=float32),\n",
       " <BarContainer object of 11 artists>)"
      ]
     },
     "execution_count": 76,
     "metadata": {},
     "output_type": "execute_result"
    },
    {
     "data": {
      "image/png": "[encoded data removed]",
      "text/plain": [
       "<Figure size 432x288 with 1 Axes>"
      ]
     },
     "metadata": {
      "needs_background": "light"
     },
     "output_type": "display_data"
    }
   ],
   "source": [
    "plt.hist(preds, bins=11)"
   ]
  },
  {
   "cell_type": "code",
   "execution_count": 78,
   "metadata": {},
   "outputs": [
    {
     "data": {
      "text/plain": [
       "array([0.78070414, 1.2796674 , 1.2862179 , ..., 8.751394  , 8.799221  ,\n",
       "       8.843169  ], dtype=float32)"
      ]
     },
     "execution_count": 78,
     "metadata": {},
     "output_type": "execute_result"
    }
   ],
   "source": [
    "np.sort(np.ravel(preds))"
   ]
  },
  {
   "cell_type": "code",
   "execution_count": 65,
   "metadata": {},
   "outputs": [],
   "source": [
    "preds_lol = model_tabular.predict([get_array(train_data['User_ID']), get_array(train_data['Game_ID'])])\n",
    "mean_squared_error(preds_lol, train_data['Userscore'], squared=False)"
   ]
  },
  {
   "cell_type": "code",
   "execution_count": 66,
   "metadata": {},
   "outputs": [
    {
     "data": {
      "text/plain": [
       "(array([  457.,   788.,  1413.,  2224.,  3740.,  5936., 10387., 32627.,\n",
       "        43048.,  5238.]),\n",
       " array([ 0.       ,  1.0549437,  2.1098874,  3.164831 ,  4.2197747,\n",
       "         5.2747183,  6.329662 ,  7.3846054,  8.439549 ,  9.494493 ,\n",
       "        10.549437 ], dtype=float32),\n",
       " <BarContainer object of 10 artists>)"
      ]
     },
     "execution_count": 66,
     "metadata": {},
     "output_type": "execute_result"
    },
    {
     "data": {
      "image/png": "[encoded data removed]",
      "text/plain": [
       "<Figure size 432x288 with 1 Axes>"
      ]
     },
     "metadata": {
      "needs_background": "light"
     },
     "output_type": "display_data"
    }
   ],
   "source": [
    "plt.hist(preds_lol)"
   ]
  },
  {
   "cell_type": "code",
   "execution_count": 46,
   "metadata": {},
   "outputs": [],
   "source": [
    "from sklearn.model_selection import train_test_split\n",
    "temp1, temp2 = train_test_split(all_data, test_size=0.1)"
   ]
  },
  {
   "cell_type": "code",
   "execution_count": 47,
   "metadata": {},
   "outputs": [
    {
     "data": {
      "text/html": [
       "<div>\n",
       "<style scoped>\n",
       "    .dataframe tbody tr th:only-of-type {\n",
       "        vertical-align: middle;\n",
       "    }\n",
       "\n",
       "    .dataframe tbody tr th {\n",
       "        vertical-align: top;\n",
       "    }\n",
       "\n",
       "    .dataframe thead th {\n",
       "        text-align: right;\n",
       "    }\n",
       "</style>\n",
       "<table border=\"1\" class=\"dataframe\">\n",
       "  <thead>\n",
       "    <tr style=\"text-align: right;\">\n",
       "      <th></th>\n",
       "      <th>Userscore</th>\n",
       "      <th>Username</th>\n",
       "      <th>Game_ID</th>\n",
       "      <th>User_ID</th>\n",
       "    </tr>\n",
       "  </thead>\n",
       "  <tbody>\n",
       "    <tr>\n",
       "      <th>113924</th>\n",
       "      <td>5</td>\n",
       "      <td>RinShibuya</td>\n",
       "      <td>1671</td>\n",
       "      <td>11658</td>\n",
       "    </tr>\n",
       "    <tr>\n",
       "      <th>131315</th>\n",
       "      <td>2</td>\n",
       "      <td>WestLil0</td>\n",
       "      <td>197</td>\n",
       "      <td>14975</td>\n",
       "    </tr>\n",
       "    <tr>\n",
       "      <th>59978</th>\n",
       "      <td>8</td>\n",
       "      <td>CenkAlp</td>\n",
       "      <td>328</td>\n",
       "      <td>2325</td>\n",
       "    </tr>\n",
       "    <tr>\n",
       "      <th>54155</th>\n",
       "      <td>10</td>\n",
       "      <td>Khajiit2</td>\n",
       "      <td>99</td>\n",
       "      <td>7715</td>\n",
       "    </tr>\n",
       "    <tr>\n",
       "      <th>16395</th>\n",
       "      <td>8</td>\n",
       "      <td>SilentSputnik</td>\n",
       "      <td>495</td>\n",
       "      <td>12633</td>\n",
       "    </tr>\n",
       "    <tr>\n",
       "      <th>...</th>\n",
       "      <td>...</td>\n",
       "      <td>...</td>\n",
       "      <td>...</td>\n",
       "      <td>...</td>\n",
       "    </tr>\n",
       "    <tr>\n",
       "      <th>25211</th>\n",
       "      <td>7</td>\n",
       "      <td>Dragz</td>\n",
       "      <td>2823</td>\n",
       "      <td>3900</td>\n",
       "    </tr>\n",
       "    <tr>\n",
       "      <th>67164</th>\n",
       "      <td>6</td>\n",
       "      <td>JS96</td>\n",
       "      <td>1135</td>\n",
       "      <td>6348</td>\n",
       "    </tr>\n",
       "    <tr>\n",
       "      <th>23406</th>\n",
       "      <td>1</td>\n",
       "      <td>skarr</td>\n",
       "      <td>1376</td>\n",
       "      <td>20771</td>\n",
       "    </tr>\n",
       "    <tr>\n",
       "      <th>114762</th>\n",
       "      <td>10</td>\n",
       "      <td>synced</td>\n",
       "      <td>690</td>\n",
       "      <td>21094</td>\n",
       "    </tr>\n",
       "    <tr>\n",
       "      <th>113703</th>\n",
       "      <td>10</td>\n",
       "      <td>LoneWolfSones</td>\n",
       "      <td>690</td>\n",
       "      <td>8374</td>\n",
       "    </tr>\n",
       "  </tbody>\n",
       "</table>\n",
       "<p>136797 rows × 4 columns</p>\n",
       "</div>"
      ],
      "text/plain": [
       "        Userscore       Username  Game_ID  User_ID\n",
       "113924          5     RinShibuya     1671    11658\n",
       "131315          2       WestLil0      197    14975\n",
       "59978           8        CenkAlp      328     2325\n",
       "54155          10       Khajiit2       99     7715\n",
       "16395           8  SilentSputnik      495    12633\n",
       "...           ...            ...      ...      ...\n",
       "25211           7          Dragz     2823     3900\n",
       "67164           6           JS96     1135     6348\n",
       "23406           1          skarr     1376    20771\n",
       "114762         10         synced      690    21094\n",
       "113703         10  LoneWolfSones      690     8374\n",
       "\n",
       "[136797 rows x 4 columns]"
      ]
     },
     "execution_count": 47,
     "metadata": {},
     "output_type": "execute_result"
    }
   ],
   "source": [
    "temp1"
   ]
  },
  {
   "cell_type": "code",
   "execution_count": 51,
   "metadata": {},
   "outputs": [
    {
     "data": {
      "text/plain": [
       "array([[11658],\n",
       "       [14975],\n",
       "       [ 2325],\n",
       "       ...,\n",
       "       [20771],\n",
       "       [21094],\n",
       "       [ 8374]])"
      ]
     },
     "execution_count": 51,
     "metadata": {},
     "output_type": "execute_result"
    }
   ],
   "source": [
    "get_array(temp1[\"User_ID\"])"
   ]
  },
  {
   "cell_type": "code",
   "execution_count": 54,
   "metadata": {},
   "outputs": [],
   "source": [
    "#model_tabular.predict(get_array(temp1['User_ID']), get_array(temp2['Game_ID']), batch_size=32)\n",
    "#model_tabular.predict([get_array(temp1['User_ID']), get_array(temp1['Game_ID'])])"
   ]
  },
  {
   "cell_type": "code",
   "execution_count": null,
   "metadata": {},
   "outputs": [],
   "source": []
  }
 ],
 "metadata": {
  "kernelspec": {
   "display_name": "Python 3",
   "language": "python",
   "name": "python3"
  },
  "language_info": {
   "codemirror_mode": {
    "name": "ipython",
    "version": 3
   },
   "file_extension": ".py",
   "mimetype": "text/x-python",
   "name": "python",
   "nbconvert_exporter": "python",
   "pygments_lexer": "ipython3",
   "version": "3.8.5"
  }
 },
 "nbformat": 4,
 "nbformat_minor": 4
}
