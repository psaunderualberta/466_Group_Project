{
 "cells": [
  {
   "cell_type": "code",
   "execution_count": 16,
   "metadata": {},
   "outputs": [],
   "source": [
    "from timeit import default_timer as timer\n",
    "import random as python_random\n",
    "\n",
    "import pandas as pd\n",
    "import numpy as np\n",
    "import matplotlib.pyplot as plt\n",
    "import tensorflow as tf\n",
    "\n",
    "from sklearn.metrics import mean_squared_error\n",
    "from sklearn.decomposition import PCA\n",
    "\n",
    "import keras\n",
    "from keras.models import Sequential, Model\n",
    "from keras.layers import Embedding, Flatten, Dense, Dropout, concatenate, multiply, Input\n",
    "from keras.optimizers import Adam"
   ]
  },
  {
   "cell_type": "code",
   "execution_count": 2,
   "metadata": {},
   "outputs": [],
   "source": [
    "raw_data = pd.read_csv(\"old_data/raw_metacritic_game_user_comments.csv\")\n",
    "game_info_data = pd.read_csv(\"src/data/game_info.csv\")\n",
    "train_data = pd.read_csv(\"src/data/user_data_train_no_comments.csv\")\n",
    "test_data = pd.read_csv(\"src/data/user_data_test_no_comments.csv\")\n",
    "valid_data = pd.read_csv(\"src/data/user_data_validation_no_comments.csv\")\n",
    "\n",
    "game_info_data = game_info_data.rename(columns={\"Unnamed: 0\" : \"Id\"})"
   ]
  },
  {
   "cell_type": "code",
   "execution_count": 3,
   "metadata": {},
   "outputs": [],
   "source": [
    "all_data = pd.concat([train_data, test_data, valid_data], ignore_index=True)"
   ]
  },
  {
   "cell_type": "code",
   "execution_count": 4,
   "metadata": {},
   "outputs": [],
   "source": [
    "# transform usernames into user IDs\n",
    "user_to_id_map = {}\n",
    "for i, username in enumerate(np.unique(all_data[\"Username\"])):\n",
    "    user_to_id_map[username] = i"
   ]
  },
  {
   "cell_type": "code",
   "execution_count": 5,
   "metadata": {},
   "outputs": [],
   "source": [
    "def format_data(data, usermap):\n",
    "    # replaces usernames with numeric IDs\n",
    "    user_ids = []\n",
    "    for user in data[\"Username\"]:\n",
    "        user_ids.append(user_to_id_map[user])\n",
    "        \n",
    "    data.insert(4, \"User_ID\", user_ids, allow_duplicates=True)\n",
    "    data = data.drop([\"Unnamed: 0\"], axis=1)\n",
    "    return data"
   ]
  },
  {
   "cell_type": "code",
   "execution_count": 6,
   "metadata": {},
   "outputs": [],
   "source": [
    "all_data = format_data(all_data, user_to_id_map)\n",
    "train_data = format_data(train_data, user_to_id_map)\n",
    "test_data = format_data(test_data, user_to_id_map)\n",
    "valid_data = format_data(valid_data, user_to_id_map)"
   ]
  },
  {
   "cell_type": "code",
   "execution_count": 7,
   "metadata": {},
   "outputs": [],
   "source": [
    "n_users = len(np.unique(all_data[\"Username\"]))\n",
    "n_games = len(game_info_data)\n",
    "\n",
    "def group_data(data, label):\n",
    "    \"\"\"\n",
    "    dict that maps label -> dataframe\n",
    "    \"\"\"\n",
    "    return dict(tuple(data.groupby(label))) # default sort=True\n",
    "\n",
    "# map: user -> np.array of game indices\n",
    "user_game_idx = group_data(all_data, \"User_ID\")\n",
    "for key in user_game_idx:\n",
    "    user_game_idx[key] = user_game_idx[key][\"Game_ID\"].to_numpy()\n",
    "\n",
    "# map: game -> np.array of user indices\n",
    "game_user_idx = group_data(all_data, \"Game_ID\")\n",
    "for key in game_user_idx:\n",
    "    game_user_idx[key] = game_user_idx[key][\"User_ID\"].to_numpy()"
   ]
  },
  {
   "cell_type": "code",
   "execution_count": 8,
   "metadata": {},
   "outputs": [],
   "source": [
    "# hyperparameters\n",
    "embed_dim = 20\n",
    "seed = 69\n",
    "n_cycles = 5\n",
    "\n",
    "# optimizer with custom learning rate\n",
    "optimizer = Adam(lr = 0.002)"
   ]
  },
  {
   "cell_type": "code",
   "execution_count": 9,
   "metadata": {},
   "outputs": [],
   "source": [
    "def create_model(embed_dim):\n",
    "    \"\"\"\n",
    "    code following from https://www.onceupondata.com/2019/02/10/nn-collaborative-filtering/\n",
    "    \"\"\"\n",
    "    # user embedding\n",
    "    user_input = Input(shape=[1], name='User')\n",
    "    user_embedding = Embedding(n_users + 1, embed_dim, name='User-Embedding')(user_input)\n",
    "    user_vec = Flatten(name='User-Flatten')(user_embedding)\n",
    "    user_vec = Dropout(0.2)(user_vec)\n",
    "\n",
    "    # game embedding\n",
    "    game_input = Input(shape=[1], name='Game')\n",
    "    game_embedding = Embedding(n_games + 1, embed_dim, name='Game-Embedding')(game_input)\n",
    "    game_vec = Flatten(name='Game-Flatten')(game_embedding)\n",
    "    game_vec = Dropout(0.2)(game_vec)\n",
    "\n",
    "    # concatenate flattened values \n",
    "    concat = concatenate([game_vec, user_vec])\n",
    "    concat_dropout = Dropout(0.2)(concat)\n",
    "\n",
    "    # add dense layer (can try more)\n",
    "    dense_1 = Dense(20, name='Fully-Connected', activation='relu')(concat)\n",
    "\n",
    "    # define output (can try sigmoid instead of relu)\n",
    "    result = Dense(1, activation='relu', name='Activation')(dense_1)\n",
    "\n",
    "    # define model with 2 inputs and 1 output\n",
    "    model = Model([user_input, game_input], result)\n",
    "    \n",
    "    # compile model\n",
    "    model.compile(optimizer=optimizer, loss=['mse'], metrics=['mean_absolute_error'])\n",
    "    \n",
    "    return model\n",
    "\n",
    "def clone_model(model):\n",
    "    \"\"\"\n",
    "    inefficient cloning\n",
    "    \n",
    "    taken from: https://stackoverflow.com/a/54368176\n",
    "    \"\"\"\n",
    "    model_copy = keras.models.clone_model(model)\n",
    "\n",
    "    model_copy.compile(optimizer=optimizer, loss=['mse'], metrics=['mean_absolute_error'])\n",
    "    model_copy.set_weights(model.get_weights())\n",
    "    return model_copy\n",
    "    \n",
    "    \n",
    "def set_seed(seed):\n",
    "    \"\"\"\n",
    "    https://keras.io/getting_started/faq/#how-can-i-obtain-reproducible-results-using-keras-during-development\n",
    "    \"\"\"\n",
    "    # The below is necessary for starting Numpy generated random numbers\n",
    "    # in a well-defined initial state.\n",
    "    np.random.seed(seed)\n",
    "\n",
    "    # The below is necessary for starting core Python generated random numbers\n",
    "    # in a well-defined state.\n",
    "    python_random.seed(seed)\n",
    "\n",
    "    # The below set_seed() will make random number generation\n",
    "    # in the TensorFlow backend have a well-defined initial state.\n",
    "    # For further details, see:\n",
    "    # https://www.tensorflow.org/api_docs/python/tf/random/set_seed\n",
    "    tf.random.set_seed(seed)\n",
    "\n",
    "    # Rest of code follows ..."
   ]
  },
  {
   "cell_type": "code",
   "execution_count": 10,
   "metadata": {},
   "outputs": [],
   "source": [
    "# define model\n",
    "set_seed(seed)\n",
    "main_model = create_model(embed_dim)"
   ]
  },
  {
   "cell_type": "code",
   "execution_count": 11,
   "metadata": {},
   "outputs": [],
   "source": [
    "# fit model\n",
    "model_history = main_model.fit([train_data['User_ID'], train_data['Game_ID']],\n",
    "                                    train_data['Userscore'],\n",
    "                                    batch_size = 256,\n",
    "                                    validation_split = 0.005,\n",
    "                                    epochs = n_cycles,\n",
    "                                    verbose = 0)"
   ]
  },
  {
   "cell_type": "code",
   "execution_count": 12,
   "metadata": {},
   "outputs": [
    {
     "data": {
      "text/plain": [
       "2.649231775586412"
      ]
     },
     "execution_count": 12,
     "metadata": {},
     "output_type": "execute_result"
    }
   ],
   "source": [
    "def get_array(series): # transposes a 1d vector\n",
    "    return np.expand_dims(series.to_numpy(), axis=0).T\n",
    "\n",
    "# naive RMSE\n",
    "preds = main_model.predict([get_array(test_data['User_ID']), get_array(test_data['Game_ID'])])\n",
    "mean_squared_error(preds, test_data['Userscore'], squared=False)"
   ]
  },
  {
   "cell_type": "code",
   "execution_count": 13,
   "metadata": {},
   "outputs": [
    {
     "data": {
      "text/plain": [
       "(array([  11.,  289.,  302.,  755., 1223., 2716., 4998., 9521., 9210.,\n",
       "        2159.,   37.]),\n",
       " array([ 0.96768385,  1.7935175 ,  2.619351  ,  3.4451845 ,  4.271018  ,\n",
       "         5.096852  ,  5.922685  ,  6.748519  ,  7.5743523 ,  8.400186  ,\n",
       "         9.22602   , 10.051853  ], dtype=float32),\n",
       " <BarContainer object of 11 artists>)"
      ]
     },
     "execution_count": 13,
     "metadata": {},
     "output_type": "execute_result"
    },
    {
     "data": {
      "image/png": "[encoded data removed]",
      "text/plain": [
       "<Figure size 432x288 with 1 Axes>"
      ]
     },
     "metadata": {
      "needs_background": "light"
     },
     "output_type": "display_data"
    }
   ],
   "source": [
    "plt.hist(preds, bins=11)"
   ]
  },
  {
   "cell_type": "code",
   "execution_count": 14,
   "metadata": {},
   "outputs": [
    {
     "data": {
      "text/plain": [
       "array([ 0.96768385,  1.2410874 ,  1.2563071 , ...,  9.759743  ,\n",
       "        9.792276  , 10.051853  ], dtype=float32)"
      ]
     },
     "execution_count": 14,
     "metadata": {},
     "output_type": "execute_result"
    }
   ],
   "source": [
    "np.sort(np.ravel(preds))"
   ]
  },
  {
   "cell_type": "code",
   "execution_count": 15,
   "metadata": {},
   "outputs": [
    {
     "data": {
      "text/plain": [
       "1.9432467281280172"
      ]
     },
     "execution_count": 15,
     "metadata": {},
     "output_type": "execute_result"
    }
   ],
   "source": [
    "preds_lol = main_model.predict([get_array(train_data['User_ID']), get_array(train_data['Game_ID'])])\n",
    "mean_squared_error(preds_lol, train_data['Userscore'], squared=False)"
   ]
  },
  {
   "cell_type": "code",
   "execution_count": 41,
   "metadata": {},
   "outputs": [
    {
     "data": {
      "text/plain": [
       "[<tensorflow.python.keras.engine.input_layer.InputLayer at 0x7f47d75013a0>,\n",
       " <tensorflow.python.keras.engine.input_layer.InputLayer at 0x7f47d7594370>,\n",
       " <tensorflow.python.keras.layers.embeddings.Embedding at 0x7f47d7501850>,\n",
       " <tensorflow.python.keras.layers.embeddings.Embedding at 0x7f47d74f48e0>,\n",
       " <tensorflow.python.keras.layers.core.Flatten at 0x7f47d555e5e0>,\n",
       " <tensorflow.python.keras.layers.core.Flatten at 0x7f47d74f4d30>,\n",
       " <tensorflow.python.keras.layers.core.Dropout at 0x7f47d555e880>,\n",
       " <tensorflow.python.keras.layers.core.Dropout at 0x7f47d74f4d00>,\n",
       " <tensorflow.python.keras.layers.merge.Concatenate at 0x7f47d555ec70>,\n",
       " <tensorflow.python.keras.layers.core.Dense at 0x7f47d1dbddf0>,\n",
       " <tensorflow.python.keras.layers.core.Dense at 0x7f47d1a03bb0>]"
      ]
     },
     "execution_count": 41,
     "metadata": {},
     "output_type": "execute_result"
    }
   ],
   "source": [
    "main_model.layers"
   ]
  },
  {
   "cell_type": "code",
   "execution_count": 44,
   "metadata": {},
   "outputs": [
    {
     "name": "stdout",
     "output_type": "stream",
     "text": [
      "(5001, 20)\n",
      "(22073, 20)\n"
     ]
    }
   ],
   "source": [
    "print(main_model.layers[2].get_weights()[0].shape)\n",
    "print(main_model.layers[3].get_weights()[0].shape)"
   ]
  },
  {
   "cell_type": "code",
   "execution_count": 52,
   "metadata": {},
   "outputs": [
    {
     "name": "stdout",
     "output_type": "stream",
     "text": [
      "3287\n",
      "22072\n"
     ]
    }
   ],
   "source": [
    "print(len(np.unique(all_data[\"Game_ID\"]))) # huh \n",
    "print(len(np.unique(all_data[\"User_ID\"])))"
   ]
  },
  {
   "cell_type": "code",
   "execution_count": 53,
   "metadata": {},
   "outputs": [],
   "source": [
    "w1 = main_model.layers[2].get_weights()[0]\n",
    "w2 = main_model.layers[3].get_weights()[0]"
   ]
  },
  {
   "cell_type": "code",
   "execution_count": 72,
   "metadata": {},
   "outputs": [
    {
     "data": {
      "text/plain": [
       "0.040023006"
      ]
     },
     "execution_count": 72,
     "metadata": {},
     "output_type": "execute_result"
    }
   ],
   "source": [
    "np.dot(w1[7], w2[6])"
   ]
  },
  {
   "cell_type": "code",
   "execution_count": 33,
   "metadata": {},
   "outputs": [
    {
     "data": {
      "text/plain": [
       "array([    5,    12,    14, ..., 22059, 22066, 22070])"
      ]
     },
     "execution_count": 33,
     "metadata": {},
     "output_type": "execute_result"
    }
   ],
   "source": [
    "np.sort(np.unique(test_data[\"User_ID\"]))"
   ]
  },
  {
   "cell_type": "code",
   "execution_count": 34,
   "metadata": {},
   "outputs": [],
   "source": [
    "user_data = test_data[test_data[\"User_ID\"] == 5]"
   ]
  },
  {
   "cell_type": "code",
   "execution_count": 39,
   "metadata": {},
   "outputs": [
    {
     "data": {
      "text/html": [
       "<div>\n",
       "<style scoped>\n",
       "    .dataframe tbody tr th:only-of-type {\n",
       "        vertical-align: middle;\n",
       "    }\n",
       "\n",
       "    .dataframe tbody tr th {\n",
       "        vertical-align: top;\n",
       "    }\n",
       "\n",
       "    .dataframe thead th {\n",
       "        text-align: right;\n",
       "    }\n",
       "</style>\n",
       "<table border=\"1\" class=\"dataframe\">\n",
       "  <thead>\n",
       "    <tr style=\"text-align: right;\">\n",
       "      <th></th>\n",
       "      <th>Userscore</th>\n",
       "      <th>Username</th>\n",
       "      <th>Game_ID</th>\n",
       "      <th>User_ID</th>\n",
       "    </tr>\n",
       "  </thead>\n",
       "  <tbody>\n",
       "    <tr>\n",
       "      <th>22709</th>\n",
       "      <td>9</td>\n",
       "      <td>0235</td>\n",
       "      <td>71</td>\n",
       "      <td>5</td>\n",
       "    </tr>\n",
       "  </tbody>\n",
       "</table>\n",
       "</div>"
      ],
      "text/plain": [
       "       Userscore Username  Game_ID  User_ID\n",
       "22709          9     0235       71        5"
      ]
     },
     "execution_count": 39,
     "metadata": {},
     "output_type": "execute_result"
    }
   ],
   "source": [
    "user_data.iloc[0:1]"
   ]
  },
  {
   "cell_type": "code",
   "execution_count": 40,
   "metadata": {},
   "outputs": [
    {
     "data": {
      "text/plain": [
       "7.4397216"
      ]
     },
     "execution_count": 40,
     "metadata": {},
     "output_type": "execute_result"
    }
   ],
   "source": [
    "pred_input = [np.array([5]), np.array([71])]\n",
    "main_model.predict(pred_input)[0][0]"
   ]
  },
  {
   "cell_type": "code",
   "execution_count": 20,
   "metadata": {},
   "outputs": [],
   "source": []
  },
  {
   "cell_type": "code",
   "execution_count": 20,
   "metadata": {},
   "outputs": [
    {
     "data": {
      "text/plain": [
       "(array([  994.,  1039.,  1647.,  2536.,  4170.,  7153., 20170., 40616.,\n",
       "        26018.,  1515.]),\n",
       " array([ 0.       ,  1.1151795,  2.230359 ,  3.3455386,  4.460718 ,\n",
       "         5.5758977,  6.691077 ,  7.806257 ,  8.921436 , 10.036615 ,\n",
       "        11.151795 ], dtype=float32),\n",
       " <BarContainer object of 10 artists>)"
      ]
     },
     "execution_count": 20,
     "metadata": {},
     "output_type": "execute_result"
    },
    {
     "data": {
      "image/png": "[encoded data removed]",
      "text/plain": [
       "<Figure size 432x288 with 1 Axes>"
      ]
     },
     "metadata": {
      "needs_background": "light"
     },
     "output_type": "display_data"
    }
   ],
   "source": [
    "plt.hist(preds_lol)"
   ]
  },
  {
   "cell_type": "code",
   "execution_count": 21,
   "metadata": {},
   "outputs": [
    {
     "data": {
      "text/plain": [
       "(array([ 4538.,  1774.,  1691.,  2199.,  2795.,  4011.,  5295.,  8130.,\n",
       "        14494., 60931.]),\n",
       " array([ 0.,  1.,  2.,  3.,  4.,  5.,  6.,  7.,  8.,  9., 10.]),\n",
       " <BarContainer object of 10 artists>)"
      ]
     },
     "execution_count": 21,
     "metadata": {},
     "output_type": "execute_result"
    },
    {
     "data": {
      "image/png": "[encoded data removed]",
      "text/plain": [
       "<Figure size 432x288 with 1 Axes>"
      ]
     },
     "metadata": {
      "needs_background": "light"
     },
     "output_type": "display_data"
    }
   ],
   "source": [
    "plt.hist(train_data['Userscore'])"
   ]
  },
  {
   "cell_type": "code",
   "execution_count": 55,
   "metadata": {},
   "outputs": [],
   "source": [
    "def predict_custom(data):\n",
    "    preds = []\n",
    "    actual = []\n",
    "    main_preds = []\n",
    "    times = []\n",
    "    set_seed(seed)\n",
    "    \n",
    "    start = timer()\n",
    "    user_counter = 0\n",
    "    \n",
    "    store_weights = main_model.get_weights()\n",
    "    \n",
    "    for user_id in np.sort(np.unique(data[\"User_ID\"])):\n",
    "        # ASSUMPTION: user is completely unique and has not been trained on,\n",
    "        # thus we can use the global var user_game_idx\n",
    "\n",
    "        user_data = data[data[\"User_ID\"] == user_id]\n",
    "\n",
    "        user_start = timer()\n",
    "        for i, game_id in enumerate(user_data[\"Game_ID\"]):\n",
    "            user_data_drop = user_data.drop(user_data.index[[i]])\n",
    "            \n",
    "            pred_input = [np.array([user_id]), np.array([game_id])]\n",
    "            main_pred = main_model.predict(pred_input)[0][0]\n",
    "\n",
    "            #model_copy = clone_model(main_model)\n",
    "            main_model.fit([user_data_drop['User_ID'], user_data_drop['Game_ID']],\n",
    "                            user_data_drop['Userscore'],\n",
    "                            batch_size = 256,\n",
    "                            validation_split = 0.005,\n",
    "                            epochs = n_cycles,\n",
    "                            verbose = 0)\n",
    "\n",
    "            pred = main_model.predict(pred_input)[0][0]\n",
    "            actual_user_score = user_data.iloc[i][\"Userscore\"]\n",
    "            \n",
    "            preds.append(pred)\n",
    "            main_preds.append(main_pred)\n",
    "            actual.append(actual_user_score)\n",
    "            #print(user_data.iloc[i])\n",
    "            #print(user_id, game_id)\n",
    "            \n",
    "            # reset weights\n",
    "            main_model.set_weights(store_weights)\n",
    "            \n",
    "            #return pred, user_id, game_id\n",
    "            \n",
    "            #print(user_data_drop)\n",
    "            #break\n",
    "        #break\n",
    "        user_end = timer()\n",
    "        times.append(user_end - user_start)\n",
    "        #print(user_end - user_start)\n",
    "        user_counter += 1\n",
    "        if (user_counter % 30) == 0:\n",
    "            print(user_counter, \"time taken so far:\", np.sum(times))\n",
    "        #break # after 1st \n",
    "        #if user_counter > 5:\n",
    "        #    break\n",
    "\n",
    "    end = timer()\n",
    "    print(\"global time:\", end - start)\n",
    "\n",
    "    preds = np.array(preds)\n",
    "    actual = np.array(actual)\n",
    "    main_preds = np.array(main_preds)\n",
    "\n",
    "    return preds, actual, main_preds"
   ]
  },
  {
   "cell_type": "code",
   "execution_count": null,
   "metadata": {},
   "outputs": [
    {
     "name": "stdout",
     "output_type": "stream",
     "text": [
      "30 time taken so far: 39.07210023800508\n",
      "60 time taken so far: 69.6352993400069\n",
      "90 time taken so far: 99.20555910400799\n",
      "120 time taken so far: 141.336215190011\n",
      "150 time taken so far: 171.36337227201875\n",
      "180 time taken so far: 206.90181130801284\n",
      "210 time taken so far: 243.71598563002772\n",
      "240 time taken so far: 271.44021226803306\n",
      "270 time taken so far: 314.5536080720376\n",
      "300 time taken so far: 358.0297708860271\n",
      "330 time taken so far: 387.9144600990294\n",
      "360 time taken so far: 419.2871545030357\n",
      "390 time taken so far: 447.2716703850383\n",
      "420 time taken so far: 532.4371023420317\n",
      "450 time taken so far: 564.7723518340281\n",
      "480 time taken so far: 588.3916396310196\n",
      "510 time taken so far: 639.8195150860156\n",
      "540 time taken so far: 667.9030662620171\n",
      "570 time taken so far: 704.0798950560238\n",
      "600 time taken so far: 733.0858641310297\n",
      "630 time taken so far: 768.4643261360397\n",
      "660 time taken so far: 802.4812675220528\n",
      "690 time taken so far: 843.6780532170487\n",
      "720 time taken so far: 895.118186776057\n",
      "750 time taken so far: 920.9305816780652\n",
      "780 time taken so far: 957.5612872590682\n",
      "810 time taken so far: 998.300166148063\n",
      "840 time taken so far: 1024.407463149062\n",
      "870 time taken so far: 1053.080757671054\n",
      "900 time taken so far: 1081.646522150062\n",
      "930 time taken so far: 1110.5872284140642\n",
      "960 time taken so far: 1141.5617934840775\n",
      "990 time taken so far: 1168.5322849550867\n",
      "1020 time taken so far: 1201.6339193571002\n",
      "1050 time taken so far: 1236.494971901091\n",
      "1080 time taken so far: 1283.8553016760852\n",
      "1110 time taken so far: 1312.841690020079\n",
      "1140 time taken so far: 1337.6668587540807\n",
      "1170 time taken so far: 1368.4611622820667\n",
      "1200 time taken so far: 1389.312711884064\n",
      "1230 time taken so far: 1445.1155847420632\n",
      "1260 time taken so far: 1472.2305681570651\n",
      "1290 time taken so far: 1510.7431978600725\n",
      "1320 time taken so far: 1550.1685505090609\n",
      "1350 time taken so far: 1589.6678264820584\n",
      "1380 time taken so far: 1627.7623636310818\n",
      "1410 time taken so far: 1656.4647459190892\n",
      "1440 time taken so far: 1717.6544694770892\n",
      "1470 time taken so far: 1746.6013793230886\n",
      "1500 time taken so far: 1792.3458385600825\n",
      "1530 time taken so far: 1837.7016971280864\n",
      "1560 time taken so far: 1861.9169233560751\n",
      "1590 time taken so far: 1898.6761252610959\n",
      "1620 time taken so far: 1928.0080742880891\n",
      "1650 time taken so far: 1949.1122265471022\n",
      "1680 time taken so far: 1975.162857341089\n",
      "1710 time taken so far: 2002.8184630230899\n",
      "1740 time taken so far: 2029.0035319640883\n",
      "1770 time taken so far: 2055.7290042050954\n",
      "1800 time taken so far: 2097.2634247320893\n",
      "1830 time taken so far: 2151.1670203470894\n",
      "1860 time taken so far: 2179.7402470661\n",
      "1890 time taken so far: 2224.4325520321\n",
      "1920 time taken so far: 2253.0977168260943\n",
      "1950 time taken so far: 2276.8824107410946\n",
      "1980 time taken so far: 2314.5713039370894\n",
      "2010 time taken so far: 2364.9905381550816\n",
      "2040 time taken so far: 2394.181699614084\n",
      "2070 time taken so far: 2425.4359391910693\n",
      "2100 time taken so far: 2450.1134146590703\n",
      "2130 time taken so far: 2481.1793270860726\n",
      "2160 time taken so far: 2514.8508736630683\n",
      "2190 time taken so far: 2547.831226644077\n",
      "2220 time taken so far: 2572.1128436970794\n",
      "2250 time taken so far: 2599.9029606190816\n",
      "2280 time taken so far: 2632.1019724641046\n",
      "2310 time taken so far: 2664.8841724811064\n",
      "2340 time taken so far: 2689.5853927191056\n",
      "2370 time taken so far: 2716.3721608141095\n",
      "2400 time taken so far: 2762.676293448101\n",
      "2430 time taken so far: 2807.6058075671026\n",
      "2460 time taken so far: 2833.173839927087\n",
      "2490 time taken so far: 2868.216845509087\n",
      "2520 time taken so far: 2915.484511411094\n",
      "2550 time taken so far: 2945.9404211880938\n",
      "2580 time taken so far: 2987.2097915120903\n",
      "2610 time taken so far: 3016.5885629020886\n",
      "2640 time taken so far: 3048.7228884190845\n",
      "2670 time taken so far: 3087.0753645130826\n",
      "2700 time taken so far: 3159.8765042160812\n",
      "2730 time taken so far: 3208.9398421180813\n",
      "2760 time taken so far: 3249.790043514091\n",
      "2790 time taken so far: 3284.046348852091\n",
      "2820 time taken so far: 3310.8487481731063\n",
      "2850 time taken so far: 3341.7354487320918\n",
      "2880 time taken so far: 3383.93106898509\n",
      "2910 time taken so far: 3411.416606667095\n",
      "2940 time taken so far: 3454.1904112520933\n",
      "2970 time taken so far: 3481.244184189087\n",
      "3000 time taken so far: 3522.5254926530833\n",
      "3030 time taken so far: 3555.1104018860933\n",
      "3060 time taken so far: 3581.650370514086\n",
      "3090 time taken so far: 3631.713341317085\n",
      "3120 time taken so far: 3658.728699529096\n",
      "3150 time taken so far: 3685.398368112099\n",
      "3180 time taken so far: 3711.7531578990893\n",
      "3210 time taken so far: 3740.1705978150894\n",
      "3240 time taken so far: 3777.0596246121095\n",
      "3270 time taken so far: 3803.664384700107\n",
      "3300 time taken so far: 3844.8356355411124\n",
      "3330 time taken so far: 3887.8884243691064\n",
      "3360 time taken so far: 3919.4857192591044\n",
      "3390 time taken so far: 3946.77919720711\n",
      "3420 time taken so far: 3976.9741209591157\n",
      "3450 time taken so far: 4048.0635100400905\n",
      "3480 time taken so far: 4074.4132591990965\n",
      "3510 time taken so far: 4102.588779000107\n",
      "3540 time taken so far: 4139.538507113117\n",
      "3570 time taken so far: 4179.292399188125\n",
      "3600 time taken so far: 4214.423780895129\n",
      "3630 time taken so far: 4248.8992429301325\n",
      "3660 time taken so far: 4281.052367245138\n",
      "3690 time taken so far: 4309.780851664138\n",
      "3720 time taken so far: 4339.588173046148\n",
      "3750 time taken so far: 4369.341355986155\n",
      "3780 time taken so far: 4401.4042955141485\n"
     ]
    }
   ],
   "source": [
    "preds, actual, main_preds = predict_custom(test_data)"
   ]
  },
  {
   "cell_type": "code",
   "execution_count": 53,
   "metadata": {},
   "outputs": [
    {
     "data": {
      "text/plain": [
       "2.3223912942567764"
      ]
     },
     "execution_count": 53,
     "metadata": {},
     "output_type": "execute_result"
    }
   ],
   "source": [
    "mean_squared_error(preds, actual, squared=False)"
   ]
  },
  {
   "cell_type": "code",
   "execution_count": 54,
   "metadata": {},
   "outputs": [
    {
     "data": {
      "text/plain": [
       "2.5466202345593274"
      ]
     },
     "execution_count": 54,
     "metadata": {},
     "output_type": "execute_result"
    }
   ],
   "source": [
    "mean_squared_error(main_preds, actual, squared=False)"
   ]
  }
 ],
 "metadata": {
  "kernelspec": {
   "display_name": "Python 3",
   "language": "python",
   "name": "python3"
  },
  "language_info": {
   "codemirror_mode": {
    "name": "ipython",
    "version": 3
   },
   "file_extension": ".py",
   "mimetype": "text/x-python",
   "name": "python",
   "nbconvert_exporter": "python",
   "pygments_lexer": "ipython3",
   "version": "3.8.5"
  }
 },
 "nbformat": 4,
 "nbformat_minor": 4
}
